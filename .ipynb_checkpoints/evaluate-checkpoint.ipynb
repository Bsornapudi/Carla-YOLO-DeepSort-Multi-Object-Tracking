{
 "cells": [
  {
   "cell_type": "code",
   "execution_count": 1,
   "id": "728eff9d-73f5-4090-9859-e21560f71201",
   "metadata": {},
   "outputs": [
    {
     "ename": "ImportError",
     "evalue": "cannot import name 'MOTEvaluation' from 'pymot' (unknown location)",
     "output_type": "error",
     "traceback": [
      "\u001b[1;31m---------------------------------------------------------------------------\u001b[0m",
      "\u001b[1;31mImportError\u001b[0m                               Traceback (most recent call last)",
      "Cell \u001b[1;32mIn[1], line 2\u001b[0m\n\u001b[0;32m      1\u001b[0m \u001b[38;5;28;01mimport\u001b[39;00m \u001b[38;5;21;01mjson\u001b[39;00m\n\u001b[1;32m----> 2\u001b[0m \u001b[38;5;28;01mfrom\u001b[39;00m \u001b[38;5;21;01mpymot\u001b[39;00m \u001b[38;5;28;01mimport\u001b[39;00m MOTEvaluation\n\u001b[0;32m      4\u001b[0m \u001b[38;5;66;03m# Load ground truth data from a JSON file\u001b[39;00m\n\u001b[0;32m      5\u001b[0m \u001b[38;5;28;01mwith\u001b[39;00m \u001b[38;5;28mopen\u001b[39m(\u001b[38;5;124m'\u001b[39m\u001b[38;5;124mgt_output.json\u001b[39m\u001b[38;5;124m'\u001b[39m, \u001b[38;5;124m'\u001b[39m\u001b[38;5;124mr\u001b[39m\u001b[38;5;124m'\u001b[39m) \u001b[38;5;28;01mas\u001b[39;00m f:\n",
      "\u001b[1;31mImportError\u001b[0m: cannot import name 'MOTEvaluation' from 'pymot' (unknown location)"
     ]
    }
   ],
   "source": [
    "import json\n",
    "from pymot.pymot import MOTEvaluation\n",
    "\n",
    "# Load ground truth data from a JSON file\n",
    "with open('gt_output.json', 'r') as f:\n",
    "    groundtruth = json.load(f)\n",
    "\n",
    "# Load hypotheses data from a JSON file\n",
    "with open('yolo_output.json', 'r') as f:\n",
    "    hypotheses = json.load(f)\n",
    "\n",
    "# Create an instance of the MOTEvaluation class with the loaded data\n",
    "evaluator = MOTEvaluation(groundtruth, hypotheses)\n",
    "\n",
    "# Calculate metrics\n",
    "mota = evaluator.getMOTA()\n",
    "motp = evaluator.getMOTP()\n",
    "relative_statistics = evaluator.getRelativeStatistics()\n",
    "absolute_statistics = evaluator.getAbsoluteStatistics()"
   ]
  },
  {
   "cell_type": "code",
   "execution_count": null,
   "id": "2984ffb7-2511-4259-a8c0-a5998ceb5e39",
   "metadata": {},
   "outputs": [],
   "source": []
  }
 ],
 "metadata": {
  "kernelspec": {
   "display_name": "Python 3 (ipykernel)",
   "language": "python",
   "name": "python3"
  },
  "language_info": {
   "codemirror_mode": {
    "name": "ipython",
    "version": 3
   },
   "file_extension": ".py",
   "mimetype": "text/x-python",
   "name": "python",
   "nbconvert_exporter": "python",
   "pygments_lexer": "ipython3",
   "version": "3.8.17"
  }
 },
 "nbformat": 4,
 "nbformat_minor": 5
}
