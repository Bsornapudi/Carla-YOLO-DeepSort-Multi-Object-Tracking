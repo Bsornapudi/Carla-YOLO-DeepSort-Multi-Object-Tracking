{
 "cells": [
  {
   "cell_type": "code",
   "execution_count": 1,
   "id": "728eff9d-73f5-4090-9859-e21560f71201",
   "metadata": {},
   "outputs": [
    {
     "name": "stderr",
     "output_type": "stream",
     "text": [
      "Warning No ground truth. MOTA calculation not possible\n",
      "Warning No correspondences found. MOTP calculation not possible\n",
      "Warning No ground truth. MOTA calculation not possible\n",
      "Warning No correspondences found. MOTP calculation not possible\n"
     ]
    },
    {
     "ename": "ZeroDivisionError",
     "evalue": "float division by zero",
     "output_type": "error",
     "traceback": [
      "\u001b[1;31m---------------------------------------------------------------------------\u001b[0m",
      "\u001b[1;31mZeroDivisionError\u001b[0m                         Traceback (most recent call last)",
      "Cell \u001b[1;32mIn[1], line 21\u001b[0m\n\u001b[0;32m     19\u001b[0m mota \u001b[38;5;241m=\u001b[39m evaluator\u001b[38;5;241m.\u001b[39mgetMOTA()\n\u001b[0;32m     20\u001b[0m motp \u001b[38;5;241m=\u001b[39m evaluator\u001b[38;5;241m.\u001b[39mgetMOTP()\n\u001b[1;32m---> 21\u001b[0m relative_statistics \u001b[38;5;241m=\u001b[39m \u001b[43mevaluator\u001b[49m\u001b[38;5;241;43m.\u001b[39;49m\u001b[43mgetRelativeStatistics\u001b[49m\u001b[43m(\u001b[49m\u001b[43m)\u001b[49m\n\u001b[0;32m     22\u001b[0m \u001b[38;5;66;03m#absolute_statistics = evaluator.getAbsoluteStatistics()\u001b[39;00m\n",
      "File \u001b[1;32mD:\\project_self_driving_vehicle\\gitcarla\\Carla-YOLO-DeepSort-Multi-Object-Tracking\\pymot\\pymot.py:464\u001b[0m, in \u001b[0;36mMOTEvaluation.getRelativeStatistics\u001b[1;34m(self)\u001b[0m\n\u001b[0;32m    458\u001b[0m covered_ground_truths \u001b[38;5;241m=\u001b[39m \u001b[38;5;28mself\u001b[39m\u001b[38;5;241m.\u001b[39mgroundtruth_ids_ \u001b[38;5;241m&\u001b[39m \u001b[38;5;28mset\u001b[39m(\u001b[38;5;28mself\u001b[39m\u001b[38;5;241m.\u001b[39mgt_map_\u001b[38;5;241m.\u001b[39mkeys())\n\u001b[0;32m    459\u001b[0m lonely_hypotheses \u001b[38;5;241m=\u001b[39m \u001b[38;5;28mself\u001b[39m\u001b[38;5;241m.\u001b[39mhypothesis_ids_ \u001b[38;5;241m-\u001b[39m \u001b[38;5;28mset\u001b[39m(\u001b[38;5;28mself\u001b[39m\u001b[38;5;241m.\u001b[39mhypo_map_\u001b[38;5;241m.\u001b[39mkeys())\n\u001b[0;32m    461\u001b[0m \u001b[38;5;28;01mreturn\u001b[39;00m {\n\u001b[0;32m    462\u001b[0m     \u001b[38;5;124m\"\u001b[39m\u001b[38;5;124mMOTA\u001b[39m\u001b[38;5;124m\"\u001b[39m:                 \u001b[38;5;28mself\u001b[39m\u001b[38;5;241m.\u001b[39mgetMOTA(),\n\u001b[0;32m    463\u001b[0m     \u001b[38;5;124m\"\u001b[39m\u001b[38;5;124mMOTP\u001b[39m\u001b[38;5;124m\"\u001b[39m:                 \u001b[38;5;28mself\u001b[39m\u001b[38;5;241m.\u001b[39mgetMOTP(),\n\u001b[1;32m--> 464\u001b[0m     \u001b[38;5;124m\"\u001b[39m\u001b[38;5;124mmiss rate\u001b[39m\u001b[38;5;124m\"\u001b[39m:            \u001b[38;5;28;43mfloat\u001b[39;49m\u001b[43m(\u001b[49m\u001b[38;5;28;43mself\u001b[39;49m\u001b[38;5;241;43m.\u001b[39;49m\u001b[43mmisses_\u001b[49m\u001b[43m)\u001b[49m\u001b[43m \u001b[49m\u001b[38;5;241;43m/\u001b[39;49m\u001b[43m \u001b[49m\u001b[43mgt\u001b[49m,\n\u001b[0;32m    465\u001b[0m     \u001b[38;5;124m\"\u001b[39m\u001b[38;5;124mfalse positive rate\u001b[39m\u001b[38;5;124m\"\u001b[39m:  \u001b[38;5;28mfloat\u001b[39m(\u001b[38;5;28mself\u001b[39m\u001b[38;5;241m.\u001b[39mfalse_positives_) \u001b[38;5;241m/\u001b[39m gt,\n\u001b[0;32m    466\u001b[0m     \u001b[38;5;124m\"\u001b[39m\u001b[38;5;124mmismatch rate\u001b[39m\u001b[38;5;124m\"\u001b[39m:        \u001b[38;5;28mfloat\u001b[39m(\u001b[38;5;28mself\u001b[39m\u001b[38;5;241m.\u001b[39mmismatches_) \u001b[38;5;241m/\u001b[39m gt,\n\u001b[0;32m    467\u001b[0m     \u001b[38;5;124m\"\u001b[39m\u001b[38;5;124mrecoverable mismatch rate\u001b[39m\u001b[38;5;124m\"\u001b[39m:   \u001b[38;5;28mfloat\u001b[39m(\u001b[38;5;28mself\u001b[39m\u001b[38;5;241m.\u001b[39mrecoverable_mismatches_) \u001b[38;5;241m/\u001b[39m gt,\n\u001b[0;32m    468\u001b[0m     \u001b[38;5;124m\"\u001b[39m\u001b[38;5;124mnon-recoverable mismatch rate\u001b[39m\u001b[38;5;124m\"\u001b[39m:    \u001b[38;5;28mfloat\u001b[39m(\u001b[38;5;28mself\u001b[39m\u001b[38;5;241m.\u001b[39mnon_recoverable_mismatches_) \u001b[38;5;241m/\u001b[39m gt,\n\u001b[0;32m    469\u001b[0m     \u001b[38;5;124m\"\u001b[39m\u001b[38;5;124mtrack precision\u001b[39m\u001b[38;5;124m\"\u001b[39m:      \u001b[38;5;28mfloat\u001b[39m(\u001b[38;5;28mlen\u001b[39m(\u001b[38;5;28mself\u001b[39m\u001b[38;5;241m.\u001b[39mhypo_map_\u001b[38;5;241m.\u001b[39mkeys())) \u001b[38;5;241m/\u001b[39m \u001b[38;5;28mlen\u001b[39m(\u001b[38;5;28mself\u001b[39m\u001b[38;5;241m.\u001b[39mhypothesis_ids_) \u001b[38;5;28;01mif\u001b[39;00m \u001b[38;5;28mlen\u001b[39m(\u001b[38;5;28mself\u001b[39m\u001b[38;5;241m.\u001b[39mhypothesis_ids_) \u001b[38;5;241m!=\u001b[39m \u001b[38;5;241m0\u001b[39m \u001b[38;5;28;01melse\u001b[39;00m \u001b[38;5;241m0.0\u001b[39m,\n\u001b[0;32m    470\u001b[0m     \u001b[38;5;124m\"\u001b[39m\u001b[38;5;124mtrack recall\u001b[39m\u001b[38;5;124m\"\u001b[39m:         \u001b[38;5;28mfloat\u001b[39m(\u001b[38;5;28mlen\u001b[39m(\u001b[38;5;28mself\u001b[39m\u001b[38;5;241m.\u001b[39mgt_map_\u001b[38;5;241m.\u001b[39mkeys()))  \u001b[38;5;241m/\u001b[39m \u001b[38;5;28mlen\u001b[39m(\u001b[38;5;28mself\u001b[39m\u001b[38;5;241m.\u001b[39mgroundtruth_ids_) \u001b[38;5;28;01mif\u001b[39;00m \u001b[38;5;28mlen\u001b[39m(\u001b[38;5;28mself\u001b[39m\u001b[38;5;241m.\u001b[39mgroundtruth_ids_) \u001b[38;5;241m!=\u001b[39m \u001b[38;5;241m0\u001b[39m \u001b[38;5;28;01melse\u001b[39;00m \u001b[38;5;241m0.0\u001b[39m,\n\u001b[0;32m    471\u001b[0m }\n",
      "\u001b[1;31mZeroDivisionError\u001b[0m: float division by zero"
     ]
    }
   ],
   "source": [
    "import json\n",
    "from pymot.pymot import MOTEvaluation\n",
    "\n",
    "# Load ground truth data from a JSON file\n",
    "with open('gt.json', 'r') as f:\n",
    "    groundtruth = json.load(f)\n",
    "    groundtruth=groundtruth[0]\n",
    "\n",
    "# Load hypotheses data from a JSON file\n",
    "with open('yolo.json', 'r') as f:\n",
    "    hypotheses = json.load(f)\n",
    "    hypotheses=hypotheses[0]\n",
    "    \n",
    "overlap_threshold = 0.5\n",
    "# Create an instance of the MOTEvaluation class with the loaded data\n",
    "evaluator = MOTEvaluation(groundtruth, hypotheses,overlap_threshold)\n",
    "\n",
    "# Calculate metrics\n",
    "mota = evaluator.getMOTA()\n",
    "motp = evaluator.getMOTP()\n",
    "#relative_statistics = evaluator.getRelativeStatistics()\n",
    "#absolute_statistics = evaluator.getAbsoluteStatistics()"
   ]
  },
  {
   "cell_type": "code",
   "execution_count": null,
   "id": "2984ffb7-2511-4259-a8c0-a5998ceb5e39",
   "metadata": {},
   "outputs": [],
   "source": []
  }
 ],
 "metadata": {
  "kernelspec": {
   "display_name": "Python 3 (ipykernel)",
   "language": "python",
   "name": "python3"
  },
  "language_info": {
   "codemirror_mode": {
    "name": "ipython",
    "version": 3
   },
   "file_extension": ".py",
   "mimetype": "text/x-python",
   "name": "python",
   "nbconvert_exporter": "python",
   "pygments_lexer": "ipython3",
   "version": "3.8.17"
  }
 },
 "nbformat": 4,
 "nbformat_minor": 5
}
