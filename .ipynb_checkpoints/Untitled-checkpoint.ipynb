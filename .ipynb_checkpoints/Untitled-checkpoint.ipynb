{
 "cells": [
  {
   "cell_type": "code",
   "execution_count": 1,
   "id": "b1aa3e53-2648-4ff4-8415-5267b48e7763",
   "metadata": {},
   "outputs": [],
   "source": [
    "from ultralytics import YOLO"
   ]
  },
  {
   "cell_type": "code",
   "execution_count": 2,
   "id": "69b6d560-59d9-472d-8185-4fc9eea42fa7",
   "metadata": {},
   "outputs": [
    {
     "name": "stdout",
     "output_type": "stream",
     "text": [
      "WARNING:tensorflow:From C:\\Users\\bhava\\AppData\\Local\\Temp\\ipykernel_1316\\2705421877.py:2: is_gpu_available (from tensorflow.python.framework.test_util) is deprecated and will be removed in a future version.\n",
      "Instructions for updating:\n",
      "Use `tf.config.list_physical_devices('GPU')` instead.\n",
      "False\n"
     ]
    }
   ],
   "source": [
    "import tensorflow as tf\n",
    "print(tf.test.is_gpu_available(cuda_only=False, min_cuda_compute_capability=None))"
   ]
  },
  {
   "cell_type": "code",
   "execution_count": 3,
   "id": "efd293e8-f3e8-451d-8d7f-6d90b15dd514",
   "metadata": {},
   "outputs": [
    {
     "name": "stdout",
     "output_type": "stream",
     "text": [
      "Requirement already satisfied: tensorflow in c:\\users\\bhava\\.conda\\envs\\carla-sim\\lib\\site-packages (2.13.0)\n",
      "Requirement already satisfied: tensorflow-intel==2.13.0 in c:\\users\\bhava\\.conda\\envs\\carla-sim\\lib\\site-packages (from tensorflow) (2.13.0)\n",
      "Requirement already satisfied: opt-einsum>=2.3.2 in c:\\users\\bhava\\.conda\\envs\\carla-sim\\lib\\site-packages (from tensorflow-intel==2.13.0->tensorflow) (3.3.0)\n",
      "Requirement already satisfied: packaging in c:\\users\\bhava\\.conda\\envs\\carla-sim\\lib\\site-packages (from tensorflow-intel==2.13.0->tensorflow) (23.1)\n",
      "Requirement already satisfied: tensorflow-estimator<2.14,>=2.13.0 in c:\\users\\bhava\\.conda\\envs\\carla-sim\\lib\\site-packages (from tensorflow-intel==2.13.0->tensorflow) (2.13.0)\n",
      "Requirement already satisfied: protobuf!=4.21.0,!=4.21.1,!=4.21.2,!=4.21.3,!=4.21.4,!=4.21.5,<5.0.0dev,>=3.20.3 in c:\\users\\bhava\\.conda\\envs\\carla-sim\\lib\\site-packages (from tensorflow-intel==2.13.0->tensorflow) (4.23.4)\n",
      "Requirement already satisfied: grpcio<2.0,>=1.24.3 in c:\\users\\bhava\\.conda\\envs\\carla-sim\\lib\\site-packages (from tensorflow-intel==2.13.0->tensorflow) (1.56.2)\n",
      "Requirement already satisfied: tensorflow-io-gcs-filesystem>=0.23.1 in c:\\users\\bhava\\.conda\\envs\\carla-sim\\lib\\site-packages (from tensorflow-intel==2.13.0->tensorflow) (0.31.0)\n",
      "Requirement already satisfied: termcolor>=1.1.0 in c:\\users\\bhava\\.conda\\envs\\carla-sim\\lib\\site-packages (from tensorflow-intel==2.13.0->tensorflow) (2.3.0)\n",
      "Requirement already satisfied: gast<=0.4.0,>=0.2.1 in c:\\users\\bhava\\.conda\\envs\\carla-sim\\lib\\site-packages (from tensorflow-intel==2.13.0->tensorflow) (0.4.0)\n",
      "Requirement already satisfied: astunparse>=1.6.0 in c:\\users\\bhava\\.conda\\envs\\carla-sim\\lib\\site-packages (from tensorflow-intel==2.13.0->tensorflow) (1.6.3)\n",
      "Requirement already satisfied: tensorboard<2.14,>=2.13 in c:\\users\\bhava\\.conda\\envs\\carla-sim\\lib\\site-packages (from tensorflow-intel==2.13.0->tensorflow) (2.13.0)\n",
      "Requirement already satisfied: libclang>=13.0.0 in c:\\users\\bhava\\.conda\\envs\\carla-sim\\lib\\site-packages (from tensorflow-intel==2.13.0->tensorflow) (16.0.6)\n",
      "Requirement already satisfied: flatbuffers>=23.1.21 in c:\\users\\bhava\\.conda\\envs\\carla-sim\\lib\\site-packages (from tensorflow-intel==2.13.0->tensorflow) (23.5.26)\n",
      "Requirement already satisfied: wrapt>=1.11.0 in c:\\users\\bhava\\.conda\\envs\\carla-sim\\lib\\site-packages (from tensorflow-intel==2.13.0->tensorflow) (1.15.0)\n",
      "Requirement already satisfied: setuptools in c:\\users\\bhava\\.conda\\envs\\carla-sim\\lib\\site-packages (from tensorflow-intel==2.13.0->tensorflow) (67.8.0)\n",
      "Requirement already satisfied: six>=1.12.0 in c:\\users\\bhava\\.conda\\envs\\carla-sim\\lib\\site-packages (from tensorflow-intel==2.13.0->tensorflow) (1.16.0)\n",
      "Requirement already satisfied: google-pasta>=0.1.1 in c:\\users\\bhava\\.conda\\envs\\carla-sim\\lib\\site-packages (from tensorflow-intel==2.13.0->tensorflow) (0.2.0)\n",
      "Requirement already satisfied: typing-extensions<4.6.0,>=3.6.6 in c:\\users\\bhava\\.conda\\envs\\carla-sim\\lib\\site-packages (from tensorflow-intel==2.13.0->tensorflow) (4.5.0)\n",
      "Requirement already satisfied: absl-py>=1.0.0 in c:\\users\\bhava\\.conda\\envs\\carla-sim\\lib\\site-packages (from tensorflow-intel==2.13.0->tensorflow) (1.4.0)\n",
      "Requirement already satisfied: h5py>=2.9.0 in c:\\users\\bhava\\.conda\\envs\\carla-sim\\lib\\site-packages (from tensorflow-intel==2.13.0->tensorflow) (3.9.0)\n",
      "Requirement already satisfied: numpy<=1.24.3,>=1.22 in c:\\users\\bhava\\.conda\\envs\\carla-sim\\lib\\site-packages (from tensorflow-intel==2.13.0->tensorflow) (1.24.3)\n",
      "Requirement already satisfied: keras<2.14,>=2.13.1 in c:\\users\\bhava\\.conda\\envs\\carla-sim\\lib\\site-packages (from tensorflow-intel==2.13.0->tensorflow) (2.13.1)\n",
      "Requirement already satisfied: wheel<1.0,>=0.23.0 in c:\\users\\bhava\\.conda\\envs\\carla-sim\\lib\\site-packages (from astunparse>=1.6.0->tensorflow-intel==2.13.0->tensorflow) (0.38.4)\n",
      "Requirement already satisfied: werkzeug>=1.0.1 in c:\\users\\bhava\\.conda\\envs\\carla-sim\\lib\\site-packages (from tensorboard<2.14,>=2.13->tensorflow-intel==2.13.0->tensorflow) (2.3.6)\n",
      "Requirement already satisfied: google-auth-oauthlib<1.1,>=0.5 in c:\\users\\bhava\\.conda\\envs\\carla-sim\\lib\\site-packages (from tensorboard<2.14,>=2.13->tensorflow-intel==2.13.0->tensorflow) (1.0.0)\n",
      "Requirement already satisfied: requests<3,>=2.21.0 in c:\\users\\bhava\\.conda\\envs\\carla-sim\\lib\\site-packages (from tensorboard<2.14,>=2.13->tensorflow-intel==2.13.0->tensorflow) (2.31.0)\n",
      "Requirement already satisfied: markdown>=2.6.8 in c:\\users\\bhava\\.conda\\envs\\carla-sim\\lib\\site-packages (from tensorboard<2.14,>=2.13->tensorflow-intel==2.13.0->tensorflow) (3.4.3)\n",
      "Requirement already satisfied: tensorboard-data-server<0.8.0,>=0.7.0 in c:\\users\\bhava\\.conda\\envs\\carla-sim\\lib\\site-packages (from tensorboard<2.14,>=2.13->tensorflow-intel==2.13.0->tensorflow) (0.7.1)\n",
      "Requirement already satisfied: google-auth<3,>=1.6.3 in c:\\users\\bhava\\.conda\\envs\\carla-sim\\lib\\site-packages (from tensorboard<2.14,>=2.13->tensorflow-intel==2.13.0->tensorflow) (2.22.0)\n",
      "Requirement already satisfied: pyasn1-modules>=0.2.1 in c:\\users\\bhava\\.conda\\envs\\carla-sim\\lib\\site-packages (from google-auth<3,>=1.6.3->tensorboard<2.14,>=2.13->tensorflow-intel==2.13.0->tensorflow) (0.3.0)\n",
      "Requirement already satisfied: rsa<5,>=3.1.4 in c:\\users\\bhava\\.conda\\envs\\carla-sim\\lib\\site-packages (from google-auth<3,>=1.6.3->tensorboard<2.14,>=2.13->tensorflow-intel==2.13.0->tensorflow) (4.9)\n",
      "Requirement already satisfied: urllib3<2.0 in c:\\users\\bhava\\.conda\\envs\\carla-sim\\lib\\site-packages (from google-auth<3,>=1.6.3->tensorboard<2.14,>=2.13->tensorflow-intel==2.13.0->tensorflow) (1.26.16)\n",
      "Requirement already satisfied: cachetools<6.0,>=2.0.0 in c:\\users\\bhava\\.conda\\envs\\carla-sim\\lib\\site-packages (from google-auth<3,>=1.6.3->tensorboard<2.14,>=2.13->tensorflow-intel==2.13.0->tensorflow) (5.3.1)\n",
      "Requirement already satisfied: requests-oauthlib>=0.7.0 in c:\\users\\bhava\\.conda\\envs\\carla-sim\\lib\\site-packages (from google-auth-oauthlib<1.1,>=0.5->tensorboard<2.14,>=2.13->tensorflow-intel==2.13.0->tensorflow) (1.3.1)\n",
      "Requirement already satisfied: importlib-metadata>=4.4 in c:\\users\\bhava\\.conda\\envs\\carla-sim\\lib\\site-packages (from markdown>=2.6.8->tensorboard<2.14,>=2.13->tensorflow-intel==2.13.0->tensorflow) (6.6.0)\n",
      "Requirement already satisfied: certifi>=2017.4.17 in c:\\users\\bhava\\.conda\\envs\\carla-sim\\lib\\site-packages (from requests<3,>=2.21.0->tensorboard<2.14,>=2.13->tensorflow-intel==2.13.0->tensorflow) (2023.5.7)\n",
      "Requirement already satisfied: charset-normalizer<4,>=2 in c:\\users\\bhava\\.conda\\envs\\carla-sim\\lib\\site-packages (from requests<3,>=2.21.0->tensorboard<2.14,>=2.13->tensorflow-intel==2.13.0->tensorflow) (3.1.0)\n",
      "Requirement already satisfied: idna<4,>=2.5 in c:\\users\\bhava\\.conda\\envs\\carla-sim\\lib\\site-packages (from requests<3,>=2.21.0->tensorboard<2.14,>=2.13->tensorflow-intel==2.13.0->tensorflow) (3.4)\n",
      "Requirement already satisfied: MarkupSafe>=2.1.1 in c:\\users\\bhava\\.conda\\envs\\carla-sim\\lib\\site-packages (from werkzeug>=1.0.1->tensorboard<2.14,>=2.13->tensorflow-intel==2.13.0->tensorflow) (2.1.3)\n",
      "Requirement already satisfied: zipp>=0.5 in c:\\users\\bhava\\.conda\\envs\\carla-sim\\lib\\site-packages (from importlib-metadata>=4.4->markdown>=2.6.8->tensorboard<2.14,>=2.13->tensorflow-intel==2.13.0->tensorflow) (3.15.0)\n",
      "Requirement already satisfied: pyasn1<0.6.0,>=0.4.6 in c:\\users\\bhava\\.conda\\envs\\carla-sim\\lib\\site-packages (from pyasn1-modules>=0.2.1->google-auth<3,>=1.6.3->tensorboard<2.14,>=2.13->tensorflow-intel==2.13.0->tensorflow) (0.5.0)\n",
      "Requirement already satisfied: oauthlib>=3.0.0 in c:\\users\\bhava\\.conda\\envs\\carla-sim\\lib\\site-packages (from requests-oauthlib>=0.7.0->google-auth-oauthlib<1.1,>=0.5->tensorboard<2.14,>=2.13->tensorflow-intel==2.13.0->tensorflow) (3.2.2)\n",
      "Note: you may need to restart the kernel to use updated packages.\n"
     ]
    },
    {
     "name": "stderr",
     "output_type": "stream",
     "text": [
      "WARNING: Ignoring invalid distribution -pencv-python-headless (c:\\users\\bhava\\.conda\\envs\\carla-sim\\lib\\site-packages)\n",
      "WARNING: Ignoring invalid distribution -orch (c:\\users\\bhava\\.conda\\envs\\carla-sim\\lib\\site-packages)\n",
      "WARNING: Ignoring invalid distribution -illow (c:\\users\\bhava\\.conda\\envs\\carla-sim\\lib\\site-packages)\n",
      "WARNING: Ignoring invalid distribution - (c:\\users\\bhava\\.conda\\envs\\carla-sim\\lib\\site-packages)\n",
      "WARNING: Ignoring invalid distribution -pencv-python-headless (c:\\users\\bhava\\.conda\\envs\\carla-sim\\lib\\site-packages)\n",
      "WARNING: Ignoring invalid distribution -orch (c:\\users\\bhava\\.conda\\envs\\carla-sim\\lib\\site-packages)\n",
      "WARNING: Ignoring invalid distribution -illow (c:\\users\\bhava\\.conda\\envs\\carla-sim\\lib\\site-packages)\n",
      "WARNING: Ignoring invalid distribution - (c:\\users\\bhava\\.conda\\envs\\carla-sim\\lib\\site-packages)\n",
      "WARNING: Ignoring invalid distribution -pencv-python-headless (c:\\users\\bhava\\.conda\\envs\\carla-sim\\lib\\site-packages)\n",
      "WARNING: Ignoring invalid distribution -orch (c:\\users\\bhava\\.conda\\envs\\carla-sim\\lib\\site-packages)\n",
      "WARNING: Ignoring invalid distribution -illow (c:\\users\\bhava\\.conda\\envs\\carla-sim\\lib\\site-packages)\n",
      "WARNING: Ignoring invalid distribution - (c:\\users\\bhava\\.conda\\envs\\carla-sim\\lib\\site-packages)\n",
      "WARNING: Ignoring invalid distribution -pencv-python-headless (c:\\users\\bhava\\.conda\\envs\\carla-sim\\lib\\site-packages)\n",
      "WARNING: Ignoring invalid distribution -orch (c:\\users\\bhava\\.conda\\envs\\carla-sim\\lib\\site-packages)\n",
      "WARNING: Ignoring invalid distribution -illow (c:\\users\\bhava\\.conda\\envs\\carla-sim\\lib\\site-packages)\n",
      "WARNING: Ignoring invalid distribution - (c:\\users\\bhava\\.conda\\envs\\carla-sim\\lib\\site-packages)\n",
      "WARNING: Ignoring invalid distribution -pencv-python-headless (c:\\users\\bhava\\.conda\\envs\\carla-sim\\lib\\site-packages)\n",
      "WARNING: Ignoring invalid distribution -orch (c:\\users\\bhava\\.conda\\envs\\carla-sim\\lib\\site-packages)\n",
      "WARNING: Ignoring invalid distribution -illow (c:\\users\\bhava\\.conda\\envs\\carla-sim\\lib\\site-packages)\n",
      "WARNING: Ignoring invalid distribution - (c:\\users\\bhava\\.conda\\envs\\carla-sim\\lib\\site-packages)\n",
      "WARNING: Ignoring invalid distribution -pencv-python-headless (c:\\users\\bhava\\.conda\\envs\\carla-sim\\lib\\site-packages)\n",
      "WARNING: Ignoring invalid distribution -orch (c:\\users\\bhava\\.conda\\envs\\carla-sim\\lib\\site-packages)\n",
      "WARNING: Ignoring invalid distribution -illow (c:\\users\\bhava\\.conda\\envs\\carla-sim\\lib\\site-packages)\n",
      "WARNING: Ignoring invalid distribution - (c:\\users\\bhava\\.conda\\envs\\carla-sim\\lib\\site-packages)\n"
     ]
    }
   ],
   "source": [
    "pip install tensorflow\n"
   ]
  },
  {
   "cell_type": "code",
   "execution_count": 4,
   "id": "1845bce1-df02-45c1-bad4-375be85c9871",
   "metadata": {},
   "outputs": [
    {
     "name": "stdout",
     "output_type": "stream",
     "text": [
      "GPU is not available.\n"
     ]
    }
   ],
   "source": [
    "import tensorflow as tf\n",
    "\n",
    "# Get the list of physical GPU devices\n",
    "gpu_devices = tf.config.list_physical_devices('GPU')\n",
    "\n",
    "if gpu_devices:\n",
    "    print(\"GPU is available.\")\n",
    "else:\n",
    "    print(\"GPU is not available.\")"
   ]
  },
  {
   "cell_type": "code",
   "execution_count": 5,
   "id": "899d7761-a1dd-4526-b01e-e6d43041834e",
   "metadata": {},
   "outputs": [
    {
     "name": "stdout",
     "output_type": "stream",
     "text": [
      "Collecting tensorflow-gpu\n",
      "  Using cached tensorflow-gpu-2.12.0.tar.gz (2.6 kB)\n",
      "  Preparing metadata (setup.py): started\n",
      "  Preparing metadata (setup.py): finished with status 'error'\n",
      "Note: you may need to restart the kernel to use updated packages.\n"
     ]
    },
    {
     "name": "stderr",
     "output_type": "stream",
     "text": [
      "WARNING: Ignoring invalid distribution -pencv-python-headless (c:\\users\\bhava\\.conda\\envs\\carla-sim\\lib\\site-packages)\n",
      "WARNING: Ignoring invalid distribution -orch (c:\\users\\bhava\\.conda\\envs\\carla-sim\\lib\\site-packages)\n",
      "WARNING: Ignoring invalid distribution -illow (c:\\users\\bhava\\.conda\\envs\\carla-sim\\lib\\site-packages)\n",
      "WARNING: Ignoring invalid distribution - (c:\\users\\bhava\\.conda\\envs\\carla-sim\\lib\\site-packages)\n",
      "WARNING: Ignoring invalid distribution -pencv-python-headless (c:\\users\\bhava\\.conda\\envs\\carla-sim\\lib\\site-packages)\n",
      "WARNING: Ignoring invalid distribution -orch (c:\\users\\bhava\\.conda\\envs\\carla-sim\\lib\\site-packages)\n",
      "WARNING: Ignoring invalid distribution -illow (c:\\users\\bhava\\.conda\\envs\\carla-sim\\lib\\site-packages)\n",
      "WARNING: Ignoring invalid distribution - (c:\\users\\bhava\\.conda\\envs\\carla-sim\\lib\\site-packages)\n",
      "  error: subprocess-exited-with-error\n",
      "  \n",
      "  python setup.py egg_info did not run successfully.\n",
      "  exit code: 1\n",
      "  \n",
      "  [39 lines of output]\n",
      "  Traceback (most recent call last):\n",
      "    File \"C:\\Users\\bhava\\.conda\\envs\\carla-sim\\lib\\site-packages\\setuptools\\_vendor\\packaging\\requirements.py\", line 35, in __init__\n",
      "      parsed = parse_requirement(requirement_string)\n",
      "    File \"C:\\Users\\bhava\\.conda\\envs\\carla-sim\\lib\\site-packages\\setuptools\\_vendor\\packaging\\_parser.py\", line 64, in parse_requirement\n",
      "      return _parse_requirement(Tokenizer(source, rules=DEFAULT_RULES))\n",
      "    File \"C:\\Users\\bhava\\.conda\\envs\\carla-sim\\lib\\site-packages\\setuptools\\_vendor\\packaging\\_parser.py\", line 82, in _parse_requirement\n",
      "      url, specifier, marker = _parse_requirement_details(tokenizer)\n",
      "    File \"C:\\Users\\bhava\\.conda\\envs\\carla-sim\\lib\\site-packages\\setuptools\\_vendor\\packaging\\_parser.py\", line 126, in _parse_requirement_details\n",
      "      marker = _parse_requirement_marker(\n",
      "    File \"C:\\Users\\bhava\\.conda\\envs\\carla-sim\\lib\\site-packages\\setuptools\\_vendor\\packaging\\_parser.py\", line 147, in _parse_requirement_marker\n",
      "      tokenizer.raise_syntax_error(\n",
      "    File \"C:\\Users\\bhava\\.conda\\envs\\carla-sim\\lib\\site-packages\\setuptools\\_vendor\\packaging\\_tokenizer.py\", line 163, in raise_syntax_error\n",
      "      raise ParserSyntaxError(\n",
      "  setuptools.extern.packaging._tokenizer.ParserSyntaxError: Expected end or semicolon (after name and no valid version specifier)\n",
      "      python_version>\"3.7\"\n",
      "                    ^\n",
      "  \n",
      "  The above exception was the direct cause of the following exception:\n",
      "  \n",
      "  Traceback (most recent call last):\n",
      "    File \"<string>\", line 2, in <module>\n",
      "    File \"<pip-setuptools-caller>\", line 34, in <module>\n",
      "    File \"C:\\Users\\bhava\\AppData\\Local\\Temp\\pip-install-_pvrcrsx\\tensorflow-gpu_abe726504fd04923bca2a5966bbc685d\\setup.py\", line 40, in <module>\n",
      "      setuptools.setup()\n",
      "    File \"C:\\Users\\bhava\\.conda\\envs\\carla-sim\\lib\\site-packages\\setuptools\\__init__.py\", line 106, in setup\n",
      "      _install_setup_requires(attrs)\n",
      "    File \"C:\\Users\\bhava\\.conda\\envs\\carla-sim\\lib\\site-packages\\setuptools\\__init__.py\", line 77, in _install_setup_requires\n",
      "      dist.parse_config_files(ignore_option_errors=True)\n",
      "    File \"C:\\Users\\bhava\\.conda\\envs\\carla-sim\\lib\\site-packages\\setuptools\\dist.py\", line 910, in parse_config_files\n",
      "      self._finalize_requires()\n",
      "    File \"C:\\Users\\bhava\\.conda\\envs\\carla-sim\\lib\\site-packages\\setuptools\\dist.py\", line 607, in _finalize_requires\n",
      "      self._move_install_requirements_markers()\n",
      "    File \"C:\\Users\\bhava\\.conda\\envs\\carla-sim\\lib\\site-packages\\setuptools\\dist.py\", line 647, in _move_install_requirements_markers\n",
      "      inst_reqs = list(_reqs.parse(spec_inst_reqs))\n",
      "    File \"C:\\Users\\bhava\\.conda\\envs\\carla-sim\\lib\\site-packages\\setuptools\\_vendor\\packaging\\requirements.py\", line 37, in __init__\n",
      "      raise InvalidRequirement(str(e)) from e\n",
      "  setuptools.extern.packaging.requirements.InvalidRequirement: Expected end or semicolon (after name and no valid version specifier)\n",
      "      python_version>\"3.7\"\n",
      "                    ^\n",
      "  [end of output]\n",
      "  \n",
      "  note: This error originates from a subprocess, and is likely not a problem with pip.\n",
      "error: metadata-generation-failed\n",
      "\n",
      "Encountered error while generating package metadata.\n",
      "\n",
      "See above for output.\n",
      "\n",
      "note: This is an issue with the package mentioned above, not pip.\n",
      "hint: See above for details.\n",
      "WARNING: Ignoring invalid distribution -pencv-python-headless (c:\\users\\bhava\\.conda\\envs\\carla-sim\\lib\\site-packages)\n",
      "WARNING: Ignoring invalid distribution -orch (c:\\users\\bhava\\.conda\\envs\\carla-sim\\lib\\site-packages)\n",
      "WARNING: Ignoring invalid distribution -illow (c:\\users\\bhava\\.conda\\envs\\carla-sim\\lib\\site-packages)\n",
      "WARNING: Ignoring invalid distribution - (c:\\users\\bhava\\.conda\\envs\\carla-sim\\lib\\site-packages)\n",
      "WARNING: Ignoring invalid distribution -pencv-python-headless (c:\\users\\bhava\\.conda\\envs\\carla-sim\\lib\\site-packages)\n",
      "WARNING: Ignoring invalid distribution -orch (c:\\users\\bhava\\.conda\\envs\\carla-sim\\lib\\site-packages)\n",
      "WARNING: Ignoring invalid distribution -illow (c:\\users\\bhava\\.conda\\envs\\carla-sim\\lib\\site-packages)\n",
      "WARNING: Ignoring invalid distribution - (c:\\users\\bhava\\.conda\\envs\\carla-sim\\lib\\site-packages)\n",
      "WARNING: Ignoring invalid distribution -pencv-python-headless (c:\\users\\bhava\\.conda\\envs\\carla-sim\\lib\\site-packages)\n",
      "WARNING: Ignoring invalid distribution -orch (c:\\users\\bhava\\.conda\\envs\\carla-sim\\lib\\site-packages)\n",
      "WARNING: Ignoring invalid distribution -illow (c:\\users\\bhava\\.conda\\envs\\carla-sim\\lib\\site-packages)\n",
      "WARNING: Ignoring invalid distribution - (c:\\users\\bhava\\.conda\\envs\\carla-sim\\lib\\site-packages)\n"
     ]
    }
   ],
   "source": [
    "pip install tensorflow-gpu"
   ]
  },
  {
   "cell_type": "code",
   "execution_count": 6,
   "id": "494b065f-5d5d-41b0-bf21-93443786d708",
   "metadata": {},
   "outputs": [
    {
     "name": "stdout",
     "output_type": "stream",
     "text": [
      "Requirement already satisfied: supervision in c:\\users\\bhava\\.conda\\envs\\carla-sim\\lib\\site-packages (0.12.0)\n",
      "Requirement already satisfied: pyyaml<7.0,>=6.0 in c:\\users\\bhava\\.conda\\envs\\carla-sim\\lib\\site-packages (from supervision) (6.0)\n",
      "Requirement already satisfied: pillow<9.0.0,>=8.4.0 in c:\\users\\bhava\\.conda\\envs\\carla-sim\\lib\\site-packages (from supervision) (8.4.0)\n",
      "Requirement already satisfied: matplotlib<4.0.0,>=3.7.1 in c:\\users\\bhava\\.conda\\envs\\carla-sim\\lib\\site-packages (from supervision) (3.7.1)\n",
      "Requirement already satisfied: numpy<2.0.0,>=1.20.0 in c:\\users\\bhava\\.conda\\envs\\carla-sim\\lib\\site-packages (from supervision) (1.24.3)\n",
      "Collecting opencv-python-headless<5.0.0.0,>=4.8.0.74\n",
      "  Using cached opencv_python_headless-4.8.0.74-cp37-abi3-win_amd64.whl (38.0 MB)\n",
      "Requirement already satisfied: contourpy>=1.0.1 in c:\\users\\bhava\\.conda\\envs\\carla-sim\\lib\\site-packages (from matplotlib<4.0.0,>=3.7.1->supervision) (1.0.7)\n",
      "Requirement already satisfied: pyparsing>=2.3.1 in c:\\users\\bhava\\.conda\\envs\\carla-sim\\lib\\site-packages (from matplotlib<4.0.0,>=3.7.1->supervision) (3.0.9)\n",
      "Requirement already satisfied: python-dateutil>=2.7 in c:\\users\\bhava\\.conda\\envs\\carla-sim\\lib\\site-packages (from matplotlib<4.0.0,>=3.7.1->supervision) (2.8.2)\n",
      "Requirement already satisfied: importlib-resources>=3.2.0 in c:\\users\\bhava\\.conda\\envs\\carla-sim\\lib\\site-packages (from matplotlib<4.0.0,>=3.7.1->supervision) (5.12.0)\n",
      "Requirement already satisfied: cycler>=0.10 in c:\\users\\bhava\\.conda\\envs\\carla-sim\\lib\\site-packages (from matplotlib<4.0.0,>=3.7.1->supervision) (0.11.0)\n",
      "Requirement already satisfied: kiwisolver>=1.0.1 in c:\\users\\bhava\\.conda\\envs\\carla-sim\\lib\\site-packages (from matplotlib<4.0.0,>=3.7.1->supervision) (1.4.4)\n",
      "Requirement already satisfied: fonttools>=4.22.0 in c:\\users\\bhava\\.conda\\envs\\carla-sim\\lib\\site-packages (from matplotlib<4.0.0,>=3.7.1->supervision) (4.40.0)\n",
      "Requirement already satisfied: packaging>=20.0 in c:\\users\\bhava\\.conda\\envs\\carla-sim\\lib\\site-packages (from matplotlib<4.0.0,>=3.7.1->supervision) (23.1)\n",
      "Requirement already satisfied: zipp>=3.1.0 in c:\\users\\bhava\\.conda\\envs\\carla-sim\\lib\\site-packages (from importlib-resources>=3.2.0->matplotlib<4.0.0,>=3.7.1->supervision) (3.15.0)\n",
      "Requirement already satisfied: six>=1.5 in c:\\users\\bhava\\.conda\\envs\\carla-sim\\lib\\site-packages (from python-dateutil>=2.7->matplotlib<4.0.0,>=3.7.1->supervision) (1.16.0)\n",
      "Installing collected packages: opencv-python-headless\n",
      "Note: you may need to restart the kernel to use updated packages.\n"
     ]
    },
    {
     "name": "stderr",
     "output_type": "stream",
     "text": [
      "WARNING: Ignoring invalid distribution -pencv-python-headless (c:\\users\\bhava\\.conda\\envs\\carla-sim\\lib\\site-packages)\n",
      "WARNING: Ignoring invalid distribution -orch (c:\\users\\bhava\\.conda\\envs\\carla-sim\\lib\\site-packages)\n",
      "WARNING: Ignoring invalid distribution -illow (c:\\users\\bhava\\.conda\\envs\\carla-sim\\lib\\site-packages)\n",
      "WARNING: Ignoring invalid distribution - (c:\\users\\bhava\\.conda\\envs\\carla-sim\\lib\\site-packages)\n",
      "WARNING: Ignoring invalid distribution -pencv-python-headless (c:\\users\\bhava\\.conda\\envs\\carla-sim\\lib\\site-packages)\n",
      "WARNING: Ignoring invalid distribution -orch (c:\\users\\bhava\\.conda\\envs\\carla-sim\\lib\\site-packages)\n",
      "WARNING: Ignoring invalid distribution -illow (c:\\users\\bhava\\.conda\\envs\\carla-sim\\lib\\site-packages)\n",
      "WARNING: Ignoring invalid distribution - (c:\\users\\bhava\\.conda\\envs\\carla-sim\\lib\\site-packages)\n",
      "WARNING: Ignoring invalid distribution -pencv-python-headless (c:\\users\\bhava\\.conda\\envs\\carla-sim\\lib\\site-packages)\n",
      "WARNING: Ignoring invalid distribution -orch (c:\\users\\bhava\\.conda\\envs\\carla-sim\\lib\\site-packages)\n",
      "WARNING: Ignoring invalid distribution -illow (c:\\users\\bhava\\.conda\\envs\\carla-sim\\lib\\site-packages)\n",
      "WARNING: Ignoring invalid distribution - (c:\\users\\bhava\\.conda\\envs\\carla-sim\\lib\\site-packages)\n",
      "ERROR: Could not install packages due to an OSError: [WinError 5] Access is denied: 'C:\\\\Users\\\\bhava\\\\.conda\\\\envs\\\\carla-sim\\\\Lib\\\\site-packages\\\\cv2\\\\cv2.pyd'\n",
      "Consider using the `--user` option or check the permissions.\n",
      "\n",
      "WARNING: Ignoring invalid distribution -pencv-python-headless (c:\\users\\bhava\\.conda\\envs\\carla-sim\\lib\\site-packages)\n",
      "WARNING: Ignoring invalid distribution -orch (c:\\users\\bhava\\.conda\\envs\\carla-sim\\lib\\site-packages)\n",
      "WARNING: Ignoring invalid distribution -illow (c:\\users\\bhava\\.conda\\envs\\carla-sim\\lib\\site-packages)\n",
      "WARNING: Ignoring invalid distribution - (c:\\users\\bhava\\.conda\\envs\\carla-sim\\lib\\site-packages)\n",
      "WARNING: Ignoring invalid distribution -pencv-python-headless (c:\\users\\bhava\\.conda\\envs\\carla-sim\\lib\\site-packages)\n",
      "WARNING: Ignoring invalid distribution -orch (c:\\users\\bhava\\.conda\\envs\\carla-sim\\lib\\site-packages)\n",
      "WARNING: Ignoring invalid distribution -illow (c:\\users\\bhava\\.conda\\envs\\carla-sim\\lib\\site-packages)\n",
      "WARNING: Ignoring invalid distribution - (c:\\users\\bhava\\.conda\\envs\\carla-sim\\lib\\site-packages)\n",
      "WARNING: Ignoring invalid distribution -pencv-python-headless (c:\\users\\bhava\\.conda\\envs\\carla-sim\\lib\\site-packages)\n",
      "WARNING: Ignoring invalid distribution -orch (c:\\users\\bhava\\.conda\\envs\\carla-sim\\lib\\site-packages)\n",
      "WARNING: Ignoring invalid distribution -illow (c:\\users\\bhava\\.conda\\envs\\carla-sim\\lib\\site-packages)\n",
      "WARNING: Ignoring invalid distribution - (c:\\users\\bhava\\.conda\\envs\\carla-sim\\lib\\site-packages)\n"
     ]
    }
   ],
   "source": [
    "pip install supervision"
   ]
  },
  {
   "cell_type": "code",
   "execution_count": 7,
   "id": "3f944e39-4240-4d6b-870c-5eeff30c2114",
   "metadata": {},
   "outputs": [],
   "source": [
    "import supervision"
   ]
  },
  {
   "cell_type": "code",
   "execution_count": 8,
   "id": "dbfb65a4-a413-4b43-89ba-65b3bdc7081d",
   "metadata": {},
   "outputs": [],
   "source": [
    "import supervision as sv\n"
   ]
  },
  {
   "cell_type": "code",
   "execution_count": 9,
   "id": "f13cf640-ae57-4e0b-9082-8e6acecae68b",
   "metadata": {},
   "outputs": [
    {
     "name": "stdout",
     "output_type": "stream",
     "text": [
      "Requirement already satisfied: supervision in c:\\users\\bhava\\.conda\\envs\\carla-sim\\lib\\site-packages (0.12.0)\n",
      "Requirement already satisfied: matplotlib<4.0.0,>=3.7.1 in c:\\users\\bhava\\.conda\\envs\\carla-sim\\lib\\site-packages (from supervision) (3.7.1)\n",
      "Collecting opencv-python-headless<5.0.0.0,>=4.8.0.74\n",
      "  Using cached opencv_python_headless-4.8.0.74-cp37-abi3-win_amd64.whl (38.0 MB)\n",
      "Requirement already satisfied: pillow<9.0.0,>=8.4.0 in c:\\users\\bhava\\.conda\\envs\\carla-sim\\lib\\site-packages (from supervision) (8.4.0)\n",
      "Requirement already satisfied: pyyaml<7.0,>=6.0 in c:\\users\\bhava\\.conda\\envs\\carla-sim\\lib\\site-packages (from supervision) (6.0)\n",
      "Requirement already satisfied: numpy<2.0.0,>=1.20.0 in c:\\users\\bhava\\.conda\\envs\\carla-sim\\lib\\site-packages (from supervision) (1.24.3)\n",
      "Requirement already satisfied: packaging>=20.0 in c:\\users\\bhava\\.conda\\envs\\carla-sim\\lib\\site-packages (from matplotlib<4.0.0,>=3.7.1->supervision) (23.1)\n",
      "Requirement already satisfied: kiwisolver>=1.0.1 in c:\\users\\bhava\\.conda\\envs\\carla-sim\\lib\\site-packages (from matplotlib<4.0.0,>=3.7.1->supervision) (1.4.4)\n",
      "Requirement already satisfied: python-dateutil>=2.7 in c:\\users\\bhava\\.conda\\envs\\carla-sim\\lib\\site-packages (from matplotlib<4.0.0,>=3.7.1->supervision) (2.8.2)\n",
      "Requirement already satisfied: fonttools>=4.22.0 in c:\\users\\bhava\\.conda\\envs\\carla-sim\\lib\\site-packages (from matplotlib<4.0.0,>=3.7.1->supervision) (4.40.0)\n",
      "Requirement already satisfied: contourpy>=1.0.1 in c:\\users\\bhava\\.conda\\envs\\carla-sim\\lib\\site-packages (from matplotlib<4.0.0,>=3.7.1->supervision) (1.0.7)\n",
      "Requirement already satisfied: importlib-resources>=3.2.0 in c:\\users\\bhava\\.conda\\envs\\carla-sim\\lib\\site-packages (from matplotlib<4.0.0,>=3.7.1->supervision) (5.12.0)\n",
      "Requirement already satisfied: pyparsing>=2.3.1 in c:\\users\\bhava\\.conda\\envs\\carla-sim\\lib\\site-packages (from matplotlib<4.0.0,>=3.7.1->supervision) (3.0.9)\n",
      "Requirement already satisfied: cycler>=0.10 in c:\\users\\bhava\\.conda\\envs\\carla-sim\\lib\\site-packages (from matplotlib<4.0.0,>=3.7.1->supervision) (0.11.0)\n",
      "Requirement already satisfied: zipp>=3.1.0 in c:\\users\\bhava\\.conda\\envs\\carla-sim\\lib\\site-packages (from importlib-resources>=3.2.0->matplotlib<4.0.0,>=3.7.1->supervision) (3.15.0)\n",
      "Requirement already satisfied: six>=1.5 in c:\\users\\bhava\\.conda\\envs\\carla-sim\\lib\\site-packages (from python-dateutil>=2.7->matplotlib<4.0.0,>=3.7.1->supervision) (1.16.0)\n",
      "Installing collected packages: opencv-python-headless\n",
      "Note: you may need to restart the kernel to use updated packages.\n"
     ]
    },
    {
     "name": "stderr",
     "output_type": "stream",
     "text": [
      "WARNING: Ignoring invalid distribution -pencv-python-headless (c:\\users\\bhava\\.conda\\envs\\carla-sim\\lib\\site-packages)\n",
      "WARNING: Ignoring invalid distribution -orch (c:\\users\\bhava\\.conda\\envs\\carla-sim\\lib\\site-packages)\n",
      "WARNING: Ignoring invalid distribution -illow (c:\\users\\bhava\\.conda\\envs\\carla-sim\\lib\\site-packages)\n",
      "WARNING: Ignoring invalid distribution - (c:\\users\\bhava\\.conda\\envs\\carla-sim\\lib\\site-packages)\n",
      "WARNING: Ignoring invalid distribution -pencv-python-headless (c:\\users\\bhava\\.conda\\envs\\carla-sim\\lib\\site-packages)\n",
      "WARNING: Ignoring invalid distribution -orch (c:\\users\\bhava\\.conda\\envs\\carla-sim\\lib\\site-packages)\n",
      "WARNING: Ignoring invalid distribution -illow (c:\\users\\bhava\\.conda\\envs\\carla-sim\\lib\\site-packages)\n",
      "WARNING: Ignoring invalid distribution - (c:\\users\\bhava\\.conda\\envs\\carla-sim\\lib\\site-packages)\n",
      "WARNING: Ignoring invalid distribution -pencv-python-headless (c:\\users\\bhava\\.conda\\envs\\carla-sim\\lib\\site-packages)\n",
      "WARNING: Ignoring invalid distribution -orch (c:\\users\\bhava\\.conda\\envs\\carla-sim\\lib\\site-packages)\n",
      "WARNING: Ignoring invalid distribution -illow (c:\\users\\bhava\\.conda\\envs\\carla-sim\\lib\\site-packages)\n",
      "WARNING: Ignoring invalid distribution - (c:\\users\\bhava\\.conda\\envs\\carla-sim\\lib\\site-packages)\n",
      "ERROR: Could not install packages due to an OSError: [WinError 5] Access is denied: 'C:\\\\Users\\\\bhava\\\\.conda\\\\envs\\\\carla-sim\\\\Lib\\\\site-packages\\\\cv2\\\\cv2.pyd'\n",
      "Consider using the `--user` option or check the permissions.\n",
      "\n",
      "WARNING: Ignoring invalid distribution -pencv-python-headless (c:\\users\\bhava\\.conda\\envs\\carla-sim\\lib\\site-packages)\n",
      "WARNING: Ignoring invalid distribution -orch (c:\\users\\bhava\\.conda\\envs\\carla-sim\\lib\\site-packages)\n",
      "WARNING: Ignoring invalid distribution -illow (c:\\users\\bhava\\.conda\\envs\\carla-sim\\lib\\site-packages)\n",
      "WARNING: Ignoring invalid distribution - (c:\\users\\bhava\\.conda\\envs\\carla-sim\\lib\\site-packages)\n",
      "WARNING: Ignoring invalid distribution -pencv-python-headless (c:\\users\\bhava\\.conda\\envs\\carla-sim\\lib\\site-packages)\n",
      "WARNING: Ignoring invalid distribution -orch (c:\\users\\bhava\\.conda\\envs\\carla-sim\\lib\\site-packages)\n",
      "WARNING: Ignoring invalid distribution -illow (c:\\users\\bhava\\.conda\\envs\\carla-sim\\lib\\site-packages)\n",
      "WARNING: Ignoring invalid distribution - (c:\\users\\bhava\\.conda\\envs\\carla-sim\\lib\\site-packages)\n",
      "WARNING: Ignoring invalid distribution -pencv-python-headless (c:\\users\\bhava\\.conda\\envs\\carla-sim\\lib\\site-packages)\n",
      "WARNING: Ignoring invalid distribution -orch (c:\\users\\bhava\\.conda\\envs\\carla-sim\\lib\\site-packages)\n",
      "WARNING: Ignoring invalid distribution -illow (c:\\users\\bhava\\.conda\\envs\\carla-sim\\lib\\site-packages)\n",
      "WARNING: Ignoring invalid distribution - (c:\\users\\bhava\\.conda\\envs\\carla-sim\\lib\\site-packages)\n"
     ]
    }
   ],
   "source": [
    "pip install supervision"
   ]
  },
  {
   "cell_type": "code",
   "execution_count": 10,
   "id": "dc27e85b-03d6-4df0-8bec-f616bb65e80b",
   "metadata": {},
   "outputs": [],
   "source": [
    "import supervision as sv"
   ]
  },
  {
   "cell_type": "code",
   "execution_count": 11,
   "id": "38c7f0c9-5d5b-4ab9-a5e5-34ff1e240d64",
   "metadata": {},
   "outputs": [],
   "source": [
    "import torch"
   ]
  },
  {
   "cell_type": "code",
   "execution_count": null,
   "id": "07acca43-25ef-43cd-8579-a49a60f7cba2",
   "metadata": {},
   "outputs": [],
   "source": [
    "pip install torch torchvision torchaudio --index-url https://download.pytorch.org/whl/cu118"
   ]
  },
  {
   "cell_type": "code",
   "execution_count": 6,
   "id": "1f17bd9c-e51b-4545-8a66-07ee8197abc4",
   "metadata": {},
   "outputs": [
    {
     "name": "stdout",
     "output_type": "stream",
     "text": [
      "PyTorch version: 2.0.1+cu118\n",
      "Torchvision version: 0.15.2+cu118\n",
      "CUDA is available!\n",
      "CUDA version: 11.8\n",
      "Number of available GPUs: 1\n",
      "Current GPU device index: 0\n",
      "GPU name: NVIDIA GeForce RTX 3080 Laptop GPU\n"
     ]
    }
   ],
   "source": [
    "import torch\n",
    "\n",
    "import torchvision\n",
    "\n",
    "print(\"PyTorch version:\", torch.__version__)\n",
    "print(\"Torchvision version:\", torchvision.__version__)\n",
    "\n",
    "if torch.cuda.is_available():\n",
    "    print(\"CUDA is available!\")\n",
    "    print(\"CUDA version:\", torch.version.cuda)\n",
    "    print(\"Number of available GPUs:\", torch.cuda.device_count())\n",
    "    print(\"Current GPU device index:\", torch.cuda.current_device())\n",
    "    print(\"GPU name:\", torch.cuda.get_device_name(torch.cuda.current_device()))\n",
    "else:\n",
    "    print(\"CUDA is not available.\")"
   ]
  },
  {
   "cell_type": "code",
   "execution_count": null,
   "id": "c615da69-6c69-465b-a478-0aebfe83f589",
   "metadata": {},
   "outputs": [],
   "source": [
    "pip uninstall opencv-python-headless -y "
   ]
  },
  {
   "cell_type": "code",
   "execution_count": null,
   "id": "85c0d357-c075-4c9a-8ca3-9e5ef267055d",
   "metadata": {},
   "outputs": [],
   "source": [
    "pip install opencv-python --upgrade"
   ]
  },
  {
   "cell_type": "code",
   "execution_count": 1,
   "id": "23ee8def-8cfa-47dd-9cb4-671cdbcf47e2",
   "metadata": {},
   "outputs": [
    {
     "name": "stdout",
     "output_type": "stream",
     "text": [
      "Requirement already satisfied: numpy in c:\\users\\bhava\\.conda\\envs\\carla-sim\\lib\\site-packages (1.24.3)\n",
      "Collecting numpy\n",
      "  Obtaining dependency information for numpy from https://files.pythonhosted.org/packages/69/65/0d47953afa0ad569d12de5f65d964321c208492064c38fe3b0b9744f8d44/numpy-1.24.4-cp38-cp38-win_amd64.whl.metadata\n",
      "  Downloading numpy-1.24.4-cp38-cp38-win_amd64.whl.metadata (5.6 kB)\n",
      "Using cached numpy-1.24.4-cp38-cp38-win_amd64.whl (14.9 MB)\n",
      "Installing collected packages: numpy\n",
      "  Attempting uninstall: numpy\n",
      "    Found existing installation: numpy 1.24.3\n",
      "    Uninstalling numpy-1.24.3:\n",
      "      Successfully uninstalled numpy-1.24.3\n",
      "Successfully installed numpy-1.24.4\n",
      "Note: you may need to restart the kernel to use updated packages.\n"
     ]
    },
    {
     "name": "stderr",
     "output_type": "stream",
     "text": [
      "WARNING: Ignoring invalid distribution - (c:\\users\\bhava\\.conda\\envs\\carla-sim\\lib\\site-packages)\n",
      "WARNING: Ignoring invalid distribution -illow (c:\\users\\bhava\\.conda\\envs\\carla-sim\\lib\\site-packages)\n",
      "WARNING: Ignoring invalid distribution -orch (c:\\users\\bhava\\.conda\\envs\\carla-sim\\lib\\site-packages)\n",
      "WARNING: Ignoring invalid distribution -pencv-python-headless (c:\\users\\bhava\\.conda\\envs\\carla-sim\\lib\\site-packages)\n",
      "WARNING: Ignoring invalid distribution - (c:\\users\\bhava\\.conda\\envs\\carla-sim\\lib\\site-packages)\n",
      "WARNING: Ignoring invalid distribution -illow (c:\\users\\bhava\\.conda\\envs\\carla-sim\\lib\\site-packages)\n",
      "WARNING: Ignoring invalid distribution -orch (c:\\users\\bhava\\.conda\\envs\\carla-sim\\lib\\site-packages)\n",
      "WARNING: Ignoring invalid distribution -pencv-python-headless (c:\\users\\bhava\\.conda\\envs\\carla-sim\\lib\\site-packages)\n",
      "ERROR: pip's dependency resolver does not currently take into account all the packages that are installed. This behaviour is the source of the following dependency conflicts.\n",
      "supervision 0.12.0 requires opencv-python-headless<5.0.0.0,>=4.8.0.74, which is not installed.\n",
      "tensorflow-intel 2.13.0 requires numpy<=1.24.3,>=1.22, but you have numpy 1.24.4 which is incompatible.\n"
     ]
    }
   ],
   "source": [
    "pip install --upgrade numpy"
   ]
  },
  {
   "cell_type": "code",
   "execution_count": 3,
   "id": "bcf747eb-72bf-4f8e-bee9-f2dd5beee9ab",
   "metadata": {},
   "outputs": [
    {
     "name": "stdout",
     "output_type": "stream",
     "text": [
      "Collecting opencv-python-headless\n",
      "  Obtaining dependency information for opencv-python-headless from https://files.pythonhosted.org/packages/60/e7/a6dedca760db7a4686fd3b6053487ad4ad4d8f0591295dc8a9cf35269c42/opencv_python_headless-4.8.0.74-cp37-abi3-win_amd64.whl.metadata\n",
      "  Downloading opencv_python_headless-4.8.0.74-cp37-abi3-win_amd64.whl.metadata (19 kB)\n",
      "Collecting numpy>=1.17.0 (from opencv-python-headless)\n",
      "  Obtaining dependency information for numpy>=1.17.0 from https://files.pythonhosted.org/packages/69/65/0d47953afa0ad569d12de5f65d964321c208492064c38fe3b0b9744f8d44/numpy-1.24.4-cp38-cp38-win_amd64.whl.metadata\n",
      "  Using cached numpy-1.24.4-cp38-cp38-win_amd64.whl.metadata (5.6 kB)\n",
      "Using cached opencv_python_headless-4.8.0.74-cp37-abi3-win_amd64.whl (38.0 MB)\n",
      "Using cached numpy-1.24.4-cp38-cp38-win_amd64.whl (14.9 MB)\n",
      "Installing collected packages: numpy, opencv-python-headless\n",
      "  Attempting uninstall: numpy\n",
      "    Found existing installation: numpy 1.24.4\n",
      "    Uninstalling numpy-1.24.4:\n",
      "      Successfully uninstalled numpy-1.24.4\n",
      "Successfully installed numpy-1.24.4 opencv-python-headless-4.8.0.74\n",
      "Note: you may need to restart the kernel to use updated packages.\n"
     ]
    },
    {
     "name": "stderr",
     "output_type": "stream",
     "text": [
      "WARNING: Ignoring invalid distribution - (c:\\users\\bhava\\.conda\\envs\\carla-sim\\lib\\site-packages)\n",
      "WARNING: Ignoring invalid distribution -illow (c:\\users\\bhava\\.conda\\envs\\carla-sim\\lib\\site-packages)\n",
      "WARNING: Ignoring invalid distribution -orch (c:\\users\\bhava\\.conda\\envs\\carla-sim\\lib\\site-packages)\n",
      "WARNING: Ignoring invalid distribution -pencv-python-headless (c:\\users\\bhava\\.conda\\envs\\carla-sim\\lib\\site-packages)\n",
      "WARNING: Ignoring invalid distribution - (c:\\users\\bhava\\.conda\\envs\\carla-sim\\lib\\site-packages)\n",
      "WARNING: Ignoring invalid distribution -illow (c:\\users\\bhava\\.conda\\envs\\carla-sim\\lib\\site-packages)\n",
      "WARNING: Ignoring invalid distribution -orch (c:\\users\\bhava\\.conda\\envs\\carla-sim\\lib\\site-packages)\n",
      "WARNING: Ignoring invalid distribution -pencv-python-headless (c:\\users\\bhava\\.conda\\envs\\carla-sim\\lib\\site-packages)\n",
      "ERROR: pip's dependency resolver does not currently take into account all the packages that are installed. This behaviour is the source of the following dependency conflicts.\n",
      "tensorflow-intel 2.13.0 requires numpy<=1.24.3,>=1.22, but you have numpy 1.24.4 which is incompatible.\n"
     ]
    }
   ],
   "source": [
    "pip install --force-reinstall opencv-python-headless\n"
   ]
  },
  {
   "cell_type": "code",
   "execution_count": 4,
   "id": "c79fa208-6986-40af-ae84-e03713029a6b",
   "metadata": {},
   "outputs": [
    {
     "name": "stdout",
     "output_type": "stream",
     "text": [
      "Collecting pillow\n",
      "  Obtaining dependency information for pillow from https://files.pythonhosted.org/packages/5e/ae/0d98e3707678c96d86aec0fe5002637801892f17281cc123521ab929e8fd/Pillow-10.0.0-cp38-cp38-win_amd64.whl.metadata\n",
      "  Downloading Pillow-10.0.0-cp38-cp38-win_amd64.whl.metadata (9.6 kB)\n",
      "Using cached Pillow-10.0.0-cp38-cp38-win_amd64.whl (2.5 MB)\n",
      "Installing collected packages: pillow\n",
      "  Attempting uninstall: pillow\n",
      "    Found existing installation: Pillow 8.4.0\n",
      "    Uninstalling Pillow-8.4.0:\n",
      "      Successfully uninstalled Pillow-8.4.0\n",
      "Successfully installed pillow-10.0.0\n",
      "Note: you may need to restart the kernel to use updated packages.\n"
     ]
    },
    {
     "name": "stderr",
     "output_type": "stream",
     "text": [
      "WARNING: Ignoring invalid distribution - (c:\\users\\bhava\\.conda\\envs\\carla-sim\\lib\\site-packages)\n",
      "WARNING: Ignoring invalid distribution -illow (c:\\users\\bhava\\.conda\\envs\\carla-sim\\lib\\site-packages)\n",
      "WARNING: Ignoring invalid distribution -orch (c:\\users\\bhava\\.conda\\envs\\carla-sim\\lib\\site-packages)\n",
      "WARNING: Ignoring invalid distribution -pencv-python-headless (c:\\users\\bhava\\.conda\\envs\\carla-sim\\lib\\site-packages)\n",
      "WARNING: Ignoring invalid distribution - (c:\\users\\bhava\\.conda\\envs\\carla-sim\\lib\\site-packages)\n",
      "WARNING: Ignoring invalid distribution -illow (c:\\users\\bhava\\.conda\\envs\\carla-sim\\lib\\site-packages)\n",
      "WARNING: Ignoring invalid distribution -orch (c:\\users\\bhava\\.conda\\envs\\carla-sim\\lib\\site-packages)\n",
      "WARNING: Ignoring invalid distribution -pencv-python-headless (c:\\users\\bhava\\.conda\\envs\\carla-sim\\lib\\site-packages)\n",
      "ERROR: pip's dependency resolver does not currently take into account all the packages that are installed. This behaviour is the source of the following dependency conflicts.\n",
      "supervision 0.12.0 requires pillow<9.0.0,>=8.4.0, but you have pillow 10.0.0 which is incompatible.\n"
     ]
    }
   ],
   "source": [
    "pip install --force-reinstall pillow\n"
   ]
  },
  {
   "cell_type": "code",
   "execution_count": 5,
   "id": "eab91bdd-3c58-44a3-893c-5863a447e221",
   "metadata": {},
   "outputs": [
    {
     "name": "stdout",
     "output_type": "stream",
     "text": [
      "2.0.1+cu118\n"
     ]
    }
   ],
   "source": [
    "import torch\n",
    "print(torch.__version__)"
   ]
  },
  {
   "cell_type": "code",
   "execution_count": null,
   "id": "ce3e0ce9-dd51-4979-ad35-bb1221cc339f",
   "metadata": {},
   "outputs": [],
   "source": [
    "from typing import Any\n",
    "import torch\n",
    "import numpy as np\n",
    "import cv2\n",
    "from time import perf_counter\n",
    "from ultralytics import YOLO\n",
    "import yaml\n",
    "from pathlib import Path\n",
    "from types import SimpleNamespace\n",
    "import carla\n",
    "import math\n",
    "import random\n",
    "import time"
   ]
  },
  {
   "cell_type": "code",
   "execution_count": 7,
   "id": "a84eab7c-069c-4906-a27b-8457232b641d",
   "metadata": {},
   "outputs": [],
   "source": [
    "from pathlib import Path"
   ]
  },
  {
   "cell_type": "code",
   "execution_count": 3,
   "id": "83b833da-e275-420c-93e1-3fbd16d922b4",
   "metadata": {},
   "outputs": [
    {
     "name": "stdout",
     "output_type": "stream",
     "text": [
      "4.8.0\n",
      "True\n"
     ]
    }
   ],
   "source": [
    "import cv2\n",
    "print(cv2.__version__)\n",
    "print(hasattr(cv2, 'setNumThreads'))"
   ]
  },
  {
   "cell_type": "code",
   "execution_count": 4,
   "id": "55bdb843-e3fd-407b-aa9e-f9e2340b96c4",
   "metadata": {},
   "outputs": [
    {
     "name": "stdout",
     "output_type": "stream",
     "text": [
      "Package                      Version\n",
      "---------------------------- ------------\n",
      "absl-py                      1.4.0\n",
      "anyio                        3.7.0\n",
      "argon2-cffi                  21.3.0\n",
      "argon2-cffi-bindings         21.2.0\n",
      "arrow                        1.2.3\n",
      "asttokens                    2.2.1\n",
      "astunparse                   1.6.3\n",
      "async-lru                    2.0.2\n",
      "attrs                        23.1.0\n",
      "Babel                        2.12.1\n",
      "backcall                     0.2.0\n",
      "beautifulsoup4               4.12.2\n",
      "bleach                       6.0.0\n",
      "cachetools                   5.3.1\n",
      "carla                        0.9.14\n",
      "certifi                      2023.5.7\n",
      "cffi                         1.15.1\n",
      "charset-normalizer           3.1.0\n",
      "colorama                     0.4.6\n",
      "coloredlogs                  15.0.1\n",
      "comm                         0.1.3\n",
      "contourpy                    1.0.7\n",
      "cycler                       0.11.0\n",
      "debugpy                      1.6.7\n",
      "decorator                    5.1.1\n",
      "defusedxml                   0.7.1\n",
      "easydict                     1.10\n",
      "exceptiongroup               1.1.1\n",
      "executing                    1.2.0\n",
      "fastjsonschema               2.17.1\n",
      "filelock                     3.12.2\n",
      "flatbuffers                  23.5.26\n",
      "fonttools                    4.40.0\n",
      "fqdn                         1.5.1\n",
      "gast                         0.4.0\n",
      "google-auth                  2.22.0\n",
      "google-auth-oauthlib         1.0.0\n",
      "google-pasta                 0.2.0\n",
      "grpcio                       1.56.2\n",
      "h5py                         3.9.0\n",
      "humanfriendly                10.0\n",
      "idna                         3.4\n",
      "importlib-metadata           6.6.0\n",
      "importlib-resources          5.12.0\n",
      "ipykernel                    6.23.1\n",
      "ipython                      8.12.2\n",
      "ipython-genutils             0.2.0\n",
      "ipywidgets                   8.0.6\n",
      "isoduration                  20.11.0\n",
      "jedi                         0.18.2\n",
      "Jinja2                       3.1.2\n",
      "json5                        0.9.14\n",
      "jsonpointer                  2.3\n",
      "jsonschema                   4.17.3\n",
      "jupyter                      1.0.0\n",
      "jupyter_client               8.2.0\n",
      "jupyter-console              6.6.3\n",
      "jupyter_core                 5.3.0\n",
      "jupyter-events               0.6.3\n",
      "jupyter-lsp                  2.2.0\n",
      "jupyter_server               2.6.0\n",
      "jupyter_server_terminals     0.4.4\n",
      "jupyterlab                   4.0.2\n",
      "jupyterlab-pygments          0.2.2\n",
      "jupyterlab_server            2.22.1\n",
      "jupyterlab-widgets           3.0.7\n",
      "keras                        2.13.1\n",
      "kiwisolver                   1.4.4\n",
      "libclang                     16.0.6\n",
      "llvmlite                     0.40.1rc1\n",
      "Markdown                     3.4.3\n",
      "markdown-it-py               3.0.0\n",
      "MarkupSafe                   2.1.3\n",
      "matplotlib                   3.7.1\n",
      "matplotlib-inline            0.1.6\n",
      "mdurl                        0.1.2\n",
      "mistune                      2.0.5\n",
      "mpmath                       1.3.0\n",
      "nbclassic                    1.0.0\n",
      "nbclient                     0.8.0\n",
      "nbconvert                    7.4.0\n",
      "nbformat                     5.9.0\n",
      "nest-asyncio                 1.5.6\n",
      "networkx                     3.1\n",
      "notebook                     6.5.4\n",
      "notebook_shim                0.2.3\n",
      "numba                        0.57.0\n",
      "numpy                        1.24.4\n",
      "oauthlib                     3.2.2\n",
      "opencv-python-headless       4.8.0.74\n",
      "opt-einsum                   3.3.0\n",
      "overrides                    7.3.1\n",
      "packaging                    23.1\n",
      "pandas                       2.0.2\n",
      "pandocfilters                1.5.0\n",
      "parso                        0.8.3\n",
      "pickleshare                  0.7.5\n",
      "Pillow                       8.4.0\n",
      "pip                          23.2.1\n",
      "pkgutil_resolve_name         1.3.10\n",
      "platformdirs                 3.5.3\n",
      "prometheus-client            0.17.0\n",
      "prompt-toolkit               3.0.38\n",
      "protobuf                     4.23.4\n",
      "psutil                       5.9.5\n",
      "pure-eval                    0.2.2\n",
      "py-cpuinfo                   9.0.0\n",
      "pyasn1                       0.5.0\n",
      "pyasn1-modules               0.3.0\n",
      "pycparser                    2.21\n",
      "pygame                       2.4.0\n",
      "Pygments                     2.15.1\n",
      "pyparsing                    3.0.9\n",
      "pyreadline3                  3.4.1\n",
      "pyrsistent                   0.19.3\n",
      "PySocks                      1.7.1\n",
      "python-dateutil              2.8.2\n",
      "python-json-logger           2.0.7\n",
      "pytz                         2023.3\n",
      "pywin32                      306\n",
      "pywinpty                     2.0.10\n",
      "PyYAML                       6.0\n",
      "pyzmq                        25.1.0\n",
      "qtconsole                    5.4.3\n",
      "QtPy                         2.3.1\n",
      "requests                     2.31.0\n",
      "requests-oauthlib            1.3.1\n",
      "rfc3339-validator            0.1.4\n",
      "rfc3986-validator            0.1.1\n",
      "rich                         13.4.2\n",
      "rsa                          4.9\n",
      "scipy                        1.10.1\n",
      "seaborn                      0.12.2\n",
      "Send2Trash                   1.8.2\n",
      "setuptools                   68.0.0\n",
      "six                          1.16.0\n",
      "sniffio                      1.3.0\n",
      "soupsieve                    2.4.1\n",
      "stack-data                   0.6.2\n",
      "supervision                  0.12.0\n",
      "sympy                        1.12\n",
      "tensorboard                  2.13.0\n",
      "tensorboard-data-server      0.7.1\n",
      "tensorflow                   2.13.0\n",
      "tensorflow-estimator         2.13.0\n",
      "tensorflow-intel             2.13.0\n",
      "tensorflow-io-gcs-filesystem 0.31.0\n",
      "termcolor                    2.3.0\n",
      "terminado                    0.17.1\n",
      "tinycss2                     1.2.1\n",
      "tomli                        2.0.1\n",
      "torch                        2.0.1+cu118\n",
      "torchaudio                   2.0.2+cu118\n",
      "torchvision                  0.15.2+cu118\n",
      "tornado                      6.3.2\n",
      "tqdm                         4.65.0\n",
      "traitlets                    5.9.0\n",
      "typing_extensions            4.5.0\n",
      "tzdata                       2023.3\n",
      "ultralytics                  8.0.143\n",
      "uri-template                 1.2.0\n",
      "urllib3                      1.26.16\n",
      "wcwidth                      0.2.6\n",
      "webcolors                    1.13\n",
      "webencodings                 0.5.1\n",
      "websocket-client             1.5.3\n",
      "Werkzeug                     2.3.6\n",
      "wheel                        0.41.0\n",
      "widgetsnbextension           4.0.7\n",
      "win32-setctime               1.1.0\n",
      "wrapt                        1.15.0\n",
      "xmltodict                    0.13.0\n",
      "zipp                         3.15.0\n",
      "Note: you may need to restart the kernel to use updated packages.\n"
     ]
    },
    {
     "name": "stderr",
     "output_type": "stream",
     "text": [
      "WARNING: Ignoring invalid distribution - (c:\\users\\bhava\\.conda\\envs\\carla-sim\\lib\\site-packages)\n",
      "WARNING: Ignoring invalid distribution -illow (c:\\users\\bhava\\.conda\\envs\\carla-sim\\lib\\site-packages)\n",
      "WARNING: Ignoring invalid distribution -orch (c:\\users\\bhava\\.conda\\envs\\carla-sim\\lib\\site-packages)\n",
      "WARNING: Ignoring invalid distribution -pencv-python-headless (c:\\users\\bhava\\.conda\\envs\\carla-sim\\lib\\site-packages)\n"
     ]
    }
   ],
   "source": [
    "pip list"
   ]
  },
  {
   "cell_type": "code",
   "execution_count": 1,
   "id": "609ea64d-80ae-4238-aed3-6259937f0d4d",
   "metadata": {},
   "outputs": [
    {
     "name": "stdout",
     "output_type": "stream",
     "text": [
      "Found existing installation: opencv-python-headless 4.8.0.74\n",
      "Uninstalling opencv-python-headless-4.8.0.74:\n",
      "  Successfully uninstalled opencv-python-headless-4.8.0.74\n",
      "Note: you may need to restart the kernel to use updated packages.\n"
     ]
    },
    {
     "name": "stderr",
     "output_type": "stream",
     "text": [
      "ERROR: Exception:\n",
      "Traceback (most recent call last):\n",
      "  File \"C:\\Users\\bhava\\.conda\\envs\\carla-sim\\lib\\site-packages\\pip\\_internal\\cli\\base_command.py\", line 180, in exc_logging_wrapper\n",
      "    status = run_func(*args)\n",
      "  File \"C:\\Users\\bhava\\.conda\\envs\\carla-sim\\lib\\site-packages\\pip\\_internal\\commands\\uninstall.py\", line 110, in run\n",
      "    uninstall_pathset.commit()\n",
      "  File \"C:\\Users\\bhava\\.conda\\envs\\carla-sim\\lib\\site-packages\\pip\\_internal\\req\\req_uninstall.py\", line 432, in commit\n",
      "    self._moved_paths.commit()\n",
      "  File \"C:\\Users\\bhava\\.conda\\envs\\carla-sim\\lib\\site-packages\\pip\\_internal\\req\\req_uninstall.py\", line 278, in commit\n",
      "    save_dir.cleanup()\n",
      "  File \"C:\\Users\\bhava\\.conda\\envs\\carla-sim\\lib\\site-packages\\pip\\_internal\\utils\\temp_dir.py\", line 173, in cleanup\n",
      "    rmtree(self._path)\n",
      "  File \"C:\\Users\\bhava\\.conda\\envs\\carla-sim\\lib\\site-packages\\pip\\_vendor\\tenacity\\__init__.py\", line 291, in wrapped_f\n",
      "    return self(f, *args, **kw)\n",
      "  File \"C:\\Users\\bhava\\.conda\\envs\\carla-sim\\lib\\site-packages\\pip\\_vendor\\tenacity\\__init__.py\", line 381, in __call__\n",
      "    do = self.iter(retry_state=retry_state)\n",
      "  File \"C:\\Users\\bhava\\.conda\\envs\\carla-sim\\lib\\site-packages\\pip\\_vendor\\tenacity\\__init__.py\", line 327, in iter\n",
      "    raise retry_exc.reraise()\n",
      "  File \"C:\\Users\\bhava\\.conda\\envs\\carla-sim\\lib\\site-packages\\pip\\_vendor\\tenacity\\__init__.py\", line 160, in reraise\n",
      "    raise self.last_attempt.result()\n",
      "  File \"C:\\Users\\bhava\\.conda\\envs\\carla-sim\\lib\\concurrent\\futures\\_base.py\", line 437, in result\n",
      "    return self.__get_result()\n",
      "  File \"C:\\Users\\bhava\\.conda\\envs\\carla-sim\\lib\\concurrent\\futures\\_base.py\", line 389, in __get_result\n",
      "    raise self._exception\n",
      "  File \"C:\\Users\\bhava\\.conda\\envs\\carla-sim\\lib\\site-packages\\pip\\_vendor\\tenacity\\__init__.py\", line 384, in __call__\n",
      "    result = fn(*args, **kwargs)\n",
      "  File \"C:\\Users\\bhava\\.conda\\envs\\carla-sim\\lib\\site-packages\\pip\\_internal\\utils\\misc.py\", line 130, in rmtree\n",
      "    shutil.rmtree(dir, ignore_errors=ignore_errors, onerror=rmtree_errorhandler)\n",
      "  File \"C:\\Users\\bhava\\.conda\\envs\\carla-sim\\lib\\shutil.py\", line 740, in rmtree\n",
      "    return _rmtree_unsafe(path, onerror)\n",
      "  File \"C:\\Users\\bhava\\.conda\\envs\\carla-sim\\lib\\shutil.py\", line 618, in _rmtree_unsafe\n",
      "    onerror(os.unlink, fullname, sys.exc_info())\n",
      "  File \"C:\\Users\\bhava\\.conda\\envs\\carla-sim\\lib\\shutil.py\", line 616, in _rmtree_unsafe\n",
      "    os.unlink(fullname)\n",
      "PermissionError: [WinError 5] Access is denied: 'C:\\\\Users\\\\bhava\\\\AppData\\\\Local\\\\Temp\\\\pip-uninstall-6lfcwycr\\\\cv2.pyd'\n"
     ]
    }
   ],
   "source": [
    "pip uninstall opencv-python-headless -y"
   ]
  },
  {
   "cell_type": "code",
   "execution_count": 2,
   "id": "56c0dca9-ce2d-4606-9511-c0bd19fe4fea",
   "metadata": {},
   "outputs": [
    {
     "name": "stdout",
     "output_type": "stream",
     "text": [
      "Collecting opencv-python\n",
      "  Obtaining dependency information for opencv-python from https://files.pythonhosted.org/packages/a6/08/583e1d8d589e80a702815f58daa317bd469a32c7dc339394e2a0dc14318b/opencv_python-4.8.0.74-cp37-abi3-win_amd64.whl.metadata\n",
      "  Downloading opencv_python-4.8.0.74-cp37-abi3-win_amd64.whl.metadata (19 kB)\n",
      "Requirement already satisfied: numpy>=1.17.0 in c:\\users\\bhava\\.conda\\envs\\carla-sim\\lib\\site-packages (from opencv-python) (1.24.4)\n",
      "Using cached opencv_python-4.8.0.74-cp37-abi3-win_amd64.whl (38.1 MB)\n",
      "Installing collected packages: opencv-python\n",
      "Successfully installed opencv-python-4.8.0.74\n",
      "Note: you may need to restart the kernel to use updated packages.\n"
     ]
    },
    {
     "name": "stderr",
     "output_type": "stream",
     "text": [
      "WARNING: Ignoring invalid distribution - (c:\\users\\bhava\\.conda\\envs\\carla-sim\\lib\\site-packages)\n",
      "WARNING: Ignoring invalid distribution -illow (c:\\users\\bhava\\.conda\\envs\\carla-sim\\lib\\site-packages)\n",
      "WARNING: Ignoring invalid distribution -orch (c:\\users\\bhava\\.conda\\envs\\carla-sim\\lib\\site-packages)\n",
      "WARNING: Ignoring invalid distribution -pencv-python-headless (c:\\users\\bhava\\.conda\\envs\\carla-sim\\lib\\site-packages)\n",
      "WARNING: Ignoring invalid distribution -encv-python-headless (c:\\users\\bhava\\.conda\\envs\\carla-sim\\lib\\site-packages)\n",
      "WARNING: Ignoring invalid distribution - (c:\\users\\bhava\\.conda\\envs\\carla-sim\\lib\\site-packages)\n",
      "WARNING: Ignoring invalid distribution -illow (c:\\users\\bhava\\.conda\\envs\\carla-sim\\lib\\site-packages)\n",
      "WARNING: Ignoring invalid distribution -orch (c:\\users\\bhava\\.conda\\envs\\carla-sim\\lib\\site-packages)\n",
      "WARNING: Ignoring invalid distribution -pencv-python-headless (c:\\users\\bhava\\.conda\\envs\\carla-sim\\lib\\site-packages)\n",
      "WARNING: Ignoring invalid distribution -encv-python-headless (c:\\users\\bhava\\.conda\\envs\\carla-sim\\lib\\site-packages)\n"
     ]
    }
   ],
   "source": [
    "pip install opencv-python --upgrade"
   ]
  },
  {
   "cell_type": "code",
   "execution_count": 1,
   "id": "2e40baf9-6c72-421f-8141-4ba614aa95e2",
   "metadata": {},
   "outputs": [],
   "source": [
    "import torchvision.ops as ops"
   ]
  },
  {
   "cell_type": "code",
   "execution_count": 3,
   "id": "d6ca7489-0a68-4411-977e-9903f59e815d",
   "metadata": {},
   "outputs": [
    {
     "name": "stdout",
     "output_type": "stream",
     "text": [
      "Collecting ipdb\n",
      "  Downloading ipdb-0.13.13-py3-none-any.whl (12 kB)\n",
      "Requirement already satisfied: ipython>=7.31.1 in c:\\users\\bhava\\.conda\\envs\\carla-sim\\lib\\site-packages (from ipdb) (8.12.2)\n",
      "Requirement already satisfied: tomli in c:\\users\\bhava\\.conda\\envs\\carla-sim\\lib\\site-packages (from ipdb) (2.0.1)\n",
      "Requirement already satisfied: decorator in c:\\users\\bhava\\.conda\\envs\\carla-sim\\lib\\site-packages (from ipdb) (5.1.1)\n",
      "Requirement already satisfied: backcall in c:\\users\\bhava\\.conda\\envs\\carla-sim\\lib\\site-packages (from ipython>=7.31.1->ipdb) (0.2.0)\n",
      "Requirement already satisfied: jedi>=0.16 in c:\\users\\bhava\\.conda\\envs\\carla-sim\\lib\\site-packages (from ipython>=7.31.1->ipdb) (0.18.2)\n",
      "Requirement already satisfied: matplotlib-inline in c:\\users\\bhava\\.conda\\envs\\carla-sim\\lib\\site-packages (from ipython>=7.31.1->ipdb) (0.1.6)\n",
      "Requirement already satisfied: pickleshare in c:\\users\\bhava\\.conda\\envs\\carla-sim\\lib\\site-packages (from ipython>=7.31.1->ipdb) (0.7.5)\n",
      "Requirement already satisfied: prompt-toolkit!=3.0.37,<3.1.0,>=3.0.30 in c:\\users\\bhava\\.conda\\envs\\carla-sim\\lib\\site-packages (from ipython>=7.31.1->ipdb) (3.0.38)\n",
      "Requirement already satisfied: pygments>=2.4.0 in c:\\users\\bhava\\.conda\\envs\\carla-sim\\lib\\site-packages (from ipython>=7.31.1->ipdb) (2.15.1)\n",
      "Requirement already satisfied: stack-data in c:\\users\\bhava\\.conda\\envs\\carla-sim\\lib\\site-packages (from ipython>=7.31.1->ipdb) (0.6.2)\n",
      "Requirement already satisfied: traitlets>=5 in c:\\users\\bhava\\.conda\\envs\\carla-sim\\lib\\site-packages (from ipython>=7.31.1->ipdb) (5.9.0)\n",
      "Requirement already satisfied: typing-extensions in c:\\users\\bhava\\.conda\\envs\\carla-sim\\lib\\site-packages (from ipython>=7.31.1->ipdb) (4.5.0)\n",
      "Requirement already satisfied: colorama in c:\\users\\bhava\\.conda\\envs\\carla-sim\\lib\\site-packages (from ipython>=7.31.1->ipdb) (0.4.6)\n",
      "Requirement already satisfied: parso<0.9.0,>=0.8.0 in c:\\users\\bhava\\.conda\\envs\\carla-sim\\lib\\site-packages (from jedi>=0.16->ipython>=7.31.1->ipdb) (0.8.3)\n",
      "Requirement already satisfied: wcwidth in c:\\users\\bhava\\.conda\\envs\\carla-sim\\lib\\site-packages (from prompt-toolkit!=3.0.37,<3.1.0,>=3.0.30->ipython>=7.31.1->ipdb) (0.2.6)\n",
      "Requirement already satisfied: executing>=1.2.0 in c:\\users\\bhava\\.conda\\envs\\carla-sim\\lib\\site-packages (from stack-data->ipython>=7.31.1->ipdb) (1.2.0)\n",
      "Requirement already satisfied: asttokens>=2.1.0 in c:\\users\\bhava\\.conda\\envs\\carla-sim\\lib\\site-packages (from stack-data->ipython>=7.31.1->ipdb) (2.2.1)\n",
      "Requirement already satisfied: pure-eval in c:\\users\\bhava\\.conda\\envs\\carla-sim\\lib\\site-packages (from stack-data->ipython>=7.31.1->ipdb) (0.2.2)\n",
      "Requirement already satisfied: six in c:\\users\\bhava\\.conda\\envs\\carla-sim\\lib\\site-packages (from asttokens>=2.1.0->stack-data->ipython>=7.31.1->ipdb) (1.16.0)\n",
      "Installing collected packages: ipdb\n",
      "Successfully installed ipdb-0.13.13\n",
      "Note: you may need to restart the kernel to use updated packages.\n"
     ]
    },
    {
     "name": "stderr",
     "output_type": "stream",
     "text": [
      "WARNING: Ignoring invalid distribution - (c:\\users\\bhava\\.conda\\envs\\carla-sim\\lib\\site-packages)\n",
      "WARNING: Ignoring invalid distribution -illow (c:\\users\\bhava\\.conda\\envs\\carla-sim\\lib\\site-packages)\n",
      "WARNING: Ignoring invalid distribution -orch (c:\\users\\bhava\\.conda\\envs\\carla-sim\\lib\\site-packages)\n",
      "WARNING: Ignoring invalid distribution -pencv-python-headless (c:\\users\\bhava\\.conda\\envs\\carla-sim\\lib\\site-packages)\n",
      "WARNING: Ignoring invalid distribution -encv-python-headless (c:\\users\\bhava\\.conda\\envs\\carla-sim\\lib\\site-packages)\n",
      "WARNING: Ignoring invalid distribution - (c:\\users\\bhava\\.conda\\envs\\carla-sim\\lib\\site-packages)\n",
      "WARNING: Ignoring invalid distribution -illow (c:\\users\\bhava\\.conda\\envs\\carla-sim\\lib\\site-packages)\n",
      "WARNING: Ignoring invalid distribution -orch (c:\\users\\bhava\\.conda\\envs\\carla-sim\\lib\\site-packages)\n",
      "WARNING: Ignoring invalid distribution -pencv-python-headless (c:\\users\\bhava\\.conda\\envs\\carla-sim\\lib\\site-packages)\n",
      "WARNING: Ignoring invalid distribution -encv-python-headless (c:\\users\\bhava\\.conda\\envs\\carla-sim\\lib\\site-packages)\n"
     ]
    }
   ],
   "source": [
    "pip install ipdb"
   ]
  },
  {
   "cell_type": "code",
   "execution_count": 4,
   "id": "84fea3f7-b46a-4c6c-a14a-df2987105f64",
   "metadata": {},
   "outputs": [
    {
     "name": "stdout",
     "output_type": "stream",
     "text": [
      "Collecting munkres\n",
      "  Downloading munkres-1.1.4-py2.py3-none-any.whl (7.0 kB)\n",
      "Installing collected packages: munkres\n",
      "Successfully installed munkres-1.1.4\n",
      "Note: you may need to restart the kernel to use updated packages.\n"
     ]
    },
    {
     "name": "stderr",
     "output_type": "stream",
     "text": [
      "WARNING: Ignoring invalid distribution - (c:\\users\\bhava\\.conda\\envs\\carla-sim\\lib\\site-packages)\n",
      "WARNING: Ignoring invalid distribution -illow (c:\\users\\bhava\\.conda\\envs\\carla-sim\\lib\\site-packages)\n",
      "WARNING: Ignoring invalid distribution -orch (c:\\users\\bhava\\.conda\\envs\\carla-sim\\lib\\site-packages)\n",
      "WARNING: Ignoring invalid distribution -pencv-python-headless (c:\\users\\bhava\\.conda\\envs\\carla-sim\\lib\\site-packages)\n",
      "WARNING: Ignoring invalid distribution -encv-python-headless (c:\\users\\bhava\\.conda\\envs\\carla-sim\\lib\\site-packages)\n",
      "WARNING: Ignoring invalid distribution - (c:\\users\\bhava\\.conda\\envs\\carla-sim\\lib\\site-packages)\n",
      "WARNING: Ignoring invalid distribution -illow (c:\\users\\bhava\\.conda\\envs\\carla-sim\\lib\\site-packages)\n",
      "WARNING: Ignoring invalid distribution -orch (c:\\users\\bhava\\.conda\\envs\\carla-sim\\lib\\site-packages)\n",
      "WARNING: Ignoring invalid distribution -pencv-python-headless (c:\\users\\bhava\\.conda\\envs\\carla-sim\\lib\\site-packages)\n",
      "WARNING: Ignoring invalid distribution -encv-python-headless (c:\\users\\bhava\\.conda\\envs\\carla-sim\\lib\\site-packages)\n"
     ]
    }
   ],
   "source": [
    "pip install munkres"
   ]
  },
  {
   "cell_type": "code",
   "execution_count": 1,
   "id": "72c3fb1e-3dcf-4803-a679-2037f9178bc1",
   "metadata": {},
   "outputs": [],
   "source": [
    "from pymot.rect import Rect\n",
    "from pymot.importers import MOT_hypo_import\n",
    "from pymot.importers import MOT_groundtruth_import\n",
    "from pymot.formatchecker import FormatChecker\n",
    "from pymot.utilities import write_stderr_red"
   ]
  },
  {
   "cell_type": "code",
   "execution_count": 1,
   "id": "1c6e3966-3bf2-4994-b547-bed823e3c5d7",
   "metadata": {},
   "outputs": [],
   "source": [
    "import motmetrics as mm"
   ]
  },
  {
   "cell_type": "code",
   "execution_count": 11,
   "id": "81d1ffc0-5f0b-4f5c-8eb8-c1fc42fba7fe",
   "metadata": {},
   "outputs": [
    {
     "name": "stdout",
     "output_type": "stream",
     "text": [
      "         mota     motp\n",
      "acc  0.323394  0.18075\n"
     ]
    }
   ],
   "source": [
    "import motmetrics as mm\n",
    "import json\n",
    "\n",
    "# Load ground truth and DeepSORT JSON files\n",
    "with open('gt.json', 'r') as f:\n",
    "    gt_data = json.load(f)\n",
    "with open('new_data.json', 'r') as f:\n",
    "    ds_data = json.load(f)\n",
    "\n",
    "# Create an accumulator that will be updated during each frame\n",
    "acc = mm.MOTAccumulator(auto_id=True)\n",
    "\n",
    "# Iterate through each frame of data\n",
    "for frame in range(len(gt_data[0]['frames'])):\n",
    "    # Get ground truth and DeepSORT data for the current frame\n",
    "    gt_frame = gt_data[0]['frames'][frame]\n",
    "    ds_frame = ds_data[0]['frames'][frame]\n",
    "\n",
    "\n",
    "    # Get the ground truth and DeepSORT bounding boxes for the current frame\n",
    "    #gt_boxes = [d['bbox'] for d in gt_frame['annotations']]\n",
    "    #ds_boxes = [d['bbox'] for d in ds_frame['hypotheses']]\n",
    "\n",
    "    gt_boxes = [[d['x'], d['y'], d['width'], d['height']] for d in gt_frame['annotations']]           \n",
    "    ds_boxes = [[d['x'], d['y'], d['width'], d['height']] for d in ds_frame['hypotheses']]\n",
    "\n",
    "    # Calculate the intersection over union (IOU) distance between ground truth and DeepSORT bounding boxes\n",
    "    distances = mm.distances.iou_matrix(gt_boxes, ds_boxes, max_iou=0.5)\n",
    "\n",
    "    # Update the accumulator with the calculated distances\n",
    "    acc.update(\n",
    "        [d['id'] for d in gt_frame['annotations']],\n",
    "        [d['id'] for d in ds_frame['hypotheses']],\n",
    "        distances\n",
    "    )\n",
    "\n",
    "# Calculate the MOTA and MOTP metrics from the accumulator data\n",
    "mh = mm.metrics.create()\n",
    "summary = mh.compute(acc, metrics=['mota', 'motp'], name='acc')\n",
    "print(summary)\n"
   ]
  },
  {
   "cell_type": "code",
   "execution_count": 10,
   "id": "55165ea5-1582-4bf6-b41a-8a8f847f2153",
   "metadata": {},
   "outputs": [
    {
     "name": "stdout",
     "output_type": "stream",
     "text": [
      "MOTA: 0.32339449541284404\n",
      "MOTP: 0.8192498677948182\n"
     ]
    }
   ],
   "source": [
    "import json\n",
    "from collections import defaultdict\n",
    "import numpy as np\n",
    "\n",
    "# Load ground truth and DeepSORT JSON files\n",
    "with open('gt.json', 'r') as f:\n",
    "    gt_data = json.load(f)\n",
    "with open('new_data.json', 'r') as f:\n",
    "    ds_data = json.load(f)\n",
    "\n",
    "# Initialize variables for calculating MOTA and MOTP metrics\n",
    "num_matches = 0\n",
    "num_misses = 0\n",
    "num_false_positives = 0\n",
    "num_mismatches = 0\n",
    "total_distance = 0\n",
    "\n",
    "# Iterate through each frame of data\n",
    "for frame in range(len(gt_data[0]['frames'])):\n",
    "    # Get ground truth and DeepSORT data for the current frame\n",
    "    gt_frame = gt_data[0]['frames'][frame]\n",
    "    ds_frame = ds_data[0]['frames'][frame]\n",
    "\n",
    "    # Get the ground truth and DeepSORT bounding boxes for the current frame\n",
    "    gt_boxes = [[d['x'], d['y'], d['width'], d['height']] for d in gt_frame['annotations']]\n",
    "    ds_boxes = [[d['x'], d['y'], d['width'], d['height']] for d in ds_frame['hypotheses']]\n",
    "\n",
    "    # Calculate the intersection over union (IOU) between ground truth and DeepSORT bounding boxes\n",
    "    iou_matrix = []\n",
    "    for gt_box in gt_boxes:\n",
    "        iou_row = []\n",
    "        for ds_box in ds_boxes:\n",
    "            x1, y1, w1, h1 = gt_box\n",
    "            x2, y2, w2, h2 = ds_box\n",
    "            left = max(x1, x2)\n",
    "            top = max(y1, y2)\n",
    "            right = min(x1 + w1, x2 + w2)\n",
    "            bottom = min(y1 + h1, y2 + h2)\n",
    "            if right < left or bottom < top:\n",
    "                iou_row.append(0.0)\n",
    "                continue\n",
    "            intersection_area = (right - left) * (bottom - top)\n",
    "            bb1_area = w1 * h1\n",
    "            bb2_area = w2 * h2\n",
    "            iou_row.append(intersection_area / float(bb1_area + bb2_area - intersection_area))\n",
    "        iou_matrix.append(iou_row)\n",
    "\n",
    "    # Find matches between ground truth and DeepSORT bounding boxes using the Hungarian algorithm\n",
    "    if len(gt_boxes) >0 and len(ds_boxes) > 0:\n",
    "        \n",
    "        from scipy.optimize import linear_sum_assignment\n",
    "        row_ind, col_ind = linear_sum_assignment(1 - np.array(iou_matrix))\n",
    "        matches = [(row_ind[i], col_ind[i]) for i in range(len(row_ind)) if iou_matrix[row_ind[i]][col_ind[i]] > 0.5]\n",
    "    else:\n",
    "        matches= []\n",
    "    # Update MOTA and MOTP metrics with the current frame data\n",
    "    num_matches += len(matches)\n",
    "    num_misses += len(gt_boxes) - len(matches)\n",
    "    num_false_positives += len(ds_boxes) - len(matches)\n",
    "    total_distance += sum([iou_matrix[i][j] for i, j in matches])\n",
    "\n",
    "\n",
    "# Calculate the final MOTA and MOTP values\n",
    "mota = 1 - (num_misses + num_false_positives + num_mismatches) / sum([len(frame['annotations']) for frame in gt_data[0]['frames']])\n",
    "motp = total_distance / num_matches\n",
    "\n",
    "print(f'MOTA: {mota}')\n",
    "print(f'MOTP: {motp}')\n"
   ]
  },
  {
   "cell_type": "code",
   "execution_count": null,
   "id": "e5ddfbfc-4c29-440d-9b88-55d0200f083b",
   "metadata": {},
   "outputs": [],
   "source": []
  }
 ],
 "metadata": {
  "kernelspec": {
   "display_name": "Python 3 (ipykernel)",
   "language": "python",
   "name": "python3"
  },
  "language_info": {
   "codemirror_mode": {
    "name": "ipython",
    "version": 3
   },
   "file_extension": ".py",
   "mimetype": "text/x-python",
   "name": "python",
   "nbconvert_exporter": "python",
   "pygments_lexer": "ipython3",
   "version": "3.8.17"
  }
 },
 "nbformat": 4,
 "nbformat_minor": 5
}
