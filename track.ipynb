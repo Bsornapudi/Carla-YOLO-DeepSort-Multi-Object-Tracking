{
 "cells": [
  {
   "cell_type": "code",
   "execution_count": 1,
   "id": "29ad89f8-379f-45fe-b997-915db4e6a34f",
   "metadata": {},
   "outputs": [
    {
     "name": "stdout",
     "output_type": "stream",
     "text": [
      "after load model\n",
      "in while loop\n"
     ]
    },
    {
     "name": "stderr",
     "output_type": "stream",
     "text": [
      "\n",
      "0: 480x640 1 person, 3 cars, 180.0ms\n",
      "Speed: 11.0ms preprocess, 180.0ms inference, 5.0ms postprocess per image at shape (1, 3, 480, 640)\n",
      "\n"
     ]
    },
    {
     "name": "stdout",
     "output_type": "stream",
     "text": [
      "deepsort output []\n",
      "in while loop\n"
     ]
    },
    {
     "name": "stderr",
     "output_type": "stream",
     "text": [
      "0: 480x640 1 person, 2 bicycles, 1 car, 14.0ms\n",
      "Speed: 8.0ms preprocess, 14.0ms inference, 20.0ms postprocess per image at shape (1, 3, 480, 640)\n",
      "\n",
      "0: 480x640 1 person, 1 bicycle, 1 car, 16.0ms\n",
      "Speed: 9.0ms preprocess, 16.0ms inference, 2.0ms postprocess per image at shape (1, 3, 480, 640)\n",
      "\n",
      "0: 480x640 1 person, 1 bicycle, 1 car, 13.0ms\n",
      "Speed: 7.5ms preprocess, 13.0ms inference, 2.0ms postprocess per image at shape (1, 3, 480, 640)\n",
      "\n"
     ]
    },
    {
     "name": "stdout",
     "output_type": "stream",
     "text": [
      "deepsort output []\n",
      "in while loop\n",
      "deepsort output []\n",
      "in while loop\n",
      "deepsort output [[546 555 581 575   3]]\n",
      "in while loop\n"
     ]
    },
    {
     "name": "stderr",
     "output_type": "stream",
     "text": [
      "0: 480x640 1 person, 1 bicycle, 1 car, 40.0ms\n",
      "Speed: 7.0ms preprocess, 40.0ms inference, 2.0ms postprocess per image at shape (1, 3, 480, 640)\n",
      "\n",
      "0: 480x640 1 person, 1 bicycle, 1 car, 14.0ms\n",
      "Speed: 5.0ms preprocess, 14.0ms inference, 2.0ms postprocess per image at shape (1, 3, 480, 640)\n",
      "\n",
      "0: 480x640 1 person, 1 bicycle, 1 car, 14.0ms\n",
      "Speed: 5.0ms preprocess, 14.0ms inference, 2.0ms postprocess per image at shape (1, 3, 480, 640)\n",
      "\n",
      "0: 480x640 1 person, 1 bicycle, 1 car, 32.0ms\n",
      "Speed: 5.0ms preprocess, 32.0ms inference, 2.0ms postprocess per image at shape (1, 3, 480, 640)\n"
     ]
    },
    {
     "name": "stdout",
     "output_type": "stream",
     "text": [
      "deepsort output [[546 555 581 575   3]]\n",
      "in while loop\n",
      "deepsort output [[546 555 581 575   3]]\n",
      "in while loop\n",
      "deepsort output [[547 555 581 575   3]]\n",
      "in while loop\n",
      "deepsort output [[547 555 581 575   3]]\n",
      "in while loop\n"
     ]
    },
    {
     "name": "stderr",
     "output_type": "stream",
     "text": [
      "\n",
      "0: 480x640 1 person, 1 bicycle, 1 car, 14.0ms\n",
      "Speed: 6.0ms preprocess, 14.0ms inference, 2.0ms postprocess per image at shape (1, 3, 480, 640)\n",
      "\n",
      "0: 480x640 1 person, 1 bicycle, 1 car, 14.0ms\n",
      "Speed: 5.0ms preprocess, 14.0ms inference, 2.0ms postprocess per image at shape (1, 3, 480, 640)\n",
      "\n",
      "0: 480x640 1 person, 1 bicycle, 1 car, 14.0ms\n",
      "Speed: 5.0ms preprocess, 14.0ms inference, 5.0ms postprocess per image at shape (1, 3, 480, 640)\n",
      "\n",
      "0: 480x640 1 person, 2 bicycles, 1 car, 14.0ms\n",
      "Speed: 6.3ms preprocess, 14.0ms inference, 2.0ms postprocess per image at shape (1, 3, 480, 640)\n"
     ]
    },
    {
     "name": "stdout",
     "output_type": "stream",
     "text": [
      "deepsort output [[547 555 582 575   3]]\n",
      "in while loop\n",
      "deepsort output []\n",
      "in while loop\n",
      "deepsort output []\n",
      "in while loop\n",
      "deepsort output [[547 555 582 575   3]]\n",
      "in while loop\n"
     ]
    },
    {
     "name": "stderr",
     "output_type": "stream",
     "text": [
      "\n",
      "0: 480x640 1 person, 2 bicycles, 1 car, 15.0ms\n",
      "Speed: 6.0ms preprocess, 15.0ms inference, 2.0ms postprocess per image at shape (1, 3, 480, 640)\n",
      "\n",
      "0: 480x640 1 person, 2 bicycles, 1 car, 13.0ms\n",
      "Speed: 7.0ms preprocess, 13.0ms inference, 2.0ms postprocess per image at shape (1, 3, 480, 640)\n",
      "\n",
      "0: 480x640 1 person, 2 bicycles, 1 car, 13.0ms\n",
      "Speed: 6.0ms preprocess, 13.0ms inference, 3.0ms postprocess per image at shape (1, 3, 480, 640)\n",
      "\n",
      "0: 480x640 1 person, 1 bicycle, 1 car, 15.0ms\n",
      "Speed: 6.0ms preprocess, 15.0ms inference, 3.0ms postprocess per image at shape (1, 3, 480, 640)\n"
     ]
    },
    {
     "name": "stdout",
     "output_type": "stream",
     "text": [
      "deepsort output [[547 555 582 575   3]]\n",
      "in while loop\n",
      "deepsort output [[548 555 582 575   3]]\n",
      "in while loop\n",
      "deepsort output [[548 555 581 575   3]]\n",
      "in while loop\n",
      "deepsort output [[548 555 582 575   3]]\n",
      "in while loop\n"
     ]
    },
    {
     "name": "stderr",
     "output_type": "stream",
     "text": [
      "\n",
      "0: 480x640 1 person, 1 bicycle, 1 car, 17.0ms\n",
      "Speed: 7.0ms preprocess, 17.0ms inference, 4.0ms postprocess per image at shape (1, 3, 480, 640)\n",
      "\n",
      "0: 480x640 1 person, 1 bicycle, 1 car, 19.0ms\n",
      "Speed: 6.0ms preprocess, 19.0ms inference, 2.0ms postprocess per image at shape (1, 3, 480, 640)\n",
      "\n",
      "0: 480x640 1 person, 1 bicycle, 1 car, 13.5ms\n",
      "Speed: 7.0ms preprocess, 13.5ms inference, 3.0ms postprocess per image at shape (1, 3, 480, 640)\n",
      "\n",
      "0: 480x640 1 person, 1 bicycle, 1 car, 14.0ms\n",
      "Speed: 5.0ms preprocess, 14.0ms inference, 2.0ms postprocess per image at shape (1, 3, 480, 640)\n"
     ]
    },
    {
     "name": "stdout",
     "output_type": "stream",
     "text": [
      "deepsort output []\n",
      "in while loop\n",
      "deepsort output []\n",
      "in while loop\n",
      "deepsort output []\n",
      "in while loop\n",
      "deepsort output []\n",
      "in while loop\n"
     ]
    },
    {
     "name": "stderr",
     "output_type": "stream",
     "text": [
      "\n",
      "0: 480x640 1 person, 1 bicycle, 1 car, 13.0ms\n",
      "Speed: 5.0ms preprocess, 13.0ms inference, 3.0ms postprocess per image at shape (1, 3, 480, 640)\n",
      "\n",
      "0: 480x640 1 person, 1 bicycle, 1 car, 12.0ms\n",
      "Speed: 5.0ms preprocess, 12.0ms inference, 2.0ms postprocess per image at shape (1, 3, 480, 640)\n",
      "\n",
      "0: 480x640 1 person, 1 bicycle, 13.0ms\n",
      "Speed: 5.0ms preprocess, 13.0ms inference, 2.0ms postprocess per image at shape (1, 3, 480, 640)\n",
      "\n",
      "0: 480x640 1 person, 1 bicycle, 14.0ms\n",
      "Speed: 5.0ms preprocess, 14.0ms inference, 2.0ms postprocess per image at shape (1, 3, 480, 640)\n",
      "\n",
      "0: 480x640 1 person, 1 bicycle, 13.0ms\n"
     ]
    },
    {
     "name": "stdout",
     "output_type": "stream",
     "text": [
      "deepsort output []\n",
      "in while loop\n",
      "deepsort output []\n",
      "in while loop\n",
      "deepsort output []\n",
      "in while loop\n",
      "deepsort output []\n",
      "in while loop\n"
     ]
    },
    {
     "name": "stderr",
     "output_type": "stream",
     "text": [
      "Speed: 6.0ms preprocess, 13.0ms inference, 2.0ms postprocess per image at shape (1, 3, 480, 640)\n",
      "\n",
      "0: 480x640 1 person, 1 bicycle, 17.0ms\n",
      "Speed: 6.0ms preprocess, 17.0ms inference, 2.0ms postprocess per image at shape (1, 3, 480, 640)\n",
      "\n",
      "0: 480x640 1 person, 1 bicycle, 14.0ms\n",
      "Speed: 6.0ms preprocess, 14.0ms inference, 2.0ms postprocess per image at shape (1, 3, 480, 640)\n",
      "\n",
      "0: 480x640 1 person, 1 bicycle, 1 car, 13.0ms\n",
      "Speed: 5.0ms preprocess, 13.0ms inference, 2.0ms postprocess per image at shape (1, 3, 480, 640)\n",
      "\n",
      "0: 480x640 1 person, 1 bicycle, 1 car, 13.0ms\n"
     ]
    },
    {
     "name": "stdout",
     "output_type": "stream",
     "text": [
      "deepsort output []\n",
      "in while loop\n",
      "deepsort output []\n",
      "in while loop\n",
      "deepsort output []\n",
      "in while loop\n",
      "deepsort output []\n",
      "in while loop\n"
     ]
    },
    {
     "name": "stderr",
     "output_type": "stream",
     "text": [
      "Speed: 5.0ms preprocess, 13.0ms inference, 1.0ms postprocess per image at shape (1, 3, 480, 640)\n",
      "\n",
      "0: 480x640 1 person, 1 bicycle, 1 car, 12.0ms\n",
      "Speed: 6.0ms preprocess, 12.0ms inference, 2.0ms postprocess per image at shape (1, 3, 480, 640)\n",
      "\n",
      "0: 480x640 1 person, 1 bicycle, 1 car, 12.0ms\n",
      "Speed: 6.0ms preprocess, 12.0ms inference, 2.0ms postprocess per image at shape (1, 3, 480, 640)\n",
      "\n",
      "0: 480x640 1 person, 1 bicycle, 1 car, 13.0ms\n",
      "Speed: 5.0ms preprocess, 13.0ms inference, 2.0ms postprocess per image at shape (1, 3, 480, 640)\n",
      "\n"
     ]
    },
    {
     "name": "stdout",
     "output_type": "stream",
     "text": [
      "deepsort output []\n",
      "in while loop\n",
      "deepsort output []\n",
      "in while loop\n",
      "deepsort output []\n",
      "in while loop\n",
      "deepsort output []\n",
      "in while loop\n"
     ]
    },
    {
     "name": "stderr",
     "output_type": "stream",
     "text": [
      "0: 480x640 1 person, 1 bicycle, 1 car, 12.0ms\n",
      "Speed: 6.0ms preprocess, 12.0ms inference, 2.0ms postprocess per image at shape (1, 3, 480, 640)\n",
      "\n",
      "0: 480x640 1 person, 1 bicycle, 1 car, 17.0ms\n",
      "Speed: 5.0ms preprocess, 17.0ms inference, 2.0ms postprocess per image at shape (1, 3, 480, 640)\n",
      "\n",
      "0: 480x640 1 person, 1 car, 13.0ms\n",
      "Speed: 5.0ms preprocess, 13.0ms inference, 2.0ms postprocess per image at shape (1, 3, 480, 640)\n",
      "\n",
      "0: 480x640 1 person, 1 car, 13.3ms\n",
      "Speed: 6.0ms preprocess, 13.3ms inference, 2.0ms postprocess per image at shape (1, 3, 480, 640)\n",
      "\n"
     ]
    },
    {
     "name": "stdout",
     "output_type": "stream",
     "text": [
      "deepsort output []\n",
      "in while loop\n",
      "deepsort output []\n",
      "in while loop\n",
      "deepsort output []\n",
      "in while loop\n",
      "deepsort output []\n",
      "in while loop\n"
     ]
    },
    {
     "name": "stderr",
     "output_type": "stream",
     "text": [
      "0: 480x640 1 person, 1 car, 13.0ms\n",
      "Speed: 5.0ms preprocess, 13.0ms inference, 2.0ms postprocess per image at shape (1, 3, 480, 640)\n",
      "\n",
      "0: 480x640 1 person, 1 car, 32.0ms\n",
      "Speed: 6.0ms preprocess, 32.0ms inference, 2.0ms postprocess per image at shape (1, 3, 480, 640)\n",
      "\n",
      "0: 480x640 (no detections), 14.0ms\n",
      "Speed: 5.0ms preprocess, 14.0ms inference, 1.0ms postprocess per image at shape (1, 3, 480, 640)\n",
      "\n",
      "0: 480x640 (no detections), 12.0ms\n",
      "Speed: 5.0ms preprocess, 12.0ms inference, 1.0ms postprocess per image at shape (1, 3, 480, 640)\n",
      "\n"
     ]
    },
    {
     "name": "stdout",
     "output_type": "stream",
     "text": [
      "deepsort output []\n",
      "in while loop\n",
      "deepsort output []\n",
      "in while loop\n",
      "deepsort output []\n",
      "in while loop\n",
      "deepsort output []\n",
      "in while loop\n"
     ]
    },
    {
     "name": "stderr",
     "output_type": "stream",
     "text": [
      "0: 480x640 (no detections), 12.0ms\n",
      "Speed: 6.0ms preprocess, 12.0ms inference, 1.0ms postprocess per image at shape (1, 3, 480, 640)\n",
      "\n",
      "0: 480x640 (no detections), 23.0ms\n",
      "Speed: 8.0ms preprocess, 23.0ms inference, 1.0ms postprocess per image at shape (1, 3, 480, 640)\n",
      "\n",
      "0: 480x640 1 car, 12.0ms\n",
      "Speed: 5.0ms preprocess, 12.0ms inference, 3.0ms postprocess per image at shape (1, 3, 480, 640)\n",
      "\n",
      "0: 480x640 1 car, 17.0ms\n",
      "Speed: 5.0ms preprocess, 17.0ms inference, 2.0ms postprocess per image at shape (1, 3, 480, 640)\n",
      "\n",
      "0: 480x640 1 car, 13.0ms\n"
     ]
    },
    {
     "name": "stdout",
     "output_type": "stream",
     "text": [
      "deepsort output []\n",
      "in while loop\n",
      "deepsort output []\n",
      "in while loop\n",
      "deepsort output []\n",
      "in while loop\n",
      "deepsort output []\n",
      "in while loop\n"
     ]
    },
    {
     "name": "stderr",
     "output_type": "stream",
     "text": [
      "Speed: 5.0ms preprocess, 13.0ms inference, 2.0ms postprocess per image at shape (1, 3, 480, 640)\n",
      "\n",
      "0: 480x640 2 cars, 14.0ms\n",
      "Speed: 5.0ms preprocess, 14.0ms inference, 2.0ms postprocess per image at shape (1, 3, 480, 640)\n",
      "\n",
      "0: 480x640 2 cars, 13.0ms\n",
      "Speed: 7.0ms preprocess, 13.0ms inference, 2.0ms postprocess per image at shape (1, 3, 480, 640)\n",
      "\n"
     ]
    },
    {
     "name": "stdout",
     "output_type": "stream",
     "text": [
      "deepsort output []\n",
      "in while loop\n",
      "deepsort output [[549 555 581 575   3]]\n",
      "in while loop\n",
      "deepsort output [[549 556 581 575   3]]\n",
      "in while loop\n"
     ]
    },
    {
     "name": "stderr",
     "output_type": "stream",
     "text": [
      "0: 480x640 2 cars, 12.0ms\n",
      "Speed: 6.0ms preprocess, 12.0ms inference, 2.0ms postprocess per image at shape (1, 3, 480, 640)\n",
      "\n",
      "0: 480x640 2 cars, 13.0ms\n",
      "Speed: 6.0ms preprocess, 13.0ms inference, 1.0ms postprocess per image at shape (1, 3, 480, 640)\n",
      "\n",
      "0: 480x640 2 cars, 12.0ms\n",
      "Speed: 5.0ms preprocess, 12.0ms inference, 2.0ms postprocess per image at shape (1, 3, 480, 640)\n",
      "\n"
     ]
    },
    {
     "name": "stdout",
     "output_type": "stream",
     "text": [
      "deepsort output [[549 556 581 575   3]]\n",
      "in while loop\n",
      "deepsort output [[549 555 581 574   3]]\n",
      "in while loop\n",
      "deepsort output [[549 555 581 575   3]]\n",
      "in while loop\n"
     ]
    },
    {
     "name": "stderr",
     "output_type": "stream",
     "text": [
      "0: 480x640 2 cars, 33.0ms\n",
      "Speed: 5.0ms preprocess, 33.0ms inference, 2.0ms postprocess per image at shape (1, 3, 480, 640)\n",
      "\n",
      "0: 480x640 1 car, 15.0ms\n",
      "Speed: 6.0ms preprocess, 15.0ms inference, 3.0ms postprocess per image at shape (1, 3, 480, 640)\n",
      "\n",
      "0: 480x640 1 car, 12.0ms\n",
      "Speed: 5.0ms preprocess, 12.0ms inference, 2.0ms postprocess per image at shape (1, 3, 480, 640)\n",
      "\n",
      "0: 480x640 1 car, 13.0ms\n",
      "Speed: 5.0ms preprocess, 13.0ms inference, 3.0ms postprocess per image at shape (1, 3, 480, 640)\n",
      "\n"
     ]
    },
    {
     "name": "stdout",
     "output_type": "stream",
     "text": [
      "deepsort output [[549 554 581 575   3]]\n",
      "in while loop\n",
      "deepsort output [[549 554 581 575   3]]\n",
      "in while loop\n",
      "deepsort output []\n",
      "in while loop\n",
      "deepsort output []\n",
      "in while loop\n"
     ]
    },
    {
     "name": "stderr",
     "output_type": "stream",
     "text": [
      "0: 480x640 1 car, 13.0ms\n",
      "Speed: 6.0ms preprocess, 13.0ms inference, 2.0ms postprocess per image at shape (1, 3, 480, 640)\n",
      "\n",
      "0: 480x640 1 car, 13.0ms\n",
      "Speed: 5.0ms preprocess, 13.0ms inference, 2.0ms postprocess per image at shape (1, 3, 480, 640)\n",
      "\n",
      "0: 480x640 1 car, 14.0ms\n",
      "Speed: 5.0ms preprocess, 14.0ms inference, 2.0ms postprocess per image at shape (1, 3, 480, 640)\n",
      "\n",
      "0: 480x640 1 car, 14.0ms\n",
      "Speed: 7.0ms preprocess, 14.0ms inference, 2.0ms postprocess per image at shape (1, 3, 480, 640)\n",
      "\n"
     ]
    },
    {
     "name": "stdout",
     "output_type": "stream",
     "text": [
      "deepsort output [[546 554 579 575   3]]\n",
      "in while loop\n",
      "deepsort output [[545 554 579 575   3]]\n",
      "in while loop\n",
      "deepsort output [[545 554 579 575   3]]\n",
      "in while loop\n",
      "deepsort output [[545 554 579 575   3]]\n",
      "in while loop\n"
     ]
    },
    {
     "name": "stderr",
     "output_type": "stream",
     "text": [
      "0: 480x640 1 car, 13.0ms\n",
      "Speed: 5.0ms preprocess, 13.0ms inference, 1.0ms postprocess per image at shape (1, 3, 480, 640)\n",
      "\n",
      "0: 480x640 1 car, 18.0ms\n",
      "Speed: 5.0ms preprocess, 18.0ms inference, 4.0ms postprocess per image at shape (1, 3, 480, 640)\n",
      "\n",
      "0: 480x640 1 car, 33.0ms\n",
      "Speed: 5.0ms preprocess, 33.0ms inference, 1.7ms postprocess per image at shape (1, 3, 480, 640)\n",
      "\n"
     ]
    },
    {
     "name": "stdout",
     "output_type": "stream",
     "text": [
      "deepsort output [[544 554 579 575   3]]\n",
      "in while loop\n",
      "deepsort output [[544 554 579 575   3]]\n",
      "in while loop\n",
      "deepsort output [[544 554 579 574   3]]\n",
      "in while loop\n"
     ]
    },
    {
     "name": "stderr",
     "output_type": "stream",
     "text": [
      "0: 480x640 1 car, 13.0ms\n",
      "Speed: 5.0ms preprocess, 13.0ms inference, 1.0ms postprocess per image at shape (1, 3, 480, 640)\n",
      "\n",
      "0: 480x640 1 car, 13.0ms\n",
      "Speed: 5.0ms preprocess, 13.0ms inference, 2.0ms postprocess per image at shape (1, 3, 480, 640)\n",
      "\n",
      "0: 480x640 1 car, 12.0ms\n",
      "Speed: 5.0ms preprocess, 12.0ms inference, 2.0ms postprocess per image at shape (1, 3, 480, 640)\n",
      "\n",
      "0: 480x640 1 car, 13.0ms\n",
      "Speed: 6.0ms preprocess, 13.0ms inference, 2.0ms postprocess per image at shape (1, 3, 480, 640)\n",
      "\n"
     ]
    },
    {
     "name": "stdout",
     "output_type": "stream",
     "text": [
      "deepsort output [[544 554 580 575   3]]\n",
      "in while loop\n",
      "deepsort output [[545 554 580 575   3]]\n",
      "in while loop\n",
      "deepsort output [[545 554 580 575   3]]\n",
      "in while loop\n",
      "deepsort output [[545 554 580 575   3]]\n",
      "in while loop\n"
     ]
    },
    {
     "name": "stderr",
     "output_type": "stream",
     "text": [
      "0: 480x640 1 car, 12.0ms\n",
      "Speed: 5.0ms preprocess, 12.0ms inference, 2.0ms postprocess per image at shape (1, 3, 480, 640)\n",
      "\n",
      "0: 480x640 1 car, 14.0ms\n",
      "Speed: 5.0ms preprocess, 14.0ms inference, 2.0ms postprocess per image at shape (1, 3, 480, 640)\n",
      "\n",
      "0: 480x640 1 car, 16.0ms\n",
      "Speed: 7.0ms preprocess, 16.0ms inference, 2.0ms postprocess per image at shape (1, 3, 480, 640)\n",
      "\n",
      "0: 480x640 1 car, 14.0ms\n",
      "Speed: 5.0ms preprocess, 14.0ms inference, 2.0ms postprocess per image at shape (1, 3, 480, 640)\n",
      "\n"
     ]
    },
    {
     "name": "stdout",
     "output_type": "stream",
     "text": [
      "deepsort output []\n",
      "in while loop\n",
      "deepsort output []\n",
      "in while loop\n",
      "deepsort output []\n",
      "in while loop\n",
      "deepsort output [[542 554 580 575   3]]\n",
      "in while loop\n"
     ]
    },
    {
     "name": "stderr",
     "output_type": "stream",
     "text": [
      "0: 480x640 1 car, 12.0ms\n",
      "Speed: 6.0ms preprocess, 12.0ms inference, 1.0ms postprocess per image at shape (1, 3, 480, 640)\n",
      "\n",
      "0: 480x640 1 car, 15.0ms\n",
      "Speed: 7.0ms preprocess, 15.0ms inference, 2.0ms postprocess per image at shape (1, 3, 480, 640)\n",
      "\n",
      "0: 480x640 1 car, 13.0ms\n",
      "Speed: 8.0ms preprocess, 13.0ms inference, 2.0ms postprocess per image at shape (1, 3, 480, 640)\n",
      "\n",
      "0: 480x640 1 car, 13.0ms\n",
      "Speed: 6.0ms preprocess, 13.0ms inference, 2.0ms postprocess per image at shape (1, 3, 480, 640)\n",
      "\n",
      "0: 480x640 1 car, 13.0ms\n"
     ]
    },
    {
     "name": "stdout",
     "output_type": "stream",
     "text": [
      "deepsort output [[542 554 580 575   3]]\n",
      "in while loop\n",
      "deepsort output [[542 554 580 576   3]]\n",
      "in while loop\n",
      "deepsort output [[543 554 581 576   3]]\n",
      "in while loop\n",
      "deepsort output [[543 554 581 576   3]]\n",
      "in while loop\n"
     ]
    },
    {
     "name": "stderr",
     "output_type": "stream",
     "text": [
      "Speed: 5.0ms preprocess, 13.0ms inference, 2.0ms postprocess per image at shape (1, 3, 480, 640)\n",
      "\n",
      "0: 480x640 1 car, 13.0ms\n",
      "Speed: 5.0ms preprocess, 13.0ms inference, 2.0ms postprocess per image at shape (1, 3, 480, 640)\n",
      "\n",
      "0: 480x640 1 car, 12.0ms\n",
      "Speed: 5.0ms preprocess, 12.0ms inference, 2.0ms postprocess per image at shape (1, 3, 480, 640)\n",
      "\n",
      "0: 480x640 1 car, 15.0ms\n",
      "Speed: 5.0ms preprocess, 15.0ms inference, 2.0ms postprocess per image at shape (1, 3, 480, 640)\n"
     ]
    },
    {
     "name": "stdout",
     "output_type": "stream",
     "text": [
      "deepsort output [[543 554 581 576   3]]\n",
      "in while loop\n",
      "deepsort output [[543 554 581 576   3]]\n",
      "in while loop\n",
      "deepsort output [[543 554 581 576   3]]\n",
      "in while loop\n",
      "deepsort output [[543 554 581 576   3]]\n",
      "in while loop\n"
     ]
    },
    {
     "name": "stderr",
     "output_type": "stream",
     "text": [
      "\n",
      "0: 480x640 1 car, 13.0ms\n",
      "Speed: 5.0ms preprocess, 13.0ms inference, 2.0ms postprocess per image at shape (1, 3, 480, 640)\n",
      "\n",
      "0: 480x640 1 car, 13.0ms\n",
      "Speed: 5.0ms preprocess, 13.0ms inference, 2.0ms postprocess per image at shape (1, 3, 480, 640)\n",
      "\n",
      "0: 480x640 1 car, 14.0ms\n",
      "Speed: 5.0ms preprocess, 14.0ms inference, 3.0ms postprocess per image at shape (1, 3, 480, 640)\n",
      "\n",
      "0: 480x640 1 car, 13.0ms\n",
      "Speed: 5.0ms preprocess, 13.0ms inference, 2.0ms postprocess per image at shape (1, 3, 480, 640)\n"
     ]
    },
    {
     "name": "stdout",
     "output_type": "stream",
     "text": [
      "deepsort output [[543 554 581 576   3]]\n",
      "in while loop\n",
      "deepsort output [[542 554 581 575   3]]\n",
      "in while loop\n",
      "deepsort output [[542 554 580 575   3]]\n",
      "in while loop\n",
      "deepsort output [[542 553 580 575   3]]\n",
      "in while loop\n"
     ]
    },
    {
     "name": "stderr",
     "output_type": "stream",
     "text": [
      "\n",
      "0: 480x640 1 car, 13.0ms\n",
      "Speed: 5.0ms preprocess, 13.0ms inference, 2.0ms postprocess per image at shape (1, 3, 480, 640)\n",
      "\n",
      "0: 480x640 1 car, 13.0ms\n",
      "Speed: 5.0ms preprocess, 13.0ms inference, 2.0ms postprocess per image at shape (1, 3, 480, 640)\n",
      "\n",
      "0: 480x640 1 car, 15.0ms\n",
      "Speed: 5.0ms preprocess, 15.0ms inference, 2.0ms postprocess per image at shape (1, 3, 480, 640)\n",
      "\n",
      "0: 480x640 1 car, 23.0ms\n",
      "Speed: 8.0ms preprocess, 23.0ms inference, 3.0ms postprocess per image at shape (1, 3, 480, 640)\n"
     ]
    },
    {
     "name": "stdout",
     "output_type": "stream",
     "text": [
      "deepsort output [[542 553 580 574   3]]\n",
      "in while loop\n",
      "deepsort output [[542 553 580 574   3]]\n",
      "in while loop\n",
      "deepsort output [[542 553 580 574   3]]\n",
      "in while loop\n",
      "deepsort output [[542 553 580 574   3]]\n",
      "in while loop\n"
     ]
    },
    {
     "name": "stderr",
     "output_type": "stream",
     "text": [
      "\n",
      "0: 480x640 1 car, 13.0ms\n",
      "Speed: 6.0ms preprocess, 13.0ms inference, 2.0ms postprocess per image at shape (1, 3, 480, 640)\n",
      "\n",
      "0: 480x640 1 car, 13.0ms\n",
      "Speed: 5.0ms preprocess, 13.0ms inference, 2.0ms postprocess per image at shape (1, 3, 480, 640)\n",
      "\n",
      "0: 480x640 1 car, 13.0ms\n",
      "Speed: 5.0ms preprocess, 13.0ms inference, 2.0ms postprocess per image at shape (1, 3, 480, 640)\n",
      "\n",
      "0: 480x640 1 car, 13.0ms\n",
      "Speed: 6.0ms preprocess, 13.0ms inference, 2.0ms postprocess per image at shape (1, 3, 480, 640)\n",
      "\n"
     ]
    },
    {
     "name": "stdout",
     "output_type": "stream",
     "text": [
      "deepsort output [[542 553 581 574   3]]\n",
      "in while loop\n",
      "deepsort output [[542 553 581 574   3]]\n",
      "in while loop\n",
      "deepsort output [[542 553 581 574   3]]\n",
      "in while loop\n",
      "deepsort output [[542 553 581 574   3]]\n",
      "in while loop\n"
     ]
    },
    {
     "name": "stderr",
     "output_type": "stream",
     "text": [
      "0: 480x640 1 car, 14.0ms\n",
      "Speed: 7.0ms preprocess, 14.0ms inference, 2.0ms postprocess per image at shape (1, 3, 480, 640)\n",
      "\n",
      "0: 480x640 1 car, 12.0ms\n",
      "Speed: 6.0ms preprocess, 12.0ms inference, 2.0ms postprocess per image at shape (1, 3, 480, 640)\n",
      "\n",
      "0: 480x640 1 car, 33.0ms\n",
      "Speed: 5.0ms preprocess, 33.0ms inference, 2.0ms postprocess per image at shape (1, 3, 480, 640)\n",
      "\n",
      "0: 480x640 1 person, 1 bicycle, 1 car, 13.0ms\n",
      "Speed: 6.0ms preprocess, 13.0ms inference, 2.0ms postprocess per image at shape (1, 3, 480, 640)\n"
     ]
    },
    {
     "name": "stdout",
     "output_type": "stream",
     "text": [
      "deepsort output [[542 553 581 574   3]]\n",
      "in while loop\n",
      "deepsort output [[542 553 581 574   3]]\n",
      "in while loop\n",
      "deepsort output [[542 553 581 574   3]]\n",
      "in while loop\n",
      "deepsort output [[543 554 580 574   3]]\n",
      "in while loop\n"
     ]
    },
    {
     "name": "stderr",
     "output_type": "stream",
     "text": [
      "\n",
      "0: 480x640 1 person, 1 bicycle, 1 car, 13.0ms\n",
      "Speed: 5.0ms preprocess, 13.0ms inference, 2.0ms postprocess per image at shape (1, 3, 480, 640)\n",
      "\n",
      "0: 480x640 1 person, 1 bicycle, 1 car, 12.0ms\n",
      "Speed: 6.0ms preprocess, 12.0ms inference, 2.0ms postprocess per image at shape (1, 3, 480, 640)\n",
      "\n",
      "0: 480x640 1 person, 1 bicycle, 14.9ms\n",
      "Speed: 5.0ms preprocess, 14.9ms inference, 2.0ms postprocess per image at shape (1, 3, 480, 640)\n",
      "\n",
      "0: 480x640 1 person, 1 bicycle, 12.0ms\n",
      "Speed: 5.0ms preprocess, 12.0ms inference, 2.0ms postprocess per image at shape (1, 3, 480, 640)\n",
      "\n"
     ]
    },
    {
     "name": "stdout",
     "output_type": "stream",
     "text": [
      "deepsort output [[543 554 580 574   3]]\n",
      "in while loop\n",
      "deepsort output [[543 554 580 574   3]]\n",
      "in while loop\n",
      "deepsort output [[543 555 580 574   3]]\n",
      "in while loop\n",
      "deepsort output []\n",
      "in while loop\n"
     ]
    },
    {
     "name": "stderr",
     "output_type": "stream",
     "text": [
      "0: 480x640 1 person, 1 bicycle, 13.0ms\n",
      "Speed: 5.0ms preprocess, 13.0ms inference, 2.0ms postprocess per image at shape (1, 3, 480, 640)\n",
      "\n",
      "0: 480x640 1 person, 1 bicycle, 13.0ms\n",
      "Speed: 5.0ms preprocess, 13.0ms inference, 2.0ms postprocess per image at shape (1, 3, 480, 640)\n",
      "\n",
      "0: 480x640 1 person, 1 bicycle, 12.0ms\n",
      "Speed: 5.0ms preprocess, 12.0ms inference, 2.0ms postprocess per image at shape (1, 3, 480, 640)\n",
      "\n",
      "0: 480x640 1 person, 1 bicycle, 12.0ms\n",
      "Speed: 5.0ms preprocess, 12.0ms inference, 2.0ms postprocess per image at shape (1, 3, 480, 640)\n",
      "\n"
     ]
    },
    {
     "name": "stdout",
     "output_type": "stream",
     "text": [
      "deepsort output []\n",
      "in while loop\n",
      "deepsort output []\n",
      "in while loop\n",
      "deepsort output []\n",
      "in while loop\n",
      "deepsort output []\n",
      "in while loop\n"
     ]
    },
    {
     "name": "stderr",
     "output_type": "stream",
     "text": [
      "0: 480x640 1 person, 1 bicycle, 32.0ms\n",
      "Speed: 5.0ms preprocess, 32.0ms inference, 2.0ms postprocess per image at shape (1, 3, 480, 640)\n",
      "\n",
      "0: 480x640 1 person, 1 bicycle, 12.0ms\n",
      "Speed: 5.0ms preprocess, 12.0ms inference, 2.0ms postprocess per image at shape (1, 3, 480, 640)\n",
      "\n",
      "0: 480x640 1 person, 1 bicycle, 12.0ms\n",
      "Speed: 5.0ms preprocess, 12.0ms inference, 2.0ms postprocess per image at shape (1, 3, 480, 640)\n",
      "\n",
      "0: 480x640 1 person, 1 bicycle, 13.0ms\n",
      "Speed: 5.0ms preprocess, 13.0ms inference, 2.0ms postprocess per image at shape (1, 3, 480, 640)\n",
      "\n",
      "0: 480x640 1 person, 1 bicycle, 13.0ms\n"
     ]
    },
    {
     "name": "stdout",
     "output_type": "stream",
     "text": [
      "deepsort output []\n",
      "in while loop\n",
      "deepsort output []\n",
      "in while loop\n",
      "deepsort output []\n",
      "in while loop\n",
      "deepsort output []\n",
      "in while loop\n"
     ]
    },
    {
     "name": "stderr",
     "output_type": "stream",
     "text": [
      "Speed: 7.0ms preprocess, 13.0ms inference, 2.0ms postprocess per image at shape (1, 3, 480, 640)\n",
      "\n",
      "0: 480x640 1 person, 1 bicycle, 12.0ms\n",
      "Speed: 5.0ms preprocess, 12.0ms inference, 2.0ms postprocess per image at shape (1, 3, 480, 640)\n",
      "\n",
      "0: 480x640 1 person, 1 bicycle, 13.0ms\n",
      "Speed: 5.0ms preprocess, 13.0ms inference, 2.0ms postprocess per image at shape (1, 3, 480, 640)\n",
      "\n",
      "0: 480x640 1 person, 1 bicycle, 31.0ms\n",
      "Speed: 5.0ms preprocess, 31.0ms inference, 2.0ms postprocess per image at shape (1, 3, 480, 640)\n"
     ]
    },
    {
     "name": "stdout",
     "output_type": "stream",
     "text": [
      "deepsort output []\n",
      "in while loop\n",
      "deepsort output []\n",
      "in while loop\n",
      "deepsort output []\n",
      "in while loop\n",
      "deepsort output []\n",
      "in while loop\n"
     ]
    },
    {
     "name": "stderr",
     "output_type": "stream",
     "text": [
      "\n",
      "0: 480x640 1 person, 1 bicycle, 12.0ms\n",
      "Speed: 5.0ms preprocess, 12.0ms inference, 2.0ms postprocess per image at shape (1, 3, 480, 640)\n",
      "\n",
      "0: 480x640 1 person, 1 bicycle, 12.0ms\n",
      "Speed: 5.0ms preprocess, 12.0ms inference, 2.0ms postprocess per image at shape (1, 3, 480, 640)\n",
      "\n",
      "0: 480x640 1 person, 1 bicycle, 13.0ms\n",
      "Speed: 5.0ms preprocess, 13.0ms inference, 1.0ms postprocess per image at shape (1, 3, 480, 640)\n",
      "\n",
      "0: 480x640 1 person, 1 bicycle, 12.0ms\n",
      "Speed: 6.0ms preprocess, 12.0ms inference, 2.0ms postprocess per image at shape (1, 3, 480, 640)\n",
      "\n",
      "0: 480x640 1 person, 1 bicycle, 12.0ms\n",
      "Speed: 5.0ms preprocess, 12.0ms inference, 3.0ms postprocess per image at shape (1, 3, 480, 640)\n"
     ]
    },
    {
     "name": "stdout",
     "output_type": "stream",
     "text": [
      "deepsort output []\n",
      "in while loop\n",
      "deepsort output []\n",
      "in while loop\n",
      "deepsort output []\n",
      "in while loop\n",
      "deepsort output []\n",
      "in while loop\n",
      "deepsort output []\n",
      "in while loop\n"
     ]
    },
    {
     "name": "stderr",
     "output_type": "stream",
     "text": [
      "\n",
      "0: 480x640 1 person, 1 bicycle, 12.0ms\n",
      "Speed: 6.0ms preprocess, 12.0ms inference, 2.0ms postprocess per image at shape (1, 3, 480, 640)\n",
      "\n",
      "0: 480x640 1 person, 1 bicycle, 13.0ms\n",
      "Speed: 5.0ms preprocess, 13.0ms inference, 2.0ms postprocess per image at shape (1, 3, 480, 640)\n",
      "\n",
      "0: 480x640 1 person, 1 bicycle, 15.0ms\n",
      "Speed: 6.0ms preprocess, 15.0ms inference, 3.0ms postprocess per image at shape (1, 3, 480, 640)\n",
      "\n",
      "0: 480x640 1 person, 1 bicycle, 17.0ms\n",
      "Speed: 5.0ms preprocess, 17.0ms inference, 2.0ms postprocess per image at shape (1, 3, 480, 640)\n",
      "\n"
     ]
    },
    {
     "name": "stdout",
     "output_type": "stream",
     "text": [
      "deepsort output []\n",
      "in while loop\n",
      "deepsort output []\n",
      "in while loop\n",
      "deepsort output []\n",
      "in while loop\n",
      "deepsort output []\n",
      "in while loop\n"
     ]
    },
    {
     "name": "stderr",
     "output_type": "stream",
     "text": [
      "0: 480x640 1 person, 1 bicycle, 17.0ms\n",
      "Speed: 5.0ms preprocess, 17.0ms inference, 3.0ms postprocess per image at shape (1, 3, 480, 640)\n",
      "\n",
      "0: 480x640 1 person, 1 bicycle, 90.0ms\n",
      "Speed: 5.0ms preprocess, 90.0ms inference, 2.0ms postprocess per image at shape (1, 3, 480, 640)\n",
      "\n",
      "0: 480x640 1 person, 1 bicycle, 1 car, 18.0ms\n",
      "Speed: 5.0ms preprocess, 18.0ms inference, 2.0ms postprocess per image at shape (1, 3, 480, 640)\n"
     ]
    },
    {
     "name": "stdout",
     "output_type": "stream",
     "text": [
      "deepsort output []\n",
      "in while loop\n",
      "deepsort output []\n",
      "in while loop\n"
     ]
    },
    {
     "name": "stderr",
     "output_type": "stream",
     "text": [
      "\n",
      "0: 480x640 1 person, 1 bicycle, 1 car, 53.0ms\n",
      "Speed: 9.0ms preprocess, 53.0ms inference, 2.0ms postprocess per image at shape (1, 3, 480, 640)\n",
      "\n",
      "0: 480x640 1 person, 1 bicycle, 1 car, 13.0ms\n",
      "Speed: 5.0ms preprocess, 13.0ms inference, 2.0ms postprocess per image at shape (1, 3, 480, 640)\n",
      "\n"
     ]
    },
    {
     "name": "stdout",
     "output_type": "stream",
     "text": [
      "deepsort output []\n",
      "in while loop\n",
      "deepsort output []\n",
      "in while loop\n",
      "deepsort output [[547 555 584 574   3]]\n",
      "in while loop\n"
     ]
    },
    {
     "name": "stderr",
     "output_type": "stream",
     "text": [
      "0: 480x640 1 person, 1 bicycle, 1 car, 30.0ms\n",
      "Speed: 5.0ms preprocess, 30.0ms inference, 1.0ms postprocess per image at shape (1, 3, 480, 640)\n",
      "\n",
      "0: 480x640 1 person, 1 bicycle, 1 car, 12.0ms\n",
      "Speed: 5.0ms preprocess, 12.0ms inference, 2.0ms postprocess per image at shape (1, 3, 480, 640)\n",
      "\n",
      "0: 480x640 1 person, 1 bicycle, 1 car, 12.0ms\n",
      "Speed: 5.0ms preprocess, 12.0ms inference, 2.0ms postprocess per image at shape (1, 3, 480, 640)\n",
      "\n",
      "0: 480x640 1 person, 1 bicycle, 1 car, 14.0ms\n",
      "Speed: 6.0ms preprocess, 14.0ms inference, 2.0ms postprocess per image at shape (1, 3, 480, 640)\n",
      "\n"
     ]
    },
    {
     "name": "stdout",
     "output_type": "stream",
     "text": [
      "deepsort output [[547 555 584 575   3]]\n",
      "in while loop\n",
      "deepsort output [[547 554 585 575   3]]\n",
      "in while loop\n",
      "deepsort output [[547 554 586 575   3]]\n",
      "in while loop\n",
      "deepsort output [[546 554 586 576   3]]\n",
      "in while loop\n"
     ]
    },
    {
     "name": "stderr",
     "output_type": "stream",
     "text": [
      "0: 480x640 1 person, 2 bicycles, 1 car, 13.0ms\n",
      "Speed: 5.0ms preprocess, 13.0ms inference, 2.0ms postprocess per image at shape (1, 3, 480, 640)\n",
      "\n",
      "0: 480x640 1 person, 2 bicycles, 1 car, 13.0ms\n",
      "Speed: 5.0ms preprocess, 13.0ms inference, 3.0ms postprocess per image at shape (1, 3, 480, 640)\n",
      "\n",
      "0: 480x640 1 person, 2 bicycles, 1 car, 31.0ms\n",
      "Speed: 6.0ms preprocess, 31.0ms inference, 1.0ms postprocess per image at shape (1, 3, 480, 640)\n",
      "\n",
      "0: 480x640 1 person, 1 bicycle, 1 car, 13.0ms\n"
     ]
    },
    {
     "name": "stdout",
     "output_type": "stream",
     "text": [
      "deepsort output [[546 554 586 576   3]]\n",
      "in while loop\n",
      "deepsort output [[546 554 586 576   3]]\n",
      "in while loop\n",
      "deepsort output [[546 553 586 576   3]]\n",
      "in while loop\n"
     ]
    },
    {
     "name": "stderr",
     "output_type": "stream",
     "text": [
      "Speed: 5.0ms preprocess, 13.0ms inference, 3.0ms postprocess per image at shape (1, 3, 480, 640)\n",
      "\n",
      "0: 480x640 1 person, 1 bicycle, 1 car, 12.0ms\n",
      "Speed: 5.0ms preprocess, 12.0ms inference, 2.0ms postprocess per image at shape (1, 3, 480, 640)\n",
      "\n",
      "0: 480x640 1 person, 1 bicycle, 1 car, 13.0ms\n",
      "Speed: 8.0ms preprocess, 13.0ms inference, 2.0ms postprocess per image at shape (1, 3, 480, 640)\n",
      "\n",
      "0: 480x640 1 person, 1 bicycle, 1 car, 1 skateboard, 13.0ms\n",
      "Speed: 5.0ms preprocess, 13.0ms inference, 4.0ms postprocess per image at shape (1, 3, 480, 640)\n",
      "\n"
     ]
    },
    {
     "name": "stdout",
     "output_type": "stream",
     "text": [
      "deepsort output [[546 553 586 576   3]]\n",
      "in while loop\n",
      "deepsort output [[546 553 586 576   3]]\n",
      "in while loop\n",
      "deepsort output [[546 553 586 576   3]]\n",
      "in while loop\n",
      "deepsort output [[546 554 585 576   3]]\n",
      "in while loop\n"
     ]
    },
    {
     "name": "stderr",
     "output_type": "stream",
     "text": [
      "0: 480x640 1 person, 1 bicycle, 1 car, 1 skateboard, 12.0ms\n",
      "Speed: 5.0ms preprocess, 12.0ms inference, 2.0ms postprocess per image at shape (1, 3, 480, 640)\n",
      "\n",
      "0: 480x640 1 person, 1 bicycle, 1 car, 1 skateboard, 12.0ms\n",
      "Speed: 7.0ms preprocess, 12.0ms inference, 2.0ms postprocess per image at shape (1, 3, 480, 640)\n",
      "\n",
      "0: 480x640 1 person, 1 bicycle, 1 car, 13.0ms\n",
      "Speed: 5.0ms preprocess, 13.0ms inference, 2.0ms postprocess per image at shape (1, 3, 480, 640)\n",
      "\n",
      "0: 480x640 1 person, 1 bicycle, 1 car, 12.0ms\n",
      "Speed: 5.0ms preprocess, 12.0ms inference, 2.0ms postprocess per image at shape (1, 3, 480, 640)\n",
      "\n"
     ]
    },
    {
     "name": "stdout",
     "output_type": "stream",
     "text": [
      "deepsort output [[546 554 585 576   3]]\n",
      "in while loop\n",
      "deepsort output [[546 554 585 576   3]]\n",
      "in while loop\n",
      "deepsort output [[546 554 585 576   3]]\n",
      "in while loop\n",
      "deepsort output [[546 554 585 576   3]]\n",
      "in while loop\n"
     ]
    },
    {
     "name": "stderr",
     "output_type": "stream",
     "text": [
      "0: 480x640 1 person, 1 bicycle, 1 car, 32.0ms\n",
      "Speed: 5.0ms preprocess, 32.0ms inference, 2.0ms postprocess per image at shape (1, 3, 480, 640)\n",
      "\n",
      "0: 480x640 1 person, 1 bicycle, 1 car, 1 skateboard, 14.0ms\n",
      "Speed: 5.0ms preprocess, 14.0ms inference, 4.0ms postprocess per image at shape (1, 3, 480, 640)\n",
      "\n",
      "0: 480x640 1 person, 1 bicycle, 1 car, 1 skateboard, 12.0ms\n",
      "Speed: 5.0ms preprocess, 12.0ms inference, 2.0ms postprocess per image at shape (1, 3, 480, 640)\n",
      "\n",
      "0: 480x640 1 person, 1 bicycle, 1 car, 1 skateboard, 14.0ms\n",
      "Speed: 7.0ms preprocess, 14.0ms inference, 2.0ms postprocess per image at shape (1, 3, 480, 640)\n"
     ]
    },
    {
     "name": "stdout",
     "output_type": "stream",
     "text": [
      "deepsort output [[546 554 585 576   3]]\n",
      "in while loop\n",
      "deepsort output [[547 554 585 576   3]]\n",
      "in while loop\n",
      "deepsort output [[547 554 585 576   3]]\n",
      "in while loop\n",
      "deepsort output [[548 554 585 576   3]]\n",
      "in while loop\n"
     ]
    },
    {
     "name": "stderr",
     "output_type": "stream",
     "text": [
      "\n",
      "0: 480x640 1 person, 1 bicycle, 1 car, 12.0ms\n",
      "Speed: 5.0ms preprocess, 12.0ms inference, 2.0ms postprocess per image at shape (1, 3, 480, 640)\n",
      "\n",
      "0: 480x640 1 person, 1 bicycle, 1 car, 11.3ms\n",
      "Speed: 5.0ms preprocess, 11.3ms inference, 2.0ms postprocess per image at shape (1, 3, 480, 640)\n",
      "\n",
      "0: 480x640 1 person, 1 bicycle, 1 car, 12.0ms\n",
      "Speed: 5.0ms preprocess, 12.0ms inference, 2.0ms postprocess per image at shape (1, 3, 480, 640)\n",
      "\n",
      "0: 480x640 1 person, 1 bicycle, 1 car, 13.0ms\n",
      "Speed: 5.0ms preprocess, 13.0ms inference, 1.0ms postprocess per image at shape (1, 3, 480, 640)\n"
     ]
    },
    {
     "name": "stdout",
     "output_type": "stream",
     "text": [
      "deepsort output [[547 555 585 576   3]]\n",
      "in while loop\n",
      "deepsort output [[547 555 585 576   3]]\n",
      "in while loop\n",
      "deepsort output [[547 555 585 576   3]]\n",
      "in while loop\n",
      "deepsort output [[547 555 585 576   3]]\n",
      "in while loop\n"
     ]
    },
    {
     "name": "stderr",
     "output_type": "stream",
     "text": [
      "\n",
      "0: 480x640 1 person, 1 bicycle, 1 car, 13.0ms\n",
      "Speed: 5.0ms preprocess, 13.0ms inference, 2.0ms postprocess per image at shape (1, 3, 480, 640)\n",
      "\n",
      "0: 480x640 1 person, 1 bicycle, 1 car, 30.0ms\n",
      "Speed: 5.0ms preprocess, 30.0ms inference, 2.0ms postprocess per image at shape (1, 3, 480, 640)\n",
      "\n",
      "0: 480x640 1 person, 1 bicycle, 1 car, 12.0ms\n",
      "Speed: 5.0ms preprocess, 12.0ms inference, 2.0ms postprocess per image at shape (1, 3, 480, 640)\n",
      "\n",
      "0: 480x640 1 person, 1 bicycle, 1 car, 12.0ms\n",
      "Speed: 5.0ms preprocess, 12.0ms inference, 2.0ms postprocess per image at shape (1, 3, 480, 640)\n",
      "\n",
      "0: 480x640 1 person, 1 bicycle, 1 car, 12.0ms\n"
     ]
    },
    {
     "name": "stdout",
     "output_type": "stream",
     "text": [
      "deepsort output [[547 555 585 576   3]]\n",
      "in while loop\n",
      "deepsort output [[547 555 585 576   3]]\n",
      "in while loop\n",
      "deepsort output [[547 555 585 576   3]]\n",
      "in while loop\n",
      "deepsort output [[547 555 585 576   3]]\n",
      "in while loop\n"
     ]
    },
    {
     "name": "stderr",
     "output_type": "stream",
     "text": [
      "Speed: 6.0ms preprocess, 12.0ms inference, 2.0ms postprocess per image at shape (1, 3, 480, 640)\n",
      "\n",
      "0: 480x640 1 person, 1 bicycle, 1 car, 13.0ms\n",
      "Speed: 5.0ms preprocess, 13.0ms inference, 2.0ms postprocess per image at shape (1, 3, 480, 640)\n",
      "\n",
      "0: 480x640 1 person, 1 bicycle, 1 car, 13.0ms\n",
      "Speed: 5.0ms preprocess, 13.0ms inference, 3.0ms postprocess per image at shape (1, 3, 480, 640)\n",
      "\n",
      "0: 480x640 1 person, 1 bicycle, 1 car, 15.0ms\n",
      "Speed: 5.0ms preprocess, 15.0ms inference, 2.0ms postprocess per image at shape (1, 3, 480, 640)\n",
      "\n"
     ]
    },
    {
     "name": "stdout",
     "output_type": "stream",
     "text": [
      "deepsort output [[547 555 585 576   3]]\n",
      "in while loop\n",
      "deepsort output [[547 555 585 576   3]]\n",
      "in while loop\n",
      "deepsort output [[547 555 585 576   3]]\n",
      "in while loop\n",
      "deepsort output [[547 555 585 576   3]]\n",
      "in while loop\n"
     ]
    },
    {
     "name": "stderr",
     "output_type": "stream",
     "text": [
      "0: 480x640 1 person, 1 bicycle, 1 car, 13.0ms\n",
      "Speed: 5.0ms preprocess, 13.0ms inference, 2.0ms postprocess per image at shape (1, 3, 480, 640)\n",
      "\n",
      "0: 480x640 1 person, 1 bicycle, 1 car, 13.0ms\n",
      "Speed: 5.0ms preprocess, 13.0ms inference, 2.0ms postprocess per image at shape (1, 3, 480, 640)\n",
      "\n",
      "0: 480x640 1 person, 1 bicycle, 1 car, 14.0ms\n",
      "Speed: 5.0ms preprocess, 14.0ms inference, 2.0ms postprocess per image at shape (1, 3, 480, 640)\n",
      "\n",
      "0: 480x640 1 person, 1 bicycle, 1 car, 39.0ms\n",
      "Speed: 5.0ms preprocess, 39.0ms inference, 4.0ms postprocess per image at shape (1, 3, 480, 640)\n",
      "\n"
     ]
    },
    {
     "name": "stdout",
     "output_type": "stream",
     "text": [
      "deepsort output [[548 555 585 576   3]]\n",
      "in while loop\n",
      "deepsort output [[548 555 585 576   3]]\n",
      "in while loop\n",
      "deepsort output [[548 555 585 576   3]]\n",
      "in while loop\n",
      "deepsort output [[548 555 585 576   3]]\n",
      "in while loop\n"
     ]
    },
    {
     "name": "stderr",
     "output_type": "stream",
     "text": [
      "0: 480x640 1 person, 1 bicycle, 1 car, 13.0ms\n",
      "Speed: 5.5ms preprocess, 13.0ms inference, 2.0ms postprocess per image at shape (1, 3, 480, 640)\n",
      "\n",
      "0: 480x640 1 person, 1 bicycle, 1 car, 14.0ms\n",
      "Speed: 5.0ms preprocess, 14.0ms inference, 4.0ms postprocess per image at shape (1, 3, 480, 640)\n",
      "\n",
      "0: 480x640 1 person, 1 bicycle, 1 car, 13.0ms\n",
      "Speed: 6.0ms preprocess, 13.0ms inference, 2.0ms postprocess per image at shape (1, 3, 480, 640)\n",
      "\n"
     ]
    },
    {
     "name": "stdout",
     "output_type": "stream",
     "text": [
      "deepsort output [[548 555 585 576   3]]\n",
      "in while loop\n",
      "deepsort output [[548 555 585 576   3]]\n",
      "in while loop\n",
      "deepsort output [[548 555 585 576   3]]\n",
      "in while loop\n"
     ]
    },
    {
     "name": "stderr",
     "output_type": "stream",
     "text": [
      "0: 480x640 1 person, 1 bicycle, 1 car, 13.0ms\n",
      "Speed: 5.0ms preprocess, 13.0ms inference, 2.0ms postprocess per image at shape (1, 3, 480, 640)\n",
      "\n",
      "0: 480x640 1 person, 1 bicycle, 1 car, 13.0ms\n",
      "Speed: 5.0ms preprocess, 13.0ms inference, 2.0ms postprocess per image at shape (1, 3, 480, 640)\n",
      "\n",
      "0: 480x640 1 person, 1 bicycle, 1 car, 16.0ms\n",
      "Speed: 6.0ms preprocess, 16.0ms inference, 3.0ms postprocess per image at shape (1, 3, 480, 640)\n",
      "\n",
      "0: 480x640 1 person, 1 bicycle, 1 car, 19.0ms\n",
      "Speed: 5.0ms preprocess, 19.0ms inference, 3.0ms postprocess per image at shape (1, 3, 480, 640)\n"
     ]
    },
    {
     "name": "stdout",
     "output_type": "stream",
     "text": [
      "deepsort output [[547 555 585 576   3]]\n",
      "in while loop\n",
      "deepsort output [[547 555 585 576   3]]\n",
      "in while loop\n",
      "deepsort output [[547 555 585 576   3]]\n",
      "in while loop\n",
      "deepsort output [[547 555 585 576   3]]\n",
      "in while loop\n"
     ]
    },
    {
     "name": "stderr",
     "output_type": "stream",
     "text": [
      "\n",
      "0: 480x640 1 person, 1 bicycle, 1 car, 14.0ms\n",
      "Speed: 5.0ms preprocess, 14.0ms inference, 3.0ms postprocess per image at shape (1, 3, 480, 640)\n",
      "\n",
      "0: 480x640 1 person, 1 bicycle, 1 car, 13.0ms\n",
      "Speed: 5.0ms preprocess, 13.0ms inference, 2.0ms postprocess per image at shape (1, 3, 480, 640)\n",
      "\n",
      "0: 480x640 1 person, 1 bicycle, 1 car, 14.0ms\n",
      "Speed: 6.0ms preprocess, 14.0ms inference, 2.0ms postprocess per image at shape (1, 3, 480, 640)\n",
      "\n",
      "0: 480x640 1 person, 1 bicycle, 1 car, 44.0ms\n",
      "Speed: 5.0ms preprocess, 44.0ms inference, 2.0ms postprocess per image at shape (1, 3, 480, 640)\n"
     ]
    },
    {
     "name": "stdout",
     "output_type": "stream",
     "text": [
      "deepsort output [[547 555 585 576   3]]\n",
      "in while loop\n",
      "deepsort output [[547 555 585 576   3]]\n",
      "in while loop\n",
      "deepsort output [[547 555 585 576   3]]\n",
      "in while loop\n",
      "deepsort output [[547 555 585 576   3]]\n",
      "in while loop\n"
     ]
    },
    {
     "name": "stderr",
     "output_type": "stream",
     "text": [
      "\n",
      "0: 480x640 1 person, 1 car, 14.0ms\n",
      "Speed: 5.0ms preprocess, 14.0ms inference, 2.0ms postprocess per image at shape (1, 3, 480, 640)\n",
      "\n",
      "0: 480x640 1 person, 1 car, 15.0ms\n",
      "Speed: 5.0ms preprocess, 15.0ms inference, 2.0ms postprocess per image at shape (1, 3, 480, 640)\n",
      "\n",
      "0: 480x640 1 person, 1 bicycle, 1 car, 13.0ms\n",
      "Speed: 5.0ms preprocess, 13.0ms inference, 2.0ms postprocess per image at shape (1, 3, 480, 640)\n",
      "\n"
     ]
    },
    {
     "name": "stdout",
     "output_type": "stream",
     "text": [
      "deepsort output [[547 555 585 576   3]]\n",
      "in while loop\n",
      "deepsort output [[547 555 585 576   3]]\n",
      "in while loop\n",
      "deepsort output [[548 555 585 576   3]]\n",
      "in while loop\n"
     ]
    },
    {
     "name": "stderr",
     "output_type": "stream",
     "text": [
      "0: 480x640 1 person, 1 bicycle, 1 car, 18.0ms\n",
      "Speed: 6.0ms preprocess, 18.0ms inference, 2.0ms postprocess per image at shape (1, 3, 480, 640)\n",
      "\n",
      "0: 480x640 1 person, 1 bicycle, 1 car, 91.0ms\n",
      "Speed: 7.0ms preprocess, 91.0ms inference, 2.0ms postprocess per image at shape (1, 3, 480, 640)\n",
      "\n",
      "0: 480x640 1 person, 1 bicycle, 1 car, 14.0ms\n"
     ]
    },
    {
     "name": "stdout",
     "output_type": "stream",
     "text": [
      "deepsort output [[548 555 585 576   3]]\n",
      "in while loop\n",
      "deepsort output [[548 555 585 576   3]]\n",
      "in while loop\n"
     ]
    },
    {
     "name": "stderr",
     "output_type": "stream",
     "text": [
      "Speed: 5.0ms preprocess, 14.0ms inference, 2.0ms postprocess per image at shape (1, 3, 480, 640)\n",
      "\n",
      "0: 480x640 1 person, 1 bicycle, 1 car, 14.0ms\n",
      "Speed: 6.0ms preprocess, 14.0ms inference, 2.0ms postprocess per image at shape (1, 3, 480, 640)\n",
      "\n",
      "0: 480x640 1 person, 1 bicycle, 1 car, 13.0ms\n",
      "Speed: 5.0ms preprocess, 13.0ms inference, 2.0ms postprocess per image at shape (1, 3, 480, 640)\n",
      "\n",
      "0: 480x640 1 person, 1 bicycle, 1 car, 12.0ms\n",
      "Speed: 5.0ms preprocess, 12.0ms inference, 1.0ms postprocess per image at shape (1, 3, 480, 640)\n",
      "\n"
     ]
    },
    {
     "name": "stdout",
     "output_type": "stream",
     "text": [
      "deepsort output [[547 555 585 576   3]]\n",
      "in while loop\n",
      "deepsort output [[547 555 585 576   3]]\n",
      "in while loop\n",
      "deepsort output [[548 555 585 576   3]]\n",
      "in while loop\n",
      "deepsort output [[548 555 585 576   3]]\n",
      "in while loop\n"
     ]
    },
    {
     "name": "stderr",
     "output_type": "stream",
     "text": [
      "0: 480x640 1 person, 1 bicycle, 1 car, 35.0ms\n",
      "Speed: 5.0ms preprocess, 35.0ms inference, 2.0ms postprocess per image at shape (1, 3, 480, 640)\n",
      "\n",
      "0: 480x640 1 person, 1 bicycle, 1 car, 13.0ms\n",
      "Speed: 5.0ms preprocess, 13.0ms inference, 2.0ms postprocess per image at shape (1, 3, 480, 640)\n",
      "\n",
      "0: 480x640 1 person, 1 bicycle, 1 car, 12.0ms\n",
      "Speed: 5.0ms preprocess, 12.0ms inference, 2.0ms postprocess per image at shape (1, 3, 480, 640)\n",
      "\n",
      "0: 480x640 1 person, 1 bicycle, 1 car, 35.0ms\n",
      "Speed: 5.0ms preprocess, 35.0ms inference, 2.5ms postprocess per image at shape (1, 3, 480, 640)\n"
     ]
    },
    {
     "name": "stdout",
     "output_type": "stream",
     "text": [
      "deepsort output [[548 555 585 576   3]]\n",
      "in while loop\n",
      "deepsort output [[548 555 586 576   3]]\n",
      "in while loop\n",
      "deepsort output [[548 555 586 576   3]]\n",
      "in while loop\n",
      "deepsort output [[548 555 586 576   3]]\n",
      "in while loop\n"
     ]
    },
    {
     "name": "stderr",
     "output_type": "stream",
     "text": [
      "\n",
      "0: 480x640 2 persons, 1 car, 1 motorcycle, 12.0ms\n",
      "Speed: 5.0ms preprocess, 12.0ms inference, 2.0ms postprocess per image at shape (1, 3, 480, 640)\n",
      "\n",
      "0: 480x640 2 persons, 1 car, 1 motorcycle, 12.0ms\n",
      "Speed: 5.4ms preprocess, 12.0ms inference, 2.0ms postprocess per image at shape (1, 3, 480, 640)\n",
      "\n",
      "0: 480x640 2 persons, 1 car, 1 motorcycle, 38.0ms\n",
      "Speed: 6.0ms preprocess, 38.0ms inference, 2.0ms postprocess per image at shape (1, 3, 480, 640)\n",
      "\n",
      "0: 480x640 1 car, 1 airplane, 13.0ms\n",
      "Speed: 5.0ms preprocess, 13.0ms inference, 2.0ms postprocess per image at shape (1, 3, 480, 640)\n",
      "\n"
     ]
    },
    {
     "name": "stdout",
     "output_type": "stream",
     "text": [
      "deepsort output [[548 554 587 576   3]]\n",
      "in while loop\n",
      "deepsort output [[548 554 587 576   3]]\n",
      "in while loop\n",
      "deepsort output [[548 554 587 576   3]]\n",
      "in while loop\n",
      "deepsort output [[548 553 587 576   3]]\n",
      "in while loop\n"
     ]
    },
    {
     "name": "stderr",
     "output_type": "stream",
     "text": [
      "0: 480x640 1 car, 1 airplane, 13.0ms\n",
      "Speed: 5.0ms preprocess, 13.0ms inference, 2.0ms postprocess per image at shape (1, 3, 480, 640)\n",
      "\n",
      "0: 480x640 1 car, 1 airplane, 20.0ms\n",
      "Speed: 7.0ms preprocess, 20.0ms inference, 2.0ms postprocess per image at shape (1, 3, 480, 640)\n",
      "\n",
      "0: 480x640 1 airplane, 13.0ms\n",
      "Speed: 5.0ms preprocess, 13.0ms inference, 2.0ms postprocess per image at shape (1, 3, 480, 640)\n",
      "\n",
      "0: 480x640 1 airplane, 12.0ms\n",
      "Speed: 5.0ms preprocess, 12.0ms inference, 3.0ms postprocess per image at shape (1, 3, 480, 640)\n",
      "\n"
     ]
    },
    {
     "name": "stdout",
     "output_type": "stream",
     "text": [
      "deepsort output []\n",
      "in while loop\n",
      "deepsort output []\n",
      "in while loop\n",
      "deepsort output []\n",
      "in while loop\n",
      "deepsort output []\n",
      "in while loop\n"
     ]
    },
    {
     "name": "stderr",
     "output_type": "stream",
     "text": [
      "0: 480x640 1 airplane, 38.0ms\n",
      "Speed: 6.0ms preprocess, 38.0ms inference, 2.0ms postprocess per image at shape (1, 3, 480, 640)\n",
      "\n",
      "0: 480x640 1 car, 1 airplane, 13.0ms\n",
      "Speed: 5.0ms preprocess, 13.0ms inference, 2.0ms postprocess per image at shape (1, 3, 480, 640)\n",
      "\n",
      "0: 480x640 1 car, 1 airplane, 14.0ms\n",
      "Speed: 5.0ms preprocess, 14.0ms inference, 2.0ms postprocess per image at shape (1, 3, 480, 640)\n",
      "\n",
      "0: 480x640 1 car, 1 airplane, 23.0ms\n"
     ]
    },
    {
     "name": "stdout",
     "output_type": "stream",
     "text": [
      "deepsort output []\n",
      "in while loop\n",
      "deepsort output []\n",
      "in while loop\n",
      "deepsort output []\n",
      "in while loop\n"
     ]
    },
    {
     "name": "stderr",
     "output_type": "stream",
     "text": [
      "Speed: 8.0ms preprocess, 23.0ms inference, 2.0ms postprocess per image at shape (1, 3, 480, 640)\n",
      "\n",
      "0: 480x640 1 car, 1 airplane, 13.0ms\n",
      "Speed: 6.0ms preprocess, 13.0ms inference, 2.0ms postprocess per image at shape (1, 3, 480, 640)\n",
      "\n",
      "0: 480x640 1 car, 1 airplane, 13.0ms\n",
      "Speed: 5.0ms preprocess, 13.0ms inference, 2.0ms postprocess per image at shape (1, 3, 480, 640)\n",
      "\n",
      "0: 480x640 1 car, 1 airplane, 29.0ms\n",
      "Speed: 5.0ms preprocess, 29.0ms inference, 7.0ms postprocess per image at shape (1, 3, 480, 640)\n"
     ]
    },
    {
     "name": "stdout",
     "output_type": "stream",
     "text": [
      "deepsort output []\n",
      "in while loop\n",
      "deepsort output []\n",
      "in while loop\n",
      "deepsort output []\n",
      "in while loop\n",
      "deepsort output []\n",
      "in while loop\n"
     ]
    },
    {
     "name": "stderr",
     "output_type": "stream",
     "text": [
      "\n",
      "0: 480x640 1 person, 1 car, 13.0ms\n",
      "Speed: 5.0ms preprocess, 13.0ms inference, 2.0ms postprocess per image at shape (1, 3, 480, 640)\n",
      "\n",
      "0: 480x640 1 person, 1 car, 14.0ms\n",
      "Speed: 6.0ms preprocess, 14.0ms inference, 2.0ms postprocess per image at shape (1, 3, 480, 640)\n",
      "\n",
      "0: 480x640 1 person, 1 car, 35.0ms\n",
      "Speed: 5.0ms preprocess, 35.0ms inference, 2.0ms postprocess per image at shape (1, 3, 480, 640)\n",
      "\n",
      "0: 480x640 1 car, 13.0ms\n",
      "Speed: 6.0ms preprocess, 13.0ms inference, 2.0ms postprocess per image at shape (1, 3, 480, 640)\n",
      "\n"
     ]
    },
    {
     "name": "stdout",
     "output_type": "stream",
     "text": [
      "deepsort output [[551 553 591 576   3]]\n",
      "in while loop\n",
      "deepsort output [[551 553 591 577   3]]\n",
      "in while loop\n",
      "deepsort output [[551 553 591 577   3]]\n",
      "in while loop\n",
      "deepsort output [[552 553 592 577   3]]\n",
      "in while loop\n"
     ]
    },
    {
     "name": "stderr",
     "output_type": "stream",
     "text": [
      "0: 480x640 1 car, 14.0ms\n",
      "Speed: 5.0ms preprocess, 14.0ms inference, 2.0ms postprocess per image at shape (1, 3, 480, 640)\n",
      "\n",
      "0: 480x640 1 car, 35.0ms\n",
      "Speed: 5.0ms preprocess, 35.0ms inference, 2.0ms postprocess per image at shape (1, 3, 480, 640)\n",
      "\n",
      "0: 480x640 1 car, 14.0ms\n",
      "Speed: 5.0ms preprocess, 14.0ms inference, 2.0ms postprocess per image at shape (1, 3, 480, 640)\n",
      "\n",
      "0: 480x640 1 car, 14.0ms\n",
      "Speed: 6.0ms preprocess, 14.0ms inference, 3.0ms postprocess per image at shape (1, 3, 480, 640)\n"
     ]
    },
    {
     "name": "stdout",
     "output_type": "stream",
     "text": [
      "deepsort output [[552 553 592 577   3]]\n",
      "in while loop\n",
      "deepsort output [[552 553 592 577   3]]\n",
      "in while loop\n",
      "deepsort output [[554 554 593 577   3]]\n",
      "in while loop\n",
      "deepsort output [[555 554 594 577   3]]\n"
     ]
    },
    {
     "name": "stderr",
     "output_type": "stream",
     "text": [
      "\n",
      "0: 480x640 1 car, 14.0ms\n",
      "Speed: 7.0ms preprocess, 14.0ms inference, 2.0ms postprocess per image at shape (1, 3, 480, 640)\n",
      "\n",
      "0: 480x640 1 car, 13.0ms\n",
      "Speed: 6.0ms preprocess, 13.0ms inference, 3.0ms postprocess per image at shape (1, 3, 480, 640)\n",
      "\n",
      "0: 480x640 1 car, 13.0ms\n",
      "Speed: 5.0ms preprocess, 13.0ms inference, 2.0ms postprocess per image at shape (1, 3, 480, 640)\n",
      "\n",
      "0: 480x640 1 car, 32.0ms\n"
     ]
    },
    {
     "name": "stdout",
     "output_type": "stream",
     "text": [
      "in while loop\n",
      "deepsort output [[556 554 595 577   3]]\n",
      "in while loop\n",
      "deepsort output [[556 555 595 577   3]]\n",
      "in while loop\n",
      "deepsort output [[556 555 595 577   3]]\n",
      "in while loop\n"
     ]
    },
    {
     "name": "stderr",
     "output_type": "stream",
     "text": [
      "Speed: 7.0ms preprocess, 32.0ms inference, 2.0ms postprocess per image at shape (1, 3, 480, 640)\n",
      "\n",
      "0: 480x640 1 car, 15.0ms\n",
      "Speed: 5.0ms preprocess, 15.0ms inference, 2.0ms postprocess per image at shape (1, 3, 480, 640)\n",
      "\n",
      "0: 480x640 1 car, 13.0ms\n",
      "Speed: 5.0ms preprocess, 13.0ms inference, 2.0ms postprocess per image at shape (1, 3, 480, 640)\n",
      "\n"
     ]
    },
    {
     "name": "stdout",
     "output_type": "stream",
     "text": [
      "deepsort output [[556 555 595 577   3]]\n",
      "in while loop\n",
      "deepsort output [[556 555 597 577   3]]\n",
      "in while loop\n",
      "deepsort output [[556 555 597 577   3]]\n",
      "in while loop\n"
     ]
    },
    {
     "name": "stderr",
     "output_type": "stream",
     "text": [
      "0: 480x640 1 car, 14.0ms\n",
      "Speed: 6.0ms preprocess, 14.0ms inference, 2.0ms postprocess per image at shape (1, 3, 480, 640)\n",
      "\n",
      "0: 480x640 1 car, 13.0ms\n",
      "Speed: 7.0ms preprocess, 13.0ms inference, 2.0ms postprocess per image at shape (1, 3, 480, 640)\n",
      "\n",
      "0: 480x640 1 car, 13.0ms\n",
      "Speed: 6.0ms preprocess, 13.0ms inference, 2.0ms postprocess per image at shape (1, 3, 480, 640)\n",
      "\n",
      "0: 480x640 1 car, 13.0ms\n"
     ]
    },
    {
     "name": "stdout",
     "output_type": "stream",
     "text": [
      "deepsort output [[557 555 598 578   3]]\n",
      "in while loop\n",
      "deepsort output [[557 555 598 578   3]]\n",
      "in while loop\n",
      "deepsort output [[558 555 599 578   3]]\n",
      "in while loop\n"
     ]
    },
    {
     "name": "stderr",
     "output_type": "stream",
     "text": [
      "Speed: 6.0ms preprocess, 13.0ms inference, 2.0ms postprocess per image at shape (1, 3, 480, 640)\n",
      "\n",
      "0: 480x640 1 car, 14.0ms\n",
      "Speed: 5.0ms preprocess, 14.0ms inference, 2.0ms postprocess per image at shape (1, 3, 480, 640)\n",
      "\n",
      "0: 480x640 1 car, 22.0ms\n",
      "Speed: 8.0ms preprocess, 22.0ms inference, 2.0ms postprocess per image at shape (1, 3, 480, 640)\n",
      "\n",
      "0: 480x640 1 car, 1 airplane, 14.0ms\n",
      "Speed: 5.0ms preprocess, 14.0ms inference, 2.0ms postprocess per image at shape (1, 3, 480, 640)\n"
     ]
    },
    {
     "name": "stdout",
     "output_type": "stream",
     "text": [
      "deepsort output [[558 555 600 578   3]]\n",
      "in while loop\n",
      "deepsort output [[558 555 600 579   3]]\n",
      "in while loop\n",
      "deepsort output [[558 555 600 579   3]]\n",
      "in while loop\n",
      "deepsort output [[558 555 601 579   3]]\n",
      "in while loop\n"
     ]
    },
    {
     "name": "stderr",
     "output_type": "stream",
     "text": [
      "\n",
      "0: 480x640 1 car, 1 airplane, 14.0ms\n",
      "Speed: 5.0ms preprocess, 14.0ms inference, 2.0ms postprocess per image at shape (1, 3, 480, 640)\n",
      "\n",
      "0: 480x640 1 car, 14.0ms\n",
      "Speed: 6.0ms preprocess, 14.0ms inference, 2.0ms postprocess per image at shape (1, 3, 480, 640)\n",
      "\n",
      "0: 480x640 1 car, 14.0ms\n",
      "Speed: 5.0ms preprocess, 14.0ms inference, 2.0ms postprocess per image at shape (1, 3, 480, 640)\n",
      "\n",
      "0: 480x640 1 car, 13.0ms\n",
      "Speed: 5.0ms preprocess, 13.0ms inference, 2.0ms postprocess per image at shape (1, 3, 480, 640)\n"
     ]
    },
    {
     "name": "stdout",
     "output_type": "stream",
     "text": [
      "deepsort output [[558 555 601 579   3]]\n",
      "in while loop\n",
      "deepsort output [[560 555 603 579   3]]\n",
      "in while loop\n",
      "deepsort output [[561 555 604 579   3]]\n",
      "in while loop\n",
      "deepsort output [[561 556 604 580   3]]\n"
     ]
    },
    {
     "name": "stderr",
     "output_type": "stream",
     "text": [
      "\n",
      "0: 480x640 2 cars, 1 airplane, 25.0ms\n",
      "Speed: 8.0ms preprocess, 25.0ms inference, 2.0ms postprocess per image at shape (1, 3, 480, 640)\n",
      "\n",
      "0: 480x640 2 cars, 1 airplane, 17.0ms\n",
      "Speed: 5.0ms preprocess, 17.0ms inference, 2.0ms postprocess per image at shape (1, 3, 480, 640)\n",
      "\n"
     ]
    },
    {
     "name": "stdout",
     "output_type": "stream",
     "text": [
      "in while loop\n",
      "deepsort output [[564 556 607 580   3]]\n",
      "in while loop\n",
      "deepsort output [[566 556 608 580   3]]\n",
      "in while loop\n"
     ]
    },
    {
     "name": "stderr",
     "output_type": "stream",
     "text": [
      "0: 480x640 2 cars, 1 airplane, 51.0ms\n",
      "Speed: 7.0ms preprocess, 51.0ms inference, 2.0ms postprocess per image at shape (1, 3, 480, 640)\n",
      "\n",
      "0: 480x640 2 cars, 13.0ms\n",
      "Speed: 5.0ms preprocess, 13.0ms inference, 2.0ms postprocess per image at shape (1, 3, 480, 640)\n",
      "\n",
      "0: 480x640 2 cars, 35.0ms\n",
      "Speed: 5.0ms preprocess, 35.0ms inference, 2.0ms postprocess per image at shape (1, 3, 480, 640)\n",
      "\n",
      "0: 480x640 1 car, 13.0ms\n"
     ]
    },
    {
     "name": "stdout",
     "output_type": "stream",
     "text": [
      "deepsort output [[566 556 608 580   3]]\n",
      "in while loop\n",
      "deepsort output [[568 556 610 580   3]]\n",
      "in while loop\n",
      "deepsort output [[569 556 611 580   3]]\n",
      "in while loop\n"
     ]
    },
    {
     "name": "stderr",
     "output_type": "stream",
     "text": [
      "Speed: 5.0ms preprocess, 13.0ms inference, 2.0ms postprocess per image at shape (1, 3, 480, 640)\n",
      "\n",
      "0: 480x640 1 car, 12.0ms\n",
      "Speed: 5.0ms preprocess, 12.0ms inference, 2.0ms postprocess per image at shape (1, 3, 480, 640)\n",
      "\n",
      "0: 480x640 1 car, 35.0ms\n",
      "Speed: 5.0ms preprocess, 35.0ms inference, 2.0ms postprocess per image at shape (1, 3, 480, 640)\n",
      "\n",
      "0: 480x640 1 car, 12.0ms\n",
      "Speed: 5.0ms preprocess, 12.0ms inference, 2.0ms postprocess per image at shape (1, 3, 480, 640)\n"
     ]
    },
    {
     "name": "stdout",
     "output_type": "stream",
     "text": [
      "deepsort output [[568 555 611 581   3]]\n",
      "in while loop\n",
      "deepsort output [[568 555 612 581   3]]\n",
      "in while loop\n",
      "deepsort output [[568 555 612 581   3]]\n",
      "in while loop\n",
      "deepsort output [[570 555 613 581   3]]\n",
      "in while loop\n"
     ]
    },
    {
     "name": "stderr",
     "output_type": "stream",
     "text": [
      "\n",
      "0: 480x640 1 car, 13.0ms\n",
      "Speed: 5.0ms preprocess, 13.0ms inference, 2.0ms postprocess per image at shape (1, 3, 480, 640)\n",
      "\n",
      "0: 480x640 1 car, 38.0ms\n",
      "Speed: 5.0ms preprocess, 38.0ms inference, 2.0ms postprocess per image at shape (1, 3, 480, 640)\n",
      "\n",
      "0: 480x640 1 car, 13.0ms\n",
      "Speed: 5.0ms preprocess, 13.0ms inference, 2.0ms postprocess per image at shape (1, 3, 480, 640)\n",
      "\n",
      "0: 480x640 1 car, 12.0ms\n"
     ]
    },
    {
     "name": "stdout",
     "output_type": "stream",
     "text": [
      "deepsort output [[571 555 614 581   3]]\n",
      "in while loop\n",
      "deepsort output [[571 555 614 582   3]]\n",
      "in while loop\n",
      "deepsort output [[572 556 615 582   3]]\n",
      "in while loop\n"
     ]
    },
    {
     "name": "stderr",
     "output_type": "stream",
     "text": [
      "Speed: 5.0ms preprocess, 12.0ms inference, 2.0ms postprocess per image at shape (1, 3, 480, 640)\n",
      "\n",
      "0: 480x640 1 car, 1 kite, 13.0ms\n",
      "Speed: 6.0ms preprocess, 13.0ms inference, 2.0ms postprocess per image at shape (1, 3, 480, 640)\n",
      "\n",
      "0: 480x640 1 car, 1 kite, 12.0ms\n",
      "Speed: 5.0ms preprocess, 12.0ms inference, 2.0ms postprocess per image at shape (1, 3, 480, 640)\n",
      "\n",
      "0: 480x640 1 car, 1 kite, 12.0ms\n",
      "Speed: 5.0ms preprocess, 12.0ms inference, 2.0ms postprocess per image at shape (1, 3, 480, 640)\n",
      "\n",
      "0: 480x640 1 car, 14.0ms\n"
     ]
    },
    {
     "name": "stdout",
     "output_type": "stream",
     "text": [
      "deepsort output [[573 556 616 582   3]]\n",
      "in while loop\n",
      "deepsort output [[573 556 617 582   3]]\n",
      "in while loop\n",
      "deepsort output []\n",
      "in while loop\n",
      "deepsort output []\n",
      "in while loop\n"
     ]
    },
    {
     "name": "stderr",
     "output_type": "stream",
     "text": [
      "Speed: 5.0ms preprocess, 14.0ms inference, 3.0ms postprocess per image at shape (1, 3, 480, 640)\n",
      "\n",
      "0: 480x640 1 car, 12.0ms\n",
      "Speed: 5.0ms preprocess, 12.0ms inference, 2.0ms postprocess per image at shape (1, 3, 480, 640)\n",
      "\n",
      "0: 480x640 1 car, 13.0ms\n",
      "Speed: 5.0ms preprocess, 13.0ms inference, 2.0ms postprocess per image at shape (1, 3, 480, 640)\n",
      "\n",
      "0: 480x640 1 car, 18.0ms\n",
      "Speed: 7.0ms preprocess, 18.0ms inference, 2.0ms postprocess per image at shape (1, 3, 480, 640)\n",
      "\n"
     ]
    },
    {
     "name": "stdout",
     "output_type": "stream",
     "text": [
      "deepsort output []\n",
      "in while loop\n",
      "deepsort output []\n",
      "in while loop\n",
      "deepsort output [[565 554 623 583   4]]\n",
      "in while loop\n",
      "deepsort output [[565 554 623 583   4]]\n",
      "in while loop\n"
     ]
    },
    {
     "name": "stderr",
     "output_type": "stream",
     "text": [
      "0: 480x640 1 car, 13.0ms\n",
      "Speed: 5.0ms preprocess, 13.0ms inference, 2.0ms postprocess per image at shape (1, 3, 480, 640)\n",
      "\n",
      "0: 480x640 1 car, 12.0ms\n",
      "Speed: 5.0ms preprocess, 12.0ms inference, 2.0ms postprocess per image at shape (1, 3, 480, 640)\n",
      "\n",
      "0: 480x640 1 car, 35.0ms\n",
      "Speed: 5.0ms preprocess, 35.0ms inference, 2.0ms postprocess per image at shape (1, 3, 480, 640)\n",
      "\n",
      "0: 480x640 2 cars, 16.0ms\n",
      "Speed: 6.0ms preprocess, 16.0ms inference, 2.0ms postprocess per image at shape (1, 3, 480, 640)\n"
     ]
    },
    {
     "name": "stdout",
     "output_type": "stream",
     "text": [
      "deepsort output [[582 555 628 583   3]\n",
      " [565 554 623 583   4]]\n",
      "in while loop\n",
      "deepsort output [[582 555 628 583   3]]\n",
      "in while loop\n",
      "deepsort output [[583 554 628 583   3]]\n",
      "in while loop\n",
      "deepsort output [[584 554 629 583   3]\n",
      " [570 554 630 583   4]]\n",
      "in while loop\n"
     ]
    },
    {
     "name": "stderr",
     "output_type": "stream",
     "text": [
      "\n",
      "0: 480x640 2 cars, 13.0ms\n",
      "Speed: 5.0ms preprocess, 13.0ms inference, 2.0ms postprocess per image at shape (1, 3, 480, 640)\n",
      "\n",
      "0: 480x640 1 car, 1 airplane, 13.3ms\n",
      "Speed: 5.0ms preprocess, 13.3ms inference, 2.0ms postprocess per image at shape (1, 3, 480, 640)\n",
      "\n",
      "0: 480x640 1 car, 1 airplane, 12.0ms\n",
      "Speed: 5.0ms preprocess, 12.0ms inference, 2.0ms postprocess per image at shape (1, 3, 480, 640)\n",
      "\n",
      "0: 480x640 1 car, 1 airplane, 13.0ms\n",
      "Speed: 5.0ms preprocess, 13.0ms inference, 2.0ms postprocess per image at shape (1, 3, 480, 640)\n",
      "\n"
     ]
    },
    {
     "name": "stdout",
     "output_type": "stream",
     "text": [
      "deepsort output [[571 554 631 584   4]]\n",
      "in while loop\n",
      "deepsort output [[571 554 632 584   4]]\n",
      "in while loop\n",
      "deepsort output [[571 554 633 584   4]]\n",
      "in while loop\n",
      "deepsort output [[571 554 633 585   4]]\n",
      "in while loop\n"
     ]
    },
    {
     "name": "stderr",
     "output_type": "stream",
     "text": [
      "0: 480x640 1 car, 1 airplane, 27.0ms\n",
      "Speed: 7.0ms preprocess, 27.0ms inference, 2.0ms postprocess per image at shape (1, 3, 480, 640)\n",
      "\n",
      "0: 480x640 1 car, 1 airplane, 13.0ms\n",
      "Speed: 5.0ms preprocess, 13.0ms inference, 2.0ms postprocess per image at shape (1, 3, 480, 640)\n",
      "\n",
      "0: 480x640 1 car, 1 airplane, 12.8ms\n",
      "Speed: 5.0ms preprocess, 12.8ms inference, 2.0ms postprocess per image at shape (1, 3, 480, 640)\n",
      "\n",
      "0: 480x640 1 car, 1 airplane, 36.0ms\n",
      "Speed: 5.0ms preprocess, 36.0ms inference, 1.0ms postprocess per image at shape (1, 3, 480, 640)\n",
      "\n"
     ]
    },
    {
     "name": "stdout",
     "output_type": "stream",
     "text": [
      "deepsort output [[571 554 633 585   4]]\n",
      "in while loop\n",
      "deepsort output [[572 554 635 585   4]]\n",
      "in while loop\n",
      "deepsort output [[573 554 636 585   4]]\n",
      "in while loop\n",
      "deepsort output [[573 554 637 585   4]]\n",
      "in while loop\n"
     ]
    },
    {
     "name": "stderr",
     "output_type": "stream",
     "text": [
      "0: 480x640 2 cars, 1 airplane, 16.0ms\n",
      "Speed: 5.0ms preprocess, 16.0ms inference, 2.0ms postprocess per image at shape (1, 3, 480, 640)\n",
      "\n",
      "0: 480x640 2 cars, 1 airplane, 13.0ms\n",
      "Speed: 5.0ms preprocess, 13.0ms inference, 2.0ms postprocess per image at shape (1, 3, 480, 640)\n",
      "\n",
      "0: 480x640 2 cars, 1 airplane, 15.0ms\n",
      "Speed: 8.0ms preprocess, 15.0ms inference, 2.0ms postprocess per image at shape (1, 3, 480, 640)\n",
      "\n",
      "0: 480x640 1 car, 13.0ms\n",
      "Speed: 5.0ms preprocess, 13.0ms inference, 2.0ms postprocess per image at shape (1, 3, 480, 640)\n"
     ]
    },
    {
     "name": "stdout",
     "output_type": "stream",
     "text": [
      "deepsort output [[592 554 643 585   3]\n",
      " [573 552 641 585   4]]\n",
      "in while loop\n",
      "deepsort output [[592 553 643 586   3]\n",
      " [574 552 643 585   4]]\n",
      "in while loop\n",
      "deepsort output [[592 553 644 586   3]\n",
      " [574 552 643 586   4]]\n",
      "in while loop\n",
      "deepsort output [[593 553 645 586   3]\n",
      " [575 551 647 587   4]]\n",
      "in while loop\n"
     ]
    },
    {
     "name": "stderr",
     "output_type": "stream",
     "text": [
      "\n",
      "0: 480x640 1 car, 13.0ms\n",
      "Speed: 5.0ms preprocess, 13.0ms inference, 2.0ms postprocess per image at shape (1, 3, 480, 640)\n",
      "\n",
      "0: 480x640 1 car, 26.0ms\n",
      "Speed: 7.0ms preprocess, 26.0ms inference, 2.0ms postprocess per image at shape (1, 3, 480, 640)\n",
      "\n",
      "0: 480x640 3 cars, 1 airplane, 14.0ms\n",
      "Speed: 5.0ms preprocess, 14.0ms inference, 2.0ms postprocess per image at shape (1, 3, 480, 640)\n",
      "\n"
     ]
    },
    {
     "name": "stdout",
     "output_type": "stream",
     "text": [
      "deepsort output [[576 551 649 587   4]]\n",
      "in while loop\n",
      "deepsort output [[576 551 650 588   4]]\n",
      "in while loop\n",
      "deepsort output [[599 553 654 588   3]\n",
      " [580 553 651 587   4]]\n",
      "in while loop\n"
     ]
    },
    {
     "name": "stderr",
     "output_type": "stream",
     "text": [
      "0: 480x640 3 cars, 1 airplane, 13.0ms\n",
      "Speed: 5.0ms preprocess, 13.0ms inference, 2.0ms postprocess per image at shape (1, 3, 480, 640)\n",
      "\n",
      "0: 480x640 2 cars, 1 airplane, 14.0ms\n",
      "Speed: 5.0ms preprocess, 14.0ms inference, 2.0ms postprocess per image at shape (1, 3, 480, 640)\n",
      "\n",
      "0: 480x640 2 cars, 1 airplane, 16.0ms\n",
      "Speed: 5.0ms preprocess, 16.0ms inference, 2.0ms postprocess per image at shape (1, 3, 480, 640)\n",
      "\n",
      "0: 480x640 2 cars, 14.0ms\n",
      "Speed: 5.0ms preprocess, 14.0ms inference, 2.0ms postprocess per image at shape (1, 3, 480, 640)\n"
     ]
    },
    {
     "name": "stdout",
     "output_type": "stream",
     "text": [
      "deepsort output [[600 553 655 589   3]\n",
      " [581 553 651 587   4]]\n",
      "in while loop\n",
      "deepsort output [[603 553 660 589   3]\n",
      " [582 553 652 587   4]\n",
      " [578 555 608 576   6]]\n",
      "in while loop\n",
      "deepsort output [[604 553 661 590   3]\n",
      " [578 555 609 577   6]]\n",
      "in while loop\n",
      "deepsort output [[606 553 667 592   3]\n",
      " [579 553 612 577   6]]\n",
      "in while loop\n"
     ]
    },
    {
     "name": "stderr",
     "output_type": "stream",
     "text": [
      "\n",
      "0: 480x640 2 cars, 14.0ms\n",
      "Speed: 5.0ms preprocess, 14.0ms inference, 2.0ms postprocess per image at shape (1, 3, 480, 640)\n",
      "\n",
      "0: 480x640 2 cars, 15.0ms\n",
      "Speed: 5.0ms preprocess, 15.0ms inference, 3.0ms postprocess per image at shape (1, 3, 480, 640)\n",
      "\n",
      "0: 480x640 2 cars, 15.0ms\n",
      "Speed: 7.0ms preprocess, 15.0ms inference, 2.0ms postprocess per image at shape (1, 3, 480, 640)\n",
      "\n",
      "0: 480x640 2 cars, 1 airplane, 14.0ms\n",
      "Speed: 5.0ms preprocess, 14.0ms inference, 2.0ms postprocess per image at shape (1, 3, 480, 640)\n",
      "\n"
     ]
    },
    {
     "name": "stdout",
     "output_type": "stream",
     "text": [
      "deepsort output [[607 553 669 592   3]\n",
      " [580 553 613 577   6]]\n",
      "in while loop\n",
      "deepsort output [[607 553 669 593   3]\n",
      " [580 552 613 577   6]]\n",
      "in while loop\n",
      "deepsort output [[607 553 669 593   3]\n",
      " [580 552 613 577   6]]\n",
      "in while loop\n",
      "deepsort output [[611 552 676 593   3]\n",
      " [580 552 615 577   6]]\n",
      "in while loop\n"
     ]
    },
    {
     "name": "stderr",
     "output_type": "stream",
     "text": [
      "0: 480x640 2 cars, 1 airplane, 15.0ms\n",
      "Speed: 7.0ms preprocess, 15.0ms inference, 2.0ms postprocess per image at shape (1, 3, 480, 640)\n",
      "\n",
      "0: 480x640 2 cars, 1 airplane, 18.0ms\n",
      "Speed: 8.0ms preprocess, 18.0ms inference, 2.0ms postprocess per image at shape (1, 3, 480, 640)\n",
      "\n",
      "0: 480x640 2 cars, 1 airplane, 1 traffic light, 14.0ms\n",
      "Speed: 5.0ms preprocess, 14.0ms inference, 2.0ms postprocess per image at shape (1, 3, 480, 640)\n",
      "\n",
      "0: 480x640 2 cars, 1 airplane, 1 traffic light, 14.0ms\n",
      "Speed: 5.0ms preprocess, 14.0ms inference, 2.0ms postprocess per image at shape (1, 3, 480, 640)\n",
      "\n"
     ]
    },
    {
     "name": "stdout",
     "output_type": "stream",
     "text": [
      "deepsort output [[612 552 679 594   3]\n",
      " [580 552 615 577   6]]\n",
      "in while loop\n",
      "deepsort output [[613 552 680 594   3]\n",
      " [580 552 615 578   6]]\n",
      "in while loop\n",
      "deepsort output [[612 546 688 594   3]\n",
      " [581 552 616 578   6]]\n",
      "in while loop\n",
      "deepsort output [[612 543 691 595   3]\n",
      " [581 552 616 578   6]]\n",
      "in while loop\n"
     ]
    },
    {
     "name": "stderr",
     "output_type": "stream",
     "text": [
      "0: 480x640 3 cars, 2 traffic lights, 24.0ms\n",
      "Speed: 5.0ms preprocess, 24.0ms inference, 3.0ms postprocess per image at shape (1, 3, 480, 640)\n",
      "\n",
      "0: 480x640 3 cars, 2 traffic lights, 14.0ms\n",
      "Speed: 5.0ms preprocess, 14.0ms inference, 2.0ms postprocess per image at shape (1, 3, 480, 640)\n",
      "\n",
      "0: 480x640 3 cars, 2 traffic lights, 14.0ms\n",
      "Speed: 5.0ms preprocess, 14.0ms inference, 8.0ms postprocess per image at shape (1, 3, 480, 640)\n",
      "\n",
      "0: 480x640 3 cars, 1 traffic light, 16.0ms\n"
     ]
    },
    {
     "name": "stdout",
     "output_type": "stream",
     "text": [
      "deepsort output [[615 543 698 597   3]\n",
      " [583 550 621 579   6]]\n",
      "in while loop\n",
      "deepsort output [[616 542 701 597   3]\n",
      " [583 550 623 579   6]]\n",
      "in while loop\n",
      "deepsort output [[616 542 702 598   3]\n",
      " [583 549 623 579   6]\n",
      " [583 551 612 579   7]]\n",
      "in while loop\n"
     ]
    },
    {
     "name": "stderr",
     "output_type": "stream",
     "text": [
      "Speed: 6.0ms preprocess, 16.0ms inference, 2.0ms postprocess per image at shape (1, 3, 480, 640)\n",
      "\n",
      "0: 480x640 3 cars, 1 traffic light, 14.0ms\n",
      "Speed: 8.0ms preprocess, 14.0ms inference, 2.0ms postprocess per image at shape (1, 3, 480, 640)\n",
      "\n",
      "0: 480x640 3 cars, 1 airplane, 2 traffic lights, 14.0ms\n",
      "Speed: 5.0ms preprocess, 14.0ms inference, 2.0ms postprocess per image at shape (1, 3, 480, 640)\n",
      "\n",
      "0: 480x640 3 cars, 1 airplane, 2 traffic lights, 18.0ms\n"
     ]
    },
    {
     "name": "stdout",
     "output_type": "stream",
     "text": [
      "deepsort output [[619 541 710 600   3]\n",
      " [585 550 626 579   6]\n",
      " [585 551 614 579   7]]\n",
      "in while loop\n",
      "deepsort output [[621 540 713 600   3]\n",
      " [586 550 627 579   6]\n",
      " [585 551 615 579   7]]\n",
      "in while loop\n",
      "deepsort output [[624 540 721 603   3]\n",
      " [586 550 628 580   6]\n",
      " [583 551 613 579   7]]\n",
      "in while loop\n"
     ]
    },
    {
     "name": "stderr",
     "output_type": "stream",
     "text": [
      "Speed: 5.0ms preprocess, 18.0ms inference, 3.0ms postprocess per image at shape (1, 3, 480, 640)\n",
      "\n",
      "0: 480x640 3 cars, 1 airplane, 2 traffic lights, 14.0ms\n",
      "Speed: 6.0ms preprocess, 14.0ms inference, 2.0ms postprocess per image at shape (1, 3, 480, 640)\n",
      "\n",
      "0: 480x640 3 cars, 1 traffic light, 17.0ms\n"
     ]
    },
    {
     "name": "stdout",
     "output_type": "stream",
     "text": [
      "deepsort output [[626 539 725 603   3]\n",
      " [586 550 629 581   6]\n",
      " [583 551 612 579   7]]\n",
      "in while loop\n",
      "deepsort output [[626 539 726 604   3]\n",
      " [586 550 629 581   6]\n",
      " [583 551 612 579   7]]\n",
      "in while loop\n"
     ]
    },
    {
     "name": "stderr",
     "output_type": "stream",
     "text": [
      "Speed: 6.0ms preprocess, 17.0ms inference, 2.0ms postprocess per image at shape (1, 3, 480, 640)\n",
      "\n",
      "0: 480x640 2 cars, 1 airplane, 2 traffic lights, 12.0ms\n",
      "Speed: 6.0ms preprocess, 12.0ms inference, 2.0ms postprocess per image at shape (1, 3, 480, 640)\n",
      "\n",
      "0: 480x640 2 cars, 1 airplane, 2 traffic lights, 13.0ms\n",
      "Speed: 5.0ms preprocess, 13.0ms inference, 2.0ms postprocess per image at shape (1, 3, 480, 640)\n",
      "\n",
      "0: 480x640 2 cars, 1 airplane, 2 traffic lights, 12.0ms\n",
      "Speed: 5.0ms preprocess, 12.0ms inference, 2.0ms postprocess per image at shape (1, 3, 480, 640)\n"
     ]
    },
    {
     "name": "stdout",
     "output_type": "stream",
     "text": [
      "deepsort output [[629 538 736 606   3]\n",
      " [582 552 641 581   4]\n",
      " [586 550 630 581   6]\n",
      " [583 551 612 579   7]]\n",
      "in while loop\n",
      "deepsort output [[636 535 754 611   3]\n",
      " [583 549 648 582   4]]\n",
      "in while loop\n",
      "deepsort output [[639 535 762 613   3]\n",
      " [584 549 649 582   4]]\n",
      "in while loop\n",
      "deepsort output [[639 534 765 614   3]\n",
      " [584 548 650 582   4]]\n"
     ]
    },
    {
     "name": "stderr",
     "output_type": "stream",
     "text": [
      "\n",
      "0: 480x640 4 cars, 2 traffic lights, 12.0ms\n",
      "Speed: 5.0ms preprocess, 12.0ms inference, 2.0ms postprocess per image at shape (1, 3, 480, 640)\n",
      "\n",
      "0: 480x640 4 cars, 2 traffic lights, 13.0ms\n",
      "Speed: 5.0ms preprocess, 13.0ms inference, 2.0ms postprocess per image at shape (1, 3, 480, 640)\n",
      "\n",
      "0: 480x640 4 cars, 2 traffic lights, 20.0ms\n",
      "Speed: 8.0ms preprocess, 20.0ms inference, 2.0ms postprocess per image at shape (1, 3, 480, 640)\n",
      "\n"
     ]
    },
    {
     "name": "stdout",
     "output_type": "stream",
     "text": [
      "in while loop\n",
      "deepsort output [[647 532 779 615   3]\n",
      " [587 549 654 584   4]]\n",
      "in while loop\n",
      "deepsort output [[649 531 784 616   3]\n",
      " [589 549 656 584   4]]\n",
      "in while loop\n",
      "deepsort output [[649 531 787 616   3]\n",
      " [589 549 656 584   4]]\n",
      "in while loop\n"
     ]
    },
    {
     "name": "stderr",
     "output_type": "stream",
     "text": [
      "0: 480x640 3 cars, 2 traffic lights, 12.0ms\n",
      "Speed: 5.0ms preprocess, 12.0ms inference, 2.0ms postprocess per image at shape (1, 3, 480, 640)\n",
      "\n",
      "0: 480x640 3 cars, 2 traffic lights, 12.0ms\n",
      "Speed: 5.0ms preprocess, 12.0ms inference, 2.0ms postprocess per image at shape (1, 3, 480, 640)\n",
      "\n",
      "0: 480x640 3 cars, 2 traffic lights, 33.0ms\n",
      "Speed: 5.0ms preprocess, 33.0ms inference, 2.0ms postprocess per image at shape (1, 3, 480, 640)\n",
      "\n",
      "0: 480x640 3 cars, 2 traffic lights, 12.0ms\n",
      "Speed: 5.0ms preprocess, 12.0ms inference, 2.0ms postprocess per image at shape (1, 3, 480, 640)\n"
     ]
    },
    {
     "name": "stdout",
     "output_type": "stream",
     "text": [
      "deepsort output [[658 530 803 619   3]\n",
      " [592 549 661 585   4]\n",
      " [595 549 644 583   6]]\n",
      "in while loop\n",
      "deepsort output [[661 530 810 621   3]\n",
      " [593 549 663 585   4]\n",
      " [595 548 645 583   6]]\n",
      "in while loop\n",
      "deepsort output [[661 530 813 621   3]\n",
      " [594 548 664 586   4]\n",
      " [595 548 645 583   6]]\n",
      "in while loop\n",
      "deepsort output [[670 529 834 626   3]\n",
      " [599 548 668 585   4]\n",
      " [596 548 646 583   6]\n",
      " [598 549 631 580   7]]\n",
      "in while loop\n"
     ]
    },
    {
     "name": "stderr",
     "output_type": "stream",
     "text": [
      "\n",
      "0: 480x640 3 cars, 2 traffic lights, 12.0ms\n",
      "Speed: 5.0ms preprocess, 12.0ms inference, 3.0ms postprocess per image at shape (1, 3, 480, 640)\n",
      "\n",
      "0: 480x640 2 cars, 2 traffic lights, 12.0ms\n",
      "Speed: 5.0ms preprocess, 12.0ms inference, 2.0ms postprocess per image at shape (1, 3, 480, 640)\n",
      "\n",
      "0: 480x640 2 cars, 2 traffic lights, 13.0ms\n",
      "Speed: 5.0ms preprocess, 13.0ms inference, 2.0ms postprocess per image at shape (1, 3, 480, 640)\n",
      "\n",
      "0: 480x640 2 cars, 2 traffic lights, 12.0ms\n",
      "Speed: 5.0ms preprocess, 12.0ms inference, 2.0ms postprocess per image at shape (1, 3, 480, 640)\n",
      "\n"
     ]
    },
    {
     "name": "stdout",
     "output_type": "stream",
     "text": [
      "deepsort output [[673 528 843 627   3]\n",
      " [601 548 670 585   4]\n",
      " [599 548 632 581   7]]\n",
      "in while loop\n",
      "deepsort output [[686 527 867 631   3]\n",
      " [607 548 679 586   4]\n",
      " [600 548 633 581   7]]\n",
      "in while loop\n",
      "deepsort output [[690 526 878 632   3]\n",
      " [609 548 682 586   4]]\n",
      "in while loop\n",
      "deepsort output [[691 526 882 632   3]\n",
      " [609 548 683 587   4]]\n",
      "in while loop\n"
     ]
    },
    {
     "name": "stderr",
     "output_type": "stream",
     "text": [
      "0: 480x640 2 cars, 2 traffic lights, 21.0ms\n",
      "Speed: 7.0ms preprocess, 21.0ms inference, 2.0ms postprocess per image at shape (1, 3, 480, 640)\n",
      "\n",
      "0: 480x640 2 cars, 2 traffic lights, 12.0ms\n",
      "Speed: 5.0ms preprocess, 12.0ms inference, 2.0ms postprocess per image at shape (1, 3, 480, 640)\n",
      "\n",
      "0: 480x640 2 cars, 2 traffic lights, 12.0ms\n",
      "Speed: 5.0ms preprocess, 12.0ms inference, 2.0ms postprocess per image at shape (1, 3, 480, 640)\n",
      "\n",
      "0: 480x640 2 cars, 2 traffic lights, 26.0ms\n",
      "Speed: 6.0ms preprocess, 26.0ms inference, 2.0ms postprocess per image at shape (1, 3, 480, 640)\n"
     ]
    },
    {
     "name": "stdout",
     "output_type": "stream",
     "text": [
      "deepsort output [[691 526 885 632   3]\n",
      " [609 548 684 587   4]]\n",
      "in while loop\n",
      "deepsort output [[700 526 906 637   3]\n",
      " [613 548 688 586   4]]\n",
      "in while loop\n",
      "deepsort output [[702 526 915 639   3]\n",
      " [615 548 690 586   4]]\n",
      "in while loop\n",
      "deepsort output [[702 526 919 639   3]\n",
      " [615 548 690 586   4]]\n",
      "in while loop\n"
     ]
    },
    {
     "name": "stderr",
     "output_type": "stream",
     "text": [
      "\n",
      "0: 480x640 2 cars, 2 traffic lights, 13.0ms\n",
      "Speed: 5.0ms preprocess, 13.0ms inference, 2.0ms postprocess per image at shape (1, 3, 480, 640)\n",
      "\n",
      "0: 480x640 2 cars, 2 traffic lights, 12.0ms\n",
      "Speed: 5.0ms preprocess, 12.0ms inference, 2.0ms postprocess per image at shape (1, 3, 480, 640)\n",
      "\n",
      "0: 480x640 2 cars, 2 traffic lights, 22.5ms\n",
      "Speed: 7.0ms preprocess, 22.5ms inference, 2.0ms postprocess per image at shape (1, 3, 480, 640)\n",
      "\n",
      "0: 480x640 2 cars, 2 traffic lights, 15.0ms\n",
      "Speed: 5.0ms preprocess, 15.0ms inference, 2.0ms postprocess per image at shape (1, 3, 480, 640)\n"
     ]
    },
    {
     "name": "stdout",
     "output_type": "stream",
     "text": [
      "deepsort output [[707 525 934 642   3]\n",
      " [617 548 695 586   4]]\n",
      "in while loop\n",
      "deepsort output [[708 524 941 643   3]\n",
      " [618 548 697 586   4]]\n",
      "in while loop\n",
      "deepsort output [[707 524 944 643   3]\n",
      " [618 548 698 587   4]]\n",
      "in while loop\n"
     ]
    },
    {
     "name": "stderr",
     "output_type": "stream",
     "text": [
      "\n",
      "0: 480x640 2 cars, 2 traffic lights, 12.0ms\n",
      "Speed: 5.0ms preprocess, 12.0ms inference, 2.0ms postprocess per image at shape (1, 3, 480, 640)\n",
      "\n",
      "0: 480x640 2 cars, 2 traffic lights, 12.0ms\n",
      "Speed: 5.0ms preprocess, 12.0ms inference, 2.0ms postprocess per image at shape (1, 3, 480, 640)\n",
      "\n",
      "0: 480x640 2 cars, 2 traffic lights, 12.0ms\n",
      "Speed: 5.0ms preprocess, 12.0ms inference, 2.0ms postprocess per image at shape (1, 3, 480, 640)\n",
      "\n"
     ]
    },
    {
     "name": "stdout",
     "output_type": "stream",
     "text": [
      "deepsort output [[710 524 950 643   3]\n",
      " [618 549 698 587   4]]\n",
      "in while loop\n",
      "deepsort output [[710 524 952 643   3]\n",
      " [618 549 698 587   4]]\n",
      "in while loop\n",
      "deepsort output [[709 524 955 644   3]\n",
      " [618 550 697 587   4]]\n",
      "in while loop\n",
      "deepsort output [[707 524 956 644   3]\n",
      " [618 550 697 587   4]]\n",
      "in while loop\n"
     ]
    },
    {
     "name": "stderr",
     "output_type": "stream",
     "text": [
      "0: 480x640 2 cars, 2 traffic lights, 12.0ms\n",
      "Speed: 5.0ms preprocess, 12.0ms inference, 2.0ms postprocess per image at shape (1, 3, 480, 640)\n",
      "\n",
      "0: 480x640 2 cars, 2 traffic lights, 13.0ms\n",
      "Speed: 7.0ms preprocess, 13.0ms inference, 2.0ms postprocess per image at shape (1, 3, 480, 640)\n",
      "\n",
      "0: 480x640 2 cars, 2 traffic lights, 13.0ms\n",
      "Speed: 5.0ms preprocess, 13.0ms inference, 1.0ms postprocess per image at shape (1, 3, 480, 640)\n",
      "\n",
      "0: 480x640 2 cars, 2 traffic lights, 12.0ms\n",
      "Speed: 5.0ms preprocess, 12.0ms inference, 3.0ms postprocess per image at shape (1, 3, 480, 640)\n",
      "\n"
     ]
    },
    {
     "name": "stdout",
     "output_type": "stream",
     "text": [
      "deepsort output [[706 524 957 644   3]\n",
      " [618 551 697 587   4]]\n",
      "in while loop\n",
      "deepsort output [[705 524 957 644   3]\n",
      " [618 551 697 587   4]]\n",
      "in while loop\n",
      "deepsort output [[704 524 958 644   3]\n",
      " [617 550 699 587   4]]\n",
      "in while loop\n",
      "deepsort output [[703 524 958 644   3]\n",
      " [617 550 699 587   4]]\n",
      "in while loop\n"
     ]
    },
    {
     "name": "stderr",
     "output_type": "stream",
     "text": [
      "0: 480x640 2 cars, 2 traffic lights, 33.0ms\n",
      "Speed: 5.0ms preprocess, 33.0ms inference, 2.0ms postprocess per image at shape (1, 3, 480, 640)\n",
      "\n",
      "0: 480x640 2 cars, 2 traffic lights, 13.0ms\n",
      "Speed: 5.0ms preprocess, 13.0ms inference, 2.0ms postprocess per image at shape (1, 3, 480, 640)\n",
      "\n",
      "0: 480x640 2 cars, 2 traffic lights, 14.0ms\n",
      "Speed: 5.0ms preprocess, 14.0ms inference, 2.0ms postprocess per image at shape (1, 3, 480, 640)\n",
      "\n",
      "0: 480x640 2 cars, 2 traffic lights, 13.0ms\n"
     ]
    },
    {
     "name": "stdout",
     "output_type": "stream",
     "text": [
      "deepsort output [[703 524 958 644   3]\n",
      " [616 550 699 587   4]]\n",
      "in while loop\n",
      "deepsort output [[703 524 958 643   3]\n",
      " [618 550 700 587   4]]\n",
      "in while loop\n",
      "deepsort output [[702 524 959 643   3]\n",
      " [618 550 700 587   4]]\n",
      "in while loop\n"
     ]
    },
    {
     "name": "stderr",
     "output_type": "stream",
     "text": [
      "Speed: 5.0ms preprocess, 13.0ms inference, 2.0ms postprocess per image at shape (1, 3, 480, 640)\n",
      "\n",
      "0: 480x640 2 cars, 2 traffic lights, 14.0ms\n",
      "Speed: 6.0ms preprocess, 14.0ms inference, 2.0ms postprocess per image at shape (1, 3, 480, 640)\n",
      "\n",
      "0: 480x640 2 cars, 2 traffic lights, 21.0ms\n",
      "Speed: 7.0ms preprocess, 21.0ms inference, 2.0ms postprocess per image at shape (1, 3, 480, 640)\n",
      "\n",
      "0: 480x640 2 cars, 2 traffic lights, 15.0ms\n"
     ]
    },
    {
     "name": "stdout",
     "output_type": "stream",
     "text": [
      "deepsort output [[702 524 959 643   3]\n",
      " [617 550 700 587   4]]\n",
      "in while loop\n",
      "deepsort output [[702 524 959 643   3]\n",
      " [617 551 700 587   4]]\n",
      "in while loop\n",
      "deepsort output [[701 524 960 643   3]\n",
      " [617 551 700 587   4]]\n",
      "in while loop\n"
     ]
    },
    {
     "name": "stderr",
     "output_type": "stream",
     "text": [
      "Speed: 5.0ms preprocess, 15.0ms inference, 2.0ms postprocess per image at shape (1, 3, 480, 640)\n",
      "\n",
      "0: 480x640 2 cars, 2 traffic lights, 13.0ms\n",
      "Speed: 5.0ms preprocess, 13.0ms inference, 3.0ms postprocess per image at shape (1, 3, 480, 640)\n",
      "\n",
      "0: 480x640 2 cars, 2 traffic lights, 13.0ms\n",
      "Speed: 6.0ms preprocess, 13.0ms inference, 3.0ms postprocess per image at shape (1, 3, 480, 640)\n",
      "\n",
      "0: 480x640 2 cars, 2 traffic lights, 15.0ms\n",
      "Speed: 6.0ms preprocess, 15.0ms inference, 2.0ms postprocess per image at shape (1, 3, 480, 640)\n"
     ]
    },
    {
     "name": "stdout",
     "output_type": "stream",
     "text": [
      "deepsort output [[701 524 960 643   3]\n",
      " [617 551 700 586   4]]\n",
      "in while loop\n",
      "deepsort output [[700 524 960 643   3]\n",
      " [617 551 700 586   4]]\n",
      "in while loop\n",
      "deepsort output [[700 524 962 643   3]\n",
      " [616 551 700 586   4]]\n",
      "in while loop\n",
      "deepsort output [[699 524 962 643   3]\n",
      " [616 551 701 586   4]]\n",
      "in while loop\n"
     ]
    },
    {
     "name": "stderr",
     "output_type": "stream",
     "text": [
      "\n",
      "0: 480x640 2 cars, 2 traffic lights, 14.0ms\n",
      "Speed: 6.0ms preprocess, 14.0ms inference, 2.0ms postprocess per image at shape (1, 3, 480, 640)\n",
      "\n",
      "0: 480x640 2 cars, 2 traffic lights, 13.0ms\n",
      "Speed: 5.0ms preprocess, 13.0ms inference, 2.0ms postprocess per image at shape (1, 3, 480, 640)\n",
      "\n",
      "0: 480x640 2 cars, 2 traffic lights, 14.0ms\n",
      "Speed: 5.0ms preprocess, 14.0ms inference, 2.0ms postprocess per image at shape (1, 3, 480, 640)\n",
      "\n"
     ]
    },
    {
     "name": "stdout",
     "output_type": "stream",
     "text": [
      "deepsort output [[699 523 963 643   3]\n",
      " [616 551 701 586   4]]\n",
      "in while loop\n",
      "deepsort output [[698 523 964 643   3]\n",
      " [615 549 703 586   4]]\n",
      "in while loop\n",
      "deepsort output [[698 523 964 643   3]\n",
      " [615 549 704 587   4]]\n",
      "in while loop\n"
     ]
    },
    {
     "name": "stderr",
     "output_type": "stream",
     "text": [
      "0: 480x640 2 cars, 2 traffic lights, 16.0ms\n",
      "Speed: 5.0ms preprocess, 16.0ms inference, 18.0ms postprocess per image at shape (1, 3, 480, 640)\n",
      "\n",
      "0: 480x640 3 cars, 2 traffic lights, 13.0ms\n",
      "Speed: 4.0ms preprocess, 13.0ms inference, 2.0ms postprocess per image at shape (1, 3, 480, 640)\n",
      "\n",
      "0: 480x640 3 cars, 2 traffic lights, 14.0ms\n",
      "Speed: 4.0ms preprocess, 14.0ms inference, 2.0ms postprocess per image at shape (1, 3, 480, 640)\n",
      "\n",
      "0: 480x640 3 cars, 2 traffic lights, 14.0ms\n",
      "Speed: 6.0ms preprocess, 14.0ms inference, 2.0ms postprocess per image at shape (1, 3, 480, 640)\n",
      "\n"
     ]
    },
    {
     "name": "stdout",
     "output_type": "stream",
     "text": [
      "deepsort output [[697 523 964 644   3]\n",
      " [615 549 705 587   4]]\n",
      "in while loop\n",
      "deepsort output [[699 523 968 644   3]\n",
      " [611 548 701 587   4]\n",
      " [617 549 670 585   6]]\n",
      "in while loop\n",
      "deepsort output [[700 523 970 644   3]\n",
      " [611 548 699 587   4]\n",
      " [616 550 671 585   6]]\n",
      "in while loop\n",
      "deepsort output [[700 523 971 645   3]\n",
      " [610 548 698 587   4]\n",
      " [616 550 671 585   6]]\n",
      "in while loop\n"
     ]
    },
    {
     "name": "stderr",
     "output_type": "stream",
     "text": [
      "0: 480x640 3 cars, 2 traffic lights, 14.0ms\n",
      "Speed: 5.0ms preprocess, 14.0ms inference, 2.0ms postprocess per image at shape (1, 3, 480, 640)\n",
      "\n",
      "0: 480x640 3 cars, 2 traffic lights, 14.0ms\n",
      "Speed: 5.0ms preprocess, 14.0ms inference, 2.0ms postprocess per image at shape (1, 3, 480, 640)\n",
      "\n",
      "0: 480x640 3 cars, 2 traffic lights, 14.0ms\n",
      "Speed: 5.0ms preprocess, 14.0ms inference, 2.0ms postprocess per image at shape (1, 3, 480, 640)\n",
      "\n"
     ]
    },
    {
     "name": "stdout",
     "output_type": "stream",
     "text": [
      "deepsort output [[701 521 978 645   3]\n",
      " [616 549 703 587   4]\n",
      " [617 550 672 585   6]]\n",
      "in while loop\n",
      "deepsort output [[702 521 981 646   3]\n",
      " [618 549 705 587   4]]\n",
      "in while loop\n",
      "deepsort output [[705 519 991 647   3]\n",
      " [620 548 708 586   4]]\n",
      "in while loop\n"
     ]
    },
    {
     "name": "stderr",
     "output_type": "stream",
     "text": [
      "0: 480x640 3 cars, 2 traffic lights, 14.0ms\n",
      "Speed: 5.0ms preprocess, 14.0ms inference, 2.0ms postprocess per image at shape (1, 3, 480, 640)\n",
      "\n",
      "0: 480x640 3 cars, 2 traffic lights, 17.0ms\n",
      "Speed: 6.0ms preprocess, 17.0ms inference, 2.0ms postprocess per image at shape (1, 3, 480, 640)\n",
      "\n",
      "0: 480x640 2 cars, 2 traffic lights, 15.0ms\n",
      "Speed: 5.0ms preprocess, 15.0ms inference, 2.0ms postprocess per image at shape (1, 3, 480, 640)\n",
      "\n",
      "0: 480x640 2 cars, 2 traffic lights, 14.0ms\n",
      "Speed: 5.0ms preprocess, 14.0ms inference, 2.0ms postprocess per image at shape (1, 3, 480, 640)\n",
      "\n"
     ]
    },
    {
     "name": "stdout",
     "output_type": "stream",
     "text": [
      "deepsort output [[706 519 995 647   3]\n",
      " [620 548 710 586   4]]\n",
      "in while loop\n",
      "deepsort output [[706 518 996 648   3]\n",
      " [620 547 711 586   4]]\n",
      "in while loop\n",
      "deepsort output [[ 711  518 1007  650    3]\n",
      " [ 619  546  714  586    4]]\n",
      "in while loop\n",
      "deepsort output [[ 713  518 1012  650    3]\n",
      " [ 618  546  715  586    4]]\n",
      "in while loop\n"
     ]
    },
    {
     "name": "stderr",
     "output_type": "stream",
     "text": [
      "0: 480x640 2 cars, 2 traffic lights, 14.0ms\n",
      "Speed: 7.0ms preprocess, 14.0ms inference, 2.0ms postprocess per image at shape (1, 3, 480, 640)\n",
      "\n",
      "0: 480x640 2 cars, 2 traffic lights, 14.0ms\n",
      "Speed: 5.0ms preprocess, 14.0ms inference, 2.0ms postprocess per image at shape (1, 3, 480, 640)\n",
      "\n",
      "0: 480x640 2 cars, 2 traffic lights, 14.0ms\n",
      "Speed: 5.0ms preprocess, 14.0ms inference, 2.0ms postprocess per image at shape (1, 3, 480, 640)\n",
      "\n",
      "0: 480x640 2 cars, 3 traffic lights, 18.0ms\n",
      "Speed: 7.0ms preprocess, 18.0ms inference, 2.0ms postprocess per image at shape (1, 3, 480, 640)\n"
     ]
    },
    {
     "name": "stdout",
     "output_type": "stream",
     "text": [
      "deepsort output [[ 713  518 1013  651    3]\n",
      " [ 618  545  716  586    4]]\n",
      "in while loop\n",
      "deepsort output [[ 713  518 1021  653    3]\n",
      " [ 617  544  718  586    4]]\n",
      "in while loop\n",
      "deepsort output [[ 713  517 1023  654    3]\n",
      " [ 617  544  719  587    4]]\n",
      "in while loop\n",
      "deepsort output [[ 711  516 1023  658    3]\n",
      " [ 619  544  721  587    4]]\n",
      "in while loop\n"
     ]
    },
    {
     "name": "stderr",
     "output_type": "stream",
     "text": [
      "\n",
      "0: 480x640 2 cars, 3 traffic lights, 14.0ms\n",
      "Speed: 6.0ms preprocess, 14.0ms inference, 2.0ms postprocess per image at shape (1, 3, 480, 640)\n",
      "\n",
      "0: 480x640 2 cars, 3 traffic lights, 15.0ms\n",
      "Speed: 5.0ms preprocess, 15.0ms inference, 23.8ms postprocess per image at shape (1, 3, 480, 640)\n",
      "\n",
      "0: 480x640 2 cars, 2 traffic lights, 15.0ms\n",
      "Speed: 7.0ms preprocess, 15.0ms inference, 3.0ms postprocess per image at shape (1, 3, 480, 640)\n",
      "\n"
     ]
    },
    {
     "name": "stdout",
     "output_type": "stream",
     "text": [
      "deepsort output [[ 710  516 1023  659    3]\n",
      " [ 619  544  722  587    4]]\n",
      "in while loop\n",
      "deepsort output [[ 711  515 1023  660    3]\n",
      " [ 620  544  722  588    4]]\n",
      "in while loop\n",
      "deepsort output [[ 712  514 1023  661    3]\n",
      " [ 623  545  724  588    4]]\n",
      "in while loop\n"
     ]
    },
    {
     "name": "stderr",
     "output_type": "stream",
     "text": [
      "0: 480x640 2 cars, 2 traffic lights, 15.0ms\n",
      "Speed: 6.0ms preprocess, 15.0ms inference, 2.0ms postprocess per image at shape (1, 3, 480, 640)\n",
      "\n",
      "0: 480x640 2 cars, 2 traffic lights, 14.0ms\n",
      "Speed: 5.0ms preprocess, 14.0ms inference, 3.0ms postprocess per image at shape (1, 3, 480, 640)\n",
      "\n",
      "0: 480x640 2 cars, 2 traffic lights, 15.0ms\n",
      "Speed: 5.1ms preprocess, 15.0ms inference, 2.0ms postprocess per image at shape (1, 3, 480, 640)\n",
      "\n"
     ]
    },
    {
     "name": "stdout",
     "output_type": "stream",
     "text": [
      "deepsort output [[ 714  513 1023  661    3]\n",
      " [ 624  545  724  588    4]]\n",
      "in while loop\n",
      "deepsort output [[ 712  511 1023  666    3]\n",
      " [ 629  545  731  588    4]]\n",
      "in while loop\n",
      "deepsort output [[ 713  511 1023  667    3]\n",
      " [ 631  545  733  588    4]]\n",
      "in while loop\n"
     ]
    },
    {
     "name": "stderr",
     "output_type": "stream",
     "text": [
      "0: 480x640 3 cars, 2 traffic lights, 18.0ms\n",
      "Speed: 5.0ms preprocess, 18.0ms inference, 2.0ms postprocess per image at shape (1, 3, 480, 640)\n",
      "\n",
      "0: 480x640 3 cars, 2 traffic lights, 17.0ms\n",
      "Speed: 6.0ms preprocess, 17.0ms inference, 2.0ms postprocess per image at shape (1, 3, 480, 640)\n",
      "\n",
      "0: 480x640 3 cars, 2 traffic lights, 87.0ms\n"
     ]
    },
    {
     "name": "stdout",
     "output_type": "stream",
     "text": [
      "deepsort output [[ 712  507 1023  673    3]\n",
      " [ 634  547  737  589    4]]\n",
      "in while loop\n",
      "deepsort output [[ 714  506 1023  675    3]\n",
      " [ 635  548  738  589    4]]\n",
      "in while loop\n"
     ]
    },
    {
     "name": "stderr",
     "output_type": "stream",
     "text": [
      "Speed: 7.0ms preprocess, 87.0ms inference, 1.0ms postprocess per image at shape (1, 3, 480, 640)\n",
      "\n",
      "0: 480x640 3 cars, 1 traffic light, 13.0ms\n",
      "Speed: 5.0ms preprocess, 13.0ms inference, 2.0ms postprocess per image at shape (1, 3, 480, 640)\n",
      "\n",
      "0: 480x640 3 cars, 1 traffic light, 13.0ms\n",
      "Speed: 7.0ms preprocess, 13.0ms inference, 2.0ms postprocess per image at shape (1, 3, 480, 640)\n",
      "\n",
      "0: 480x640 2 cars, 1 traffic light, 17.0ms\n",
      "Speed: 6.0ms preprocess, 17.0ms inference, 2.0ms postprocess per image at shape (1, 3, 480, 640)\n",
      "\n"
     ]
    },
    {
     "name": "stdout",
     "output_type": "stream",
     "text": [
      "deepsort output [[ 716  505 1023  676    3]\n",
      " [ 634  548  739  590    4]\n",
      " [ 627  545  716  585    8]]\n",
      "in while loop\n",
      "deepsort output [[ 712  502 1023  688    3]\n",
      " [ 635  547  741  588    4]\n",
      " [ 627  545  716  585    8]]\n",
      "in while loop\n",
      "deepsort output [[ 714  501 1023  692    3]\n",
      " [ 635  547  742  588    4]]\n",
      "in while loop\n",
      "deepsort output [[ 721  498 1023  695    3]\n",
      " [ 637  546  748  588    4]]\n",
      "in while loop\n"
     ]
    },
    {
     "name": "stderr",
     "output_type": "stream",
     "text": [
      "0: 480x640 2 cars, 1 traffic light, 13.0ms\n",
      "Speed: 5.0ms preprocess, 13.0ms inference, 2.0ms postprocess per image at shape (1, 3, 480, 640)\n",
      "\n",
      "0: 480x640 2 cars, 1 traffic light, 13.0ms\n",
      "Speed: 5.0ms preprocess, 13.0ms inference, 2.0ms postprocess per image at shape (1, 3, 480, 640)\n",
      "\n",
      "0: 480x640 2 cars, 3 traffic lights, 12.0ms\n",
      "Speed: 5.0ms preprocess, 12.0ms inference, 2.0ms postprocess per image at shape (1, 3, 480, 640)\n",
      "\n",
      "0: 480x640 2 cars, 3 traffic lights, 12.0ms\n",
      "Speed: 5.0ms preprocess, 12.0ms inference, 2.0ms postprocess per image at shape (1, 3, 480, 640)\n",
      "\n"
     ]
    },
    {
     "name": "stdout",
     "output_type": "stream",
     "text": [
      "deepsort output [[ 727  497 1023  696    3]\n",
      " [ 638  546  750  588    4]]\n",
      "in while loop\n",
      "deepsort output [[ 733  496 1023  697    3]\n",
      " [ 638  546  751  589    4]]\n",
      "in while loop\n",
      "deepsort output [[ 763  496 1023  675    3]\n",
      " [ 641  545  755  588    4]]\n",
      "in while loop\n",
      "deepsort output [[ 776  496 1023  666    3]\n",
      " [ 642  545  757  588    4]]\n",
      "in while loop\n"
     ]
    },
    {
     "name": "stderr",
     "output_type": "stream",
     "text": [
      "0: 480x640 2 cars, 3 traffic lights, 13.0ms\n",
      "Speed: 7.0ms preprocess, 13.0ms inference, 2.0ms postprocess per image at shape (1, 3, 480, 640)\n",
      "\n",
      "0: 480x640 2 cars, 3 traffic lights, 12.0ms\n",
      "Speed: 5.0ms preprocess, 12.0ms inference, 2.0ms postprocess per image at shape (1, 3, 480, 640)\n",
      "\n",
      "0: 480x640 2 cars, 3 traffic lights, 13.0ms\n",
      "Speed: 5.0ms preprocess, 13.0ms inference, 1.0ms postprocess per image at shape (1, 3, 480, 640)\n",
      "\n",
      "0: 480x640 2 cars, 3 traffic lights, 12.0ms\n",
      "Speed: 6.0ms preprocess, 12.0ms inference, 3.0ms postprocess per image at shape (1, 3, 480, 640)\n",
      "\n"
     ]
    },
    {
     "name": "stdout",
     "output_type": "stream",
     "text": [
      "deepsort output [[ 795  494 1023  658    3]\n",
      " [ 644  544  768  590    4]]\n",
      "in while loop\n",
      "deepsort output [[ 804  493 1023  655    3]\n",
      " [ 645  544  773  591    4]]\n",
      "in while loop\n",
      "deepsort output [[ 808  493 1023  654    3]\n",
      " [ 645  543  775  591    4]]\n",
      "in while loop\n",
      "deepsort output [[ 820  494 1023  659    3]\n",
      " [ 650  545  776  591    4]]\n",
      "in while loop\n"
     ]
    },
    {
     "name": "stderr",
     "output_type": "stream",
     "text": [
      "0: 480x640 2 cars, 3 traffic lights, 13.0ms\n",
      "Speed: 5.0ms preprocess, 13.0ms inference, 2.0ms postprocess per image at shape (1, 3, 480, 640)\n",
      "\n",
      "0: 480x640 2 cars, 3 traffic lights, 13.0ms\n",
      "Speed: 5.0ms preprocess, 13.0ms inference, 2.0ms postprocess per image at shape (1, 3, 480, 640)\n",
      "\n",
      "0: 480x640 3 cars, 2 traffic lights, 12.0ms\n",
      "Speed: 5.0ms preprocess, 12.0ms inference, 2.0ms postprocess per image at shape (1, 3, 480, 640)\n",
      "\n",
      "0: 480x640 3 cars, 2 traffic lights, 13.0ms\n"
     ]
    },
    {
     "name": "stdout",
     "output_type": "stream",
     "text": [
      "deepsort output [[ 827  495 1023  660    3]\n",
      " [ 651  545  776  591    4]]\n",
      "in while loop\n",
      "deepsort output [[ 831  495 1023  661    3]\n",
      " [ 651  545  777  591    4]]\n",
      "in while loop\n",
      "deepsort output [[ 849  507 1023  667    3]\n",
      " [ 651  543  791  593    4]\n",
      " [ 647  542  715  586    6]]\n",
      "in while loop\n"
     ]
    },
    {
     "name": "stderr",
     "output_type": "stream",
     "text": [
      "Speed: 5.0ms preprocess, 13.0ms inference, 2.0ms postprocess per image at shape (1, 3, 480, 640)\n",
      "\n",
      "0: 480x640 3 cars, 2 traffic lights, 13.0ms\n",
      "Speed: 7.0ms preprocess, 13.0ms inference, 2.0ms postprocess per image at shape (1, 3, 480, 640)\n",
      "\n",
      "0: 480x640 2 cars, 2 traffic lights, 13.0ms\n",
      "Speed: 5.0ms preprocess, 13.0ms inference, 2.0ms postprocess per image at shape (1, 3, 480, 640)\n",
      "\n",
      "0: 480x640 2 cars, 2 traffic lights, 13.0ms\n",
      "Speed: 5.0ms preprocess, 13.0ms inference, 2.0ms postprocess per image at shape (1, 3, 480, 640)\n",
      "\n"
     ]
    },
    {
     "name": "stdout",
     "output_type": "stream",
     "text": [
      "deepsort output [[ 857  512 1023  669    3]\n",
      " [ 651  542  796  594    4]\n",
      " [ 648  541  715  587    6]]\n",
      "in while loop\n",
      "deepsort output [[ 862  513 1023  670    3]\n",
      " [ 651  542  798  595    4]\n",
      " [ 648  541  715  587    6]]\n",
      "in while loop\n",
      "deepsort output [[ 875  522 1023  677    3]\n",
      " [ 652  542  799  595    4]\n",
      " [ 649  541  716  587    6]]\n",
      "in while loop\n",
      "deepsort output [[ 882  525 1023  679    3]\n",
      " [ 652  542  800  596    4]]\n",
      "in while loop\n"
     ]
    },
    {
     "name": "stderr",
     "output_type": "stream",
     "text": [
      "0: 480x640 2 cars, 2 traffic lights, 18.0ms\n",
      "Speed: 6.0ms preprocess, 18.0ms inference, 2.0ms postprocess per image at shape (1, 3, 480, 640)\n",
      "\n",
      "0: 480x640 2 cars, 2 traffic lights, 12.0ms\n",
      "Speed: 6.0ms preprocess, 12.0ms inference, 2.0ms postprocess per image at shape (1, 3, 480, 640)\n",
      "\n",
      "0: 480x640 2 cars, 2 traffic lights, 16.0ms\n",
      "Speed: 5.0ms preprocess, 16.0ms inference, 2.0ms postprocess per image at shape (1, 3, 480, 640)\n",
      "\n",
      "0: 480x640 3 cars, 2 traffic lights, 13.0ms\n",
      "Speed: 6.0ms preprocess, 13.0ms inference, 2.0ms postprocess per image at shape (1, 3, 480, 640)\n",
      "\n"
     ]
    },
    {
     "name": "stdout",
     "output_type": "stream",
     "text": [
      "deepsort output [[ 886  526 1023  680    3]\n",
      " [ 652  542  800  596    4]]\n",
      "in while loop\n",
      "deepsort output [[ 898  535 1023  681    3]\n",
      " [ 650  541  802  596    4]]\n",
      "in while loop\n",
      "deepsort output [[ 903  538 1023  682    3]\n",
      " [ 650  541  803  597    4]]\n",
      "in while loop\n",
      "deepsort output [[ 907  539 1023  682    3]\n",
      " [ 650  542  793  594    4]]\n",
      "in while loop\n"
     ]
    },
    {
     "name": "stderr",
     "output_type": "stream",
     "text": [
      "0: 480x640 3 cars, 2 traffic lights, 12.0ms\n",
      "Speed: 5.0ms preprocess, 12.0ms inference, 2.0ms postprocess per image at shape (1, 3, 480, 640)\n",
      "\n",
      "0: 480x640 3 cars, 2 traffic lights, 17.0ms\n",
      "Speed: 4.0ms preprocess, 17.0ms inference, 2.0ms postprocess per image at shape (1, 3, 480, 640)\n",
      "\n",
      "0: 480x640 3 cars, 2 traffic lights, 13.0ms\n",
      "Speed: 5.0ms preprocess, 13.0ms inference, 2.0ms postprocess per image at shape (1, 3, 480, 640)\n",
      "\n"
     ]
    },
    {
     "name": "stdout",
     "output_type": "stream",
     "text": [
      "deepsort output [[ 909  540 1023  682    3]\n",
      " [ 651  542  788  593    4]]\n",
      "in while loop\n",
      "deepsort output [[ 911  540 1023  682    3]\n",
      " [ 651  542  787  593    4]]\n",
      "in while loop\n",
      "deepsort output [[ 912  539 1023  682    3]\n",
      " [ 652  542  787  593    4]]\n",
      "in while loop\n"
     ]
    },
    {
     "name": "stderr",
     "output_type": "stream",
     "text": [
      "0: 480x640 3 cars, 2 traffic lights, 13.0ms\n",
      "Speed: 5.0ms preprocess, 13.0ms inference, 2.0ms postprocess per image at shape (1, 3, 480, 640)\n",
      "\n",
      "0: 480x640 3 cars, 2 traffic lights, 37.0ms\n",
      "Speed: 5.0ms preprocess, 37.0ms inference, 3.0ms postprocess per image at shape (1, 3, 480, 640)\n",
      "\n",
      "0: 480x640 3 cars, 2 traffic lights, 13.0ms\n",
      "Speed: 5.0ms preprocess, 13.0ms inference, 2.0ms postprocess per image at shape (1, 3, 480, 640)\n",
      "\n",
      "0: 480x640 3 cars, 2 traffic lights, 13.0ms\n",
      "Speed: 5.0ms preprocess, 13.0ms inference, 2.0ms postprocess per image at shape (1, 3, 480, 640)\n"
     ]
    },
    {
     "name": "stdout",
     "output_type": "stream",
     "text": [
      "deepsort output [[ 914  539 1023  682    3]\n",
      " [ 652  542  786  593    4]]\n",
      "in while loop\n",
      "deepsort output [[ 915  538 1023  682    3]\n",
      " [ 652  542  786  592    4]]\n",
      "in while loop\n",
      "deepsort output [[ 916  539 1023  681    3]\n",
      " [ 650  542  786  592    4]]\n",
      "in while loop\n",
      "deepsort output [[ 918  539 1023  681    3]\n",
      " [ 650  542  786  592    4]]\n",
      "in while loop\n"
     ]
    },
    {
     "name": "stderr",
     "output_type": "stream",
     "text": [
      "\n",
      "0: 480x640 3 cars, 2 traffic lights, 22.0ms\n",
      "Speed: 7.0ms preprocess, 22.0ms inference, 3.0ms postprocess per image at shape (1, 3, 480, 640)\n",
      "\n",
      "0: 480x640 1 bicycle, 3 cars, 1 motorcycle, 2 traffic lights, 14.0ms\n",
      "Speed: 5.0ms preprocess, 14.0ms inference, 2.0ms postprocess per image at shape (1, 3, 480, 640)\n",
      "\n",
      "0: 480x640 1 bicycle, 3 cars, 1 motorcycle, 2 traffic lights, 14.0ms\n",
      "Speed: 5.0ms preprocess, 14.0ms inference, 2.0ms postprocess per image at shape (1, 3, 480, 640)\n",
      "\n",
      "0: 480x640 1 bicycle, 3 cars, 1 motorcycle, 2 traffic lights, 15.0ms\n",
      "Speed: 6.0ms preprocess, 15.0ms inference, 2.0ms postprocess per image at shape (1, 3, 480, 640)\n",
      "\n"
     ]
    },
    {
     "name": "stdout",
     "output_type": "stream",
     "text": [
      "deepsort output [[ 919  539 1023  681    3]\n",
      " [ 650  541  785  592    4]]\n",
      "in while loop\n",
      "deepsort output [[ 919  538 1023  681    3]\n",
      " [ 652  541  795  594    4]]\n",
      "in while loop\n",
      "deepsort output [[ 920  538 1023  682    3]\n",
      " [ 653  541  799  595    4]]\n",
      "in while loop\n",
      "deepsort output [[ 920  538 1023  682    3]\n",
      " [ 653  540  800  595    4]\n",
      " [ 235  543  306  579    9]]\n",
      "in while loop\n"
     ]
    },
    {
     "name": "stderr",
     "output_type": "stream",
     "text": [
      "0: 480x640 1 person, 2 cars, 1 motorcycle, 2 traffic lights, 14.0ms\n",
      "Speed: 5.0ms preprocess, 14.0ms inference, 2.0ms postprocess per image at shape (1, 3, 480, 640)\n",
      "\n",
      "0: 480x640 1 person, 2 cars, 1 motorcycle, 2 traffic lights, 14.0ms\n",
      "Speed: 5.0ms preprocess, 14.0ms inference, 2.0ms postprocess per image at shape (1, 3, 480, 640)\n",
      "\n",
      "0: 480x640 1 person, 2 cars, 1 motorcycle, 2 traffic lights, 25.0ms\n",
      "Speed: 7.0ms preprocess, 25.0ms inference, 2.0ms postprocess per image at shape (1, 3, 480, 640)\n",
      "\n"
     ]
    },
    {
     "name": "stdout",
     "output_type": "stream",
     "text": [
      "deepsort output [[ 921  538 1023  682    3]\n",
      " [ 653  540  803  596    4]\n",
      " [ 235  543  306  579    9]]\n",
      "in while loop\n",
      "deepsort output [[ 922  538 1023  682    3]\n",
      " [ 653  540  804  597    4]]\n",
      "in while loop\n",
      "deepsort output [[ 922  538 1023  682    3]\n",
      " [ 653  540  805  597    4]]\n",
      "in while loop\n"
     ]
    },
    {
     "name": "stderr",
     "output_type": "stream",
     "text": [
      "0: 480x640 2 persons, 2 cars, 1 motorcycle, 2 traffic lights, 14.0ms\n",
      "Speed: 5.0ms preprocess, 14.0ms inference, 2.0ms postprocess per image at shape (1, 3, 480, 640)\n",
      "\n",
      "0: 480x640 2 persons, 2 cars, 1 motorcycle, 2 traffic lights, 16.0ms\n",
      "Speed: 5.0ms preprocess, 16.0ms inference, 35.0ms postprocess per image at shape (1, 3, 480, 640)\n",
      "\n",
      "0: 480x640 1 person, 1 car, 1 motorcycle, 2 traffic lights, 14.0ms\n",
      "Speed: 6.0ms preprocess, 14.0ms inference, 2.0ms postprocess per image at shape (1, 3, 480, 640)\n",
      "\n"
     ]
    },
    {
     "name": "stdout",
     "output_type": "stream",
     "text": [
      "deepsort output [[ 924  538 1023  682    3]\n",
      " [ 653  540  805  597    4]]\n",
      "in while loop\n",
      "deepsort output [[ 924  538 1023  682    3]\n",
      " [ 653  540  805  597    4]]\n",
      "in while loop\n",
      "deepsort output [[ 925  538 1023  682    3]\n",
      " [ 654  540  804  596    4]]\n",
      "in while loop\n"
     ]
    },
    {
     "name": "stderr",
     "output_type": "stream",
     "text": [
      "0: 480x640 1 person, 1 car, 1 motorcycle, 2 traffic lights, 16.0ms\n",
      "Speed: 5.0ms preprocess, 16.0ms inference, 4.0ms postprocess per image at shape (1, 3, 480, 640)\n",
      "\n",
      "0: 480x640 1 person, 1 car, 1 motorcycle, 2 traffic lights, 14.0ms\n",
      "Speed: 5.0ms preprocess, 14.0ms inference, 2.0ms postprocess per image at shape (1, 3, 480, 640)\n",
      "\n",
      "0: 480x640 1 person, 1 car, 1 motorcycle, 2 traffic lights, 15.0ms\n",
      "Speed: 5.0ms preprocess, 15.0ms inference, 2.0ms postprocess per image at shape (1, 3, 480, 640)\n",
      "\n",
      "0: 480x640 1 person, 1 car, 1 motorcycle, 2 traffic lights, 15.0ms\n",
      "Speed: 5.0ms preprocess, 15.0ms inference, 2.0ms postprocess per image at shape (1, 3, 480, 640)\n"
     ]
    },
    {
     "name": "stdout",
     "output_type": "stream",
     "text": [
      "deepsort output [[654 540 804 596   4]]\n",
      "in while loop\n",
      "deepsort output [[652 540 806 597   4]]\n",
      "in while loop\n",
      "deepsort output [[651 540 807 597   4]]\n",
      "in while loop\n",
      "deepsort output [[651 539 807 598   4]]\n",
      "in while loop\n"
     ]
    },
    {
     "name": "stderr",
     "output_type": "stream",
     "text": [
      "\n",
      "0: 480x640 3 persons, 1 car, 1 motorcycle, 2 traffic lights, 14.0ms\n",
      "Speed: 5.0ms preprocess, 14.0ms inference, 2.0ms postprocess per image at shape (1, 3, 480, 640)\n",
      "\n",
      "0: 480x640 3 persons, 1 car, 1 motorcycle, 2 traffic lights, 15.0ms\n",
      "Speed: 6.0ms preprocess, 15.0ms inference, 2.0ms postprocess per image at shape (1, 3, 480, 640)\n",
      "\n",
      "0: 480x640 1 person, 1 car, 1 motorcycle, 2 traffic lights, 18.0ms\n",
      "Speed: 9.0ms preprocess, 18.0ms inference, 3.0ms postprocess per image at shape (1, 3, 480, 640)\n",
      "\n",
      "0: 480x640 1 person, 1 car, 1 motorcycle, 2 traffic lights, 15.0ms\n"
     ]
    },
    {
     "name": "stdout",
     "output_type": "stream",
     "text": [
      "deepsort output [[653 541 805 598   4]]\n",
      "in while loop\n",
      "deepsort output [[654 541 805 598   4]]\n",
      "in while loop\n",
      "deepsort output [[655 541 806 597   4]]\n",
      "in while loop\n"
     ]
    },
    {
     "name": "stderr",
     "output_type": "stream",
     "text": [
      "Speed: 6.0ms preprocess, 15.0ms inference, 2.0ms postprocess per image at shape (1, 3, 480, 640)\n",
      "\n",
      "0: 480x640 1 person, 1 car, 1 motorcycle, 2 traffic lights, 52.0ms\n",
      "Speed: 5.0ms preprocess, 52.0ms inference, 4.0ms postprocess per image at shape (1, 3, 480, 640)\n",
      "\n",
      "0: 480x640 1 person, 1 car, 1 motorcycle, 2 traffic lights, 14.0ms\n",
      "Speed: 6.0ms preprocess, 14.0ms inference, 2.0ms postprocess per image at shape (1, 3, 480, 640)\n",
      "\n"
     ]
    },
    {
     "name": "stdout",
     "output_type": "stream",
     "text": [
      "deepsort output [[656 541 806 597   4]]\n",
      "in while loop\n",
      "deepsort output [[656 541 806 597   4]]\n",
      "in while loop\n",
      "deepsort output [[657 540 810 597   4]]\n",
      "in while loop\n"
     ]
    },
    {
     "name": "stderr",
     "output_type": "stream",
     "text": [
      "0: 480x640 1 person, 1 car, 1 motorcycle, 2 traffic lights, 14.0ms\n",
      "Speed: 6.0ms preprocess, 14.0ms inference, 3.0ms postprocess per image at shape (1, 3, 480, 640)\n",
      "\n",
      "0: 480x640 1 person, 1 car, 1 motorcycle, 2 traffic lights, 14.0ms\n",
      "Speed: 6.0ms preprocess, 14.0ms inference, 2.0ms postprocess per image at shape (1, 3, 480, 640)\n",
      "\n",
      "0: 480x640 1 person, 1 car, 1 motorcycle, 2 traffic lights, 14.0ms\n",
      "Speed: 5.0ms preprocess, 14.0ms inference, 2.0ms postprocess per image at shape (1, 3, 480, 640)\n",
      "\n",
      "0: 480x640 1 person, 1 car, 1 motorcycle, 2 traffic lights, 18.0ms\n",
      "Speed: 7.0ms preprocess, 18.0ms inference, 2.0ms postprocess per image at shape (1, 3, 480, 640)\n"
     ]
    },
    {
     "name": "stdout",
     "output_type": "stream",
     "text": [
      "deepsort output [[658 540 811 597   4]]\n",
      "in while loop\n",
      "deepsort output [[661 539 814 597   4]]\n",
      "in while loop\n",
      "deepsort output [[662 539 816 597   4]]\n",
      "in while loop\n",
      "deepsort output [[662 539 816 597   4]]\n",
      "in while loop\n"
     ]
    },
    {
     "name": "stderr",
     "output_type": "stream",
     "text": [
      "\n",
      "0: 480x640 1 person, 2 cars, 1 motorcycle, 2 traffic lights, 18.0ms\n",
      "Speed: 6.0ms preprocess, 18.0ms inference, 2.0ms postprocess per image at shape (1, 3, 480, 640)\n",
      "\n",
      "0: 480x640 1 person, 2 cars, 1 motorcycle, 2 traffic lights, 17.0ms\n",
      "Speed: 6.0ms preprocess, 17.0ms inference, 2.0ms postprocess per image at shape (1, 3, 480, 640)\n",
      "\n",
      "0: 480x640 1 car, 1 motorcycle, 2 traffic lights, 13.0ms\n"
     ]
    },
    {
     "name": "stdout",
     "output_type": "stream",
     "text": [
      "deepsort output [[663 539 820 597   4]]\n",
      "in while loop\n",
      "deepsort output [[663 539 821 597   4]]\n",
      "in while loop\n"
     ]
    },
    {
     "name": "stderr",
     "output_type": "stream",
     "text": [
      "Speed: 5.0ms preprocess, 13.0ms inference, 2.0ms postprocess per image at shape (1, 3, 480, 640)\n",
      "\n",
      "0: 480x640 1 car, 1 motorcycle, 2 traffic lights, 15.0ms\n",
      "Speed: 7.0ms preprocess, 15.0ms inference, 2.0ms postprocess per image at shape (1, 3, 480, 640)\n",
      "\n",
      "0: 480x640 1 car, 2 traffic lights, 13.0ms\n",
      "Speed: 5.0ms preprocess, 13.0ms inference, 2.0ms postprocess per image at shape (1, 3, 480, 640)\n",
      "\n",
      "0: 480x640 1 car, 2 traffic lights, 13.0ms\n"
     ]
    },
    {
     "name": "stdout",
     "output_type": "stream",
     "text": [
      "deepsort output [[666 538 826 598   4]]\n",
      "in while loop\n",
      "deepsort output [[667 538 828 598   4]]\n",
      "in while loop\n",
      "deepsort output [[671 537 837 599   4]]\n",
      "in while loop\n"
     ]
    },
    {
     "name": "stderr",
     "output_type": "stream",
     "text": [
      "Speed: 5.0ms preprocess, 13.0ms inference, 2.0ms postprocess per image at shape (1, 3, 480, 640)\n",
      "\n",
      "0: 480x640 2 cars, 2 traffic lights, 12.0ms\n",
      "Speed: 5.0ms preprocess, 12.0ms inference, 2.0ms postprocess per image at shape (1, 3, 480, 640)\n",
      "\n",
      "0: 480x640 2 cars, 2 traffic lights, 13.0ms\n",
      "Speed: 5.0ms preprocess, 13.0ms inference, 2.0ms postprocess per image at shape (1, 3, 480, 640)\n",
      "\n",
      "0: 480x640 2 cars, 2 traffic lights, 13.0ms\n",
      "Speed: 5.0ms preprocess, 13.0ms inference, 2.0ms postprocess per image at shape (1, 3, 480, 640)\n"
     ]
    },
    {
     "name": "stdout",
     "output_type": "stream",
     "text": [
      "deepsort output [[673 537 840 599   4]]\n",
      "in while loop\n",
      "deepsort output [[677 537 851 601   4]]\n",
      "in while loop\n",
      "deepsort output [[679 536 855 601   4]]\n",
      "in while loop\n"
     ]
    },
    {
     "name": "stderr",
     "output_type": "stream",
     "text": [
      "\n",
      "0: 480x640 1 car, 3 traffic lights, 12.0ms\n",
      "Speed: 5.0ms preprocess, 12.0ms inference, 2.0ms postprocess per image at shape (1, 3, 480, 640)\n",
      "\n",
      "0: 480x640 1 car, 3 traffic lights, 14.0ms\n",
      "Speed: 5.0ms preprocess, 14.0ms inference, 3.0ms postprocess per image at shape (1, 3, 480, 640)\n",
      "\n"
     ]
    },
    {
     "name": "stdout",
     "output_type": "stream",
     "text": [
      "deepsort output [[679 536 856 602   4]]\n",
      "in while loop\n",
      "deepsort output [[684 536 861 602   4]]\n",
      "in while loop\n",
      "deepsort output [[685 536 863 602   4]]\n",
      "in while loop\n"
     ]
    },
    {
     "name": "stderr",
     "output_type": "stream",
     "text": [
      "0: 480x640 1 car, 3 traffic lights, 41.0ms\n",
      "Speed: 5.0ms preprocess, 41.0ms inference, 2.0ms postprocess per image at shape (1, 3, 480, 640)\n",
      "\n",
      "0: 480x640 2 cars, 2 traffic lights, 1 kite, 13.0ms\n",
      "Speed: 6.0ms preprocess, 13.0ms inference, 2.0ms postprocess per image at shape (1, 3, 480, 640)\n",
      "\n",
      "0: 480x640 2 cars, 2 traffic lights, 1 kite, 13.0ms\n",
      "Speed: 5.0ms preprocess, 13.0ms inference, 2.0ms postprocess per image at shape (1, 3, 480, 640)\n",
      "\n",
      "0: 480x640 1 car, 13.0ms\n",
      "Speed: 5.0ms preprocess, 13.0ms inference, 1.0ms postprocess per image at shape (1, 3, 480, 640)\n"
     ]
    },
    {
     "name": "stdout",
     "output_type": "stream",
     "text": [
      "deepsort output [[685 536 864 602   4]]\n",
      "in while loop\n",
      "deepsort output [[694 536 880 603   4]\n",
      " [690 535 834 602   8]]\n",
      "in while loop\n",
      "deepsort output [[698 536 886 603   4]\n",
      " [692 534 834 603   8]]\n",
      "in while loop\n"
     ]
    },
    {
     "name": "stderr",
     "output_type": "stream",
     "text": [
      "\n",
      "0: 480x640 1 car, 12.0ms\n",
      "Speed: 6.0ms preprocess, 12.0ms inference, 2.0ms postprocess per image at shape (1, 3, 480, 640)\n",
      "\n",
      "0: 480x640 1 car, 36.0ms\n",
      "Speed: 6.0ms preprocess, 36.0ms inference, 3.0ms postprocess per image at shape (1, 3, 480, 640)\n",
      "\n"
     ]
    },
    {
     "name": "stdout",
     "output_type": "stream",
     "text": [
      "deepsort output [[690 535 880 604   4]\n",
      " [693 534 836 603   8]]\n",
      "in while loop\n",
      "deepsort output [[692 535 883 605   4]\n",
      " [702 534 851 604   8]]\n",
      "in while loop\n",
      "deepsort output [[703 534 855 605   8]]\n",
      "in while loop\n"
     ]
    },
    {
     "name": "stderr",
     "output_type": "stream",
     "text": [
      "0: 480x640 1 car, 1 kite, 13.0ms\n",
      "Speed: 5.0ms preprocess, 13.0ms inference, 2.0ms postprocess per image at shape (1, 3, 480, 640)\n",
      "\n",
      "0: 480x640 1 car, 1 kite, 13.0ms\n",
      "Speed: 5.0ms preprocess, 13.0ms inference, 2.0ms postprocess per image at shape (1, 3, 480, 640)\n",
      "\n",
      "0: 480x640 1 car, 1 kite, 15.0ms\n",
      "Speed: 7.0ms preprocess, 15.0ms inference, 2.0ms postprocess per image at shape (1, 3, 480, 640)\n",
      "\n",
      "0: 480x640 1 car, 13.0ms\n",
      "Speed: 5.0ms preprocess, 13.0ms inference, 1.0ms postprocess per image at shape (1, 3, 480, 640)\n",
      "\n"
     ]
    },
    {
     "name": "stdout",
     "output_type": "stream",
     "text": [
      "deepsort output [[714 532 878 606   8]]\n",
      "in while loop\n",
      "deepsort output [[718 531 887 606   8]]\n",
      "in while loop\n",
      "deepsort output [[719 530 891 607   8]]\n",
      "in while loop\n",
      "deepsort output [[720 530 938 609   4]\n",
      " [722 530 896 607   8]]\n",
      "in while loop\n"
     ]
    },
    {
     "name": "stderr",
     "output_type": "stream",
     "text": [
      "0: 480x640 1 car, 12.0ms\n",
      "Speed: 5.0ms preprocess, 12.0ms inference, 2.0ms postprocess per image at shape (1, 3, 480, 640)\n",
      "\n",
      "0: 480x640 1 car, 39.8ms\n",
      "Speed: 5.0ms preprocess, 39.8ms inference, 3.0ms postprocess per image at shape (1, 3, 480, 640)\n",
      "\n",
      "0: 480x640 1 car, 13.0ms\n",
      "Speed: 5.0ms preprocess, 13.0ms inference, 2.0ms postprocess per image at shape (1, 3, 480, 640)\n",
      "\n",
      "0: 480x640 1 car, 13.0ms\n"
     ]
    },
    {
     "name": "stdout",
     "output_type": "stream",
     "text": [
      "deepsort output [[722 529 943 610   4]]\n",
      "in while loop\n",
      "deepsort output [[722 529 945 610   4]]\n",
      "in while loop\n",
      "deepsort output [[734 529 975 615   4]]\n",
      "in while loop\n"
     ]
    },
    {
     "name": "stderr",
     "output_type": "stream",
     "text": [
      "Speed: 5.0ms preprocess, 13.0ms inference, 2.0ms postprocess per image at shape (1, 3, 480, 640)\n",
      "\n",
      "0: 480x640 1 car, 15.0ms\n",
      "Speed: 6.0ms preprocess, 15.0ms inference, 4.0ms postprocess per image at shape (1, 3, 480, 640)\n",
      "\n",
      "0: 480x640 1 car, 1 traffic light, 12.0ms\n",
      "Speed: 5.0ms preprocess, 12.0ms inference, 2.0ms postprocess per image at shape (1, 3, 480, 640)\n",
      "\n",
      "0: 480x640 1 car, 1 traffic light, 13.0ms\n",
      "Speed: 6.0ms preprocess, 13.0ms inference, 2.0ms postprocess per image at shape (1, 3, 480, 640)\n",
      "\n"
     ]
    },
    {
     "name": "stdout",
     "output_type": "stream",
     "text": [
      "deepsort output [[738 528 987 617   4]]\n",
      "in while loop\n",
      "deepsort output [[739 528 992 618   4]]\n",
      "in while loop\n",
      "deepsort output [[ 746  527 1011  621    4]]\n",
      "in while loop\n",
      "deepsort output [[ 749  526 1019  622    4]]\n",
      "in while loop\n"
     ]
    },
    {
     "name": "stderr",
     "output_type": "stream",
     "text": [
      "0: 480x640 1 car, 1 traffic light, 39.0ms\n",
      "Speed: 5.0ms preprocess, 39.0ms inference, 3.0ms postprocess per image at shape (1, 3, 480, 640)\n",
      "\n",
      "0: 480x640 1 car, 1 traffic light, 15.0ms\n",
      "Speed: 5.0ms preprocess, 15.0ms inference, 3.0ms postprocess per image at shape (1, 3, 480, 640)\n",
      "\n",
      "0: 480x640 1 car, 1 traffic light, 14.0ms\n",
      "Speed: 5.0ms preprocess, 14.0ms inference, 2.0ms postprocess per image at shape (1, 3, 480, 640)\n",
      "\n",
      "0: 480x640 1 car, 1 traffic light, 13.0ms\n",
      "Speed: 5.0ms preprocess, 13.0ms inference, 2.0ms postprocess per image at shape (1, 3, 480, 640)\n"
     ]
    },
    {
     "name": "stdout",
     "output_type": "stream",
     "text": [
      "deepsort output [[ 749  526 1022  622    4]]\n",
      "in while loop\n",
      "deepsort output [[ 750  526 1023  623    4]]\n",
      "in while loop\n",
      "deepsort output [[ 750  525 1023  624    4]]\n",
      "in while loop\n",
      "deepsort output [[ 750  525 1023  624    4]]\n",
      "in while loop\n"
     ]
    },
    {
     "name": "stderr",
     "output_type": "stream",
     "text": [
      "\n",
      "0: 480x640 1 car, 1 traffic light, 13.4ms\n",
      "Speed: 5.0ms preprocess, 13.4ms inference, 2.0ms postprocess per image at shape (1, 3, 480, 640)\n",
      "\n",
      "0: 480x640 1 car, 1 traffic light, 14.0ms\n",
      "Speed: 6.0ms preprocess, 14.0ms inference, 2.0ms postprocess per image at shape (1, 3, 480, 640)\n",
      "\n",
      "0: 480x640 1 car, 1 traffic light, 14.0ms\n",
      "Speed: 6.0ms preprocess, 14.0ms inference, 2.0ms postprocess per image at shape (1, 3, 480, 640)\n",
      "\n"
     ]
    },
    {
     "name": "stdout",
     "output_type": "stream",
     "text": [
      "deepsort output [[ 749  523 1023  624    4]]\n",
      "in while loop\n",
      "deepsort output [[ 749  523 1023  624    4]]\n",
      "in while loop\n",
      "deepsort output [[ 749  522 1023  625    4]]\n",
      "in while loop\n"
     ]
    },
    {
     "name": "stderr",
     "output_type": "stream",
     "text": [
      "0: 480x640 1 car, 1 traffic light, 14.0ms\n",
      "Speed: 5.0ms preprocess, 14.0ms inference, 2.0ms postprocess per image at shape (1, 3, 480, 640)\n",
      "\n",
      "0: 480x640 1 car, 14.0ms\n",
      "Speed: 6.0ms preprocess, 14.0ms inference, 2.0ms postprocess per image at shape (1, 3, 480, 640)\n",
      "\n",
      "0: 480x640 1 car, 13.0ms\n",
      "Speed: 6.0ms preprocess, 13.0ms inference, 2.0ms postprocess per image at shape (1, 3, 480, 640)\n",
      "\n",
      "0: 480x640 1 car, 14.0ms\n",
      "Speed: 5.0ms preprocess, 14.0ms inference, 3.0ms postprocess per image at shape (1, 3, 480, 640)\n",
      "\n"
     ]
    },
    {
     "name": "stdout",
     "output_type": "stream",
     "text": [
      "deepsort output [[ 750  521 1023  626    4]]\n",
      "in while loop\n",
      "deepsort output [[ 752  521 1023  627    4]\n",
      " [ 767  520 1019  630    8]]\n",
      "in while loop\n",
      "deepsort output [[ 767  519 1022  631    8]]\n",
      "in while loop\n",
      "deepsort output [[ 767  519 1023  631    8]]\n",
      "in while loop\n"
     ]
    },
    {
     "name": "stderr",
     "output_type": "stream",
     "text": [
      "0: 480x640 1 car, 21.0ms\n",
      "Speed: 9.0ms preprocess, 21.0ms inference, 4.0ms postprocess per image at shape (1, 3, 480, 640)\n",
      "\n",
      "0: 480x640 1 car, 1 traffic light, 17.0ms\n",
      "Speed: 5.0ms preprocess, 17.0ms inference, 4.0ms postprocess per image at shape (1, 3, 480, 640)\n",
      "\n",
      "0: 480x640 1 car, 1 traffic light, 14.0ms\n",
      "Speed: 5.0ms preprocess, 14.0ms inference, 2.0ms postprocess per image at shape (1, 3, 480, 640)\n",
      "\n",
      "0: 480x640 1 car, 1 traffic light, 20.0ms\n",
      "Speed: 7.0ms preprocess, 20.0ms inference, 2.0ms postprocess per image at shape (1, 3, 480, 640)\n",
      "\n"
     ]
    },
    {
     "name": "stdout",
     "output_type": "stream",
     "text": [
      "deepsort output [[ 767  519 1023  631    8]]\n",
      "in while loop\n",
      "deepsort output [[ 765  518 1023  634    8]]\n",
      "in while loop\n",
      "deepsort output [[ 764  517 1023  636    8]]\n",
      "in while loop\n",
      "deepsort output [[ 765  517 1023  636    8]]\n",
      "in while loop\n"
     ]
    },
    {
     "name": "stderr",
     "output_type": "stream",
     "text": [
      "0: 480x640 1 car, 1 traffic light, 1 kite, 14.0ms\n",
      "Speed: 5.0ms preprocess, 14.0ms inference, 2.0ms postprocess per image at shape (1, 3, 480, 640)\n",
      "\n",
      "0: 480x640 1 car, 1 traffic light, 1 kite, 14.0ms\n",
      "Speed: 5.0ms preprocess, 14.0ms inference, 2.0ms postprocess per image at shape (1, 3, 480, 640)\n",
      "\n",
      "0: 480x640 1 car, 13.0ms\n",
      "Speed: 5.0ms preprocess, 13.0ms inference, 2.0ms postprocess per image at shape (1, 3, 480, 640)\n",
      "\n"
     ]
    },
    {
     "name": "stdout",
     "output_type": "stream",
     "text": [
      "deepsort output [[ 765  517 1023  639    8]]\n",
      "in while loop\n",
      "deepsort output [[ 766  516 1023  640    8]]\n",
      "in while loop\n",
      "deepsort output [[ 764  514 1023  645    8]]\n",
      "in while loop\n"
     ]
    },
    {
     "name": "stderr",
     "output_type": "stream",
     "text": [
      "0: 480x640 1 car, 19.0ms\n",
      "Speed: 6.0ms preprocess, 19.0ms inference, 2.0ms postprocess per image at shape (1, 3, 480, 640)\n",
      "\n",
      "0: 480x640 1 car, 1 kite, 29.0ms\n",
      "Speed: 8.0ms preprocess, 29.0ms inference, 3.0ms postprocess per image at shape (1, 3, 480, 640)\n",
      "\n",
      "0: 480x640 1 car, 1 kite, 18.0ms\n",
      "Speed: 8.0ms preprocess, 18.0ms inference, 2.0ms postprocess per image at shape (1, 3, 480, 640)\n",
      "\n"
     ]
    },
    {
     "name": "stdout",
     "output_type": "stream",
     "text": [
      "deepsort output [[ 764  513 1023  647    8]]\n",
      "in while loop\n",
      "deepsort output [[ 762  509 1023  655    8]]\n",
      "in while loop\n",
      "deepsort output [[ 763  508 1023  658    8]]\n",
      "in while loop\n"
     ]
    },
    {
     "name": "stderr",
     "output_type": "stream",
     "text": [
      "0: 480x640 1 car, 13.0ms\n",
      "Speed: 6.0ms preprocess, 13.0ms inference, 2.0ms postprocess per image at shape (1, 3, 480, 640)\n",
      "\n",
      "0: 480x640 1 car, 13.0ms\n",
      "Speed: 7.0ms preprocess, 13.0ms inference, 2.0ms postprocess per image at shape (1, 3, 480, 640)\n",
      "\n",
      "0: 480x640 1 car, 13.0ms\n",
      "Speed: 5.0ms preprocess, 13.0ms inference, 2.0ms postprocess per image at shape (1, 3, 480, 640)\n",
      "\n",
      "0: 480x640 1 car, 14.0ms\n"
     ]
    },
    {
     "name": "stdout",
     "output_type": "stream",
     "text": [
      "deepsort output [[ 766  503 1023  664    8]]\n",
      "in while loop\n",
      "deepsort output [[ 771  501 1023  666    8]]\n",
      "in while loop\n",
      "deepsort output [[ 775  500 1023  667    8]]\n",
      "in while loop\n"
     ]
    },
    {
     "name": "stderr",
     "output_type": "stream",
     "text": [
      "Speed: 5.0ms preprocess, 14.0ms inference, 2.0ms postprocess per image at shape (1, 3, 480, 640)\n",
      "\n",
      "0: 480x640 1 car, 13.0ms\n",
      "Speed: 5.0ms preprocess, 13.0ms inference, 2.0ms postprocess per image at shape (1, 3, 480, 640)\n",
      "\n",
      "0: 480x640 1 car, 43.0ms\n",
      "Speed: 6.0ms preprocess, 43.0ms inference, 2.0ms postprocess per image at shape (1, 3, 480, 640)\n",
      "\n",
      "0: 480x640 1 car, 1 kite, 12.0ms\n",
      "Speed: 5.0ms preprocess, 12.0ms inference, 2.0ms postprocess per image at shape (1, 3, 480, 640)\n"
     ]
    },
    {
     "name": "stdout",
     "output_type": "stream",
     "text": [
      "deepsort output [[ 867  498 1008  669    3]\n",
      " [ 775  499 1023  669    8]]\n",
      "in while loop\n",
      "deepsort output [[ 862  497 1013  668    3]]\n",
      "in while loop\n",
      "deepsort output [[ 859  497 1015  668    3]]\n",
      "in while loop\n",
      "deepsort output [[ 878  496 1023  664    3]]\n",
      "in while loop\n"
     ]
    },
    {
     "name": "stderr",
     "output_type": "stream",
     "text": [
      "\n",
      "0: 480x640 1 car, 1 kite, 14.0ms\n",
      "Speed: 5.0ms preprocess, 14.0ms inference, 2.0ms postprocess per image at shape (1, 3, 480, 640)\n",
      "\n",
      "0: 480x640 1 car, 1 kite, 14.0ms\n",
      "Speed: 7.0ms preprocess, 14.0ms inference, 2.0ms postprocess per image at shape (1, 3, 480, 640)\n",
      "\n",
      "0: 480x640 1 kite, 13.0ms\n",
      "Speed: 5.0ms preprocess, 13.0ms inference, 2.0ms postprocess per image at shape (1, 3, 480, 640)\n",
      "\n",
      "0: 480x640 1 kite, 13.0ms\n",
      "Speed: 5.0ms preprocess, 13.0ms inference, 2.0ms postprocess per image at shape (1, 3, 480, 640)\n",
      "\n"
     ]
    },
    {
     "name": "stdout",
     "output_type": "stream",
     "text": [
      "deepsort output [[ 886  496 1023  662    3]]\n",
      "in while loop\n",
      "deepsort output [[ 889  496 1023  661    3]]\n",
      "in while loop\n",
      "deepsort output [[ 891  496 1023  660    3]]\n",
      "in while loop\n",
      "deepsort output []\n",
      "in while loop\n"
     ]
    },
    {
     "name": "stderr",
     "output_type": "stream",
     "text": [
      "0: 480x640 1 kite, 46.0ms\n",
      "Speed: 5.0ms preprocess, 46.0ms inference, 2.0ms postprocess per image at shape (1, 3, 480, 640)\n",
      "\n",
      "0: 480x640 1 kite, 14.0ms\n",
      "Speed: 5.0ms preprocess, 14.0ms inference, 3.0ms postprocess per image at shape (1, 3, 480, 640)\n",
      "\n",
      "0: 480x640 1 kite, 14.0ms\n",
      "Speed: 5.0ms preprocess, 14.0ms inference, 2.0ms postprocess per image at shape (1, 3, 480, 640)\n",
      "\n",
      "0: 480x640 1 kite, 37.0ms\n",
      "Speed: 7.0ms preprocess, 37.0ms inference, 2.0ms postprocess per image at shape (1, 3, 480, 640)\n"
     ]
    },
    {
     "name": "stdout",
     "output_type": "stream",
     "text": [
      "deepsort output []\n",
      "in while loop\n",
      "deepsort output []\n",
      "in while loop\n",
      "deepsort output []\n",
      "in while loop\n",
      "deepsort output []\n",
      "in while loop\n"
     ]
    },
    {
     "name": "stderr",
     "output_type": "stream",
     "text": [
      "\n",
      "0: 480x640 1 kite, 14.0ms\n",
      "Speed: 5.0ms preprocess, 14.0ms inference, 2.0ms postprocess per image at shape (1, 3, 480, 640)\n",
      "\n",
      "0: 480x640 1 kite, 13.0ms\n",
      "Speed: 5.0ms preprocess, 13.0ms inference, 2.0ms postprocess per image at shape (1, 3, 480, 640)\n",
      "\n",
      "0: 480x640 1 kite, 27.0ms\n",
      "Speed: 6.0ms preprocess, 27.0ms inference, 2.0ms postprocess per image at shape (1, 3, 480, 640)\n",
      "\n",
      "0: 480x640 1 airplane, 13.0ms\n",
      "Speed: 5.0ms preprocess, 13.0ms inference, 2.0ms postprocess per image at shape (1, 3, 480, 640)\n",
      "\n"
     ]
    },
    {
     "name": "stdout",
     "output_type": "stream",
     "text": [
      "deepsort output []\n",
      "in while loop\n",
      "deepsort output []\n",
      "in while loop\n",
      "deepsort output []\n",
      "in while loop\n",
      "deepsort output []\n",
      "in while loop\n"
     ]
    },
    {
     "name": "stderr",
     "output_type": "stream",
     "text": [
      "0: 480x640 1 airplane, 13.0ms\n",
      "Speed: 5.0ms preprocess, 13.0ms inference, 2.0ms postprocess per image at shape (1, 3, 480, 640)\n",
      "\n",
      "0: 480x640 1 airplane, 41.0ms\n",
      "Speed: 5.0ms preprocess, 41.0ms inference, 2.0ms postprocess per image at shape (1, 3, 480, 640)\n",
      "\n",
      "0: 480x640 2 cars, 2 traffic lights, 1 kite, 13.0ms\n",
      "Speed: 5.0ms preprocess, 13.0ms inference, 2.0ms postprocess per image at shape (1, 3, 480, 640)\n",
      "\n"
     ]
    },
    {
     "name": "stdout",
     "output_type": "stream",
     "text": [
      "deepsort output []\n",
      "in while loop\n",
      "deepsort output []\n",
      "in while loop\n",
      "deepsort output []\n",
      "in while loop\n"
     ]
    },
    {
     "name": "stderr",
     "output_type": "stream",
     "text": [
      "0: 480x640 2 cars, 2 traffic lights, 1 kite, 12.0ms\n",
      "Speed: 5.0ms preprocess, 12.0ms inference, 1.0ms postprocess per image at shape (1, 3, 480, 640)\n",
      "\n",
      "0: 480x640 2 cars, 2 traffic lights, 1 kite, 13.0ms\n",
      "Speed: 7.0ms preprocess, 13.0ms inference, 3.0ms postprocess per image at shape (1, 3, 480, 640)\n",
      "\n",
      "0: 480x640 1 car, 1 airplane, 1 traffic light, 1 kite, 15.0ms\n",
      "Speed: 5.0ms preprocess, 15.0ms inference, 2.0ms postprocess per image at shape (1, 3, 480, 640)\n",
      "\n",
      "0: 480x640 1 car, 1 airplane, 1 traffic light, 1 kite, 13.0ms\n",
      "Speed: 5.0ms preprocess, 13.0ms inference, 2.0ms postprocess per image at shape (1, 3, 480, 640)\n"
     ]
    },
    {
     "name": "stdout",
     "output_type": "stream",
     "text": [
      "deepsort output []\n",
      "in while loop\n",
      "deepsort output [[773 551 858 589  10]]\n",
      "in while loop\n",
      "deepsort output [[771 551 851 587  10]]\n",
      "in while loop\n",
      "deepsort output [[771 552 848 586  10]]\n",
      "in while loop\n"
     ]
    },
    {
     "name": "stderr",
     "output_type": "stream",
     "text": [
      "\n",
      "0: 480x640 1 car, 1 airplane, 1 traffic light, 1 kite, 20.0ms\n",
      "Speed: 7.0ms preprocess, 20.0ms inference, 3.0ms postprocess per image at shape (1, 3, 480, 640)\n",
      "\n",
      "0: 480x640 1 car, 1 airplane, 2 traffic lights, 14.0ms\n",
      "Speed: 5.0ms preprocess, 14.0ms inference, 2.0ms postprocess per image at shape (1, 3, 480, 640)\n",
      "\n",
      "0: 480x640 1 car, 1 airplane, 2 traffic lights, 14.0ms\n",
      "Speed: 5.0ms preprocess, 14.0ms inference, 2.0ms postprocess per image at shape (1, 3, 480, 640)\n",
      "\n",
      "0: 480x640 1 car, 2 traffic lights, 1 kite, 13.0ms\n",
      "Speed: 5.0ms preprocess, 13.0ms inference, 3.0ms postprocess per image at shape (1, 3, 480, 640)\n"
     ]
    },
    {
     "name": "stdout",
     "output_type": "stream",
     "text": [
      "deepsort output [[771 552 847 586  10]]\n",
      "in while loop\n",
      "deepsort output [[765 550 847 588  10]]\n",
      "in while loop\n",
      "deepsort output [[763 550 847 588  10]]\n",
      "in while loop\n",
      "deepsort output [[755 549 842 588  10]]\n"
     ]
    },
    {
     "name": "stderr",
     "output_type": "stream",
     "text": [
      "\n",
      "0: 480x640 1 car, 2 traffic lights, 1 kite, 13.0ms\n",
      "Speed: 5.0ms preprocess, 13.0ms inference, 2.0ms postprocess per image at shape (1, 3, 480, 640)\n",
      "\n",
      "0: 480x640 1 car, 2 traffic lights, 1 kite, 13.0ms\n",
      "Speed: 5.0ms preprocess, 13.0ms inference, 2.0ms postprocess per image at shape (1, 3, 480, 640)\n",
      "\n",
      "0: 480x640 1 car, 2 traffic lights, 1 kite, 15.0ms\n",
      "Speed: 8.0ms preprocess, 15.0ms inference, 2.0ms postprocess per image at shape (1, 3, 480, 640)\n",
      "\n"
     ]
    },
    {
     "name": "stdout",
     "output_type": "stream",
     "text": [
      "in while loop\n",
      "deepsort output [[753 549 840 589  10]]\n",
      "in while loop\n",
      "deepsort output [[752 548 839 589  10]]\n",
      "in while loop\n",
      "deepsort output [[752 548 839 589  10]]\n",
      "in while loop\n"
     ]
    },
    {
     "name": "stderr",
     "output_type": "stream",
     "text": [
      "0: 480x640 1 car, 1 kite, 14.0ms\n",
      "Speed: 5.0ms preprocess, 14.0ms inference, 2.0ms postprocess per image at shape (1, 3, 480, 640)\n",
      "\n",
      "0: 480x640 1 car, 1 kite, 13.0ms\n",
      "Speed: 5.0ms preprocess, 13.0ms inference, 2.0ms postprocess per image at shape (1, 3, 480, 640)\n",
      "\n",
      "0: 480x640 1 car, 1 kite, 13.0ms\n",
      "Speed: 6.0ms preprocess, 13.0ms inference, 3.0ms postprocess per image at shape (1, 3, 480, 640)\n",
      "\n",
      "0: 480x640 1 car, 13.0ms\n",
      "Speed: 5.0ms preprocess, 13.0ms inference, 2.0ms postprocess per image at shape (1, 3, 480, 640)\n",
      "\n"
     ]
    },
    {
     "name": "stdout",
     "output_type": "stream",
     "text": [
      "deepsort output [[744 549 831 589  10]]\n",
      "in while loop\n",
      "deepsort output [[741 549 829 589  10]]\n",
      "in while loop\n",
      "deepsort output [[740 549 828 590  10]]\n",
      "in while loop\n",
      "deepsort output [[716 547 831 591   4]\n",
      " [738 549 826 590  10]]\n",
      "in while loop\n"
     ]
    },
    {
     "name": "stderr",
     "output_type": "stream",
     "text": [
      "0: 480x640 1 car, 15.0ms\n",
      "Speed: 5.0ms preprocess, 15.0ms inference, 2.0ms postprocess per image at shape (1, 3, 480, 640)\n",
      "\n",
      "0: 480x640 1 car, 1 traffic light, 14.0ms\n",
      "Speed: 5.0ms preprocess, 14.0ms inference, 2.0ms postprocess per image at shape (1, 3, 480, 640)\n",
      "\n",
      "0: 480x640 1 car, 1 traffic light, 14.0ms\n",
      "Speed: 5.0ms preprocess, 14.0ms inference, 2.0ms postprocess per image at shape (1, 3, 480, 640)\n",
      "\n",
      "0: 480x640 1 car, 1 traffic light, 19.0ms\n",
      "Speed: 10.0ms preprocess, 19.0ms inference, 2.0ms postprocess per image at shape (1, 3, 480, 640)\n"
     ]
    },
    {
     "name": "stdout",
     "output_type": "stream",
     "text": [
      "deepsort output [[716 548 829 590   4]]\n",
      "in while loop\n",
      "deepsort output [[699 548 815 591   4]]\n",
      "in while loop\n",
      "deepsort output [[694 548 812 591   4]]\n",
      "in while loop\n",
      "deepsort output [[693 548 813 592   4]]\n",
      "in while loop\n"
     ]
    },
    {
     "name": "stderr",
     "output_type": "stream",
     "text": [
      "\n",
      "0: 480x640 2 cars, 1 kite, 14.0ms\n",
      "Speed: 5.0ms preprocess, 14.0ms inference, 2.0ms postprocess per image at shape (1, 3, 480, 640)\n",
      "\n",
      "0: 480x640 2 cars, 1 kite, 17.0ms\n",
      "Speed: 6.0ms preprocess, 17.0ms inference, 3.0ms postprocess per image at shape (1, 3, 480, 640)\n",
      "\n",
      "0: 480x640 2 cars, 1 kite, 24.0ms\n",
      "Speed: 8.0ms preprocess, 24.0ms inference, 2.0ms postprocess per image at shape (1, 3, 480, 640)\n",
      "\n",
      "0: 480x640 2 cars, 1 traffic light, 14.0ms\n",
      "Speed: 5.0ms preprocess, 14.0ms inference, 2.0ms postprocess per image at shape (1, 3, 480, 640)\n"
     ]
    },
    {
     "name": "stdout",
     "output_type": "stream",
     "text": [
      "deepsort output [[671 547 795 592   4]\n",
      " [665 547 749 593   8]]\n",
      "in while loop\n",
      "deepsort output [[663 547 790 593   4]\n",
      " [664 548 747 592   8]]\n",
      "in while loop\n",
      "deepsort output [[661 546 788 593   4]\n",
      " [663 548 746 592   8]]\n",
      "in while loop\n",
      "deepsort output [[642 546 772 593   4]\n",
      " [638 547 722 592   8]]\n",
      "in while loop\n"
     ]
    },
    {
     "name": "stderr",
     "output_type": "stream",
     "text": [
      "\n",
      "0: 480x640 2 cars, 1 traffic light, 14.0ms\n",
      "Speed: 5.0ms preprocess, 14.0ms inference, 2.0ms postprocess per image at shape (1, 3, 480, 640)\n",
      "\n",
      "0: 480x640 2 cars, 17.0ms\n",
      "Speed: 5.0ms preprocess, 17.0ms inference, 3.0ms postprocess per image at shape (1, 3, 480, 640)\n",
      "\n",
      "0: 480x640 2 cars, 38.0ms\n",
      "Speed: 9.0ms preprocess, 38.0ms inference, 2.0ms postprocess per image at shape (1, 3, 480, 640)\n",
      "\n"
     ]
    },
    {
     "name": "stdout",
     "output_type": "stream",
     "text": [
      "deepsort output [[635 546 767 594   4]\n",
      " [631 547 716 592   8]]\n",
      "in while loop\n",
      "deepsort output [[616 546 750 594   4]\n",
      " [609 546 695 592   8]]\n",
      "in while loop\n",
      "deepsort output [[609 546 744 594   4]\n",
      " [603 546 689 592   8]]\n",
      "in while loop\n"
     ]
    },
    {
     "name": "stderr",
     "output_type": "stream",
     "text": [
      "0: 480x640 1 car, 1 traffic light, 12.0ms\n",
      "Speed: 5.0ms preprocess, 12.0ms inference, 3.0ms postprocess per image at shape (1, 3, 480, 640)\n",
      "\n",
      "0: 480x640 1 car, 1 traffic light, 34.0ms\n",
      "Speed: 5.0ms preprocess, 34.0ms inference, 4.0ms postprocess per image at shape (1, 3, 480, 640)\n",
      "\n",
      "0: 480x640 1 car, 1 traffic light, 12.0ms\n",
      "Speed: 5.0ms preprocess, 12.0ms inference, 2.0ms postprocess per image at shape (1, 3, 480, 640)\n",
      "\n"
     ]
    },
    {
     "name": "stdout",
     "output_type": "stream",
     "text": [
      "deepsort output [[594 545 733 594   4]\n",
      " [591 546 677 592   8]]\n",
      "in while loop\n",
      "deepsort output [[587 545 730 594   4]]\n",
      "in while loop\n",
      "deepsort output [[573 543 726 596   4]]\n",
      "in while loop\n"
     ]
    },
    {
     "name": "stderr",
     "output_type": "stream",
     "text": [
      "0: 480x640 1 car, 1 traffic light, 12.0ms\n",
      "Speed: 5.0ms preprocess, 12.0ms inference, 2.0ms postprocess per image at shape (1, 3, 480, 640)\n",
      "\n",
      "0: 480x640 1 car, 1 traffic light, 15.0ms\n",
      "Speed: 6.0ms preprocess, 15.0ms inference, 4.0ms postprocess per image at shape (1, 3, 480, 640)\n",
      "\n",
      "0: 480x640 1 car, 1 traffic light, 12.0ms\n",
      "Speed: 5.0ms preprocess, 12.0ms inference, 2.0ms postprocess per image at shape (1, 3, 480, 640)\n",
      "\n",
      "0: 480x640 1 car, 1 traffic light, 13.0ms\n",
      "Speed: 5.0ms preprocess, 13.0ms inference, 1.0ms postprocess per image at shape (1, 3, 480, 640)\n",
      "\n"
     ]
    },
    {
     "name": "stdout",
     "output_type": "stream",
     "text": [
      "deepsort output [[568 543 725 596   4]]\n",
      "in while loop\n",
      "deepsort output [[566 542 725 597   4]]\n",
      "in while loop\n",
      "deepsort output [[559 542 724 598   4]]\n",
      "in while loop\n",
      "deepsort output [[556 541 724 598   4]]\n",
      "in while loop\n"
     ]
    },
    {
     "name": "stderr",
     "output_type": "stream",
     "text": [
      "0: 480x640 1 car, 1 traffic light, 34.0ms\n",
      "Speed: 6.0ms preprocess, 34.0ms inference, 1.0ms postprocess per image at shape (1, 3, 480, 640)\n",
      "\n",
      "0: 480x640 1 car, 13.0ms\n",
      "Speed: 5.0ms preprocess, 13.0ms inference, 2.0ms postprocess per image at shape (1, 3, 480, 640)\n",
      "\n",
      "0: 480x640 1 car, 13.0ms\n",
      "Speed: 5.0ms preprocess, 13.0ms inference, 1.0ms postprocess per image at shape (1, 3, 480, 640)\n",
      "\n",
      "0: 480x640 1 car, 32.0ms\n",
      "Speed: 6.0ms preprocess, 32.0ms inference, 2.0ms postprocess per image at shape (1, 3, 480, 640)\n"
     ]
    },
    {
     "name": "stdout",
     "output_type": "stream",
     "text": [
      "deepsort output [[555 541 724 599   4]]\n",
      "in while loop\n",
      "deepsort output [[555 543 724 599   4]]\n",
      "in while loop\n",
      "deepsort output [[555 543 724 600   4]]\n",
      "in while loop\n",
      "deepsort output [[555 543 725 600   4]]\n",
      "in while loop\n"
     ]
    },
    {
     "name": "stderr",
     "output_type": "stream",
     "text": [
      "\n",
      "0: 480x640 1 car, 1 traffic light, 12.0ms\n",
      "Speed: 5.0ms preprocess, 12.0ms inference, 2.0ms postprocess per image at shape (1, 3, 480, 640)\n",
      "\n",
      "0: 480x640 1 car, 1 traffic light, 13.0ms\n",
      "Speed: 5.0ms preprocess, 13.0ms inference, 2.0ms postprocess per image at shape (1, 3, 480, 640)\n",
      "\n",
      "0: 480x640 1 car, 1 traffic light, 27.0ms\n",
      "Speed: 6.0ms preprocess, 27.0ms inference, 2.0ms postprocess per image at shape (1, 3, 480, 640)\n",
      "\n",
      "0: 480x640 1 car, 1 traffic light, 17.0ms\n",
      "Speed: 5.0ms preprocess, 17.0ms inference, 2.0ms postprocess per image at shape (1, 3, 480, 640)\n",
      "\n"
     ]
    },
    {
     "name": "stdout",
     "output_type": "stream",
     "text": [
      "deepsort output [[553 542 731 601   4]]\n",
      "in while loop\n",
      "deepsort output [[553 542 733 602   4]]\n",
      "in while loop\n",
      "deepsort output [[553 541 734 602   4]]\n",
      "in while loop\n",
      "deepsort output [[556 541 746 604   4]]\n",
      "in while loop\n"
     ]
    },
    {
     "name": "stderr",
     "output_type": "stream",
     "text": [
      "0: 480x640 1 car, 1 traffic light, 12.0ms\n",
      "Speed: 5.0ms preprocess, 12.0ms inference, 4.0ms postprocess per image at shape (1, 3, 480, 640)\n",
      "\n",
      "0: 480x640 1 car, 1 traffic light, 17.0ms\n",
      "Speed: 8.0ms preprocess, 17.0ms inference, 2.0ms postprocess per image at shape (1, 3, 480, 640)\n",
      "\n",
      "0: 480x640 1 car, 1 traffic light, 12.0ms\n",
      "Speed: 5.0ms preprocess, 12.0ms inference, 2.0ms postprocess per image at shape (1, 3, 480, 640)\n",
      "\n",
      "0: 480x640 1 car, 1 traffic light, 12.0ms\n",
      "Speed: 5.0ms preprocess, 12.0ms inference, 2.0ms postprocess per image at shape (1, 3, 480, 640)\n",
      "\n"
     ]
    },
    {
     "name": "stdout",
     "output_type": "stream",
     "text": [
      "deepsort output [[557 540 750 604   4]]\n",
      "in while loop\n",
      "deepsort output [[557 540 752 605   4]]\n",
      "in while loop\n",
      "deepsort output [[565 541 761 605   4]]\n",
      "in while loop\n",
      "deepsort output [[568 541 765 606   4]]\n",
      "in while loop\n"
     ]
    },
    {
     "name": "stderr",
     "output_type": "stream",
     "text": [
      "0: 480x640 1 car, 1 traffic light, 14.0ms\n",
      "Speed: 7.0ms preprocess, 14.0ms inference, 2.0ms postprocess per image at shape (1, 3, 480, 640)\n",
      "\n",
      "0: 480x640 1 car, 12.0ms\n",
      "Speed: 5.0ms preprocess, 12.0ms inference, 2.0ms postprocess per image at shape (1, 3, 480, 640)\n",
      "\n",
      "0: 480x640 1 car, 13.0ms\n",
      "Speed: 7.0ms preprocess, 13.0ms inference, 2.0ms postprocess per image at shape (1, 3, 480, 640)\n",
      "\n",
      "0: 480x640 1 car, 33.0ms\n",
      "Speed: 5.0ms preprocess, 33.0ms inference, 2.0ms postprocess per image at shape (1, 3, 480, 640)\n",
      "\n"
     ]
    },
    {
     "name": "stdout",
     "output_type": "stream",
     "text": [
      "deepsort output [[569 541 767 606   4]]\n",
      "in while loop\n",
      "deepsort output [[579 541 785 607   4]]\n",
      "in while loop\n",
      "deepsort output [[583 541 792 608   4]]\n",
      "in while loop\n",
      "deepsort output [[583 540 796 608   4]]\n",
      "in while loop\n"
     ]
    },
    {
     "name": "stderr",
     "output_type": "stream",
     "text": [
      "0: 480x640 1 car, 12.3ms\n",
      "Speed: 6.0ms preprocess, 12.3ms inference, 2.0ms postprocess per image at shape (1, 3, 480, 640)\n",
      "\n",
      "0: 480x640 1 car, 12.0ms\n",
      "Speed: 5.0ms preprocess, 12.0ms inference, 3.0ms postprocess per image at shape (1, 3, 480, 640)\n",
      "\n",
      "0: 480x640 1 car, 19.0ms\n",
      "Speed: 7.0ms preprocess, 19.0ms inference, 2.0ms postprocess per image at shape (1, 3, 480, 640)\n",
      "\n",
      "0: 480x640 1 car, 1 truck, 13.0ms\n",
      "Speed: 5.0ms preprocess, 13.0ms inference, 2.0ms postprocess per image at shape (1, 3, 480, 640)\n"
     ]
    },
    {
     "name": "stdout",
     "output_type": "stream",
     "text": [
      "deepsort output [[596 539 822 610   4]]\n",
      "in while loop\n",
      "deepsort output [[600 539 833 611   4]]\n",
      "in while loop\n",
      "deepsort output [[601 538 837 612   4]]\n",
      "in while loop\n",
      "deepsort output [[623 538 871 614   4]]\n",
      "in while loop\n"
     ]
    },
    {
     "name": "stderr",
     "output_type": "stream",
     "text": [
      "\n",
      "0: 480x640 1 car, 1 truck, 13.0ms\n",
      "Speed: 5.0ms preprocess, 13.0ms inference, 2.0ms postprocess per image at shape (1, 3, 480, 640)\n",
      "\n",
      "0: 480x640 2 cars, 2 airplanes, 12.0ms\n",
      "Speed: 9.0ms preprocess, 12.0ms inference, 2.0ms postprocess per image at shape (1, 3, 480, 640)\n",
      "\n",
      "0: 480x640 2 cars, 2 airplanes, 13.0ms\n",
      "Speed: 5.0ms preprocess, 13.0ms inference, 2.0ms postprocess per image at shape (1, 3, 480, 640)\n",
      "\n"
     ]
    },
    {
     "name": "stdout",
     "output_type": "stream",
     "text": [
      "deepsort output [[630 537 884 615   4]]\n",
      "in while loop\n",
      "deepsort output [[655 535 939 621   4]]\n",
      "in while loop\n",
      "deepsort output [[663 535 961 623   4]]\n",
      "in while loop\n"
     ]
    },
    {
     "name": "stderr",
     "output_type": "stream",
     "text": [
      "0: 480x640 2 cars, 2 airplanes, 14.0ms\n",
      "Speed: 6.0ms preprocess, 14.0ms inference, 3.0ms postprocess per image at shape (1, 3, 480, 640)\n",
      "\n",
      "0: 480x640 1 car, 16.0ms\n",
      "Speed: 9.0ms preprocess, 16.0ms inference, 2.0ms postprocess per image at shape (1, 3, 480, 640)\n",
      "\n",
      "0: 480x640 1 car, 13.0ms\n",
      "Speed: 5.0ms preprocess, 13.0ms inference, 2.0ms postprocess per image at shape (1, 3, 480, 640)\n",
      "\n",
      "0: 480x640 1 car, 13.5ms\n",
      "Speed: 5.0ms preprocess, 13.5ms inference, 2.0ms postprocess per image at shape (1, 3, 480, 640)\n",
      "\n"
     ]
    },
    {
     "name": "stdout",
     "output_type": "stream",
     "text": [
      "deepsort output [[665 534 970 624   4]]\n",
      "in while loop\n",
      "deepsort output [[ 680  534 1008  630    4]]\n",
      "in while loop\n",
      "deepsort output [[ 685  533 1022  632    4]]\n",
      "in while loop\n",
      "deepsort output [[ 687  533 1023  633    4]]\n",
      "in while loop\n"
     ]
    },
    {
     "name": "stderr",
     "output_type": "stream",
     "text": [
      "0: 480x640 1 car, 14.0ms\n",
      "Speed: 6.0ms preprocess, 14.0ms inference, 2.0ms postprocess per image at shape (1, 3, 480, 640)\n",
      "\n",
      "0: 480x640 1 car, 14.0ms\n",
      "Speed: 5.0ms preprocess, 14.0ms inference, 1.0ms postprocess per image at shape (1, 3, 480, 640)\n",
      "\n",
      "0: 480x640 1 car, 13.0ms\n",
      "Speed: 5.0ms preprocess, 13.0ms inference, 2.0ms postprocess per image at shape (1, 3, 480, 640)\n",
      "\n",
      "0: 480x640 1 car, 26.0ms\n",
      "Speed: 7.0ms preprocess, 26.0ms inference, 2.0ms postprocess per image at shape (1, 3, 480, 640)\n"
     ]
    },
    {
     "name": "stdout",
     "output_type": "stream",
     "text": [
      "deepsort output [[ 688  533 1023  633    4]]\n",
      "in while loop\n",
      "deepsort output [[ 708  531 1023  629    4]]\n",
      "in while loop\n",
      "deepsort output [[ 716  531 1023  627    4]]\n",
      "in while loop\n",
      "deepsort output [[ 720  530 1023  626    4]]\n",
      "in while loop\n"
     ]
    },
    {
     "name": "stderr",
     "output_type": "stream",
     "text": [
      "\n",
      "0: 480x640 1 car, 16.0ms\n",
      "Speed: 6.0ms preprocess, 16.0ms inference, 2.0ms postprocess per image at shape (1, 3, 480, 640)\n",
      "\n",
      "0: 480x640 1 car, 17.0ms\n",
      "Speed: 5.0ms preprocess, 17.0ms inference, 2.0ms postprocess per image at shape (1, 3, 480, 640)\n",
      "\n",
      "0: 480x640 1 car, 17.0ms\n",
      "Speed: 6.0ms preprocess, 17.0ms inference, 2.0ms postprocess per image at shape (1, 3, 480, 640)\n",
      "\n"
     ]
    },
    {
     "name": "stdout",
     "output_type": "stream",
     "text": [
      "deepsort output [[ 724  525 1023  634    4]]\n",
      "in while loop\n",
      "deepsort output [[ 730  523 1023  637    4]]\n",
      "in while loop\n",
      "deepsort output [[ 751  522 1023  646    4]]\n",
      "in while loop\n"
     ]
    },
    {
     "name": "stderr",
     "output_type": "stream",
     "text": [
      "0: 480x640 1 car, 14.0ms\n",
      "Speed: 6.0ms preprocess, 14.0ms inference, 3.0ms postprocess per image at shape (1, 3, 480, 640)\n",
      "\n",
      "0: 480x640 1 car, 13.0ms\n",
      "Speed: 5.0ms preprocess, 13.0ms inference, 2.0ms postprocess per image at shape (1, 3, 480, 640)\n",
      "\n",
      "0: 480x640 (no detections), 14.0ms\n",
      "Speed: 5.0ms preprocess, 14.0ms inference, 1.0ms postprocess per image at shape (1, 3, 480, 640)\n",
      "\n",
      "0: 480x640 (no detections), 18.0ms\n",
      "Speed: 5.0ms preprocess, 18.0ms inference, 1.0ms postprocess per image at shape (1, 3, 480, 640)\n"
     ]
    },
    {
     "name": "stdout",
     "output_type": "stream",
     "text": [
      "deepsort output [[ 766  521 1023  650    4]]\n",
      "in while loop\n",
      "deepsort output [[ 777  521 1023  651    4]]\n",
      "in while loop\n",
      "deepsort output [[ 783  520 1023  653    4]]\n",
      "in while loop\n",
      "deepsort output []\n",
      "in while loop\n"
     ]
    },
    {
     "name": "stderr",
     "output_type": "stream",
     "text": [
      "\n",
      "0: 480x640 (no detections), 19.0ms\n",
      "Speed: 5.0ms preprocess, 19.0ms inference, 19.0ms postprocess per image at shape (1, 3, 480, 640)\n",
      "\n",
      "0: 480x640 (no detections), 14.0ms\n",
      "Speed: 5.0ms preprocess, 14.0ms inference, 1.0ms postprocess per image at shape (1, 3, 480, 640)\n",
      "\n",
      "0: 480x640 (no detections), 16.0ms\n",
      "Speed: 5.0ms preprocess, 16.0ms inference, 2.0ms postprocess per image at shape (1, 3, 480, 640)\n",
      "\n",
      "0: 480x640 (no detections), 46.0ms\n",
      "Speed: 5.0ms preprocess, 46.0ms inference, 1.0ms postprocess per image at shape (1, 3, 480, 640)\n"
     ]
    },
    {
     "name": "stdout",
     "output_type": "stream",
     "text": [
      "deepsort output []\n",
      "in while loop\n",
      "deepsort output []\n",
      "in while loop\n",
      "deepsort output []\n",
      "in while loop\n",
      "deepsort output []\n",
      "in while loop\n"
     ]
    },
    {
     "name": "stderr",
     "output_type": "stream",
     "text": [
      "\n",
      "0: 480x640 (no detections), 13.0ms\n",
      "Speed: 6.0ms preprocess, 13.0ms inference, 1.0ms postprocess per image at shape (1, 3, 480, 640)\n",
      "\n",
      "0: 480x640 (no detections), 13.0ms\n",
      "Speed: 6.0ms preprocess, 13.0ms inference, 1.0ms postprocess per image at shape (1, 3, 480, 640)\n",
      "\n",
      "0: 480x640 (no detections), 44.0ms\n",
      "Speed: 5.0ms preprocess, 44.0ms inference, 1.0ms postprocess per image at shape (1, 3, 480, 640)\n",
      "\n",
      "0: 480x640 (no detections), 13.0ms\n",
      "Speed: 6.0ms preprocess, 13.0ms inference, 1.0ms postprocess per image at shape (1, 3, 480, 640)\n"
     ]
    },
    {
     "name": "stdout",
     "output_type": "stream",
     "text": [
      "deepsort output []\n",
      "in while loop\n",
      "deepsort output []\n",
      "in while loop\n",
      "deepsort output []\n",
      "in while loop\n"
     ]
    },
    {
     "name": "stderr",
     "output_type": "stream",
     "text": [
      "\n",
      "0: 480x640 (no detections), 14.0ms\n",
      "Speed: 5.0ms preprocess, 14.0ms inference, 1.0ms postprocess per image at shape (1, 3, 480, 640)\n",
      "\n",
      "0: 480x640 (no detections), 43.0ms\n",
      "Speed: 5.0ms preprocess, 43.0ms inference, 1.0ms postprocess per image at shape (1, 3, 480, 640)\n",
      "\n",
      "0: 480x640 (no detections), 14.0ms\n",
      "Speed: 5.0ms preprocess, 14.0ms inference, 0.0ms postprocess per image at shape (1, 3, 480, 640)\n"
     ]
    },
    {
     "name": "stdout",
     "output_type": "stream",
     "text": [
      "deepsort output []\n",
      "in while loop\n",
      "deepsort output []\n",
      "in while loop\n",
      "deepsort output []\n",
      "in while loop\n",
      "deepsort output []\n",
      "in while loop\n"
     ]
    },
    {
     "name": "stderr",
     "output_type": "stream",
     "text": [
      "\n",
      "0: 480x640 (no detections), 14.0ms\n",
      "Speed: 5.0ms preprocess, 14.0ms inference, 1.0ms postprocess per image at shape (1, 3, 480, 640)\n",
      "\n",
      "0: 480x640 (no detections), 34.0ms\n",
      "Speed: 8.0ms preprocess, 34.0ms inference, 1.0ms postprocess per image at shape (1, 3, 480, 640)\n",
      "\n",
      "0: 480x640 (no detections), 13.0ms\n",
      "Speed: 6.0ms preprocess, 13.0ms inference, 1.0ms postprocess per image at shape (1, 3, 480, 640)\n",
      "\n",
      "0: 480x640 (no detections), 14.0ms\n",
      "Speed: 5.0ms preprocess, 14.0ms inference, 1.0ms postprocess per image at shape (1, 3, 480, 640)\n",
      "\n",
      "0: 480x640 (no detections), 12.0ms\n"
     ]
    },
    {
     "name": "stdout",
     "output_type": "stream",
     "text": [
      "deepsort output []\n",
      "in while loop\n",
      "deepsort output []\n",
      "in while loop\n",
      "deepsort output []\n",
      "in while loop\n",
      "deepsort output []\n",
      "in while loop\n"
     ]
    },
    {
     "name": "stderr",
     "output_type": "stream",
     "text": [
      "Speed: 6.0ms preprocess, 12.0ms inference, 1.0ms postprocess per image at shape (1, 3, 480, 640)\n",
      "\n",
      "0: 480x640 (no detections), 14.0ms\n",
      "Speed: 6.0ms preprocess, 14.0ms inference, 1.0ms postprocess per image at shape (1, 3, 480, 640)\n",
      "\n",
      "0: 480x640 (no detections), 13.0ms\n",
      "Speed: 5.0ms preprocess, 13.0ms inference, 1.0ms postprocess per image at shape (1, 3, 480, 640)\n",
      "\n",
      "0: 480x640 (no detections), 14.0ms\n",
      "Speed: 5.0ms preprocess, 14.0ms inference, 1.0ms postprocess per image at shape (1, 3, 480, 640)\n",
      "\n",
      "0: 480x640 (no detections), 13.0ms\n",
      "Speed: 5.0ms preprocess, 13.0ms inference, 1.0ms postprocess per image at shape (1, 3, 480, 640)\n"
     ]
    },
    {
     "name": "stdout",
     "output_type": "stream",
     "text": [
      "deepsort output []\n",
      "in while loop\n",
      "deepsort output []\n",
      "in while loop\n",
      "deepsort output []\n",
      "in while loop\n",
      "deepsort output []\n",
      "in while loop\n",
      "deepsort output []\n",
      "in while loop\n"
     ]
    },
    {
     "name": "stderr",
     "output_type": "stream",
     "text": [
      "\n",
      "0: 480x640 (no detections), 14.0ms\n",
      "Speed: 5.0ms preprocess, 14.0ms inference, 1.0ms postprocess per image at shape (1, 3, 480, 640)\n",
      "\n",
      "0: 480x640 (no detections), 14.0ms\n",
      "Speed: 5.0ms preprocess, 14.0ms inference, 2.0ms postprocess per image at shape (1, 3, 480, 640)\n",
      "\n",
      "0: 480x640 (no detections), 14.0ms\n",
      "Speed: 6.0ms preprocess, 14.0ms inference, 1.0ms postprocess per image at shape (1, 3, 480, 640)\n",
      "\n",
      "0: 480x640 (no detections), 43.0ms\n",
      "Speed: 5.0ms preprocess, 43.0ms inference, 1.0ms postprocess per image at shape (1, 3, 480, 640)\n",
      "\n"
     ]
    },
    {
     "name": "stdout",
     "output_type": "stream",
     "text": [
      "deepsort output []\n",
      "in while loop\n",
      "deepsort output []\n",
      "in while loop\n",
      "deepsort output []\n",
      "in while loop\n",
      "deepsort output []\n",
      "in while loop\n"
     ]
    },
    {
     "name": "stderr",
     "output_type": "stream",
     "text": [
      "0: 480x640 (no detections), 14.0ms\n",
      "Speed: 6.0ms preprocess, 14.0ms inference, 1.0ms postprocess per image at shape (1, 3, 480, 640)\n",
      "\n",
      "0: 480x640 (no detections), 13.0ms\n",
      "Speed: 5.0ms preprocess, 13.0ms inference, 1.0ms postprocess per image at shape (1, 3, 480, 640)\n",
      "\n",
      "0: 480x640 (no detections), 41.0ms\n",
      "Speed: 6.0ms preprocess, 41.0ms inference, 1.0ms postprocess per image at shape (1, 3, 480, 640)\n",
      "\n",
      "0: 480x640 (no detections), 13.0ms\n",
      "Speed: 5.0ms preprocess, 13.0ms inference, 1.0ms postprocess per image at shape (1, 3, 480, 640)\n"
     ]
    },
    {
     "name": "stdout",
     "output_type": "stream",
     "text": [
      "deepsort output []\n",
      "in while loop\n",
      "deepsort output []\n",
      "in while loop\n",
      "deepsort output []\n",
      "in while loop\n",
      "deepsort output []\n",
      "in while loop\n"
     ]
    },
    {
     "name": "stderr",
     "output_type": "stream",
     "text": [
      "\n",
      "0: 480x640 (no detections), 15.0ms\n",
      "Speed: 6.0ms preprocess, 15.0ms inference, 2.0ms postprocess per image at shape (1, 3, 480, 640)\n",
      "\n",
      "0: 480x640 (no detections), 27.0ms\n",
      "Speed: 7.0ms preprocess, 27.0ms inference, 1.0ms postprocess per image at shape (1, 3, 480, 640)\n",
      "\n",
      "0: 480x640 (no detections), 13.0ms\n",
      "Speed: 5.0ms preprocess, 13.0ms inference, 2.0ms postprocess per image at shape (1, 3, 480, 640)\n",
      "\n",
      "0: 480x640 (no detections), 15.0ms\n",
      "Speed: 5.0ms preprocess, 15.0ms inference, 1.0ms postprocess per image at shape (1, 3, 480, 640)\n"
     ]
    },
    {
     "name": "stdout",
     "output_type": "stream",
     "text": [
      "deepsort output []\n",
      "in while loop\n",
      "deepsort output []\n",
      "in while loop\n",
      "deepsort output []\n",
      "in while loop\n",
      "deepsort output []\n",
      "in while loop\n"
     ]
    },
    {
     "name": "stderr",
     "output_type": "stream",
     "text": [
      "\n",
      "0: 480x640 (no detections), 15.0ms\n",
      "Speed: 5.0ms preprocess, 15.0ms inference, 2.0ms postprocess per image at shape (1, 3, 480, 640)\n",
      "\n",
      "0: 480x640 (no detections), 13.0ms\n",
      "Speed: 7.0ms preprocess, 13.0ms inference, 1.0ms postprocess per image at shape (1, 3, 480, 640)\n",
      "\n",
      "0: 480x640 (no detections), 16.0ms\n",
      "Speed: 5.0ms preprocess, 16.0ms inference, 1.0ms postprocess per image at shape (1, 3, 480, 640)\n",
      "\n",
      "0: 480x640 (no detections), 18.0ms\n",
      "Speed: 6.0ms preprocess, 18.0ms inference, 1.0ms postprocess per image at shape (1, 3, 480, 640)\n",
      "\n"
     ]
    },
    {
     "name": "stdout",
     "output_type": "stream",
     "text": [
      "deepsort output []\n",
      "in while loop\n",
      "deepsort output []\n",
      "in while loop\n",
      "deepsort output []\n",
      "in while loop\n",
      "deepsort output []\n",
      "in while loop\n"
     ]
    },
    {
     "name": "stderr",
     "output_type": "stream",
     "text": [
      "0: 480x640 (no detections), 89.3ms\n",
      "Speed: 5.0ms preprocess, 89.3ms inference, 1.0ms postprocess per image at shape (1, 3, 480, 640)\n",
      "\n",
      "0: 480x640 (no detections), 13.0ms\n",
      "Speed: 6.0ms preprocess, 13.0ms inference, 0.0ms postprocess per image at shape (1, 3, 480, 640)\n",
      "\n",
      "0: 480x640 (no detections), 28.0ms\n",
      "Speed: 7.0ms preprocess, 28.0ms inference, 1.0ms postprocess per image at shape (1, 3, 480, 640)\n",
      "\n",
      "0: 480x640 (no detections), 13.0ms\n",
      "Speed: 5.0ms preprocess, 13.0ms inference, 1.0ms postprocess per image at shape (1, 3, 480, 640)\n",
      "\n"
     ]
    },
    {
     "name": "stdout",
     "output_type": "stream",
     "text": [
      "deepsort output []\n",
      "in while loop\n",
      "deepsort output []\n",
      "in while loop\n",
      "deepsort output []\n",
      "in while loop\n",
      "deepsort output []\n",
      "in while loop\n"
     ]
    },
    {
     "name": "stderr",
     "output_type": "stream",
     "text": [
      "0: 480x640 (no detections), 13.0ms\n",
      "Speed: 5.0ms preprocess, 13.0ms inference, 1.0ms postprocess per image at shape (1, 3, 480, 640)\n",
      "\n",
      "0: 480x640 (no detections), 35.9ms\n",
      "Speed: 5.0ms preprocess, 35.9ms inference, 1.0ms postprocess per image at shape (1, 3, 480, 640)\n",
      "\n",
      "0: 480x640 (no detections), 13.0ms\n",
      "Speed: 5.0ms preprocess, 13.0ms inference, 1.0ms postprocess per image at shape (1, 3, 480, 640)\n",
      "\n",
      "0: 480x640 (no detections), 16.0ms\n",
      "Speed: 5.0ms preprocess, 16.0ms inference, 1.0ms postprocess per image at shape (1, 3, 480, 640)\n",
      "\n"
     ]
    },
    {
     "name": "stdout",
     "output_type": "stream",
     "text": [
      "deepsort output []\n",
      "in while loop\n",
      "deepsort output []\n",
      "in while loop\n",
      "deepsort output []\n",
      "in while loop\n",
      "deepsort output []\n",
      "in while loop\n"
     ]
    },
    {
     "name": "stderr",
     "output_type": "stream",
     "text": [
      "0: 480x640 (no detections), 13.0ms\n",
      "Speed: 5.0ms preprocess, 13.0ms inference, 1.0ms postprocess per image at shape (1, 3, 480, 640)\n",
      "\n",
      "0: 480x640 (no detections), 12.0ms\n",
      "Speed: 7.0ms preprocess, 12.0ms inference, 1.0ms postprocess per image at shape (1, 3, 480, 640)\n",
      "\n",
      "0: 480x640 (no detections), 13.0ms\n",
      "Speed: 6.0ms preprocess, 13.0ms inference, 1.0ms postprocess per image at shape (1, 3, 480, 640)\n",
      "\n",
      "0: 480x640 (no detections), 13.0ms\n",
      "Speed: 5.0ms preprocess, 13.0ms inference, 1.0ms postprocess per image at shape (1, 3, 480, 640)\n",
      "\n"
     ]
    },
    {
     "name": "stdout",
     "output_type": "stream",
     "text": [
      "deepsort output []\n",
      "in while loop\n",
      "deepsort output []\n",
      "in while loop\n",
      "deepsort output []\n",
      "in while loop\n",
      "deepsort output []\n",
      "in while loop\n"
     ]
    },
    {
     "name": "stderr",
     "output_type": "stream",
     "text": [
      "0: 480x640 (no detections), 28.0ms\n",
      "Speed: 5.0ms preprocess, 28.0ms inference, 16.0ms postprocess per image at shape (1, 3, 480, 640)\n",
      "\n",
      "0: 480x640 (no detections), 12.0ms\n",
      "Speed: 5.0ms preprocess, 12.0ms inference, 1.0ms postprocess per image at shape (1, 3, 480, 640)\n",
      "\n",
      "0: 480x640 (no detections), 15.0ms\n",
      "Speed: 7.0ms preprocess, 15.0ms inference, 2.0ms postprocess per image at shape (1, 3, 480, 640)\n",
      "\n",
      "0: 480x640 (no detections), 13.0ms\n",
      "Speed: 5.0ms preprocess, 13.0ms inference, 1.0ms postprocess per image at shape (1, 3, 480, 640)\n",
      "\n"
     ]
    },
    {
     "name": "stdout",
     "output_type": "stream",
     "text": [
      "deepsort output []\n",
      "in while loop\n",
      "deepsort output []\n",
      "in while loop\n",
      "deepsort output []\n",
      "in while loop\n",
      "deepsort output []\n",
      "in while loop\n"
     ]
    },
    {
     "name": "stderr",
     "output_type": "stream",
     "text": [
      "0: 480x640 (no detections), 13.0ms\n",
      "Speed: 6.0ms preprocess, 13.0ms inference, 1.0ms postprocess per image at shape (1, 3, 480, 640)\n",
      "\n",
      "0: 480x640 (no detections), 13.0ms\n",
      "Speed: 7.0ms preprocess, 13.0ms inference, 1.0ms postprocess per image at shape (1, 3, 480, 640)\n",
      "\n",
      "0: 480x640 (no detections), 13.0ms\n",
      "Speed: 5.0ms preprocess, 13.0ms inference, 1.0ms postprocess per image at shape (1, 3, 480, 640)\n",
      "\n",
      "0: 480x640 (no detections), 12.0ms\n",
      "Speed: 6.0ms preprocess, 12.0ms inference, 1.0ms postprocess per image at shape (1, 3, 480, 640)\n",
      "\n",
      "0: 480x640 (no detections), 13.0ms\n",
      "Speed: 7.0ms preprocess, 13.0ms inference, 1.0ms postprocess per image at shape (1, 3, 480, 640)\n"
     ]
    },
    {
     "name": "stdout",
     "output_type": "stream",
     "text": [
      "deepsort output []\n",
      "in while loop\n",
      "deepsort output []\n",
      "in while loop\n",
      "deepsort output []\n",
      "in while loop\n",
      "deepsort output []\n",
      "in while loop\n"
     ]
    },
    {
     "name": "stderr",
     "output_type": "stream",
     "text": [
      "\n",
      "0: 480x640 (no detections), 14.0ms\n",
      "Speed: 5.0ms preprocess, 14.0ms inference, 1.0ms postprocess per image at shape (1, 3, 480, 640)\n",
      "\n",
      "0: 480x640 (no detections), 12.0ms\n",
      "Speed: 5.0ms preprocess, 12.0ms inference, 1.0ms postprocess per image at shape (1, 3, 480, 640)\n",
      "\n",
      "0: 480x640 (no detections), 37.0ms\n",
      "Speed: 5.0ms preprocess, 37.0ms inference, 1.0ms postprocess per image at shape (1, 3, 480, 640)\n"
     ]
    },
    {
     "name": "stdout",
     "output_type": "stream",
     "text": [
      "deepsort output []\n",
      "in while loop\n",
      "deepsort output []\n",
      "in while loop\n",
      "deepsort output []\n",
      "in while loop\n",
      "deepsort output []\n",
      "in while loop\n"
     ]
    },
    {
     "name": "stderr",
     "output_type": "stream",
     "text": [
      "\n",
      "0: 480x640 (no detections), 12.0ms\n",
      "Speed: 6.0ms preprocess, 12.0ms inference, 1.0ms postprocess per image at shape (1, 3, 480, 640)\n",
      "\n",
      "0: 480x640 (no detections), 15.0ms\n",
      "Speed: 5.0ms preprocess, 15.0ms inference, 1.0ms postprocess per image at shape (1, 3, 480, 640)\n",
      "\n",
      "0: 480x640 (no detections), 13.0ms\n",
      "Speed: 4.9ms preprocess, 13.0ms inference, 1.0ms postprocess per image at shape (1, 3, 480, 640)\n",
      "\n",
      "0: 480x640 (no detections), 13.0ms\n",
      "Speed: 5.0ms preprocess, 13.0ms inference, 1.0ms postprocess per image at shape (1, 3, 480, 640)\n",
      "\n",
      "0: 480x640 (no detections), 14.0ms\n",
      "Speed: 5.0ms preprocess, 14.0ms inference, 1.0ms postprocess per image at shape (1, 3, 480, 640)\n",
      "\n"
     ]
    },
    {
     "name": "stdout",
     "output_type": "stream",
     "text": [
      "deepsort output []\n",
      "in while loop\n",
      "deepsort output []\n",
      "in while loop\n",
      "deepsort output []\n",
      "in while loop\n",
      "deepsort output []\n",
      "in while loop\n",
      "deepsort output []\n",
      "in while loop\n"
     ]
    },
    {
     "name": "stderr",
     "output_type": "stream",
     "text": [
      "0: 480x640 (no detections), 12.0ms\n",
      "Speed: 6.0ms preprocess, 12.0ms inference, 1.0ms postprocess per image at shape (1, 3, 480, 640)\n",
      "\n",
      "0: 480x640 (no detections), 13.0ms\n",
      "Speed: 5.0ms preprocess, 13.0ms inference, 1.0ms postprocess per image at shape (1, 3, 480, 640)\n",
      "\n",
      "0: 480x640 2 cars, 13.0ms\n",
      "Speed: 7.0ms preprocess, 13.0ms inference, 2.0ms postprocess per image at shape (1, 3, 480, 640)\n",
      "\n",
      "0: 480x640 2 cars, 13.0ms\n",
      "Speed: 5.0ms preprocess, 13.0ms inference, 2.0ms postprocess per image at shape (1, 3, 480, 640)\n",
      "\n",
      "0: 480x640 2 cars, 13.0ms\n"
     ]
    },
    {
     "name": "stdout",
     "output_type": "stream",
     "text": [
      "deepsort output []\n",
      "in while loop\n",
      "deepsort output []\n",
      "in while loop\n",
      "deepsort output []\n",
      "in while loop\n",
      "deepsort output []\n",
      "in while loop\n"
     ]
    },
    {
     "name": "stderr",
     "output_type": "stream",
     "text": [
      "Speed: 5.0ms preprocess, 13.0ms inference, 2.0ms postprocess per image at shape (1, 3, 480, 640)\n",
      "\n",
      "0: 480x640 2 cars, 39.0ms\n",
      "Speed: 6.0ms preprocess, 39.0ms inference, 2.0ms postprocess per image at shape (1, 3, 480, 640)\n",
      "\n",
      "0: 480x640 2 cars, 13.0ms\n",
      "Speed: 5.0ms preprocess, 13.0ms inference, 1.0ms postprocess per image at shape (1, 3, 480, 640)\n",
      "\n",
      "0: 480x640 2 cars, 12.0ms\n",
      "Speed: 5.0ms preprocess, 12.0ms inference, 2.0ms postprocess per image at shape (1, 3, 480, 640)\n",
      "\n"
     ]
    },
    {
     "name": "stdout",
     "output_type": "stream",
     "text": [
      "deepsort output [[ 943  532 1023  601   11]]\n",
      "in while loop\n",
      "deepsort output [[ 943  532 1023  601   11]]\n",
      "in while loop\n",
      "deepsort output [[916 541 990 600  11]]\n",
      "in while loop\n",
      "deepsort output [[906 544 980 600  11]]\n",
      "in while loop\n"
     ]
    },
    {
     "name": "stderr",
     "output_type": "stream",
     "text": [
      "0: 480x640 2 cars, 102.1ms\n",
      "Speed: 5.0ms preprocess, 102.1ms inference, 2.0ms postprocess per image at shape (1, 3, 480, 640)\n",
      "\n",
      "0: 480x640 2 cars, 60.0ms\n",
      "Speed: 5.0ms preprocess, 60.0ms inference, 2.0ms postprocess per image at shape (1, 3, 480, 640)\n",
      "\n",
      "0: 480x640 2 cars, 12.0ms\n",
      "Speed: 5.0ms preprocess, 12.0ms inference, 1.0ms postprocess per image at shape (1, 3, 480, 640)\n",
      "\n"
     ]
    },
    {
     "name": "stdout",
     "output_type": "stream",
     "text": [
      "deepsort output [[901 545 979 599  11]\n",
      " [791 550 819 568  12]]\n",
      "in while loop\n",
      "deepsort output [[896 548 970 599  11]\n",
      " [791 550 819 568  12]]\n",
      "in while loop\n",
      "deepsort output []\n",
      "in while loop\n"
     ]
    },
    {
     "name": "stderr",
     "output_type": "stream",
     "text": [
      "0: 480x640 2 cars, 11.0ms\n",
      "Speed: 5.0ms preprocess, 11.0ms inference, 2.0ms postprocess per image at shape (1, 3, 480, 640)\n",
      "\n",
      "0: 480x640 2 cars, 12.0ms\n",
      "Speed: 5.0ms preprocess, 12.0ms inference, 2.0ms postprocess per image at shape (1, 3, 480, 640)\n",
      "\n",
      "0: 480x640 2 cars, 15.0ms\n",
      "Speed: 6.0ms preprocess, 15.0ms inference, 1.0ms postprocess per image at shape (1, 3, 480, 640)\n",
      "\n",
      "0: 480x640 2 cars, 30.0ms\n",
      "Speed: 7.0ms preprocess, 30.0ms inference, 5.5ms postprocess per image at shape (1, 3, 480, 640)\n"
     ]
    },
    {
     "name": "stdout",
     "output_type": "stream",
     "text": [
      "deepsort output [[699 542 913 596  13]]\n",
      "in while loop\n",
      "deepsort output [[645 539 863 596  13]]\n",
      "in while loop\n",
      "deepsort output [[629 538 846 595  13]]\n",
      "in while loop\n",
      "deepsort output [[626 538 842 595  13]\n",
      " [612 552 640 567  16]]\n",
      "in while loop\n"
     ]
    },
    {
     "name": "stderr",
     "output_type": "stream",
     "text": [
      "\n",
      "0: 480x640 2 cars, 14.0ms\n",
      "Speed: 5.0ms preprocess, 14.0ms inference, 2.0ms postprocess per image at shape (1, 3, 480, 640)\n",
      "\n",
      "0: 480x640 2 cars, 11.0ms\n",
      "Speed: 5.0ms preprocess, 11.0ms inference, 2.0ms postprocess per image at shape (1, 3, 480, 640)\n",
      "\n",
      "0: 480x640 2 cars, 23.0ms\n",
      "Speed: 7.0ms preprocess, 23.0ms inference, 1.0ms postprocess per image at shape (1, 3, 480, 640)\n",
      "\n",
      "0: 480x640 2 cars, 16.0ms\n",
      "Speed: 5.0ms preprocess, 16.0ms inference, 2.0ms postprocess per image at shape (1, 3, 480, 640)\n"
     ]
    },
    {
     "name": "stdout",
     "output_type": "stream",
     "text": [
      "deepsort output [[588 542 787 595  13]\n",
      " [612 552 640 567  16]]\n",
      "in while loop\n",
      "deepsort output [[576 543 768 595  13]]\n",
      "in while loop\n",
      "deepsort output [[574 543 761 595  13]\n",
      " [555 551 584 567  17]]\n",
      "in while loop\n",
      "deepsort output [[542 546 722 596  13]\n",
      " [555 551 584 567  17]]\n",
      "in while loop\n"
     ]
    },
    {
     "name": "stderr",
     "output_type": "stream",
     "text": [
      "\n",
      "0: 480x640 2 cars, 12.0ms\n",
      "Speed: 5.0ms preprocess, 12.0ms inference, 2.0ms postprocess per image at shape (1, 3, 480, 640)\n",
      "\n",
      "0: 480x640 2 cars, 16.0ms\n",
      "Speed: 8.0ms preprocess, 16.0ms inference, 2.0ms postprocess per image at shape (1, 3, 480, 640)\n",
      "\n",
      "0: 480x640 2 cars, 14.0ms\n",
      "Speed: 5.0ms preprocess, 14.0ms inference, 2.0ms postprocess per image at shape (1, 3, 480, 640)\n",
      "\n",
      "0: 480x640 2 cars, 12.0ms\n",
      "Speed: 5.0ms preprocess, 12.0ms inference, 2.0ms postprocess per image at shape (1, 3, 480, 640)\n",
      "\n"
     ]
    },
    {
     "name": "stdout",
     "output_type": "stream",
     "text": [
      "deepsort output [[533 546 708 596  13]]\n",
      "in while loop\n",
      "deepsort output [[531 547 704 596  13]\n",
      " [503 549 537 564  18]]\n",
      "in while loop\n",
      "deepsort output [[496 548 667 598  13]\n",
      " [503 549 537 564  18]]\n",
      "in while loop\n",
      "deepsort output [[485 549 654 598  13]]\n",
      "in while loop\n"
     ]
    },
    {
     "name": "stderr",
     "output_type": "stream",
     "text": [
      "0: 480x640 2 cars, 25.0ms\n",
      "Speed: 8.0ms preprocess, 25.0ms inference, 3.0ms postprocess per image at shape (1, 3, 480, 640)\n",
      "\n",
      "0: 480x640 2 cars, 11.0ms\n",
      "Speed: 5.0ms preprocess, 11.0ms inference, 2.0ms postprocess per image at shape (1, 3, 480, 640)\n",
      "\n",
      "0: 480x640 2 cars, 11.0ms\n",
      "Speed: 5.0ms preprocess, 11.0ms inference, 2.0ms postprocess per image at shape (1, 3, 480, 640)\n",
      "\n",
      "0: 480x640 2 cars, 20.0ms\n",
      "Speed: 6.0ms preprocess, 20.0ms inference, 2.0ms postprocess per image at shape (1, 3, 480, 640)\n",
      "\n"
     ]
    },
    {
     "name": "stdout",
     "output_type": "stream",
     "text": [
      "deepsort output [[482 549 649 599  13]\n",
      " [459 551 493 566  19]]\n",
      "in while loop\n",
      "deepsort output [[438 547 610 599  13]\n",
      " [459 551 493 566  19]]\n",
      "in while loop\n",
      "deepsort output [[423 546 595 599  13]]\n",
      "in while loop\n",
      "deepsort output [[418 546 590 599  13]]\n",
      "in while loop\n"
     ]
    },
    {
     "name": "stderr",
     "output_type": "stream",
     "text": [
      "0: 480x640 1 car, 12.0ms\n",
      "Speed: 5.0ms preprocess, 12.0ms inference, 2.0ms postprocess per image at shape (1, 3, 480, 640)\n",
      "\n",
      "0: 480x640 1 car, 11.9ms\n",
      "Speed: 5.0ms preprocess, 11.9ms inference, 2.0ms postprocess per image at shape (1, 3, 480, 640)\n",
      "\n",
      "0: 480x640 1 car, 32.0ms\n",
      "Speed: 5.0ms preprocess, 32.0ms inference, 3.0ms postprocess per image at shape (1, 3, 480, 640)\n",
      "\n",
      "0: 480x640 1 car, 12.0ms\n",
      "Speed: 5.0ms preprocess, 12.0ms inference, 2.0ms postprocess per image at shape (1, 3, 480, 640)\n"
     ]
    },
    {
     "name": "stdout",
     "output_type": "stream",
     "text": [
      "deepsort output [[377 548 550 602  13]]\n",
      "in while loop\n",
      "deepsort output [[362 549 536 603  13]]\n",
      "in while loop\n",
      "deepsort output [[357 550 531 604  13]]\n",
      "in while loop\n",
      "deepsort output [[297 550 490 610  13]]\n",
      "in while loop\n"
     ]
    },
    {
     "name": "stderr",
     "output_type": "stream",
     "text": [
      "\n",
      "0: 480x640 1 car, 13.0ms\n",
      "Speed: 5.0ms preprocess, 13.0ms inference, 2.0ms postprocess per image at shape (1, 3, 480, 640)\n",
      "\n",
      "0: 480x640 1 car, 36.0ms\n",
      "Speed: 5.0ms preprocess, 36.0ms inference, 2.0ms postprocess per image at shape (1, 3, 480, 640)\n",
      "\n",
      "0: 480x640 1 car, 14.0ms\n",
      "Speed: 5.0ms preprocess, 14.0ms inference, 2.0ms postprocess per image at shape (1, 3, 480, 640)\n",
      "\n"
     ]
    },
    {
     "name": "stdout",
     "output_type": "stream",
     "text": [
      "deepsort output [[275 550 475 612  13]]\n",
      "in while loop\n",
      "deepsort output [[267 550 470 613  13]]\n",
      "in while loop\n",
      "deepsort output [[183 536 444 618  13]]\n",
      "in while loop\n"
     ]
    },
    {
     "name": "stderr",
     "output_type": "stream",
     "text": [
      "0: 480x640 1 car, 13.0ms\n",
      "Speed: 5.0ms preprocess, 13.0ms inference, 1.0ms postprocess per image at shape (1, 3, 480, 640)\n",
      "\n",
      "0: 480x640 1 car, 13.0ms\n",
      "Speed: 6.0ms preprocess, 13.0ms inference, 2.0ms postprocess per image at shape (1, 3, 480, 640)\n",
      "\n",
      "0: 480x640 1 car, 13.0ms\n",
      "Speed: 5.0ms preprocess, 13.0ms inference, 2.0ms postprocess per image at shape (1, 3, 480, 640)\n",
      "\n",
      "0: 480x640 1 car, 12.0ms\n",
      "Speed: 5.0ms preprocess, 12.0ms inference, 2.0ms postprocess per image at shape (1, 3, 480, 640)\n",
      "\n"
     ]
    },
    {
     "name": "stdout",
     "output_type": "stream",
     "text": [
      "deepsort output [[153 530 432 620  13]]\n",
      "in while loop\n",
      "deepsort output [[142 528 426 621  13]]\n",
      "in while loop\n",
      "deepsort output [[ 45 520 382 632  13]]\n",
      "in while loop\n",
      "deepsort output [[  8 517 363 636  13]]\n",
      "in while loop\n"
     ]
    },
    {
     "name": "stderr",
     "output_type": "stream",
     "text": [
      "0: 480x640 1 car, 33.0ms\n",
      "Speed: 5.0ms preprocess, 33.0ms inference, 2.0ms postprocess per image at shape (1, 3, 480, 640)\n",
      "\n",
      "0: 480x640 1 car, 12.0ms\n",
      "Speed: 6.0ms preprocess, 12.0ms inference, 2.0ms postprocess per image at shape (1, 3, 480, 640)\n",
      "\n",
      "0: 480x640 1 car, 13.0ms\n",
      "Speed: 5.0ms preprocess, 13.0ms inference, 2.0ms postprocess per image at shape (1, 3, 480, 640)\n",
      "\n"
     ]
    },
    {
     "name": "stdout",
     "output_type": "stream",
     "text": [
      "deepsort output [[  0 516 355 638  13]]\n",
      "in while loop\n",
      "deepsort output [[  0 509 311 635  13]]\n",
      "in while loop\n",
      "deepsort output [[  0 507 291 634  13]]\n",
      "in while loop\n"
     ]
    },
    {
     "name": "stderr",
     "output_type": "stream",
     "text": [
      "0: 480x640 1 car, 12.0ms\n",
      "Speed: 6.0ms preprocess, 12.0ms inference, 2.0ms postprocess per image at shape (1, 3, 480, 640)\n",
      "\n",
      "0: 480x640 1 car, 14.0ms\n",
      "Speed: 6.0ms preprocess, 14.0ms inference, 3.0ms postprocess per image at shape (1, 3, 480, 640)\n",
      "\n",
      "0: 480x640 1 car, 13.0ms\n",
      "Speed: 5.0ms preprocess, 13.0ms inference, 2.0ms postprocess per image at shape (1, 3, 480, 640)\n",
      "\n"
     ]
    },
    {
     "name": "stdout",
     "output_type": "stream",
     "text": [
      "deepsort output [[  0 505 271 636  13]]\n",
      "in while loop\n",
      "deepsort output []\n",
      "in while loop\n",
      "deepsort output [[  0 529 149 617  20]]\n",
      "in while loop\n"
     ]
    },
    {
     "name": "stderr",
     "output_type": "stream",
     "text": [
      "0: 480x640 1 train, 13.0ms\n",
      "Speed: 5.0ms preprocess, 13.0ms inference, 2.0ms postprocess per image at shape (1, 3, 480, 640)\n",
      "\n",
      "0: 480x640 1 train, 13.0ms\n",
      "Speed: 5.0ms preprocess, 13.0ms inference, 2.0ms postprocess per image at shape (1, 3, 480, 640)\n",
      "\n",
      "0: 480x640 1 train, 20.0ms\n",
      "Speed: 5.0ms preprocess, 20.0ms inference, 28.0ms postprocess per image at shape (1, 3, 480, 640)\n",
      "\n",
      "0: 480x640 (no detections), 13.0ms\n",
      "Speed: 5.0ms preprocess, 13.0ms inference, 1.0ms postprocess per image at shape (1, 3, 480, 640)\n"
     ]
    },
    {
     "name": "stdout",
     "output_type": "stream",
     "text": [
      "deepsort output [[  0 529 149 617  20]]\n",
      "in while loop\n",
      "deepsort output []\n",
      "in while loop\n",
      "deepsort output []\n",
      "in while loop\n",
      "deepsort output []\n",
      "in while loop\n"
     ]
    },
    {
     "name": "stderr",
     "output_type": "stream",
     "text": [
      "\n",
      "0: 480x640 (no detections), 14.0ms\n",
      "Speed: 6.0ms preprocess, 14.0ms inference, 1.0ms postprocess per image at shape (1, 3, 480, 640)\n",
      "\n",
      "0: 480x640 (no detections), 46.0ms\n",
      "Speed: 5.0ms preprocess, 46.0ms inference, 1.0ms postprocess per image at shape (1, 3, 480, 640)\n",
      "\n",
      "0: 480x640 (no detections), 14.0ms\n",
      "Speed: 6.0ms preprocess, 14.0ms inference, 1.0ms postprocess per image at shape (1, 3, 480, 640)\n",
      "\n",
      "0: 480x640 (no detections), 13.0ms\n",
      "Speed: 5.0ms preprocess, 13.0ms inference, 1.0ms postprocess per image at shape (1, 3, 480, 640)\n"
     ]
    },
    {
     "name": "stdout",
     "output_type": "stream",
     "text": [
      "deepsort output []\n",
      "in while loop\n",
      "deepsort output []\n",
      "in while loop\n",
      "deepsort output []\n",
      "in while loop\n",
      "deepsort output []\n",
      "in while loop\n"
     ]
    },
    {
     "name": "stderr",
     "output_type": "stream",
     "text": [
      "\n",
      "0: 480x640 (no detections), 48.7ms\n",
      "Speed: 5.0ms preprocess, 48.7ms inference, 1.0ms postprocess per image at shape (1, 3, 480, 640)\n",
      "\n",
      "0: 480x640 (no detections), 13.0ms\n",
      "Speed: 5.0ms preprocess, 13.0ms inference, 1.0ms postprocess per image at shape (1, 3, 480, 640)\n",
      "\n",
      "0: 480x640 (no detections), 13.0ms\n",
      "Speed: 6.0ms preprocess, 13.0ms inference, 1.0ms postprocess per image at shape (1, 3, 480, 640)\n",
      "\n",
      "0: 480x640 (no detections), 46.0ms\n",
      "Speed: 5.0ms preprocess, 46.0ms inference, 1.0ms postprocess per image at shape (1, 3, 480, 640)\n"
     ]
    },
    {
     "name": "stdout",
     "output_type": "stream",
     "text": [
      "deepsort output []\n",
      "in while loop\n",
      "deepsort output []\n",
      "in while loop\n",
      "deepsort output []\n",
      "in while loop\n",
      "deepsort output []\n",
      "in while loop\n"
     ]
    },
    {
     "name": "stderr",
     "output_type": "stream",
     "text": [
      "\n",
      "0: 480x640 (no detections), 14.0ms\n",
      "Speed: 5.0ms preprocess, 14.0ms inference, 1.0ms postprocess per image at shape (1, 3, 480, 640)\n",
      "\n",
      "0: 480x640 (no detections), 15.0ms\n",
      "Speed: 6.0ms preprocess, 15.0ms inference, 1.0ms postprocess per image at shape (1, 3, 480, 640)\n",
      "\n",
      "0: 480x640 (no detections), 23.0ms\n",
      "Speed: 7.0ms preprocess, 23.0ms inference, 1.0ms postprocess per image at shape (1, 3, 480, 640)\n",
      "\n",
      "0: 480x640 (no detections), 13.0ms\n",
      "Speed: 5.0ms preprocess, 13.0ms inference, 1.0ms postprocess per image at shape (1, 3, 480, 640)\n",
      "\n"
     ]
    },
    {
     "name": "stdout",
     "output_type": "stream",
     "text": [
      "deepsort output []\n",
      "in while loop\n",
      "deepsort output []\n",
      "in while loop\n",
      "deepsort output []\n",
      "in while loop\n",
      "deepsort output []\n",
      "in while loop\n"
     ]
    },
    {
     "name": "stderr",
     "output_type": "stream",
     "text": [
      "0: 480x640 (no detections), 13.0ms\n",
      "Speed: 5.0ms preprocess, 13.0ms inference, 1.0ms postprocess per image at shape (1, 3, 480, 640)\n",
      "\n",
      "0: 480x640 (no detections), 48.0ms\n",
      "Speed: 5.0ms preprocess, 48.0ms inference, 1.0ms postprocess per image at shape (1, 3, 480, 640)\n",
      "\n",
      "0: 480x640 (no detections), 13.0ms\n",
      "Speed: 5.0ms preprocess, 13.0ms inference, 1.0ms postprocess per image at shape (1, 3, 480, 640)\n",
      "\n",
      "0: 480x640 (no detections), 14.0ms\n",
      "Speed: 5.0ms preprocess, 14.0ms inference, 1.0ms postprocess per image at shape (1, 3, 480, 640)\n",
      "\n"
     ]
    },
    {
     "name": "stdout",
     "output_type": "stream",
     "text": [
      "deepsort output []\n",
      "in while loop\n",
      "deepsort output []\n",
      "in while loop\n",
      "deepsort output []\n",
      "in while loop\n",
      "deepsort output []\n",
      "in while loop\n"
     ]
    },
    {
     "name": "stderr",
     "output_type": "stream",
     "text": [
      "0: 480x640 (no detections), 55.0ms\n",
      "Speed: 5.0ms preprocess, 55.0ms inference, 2.0ms postprocess per image at shape (1, 3, 480, 640)\n",
      "\n",
      "0: 480x640 (no detections), 14.0ms\n",
      "Speed: 4.8ms preprocess, 14.0ms inference, 1.0ms postprocess per image at shape (1, 3, 480, 640)\n",
      "\n",
      "0: 480x640 (no detections), 14.0ms\n",
      "Speed: 5.0ms preprocess, 14.0ms inference, 1.0ms postprocess per image at shape (1, 3, 480, 640)\n",
      "\n",
      "0: 480x640 (no detections), 14.0ms\n",
      "Speed: 7.0ms preprocess, 14.0ms inference, 1.0ms postprocess per image at shape (1, 3, 480, 640)\n",
      "\n"
     ]
    },
    {
     "name": "stdout",
     "output_type": "stream",
     "text": [
      "deepsort output []\n",
      "in while loop\n",
      "deepsort output []\n",
      "in while loop\n",
      "deepsort output []\n",
      "in while loop\n",
      "deepsort output []\n",
      "in while loop\n"
     ]
    },
    {
     "name": "stderr",
     "output_type": "stream",
     "text": [
      "0: 480x640 (no detections), 13.0ms\n",
      "Speed: 5.0ms preprocess, 13.0ms inference, 1.0ms postprocess per image at shape (1, 3, 480, 640)\n",
      "\n",
      "0: 480x640 (no detections), 13.0ms\n",
      "Speed: 5.0ms preprocess, 13.0ms inference, 1.0ms postprocess per image at shape (1, 3, 480, 640)\n",
      "\n",
      "0: 480x640 (no detections), 22.0ms\n",
      "Speed: 5.0ms preprocess, 22.0ms inference, 18.0ms postprocess per image at shape (1, 3, 480, 640)\n",
      "\n",
      "0: 480x640 (no detections), 15.0ms\n",
      "Speed: 5.0ms preprocess, 15.0ms inference, 1.0ms postprocess per image at shape (1, 3, 480, 640)\n",
      "\n"
     ]
    },
    {
     "name": "stdout",
     "output_type": "stream",
     "text": [
      "deepsort output []\n",
      "in while loop\n",
      "deepsort output []\n",
      "in while loop\n",
      "deepsort output []\n",
      "in while loop\n",
      "deepsort output []\n",
      "in while loop\n"
     ]
    },
    {
     "name": "stderr",
     "output_type": "stream",
     "text": [
      "0: 480x640 (no detections), 14.0ms\n",
      "Speed: 5.0ms preprocess, 14.0ms inference, 1.0ms postprocess per image at shape (1, 3, 480, 640)\n",
      "\n",
      "0: 480x640 (no detections), 13.0ms\n",
      "Speed: 5.0ms preprocess, 13.0ms inference, 1.0ms postprocess per image at shape (1, 3, 480, 640)\n",
      "\n",
      "0: 480x640 (no detections), 15.0ms\n",
      "Speed: 5.0ms preprocess, 15.0ms inference, 1.0ms postprocess per image at shape (1, 3, 480, 640)\n",
      "\n",
      "0: 480x640 (no detections), 13.0ms\n",
      "Speed: 5.0ms preprocess, 13.0ms inference, 1.0ms postprocess per image at shape (1, 3, 480, 640)\n"
     ]
    },
    {
     "name": "stdout",
     "output_type": "stream",
     "text": [
      "deepsort output []\n",
      "in while loop\n",
      "deepsort output []\n",
      "in while loop\n",
      "deepsort output []\n",
      "in while loop\n",
      "deepsort output []\n"
     ]
    },
    {
     "ename": "AttributeError",
     "evalue": "'Vehicle' object has no attribute 'destory'",
     "output_type": "error",
     "traceback": [
      "\u001b[1;31m---------------------------------------------------------------------------\u001b[0m",
      "\u001b[1;31mAttributeError\u001b[0m                            Traceback (most recent call last)",
      "Cell \u001b[1;32mIn[1], line 3\u001b[0m\n\u001b[0;32m      1\u001b[0m \u001b[38;5;28;01mfrom\u001b[39;00m \u001b[38;5;21;01myolo_deepsort\u001b[39;00m \u001b[38;5;28;01mimport\u001b[39;00m main\n\u001b[0;32m      2\u001b[0m track \u001b[38;5;241m=\u001b[39m main()\n\u001b[1;32m----> 3\u001b[0m \u001b[43mtrack\u001b[49m\u001b[43m(\u001b[49m\u001b[43m)\u001b[49m\n",
      "File \u001b[1;32mD:\\project_self_driving_vehicle\\gitcarla\\Carla-YOLO-DeepSort-Multi-Object-Tracking\\yolo_deepsort.py:166\u001b[0m, in \u001b[0;36mmain.__call__\u001b[1;34m(self)\u001b[0m\n\u001b[0;32m    164\u001b[0m \u001b[38;5;28;01mfor\u001b[39;00m npc \u001b[38;5;129;01min\u001b[39;00m world\u001b[38;5;241m.\u001b[39mget_actors()\u001b[38;5;241m.\u001b[39mfilter(\u001b[38;5;124m'\u001b[39m\u001b[38;5;124m*vehicle*\u001b[39m\u001b[38;5;124m'\u001b[39m):\n\u001b[0;32m    165\u001b[0m     \u001b[38;5;28;01mif\u001b[39;00m npc:\n\u001b[1;32m--> 166\u001b[0m         \u001b[43mnpc\u001b[49m\u001b[38;5;241;43m.\u001b[39;49m\u001b[43mdestory\u001b[49m()\n",
      "\u001b[1;31mAttributeError\u001b[0m: 'Vehicle' object has no attribute 'destory'"
     ]
    }
   ],
   "source": [
    "from yolo_deepsort import main\n",
    "track = main()\n",
    "track()"
   ]
  },
  {
   "cell_type": "code",
   "execution_count": null,
   "id": "0e585fdb-ac1f-4903-b9d6-0b04c1f7d231",
   "metadata": {},
   "outputs": [],
   "source": []
  },
  {
   "cell_type": "code",
   "execution_count": null,
   "id": "838fcfbc-3c23-4199-b118-b3ad4aae06db",
   "metadata": {},
   "outputs": [],
   "source": []
  },
  {
   "cell_type": "code",
   "execution_count": null,
   "id": "d984462a-7106-4658-907f-534e62aa8a32",
   "metadata": {},
   "outputs": [],
   "source": []
  },
  {
   "cell_type": "code",
   "execution_count": null,
   "id": "ccb1273a-b828-4ad9-bd01-d91827607402",
   "metadata": {},
   "outputs": [],
   "source": []
  }
 ],
 "metadata": {
  "kernelspec": {
   "display_name": "Python 3 (ipykernel)",
   "language": "python",
   "name": "python3"
  },
  "language_info": {
   "codemirror_mode": {
    "name": "ipython",
    "version": 3
   },
   "file_extension": ".py",
   "mimetype": "text/x-python",
   "name": "python",
   "nbconvert_exporter": "python",
   "pygments_lexer": "ipython3",
   "version": "3.8.17"
  }
 },
 "nbformat": 4,
 "nbformat_minor": 5
}
