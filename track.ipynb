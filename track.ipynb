{
 "cells": [
  {
   "cell_type": "code",
   "execution_count": 1,
   "id": "29ad89f8-379f-45fe-b997-915db4e6a34f",
   "metadata": {},
   "outputs": [
    {
     "name": "stdout",
     "output_type": "stream",
     "text": [
      "after load model\n",
      "in while loop\n"
     ]
    },
    {
     "name": "stderr",
     "output_type": "stream",
     "text": [
      "\n",
      "0: 480x640 1 person, 162.0ms\n",
      "Speed: 7.0ms preprocess, 162.0ms inference, 6.0ms postprocess per image at shape (1, 3, 480, 640)\n"
     ]
    },
    {
     "name": "stdout",
     "output_type": "stream",
     "text": [
      "deepsort output []\n"
     ]
    },
    {
     "name": "stderr",
     "output_type": "stream",
     "text": [
      "\n",
      "0: 480x640 1 person, 1 truck, 15.0ms\n",
      "Speed: 10.0ms preprocess, 15.0ms inference, 3.0ms postprocess per image at shape (1, 3, 480, 640)\n"
     ]
    },
    {
     "name": "stdout",
     "output_type": "stream",
     "text": [
      "in while loop\n",
      "deepsort output []\n",
      "in while loop\n"
     ]
    },
    {
     "name": "stderr",
     "output_type": "stream",
     "text": [
      "\n",
      "0: 480x640 1 person, 1 car, 1 truck, 17.0ms\n",
      "Speed: 6.0ms preprocess, 17.0ms inference, 4.0ms postprocess per image at shape (1, 3, 480, 640)\n",
      "\n",
      "0: 480x640 1 person, 2 cars, 1 truck, 13.0ms\n",
      "Speed: 6.0ms preprocess, 13.0ms inference, 3.0ms postprocess per image at shape (1, 3, 480, 640)\n",
      "\n"
     ]
    },
    {
     "name": "stdout",
     "output_type": "stream",
     "text": [
      "deepsort output []\n",
      "in while loop\n",
      "deepsort output [[ 673   17 1023  764    1]]\n",
      "in while loop\n"
     ]
    },
    {
     "name": "stderr",
     "output_type": "stream",
     "text": [
      "0: 480x640 1 person, 2 cars, 1 truck, 13.0ms\n",
      "Speed: 5.0ms preprocess, 13.0ms inference, 3.0ms postprocess per image at shape (1, 3, 480, 640)\n",
      "\n",
      "0: 480x640 1 person, 1 car, 1 truck, 15.0ms\n",
      "Speed: 7.0ms preprocess, 15.0ms inference, 2.0ms postprocess per image at shape (1, 3, 480, 640)\n",
      "\n",
      "0: 480x640 1 person, 1 car, 1 truck, 14.0ms\n",
      "Speed: 5.0ms preprocess, 14.0ms inference, 2.0ms postprocess per image at shape (1, 3, 480, 640)\n"
     ]
    },
    {
     "name": "stdout",
     "output_type": "stream",
     "text": [
      "deepsort output [[ 674   17 1023  763    1]\n",
      " [ 654  531  796  650    2]]\n",
      "in while loop\n",
      "deepsort output [[ 675   19 1022  764    1]\n",
      " [ 651  531  794  644    2]]\n",
      "in while loop\n",
      "deepsort output [[ 676   20 1022  765    1]\n",
      " [ 650  531  794  643    2]]\n"
     ]
    },
    {
     "name": "stderr",
     "output_type": "stream",
     "text": [
      "\n",
      "0: 480x640 1 person, 1 car, 1 truck, 14.0ms\n",
      "Speed: 6.0ms preprocess, 14.0ms inference, 2.0ms postprocess per image at shape (1, 3, 480, 640)\n",
      "\n",
      "0: 480x640 1 person, 1 car, 1 truck, 13.0ms\n",
      "Speed: 5.0ms preprocess, 13.0ms inference, 2.0ms postprocess per image at shape (1, 3, 480, 640)\n"
     ]
    },
    {
     "name": "stdout",
     "output_type": "stream",
     "text": [
      "in while loop\n",
      "deepsort output [[ 674   10 1022  765    1]\n",
      " [ 649  530  797  639    2]]\n",
      "in while loop\n",
      "deepsort output [[ 674    7 1022  766    1]\n",
      " [ 648  529  798  638    2]]\n",
      "in while loop\n"
     ]
    },
    {
     "name": "stderr",
     "output_type": "stream",
     "text": [
      "\n",
      "0: 480x640 1 person, 1 car, 1 truck, 1 umbrella, 14.0ms\n",
      "Speed: 6.0ms preprocess, 14.0ms inference, 2.0ms postprocess per image at shape (1, 3, 480, 640)\n",
      "\n",
      "0: 480x640 1 person, 1 car, 1 truck, 1 umbrella, 14.0ms\n",
      "Speed: 5.0ms preprocess, 14.0ms inference, 2.0ms postprocess per image at shape (1, 3, 480, 640)\n",
      "\n"
     ]
    },
    {
     "name": "stdout",
     "output_type": "stream",
     "text": [
      "deepsort output [[ 675    3 1022  764    1]\n",
      " [ 647  530  809  638    2]]\n",
      "in while loop\n",
      "deepsort output [[ 676    2 1022  763    1]\n",
      " [ 646  531  812  638    2]]\n",
      "in while loop\n"
     ]
    },
    {
     "name": "stderr",
     "output_type": "stream",
     "text": [
      "0: 480x640 1 person, 1 car, 1 truck, 13.0ms\n",
      "Speed: 5.0ms preprocess, 13.0ms inference, 2.0ms postprocess per image at shape (1, 3, 480, 640)\n",
      "\n",
      "0: 480x640 1 person, 1 car, 1 truck, 13.0ms\n",
      "Speed: 5.0ms preprocess, 13.0ms inference, 2.0ms postprocess per image at shape (1, 3, 480, 640)\n"
     ]
    },
    {
     "name": "stdout",
     "output_type": "stream",
     "text": [
      "deepsort output [[ 679    1 1022  755    1]\n",
      " [ 643  531  805  635    2]]\n",
      "in while loop\n",
      "deepsort output [[ 680    1 1022  753    1]\n",
      " [ 642  532  803  634    2]]\n"
     ]
    },
    {
     "name": "stderr",
     "output_type": "stream",
     "text": [
      "\n",
      "0: 480x640 1 person, 1 car, 1 truck, 14.0ms\n",
      "Speed: 5.0ms preprocess, 14.0ms inference, 2.0ms postprocess per image at shape (1, 3, 480, 640)\n",
      "\n",
      "0: 480x640 1 person, 1 car, 1 truck, 1 potted plant, 15.0ms\n",
      "Speed: 5.0ms preprocess, 15.0ms inference, 3.0ms postprocess per image at shape (1, 3, 480, 640)\n"
     ]
    },
    {
     "name": "stdout",
     "output_type": "stream",
     "text": [
      "in while loop\n",
      "deepsort output [[ 683    0 1023  748    1]\n",
      " [ 641  532  795  630    2]]\n",
      "in while loop\n",
      "deepsort output [[ 686    0 1022  732    1]\n",
      " [ 638  533  784  627    2]]\n"
     ]
    },
    {
     "name": "stderr",
     "output_type": "stream",
     "text": [
      "\n",
      "0: 480x640 1 person, 1 car, 1 truck, 1 potted plant, 14.0ms\n",
      "Speed: 5.0ms preprocess, 14.0ms inference, 2.0ms postprocess per image at shape (1, 3, 480, 640)\n",
      "\n",
      "0: 480x640 1 person, 1 car, 1 potted plant, 12.0ms\n",
      "Speed: 5.0ms preprocess, 12.0ms inference, 3.0ms postprocess per image at shape (1, 3, 480, 640)\n"
     ]
    },
    {
     "name": "stdout",
     "output_type": "stream",
     "text": [
      "in while loop\n",
      "deepsort output [[ 686    0 1022  728    1]\n",
      " [ 638  533  781  627    2]]\n",
      "in while loop\n",
      "deepsort output [[ 689    0 1021  721    1]\n",
      " [ 636  533  774  625    2]]\n"
     ]
    },
    {
     "name": "stderr",
     "output_type": "stream",
     "text": [
      "\n",
      "0: 480x640 1 person, 1 car, 1 potted plant, 14.0ms\n",
      "Speed: 5.0ms preprocess, 14.0ms inference, 2.0ms postprocess per image at shape (1, 3, 480, 640)\n",
      "\n",
      "0: 480x640 1 person, 1 car, 1 potted plant, 24.0ms\n",
      "Speed: 7.0ms preprocess, 24.0ms inference, 3.0ms postprocess per image at shape (1, 3, 480, 640)\n"
     ]
    },
    {
     "name": "stdout",
     "output_type": "stream",
     "text": [
      "in while loop\n",
      "deepsort output [[636 534 767 622   2]]\n",
      "in while loop\n",
      "deepsort output [[636 535 766 621   2]]\n"
     ]
    },
    {
     "name": "stderr",
     "output_type": "stream",
     "text": [
      "\n",
      "0: 480x640 1 person, 2 cars, 1 umbrella, 1 potted plant, 15.0ms\n",
      "Speed: 7.0ms preprocess, 15.0ms inference, 23.0ms postprocess per image at shape (1, 3, 480, 640)\n",
      "\n",
      "0: 480x640 2 cars, 1 traffic light, 1 parking meter, 12.0ms\n"
     ]
    },
    {
     "name": "stdout",
     "output_type": "stream",
     "text": [
      "in while loop\n",
      "deepsort output [[636 536 761 620   2]]\n",
      "in while loop\n"
     ]
    },
    {
     "name": "stderr",
     "output_type": "stream",
     "text": [
      "Speed: 6.0ms preprocess, 12.0ms inference, 2.0ms postprocess per image at shape (1, 3, 480, 640)\n",
      "\n",
      "0: 480x640 1 person, 2 cars, 1 traffic light, 13.0ms\n",
      "Speed: 6.0ms preprocess, 13.0ms inference, 2.0ms postprocess per image at shape (1, 3, 480, 640)\n"
     ]
    },
    {
     "name": "stdout",
     "output_type": "stream",
     "text": [
      "deepsort output [[635 537 757 618   2]]\n",
      "in while loop\n",
      "deepsort output [[636 537 752 616   2]\n",
      " [896 553 989 583   3]]\n"
     ]
    },
    {
     "name": "stderr",
     "output_type": "stream",
     "text": [
      "\n",
      "0: 480x640 1 person, 2 cars, 1 traffic light, 12.0ms\n",
      "Speed: 5.0ms preprocess, 12.0ms inference, 2.0ms postprocess per image at shape (1, 3, 480, 640)\n",
      "\n",
      "0: 480x640 1 person, 2 cars, 1 traffic light, 13.6ms\n"
     ]
    },
    {
     "name": "stdout",
     "output_type": "stream",
     "text": [
      "in while loop\n",
      "deepsort output [[641 537 750 616   2]\n",
      " [903 553 997 584   3]]\n",
      "in while loop\n"
     ]
    },
    {
     "name": "stderr",
     "output_type": "stream",
     "text": [
      "Speed: 5.0ms preprocess, 13.6ms inference, 2.0ms postprocess per image at shape (1, 3, 480, 640)\n",
      "\n",
      "0: 480x640 1 person, 2 cars, 2 traffic lights, 13.0ms\n",
      "Speed: 5.0ms preprocess, 13.0ms inference, 2.0ms postprocess per image at shape (1, 3, 480, 640)\n"
     ]
    },
    {
     "name": "stdout",
     "output_type": "stream",
     "text": [
      "deepsort output [[ 648  538  748  613    2]\n",
      " [ 910  553 1010  584    3]]\n",
      "in while loop\n",
      "deepsort output [[ 655  539  750  614    2]\n",
      " [ 914  554 1020  585    3]]\n"
     ]
    },
    {
     "name": "stderr",
     "output_type": "stream",
     "text": [
      "\n",
      "0: 480x640 1 person, 1 car, 1 airplane, 1 traffic light, 14.0ms\n",
      "Speed: 5.0ms preprocess, 14.0ms inference, 2.0ms postprocess per image at shape (1, 3, 480, 640)\n"
     ]
    },
    {
     "name": "stdout",
     "output_type": "stream",
     "text": [
      "in while loop\n",
      "deepsort output [[ 664  539  754  613    2]\n",
      " [ 922  555 1023  586    3]]\n",
      "in while loop\n"
     ]
    },
    {
     "name": "stderr",
     "output_type": "stream",
     "text": [
      "\n",
      "0: 480x640 1 person, 2 cars, 2 traffic lights, 13.0ms\n",
      "Speed: 7.0ms preprocess, 13.0ms inference, 2.0ms postprocess per image at shape (1, 3, 480, 640)\n",
      "\n",
      "0: 480x640 1 person, 2 cars, 2 traffic lights, 12.0ms\n",
      "Speed: 5.0ms preprocess, 12.0ms inference, 3.0ms postprocess per image at shape (1, 3, 480, 640)\n"
     ]
    },
    {
     "name": "stdout",
     "output_type": "stream",
     "text": [
      "deepsort output [[ 670  540  756  611    2]\n",
      " [ 929  554 1023  586    3]]\n",
      "in while loop\n",
      "deepsort output [[ 675  541  759  607    2]\n",
      " [ 933  553 1023  586    3]]\n"
     ]
    },
    {
     "name": "stderr",
     "output_type": "stream",
     "text": [
      "\n",
      "0: 480x640 1 person, 3 cars, 2 traffic lights, 1 umbrella, 18.0ms\n",
      "Speed: 6.0ms preprocess, 18.0ms inference, 3.0ms postprocess per image at shape (1, 3, 480, 640)\n",
      "\n"
     ]
    },
    {
     "name": "stdout",
     "output_type": "stream",
     "text": [
      "in while loop\n",
      "deepsort output [[ 679  546  763  604    2]\n",
      " [ 934  553 1023  586    3]]\n",
      "in while loop\n"
     ]
    },
    {
     "name": "stderr",
     "output_type": "stream",
     "text": [
      "0: 480x640 1 person, 2 cars, 2 traffic lights, 1 umbrella, 13.0ms\n",
      "Speed: 6.0ms preprocess, 13.0ms inference, 2.0ms postprocess per image at shape (1, 3, 480, 640)\n",
      "\n"
     ]
    },
    {
     "name": "stdout",
     "output_type": "stream",
     "text": [
      "deepsort output [[ 688  551  769  602    2]\n",
      " [ 935  553 1023  586    3]]\n",
      "in while loop\n"
     ]
    },
    {
     "name": "stderr",
     "output_type": "stream",
     "text": [
      "0: 480x640 1 person, 3 cars, 1 traffic light, 1 umbrella, 14.0ms\n",
      "Speed: 5.0ms preprocess, 14.0ms inference, 2.0ms postprocess per image at shape (1, 3, 480, 640)\n",
      "\n"
     ]
    },
    {
     "name": "stdout",
     "output_type": "stream",
     "text": [
      "deepsort output [[ 700  551  792  599    2]\n",
      " [ 936  554 1023  586    3]]\n",
      "in while loop\n"
     ]
    },
    {
     "name": "stderr",
     "output_type": "stream",
     "text": [
      "0: 480x640 1 person, 3 cars, 1 traffic light, 1 umbrella, 14.0ms\n",
      "Speed: 5.0ms preprocess, 14.0ms inference, 2.0ms postprocess per image at shape (1, 3, 480, 640)\n",
      "\n"
     ]
    },
    {
     "name": "stdout",
     "output_type": "stream",
     "text": [
      "deepsort output [[ 711  551  807  597    2]\n",
      " [ 936  554 1023  587    3]]\n",
      "in while loop\n"
     ]
    },
    {
     "name": "stderr",
     "output_type": "stream",
     "text": [
      "0: 480x640 1 person, 2 cars, 1 umbrella, 14.0ms\n",
      "Speed: 5.0ms preprocess, 14.0ms inference, 2.0ms postprocess per image at shape (1, 3, 480, 640)\n",
      "\n"
     ]
    },
    {
     "name": "stdout",
     "output_type": "stream",
     "text": [
      "deepsort output [[ 725  551  830  596    2]\n",
      " [ 935  554 1023  587    3]]\n",
      "in while loop\n"
     ]
    },
    {
     "name": "stderr",
     "output_type": "stream",
     "text": [
      "0: 480x640 1 person, 2 cars, 1 traffic light, 1 umbrella, 36.0ms\n",
      "Speed: 5.0ms preprocess, 36.0ms inference, 3.0ms postprocess per image at shape (1, 3, 480, 640)\n",
      "\n"
     ]
    },
    {
     "name": "stdout",
     "output_type": "stream",
     "text": [
      "deepsort output [[ 739  549  855  595    2]\n",
      " [ 936  553 1023  586    3]]\n",
      "in while loop\n"
     ]
    },
    {
     "name": "stderr",
     "output_type": "stream",
     "text": [
      "0: 480x640 1 person, 2 cars, 1 umbrella, 16.0ms\n",
      "Speed: 6.0ms preprocess, 16.0ms inference, 2.0ms postprocess per image at shape (1, 3, 480, 640)\n",
      "\n"
     ]
    },
    {
     "name": "stdout",
     "output_type": "stream",
     "text": [
      "deepsort output [[ 938  553  992  584    1]\n",
      " [ 766  548  895  597    2]\n",
      " [ 936  552 1023  585    3]]\n",
      "in while loop\n"
     ]
    },
    {
     "name": "stderr",
     "output_type": "stream",
     "text": [
      "0: 480x640 1 person, 1 car, 1 umbrella, 13.0ms\n",
      "Speed: 6.0ms preprocess, 13.0ms inference, 2.0ms postprocess per image at shape (1, 3, 480, 640)\n"
     ]
    },
    {
     "name": "stdout",
     "output_type": "stream",
     "text": [
      "deepsort output [[988 593 957 576   1]\n",
      " [783 550 911 597   2]]\n",
      "in while loop\n"
     ]
    },
    {
     "name": "stderr",
     "output_type": "stream",
     "text": [
      "\n",
      "0: 480x640 1 person, 1 car, 1 boat, 1 umbrella, 13.0ms\n",
      "Speed: 9.0ms preprocess, 13.0ms inference, 2.0ms postprocess per image at shape (1, 3, 480, 640)\n",
      "\n"
     ]
    },
    {
     "name": "stdout",
     "output_type": "stream",
     "text": [
      "deepsort output [[791 551 880 595   1]\n",
      " [805 551 931 597   2]]\n",
      "in while loop\n"
     ]
    },
    {
     "name": "stderr",
     "output_type": "stream",
     "text": [
      "0: 480x640 1 person, 1 car, 1 umbrella, 34.0ms\n",
      "Speed: 5.0ms preprocess, 34.0ms inference, 2.0ms postprocess per image at shape (1, 3, 480, 640)\n"
     ]
    },
    {
     "name": "stdout",
     "output_type": "stream",
     "text": [
      "deepsort output [[725 551 823 601   1]]\n"
     ]
    },
    {
     "name": "stderr",
     "output_type": "stream",
     "text": [
      "\n",
      "0: 480x640 1 person, 1 car, 1 airplane, 14.0ms\n",
      "Speed: 6.0ms preprocess, 14.0ms inference, 3.0ms postprocess per image at shape (1, 3, 480, 640)\n"
     ]
    },
    {
     "name": "stdout",
     "output_type": "stream",
     "text": [
      "in while loop\n",
      "deepsort output []\n"
     ]
    },
    {
     "name": "stderr",
     "output_type": "stream",
     "text": [
      "\n",
      "0: 480x640 1 person, 2 cars, 14.0ms\n",
      "Speed: 6.0ms preprocess, 14.0ms inference, 3.0ms postprocess per image at shape (1, 3, 480, 640)\n"
     ]
    },
    {
     "name": "stdout",
     "output_type": "stream",
     "text": [
      "in while loop\n",
      "deepsort output [[828 554 873 591   6]]\n"
     ]
    },
    {
     "name": "stderr",
     "output_type": "stream",
     "text": [
      "\n",
      "0: 480x640 1 person, 1 traffic light, 23.0ms\n",
      "Speed: 9.0ms preprocess, 23.0ms inference, 3.0ms postprocess per image at shape (1, 3, 480, 640)\n"
     ]
    },
    {
     "name": "stdout",
     "output_type": "stream",
     "text": [
      "in while loop\n",
      "deepsort output [[839 556 881 591   6]]\n"
     ]
    },
    {
     "name": "stderr",
     "output_type": "stream",
     "text": [
      "\n",
      "0: 480x640 1 person, 1 umbrella, 15.0ms\n",
      "Speed: 6.0ms preprocess, 15.0ms inference, 3.0ms postprocess per image at shape (1, 3, 480, 640)\n"
     ]
    },
    {
     "name": "stdout",
     "output_type": "stream",
     "text": [
      "in while loop\n",
      "deepsort output []\n"
     ]
    },
    {
     "name": "stderr",
     "output_type": "stream",
     "text": [
      "\n",
      "0: 480x640 1 person, 1 umbrella, 39.0ms\n",
      "Speed: 6.0ms preprocess, 39.0ms inference, 2.0ms postprocess per image at shape (1, 3, 480, 640)\n"
     ]
    },
    {
     "name": "stdout",
     "output_type": "stream",
     "text": [
      "in while loop\n",
      "deepsort output []\n"
     ]
    },
    {
     "name": "stderr",
     "output_type": "stream",
     "text": [
      "\n",
      "0: 480x640 1 person, 1 umbrella, 15.0ms\n",
      "Speed: 5.0ms preprocess, 15.0ms inference, 3.0ms postprocess per image at shape (1, 3, 480, 640)\n"
     ]
    },
    {
     "name": "stdout",
     "output_type": "stream",
     "text": [
      "in while loop\n",
      "deepsort output []\n"
     ]
    },
    {
     "name": "stderr",
     "output_type": "stream",
     "text": [
      "\n",
      "0: 480x640 1 person, 1 traffic light, 13.0ms\n",
      "Speed: 5.0ms preprocess, 13.0ms inference, 2.0ms postprocess per image at shape (1, 3, 480, 640)\n"
     ]
    },
    {
     "name": "stdout",
     "output_type": "stream",
     "text": [
      "in while loop\n",
      "deepsort output []\n"
     ]
    },
    {
     "name": "stderr",
     "output_type": "stream",
     "text": [
      "\n",
      "0: 480x640 1 person, 14.0ms\n",
      "Speed: 5.0ms preprocess, 14.0ms inference, 2.0ms postprocess per image at shape (1, 3, 480, 640)\n"
     ]
    },
    {
     "name": "stdout",
     "output_type": "stream",
     "text": [
      "in while loop\n",
      "deepsort output []\n"
     ]
    },
    {
     "name": "stderr",
     "output_type": "stream",
     "text": [
      "\n",
      "0: 480x640 (no detections), 17.0ms\n",
      "Speed: 4.0ms preprocess, 17.0ms inference, 2.0ms postprocess per image at shape (1, 3, 480, 640)\n"
     ]
    },
    {
     "name": "stdout",
     "output_type": "stream",
     "text": [
      "in while loop\n",
      "deepsort output []\n"
     ]
    },
    {
     "name": "stderr",
     "output_type": "stream",
     "text": [
      "\n",
      "0: 480x640 1 person, 19.0ms\n",
      "Speed: 5.0ms preprocess, 19.0ms inference, 3.0ms postprocess per image at shape (1, 3, 480, 640)\n"
     ]
    },
    {
     "name": "stdout",
     "output_type": "stream",
     "text": [
      "in while loop\n",
      "deepsort output []\n"
     ]
    },
    {
     "name": "stderr",
     "output_type": "stream",
     "text": [
      "\n",
      "0: 480x640 1 person, 110.0ms\n",
      "Speed: 6.0ms preprocess, 110.0ms inference, 2.0ms postprocess per image at shape (1, 3, 480, 640)\n"
     ]
    },
    {
     "name": "stdout",
     "output_type": "stream",
     "text": [
      "in while loop\n",
      "deepsort output []\n"
     ]
    },
    {
     "name": "stderr",
     "output_type": "stream",
     "text": [
      "\n",
      "0: 480x640 (no detections), 12.0ms\n",
      "Speed: 6.0ms preprocess, 12.0ms inference, 1.0ms postprocess per image at shape (1, 3, 480, 640)\n"
     ]
    },
    {
     "name": "stdout",
     "output_type": "stream",
     "text": [
      "in while loop\n",
      "deepsort output []\n"
     ]
    },
    {
     "name": "stderr",
     "output_type": "stream",
     "text": [
      "\n",
      "0: 480x640 (no detections), 13.0ms\n",
      "Speed: 5.0ms preprocess, 13.0ms inference, 1.0ms postprocess per image at shape (1, 3, 480, 640)\n"
     ]
    },
    {
     "name": "stdout",
     "output_type": "stream",
     "text": [
      "in while loop\n",
      "deepsort output []\n"
     ]
    },
    {
     "name": "stderr",
     "output_type": "stream",
     "text": [
      "\n",
      "0: 480x640 1 person, 13.0ms\n",
      "Speed: 5.0ms preprocess, 13.0ms inference, 2.0ms postprocess per image at shape (1, 3, 480, 640)\n"
     ]
    },
    {
     "name": "stdout",
     "output_type": "stream",
     "text": [
      "in while loop\n",
      "deepsort output []\n"
     ]
    },
    {
     "name": "stderr",
     "output_type": "stream",
     "text": [
      "\n",
      "0: 480x640 (no detections), 13.0ms\n",
      "Speed: 5.0ms preprocess, 13.0ms inference, 1.0ms postprocess per image at shape (1, 3, 480, 640)\n"
     ]
    },
    {
     "name": "stdout",
     "output_type": "stream",
     "text": [
      "in while loop\n",
      "deepsort output []\n"
     ]
    },
    {
     "name": "stderr",
     "output_type": "stream",
     "text": [
      "\n",
      "0: 480x640 1 car, 13.0ms\n",
      "Speed: 5.7ms preprocess, 13.0ms inference, 3.0ms postprocess per image at shape (1, 3, 480, 640)\n"
     ]
    },
    {
     "name": "stdout",
     "output_type": "stream",
     "text": [
      "in while loop\n",
      "deepsort output [[759 550 850 582   3]]\n"
     ]
    },
    {
     "name": "stderr",
     "output_type": "stream",
     "text": [
      "\n",
      "0: 480x640 1 car, 12.0ms\n",
      "Speed: 5.0ms preprocess, 12.0ms inference, 2.0ms postprocess per image at shape (1, 3, 480, 640)\n"
     ]
    },
    {
     "name": "stdout",
     "output_type": "stream",
     "text": [
      "in while loop\n",
      "deepsort output [[750 551 845 582   3]]\n"
     ]
    },
    {
     "name": "stderr",
     "output_type": "stream",
     "text": [
      "\n",
      "0: 480x640 1 car, 14.0ms\n",
      "Speed: 5.0ms preprocess, 14.0ms inference, 2.0ms postprocess per image at shape (1, 3, 480, 640)\n"
     ]
    },
    {
     "name": "stdout",
     "output_type": "stream",
     "text": [
      "in while loop\n",
      "deepsort output [[733 551 831 582   3]]\n"
     ]
    },
    {
     "name": "stderr",
     "output_type": "stream",
     "text": [
      "\n",
      "0: 480x640 1 car, 1 umbrella, 17.0ms\n",
      "Speed: 6.0ms preprocess, 17.0ms inference, 3.0ms postprocess per image at shape (1, 3, 480, 640)\n"
     ]
    },
    {
     "name": "stdout",
     "output_type": "stream",
     "text": [
      "in while loop\n",
      "deepsort output [[718 551 812 582   3]]\n"
     ]
    },
    {
     "name": "stderr",
     "output_type": "stream",
     "text": [
      "\n",
      "0: 480x640 1 car, 14.0ms\n",
      "Speed: 5.0ms preprocess, 14.0ms inference, 2.0ms postprocess per image at shape (1, 3, 480, 640)\n"
     ]
    },
    {
     "name": "stdout",
     "output_type": "stream",
     "text": [
      "in while loop\n",
      "deepsort output [[715 551 810 582   3]]\n"
     ]
    },
    {
     "name": "stderr",
     "output_type": "stream",
     "text": [
      "\n",
      "0: 480x640 1 car, 12.0ms\n",
      "Speed: 5.0ms preprocess, 12.0ms inference, 2.0ms postprocess per image at shape (1, 3, 480, 640)\n"
     ]
    },
    {
     "name": "stdout",
     "output_type": "stream",
     "text": [
      "in while loop\n",
      "deepsort output [[713 551 807 582   3]]\n"
     ]
    },
    {
     "name": "stderr",
     "output_type": "stream",
     "text": [
      "\n",
      "0: 480x640 1 car, 12.0ms\n",
      "Speed: 6.0ms preprocess, 12.0ms inference, 2.0ms postprocess per image at shape (1, 3, 480, 640)\n"
     ]
    },
    {
     "name": "stdout",
     "output_type": "stream",
     "text": [
      "in while loop\n",
      "deepsort output [[707 551 804 582   3]]\n"
     ]
    },
    {
     "name": "stderr",
     "output_type": "stream",
     "text": [
      "\n",
      "0: 480x640 1 car, 14.0ms\n",
      "Speed: 5.0ms preprocess, 14.0ms inference, 3.0ms postprocess per image at shape (1, 3, 480, 640)\n"
     ]
    },
    {
     "name": "stdout",
     "output_type": "stream",
     "text": [
      "in while loop\n",
      "deepsort output [[700 550 798 583   3]]\n"
     ]
    },
    {
     "name": "stderr",
     "output_type": "stream",
     "text": [
      "\n",
      "0: 480x640 1 car, 13.0ms\n",
      "Speed: 8.0ms preprocess, 13.0ms inference, 2.0ms postprocess per image at shape (1, 3, 480, 640)\n"
     ]
    },
    {
     "name": "stdout",
     "output_type": "stream",
     "text": [
      "in while loop\n",
      "deepsort output [[691 549 788 583   3]]\n"
     ]
    },
    {
     "name": "stderr",
     "output_type": "stream",
     "text": [
      "\n",
      "0: 480x640 1 car, 106.0ms\n",
      "Speed: 7.0ms preprocess, 106.0ms inference, 3.0ms postprocess per image at shape (1, 3, 480, 640)\n"
     ]
    },
    {
     "name": "stdout",
     "output_type": "stream",
     "text": [
      "in while loop\n",
      "deepsort output [[680 550 776 583   3]]\n"
     ]
    },
    {
     "name": "stderr",
     "output_type": "stream",
     "text": [
      "\n",
      "0: 480x640 1 car, 16.0ms\n",
      "Speed: 5.0ms preprocess, 16.0ms inference, 2.0ms postprocess per image at shape (1, 3, 480, 640)\n"
     ]
    },
    {
     "name": "stdout",
     "output_type": "stream",
     "text": [
      "in while loop\n",
      "deepsort output [[659 550 753 583   3]]\n"
     ]
    },
    {
     "name": "stderr",
     "output_type": "stream",
     "text": [
      "\n",
      "0: 480x640 1 car, 13.0ms\n",
      "Speed: 5.0ms preprocess, 13.0ms inference, 3.0ms postprocess per image at shape (1, 3, 480, 640)\n"
     ]
    },
    {
     "name": "stdout",
     "output_type": "stream",
     "text": [
      "in while loop\n",
      "deepsort output [[640 551 728 582   3]]\n"
     ]
    },
    {
     "name": "stderr",
     "output_type": "stream",
     "text": [
      "\n",
      "0: 480x640 1 car, 13.0ms\n",
      "Speed: 6.0ms preprocess, 13.0ms inference, 2.0ms postprocess per image at shape (1, 3, 480, 640)\n"
     ]
    },
    {
     "name": "stdout",
     "output_type": "stream",
     "text": [
      "in while loop\n",
      "deepsort output [[618 551 707 581   3]]\n"
     ]
    },
    {
     "name": "stderr",
     "output_type": "stream",
     "text": [
      "\n",
      "0: 480x640 1 car, 1 umbrella, 14.0ms\n",
      "Speed: 5.0ms preprocess, 14.0ms inference, 2.6ms postprocess per image at shape (1, 3, 480, 640)\n"
     ]
    },
    {
     "name": "stdout",
     "output_type": "stream",
     "text": [
      "in while loop\n",
      "deepsort output [[594 551 682 582   3]]\n"
     ]
    },
    {
     "name": "stderr",
     "output_type": "stream",
     "text": [
      "\n",
      "0: 480x640 2 cars, 13.0ms\n",
      "Speed: 8.0ms preprocess, 13.0ms inference, 2.0ms postprocess per image at shape (1, 3, 480, 640)\n"
     ]
    },
    {
     "name": "stdout",
     "output_type": "stream",
     "text": [
      "in while loop\n",
      "deepsort output [[568 551 658 584   3]]\n"
     ]
    },
    {
     "name": "stderr",
     "output_type": "stream",
     "text": [
      "\n",
      "0: 480x640 3 cars, 17.0ms\n",
      "Speed: 6.0ms preprocess, 17.0ms inference, 3.0ms postprocess per image at shape (1, 3, 480, 640)\n"
     ]
    },
    {
     "name": "stdout",
     "output_type": "stream",
     "text": [
      "in while loop\n",
      "deepsort output [[538 551 632 587   3]\n",
      " [814 555 863 578   6]]\n"
     ]
    },
    {
     "name": "stderr",
     "output_type": "stream",
     "text": [
      "\n",
      "0: 480x640 3 cars, 1 umbrella, 13.0ms\n",
      "Speed: 5.0ms preprocess, 13.0ms inference, 2.0ms postprocess per image at shape (1, 3, 480, 640)\n"
     ]
    },
    {
     "name": "stdout",
     "output_type": "stream",
     "text": [
      "in while loop\n",
      "deepsort output [[507 552 597 587   3]\n",
      " [812 554 861 578   6]\n",
      " [715 555 805 583   7]]\n"
     ]
    },
    {
     "name": "stderr",
     "output_type": "stream",
     "text": [
      "\n",
      "0: 480x640 4 cars, 1 umbrella, 15.0ms\n",
      "Speed: 5.0ms preprocess, 15.0ms inference, 4.0ms postprocess per image at shape (1, 3, 480, 640)\n"
     ]
    },
    {
     "name": "stdout",
     "output_type": "stream",
     "text": [
      "in while loop\n",
      "deepsort output [[478 556 527 587   1]\n",
      " [478 552 570 588   3]\n",
      " [699 554 788 584   7]]\n"
     ]
    },
    {
     "name": "stderr",
     "output_type": "stream",
     "text": [
      "\n",
      "0: 480x640 1 car, 13.0ms\n",
      "Speed: 6.0ms preprocess, 13.0ms inference, 2.0ms postprocess per image at shape (1, 3, 480, 640)\n"
     ]
    },
    {
     "name": "stdout",
     "output_type": "stream",
     "text": [
      "in while loop\n",
      "deepsort output [[499 556 543 583   1]\n",
      " [450 553 542 588   3]\n",
      " [698 554 794 583   7]]\n"
     ]
    },
    {
     "name": "stderr",
     "output_type": "stream",
     "text": [
      "\n",
      "0: 480x640 2 cars, 1 traffic light, 15.0ms\n",
      "Speed: 5.0ms preprocess, 15.0ms inference, 3.0ms postprocess per image at shape (1, 3, 480, 640)\n"
     ]
    },
    {
     "name": "stdout",
     "output_type": "stream",
     "text": [
      "in while loop\n",
      "deepsort output [[698 554 796 583   7]]\n"
     ]
    },
    {
     "name": "stderr",
     "output_type": "stream",
     "text": [
      "\n",
      "0: 480x640 3 cars, 18.0ms\n",
      "Speed: 6.0ms preprocess, 18.0ms inference, 2.0ms postprocess per image at shape (1, 3, 480, 640)\n"
     ]
    },
    {
     "name": "stdout",
     "output_type": "stream",
     "text": [
      "in while loop\n",
      "deepsort output [[424 555 492 595   1]\n",
      " [691 553 785 582   7]]\n"
     ]
    },
    {
     "name": "stderr",
     "output_type": "stream",
     "text": [
      "\n",
      "0: 480x640 2 cars, 13.0ms\n",
      "Speed: 5.0ms preprocess, 13.0ms inference, 4.0ms postprocess per image at shape (1, 3, 480, 640)\n"
     ]
    },
    {
     "name": "stdout",
     "output_type": "stream",
     "text": [
      "in while loop\n",
      "deepsort output [[421 555 490 596   1]\n",
      " [687 554 775 582   7]]\n"
     ]
    },
    {
     "name": "stderr",
     "output_type": "stream",
     "text": [
      "\n",
      "0: 480x640 4 cars, 45.0ms\n",
      "Speed: 5.0ms preprocess, 45.0ms inference, 2.0ms postprocess per image at shape (1, 3, 480, 640)\n"
     ]
    },
    {
     "name": "stdout",
     "output_type": "stream",
     "text": [
      "in while loop\n",
      "deepsort output [[422 556 491 596   1]\n",
      " [752 555 798 579   6]\n",
      " [675 554 763 582   7]]\n"
     ]
    },
    {
     "name": "stderr",
     "output_type": "stream",
     "text": [
      "\n",
      "0: 480x640 3 cars, 1 traffic light, 1 umbrella, 14.0ms\n",
      "Speed: 5.0ms preprocess, 14.0ms inference, 2.0ms postprocess per image at shape (1, 3, 480, 640)\n"
     ]
    },
    {
     "name": "stdout",
     "output_type": "stream",
     "text": [
      "in while loop\n",
      "deepsort output [[423 551 521 597   1]\n",
      " [735 556 795 580   2]\n",
      " [743 556 788 580   6]\n",
      " [654 554 745 582   7]]\n"
     ]
    },
    {
     "name": "stderr",
     "output_type": "stream",
     "text": [
      "\n",
      "0: 480x640 3 cars, 1 traffic light, 13.0ms\n",
      "Speed: 5.0ms preprocess, 13.0ms inference, 2.0ms postprocess per image at shape (1, 3, 480, 640)\n"
     ]
    },
    {
     "name": "stdout",
     "output_type": "stream",
     "text": [
      "in while loop\n",
      "deepsort output [[414 554 498 597   1]\n",
      " [723 555 790 579   2]\n",
      " [634 552 723 582   7]]\n",
      "all actors destroyed\n"
     ]
    }
   ],
   "source": [
    "from yolo_deepsort import main\n",
    "track = main()\n",
    "track()"
   ]
  },
  {
   "cell_type": "code",
   "execution_count": null,
   "id": "0e585fdb-ac1f-4903-b9d6-0b04c1f7d231",
   "metadata": {},
   "outputs": [],
   "source": []
  },
  {
   "cell_type": "code",
   "execution_count": null,
   "id": "838fcfbc-3c23-4199-b118-b3ad4aae06db",
   "metadata": {},
   "outputs": [],
   "source": []
  },
  {
   "cell_type": "code",
   "execution_count": null,
   "id": "d984462a-7106-4658-907f-534e62aa8a32",
   "metadata": {},
   "outputs": [],
   "source": []
  },
  {
   "cell_type": "code",
   "execution_count": null,
   "id": "ccb1273a-b828-4ad9-bd01-d91827607402",
   "metadata": {},
   "outputs": [],
   "source": []
  }
 ],
 "metadata": {
  "kernelspec": {
   "display_name": "Python 3 (ipykernel)",
   "language": "python",
   "name": "python3"
  },
  "language_info": {
   "codemirror_mode": {
    "name": "ipython",
    "version": 3
   },
   "file_extension": ".py",
   "mimetype": "text/x-python",
   "name": "python",
   "nbconvert_exporter": "python",
   "pygments_lexer": "ipython3",
   "version": "3.8.17"
  }
 },
 "nbformat": 4,
 "nbformat_minor": 5
}
