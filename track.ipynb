{
 "cells": [
  {
   "cell_type": "code",
   "execution_count": 1,
   "id": "29ad89f8-379f-45fe-b997-915db4e6a34f",
   "metadata": {},
   "outputs": [
    {
     "name": "stdout",
     "output_type": "stream",
     "text": [
      "after load model\n",
      "in call\n",
      "in while loop\n"
     ]
    },
    {
     "name": "stderr",
     "output_type": "stream",
     "text": [
      "\n",
      "0: 480x640 4 cars, 1 bus, 1 traffic light, 178.0ms\n",
      "Speed: 7.0ms preprocess, 178.0ms inference, 5.0ms postprocess per image at shape (1, 3, 480, 640)\n"
     ]
    },
    {
     "name": "stdout",
     "output_type": "stream",
     "text": [
      "deepsort output []\n"
     ]
    },
    {
     "name": "stderr",
     "output_type": "stream",
     "text": [
      "\n",
      "0: 480x640 1 bicycle, 1 car, 1 motorcycle, 1 bus, 3 traffic lights, 81.0ms\n",
      "Speed: 6.0ms preprocess, 81.0ms inference, 4.0ms postprocess per image at shape (1, 3, 480, 640)\n"
     ]
    },
    {
     "name": "stdout",
     "output_type": "stream",
     "text": [
      "in while loop\n",
      "deepsort output []\n",
      "in while loop\n"
     ]
    },
    {
     "name": "stderr",
     "output_type": "stream",
     "text": [
      "\n",
      "0: 480x640 1 bicycle, 1 car, 1 motorcycle, 1 bus, 2 traffic lights, 1 book, 76.0ms\n",
      "Speed: 5.0ms preprocess, 76.0ms inference, 2.0ms postprocess per image at shape (1, 3, 480, 640)\n",
      "\n",
      "0: 480x640 1 car, 1 motorcycle, 1 bus, 2 traffic lights, 1 parking meter, 1 chair, 53.0ms\n",
      "Speed: 6.0ms preprocess, 53.0ms inference, 2.0ms postprocess per image at shape (1, 3, 480, 640)\n",
      "\n"
     ]
    },
    {
     "name": "stdout",
     "output_type": "stream",
     "text": [
      "[array([670, 563, 703, 586,   3])]\n",
      "deepsort output [[670 563 703 586   3]]\n",
      "bus 3\n",
      "in while loop\n",
      "[array([672, 564, 704, 586,   3])]\n",
      "[array([672, 564, 704, 586,   3]), array([711, 486, 838, 598,   5])]\n",
      "deepsort output [[672 564 704 586   3]\n",
      " [711 486 838 598   5]]\n",
      "bus 3\n",
      "car 5\n",
      "in while loop\n"
     ]
    },
    {
     "name": "stderr",
     "output_type": "stream",
     "text": [
      "0: 480x640 1 car, 1 motorcycle, 1 bus, 2 traffic lights, 1 parking meter, 1 chair, 69.0ms\n",
      "Speed: 5.0ms preprocess, 69.0ms inference, 2.0ms postprocess per image at shape (1, 3, 480, 640)\n",
      "\n",
      "0: 480x640 1 bicycle, 1 car, 1 motorcycle, 1 bus, 2 traffic lights, 1 book, 44.0ms\n",
      "Speed: 5.0ms preprocess, 44.0ms inference, 2.0ms postprocess per image at shape (1, 3, 480, 640)\n",
      "\n",
      "0: 480x640 1 bicycle, 1 car, 1 motorcycle, 1 bus, 2 traffic lights, 1 book, 64.0ms\n"
     ]
    },
    {
     "name": "stdout",
     "output_type": "stream",
     "text": [
      "[array([673, 564, 705, 586,   3])]\n",
      "[array([673, 564, 705, 586,   3]), array([712, 487, 837, 597,   5])]\n",
      "deepsort output [[673 564 705 586   3]\n",
      " [712 487 837 597   5]]\n",
      "bus 3\n",
      "car 5\n",
      "in while loop\n",
      "[array([668, 561, 704, 586,   3])]\n",
      "[array([668, 561, 704, 586,   3]), array([708, 489, 828, 596,   5])]\n",
      "deepsort output [[668 561 704 586   3]\n",
      " [708 489 828 596   5]]\n",
      "bus 3\n",
      "car 5\n",
      "in while loop\n"
     ]
    },
    {
     "name": "stderr",
     "output_type": "stream",
     "text": [
      "Speed: 5.0ms preprocess, 64.0ms inference, 2.0ms postprocess per image at shape (1, 3, 480, 640)\n",
      "\n",
      "0: 480x640 1 car, 1 motorcycle, 1 bus, 2 traffic lights, 48.0ms\n",
      "Speed: 5.0ms preprocess, 48.0ms inference, 2.0ms postprocess per image at shape (1, 3, 480, 640)\n",
      "\n",
      "0: 480x640 1 car, 1 motorcycle, 1 bus, 2 traffic lights, 48.0ms\n",
      "Speed: 6.0ms preprocess, 48.0ms inference, 2.0ms postprocess per image at shape (1, 3, 480, 640)\n",
      "\n"
     ]
    },
    {
     "name": "stdout",
     "output_type": "stream",
     "text": [
      "[array([666, 560, 703, 586,   3])]\n",
      "[array([666, 560, 703, 586,   3]), array([706, 490, 826, 595,   5])]\n",
      "deepsort output [[666 560 703 586   3]\n",
      " [706 490 826 595   5]]\n",
      "bus 3\n",
      "car 5\n",
      "in while loop\n",
      "[array([661, 560, 698, 586,   3])]\n",
      "[array([661, 560, 698, 586,   3]), array([701, 492, 815, 594,   5])]\n",
      "deepsort output [[661 560 698 586   3]\n",
      " [701 492 815 594   5]]\n",
      "bus 3\n",
      "car 5\n",
      "in while loop\n",
      "[array([659, 560, 696, 587,   3])]\n",
      "[array([659, 560, 696, 587,   3]), array([699, 493, 812, 593,   5])]\n",
      "deepsort output [[659 560 696 587   3]\n",
      " [699 493 812 593   5]]\n",
      "bus 3\n",
      "car 5\n",
      "in while loop\n"
     ]
    },
    {
     "name": "stderr",
     "output_type": "stream",
     "text": [
      "0: 480x640 1 car, 1 motorcycle, 1 bus, 2 traffic lights, 44.0ms\n",
      "Speed: 5.0ms preprocess, 44.0ms inference, 2.0ms postprocess per image at shape (1, 3, 480, 640)\n",
      "\n",
      "0: 480x640 1 car, 1 motorcycle, 1 bus, 2 traffic lights, 43.0ms\n",
      "Speed: 6.0ms preprocess, 43.0ms inference, 2.0ms postprocess per image at shape (1, 3, 480, 640)\n",
      "\n",
      "0: 480x640 1 car, 1 motorcycle, 1 bus, 2 traffic lights, 42.0ms\n"
     ]
    },
    {
     "name": "stdout",
     "output_type": "stream",
     "text": [
      "[array([652, 559, 690, 586,   3])]\n",
      "[array([652, 559, 690, 586,   3]), array([690, 494, 801, 592,   5])]\n",
      "deepsort output [[652 559 690 586   3]\n",
      " [690 494 801 592   5]]\n",
      "bus 3\n",
      "car 5\n",
      "in while loop\n",
      "[array([641, 559, 678, 586,   3])]\n",
      "[array([641, 559, 678, 586,   3]), array([676, 495, 785, 592,   5])]\n",
      "deepsort output [[641 559 678 586   3]\n",
      " [676 495 785 592   5]]\n",
      "bus 3\n",
      "car 5\n",
      "in while loop\n"
     ]
    },
    {
     "name": "stderr",
     "output_type": "stream",
     "text": [
      "Speed: 4.0ms preprocess, 42.0ms inference, 2.0ms postprocess per image at shape (1, 3, 480, 640)\n",
      "\n",
      "0: 480x640 1 car, 1 motorcycle, 1 bus, 2 traffic lights, 43.0ms\n",
      "Speed: 6.0ms preprocess, 43.0ms inference, 1.0ms postprocess per image at shape (1, 3, 480, 640)\n",
      "\n",
      "0: 480x640 1 car, 1 bus, 2 traffic lights, 44.0ms\n",
      "Speed: 5.0ms preprocess, 44.0ms inference, 2.0ms postprocess per image at shape (1, 3, 480, 640)\n",
      "\n"
     ]
    },
    {
     "name": "stdout",
     "output_type": "stream",
     "text": [
      "[array([636, 558, 674, 586,   3])]\n",
      "[array([636, 558, 674, 586,   3]), array([672, 496, 780, 592,   5])]\n",
      "deepsort output [[636 558 674 586   3]\n",
      " [672 496 780 592   5]]\n",
      "bus 3\n",
      "car 5\n",
      "in while loop\n",
      "[array([635, 558, 672, 586,   3])]\n",
      "[array([635, 558, 672, 586,   3]), array([670, 496, 778, 592,   5])]\n",
      "deepsort output [[635 558 672 586   3]\n",
      " [670 496 778 592   5]]\n",
      "bus 3\n",
      "car 5\n",
      "in while loop\n",
      "[array([622, 560, 658, 586,   3])]\n",
      "[array([622, 560, 658, 586,   3]), array([655, 497, 760, 592,   5])]\n",
      "deepsort output [[622 560 658 586   3]\n",
      " [655 497 760 592   5]]\n",
      "bus 3\n",
      "car 5\n",
      "in while loop\n"
     ]
    },
    {
     "name": "stderr",
     "output_type": "stream",
     "text": [
      "0: 480x640 1 car, 1 bus, 2 traffic lights, 46.0ms\n",
      "Speed: 6.0ms preprocess, 46.0ms inference, 2.0ms postprocess per image at shape (1, 3, 480, 640)\n",
      "\n",
      "0: 480x640 1 car, 1 bus, 2 traffic lights, 41.5ms\n",
      "Speed: 5.0ms preprocess, 41.5ms inference, 2.0ms postprocess per image at shape (1, 3, 480, 640)\n",
      "\n"
     ]
    },
    {
     "name": "stdout",
     "output_type": "stream",
     "text": [
      "[array([618, 560, 652, 586,   3])]\n",
      "[array([618, 560, 652, 586,   3]), array([650, 498, 753, 591,   5])]\n",
      "deepsort output [[618 560 652 586   3]\n",
      " [650 498 753 591   5]]\n",
      "bus 3\n",
      "car 5\n",
      "in while loop\n",
      "[array([614, 560, 648, 586,   3])]\n",
      "[array([614, 560, 648, 586,   3]), array([632, 499, 732, 591,   5])]\n",
      "deepsort output [[614 560 648 586   3]\n",
      " [632 499 732 591   5]]\n",
      "bus 3\n",
      "car 5\n",
      "in while loop\n"
     ]
    },
    {
     "name": "stderr",
     "output_type": "stream",
     "text": [
      "0: 480x640 1 car, 1 bus, 2 traffic lights, 61.0ms\n",
      "Speed: 5.0ms preprocess, 61.0ms inference, 2.0ms postprocess per image at shape (1, 3, 480, 640)\n",
      "\n",
      "0: 480x640 1 car, 1 bus, 3 traffic lights, 43.0ms\n",
      "Speed: 7.0ms preprocess, 43.0ms inference, 1.0ms postprocess per image at shape (1, 3, 480, 640)\n",
      "\n",
      "0: 480x640 1 car, 1 bus, 3 traffic lights, 45.0ms\n",
      "Speed: 6.0ms preprocess, 45.0ms inference, 2.0ms postprocess per image at shape (1, 3, 480, 640)\n",
      "\n"
     ]
    },
    {
     "name": "stdout",
     "output_type": "stream",
     "text": [
      "[array([626, 499, 725, 590,   5])]\n",
      "deepsort output [[626 499 725 590   5]]\n",
      "bus 5\n",
      "in while loop\n",
      "[array([607, 500, 703, 590,   5])]\n",
      "deepsort output [[607 500 703 590   5]]\n",
      "bus 5\n",
      "in while loop\n",
      "[array([600, 501, 695, 590,   5])]\n",
      "deepsort output [[600 501 695 590   5]]\n",
      "bus 5\n",
      "in while loop\n"
     ]
    },
    {
     "name": "stderr",
     "output_type": "stream",
     "text": [
      "0: 480x640 3 cars, 1 bus, 3 traffic lights, 41.0ms\n",
      "Speed: 5.0ms preprocess, 41.0ms inference, 2.0ms postprocess per image at shape (1, 3, 480, 640)\n",
      "\n",
      "0: 480x640 2 cars, 1 bus, 2 traffic lights, 44.0ms\n",
      "Speed: 6.0ms preprocess, 44.0ms inference, 1.0ms postprocess per image at shape (1, 3, 480, 640)\n",
      "\n"
     ]
    },
    {
     "name": "stdout",
     "output_type": "stream",
     "text": [
      "[array([580, 502, 671, 590,   5])]\n",
      "deepsort output [[580 502 671 590   5]]\n",
      "car 5\n",
      "in while loop\n",
      "[array([552, 502, 642, 589,   5])]\n",
      "deepsort output [[552 502 642 589   5]]\n",
      "car 5\n",
      "in while loop\n"
     ]
    },
    {
     "name": "stderr",
     "output_type": "stream",
     "text": [
      "0: 480x640 2 cars, 1 bus, 2 traffic lights, 63.0ms\n",
      "Speed: 6.0ms preprocess, 63.0ms inference, 2.4ms postprocess per image at shape (1, 3, 480, 640)\n",
      "\n",
      "0: 480x640 3 cars, 1 bus, 1 traffic light, 42.0ms\n",
      "Speed: 5.0ms preprocess, 42.0ms inference, 2.0ms postprocess per image at shape (1, 3, 480, 640)\n",
      "\n"
     ]
    },
    {
     "name": "stdout",
     "output_type": "stream",
     "text": [
      "[array([543, 502, 631, 588,   5])]\n",
      "deepsort output [[543 502 631 588   5]]\n",
      "car 5\n",
      "in while loop\n",
      "[array([519, 501, 607, 589,   5])]\n",
      "deepsort output [[519 501 607 589   5]]\n",
      "bus 5\n",
      "in while loop\n"
     ]
    },
    {
     "name": "stderr",
     "output_type": "stream",
     "text": [
      "0: 480x640 3 cars, 1 bus, 1 traffic light, 44.0ms\n",
      "Speed: 9.0ms preprocess, 44.0ms inference, 2.0ms postprocess per image at shape (1, 3, 480, 640)\n",
      "\n",
      "0: 480x640 2 cars, 1 bus, 1 traffic light, 1 bench, 47.0ms\n",
      "Speed: 5.0ms preprocess, 47.0ms inference, 2.0ms postprocess per image at shape (1, 3, 480, 640)\n",
      "\n",
      "0: 480x640 3 cars, 1 bus, 5 traffic lights, 1 bench, 43.0ms\n"
     ]
    },
    {
     "name": "stdout",
     "output_type": "stream",
     "text": [
      "[array([511, 500, 599, 589,   5])]\n",
      "deepsort output [[511 500 599 589   5]]\n",
      "bus 5\n",
      "in while loop\n",
      "[array([485, 498, 574, 590,   5])]\n",
      "deepsort output [[485 498 574 590   5]]\n",
      "bus 5\n",
      "in while loop\n"
     ]
    },
    {
     "name": "stderr",
     "output_type": "stream",
     "text": [
      "Speed: 6.0ms preprocess, 43.0ms inference, 2.0ms postprocess per image at shape (1, 3, 480, 640)\n",
      "\n",
      "0: 480x640 3 cars, 1 bus, 5 traffic lights, 1 bench, 45.0ms\n",
      "Speed: 5.0ms preprocess, 45.0ms inference, 2.0ms postprocess per image at shape (1, 3, 480, 640)\n",
      "\n",
      "0: 480x640 2 cars, 1 bus, 1 bench, 45.0ms\n"
     ]
    },
    {
     "name": "stdout",
     "output_type": "stream",
     "text": [
      "[array([454, 497, 544, 591,   5])]\n",
      "deepsort output [[454 497 544 591   5]]\n",
      "car 5\n",
      "in while loop\n",
      "[array([444, 496, 533, 591,   5])]\n",
      "[array([444, 496, 533, 591,   5]), array([  0, 552, 190, 628,  15])]\n",
      "deepsort output [[444 496 533 591   5]\n",
      " [  0 552 190 628  15]]\n",
      "car 5\n",
      "car 15\n",
      "in while loop\n"
     ]
    },
    {
     "name": "stderr",
     "output_type": "stream",
     "text": [
      "Speed: 5.0ms preprocess, 45.0ms inference, 2.0ms postprocess per image at shape (1, 3, 480, 640)\n",
      "\n",
      "0: 480x640 2 cars, 1 bus, 1 bench, 66.0ms\n",
      "Speed: 5.0ms preprocess, 66.0ms inference, 2.0ms postprocess per image at shape (1, 3, 480, 640)\n",
      "\n"
     ]
    },
    {
     "name": "stdout",
     "output_type": "stream",
     "text": [
      "[array([420, 494, 510, 591,   5])]\n",
      "[array([420, 494, 510, 591,   5]), array([  0, 553, 146, 625,  15])]\n",
      "deepsort output [[420 494 510 591   5]\n",
      " [  0 553 146 625  15]]\n",
      "bus 5\n",
      "car 15\n",
      "in while loop\n",
      "[array([412, 494, 502, 591,   5])]\n",
      "[array([412, 494, 502, 591,   5]), array([  0, 553, 130, 624,  15])]\n",
      "deepsort output [[412 494 502 591   5]\n",
      " [  0 553 130 624  15]]\n",
      "bus 5\n",
      "car 15\n",
      "in while loop\n"
     ]
    },
    {
     "name": "stderr",
     "output_type": "stream",
     "text": [
      "0: 480x640 1 car, 1 bus, 1 traffic light, 1 bench, 47.0ms\n",
      "Speed: 5.0ms preprocess, 47.0ms inference, 3.0ms postprocess per image at shape (1, 3, 480, 640)\n",
      "\n",
      "0: 480x640 1 car, 1 bus, 1 traffic light, 1 bench, 65.0ms\n",
      "Speed: 7.0ms preprocess, 65.0ms inference, 2.0ms postprocess per image at shape (1, 3, 480, 640)\n",
      "\n",
      "0: 480x640 2 cars, 1 bus, 1 bench, 44.0ms\n"
     ]
    },
    {
     "name": "stdout",
     "output_type": "stream",
     "text": [
      "[array([388, 491, 480, 593,   5])]\n",
      "[array([388, 491, 480, 593,   5]), array([  0, 553, 111, 625,  15])]\n",
      "deepsort output [[388 491 480 593   5]\n",
      " [  0 553 111 625  15]]\n",
      "bus 5\n",
      "car 15\n",
      "in while loop\n",
      "[array([380, 491, 471, 593,   5])]\n",
      "deepsort output [[380 491 471 593   5]]\n",
      "bus 5\n",
      "in while loop\n"
     ]
    },
    {
     "name": "stderr",
     "output_type": "stream",
     "text": [
      "Speed: 5.0ms preprocess, 44.0ms inference, 2.0ms postprocess per image at shape (1, 3, 480, 640)\n",
      "\n",
      "0: 480x640 2 cars, 1 bus, 1 bench, 62.0ms\n",
      "Speed: 5.0ms preprocess, 62.0ms inference, 2.0ms postprocess per image at shape (1, 3, 480, 640)\n",
      "\n",
      "0: 480x640 1 car, 1 bus, 3 traffic lights, 42.0ms\n"
     ]
    },
    {
     "name": "stdout",
     "output_type": "stream",
     "text": [
      "[array([354, 488, 449, 595,   5])]\n",
      "deepsort output [[354 488 449 595   5]]\n",
      "bus 5\n",
      "in while loop\n",
      "[array([345, 488, 441, 596,   5])]\n",
      "deepsort output [[345 488 441 596   5]]\n",
      "bus 5\n",
      "in while loop\n"
     ]
    },
    {
     "name": "stderr",
     "output_type": "stream",
     "text": [
      "Speed: 5.0ms preprocess, 42.0ms inference, 2.0ms postprocess per image at shape (1, 3, 480, 640)\n",
      "\n",
      "0: 480x640 1 car, 1 bus, 3 traffic lights, 47.0ms\n",
      "Speed: 7.0ms preprocess, 47.0ms inference, 2.0ms postprocess per image at shape (1, 3, 480, 640)\n",
      "\n",
      "0: 480x640 2 cars, 1 bus, 44.0ms\n",
      "Speed: 6.0ms preprocess, 44.0ms inference, 2.0ms postprocess per image at shape (1, 3, 480, 640)\n",
      "\n"
     ]
    },
    {
     "name": "stdout",
     "output_type": "stream",
     "text": [
      "[array([318, 483, 421, 599,   5])]\n",
      "deepsort output [[318 483 421 599   5]]\n",
      "bus 5\n",
      "in while loop\n",
      "[array([308, 482, 413, 600,   5])]\n",
      "deepsort output [[308 482 413 600   5]]\n",
      "bus 5\n",
      "in while loop\n",
      "[array([284, 477, 397, 603,   5])]\n",
      "[array([284, 477, 397, 603,   5]), array([229, 559, 285, 596,  23])]\n",
      "deepsort output [[284 477 397 603   5]\n",
      " [229 559 285 596  23]]\n",
      "bus 5\n",
      "car 23\n",
      "in while loop\n"
     ]
    },
    {
     "name": "stderr",
     "output_type": "stream",
     "text": [
      "0: 480x640 2 cars, 1 bus, 1 traffic light, 48.0ms\n",
      "Speed: 6.0ms preprocess, 48.0ms inference, 2.0ms postprocess per image at shape (1, 3, 480, 640)\n",
      "\n",
      "0: 480x640 2 cars, 1 bus, 1 traffic light, 41.0ms\n",
      "Speed: 6.0ms preprocess, 41.0ms inference, 2.0ms postprocess per image at shape (1, 3, 480, 640)\n",
      "\n",
      "0: 480x640 2 cars, 1 bus, 1 traffic light, 45.0ms\n",
      "Speed: 7.0ms preprocess, 45.0ms inference, 2.0ms postprocess per image at shape (1, 3, 480, 640)\n",
      "\n"
     ]
    },
    {
     "name": "stdout",
     "output_type": "stream",
     "text": [
      "[array([256, 469, 378, 606,   5])]\n",
      "[array([256, 469, 378, 606,   5]), array([200, 558, 259, 598,  23])]\n",
      "deepsort output [[256 469 378 606   5]\n",
      " [200 558 259 598  23]]\n",
      "bus 5\n",
      "car 23\n",
      "in while loop\n",
      "[array([245, 466, 371, 607,   5])]\n",
      "[array([245, 466, 371, 607,   5]), array([190, 557, 251, 599,  23])]\n",
      "[array([245, 466, 371, 607,   5]), array([190, 557, 251, 599,  23]), array([368, 554, 421, 584,  24])]\n",
      "deepsort output [[245 466 371 607   5]\n",
      " [190 557 251 599  23]\n",
      " [368 554 421 584  24]]\n",
      "bus 5\n",
      "car 23\n",
      "car 24\n",
      "in while loop\n",
      "[array([241, 465, 369, 607,   5])]\n",
      "[array([241, 465, 369, 607,   5]), array([188, 557, 249, 599,  23])]\n",
      "[array([241, 465, 369, 607,   5]), array([188, 557, 249, 599,  23]), array([368, 554, 420, 584,  24])]\n",
      "deepsort output [[241 465 369 607   5]\n",
      " [188 557 249 599  23]\n",
      " [368 554 420 584  24]]\n",
      "bus 5\n",
      "car 23\n",
      "car 24\n",
      "in while loop\n"
     ]
    },
    {
     "name": "stderr",
     "output_type": "stream",
     "text": [
      "0: 480x640 2 cars, 1 bus, 51.0ms\n",
      "Speed: 5.0ms preprocess, 51.0ms inference, 2.0ms postprocess per image at shape (1, 3, 480, 640)\n",
      "\n",
      "0: 480x640 2 cars, 1 bus, 43.0ms\n",
      "Speed: 7.0ms preprocess, 43.0ms inference, 2.0ms postprocess per image at shape (1, 3, 480, 640)\n",
      "\n",
      "0: 480x640 2 cars, 1 bus, 1 traffic light, 45.0ms\n",
      "Speed: 5.0ms preprocess, 45.0ms inference, 2.0ms postprocess per image at shape (1, 3, 480, 640)\n"
     ]
    },
    {
     "name": "stdout",
     "output_type": "stream",
     "text": [
      "[array([221, 459, 358, 610,   5])]\n",
      "[array([221, 459, 358, 610,   5]), array([170, 558, 231, 600,  23])]\n",
      "[array([221, 459, 358, 610,   5]), array([170, 558, 231, 600,  23]), array([364, 554, 419, 584,  24])]\n",
      "deepsort output [[221 459 358 610   5]\n",
      " [170 558 231 600  23]\n",
      " [364 554 419 584  24]]\n",
      "bus 5\n",
      "car 23\n",
      "car 24\n",
      "in while loop\n",
      "[array([214, 457, 354, 611,   5])]\n",
      "[array([214, 457, 354, 611,   5]), array([164, 558, 225, 601,  23])]\n",
      "[array([214, 457, 354, 611,   5]), array([164, 558, 225, 601,  23]), array([362, 553, 418, 585,  24])]\n",
      "deepsort output [[214 457 354 611   5]\n",
      " [164 558 225 601  23]\n",
      " [362 553 418 585  24]]\n",
      "bus 5\n",
      "car 23\n",
      "car 24\n",
      "in while loop\n",
      "[array([196, 451, 347, 614,   5])]\n",
      "[array([196, 451, 347, 614,   5]), array([152, 563, 206, 601,  23])]\n",
      "[array([196, 451, 347, 614,   5]), array([152, 563, 206, 601,  23]), array([357, 553, 416, 585,  24])]\n",
      "deepsort output [[196 451 347 614   5]\n",
      " [152 563 206 601  23]\n",
      " [357 553 416 585  24]]\n",
      "bus 5\n",
      "car 23\n",
      "car 24\n",
      "in while loop\n"
     ]
    },
    {
     "name": "stderr",
     "output_type": "stream",
     "text": [
      "\n",
      "0: 480x640 2 cars, 1 bus, 1 traffic light, 54.0ms\n",
      "Speed: 6.0ms preprocess, 54.0ms inference, 2.0ms postprocess per image at shape (1, 3, 480, 640)\n",
      "\n",
      "0: 480x640 3 cars, 1 bus, 47.0ms\n",
      "Speed: 6.0ms preprocess, 47.0ms inference, 2.0ms postprocess per image at shape (1, 3, 480, 640)\n",
      "\n",
      "0: 480x640 3 cars, 1 bus, 44.0ms\n",
      "Speed: 6.0ms preprocess, 44.0ms inference, 2.0ms postprocess per image at shape (1, 3, 480, 640)\n"
     ]
    },
    {
     "name": "stdout",
     "output_type": "stream",
     "text": [
      "[array([189, 448, 345, 615,   5])]\n",
      "[array([189, 448, 345, 615,   5]), array([148, 565, 199, 601,  23])]\n",
      "[array([189, 448, 345, 615,   5]), array([148, 565, 199, 601,  23]), array([356, 552, 416, 586,  24])]\n",
      "deepsort output [[189 448 345 615   5]\n",
      " [148 565 199 601  23]\n",
      " [356 552 416 586  24]]\n",
      "bus 5\n",
      "car 23\n",
      "car 24\n",
      "in while loop\n",
      "[array([178, 442, 344, 619,   5])]\n",
      "[array([178, 442, 344, 619,   5]), array([145, 568, 191, 602,  23])]\n",
      "[array([178, 442, 344, 619,   5]), array([145, 568, 191, 602,  23]), array([358, 553, 418, 586,  24])]\n",
      "deepsort output [[178 442 344 619   5]\n",
      " [145 568 191 602  23]\n",
      " [358 553 418 586  24]]\n",
      "bus 5\n",
      "car 23\n",
      "car 24\n",
      "in while loop\n",
      "[array([173, 439, 344, 620,   5])]\n",
      "[array([173, 439, 344, 620,   5]), array([145, 570, 188, 603,  23])]\n",
      "[array([173, 439, 344, 620,   5]), array([145, 570, 188, 603,  23]), array([359, 553, 419, 587,  24])]\n",
      "deepsort output [[173 439 344 620   5]\n",
      " [145 570 188 603  23]\n",
      " [359 553 419 587  24]]\n",
      "bus 5\n",
      "car 23\n",
      "car 24\n",
      "in while loop\n"
     ]
    },
    {
     "name": "stderr",
     "output_type": "stream",
     "text": [
      "\n",
      "0: 480x640 2 cars, 1 bus, 1 truck, 42.0ms\n",
      "Speed: 5.0ms preprocess, 42.0ms inference, 2.0ms postprocess per image at shape (1, 3, 480, 640)\n",
      "\n",
      "0: 480x640 2 cars, 1 bus, 1 truck, 44.0ms\n",
      "Speed: 6.0ms preprocess, 44.0ms inference, 3.0ms postprocess per image at shape (1, 3, 480, 640)\n",
      "\n",
      "0: 480x640 1 person, 3 cars, 1 bus, 1 truck, 1 stop sign, 43.0ms\n",
      "Speed: 5.0ms preprocess, 43.0ms inference, 2.0ms postprocess per image at shape (1, 3, 480, 640)\n"
     ]
    },
    {
     "name": "stdout",
     "output_type": "stream",
     "text": [
      "[array([168, 435, 347, 622,   5])]\n",
      "[array([168, 435, 347, 622,   5]), array([137, 571, 179, 603,  23])]\n",
      "[array([168, 435, 347, 622,   5]), array([137, 571, 179, 603,  23]), array([364, 553, 426, 587,  24])]\n",
      "deepsort output [[168 435 347 622   5]\n",
      " [137 571 179 603  23]\n",
      " [364 553 426 587  24]]\n",
      "bus 5\n",
      "car 23\n",
      "truck 24\n",
      "in while loop\n",
      "[array([165, 433, 348, 623,   5])]\n",
      "[array([165, 433, 348, 623,   5]), array([367, 552, 429, 588,  24])]\n",
      "deepsort output [[165 433 348 623   5]\n",
      " [367 552 429 588  24]]\n",
      "bus 5\n",
      "car 24\n",
      "in while loop\n",
      "[array([162, 427, 352, 623,   5])]\n",
      "[array([162, 427, 352, 623,   5]), array([375, 552, 440, 588,  24])]\n",
      "[array([162, 427, 352, 623,   5]), array([375, 552, 440, 588,  24]), array([380, 552, 438, 588,  27])]\n",
      "deepsort output [[162 427 352 623   5]\n",
      " [375 552 440 588  24]\n",
      " [380 552 438 588  27]]\n",
      "bus 5\n",
      "truck 24\n",
      "car 27\n",
      "in while loop\n"
     ]
    },
    {
     "name": "stderr",
     "output_type": "stream",
     "text": [
      "\n",
      "0: 480x640 1 person, 3 cars, 1 bus, 1 truck, 1 stop sign, 46.0ms\n",
      "Speed: 7.0ms preprocess, 46.0ms inference, 2.0ms postprocess per image at shape (1, 3, 480, 640)\n",
      "\n",
      "0: 480x640 2 cars, 1 bus, 1 truck, 41.0ms\n",
      "Speed: 6.0ms preprocess, 41.0ms inference, 2.0ms postprocess per image at shape (1, 3, 480, 640)\n",
      "\n",
      "0: 480x640 1 car, 1 bus, 1 truck, 46.0ms\n",
      "Speed: 6.0ms preprocess, 46.0ms inference, 3.0ms postprocess per image at shape (1, 3, 480, 640)\n"
     ]
    },
    {
     "name": "stdout",
     "output_type": "stream",
     "text": [
      "[array([161, 425, 355, 623,   5])]\n",
      "[array([161, 425, 355, 623,   5]), array([379, 552, 443, 589,  24])]\n",
      "[array([161, 425, 355, 623,   5]), array([379, 552, 443, 589,  24]), array([382, 551, 442, 589,  27])]\n",
      "deepsort output [[161 425 355 623   5]\n",
      " [379 552 443 589  24]\n",
      " [382 551 442 589  27]]\n",
      "bus 5\n",
      "truck 24\n",
      "car 27\n",
      "in while loop\n",
      "[array([161, 420, 365, 628,   5])]\n",
      "[array([161, 420, 365, 628,   5]), array([391, 551, 455, 588,  24])]\n",
      "[array([161, 420, 365, 628,   5]), array([391, 551, 455, 588,  24]), array([395, 551, 454, 588,  27])]\n",
      "deepsort output [[161 420 365 628   5]\n",
      " [391 551 455 588  24]\n",
      " [395 551 454 588  27]]\n",
      "bus 5\n",
      "truck 24\n",
      "car 27\n",
      "in while loop\n",
      "[array([424, 552, 476, 589,   3])]\n",
      "[array([424, 552, 476, 589,   3]), array([170, 415, 383, 631,   5])]\n",
      "[array([424, 552, 476, 589,   3]), array([170, 415, 383, 631,   5]), array([393, 551, 458, 588,  24])]\n",
      "[array([424, 552, 476, 589,   3]), array([170, 415, 383, 631,   5]), array([393, 551, 458, 588,  24]), array([401, 551, 461, 588,  27])]\n",
      "deepsort output [[424 552 476 589   3]\n",
      " [170 415 383 631   5]\n",
      " [393 551 458 588  24]\n",
      " [401 551 461 588  27]]\n",
      "bus 3\n",
      "truck 5\n",
      "car 24\n",
      "in while loop\n"
     ]
    },
    {
     "name": "stderr",
     "output_type": "stream",
     "text": [
      "\n",
      "0: 480x640 1 car, 1 bus, 1 truck, 44.0ms\n",
      "Speed: 5.0ms preprocess, 44.0ms inference, 2.0ms postprocess per image at shape (1, 3, 480, 640)\n",
      "\n",
      "0: 480x640 1 car, 1 bus, 1 truck, 45.0ms\n",
      "Speed: 8.0ms preprocess, 45.0ms inference, 2.0ms postprocess per image at shape (1, 3, 480, 640)\n",
      "\n",
      "0: 480x640 1 car, 1 bus, 1 truck, 41.0ms\n",
      "Speed: 6.0ms preprocess, 41.0ms inference, 2.0ms postprocess per image at shape (1, 3, 480, 640)\n",
      "\n"
     ]
    },
    {
     "name": "stdout",
     "output_type": "stream",
     "text": [
      "[array([422, 551, 474, 589,   3])]\n",
      "[array([422, 551, 474, 589,   3]), array([174, 413, 391, 632,   5])]\n",
      "deepsort output [[422 551 474 589   3]\n",
      " [174 413 391 632   5]]\n",
      "bus 3\n",
      "truck 5\n",
      "in while loop\n",
      "[array([421, 551, 474, 589,   3])]\n",
      "[array([421, 551, 474, 589,   3]), array([175, 412, 394, 632,   5])]\n",
      "deepsort output [[421 551 474 589   3]\n",
      " [175 412 394 632   5]]\n",
      "bus 3\n",
      "truck 5\n",
      "in while loop\n",
      "[array([416, 551, 470, 589,   3])]\n",
      "[array([416, 551, 470, 589,   3]), array([188, 409, 411, 634,   5])]\n",
      "deepsort output [[416 551 470 589   3]\n",
      " [188 409 411 634   5]]\n",
      "bus 3\n",
      "truck 5\n",
      "in while loop\n"
     ]
    },
    {
     "name": "stderr",
     "output_type": "stream",
     "text": [
      "0: 480x640 1 car, 1 bus, 1 truck, 61.0ms\n",
      "Speed: 5.0ms preprocess, 61.0ms inference, 2.0ms postprocess per image at shape (1, 3, 480, 640)\n",
      "\n",
      "0: 480x640 1 person, 1 bus, 1 truck, 43.0ms\n",
      "Speed: 5.0ms preprocess, 43.0ms inference, 2.0ms postprocess per image at shape (1, 3, 480, 640)\n",
      "\n",
      "0: 480x640 1 person, 1 bus, 1 truck, 46.0ms\n",
      "Speed: 7.0ms preprocess, 46.0ms inference, 2.0ms postprocess per image at shape (1, 3, 480, 640)\n"
     ]
    },
    {
     "name": "stdout",
     "output_type": "stream",
     "text": [
      "[array([193, 408, 418, 634,   5])]\n",
      "[array([193, 408, 418, 634,   5]), array([442, 551, 502, 589,  27])]\n",
      "deepsort output [[193 408 418 634   5]\n",
      " [442 551 502 589  27]]\n",
      "bus 5\n",
      "truck 27\n",
      "in while loop\n",
      "[array([207, 407, 433, 634,   5])]\n",
      "[array([207, 407, 433, 634,   5]), array([459, 551, 520, 589,  27])]\n",
      "deepsort output [[207 407 433 634   5]\n",
      " [459 551 520 589  27]]\n",
      "bus 5\n",
      "truck 27\n",
      "in while loop\n",
      "[array([212, 406, 439, 634,   5])]\n",
      "[array([212, 406, 439, 634,   5]), array([465, 551, 526, 590,  27])]\n",
      "deepsort output [[212 406 439 634   5]\n",
      " [465 551 526 590  27]]\n",
      "bus 5\n",
      "truck 27\n"
     ]
    },
    {
     "name": "stderr",
     "output_type": "stream",
     "text": [
      "\n",
      "0: 480x640 1 car, 1 bus, 1 truck, 46.0ms\n",
      "Speed: 6.0ms preprocess, 46.0ms inference, 2.0ms postprocess per image at shape (1, 3, 480, 640)\n",
      "\n",
      "0: 480x640 1 car, 1 bus, 1 truck, 46.0ms\n",
      "Speed: 8.0ms preprocess, 46.0ms inference, 2.0ms postprocess per image at shape (1, 3, 480, 640)\n"
     ]
    },
    {
     "name": "stdout",
     "output_type": "stream",
     "text": [
      "in while loop\n",
      "[array([223, 406, 448, 633,   5])]\n",
      "[array([223, 406, 448, 633,   5]), array([472, 551, 531, 589,  27])]\n",
      "deepsort output [[223 406 448 633   5]\n",
      " [472 551 531 589  27]]\n",
      "bus 5\n",
      "truck 27\n",
      "in while loop\n",
      "[array([227, 406, 451, 633,   5])]\n",
      "[array([227, 406, 451, 633,   5]), array([474, 551, 532, 589,  27])]\n",
      "deepsort output [[227 406 451 633   5]\n",
      " [474 551 532 589  27]]\n",
      "bus 5\n",
      "truck 27\n",
      "in while loop\n"
     ]
    },
    {
     "name": "stderr",
     "output_type": "stream",
     "text": [
      "\n",
      "0: 480x640 1 car, 1 bus, 1 truck, 42.0ms\n",
      "Speed: 6.0ms preprocess, 42.0ms inference, 2.0ms postprocess per image at shape (1, 3, 480, 640)\n",
      "\n",
      "0: 480x640 1 car, 1 bus, 1 truck, 45.0ms\n",
      "Speed: 7.0ms preprocess, 45.0ms inference, 2.0ms postprocess per image at shape (1, 3, 480, 640)\n",
      "\n",
      "0: 480x640 1 person, 2 cars, 1 bus, 1 truck, 41.0ms\n"
     ]
    },
    {
     "name": "stdout",
     "output_type": "stream",
     "text": [
      "[array([235, 406, 459, 633,   5])]\n",
      "[array([235, 406, 459, 633,   5]), array([480, 551, 539, 589,  27])]\n",
      "[array([235, 406, 459, 633,   5]), array([480, 551, 539, 589,  27]), array([462, 562, 483, 580,  33])]\n",
      "deepsort output [[235 406 459 633   5]\n",
      " [480 551 539 589  27]\n",
      " [462 562 483 580  33]]\n",
      "bus 5\n",
      "truck 27\n",
      "car 33\n",
      "in while loop\n",
      "[array([238, 406, 461, 633,   5])]\n",
      "[array([238, 406, 461, 633,   5]), array([482, 551, 541, 589,  27])]\n",
      "[array([238, 406, 461, 633,   5]), array([482, 551, 541, 589,  27]), array([463, 563, 484, 581,  33])]\n",
      "deepsort output [[238 406 461 633   5]\n",
      " [482 551 541 589  27]\n",
      " [463 563 484 581  33]]\n",
      "bus 5\n",
      "truck 27\n",
      "car 33\n",
      "in while loop\n"
     ]
    },
    {
     "name": "stderr",
     "output_type": "stream",
     "text": [
      "Speed: 5.0ms preprocess, 41.0ms inference, 2.0ms postprocess per image at shape (1, 3, 480, 640)\n",
      "\n",
      "0: 480x640 1 person, 2 cars, 1 bus, 1 truck, 46.0ms\n",
      "Speed: 8.0ms preprocess, 46.0ms inference, 2.0ms postprocess per image at shape (1, 3, 480, 640)\n",
      "\n",
      "0: 480x640 1 person, 2 cars, 1 bus, 1 truck, 43.0ms\n",
      "Speed: 5.0ms preprocess, 43.0ms inference, 2.0ms postprocess per image at shape (1, 3, 480, 640)\n"
     ]
    },
    {
     "name": "stdout",
     "output_type": "stream",
     "text": [
      "[array([245, 406, 468, 634,   5])]\n",
      "[array([245, 406, 468, 634,   5]), array([486, 551, 546, 590,  27])]\n",
      "[array([245, 406, 468, 634,   5]), array([486, 551, 546, 590,  27]), array([470, 563, 490, 580,  33])]\n",
      "deepsort output [[245 406 468 634   5]\n",
      " [486 551 546 590  27]\n",
      " [470 563 490 580  33]]\n",
      "bus 5\n",
      "car 27\n",
      "truck 33\n",
      "in while loop\n",
      "[array([248, 406, 470, 634,   5])]\n",
      "[array([248, 406, 470, 634,   5]), array([488, 551, 547, 590,  27])]\n",
      "[array([248, 406, 470, 634,   5]), array([488, 551, 547, 590,  27]), array([472, 563, 492, 580,  33])]\n",
      "deepsort output [[248 406 470 634   5]\n",
      " [488 551 547 590  27]\n",
      " [472 563 492 580  33]]\n",
      "bus 5\n",
      "car 27\n",
      "truck 33\n",
      "in while loop\n",
      "[array([258, 406, 479, 634,   5])]\n",
      "[array([258, 406, 479, 634,   5]), array([495, 550, 554, 590,  27])]\n",
      "[array([258, 406, 479, 634,   5]), array([495, 550, 554, 590,  27]), array([479, 562, 500, 580,  33])]\n",
      "[array([258, 406, 479, 634,   5]), array([495, 550, 554, 590,  27]), array([479, 562, 500, 580,  33]), array([497, 551, 550, 590,  34])]\n",
      "deepsort output [[258 406 479 634   5]\n",
      " [495 550 554 590  27]\n",
      " [479 562 500 580  33]\n",
      " [497 551 550 590  34]]\n",
      "bus 5\n",
      "car 27\n",
      "car 33\n",
      "truck 34\n"
     ]
    },
    {
     "name": "stderr",
     "output_type": "stream",
     "text": [
      "\n",
      "0: 480x640 1 car, 1 bus, 42.0ms\n",
      "Speed: 6.0ms preprocess, 42.0ms inference, 2.0ms postprocess per image at shape (1, 3, 480, 640)\n",
      "\n",
      "0: 480x640 1 car, 1 bus, 40.0ms\n",
      "Speed: 6.0ms preprocess, 40.0ms inference, 2.0ms postprocess per image at shape (1, 3, 480, 640)\n"
     ]
    },
    {
     "name": "stdout",
     "output_type": "stream",
     "text": [
      "in while loop\n",
      "[array([275, 406, 495, 634,   5])]\n",
      "[array([275, 406, 495, 634,   5]), array([509, 550, 568, 590,  27])]\n",
      "[array([275, 406, 495, 634,   5]), array([509, 550, 568, 590,  27]), array([483, 562, 504, 579,  33])]\n",
      "[array([275, 406, 495, 634,   5]), array([509, 550, 568, 590,  27]), array([483, 562, 504, 579,  33]), array([500, 551, 553, 590,  34])]\n",
      "deepsort output [[275 406 495 634   5]\n",
      " [509 550 568 590  27]\n",
      " [483 562 504 579  33]\n",
      " [500 551 553 590  34]]\n",
      "bus 5\n",
      "car 27\n",
      "in while loop\n",
      "[array([282, 407, 500, 634,   5])]\n",
      "[array([282, 407, 500, 634,   5]), array([514, 550, 572, 590,  27])]\n",
      "deepsort output [[282 407 500 634   5]\n",
      " [514 550 572 590  27]]\n",
      "bus 5\n",
      "car 27\n",
      "in while loop\n"
     ]
    },
    {
     "name": "stderr",
     "output_type": "stream",
     "text": [
      "\n",
      "0: 480x640 1 car, 1 bus, 1 truck, 41.0ms\n",
      "Speed: 5.0ms preprocess, 41.0ms inference, 2.0ms postprocess per image at shape (1, 3, 480, 640)\n",
      "\n",
      "0: 480x640 1 car, 1 bus, 1 truck, 43.0ms\n",
      "Speed: 5.0ms preprocess, 43.0ms inference, 2.0ms postprocess per image at shape (1, 3, 480, 640)\n",
      "\n",
      "0: 480x640 1 bus, 1 truck, 43.0ms\n",
      "Speed: 5.0ms preprocess, 43.0ms inference, 2.0ms postprocess per image at shape (1, 3, 480, 640)\n",
      "\n"
     ]
    },
    {
     "name": "stdout",
     "output_type": "stream",
     "text": [
      "[array([303, 407, 520, 634,   5])]\n",
      "[array([303, 407, 520, 634,   5]), array([531, 550, 589, 590,  27])]\n",
      "deepsort output [[303 407 520 634   5]\n",
      " [531 550 589 590  27]]\n",
      "bus 5\n",
      "truck 27\n",
      "in while loop\n",
      "[array([311, 407, 528, 634,   5])]\n",
      "[array([311, 407, 528, 634,   5]), array([537, 550, 595, 590,  27])]\n",
      "deepsort output [[311 407 528 634   5]\n",
      " [537 550 595 590  27]]\n",
      "bus 5\n",
      "truck 27\n",
      "in while loop\n",
      "[array([340, 407, 555, 633,   5])]\n",
      "[array([340, 407, 555, 633,   5]), array([556, 550, 616, 590,  27])]\n",
      "deepsort output [[340 407 555 633   5]\n",
      " [556 550 616 590  27]]\n",
      "bus 5\n",
      "truck 27\n",
      "in while loop\n"
     ]
    },
    {
     "name": "stderr",
     "output_type": "stream",
     "text": [
      "0: 480x640 1 bus, 1 truck, 46.0ms\n",
      "Speed: 5.0ms preprocess, 46.0ms inference, 2.0ms postprocess per image at shape (1, 3, 480, 640)\n",
      "\n",
      "0: 480x640 1 car, 1 bus, 1 traffic light, 42.0ms\n",
      "Speed: 7.0ms preprocess, 42.0ms inference, 1.0ms postprocess per image at shape (1, 3, 480, 640)\n",
      "\n"
     ]
    },
    {
     "name": "stdout",
     "output_type": "stream",
     "text": [
      "[array([351, 407, 565, 633,   5])]\n",
      "[array([351, 407, 565, 633,   5]), array([563, 550, 623, 590,  27])]\n",
      "deepsort output [[351 407 565 633   5]\n",
      " [563 550 623 590  27]]\n",
      "bus 5\n",
      "truck 27\n",
      "in while loop\n",
      "[array([384, 405, 600, 633,   5])]\n",
      "[array([384, 405, 600, 633,   5]), array([592, 550, 652, 591,  27])]\n",
      "deepsort output [[384 405 600 633   5]\n",
      " [592 550 652 591  27]]\n",
      "bus 5\n",
      "car 27\n",
      "in while loop\n"
     ]
    },
    {
     "name": "stderr",
     "output_type": "stream",
     "text": [
      "0: 480x640 1 car, 1 bus, 1 traffic light, 60.0ms\n",
      "Speed: 6.0ms preprocess, 60.0ms inference, 2.0ms postprocess per image at shape (1, 3, 480, 640)\n",
      "\n",
      "0: 480x640 1 bus, 41.0ms\n",
      "Speed: 6.0ms preprocess, 41.0ms inference, 10.0ms postprocess per image at shape (1, 3, 480, 640)\n",
      "\n",
      "0: 480x640 1 bus, 46.0ms\n"
     ]
    },
    {
     "name": "stdout",
     "output_type": "stream",
     "text": [
      "[array([396, 405, 612, 634,   5])]\n",
      "[array([396, 405, 612, 634,   5]), array([602, 550, 663, 591,  27])]\n",
      "deepsort output [[396 405 612 634   5]\n",
      " [602 550 663 591  27]]\n",
      "bus 5\n",
      "car 27\n",
      "in while loop\n",
      "[array([438, 401, 659, 636,   5])]\n",
      "[array([438, 401, 659, 636,   5]), array([613, 550, 674, 591,  27])]\n",
      "deepsort output [[438 401 659 636   5]\n",
      " [613 550 674 591  27]]\n",
      "bus 5\n",
      "in while loop\n"
     ]
    },
    {
     "name": "stderr",
     "output_type": "stream",
     "text": [
      "Speed: 6.6ms preprocess, 46.0ms inference, 2.0ms postprocess per image at shape (1, 3, 480, 640)\n",
      "\n",
      "0: 480x640 1 bus, 2 traffic lights, 44.0ms\n",
      "Speed: 5.0ms preprocess, 44.0ms inference, 1.0ms postprocess per image at shape (1, 3, 480, 640)\n",
      "\n",
      "0: 480x640 1 bus, 2 traffic lights, 46.0ms\n",
      "Speed: 7.0ms preprocess, 46.0ms inference, 2.0ms postprocess per image at shape (1, 3, 480, 640)\n"
     ]
    },
    {
     "name": "stdout",
     "output_type": "stream",
     "text": [
      "[array([454, 400, 676, 636,   5])]\n",
      "deepsort output [[454 400 676 636   5]]\n",
      "bus 5\n",
      "in while loop\n",
      "[array([508, 393, 740, 641,   5])]\n",
      "deepsort output [[508 393 740 641   5]]\n",
      "bus 5\n",
      "in while loop\n",
      "[array([528, 391, 764, 642,   5])]\n",
      "deepsort output [[528 391 764 642   5]]\n",
      "bus 5\n",
      "in while loop\n"
     ]
    },
    {
     "name": "stderr",
     "output_type": "stream",
     "text": [
      "\n",
      "0: 480x640 1 car, 1 bus, 2 traffic lights, 46.0ms\n",
      "Speed: 5.0ms preprocess, 46.0ms inference, 3.0ms postprocess per image at shape (1, 3, 480, 640)\n",
      "\n",
      "0: 480x640 1 car, 1 bus, 2 traffic lights, 50.0ms\n",
      "Speed: 6.0ms preprocess, 50.0ms inference, 2.0ms postprocess per image at shape (1, 3, 480, 640)\n",
      "\n",
      "0: 480x640 2 cars, 1 bus, 3 traffic lights, 1 bench, 45.0ms\n"
     ]
    },
    {
     "name": "stdout",
     "output_type": "stream",
     "text": [
      "[array([595, 380, 849, 645,   5])]\n",
      "deepsort output [[595 380 849 645   5]]\n",
      "bus 5\n",
      "in while loop\n",
      "[array([620, 375, 881, 646,   5])]\n",
      "deepsort output [[620 375 881 646   5]]\n",
      "bus 5\n",
      "in while loop\n"
     ]
    },
    {
     "name": "stderr",
     "output_type": "stream",
     "text": [
      "Speed: 5.0ms preprocess, 45.0ms inference, 2.0ms postprocess per image at shape (1, 3, 480, 640)\n",
      "\n",
      "0: 480x640 2 cars, 1 bus, 3 traffic lights, 1 bench, 45.2ms\n",
      "Speed: 5.5ms preprocess, 45.2ms inference, 2.0ms postprocess per image at shape (1, 3, 480, 640)\n",
      "\n",
      "0: 480x640 1 car, 1 bus, 2 traffic lights, 1 bench, 41.5ms\n",
      "Speed: 5.0ms preprocess, 41.5ms inference, 2.0ms postprocess per image at shape (1, 3, 480, 640)\n",
      "\n"
     ]
    },
    {
     "name": "stdout",
     "output_type": "stream",
     "text": [
      "[array([683, 358, 973, 654,   5])]\n",
      "deepsort output [[683 358 973 654   5]]\n",
      "bus 5\n",
      "in while loop\n",
      "[array([ 706,  351, 1009,  657,    5])]\n",
      "deepsort output [[ 706  351 1009  657    5]]\n",
      "bus 5\n",
      "in while loop\n",
      "[array([ 740,  326, 1023,  664,    5])]\n",
      "deepsort output [[ 740  326 1023  664    5]]\n",
      "bus 5\n",
      "in while loop\n"
     ]
    },
    {
     "name": "stderr",
     "output_type": "stream",
     "text": [
      "0: 480x640 1 car, 1 bus, 1 truck, 1 bench, 42.0ms\n",
      "Speed: 6.0ms preprocess, 42.0ms inference, 2.0ms postprocess per image at shape (1, 3, 480, 640)\n",
      "\n",
      "0: 480x640 1 car, 1 bus, 1 truck, 1 bench, 43.9ms\n",
      "Speed: 5.5ms preprocess, 43.9ms inference, 2.0ms postprocess per image at shape (1, 3, 480, 640)\n",
      "\n"
     ]
    },
    {
     "name": "stdout",
     "output_type": "stream",
     "text": [
      "[array([ 768,  320, 1023,  666,    5])]\n",
      "deepsort output [[ 768  320 1023  666    5]]\n",
      "car 5\n",
      "in while loop\n",
      "deepsort output []\n",
      "in while loop\n"
     ]
    },
    {
     "name": "stderr",
     "output_type": "stream",
     "text": [
      "0: 480x640 2 cars, 1 bench, 42.0ms\n",
      "Speed: 6.0ms preprocess, 42.0ms inference, 1.0ms postprocess per image at shape (1, 3, 480, 640)\n",
      "\n",
      "0: 480x640 2 cars, 1 bench, 63.0ms\n",
      "Speed: 5.0ms preprocess, 63.0ms inference, 2.0ms postprocess per image at shape (1, 3, 480, 640)\n",
      "\n"
     ]
    },
    {
     "name": "stdout",
     "output_type": "stream",
     "text": [
      "deepsort output []\n",
      "in while loop\n",
      "deepsort output []\n",
      "in while loop\n"
     ]
    },
    {
     "name": "stderr",
     "output_type": "stream",
     "text": [
      "0: 480x640 2 cars, 1 bench, 41.0ms\n",
      "Speed: 5.0ms preprocess, 41.0ms inference, 2.0ms postprocess per image at shape (1, 3, 480, 640)\n",
      "\n",
      "0: 480x640 2 cars, 1 bench, 63.3ms\n",
      "Speed: 5.0ms preprocess, 63.3ms inference, 2.2ms postprocess per image at shape (1, 3, 480, 640)\n",
      "\n"
     ]
    },
    {
     "name": "stdout",
     "output_type": "stream",
     "text": [
      "[array([412, 555, 480, 594,  24])]\n",
      "deepsort output [[412 555 480 594  24]]\n",
      "car 24\n",
      "in while loop\n",
      "[array([411, 556, 481, 594,  24])]\n",
      "deepsort output [[411 556 481 594  24]]\n",
      "car 24\n",
      "in while loop\n"
     ]
    },
    {
     "name": "stderr",
     "output_type": "stream",
     "text": [
      "0: 480x640 1 car, 1 bench, 48.8ms\n",
      "Speed: 5.0ms preprocess, 48.8ms inference, 3.0ms postprocess per image at shape (1, 3, 480, 640)\n",
      "\n",
      "0: 480x640 1 car, 1 bench, 48.4ms\n",
      "Speed: 7.5ms preprocess, 48.4ms inference, 2.3ms postprocess per image at shape (1, 3, 480, 640)\n",
      "\n",
      "0: 480x640 1 car, 41.5ms\n",
      "Speed: 5.5ms preprocess, 41.5ms inference, 2.0ms postprocess per image at shape (1, 3, 480, 640)\n",
      "\n"
     ]
    },
    {
     "name": "stdout",
     "output_type": "stream",
     "text": [
      "[array([412, 556, 481, 594,  24])]\n",
      "deepsort output [[412 556 481 594  24]]\n",
      "car 24\n",
      "in while loop\n",
      "deepsort output []\n",
      "in while loop\n",
      "deepsort output []\n",
      "in while loop\n"
     ]
    },
    {
     "name": "stderr",
     "output_type": "stream",
     "text": [
      "0: 480x640 1 car, 49.9ms\n",
      "Speed: 5.6ms preprocess, 49.9ms inference, 1.0ms postprocess per image at shape (1, 3, 480, 640)\n",
      "\n",
      "0: 480x640 1 car, 40.7ms\n",
      "Speed: 5.5ms preprocess, 40.7ms inference, 2.0ms postprocess per image at shape (1, 3, 480, 640)\n",
      "\n",
      "0: 480x640 1 car, 47.0ms\n",
      "Speed: 7.0ms preprocess, 47.0ms inference, 2.0ms postprocess per image at shape (1, 3, 480, 640)\n"
     ]
    },
    {
     "name": "stdout",
     "output_type": "stream",
     "text": [
      "deepsort output []\n",
      "in while loop\n",
      "[array([836, 554, 929, 587,  45])]\n",
      "deepsort output [[836 554 929 587  45]]\n",
      "car 45\n",
      "in while loop\n",
      "[array([843, 553, 938, 588,  45])]\n",
      "deepsort output [[843 553 938 588  45]]\n",
      "car 45\n",
      "in while loop\n"
     ]
    },
    {
     "name": "stderr",
     "output_type": "stream",
     "text": [
      "\n",
      "0: 480x640 1 car, 40.0ms\n",
      "Speed: 5.0ms preprocess, 40.0ms inference, 2.0ms postprocess per image at shape (1, 3, 480, 640)\n",
      "\n",
      "0: 480x640 1 car, 47.0ms\n",
      "Speed: 9.0ms preprocess, 47.0ms inference, 2.0ms postprocess per image at shape (1, 3, 480, 640)\n",
      "\n",
      "0: 480x640 1 car, 1 handbag, 1 chair, 1 potted plant, 40.0ms\n",
      "Speed: 5.5ms preprocess, 40.0ms inference, 2.0ms postprocess per image at shape (1, 3, 480, 640)\n",
      "\n"
     ]
    },
    {
     "name": "stdout",
     "output_type": "stream",
     "text": [
      "[array([862, 554, 955, 588,  45])]\n",
      "deepsort output [[862 554 955 588  45]]\n",
      "car 45\n",
      "in while loop\n",
      "[array([867, 554, 960, 588,  45])]\n",
      "deepsort output [[867 554 960 588  45]]\n",
      "car 45\n",
      "in while loop\n",
      "[array([877, 554, 971, 588,  45])]\n",
      "deepsort output [[877 554 971 588  45]]\n",
      "car 45\n",
      "in while loop\n"
     ]
    },
    {
     "name": "stderr",
     "output_type": "stream",
     "text": [
      "0: 480x640 1 car, 1 handbag, 1 chair, 1 potted plant, 44.1ms\n",
      "Speed: 6.0ms preprocess, 44.1ms inference, 2.0ms postprocess per image at shape (1, 3, 480, 640)\n",
      "\n",
      "0: 480x640 1 car, 1 bench, 40.3ms\n",
      "Speed: 5.0ms preprocess, 40.3ms inference, 2.0ms postprocess per image at shape (1, 3, 480, 640)\n",
      "\n",
      "0: 480x640 1 car, 1 bench, 48.2ms\n",
      "Speed: 6.8ms preprocess, 48.2ms inference, 2.0ms postprocess per image at shape (1, 3, 480, 640)\n",
      "\n"
     ]
    },
    {
     "name": "stdout",
     "output_type": "stream",
     "text": [
      "[array([880, 554, 974, 588,  45])]\n",
      "deepsort output [[880 554 974 588  45]]\n",
      "car 45\n",
      "in while loop\n",
      "[array([884, 555, 980, 588,  45])]\n",
      "deepsort output [[884 555 980 588  45]]\n",
      "car 45\n",
      "in while loop\n",
      "[array([885, 555, 982, 589,  45])]\n",
      "deepsort output [[885 555 982 589  45]]\n",
      "car 45\n",
      "in while loop\n"
     ]
    },
    {
     "name": "stderr",
     "output_type": "stream",
     "text": [
      "0: 480x640 1 car, 1 bench, 1 chair, 46.0ms\n",
      "Speed: 6.0ms preprocess, 46.0ms inference, 2.0ms postprocess per image at shape (1, 3, 480, 640)\n",
      "\n",
      "0: 480x640 1 car, 1 bench, 1 chair, 61.0ms\n",
      "Speed: 6.0ms preprocess, 61.0ms inference, 2.0ms postprocess per image at shape (1, 3, 480, 640)\n",
      "\n",
      "0: 480x640 1 car, 1 bench, 43.0ms\n",
      "Speed: 5.0ms preprocess, 43.0ms inference, 2.0ms postprocess per image at shape (1, 3, 480, 640)\n"
     ]
    },
    {
     "name": "stdout",
     "output_type": "stream",
     "text": [
      "[array([886, 554, 985, 589,  45])]\n",
      "deepsort output [[886 554 985 589  45]]\n",
      "car 45\n",
      "in while loop\n",
      "[array([886, 554, 986, 589,  45])]\n",
      "deepsort output [[886 554 986 589  45]]\n",
      "car 45\n",
      "in while loop\n",
      "[array([887, 554, 988, 589,  45])]\n",
      "deepsort output [[887 554 988 589  45]]\n",
      "car 45\n",
      "in while loop\n"
     ]
    },
    {
     "name": "stderr",
     "output_type": "stream",
     "text": [
      "\n",
      "0: 480x640 1 car, 1 bench, 63.0ms\n",
      "Speed: 5.0ms preprocess, 63.0ms inference, 1.0ms postprocess per image at shape (1, 3, 480, 640)\n",
      "\n",
      "0: 480x640 1 car, 1 bench, 1 chair, 41.0ms\n",
      "Speed: 5.0ms preprocess, 41.0ms inference, 2.0ms postprocess per image at shape (1, 3, 480, 640)\n",
      "\n",
      "0: 480x640 1 car, 1 bench, 1 chair, 45.0ms\n",
      "Speed: 6.0ms preprocess, 45.0ms inference, 2.0ms postprocess per image at shape (1, 3, 480, 640)\n"
     ]
    },
    {
     "name": "stdout",
     "output_type": "stream",
     "text": [
      "[array([887, 553, 988, 589,  45])]\n",
      "deepsort output [[887 553 988 589  45]]\n",
      "car 45\n",
      "in while loop\n",
      "[array([889, 554, 989, 589,  45])]\n",
      "deepsort output [[889 554 989 589  45]]\n",
      "car 45\n",
      "in while loop\n",
      "[array([890, 554, 990, 589,  45])]\n",
      "deepsort output [[890 554 990 589  45]]\n",
      "car 45\n"
     ]
    },
    {
     "name": "stderr",
     "output_type": "stream",
     "text": [
      "\n",
      "0: 480x640 1 car, 1 bench, 42.0ms\n",
      "Speed: 5.0ms preprocess, 42.0ms inference, 2.0ms postprocess per image at shape (1, 3, 480, 640)\n",
      "\n",
      "0: 480x640 1 car, 1 bench, 45.0ms\n",
      "Speed: 6.0ms preprocess, 45.0ms inference, 1.0ms postprocess per image at shape (1, 3, 480, 640)\n",
      "\n"
     ]
    },
    {
     "name": "stdout",
     "output_type": "stream",
     "text": [
      "in while loop\n",
      "[array([889, 554, 991, 589,  45])]\n",
      "deepsort output [[889 554 991 589  45]]\n",
      "car 45\n",
      "in while loop\n",
      "[array([889, 554, 992, 589,  45])]\n",
      "deepsort output [[889 554 992 589  45]]\n",
      "car 45\n",
      "in while loop\n"
     ]
    },
    {
     "name": "stderr",
     "output_type": "stream",
     "text": [
      "0: 480x640 1 car, 1 bench, 44.0ms\n",
      "Speed: 5.0ms preprocess, 44.0ms inference, 2.0ms postprocess per image at shape (1, 3, 480, 640)\n",
      "\n",
      "0: 480x640 1 car, 1 bench, 45.0ms\n",
      "Speed: 7.0ms preprocess, 45.0ms inference, 3.0ms postprocess per image at shape (1, 3, 480, 640)\n",
      "\n",
      "0: 480x640 1 car, 1 bench, 1 book, 43.0ms\n",
      "Speed: 5.0ms preprocess, 43.0ms inference, 2.0ms postprocess per image at shape (1, 3, 480, 640)\n"
     ]
    },
    {
     "name": "stdout",
     "output_type": "stream",
     "text": [
      "[array([889, 554, 992, 589,  45])]\n",
      "deepsort output [[889 554 992 589  45]]\n",
      "car 45\n",
      "in while loop\n",
      "[array([888, 553, 992, 589,  45])]\n",
      "deepsort output [[888 553 992 589  45]]\n",
      "car 45\n",
      "in while loop\n",
      "[array([889, 553, 992, 589,  45])]\n",
      "deepsort output [[889 553 992 589  45]]\n",
      "car 45\n",
      "in while loop\n"
     ]
    },
    {
     "name": "stderr",
     "output_type": "stream",
     "text": [
      "\n",
      "0: 480x640 1 car, 1 bench, 1 book, 44.0ms\n",
      "Speed: 7.0ms preprocess, 44.0ms inference, 2.0ms postprocess per image at shape (1, 3, 480, 640)\n",
      "\n",
      "0: 480x640 1 car, 1 bench, 1 book, 41.0ms\n",
      "Speed: 5.0ms preprocess, 41.0ms inference, 2.0ms postprocess per image at shape (1, 3, 480, 640)\n",
      "\n",
      "0: 480x640 1 car, 1 bench, 1 book, 51.0ms\n",
      "Speed: 7.0ms preprocess, 51.0ms inference, 2.0ms postprocess per image at shape (1, 3, 480, 640)\n",
      "\n"
     ]
    },
    {
     "name": "stdout",
     "output_type": "stream",
     "text": [
      "[array([889, 553, 993, 589,  45])]\n",
      "deepsort output [[889 553 993 589  45]]\n",
      "car 45\n",
      "in while loop\n",
      "[array([889, 553, 994, 589,  45])]\n",
      "deepsort output [[889 553 994 589  45]]\n",
      "car 45\n",
      "in while loop\n",
      "[array([889, 553, 994, 589,  45])]\n",
      "deepsort output [[889 553 994 589  45]]\n",
      "car 45\n",
      "in while loop\n"
     ]
    },
    {
     "name": "stderr",
     "output_type": "stream",
     "text": [
      "0: 480x640 1 car, 1 bench, 1 book, 41.0ms\n",
      "Speed: 5.0ms preprocess, 41.0ms inference, 2.0ms postprocess per image at shape (1, 3, 480, 640)\n",
      "\n",
      "0: 480x640 1 car, 1 bench, 1 book, 45.0ms\n",
      "Speed: 8.0ms preprocess, 45.0ms inference, 3.0ms postprocess per image at shape (1, 3, 480, 640)\n",
      "\n",
      "0: 480x640 1 car, 1 bench, 1 book, 43.0ms\n",
      "Speed: 5.0ms preprocess, 43.0ms inference, 2.0ms postprocess per image at shape (1, 3, 480, 640)\n"
     ]
    },
    {
     "name": "stdout",
     "output_type": "stream",
     "text": [
      "[array([889, 553, 994, 589,  45])]\n",
      "deepsort output [[889 553 994 589  45]]\n",
      "car 45\n",
      "in while loop\n",
      "[array([889, 553, 994, 589,  45])]\n",
      "deepsort output [[889 553 994 589  45]]\n",
      "car 45\n",
      "in while loop\n",
      "[array([890, 553, 995, 589,  45])]\n",
      "deepsort output [[890 553 995 589  45]]\n",
      "car 45\n",
      "in while loop\n"
     ]
    },
    {
     "name": "stderr",
     "output_type": "stream",
     "text": [
      "\n",
      "0: 480x640 1 car, 1 bench, 1 book, 56.6ms\n",
      "Speed: 6.0ms preprocess, 56.6ms inference, 2.0ms postprocess per image at shape (1, 3, 480, 640)\n",
      "\n",
      "0: 480x640 1 car, 1 bench, 1 book, 41.0ms\n",
      "Speed: 5.0ms preprocess, 41.0ms inference, 1.0ms postprocess per image at shape (1, 3, 480, 640)\n",
      "\n",
      "0: 480x640 1 car, 1 bench, 1 book, 43.0ms\n",
      "Speed: 7.0ms preprocess, 43.0ms inference, 2.0ms postprocess per image at shape (1, 3, 480, 640)\n"
     ]
    },
    {
     "name": "stdout",
     "output_type": "stream",
     "text": [
      "[array([890, 553, 996, 589,  45])]\n",
      "deepsort output [[890 553 996 589  45]]\n",
      "car 45\n",
      "in while loop\n",
      "[array([891, 553, 997, 589,  45])]\n",
      "deepsort output [[891 553 997 589  45]]\n",
      "car 45\n",
      "in while loop\n",
      "[array([891, 553, 997, 589,  45])]\n",
      "deepsort output [[891 553 997 589  45]]\n",
      "car 45\n",
      "in while loop\n"
     ]
    },
    {
     "name": "stderr",
     "output_type": "stream",
     "text": [
      "\n",
      "0: 480x640 1 car, 1 bench, 43.0ms\n",
      "Speed: 5.0ms preprocess, 43.0ms inference, 2.0ms postprocess per image at shape (1, 3, 480, 640)\n",
      "\n",
      "0: 480x640 1 car, 1 bench, 44.0ms\n",
      "Speed: 7.0ms preprocess, 44.0ms inference, 2.0ms postprocess per image at shape (1, 3, 480, 640)\n",
      "\n",
      "0: 480x640 1 car, 1 chair, 1 book, 45.0ms\n",
      "Speed: 5.0ms preprocess, 45.0ms inference, 2.0ms postprocess per image at shape (1, 3, 480, 640)\n",
      "\n"
     ]
    },
    {
     "name": "stdout",
     "output_type": "stream",
     "text": [
      "[array([892, 553, 998, 589,  45])]\n",
      "deepsort output [[892 553 998 589  45]]\n",
      "car 45\n",
      "in while loop\n",
      "[array([892, 553, 998, 589,  45])]\n",
      "deepsort output [[892 553 998 589  45]]\n",
      "car 45\n",
      "in while loop\n",
      "[array([893, 553, 999, 589,  45])]\n",
      "deepsort output [[893 553 999 589  45]]\n",
      "car 45\n",
      "in while loop\n"
     ]
    },
    {
     "name": "stderr",
     "output_type": "stream",
     "text": [
      "0: 480x640 1 car, 1 chair, 1 book, 45.5ms\n",
      "Speed: 6.0ms preprocess, 45.5ms inference, 2.0ms postprocess per image at shape (1, 3, 480, 640)\n",
      "\n",
      "0: 480x640 1 car, 40.0ms\n",
      "Speed: 8.0ms preprocess, 40.0ms inference, 2.0ms postprocess per image at shape (1, 3, 480, 640)\n",
      "\n",
      "0: 480x640 1 car, 45.0ms\n",
      "Speed: 7.0ms preprocess, 45.0ms inference, 4.0ms postprocess per image at shape (1, 3, 480, 640)\n"
     ]
    },
    {
     "name": "stdout",
     "output_type": "stream",
     "text": [
      "[array([ 893,  553, 1000,  589,   45])]\n",
      "deepsort output [[ 893  553 1000  589   45]]\n",
      "car 45\n",
      "in while loop\n",
      "[array([ 893,  553, 1001,  589,   45])]\n",
      "deepsort output [[ 893  553 1001  589   45]]\n",
      "car 45\n",
      "in while loop\n",
      "[array([ 894,  553, 1001,  589,   45])]\n",
      "deepsort output [[ 894  553 1001  589   45]]\n",
      "car 45\n",
      "in while loop\n"
     ]
    },
    {
     "name": "stderr",
     "output_type": "stream",
     "text": [
      "\n",
      "0: 480x640 1 car, 49.4ms\n",
      "Speed: 5.0ms preprocess, 49.4ms inference, 4.0ms postprocess per image at shape (1, 3, 480, 640)\n",
      "\n",
      "0: 480x640 1 car, 1 bench, 44.0ms\n",
      "Speed: 5.0ms preprocess, 44.0ms inference, 1.0ms postprocess per image at shape (1, 3, 480, 640)\n",
      "\n",
      "0: 480x640 1 car, 1 bench, 42.0ms\n",
      "Speed: 5.0ms preprocess, 42.0ms inference, 2.0ms postprocess per image at shape (1, 3, 480, 640)\n"
     ]
    },
    {
     "name": "stdout",
     "output_type": "stream",
     "text": [
      "[array([ 894,  553, 1002,  589,   45])]\n",
      "deepsort output [[ 894  553 1002  589   45]]\n",
      "car 45\n",
      "in while loop\n",
      "[array([ 896,  553, 1004,  589,   45])]\n",
      "deepsort output [[ 896  553 1004  589   45]]\n",
      "car 45\n",
      "in while loop\n",
      "[array([ 897,  553, 1005,  589,   45])]\n",
      "deepsort output [[ 897  553 1005  589   45]]\n",
      "car 45\n",
      "in while loop\n"
     ]
    },
    {
     "name": "stderr",
     "output_type": "stream",
     "text": [
      "\n",
      "0: 480x640 1 car, 1 bench, 44.0ms\n",
      "Speed: 7.0ms preprocess, 44.0ms inference, 2.0ms postprocess per image at shape (1, 3, 480, 640)\n",
      "\n",
      "0: 480x640 1 car, 1 bench, 41.0ms\n",
      "Speed: 6.0ms preprocess, 41.0ms inference, 2.0ms postprocess per image at shape (1, 3, 480, 640)\n",
      "\n",
      "0: 480x640 1 car, 1 bench, 42.0ms\n",
      "Speed: 6.0ms preprocess, 42.0ms inference, 2.0ms postprocess per image at shape (1, 3, 480, 640)\n",
      "\n"
     ]
    },
    {
     "name": "stdout",
     "output_type": "stream",
     "text": [
      "[array([ 897,  553, 1006,  589,   45])]\n",
      "deepsort output [[ 897  553 1006  589   45]]\n",
      "car 45\n",
      "in while loop\n",
      "[array([ 898,  553, 1006,  589,   45])]\n",
      "deepsort output [[ 898  553 1006  589   45]]\n",
      "car 45\n",
      "in while loop\n",
      "[array([ 898,  553, 1007,  589,   45])]\n",
      "deepsort output [[ 898  553 1007  589   45]]\n",
      "car 45\n",
      "in while loop\n"
     ]
    },
    {
     "name": "stderr",
     "output_type": "stream",
     "text": [
      "0: 480x640 1 car, 1 bench, 41.0ms\n",
      "Speed: 5.0ms preprocess, 41.0ms inference, 2.0ms postprocess per image at shape (1, 3, 480, 640)\n",
      "\n",
      "0: 480x640 1 car, 1 bench, 42.0ms\n",
      "Speed: 6.0ms preprocess, 42.0ms inference, 2.0ms postprocess per image at shape (1, 3, 480, 640)\n",
      "\n",
      "0: 480x640 1 car, 1 bench, 42.0ms\n",
      "Speed: 5.0ms preprocess, 42.0ms inference, 2.0ms postprocess per image at shape (1, 3, 480, 640)\n"
     ]
    },
    {
     "name": "stdout",
     "output_type": "stream",
     "text": [
      "[array([ 898,  553, 1007,  589,   45])]\n",
      "deepsort output [[ 898  553 1007  589   45]]\n",
      "car 45\n",
      "in while loop\n",
      "[array([ 900,  553, 1009,  589,   45])]\n",
      "deepsort output [[ 900  553 1009  589   45]]\n",
      "car 45\n",
      "in while loop\n",
      "[array([ 900,  553, 1009,  589,   45])]\n",
      "deepsort output [[ 900  553 1009  589   45]]\n",
      "car 45\n"
     ]
    },
    {
     "name": "stderr",
     "output_type": "stream",
     "text": [
      "\n",
      "0: 480x640 1 car, 1 bench, 42.0ms\n",
      "Speed: 6.0ms preprocess, 42.0ms inference, 2.4ms postprocess per image at shape (1, 3, 480, 640)\n",
      "\n",
      "0: 480x640 1 car, 1 bench, 42.0ms\n",
      "Speed: 5.0ms preprocess, 42.0ms inference, 19.0ms postprocess per image at shape (1, 3, 480, 640)\n"
     ]
    },
    {
     "name": "stdout",
     "output_type": "stream",
     "text": [
      "in while loop\n",
      "[array([ 901,  553, 1011,  589,   45])]\n",
      "deepsort output [[ 901  553 1011  589   45]]\n",
      "car 45\n",
      "in while loop\n",
      "[array([ 901,  553, 1011,  589,   45])]\n",
      "deepsort output [[ 901  553 1011  589   45]]\n",
      "car 45\n",
      "in while loop\n"
     ]
    },
    {
     "name": "stderr",
     "output_type": "stream",
     "text": [
      "\n",
      "0: 480x640 1 car, 1 bench, 43.0ms\n",
      "Speed: 5.0ms preprocess, 43.0ms inference, 3.0ms postprocess per image at shape (1, 3, 480, 640)\n",
      "\n",
      "0: 480x640 1 car, 1 bench, 60.0ms\n",
      "Speed: 5.0ms preprocess, 60.0ms inference, 2.0ms postprocess per image at shape (1, 3, 480, 640)\n",
      "\n",
      "0: 480x640 1 car, 1 bench, 43.0ms\n",
      "Speed: 5.0ms preprocess, 43.0ms inference, 2.0ms postprocess per image at shape (1, 3, 480, 640)\n"
     ]
    },
    {
     "name": "stdout",
     "output_type": "stream",
     "text": [
      "[array([ 901,  553, 1013,  589,   45])]\n",
      "deepsort output [[ 901  553 1013  589   45]]\n",
      "car 45\n",
      "in while loop\n",
      "[array([ 901,  553, 1014,  589,   45])]\n",
      "deepsort output [[ 901  553 1014  589   45]]\n",
      "car 45\n",
      "in while loop\n",
      "[array([ 901,  553, 1015,  590,   45])]\n",
      "deepsort output [[ 901  553 1015  590   45]]\n",
      "car 45\n",
      "in while loop\n"
     ]
    },
    {
     "name": "stderr",
     "output_type": "stream",
     "text": [
      "\n",
      "0: 480x640 1 car, 1 bench, 61.0ms\n",
      "Speed: 6.0ms preprocess, 61.0ms inference, 2.0ms postprocess per image at shape (1, 3, 480, 640)\n",
      "\n",
      "0: 480x640 1 car, 1 bench, 46.2ms\n",
      "Speed: 6.0ms preprocess, 46.2ms inference, 2.0ms postprocess per image at shape (1, 3, 480, 640)\n",
      "\n",
      "0: 480x640 1 car, 1 bench, 61.0ms\n"
     ]
    },
    {
     "name": "stdout",
     "output_type": "stream",
     "text": [
      "[array([ 902,  553, 1015,  590,   45])]\n",
      "deepsort output [[ 902  553 1015  590   45]]\n",
      "car 45\n",
      "in while loop\n",
      "[array([ 902,  553, 1017,  590,   45])]\n",
      "deepsort output [[ 902  553 1017  590   45]]\n",
      "car 45\n",
      "in while loop\n"
     ]
    },
    {
     "name": "stderr",
     "output_type": "stream",
     "text": [
      "Speed: 5.0ms preprocess, 61.0ms inference, 2.0ms postprocess per image at shape (1, 3, 480, 640)\n",
      "\n",
      "0: 480x640 1 car, 1 bench, 40.0ms\n",
      "Speed: 5.0ms preprocess, 40.0ms inference, 2.0ms postprocess per image at shape (1, 3, 480, 640)\n",
      "\n",
      "0: 480x640 1 car, 1 bench, 61.0ms\n"
     ]
    },
    {
     "name": "stdout",
     "output_type": "stream",
     "text": [
      "[array([ 902,  553, 1018,  590,   45])]\n",
      "deepsort output [[ 902  553 1018  590   45]]\n",
      "car 45\n",
      "in while loop\n",
      "[array([ 903,  553, 1019,  590,   45])]\n",
      "deepsort output [[ 903  553 1019  590   45]]\n",
      "car 45\n",
      "in while loop\n"
     ]
    },
    {
     "name": "stderr",
     "output_type": "stream",
     "text": [
      "Speed: 5.0ms preprocess, 61.0ms inference, 2.0ms postprocess per image at shape (1, 3, 480, 640)\n",
      "\n",
      "0: 480x640 1 car, 1 bench, 44.0ms\n",
      "Speed: 5.0ms preprocess, 44.0ms inference, 2.0ms postprocess per image at shape (1, 3, 480, 640)\n",
      "\n",
      "0: 480x640 1 car, 1 bench, 43.0ms\n",
      "Speed: 6.0ms preprocess, 43.0ms inference, 4.0ms postprocess per image at shape (1, 3, 480, 640)\n",
      "\n"
     ]
    },
    {
     "name": "stdout",
     "output_type": "stream",
     "text": [
      "[array([ 904,  552, 1019,  590,   45])]\n",
      "deepsort output [[ 904  552 1019  590   45]]\n",
      "car 45\n",
      "in while loop\n",
      "[array([ 906,  553, 1020,  590,   45])]\n",
      "deepsort output [[ 906  553 1020  590   45]]\n",
      "car 45\n",
      "in while loop\n",
      "[array([ 908,  553, 1021,  590,   45])]\n",
      "deepsort output [[ 908  553 1021  590   45]]\n",
      "car 45\n",
      "in while loop\n"
     ]
    },
    {
     "name": "stderr",
     "output_type": "stream",
     "text": [
      "0: 480x640 1 car, 1 bench, 43.0ms\n",
      "Speed: 5.0ms preprocess, 43.0ms inference, 2.0ms postprocess per image at shape (1, 3, 480, 640)\n",
      "\n",
      "0: 480x640 1 car, 1 bench, 43.0ms\n",
      "Speed: 10.0ms preprocess, 43.0ms inference, 2.0ms postprocess per image at shape (1, 3, 480, 640)\n",
      "\n",
      "0: 480x640 1 car, 1 bench, 41.0ms\n",
      "Speed: 5.0ms preprocess, 41.0ms inference, 2.0ms postprocess per image at shape (1, 3, 480, 640)\n",
      "\n"
     ]
    },
    {
     "name": "stdout",
     "output_type": "stream",
     "text": [
      "[array([ 908,  553, 1021,  590,   45])]\n",
      "deepsort output [[ 908  553 1021  590   45]]\n",
      "car 45\n",
      "in while loop\n",
      "[array([ 909,  553, 1022,  590,   45])]\n",
      "deepsort output [[ 909  553 1022  590   45]]\n",
      "car 45\n",
      "in while loop\n",
      "[array([ 909,  554, 1022,  590,   45])]\n",
      "deepsort output [[ 909  554 1022  590   45]]\n",
      "car 45\n",
      "in while loop\n"
     ]
    },
    {
     "name": "stderr",
     "output_type": "stream",
     "text": [
      "0: 480x640 1 car, 1 bench, 52.0ms\n",
      "Speed: 8.8ms preprocess, 52.0ms inference, 2.0ms postprocess per image at shape (1, 3, 480, 640)\n",
      "\n",
      "0: 480x640 1 car, 1 bench, 41.0ms\n",
      "Speed: 5.0ms preprocess, 41.0ms inference, 1.0ms postprocess per image at shape (1, 3, 480, 640)\n",
      "\n",
      "0: 480x640 1 car, 1 bench, 56.0ms\n",
      "Speed: 6.0ms preprocess, 56.0ms inference, 2.0ms postprocess per image at shape (1, 3, 480, 640)\n"
     ]
    },
    {
     "name": "stdout",
     "output_type": "stream",
     "text": [
      "[array([ 909,  554, 1022,  590,   45])]\n",
      "deepsort output [[ 909  554 1022  590   45]]\n",
      "car 45\n",
      "in while loop\n",
      "[array([ 910,  554, 1023,  590,   45])]\n",
      "deepsort output [[ 910  554 1023  590   45]]\n",
      "car 45\n",
      "in while loop\n",
      "[array([ 910,  554, 1023,  590,   45])]\n",
      "deepsort output [[ 910  554 1023  590   45]]\n",
      "car 45\n",
      "in while loop\n"
     ]
    },
    {
     "name": "stderr",
     "output_type": "stream",
     "text": [
      "\n",
      "0: 480x640 1 car, 1 bench, 42.0ms\n",
      "Speed: 5.0ms preprocess, 42.0ms inference, 2.0ms postprocess per image at shape (1, 3, 480, 640)\n",
      "\n",
      "0: 480x640 1 car, 1 bench, 52.0ms\n",
      "Speed: 7.0ms preprocess, 52.0ms inference, 2.0ms postprocess per image at shape (1, 3, 480, 640)\n",
      "\n",
      "0: 480x640 1 car, 1 bench, 42.0ms\n",
      "Speed: 6.0ms preprocess, 42.0ms inference, 2.0ms postprocess per image at shape (1, 3, 480, 640)\n"
     ]
    },
    {
     "name": "stdout",
     "output_type": "stream",
     "text": [
      "[array([ 910,  554, 1023,  590,   45])]\n",
      "deepsort output [[ 910  554 1023  590   45]]\n",
      "car 45\n",
      "in while loop\n",
      "[array([ 910,  554, 1023,  590,   45])]\n",
      "deepsort output [[ 910  554 1023  590   45]]\n",
      "car 45\n",
      "in while loop\n",
      "[array([ 911,  554, 1023,  590,   45])]\n",
      "deepsort output [[ 911  554 1023  590   45]]\n",
      "car 45\n",
      "in while loop\n"
     ]
    },
    {
     "name": "stderr",
     "output_type": "stream",
     "text": [
      "\n",
      "0: 480x640 1 car, 1 bench, 42.0ms\n",
      "Speed: 6.0ms preprocess, 42.0ms inference, 2.0ms postprocess per image at shape (1, 3, 480, 640)\n",
      "\n",
      "0: 480x640 1 car, 1 bench, 43.0ms\n",
      "Speed: 5.0ms preprocess, 43.0ms inference, 1.0ms postprocess per image at shape (1, 3, 480, 640)\n",
      "\n"
     ]
    },
    {
     "name": "stdout",
     "output_type": "stream",
     "text": [
      "[array([ 911,  553, 1023,  590,   45])]\n",
      "deepsort output [[ 911  553 1023  590   45]]\n",
      "car 45\n",
      "in while loop\n",
      "[array([ 911,  553, 1023,  590,   45])]\n",
      "deepsort output [[ 911  553 1023  590   45]]\n",
      "car 45\n",
      "in while loop\n"
     ]
    },
    {
     "name": "stderr",
     "output_type": "stream",
     "text": [
      "0: 480x640 1 car, 1 bench, 41.0ms\n",
      "Speed: 5.0ms preprocess, 41.0ms inference, 2.0ms postprocess per image at shape (1, 3, 480, 640)\n",
      "\n",
      "0: 480x640 1 car, 1 bench, 43.0ms\n",
      "Speed: 5.0ms preprocess, 43.0ms inference, 2.0ms postprocess per image at shape (1, 3, 480, 640)\n",
      "\n",
      "0: 480x640 1 car, 45.0ms\n",
      "Speed: 7.0ms preprocess, 45.0ms inference, 3.0ms postprocess per image at shape (1, 3, 480, 640)\n",
      "\n"
     ]
    },
    {
     "name": "stdout",
     "output_type": "stream",
     "text": [
      "[array([ 913,  553, 1023,  590,   45])]\n",
      "deepsort output [[ 913  553 1023  590   45]]\n",
      "car 45\n",
      "in while loop\n",
      "[array([ 914,  553, 1023,  590,   45])]\n",
      "deepsort output [[ 914  553 1023  590   45]]\n",
      "car 45\n",
      "in while loop\n",
      "[array([ 916,  553, 1023,  590,   45])]\n",
      "deepsort output [[ 916  553 1023  590   45]]\n",
      "car 45\n",
      "in while loop\n"
     ]
    },
    {
     "name": "stderr",
     "output_type": "stream",
     "text": [
      "0: 480x640 1 car, 45.0ms\n",
      "Speed: 5.0ms preprocess, 45.0ms inference, 2.0ms postprocess per image at shape (1, 3, 480, 640)\n",
      "\n",
      "0: 480x640 1 car, 43.0ms\n",
      "Speed: 8.0ms preprocess, 43.0ms inference, 2.0ms postprocess per image at shape (1, 3, 480, 640)\n",
      "\n",
      "0: 480x640 1 car, 1 bench, 41.0ms\n",
      "Speed: 5.0ms preprocess, 41.0ms inference, 2.0ms postprocess per image at shape (1, 3, 480, 640)\n",
      "\n"
     ]
    },
    {
     "name": "stdout",
     "output_type": "stream",
     "text": [
      "[array([ 917,  553, 1023,  590,   45])]\n",
      "deepsort output [[ 917  553 1023  590   45]]\n",
      "car 45\n",
      "in while loop\n",
      "[array([ 917,  554, 1023,  590,   45])]\n",
      "deepsort output [[ 917  554 1023  590   45]]\n",
      "car 45\n",
      "in while loop\n",
      "[array([ 918,  554, 1023,  590,   45])]\n",
      "deepsort output [[ 918  554 1023  590   45]]\n",
      "car 45\n",
      "in while loop\n"
     ]
    },
    {
     "name": "stderr",
     "output_type": "stream",
     "text": [
      "0: 480x640 1 car, 1 bench, 60.0ms\n",
      "Speed: 6.0ms preprocess, 60.0ms inference, 2.0ms postprocess per image at shape (1, 3, 480, 640)\n",
      "\n",
      "0: 480x640 1 car, 1 bench, 42.0ms\n",
      "Speed: 5.0ms preprocess, 42.0ms inference, 2.0ms postprocess per image at shape (1, 3, 480, 640)\n",
      "\n",
      "0: 480x640 1 car, 1 bench, 56.0ms\n",
      "Speed: 6.0ms preprocess, 56.0ms inference, 2.0ms postprocess per image at shape (1, 3, 480, 640)\n",
      "\n"
     ]
    },
    {
     "name": "stdout",
     "output_type": "stream",
     "text": [
      "[array([ 919,  554, 1023,  590,   45])]\n",
      "deepsort output [[ 919  554 1023  590   45]]\n",
      "car 45\n",
      "in while loop\n",
      "[array([ 920,  554, 1023,  590,   45])]\n",
      "deepsort output [[ 920  554 1023  590   45]]\n",
      "car 45\n",
      "in while loop\n",
      "[array([ 920,  554, 1023,  590,   45])]\n",
      "deepsort output [[ 920  554 1023  590   45]]\n",
      "car 45\n",
      "in while loop\n"
     ]
    },
    {
     "name": "stderr",
     "output_type": "stream",
     "text": [
      "0: 480x640 1 car, 1 bench, 40.0ms\n",
      "Speed: 5.0ms preprocess, 40.0ms inference, 1.0ms postprocess per image at shape (1, 3, 480, 640)\n",
      "\n",
      "0: 480x640 1 car, 1 bench, 46.0ms\n",
      "Speed: 6.0ms preprocess, 46.0ms inference, 2.0ms postprocess per image at shape (1, 3, 480, 640)\n",
      "\n",
      "0: 480x640 1 car, 1 bench, 43.0ms\n",
      "Speed: 6.0ms preprocess, 43.0ms inference, 4.0ms postprocess per image at shape (1, 3, 480, 640)\n"
     ]
    },
    {
     "name": "stdout",
     "output_type": "stream",
     "text": [
      "[array([ 920,  553, 1023,  590,   45])]\n",
      "deepsort output [[ 920  553 1023  590   45]]\n",
      "car 45\n",
      "in while loop\n",
      "[array([ 920,  553, 1023,  590,   45])]\n",
      "deepsort output [[ 920  553 1023  590   45]]\n",
      "car 45\n",
      "in while loop\n",
      "[array([ 922,  553, 1023,  590,   45])]\n",
      "deepsort output [[ 922  553 1023  590   45]]\n",
      "car 45\n",
      "in while loop\n"
     ]
    },
    {
     "name": "stderr",
     "output_type": "stream",
     "text": [
      "\n",
      "0: 480x640 1 car, 1 bench, 43.0ms\n",
      "Speed: 8.0ms preprocess, 43.0ms inference, 2.0ms postprocess per image at shape (1, 3, 480, 640)\n",
      "\n",
      "0: 480x640 1 car, 1 bench, 43.0ms\n",
      "Speed: 5.0ms preprocess, 43.0ms inference, 2.0ms postprocess per image at shape (1, 3, 480, 640)\n",
      "\n",
      "0: 480x640 1 car, 1 bench, 42.0ms\n",
      "Speed: 8.0ms preprocess, 42.0ms inference, 2.0ms postprocess per image at shape (1, 3, 480, 640)\n",
      "\n"
     ]
    },
    {
     "name": "stdout",
     "output_type": "stream",
     "text": [
      "[array([ 923,  553, 1023,  590,   45])]\n",
      "deepsort output [[ 923  553 1023  590   45]]\n",
      "car 45\n",
      "in while loop\n",
      "[array([ 924,  553, 1023,  590,   45])]\n",
      "deepsort output [[ 924  553 1023  590   45]]\n",
      "car 45\n",
      "in while loop\n",
      "[array([ 925,  553, 1023,  591,   45])]\n",
      "deepsort output [[ 925  553 1023  591   45]]\n",
      "car 45\n",
      "in while loop\n"
     ]
    },
    {
     "name": "stderr",
     "output_type": "stream",
     "text": [
      "0: 480x640 1 car, 1 bench, 48.0ms\n",
      "Speed: 5.0ms preprocess, 48.0ms inference, 2.0ms postprocess per image at shape (1, 3, 480, 640)\n",
      "\n",
      "0: 480x640 1 car, 1 bench, 41.0ms\n",
      "Speed: 6.0ms preprocess, 41.0ms inference, 2.0ms postprocess per image at shape (1, 3, 480, 640)\n",
      "\n",
      "0: 480x640 1 car, 1 bench, 45.0ms\n",
      "Speed: 7.0ms preprocess, 45.0ms inference, 1.0ms postprocess per image at shape (1, 3, 480, 640)\n"
     ]
    },
    {
     "name": "stdout",
     "output_type": "stream",
     "text": [
      "[array([ 925,  554, 1023,  591,   45])]\n",
      "deepsort output [[ 925  554 1023  591   45]]\n",
      "car 45\n",
      "in while loop\n",
      "[array([ 927,  554, 1023,  590,   45])]\n",
      "deepsort output [[ 927  554 1023  590   45]]\n",
      "car 45\n",
      "in while loop\n",
      "[array([ 928,  554, 1023,  590,   45])]\n",
      "deepsort output [[ 928  554 1023  590   45]]\n",
      "car 45\n"
     ]
    },
    {
     "name": "stderr",
     "output_type": "stream",
     "text": [
      "\n",
      "0: 480x640 1 car, 1 bench, 45.0ms\n",
      "Speed: 6.0ms preprocess, 45.0ms inference, 2.0ms postprocess per image at shape (1, 3, 480, 640)\n",
      "\n",
      "0: 480x640 1 car, 2 benchs, 44.0ms\n",
      "Speed: 4.9ms preprocess, 44.0ms inference, 1.0ms postprocess per image at shape (1, 3, 480, 640)\n",
      "\n"
     ]
    },
    {
     "name": "stdout",
     "output_type": "stream",
     "text": [
      "in while loop\n",
      "[array([ 929,  554, 1023,  590,   45])]\n",
      "deepsort output [[ 929  554 1023  590   45]]\n",
      "car 45\n",
      "in while loop\n",
      "[array([ 929,  554, 1023,  590,   45])]\n",
      "deepsort output [[ 929  554 1023  590   45]]\n",
      "car 45\n",
      "in while loop\n"
     ]
    },
    {
     "name": "stderr",
     "output_type": "stream",
     "text": [
      "0: 480x640 1 car, 2 benchs, 51.0ms\n",
      "Speed: 7.0ms preprocess, 51.0ms inference, 2.0ms postprocess per image at shape (1, 3, 480, 640)\n",
      "\n",
      "0: 480x640 1 car, 2 benchs, 42.0ms\n",
      "Speed: 5.0ms preprocess, 42.0ms inference, 2.0ms postprocess per image at shape (1, 3, 480, 640)\n",
      "\n",
      "0: 480x640 1 car, 2 benchs, 42.0ms\n",
      "Speed: 6.0ms preprocess, 42.0ms inference, 2.0ms postprocess per image at shape (1, 3, 480, 640)\n",
      "\n"
     ]
    },
    {
     "name": "stdout",
     "output_type": "stream",
     "text": [
      "[array([ 930,  554, 1023,  589,   45])]\n",
      "deepsort output [[ 930  554 1023  589   45]]\n",
      "car 45\n",
      "in while loop\n",
      "[array([ 931,  554, 1023,  589,   45])]\n",
      "deepsort output [[ 931  554 1023  589   45]]\n",
      "car 45\n",
      "in while loop\n",
      "[array([ 931,  554, 1023,  589,   45])]\n",
      "deepsort output [[ 931  554 1023  589   45]]\n",
      "car 45\n",
      "in while loop\n"
     ]
    },
    {
     "name": "stderr",
     "output_type": "stream",
     "text": [
      "0: 480x640 1 car, 1 bench, 43.0ms\n",
      "Speed: 5.0ms preprocess, 43.0ms inference, 1.0ms postprocess per image at shape (1, 3, 480, 640)\n",
      "\n",
      "0: 480x640 1 car, 1 bench, 59.0ms\n",
      "Speed: 7.0ms preprocess, 59.0ms inference, 2.0ms postprocess per image at shape (1, 3, 480, 640)\n",
      "\n",
      "0: 480x640 1 car, 1 bench, 42.0ms\n"
     ]
    },
    {
     "name": "stdout",
     "output_type": "stream",
     "text": [
      "[array([ 931,  553, 1023,  589,   45])]\n",
      "deepsort output [[ 931  553 1023  589   45]]\n",
      "car 45\n",
      "in while loop\n",
      "[array([ 931,  553, 1023,  589,   45])]\n",
      "deepsort output [[ 931  553 1023  589   45]]\n",
      "car 45\n",
      "in while loop\n"
     ]
    },
    {
     "name": "stderr",
     "output_type": "stream",
     "text": [
      "Speed: 5.0ms preprocess, 42.0ms inference, 2.0ms postprocess per image at shape (1, 3, 480, 640)\n",
      "\n",
      "0: 480x640 1 car, 1 bench, 52.4ms\n",
      "Speed: 7.0ms preprocess, 52.4ms inference, 4.0ms postprocess per image at shape (1, 3, 480, 640)\n",
      "\n",
      "0: 480x640 1 car, 1 bench, 46.0ms\n",
      "Speed: 6.0ms preprocess, 46.0ms inference, 3.0ms postprocess per image at shape (1, 3, 480, 640)\n"
     ]
    },
    {
     "name": "stdout",
     "output_type": "stream",
     "text": [
      "[array([ 933,  553, 1023,  589,   45])]\n",
      "deepsort output [[ 933  553 1023  589   45]]\n",
      "car 45\n",
      "in while loop\n",
      "[array([ 934,  552, 1023,  589,   45])]\n",
      "deepsort output [[ 934  552 1023  589   45]]\n",
      "car 45\n",
      "in while loop\n",
      "[array([ 935,  553, 1023,  588,   45])]\n",
      "deepsort output [[ 935  553 1023  588   45]]\n",
      "car 45\n",
      "in while loop\n"
     ]
    },
    {
     "name": "stderr",
     "output_type": "stream",
     "text": [
      "\n",
      "0: 480x640 1 car, 1 bench, 50.0ms\n",
      "Speed: 6.0ms preprocess, 50.0ms inference, 2.0ms postprocess per image at shape (1, 3, 480, 640)\n",
      "\n",
      "0: 480x640 1 car, 1 bench, 41.0ms\n",
      "Speed: 6.0ms preprocess, 41.0ms inference, 2.0ms postprocess per image at shape (1, 3, 480, 640)\n",
      "\n",
      "0: 480x640 1 car, 1 bench, 57.0ms\n",
      "Speed: 6.0ms preprocess, 57.0ms inference, 2.0ms postprocess per image at shape (1, 3, 480, 640)\n"
     ]
    },
    {
     "name": "stdout",
     "output_type": "stream",
     "text": [
      "[array([ 936,  553, 1023,  588,   45])]\n",
      "deepsort output [[ 936  553 1023  588   45]]\n",
      "car 45\n",
      "in while loop\n",
      "[array([ 937,  553, 1023,  588,   45])]\n",
      "deepsort output [[ 937  553 1023  588   45]]\n",
      "car 45\n",
      "in while loop\n",
      "[array([ 937,  554, 1023,  588,   45])]\n",
      "deepsort output [[ 937  554 1023  588   45]]\n",
      "car 45\n",
      "in while loop\n"
     ]
    },
    {
     "name": "stderr",
     "output_type": "stream",
     "text": [
      "\n",
      "0: 480x640 1 car, 44.0ms\n",
      "Speed: 5.0ms preprocess, 44.0ms inference, 2.0ms postprocess per image at shape (1, 3, 480, 640)\n",
      "\n",
      "0: 480x640 1 car, 53.0ms\n",
      "Speed: 7.0ms preprocess, 53.0ms inference, 2.0ms postprocess per image at shape (1, 3, 480, 640)\n",
      "\n",
      "0: 480x640 1 car, 40.0ms\n",
      "Speed: 6.0ms preprocess, 40.0ms inference, 2.0ms postprocess per image at shape (1, 3, 480, 640)\n",
      "\n"
     ]
    },
    {
     "name": "stdout",
     "output_type": "stream",
     "text": [
      "[array([ 937,  554, 1023,  588,   45])]\n",
      "deepsort output [[ 937  554 1023  588   45]]\n",
      "car 45\n",
      "in while loop\n",
      "[array([ 938,  554, 1023,  588,   45])]\n",
      "deepsort output [[ 938  554 1023  588   45]]\n",
      "car 45\n",
      "in while loop\n",
      "[array([ 939,  554, 1023,  588,   45])]\n",
      "deepsort output [[ 939  554 1023  588   45]]\n",
      "car 45\n",
      "in while loop\n"
     ]
    },
    {
     "name": "stderr",
     "output_type": "stream",
     "text": [
      "0: 480x640 1 car, 43.0ms\n",
      "Speed: 6.0ms preprocess, 43.0ms inference, 2.0ms postprocess per image at shape (1, 3, 480, 640)\n",
      "\n",
      "0: 480x640 1 car, 40.0ms\n",
      "Speed: 6.0ms preprocess, 40.0ms inference, 2.0ms postprocess per image at shape (1, 3, 480, 640)\n",
      "\n",
      "0: 480x640 1 car, 60.5ms\n",
      "Speed: 5.0ms preprocess, 60.5ms inference, 2.0ms postprocess per image at shape (1, 3, 480, 640)\n",
      "\n"
     ]
    },
    {
     "name": "stdout",
     "output_type": "stream",
     "text": [
      "[array([ 940,  554, 1023,  588,   45])]\n",
      "deepsort output [[ 940  554 1023  588   45]]\n",
      "car 45\n",
      "in while loop\n",
      "[array([ 941,  555, 1023,  588,   45])]\n",
      "deepsort output [[ 941  555 1023  588   45]]\n",
      "car 45\n",
      "in while loop\n",
      "[array([ 941,  555, 1023,  588,   45])]\n",
      "deepsort output [[ 941  555 1023  588   45]]\n",
      "car 45\n",
      "in while loop\n"
     ]
    },
    {
     "name": "stderr",
     "output_type": "stream",
     "text": [
      "0: 480x640 1 car, 42.0ms\n",
      "Speed: 5.0ms preprocess, 42.0ms inference, 2.0ms postprocess per image at shape (1, 3, 480, 640)\n",
      "\n",
      "0: 480x640 1 car, 55.0ms\n",
      "Speed: 6.0ms preprocess, 55.0ms inference, 1.0ms postprocess per image at shape (1, 3, 480, 640)\n",
      "\n",
      "0: 480x640 1 car, 2 benchs, 44.0ms\n",
      "Speed: 5.2ms preprocess, 44.0ms inference, 1.0ms postprocess per image at shape (1, 3, 480, 640)\n"
     ]
    },
    {
     "name": "stdout",
     "output_type": "stream",
     "text": [
      "[array([ 942,  555, 1023,  588,   45])]\n",
      "deepsort output [[ 942  555 1023  588   45]]\n",
      "car 45\n",
      "in while loop\n",
      "[array([ 943,  555, 1023,  588,   45])]\n",
      "deepsort output [[ 943  555 1023  588   45]]\n",
      "car 45\n",
      "in while loop\n",
      "[array([ 943,  554, 1023,  587,   45])]\n",
      "deepsort output [[ 943  554 1023  587   45]]\n",
      "car 45\n",
      "in while loop\n"
     ]
    },
    {
     "name": "stderr",
     "output_type": "stream",
     "text": [
      "\n",
      "0: 480x640 1 car, 2 benchs, 50.0ms\n",
      "Speed: 7.0ms preprocess, 50.0ms inference, 2.0ms postprocess per image at shape (1, 3, 480, 640)\n",
      "\n",
      "0: 480x640 1 car, 41.0ms\n",
      "Speed: 5.0ms preprocess, 41.0ms inference, 2.0ms postprocess per image at shape (1, 3, 480, 640)\n",
      "\n",
      "0: 480x640 1 car, 44.0ms\n",
      "Speed: 6.0ms preprocess, 44.0ms inference, 2.0ms postprocess per image at shape (1, 3, 480, 640)\n",
      "\n"
     ]
    },
    {
     "name": "stdout",
     "output_type": "stream",
     "text": [
      "[array([ 943,  554, 1023,  587,   45])]\n",
      "deepsort output [[ 943  554 1023  587   45]]\n",
      "car 45\n",
      "in while loop\n",
      "[array([ 944,  553, 1023,  587,   45])]\n",
      "deepsort output [[ 944  553 1023  587   45]]\n",
      "car 45\n",
      "in while loop\n",
      "[array([ 944,  553, 1023,  587,   45])]\n",
      "deepsort output [[ 944  553 1023  587   45]]\n",
      "car 45\n",
      "in while loop\n"
     ]
    },
    {
     "name": "stderr",
     "output_type": "stream",
     "text": [
      "0: 480x640 1 car, 1 bench, 41.0ms\n",
      "Speed: 5.0ms preprocess, 41.0ms inference, 2.0ms postprocess per image at shape (1, 3, 480, 640)\n",
      "\n",
      "0: 480x640 1 car, 1 bench, 45.0ms\n",
      "Speed: 7.0ms preprocess, 45.0ms inference, 2.0ms postprocess per image at shape (1, 3, 480, 640)\n",
      "\n",
      "0: 480x640 1 car, 1 bench, 43.0ms\n",
      "Speed: 6.0ms preprocess, 43.0ms inference, 1.0ms postprocess per image at shape (1, 3, 480, 640)\n"
     ]
    },
    {
     "name": "stdout",
     "output_type": "stream",
     "text": [
      "[array([ 946,  553, 1023,  586,   45])]\n",
      "deepsort output [[ 946  553 1023  586   45]]\n",
      "car 45\n",
      "in while loop\n",
      "[array([ 946,  553, 1023,  586,   45])]\n",
      "deepsort output [[ 946  553 1023  586   45]]\n",
      "car 45\n",
      "in while loop\n",
      "[array([ 947,  553, 1023,  586,   45])]\n",
      "deepsort output [[ 947  553 1023  586   45]]\n",
      "car 45\n"
     ]
    },
    {
     "name": "stderr",
     "output_type": "stream",
     "text": [
      "\n",
      "0: 480x640 1 car, 1 bench, 41.0ms\n",
      "Speed: 6.0ms preprocess, 41.0ms inference, 2.0ms postprocess per image at shape (1, 3, 480, 640)\n",
      "\n",
      "0: 480x640 1 car, 1 bench, 45.0ms\n",
      "Speed: 5.0ms preprocess, 45.0ms inference, 2.0ms postprocess per image at shape (1, 3, 480, 640)\n",
      "\n"
     ]
    },
    {
     "name": "stdout",
     "output_type": "stream",
     "text": [
      "in while loop\n",
      "[array([ 948,  554, 1023,  587,   45])]\n",
      "deepsort output [[ 948  554 1023  587   45]]\n",
      "car 45\n",
      "in while loop\n",
      "[array([ 948,  554, 1023,  587,   45])]\n",
      "deepsort output [[ 948  554 1023  587   45]]\n",
      "car 45\n",
      "in while loop\n"
     ]
    },
    {
     "name": "stderr",
     "output_type": "stream",
     "text": [
      "0: 480x640 1 car, 1 bench, 42.0ms\n",
      "Speed: 5.0ms preprocess, 42.0ms inference, 2.0ms postprocess per image at shape (1, 3, 480, 640)\n",
      "\n",
      "0: 480x640 1 car, 1 bench, 45.0ms\n",
      "Speed: 5.0ms preprocess, 45.0ms inference, 2.0ms postprocess per image at shape (1, 3, 480, 640)\n",
      "\n",
      "0: 480x640 1 car, 1 bench, 44.0ms\n",
      "Speed: 6.0ms preprocess, 44.0ms inference, 2.0ms postprocess per image at shape (1, 3, 480, 640)\n"
     ]
    },
    {
     "name": "stdout",
     "output_type": "stream",
     "text": [
      "[array([ 949,  554, 1023,  587,   45])]\n",
      "deepsort output [[ 949  554 1023  587   45]]\n",
      "car 45\n",
      "in while loop\n",
      "[array([ 949,  555, 1023,  587,   45])]\n",
      "deepsort output [[ 949  555 1023  587   45]]\n",
      "car 45\n",
      "in while loop\n",
      "[array([ 951,  555, 1023,  587,   45])]\n",
      "deepsort output [[ 951  555 1023  587   45]]\n",
      "car 45\n",
      "in while loop\n"
     ]
    },
    {
     "name": "stderr",
     "output_type": "stream",
     "text": [
      "\n",
      "0: 480x640 1 car, 1 bench, 41.0ms\n",
      "Speed: 7.0ms preprocess, 41.0ms inference, 2.0ms postprocess per image at shape (1, 3, 480, 640)\n",
      "\n",
      "0: 480x640 1 car, 2 benchs, 41.0ms\n",
      "Speed: 6.0ms preprocess, 41.0ms inference, 1.0ms postprocess per image at shape (1, 3, 480, 640)\n",
      "\n",
      "0: 480x640 1 car, 2 benchs, 41.0ms\n",
      "Speed: 5.0ms preprocess, 41.0ms inference, 2.0ms postprocess per image at shape (1, 3, 480, 640)\n",
      "\n"
     ]
    },
    {
     "name": "stdout",
     "output_type": "stream",
     "text": [
      "[array([ 951,  555, 1023,  588,   45])]\n",
      "deepsort output [[ 951  555 1023  588   45]]\n",
      "car 45\n",
      "in while loop\n",
      "[array([ 952,  556, 1023,  588,   45])]\n",
      "deepsort output [[ 952  556 1023  588   45]]\n",
      "car 45\n",
      "in while loop\n",
      "[array([ 952,  556, 1023,  588,   45])]\n",
      "deepsort output [[ 952  556 1023  588   45]]\n",
      "car 45\n",
      "in while loop\n"
     ]
    },
    {
     "name": "stderr",
     "output_type": "stream",
     "text": [
      "0: 480x640 1 car, 2 benchs, 41.0ms\n",
      "Speed: 5.0ms preprocess, 41.0ms inference, 2.0ms postprocess per image at shape (1, 3, 480, 640)\n",
      "\n",
      "0: 480x640 1 car, 2 benchs, 44.0ms\n",
      "Speed: 5.0ms preprocess, 44.0ms inference, 4.0ms postprocess per image at shape (1, 3, 480, 640)\n",
      "\n",
      "0: 480x640 1 car, 2 benchs, 42.0ms\n",
      "Speed: 6.0ms preprocess, 42.0ms inference, 2.0ms postprocess per image at shape (1, 3, 480, 640)\n"
     ]
    },
    {
     "name": "stdout",
     "output_type": "stream",
     "text": [
      "[array([ 953,  556, 1023,  588,   45])]\n",
      "deepsort output [[ 953  556 1023  588   45]]\n",
      "car 45\n",
      "in while loop\n",
      "[array([ 954,  556, 1023,  588,   45])]\n",
      "deepsort output [[ 954  556 1023  588   45]]\n",
      "car 45\n",
      "in while loop\n",
      "[array([ 954,  556, 1023,  588,   45])]\n",
      "deepsort output [[ 954  556 1023  588   45]]\n",
      "car 45\n"
     ]
    },
    {
     "name": "stderr",
     "output_type": "stream",
     "text": [
      "\n",
      "0: 480x640 1 car, 2 benchs, 42.0ms\n",
      "Speed: 7.0ms preprocess, 42.0ms inference, 2.0ms postprocess per image at shape (1, 3, 480, 640)\n",
      "\n",
      "0: 480x640 1 car, 2 benchs, 41.5ms\n",
      "Speed: 5.0ms preprocess, 41.5ms inference, 2.0ms postprocess per image at shape (1, 3, 480, 640)\n",
      "\n"
     ]
    },
    {
     "name": "stdout",
     "output_type": "stream",
     "text": [
      "in while loop\n",
      "[array([ 953,  554, 1023,  588,   45])]\n",
      "deepsort output [[ 953  554 1023  588   45]]\n",
      "car 45\n",
      "in while loop\n",
      "[array([ 953,  554, 1023,  588,   45])]\n",
      "deepsort output [[ 953  554 1023  588   45]]\n",
      "car 45\n",
      "in while loop\n"
     ]
    },
    {
     "name": "stderr",
     "output_type": "stream",
     "text": [
      "0: 480x640 1 car, 2 benchs, 43.0ms\n",
      "Speed: 5.0ms preprocess, 43.0ms inference, 2.0ms postprocess per image at shape (1, 3, 480, 640)\n",
      "\n",
      "0: 480x640 1 car, 2 benchs, 57.0ms\n",
      "Speed: 6.0ms preprocess, 57.0ms inference, 2.0ms postprocess per image at shape (1, 3, 480, 640)\n",
      "\n",
      "0: 480x640 1 car, 1 bench, 42.7ms\n",
      "Speed: 5.0ms preprocess, 42.7ms inference, 2.0ms postprocess per image at shape (1, 3, 480, 640)\n"
     ]
    },
    {
     "name": "stdout",
     "output_type": "stream",
     "text": [
      "[array([ 956,  556, 1023,  588,   45])]\n",
      "deepsort output [[ 956  556 1023  588   45]]\n",
      "car 45\n",
      "in while loop\n",
      "[array([ 956,  556, 1023,  588,   45])]\n",
      "deepsort output [[ 956  556 1023  588   45]]\n",
      "car 45\n",
      "in while loop\n",
      "[array([ 958,  557, 1023,  588,   45])]\n",
      "deepsort output [[ 958  557 1023  588   45]]\n",
      "car 45\n",
      "in while loop\n"
     ]
    },
    {
     "name": "stderr",
     "output_type": "stream",
     "text": [
      "\n",
      "0: 480x640 1 car, 1 bench, 52.0ms\n",
      "Speed: 7.0ms preprocess, 52.0ms inference, 2.0ms postprocess per image at shape (1, 3, 480, 640)\n",
      "\n",
      "0: 480x640 1 car, 1 bench, 44.0ms\n",
      "Speed: 5.0ms preprocess, 44.0ms inference, 2.0ms postprocess per image at shape (1, 3, 480, 640)\n",
      "\n",
      "0: 480x640 1 car, 1 bench, 55.0ms\n",
      "Speed: 6.0ms preprocess, 55.0ms inference, 2.0ms postprocess per image at shape (1, 3, 480, 640)\n",
      "\n"
     ]
    },
    {
     "name": "stdout",
     "output_type": "stream",
     "text": [
      "[array([ 958,  557, 1023,  588,   45])]\n",
      "deepsort output [[ 958  557 1023  588   45]]\n",
      "car 45\n",
      "in while loop\n",
      "[array([ 957,  556, 1023,  588,   45])]\n",
      "deepsort output [[ 957  556 1023  588   45]]\n",
      "car 45\n",
      "in while loop\n",
      "[array([ 957,  555, 1023,  588,   45])]\n",
      "deepsort output [[ 957  555 1023  588   45]]\n",
      "car 45\n",
      "in while loop\n"
     ]
    },
    {
     "name": "stderr",
     "output_type": "stream",
     "text": [
      "0: 480x640 1 car, 1 bench, 44.0ms\n",
      "Speed: 5.0ms preprocess, 44.0ms inference, 2.0ms postprocess per image at shape (1, 3, 480, 640)\n",
      "\n",
      "0: 480x640 1 car, 1 bench, 57.0ms\n",
      "Speed: 7.0ms preprocess, 57.0ms inference, 4.0ms postprocess per image at shape (1, 3, 480, 640)\n",
      "\n",
      "0: 480x640 1 car, 1 bench, 41.0ms\n",
      "Speed: 5.0ms preprocess, 41.0ms inference, 2.0ms postprocess per image at shape (1, 3, 480, 640)\n",
      "\n"
     ]
    },
    {
     "name": "stdout",
     "output_type": "stream",
     "text": [
      "[array([ 959,  556, 1023,  588,   45])]\n",
      "deepsort output [[ 959  556 1023  588   45]]\n",
      "car 45\n",
      "in while loop\n",
      "[array([ 960,  556, 1023,  588,   45])]\n",
      "deepsort output [[ 960  556 1023  588   45]]\n",
      "car 45\n",
      "in while loop\n",
      "[array([ 959,  554, 1023,  588,   45])]\n",
      "deepsort output [[ 959  554 1023  588   45]]\n",
      "car 45\n",
      "in while loop\n"
     ]
    },
    {
     "name": "stderr",
     "output_type": "stream",
     "text": [
      "0: 480x640 1 car, 1 bench, 44.0ms\n",
      "Speed: 7.0ms preprocess, 44.0ms inference, 2.0ms postprocess per image at shape (1, 3, 480, 640)\n",
      "\n",
      "0: 480x640 1 car, 1 bench, 46.0ms\n",
      "Speed: 5.0ms preprocess, 46.0ms inference, 2.0ms postprocess per image at shape (1, 3, 480, 640)\n",
      "\n",
      "0: 480x640 1 car, 1 bench, 53.0ms\n",
      "Speed: 6.0ms preprocess, 53.0ms inference, 3.0ms postprocess per image at shape (1, 3, 480, 640)\n"
     ]
    },
    {
     "name": "stdout",
     "output_type": "stream",
     "text": [
      "[array([ 959,  554, 1023,  588,   45])]\n",
      "deepsort output [[ 959  554 1023  588   45]]\n",
      "car 45\n",
      "in while loop\n",
      "[array([ 959,  554, 1023,  588,   45])]\n",
      "deepsort output [[ 959  554 1023  588   45]]\n",
      "car 45\n",
      "in while loop\n",
      "[array([ 960,  553, 1023,  588,   45])]\n",
      "deepsort output [[ 960  553 1023  588   45]]\n",
      "car 45\n",
      "in while loop\n"
     ]
    },
    {
     "name": "stderr",
     "output_type": "stream",
     "text": [
      "\n",
      "0: 480x640 1 car, 1 bench, 43.0ms\n",
      "Speed: 6.0ms preprocess, 43.0ms inference, 2.0ms postprocess per image at shape (1, 3, 480, 640)\n",
      "\n",
      "0: 480x640 1 car, 1 bench, 47.0ms\n",
      "Speed: 6.0ms preprocess, 47.0ms inference, 2.0ms postprocess per image at shape (1, 3, 480, 640)\n",
      "\n",
      "0: 480x640 1 car, 1 bench, 44.0ms\n",
      "Speed: 5.0ms preprocess, 44.0ms inference, 2.0ms postprocess per image at shape (1, 3, 480, 640)\n"
     ]
    },
    {
     "name": "stdout",
     "output_type": "stream",
     "text": [
      "[array([ 960,  553, 1023,  588,   45])]\n",
      "deepsort output [[ 960  553 1023  588   45]]\n",
      "car 45\n",
      "in while loop\n",
      "[array([ 960,  553, 1023,  588,   45])]\n",
      "deepsort output [[ 960  553 1023  588   45]]\n",
      "car 45\n",
      "in while loop\n",
      "[array([ 963,  554, 1023,  588,   45])]\n",
      "deepsort output [[ 963  554 1023  588   45]]\n",
      "car 45\n"
     ]
    },
    {
     "name": "stderr",
     "output_type": "stream",
     "text": [
      "\n",
      "0: 480x640 1 car, 1 bench, 58.0ms\n",
      "Speed: 6.0ms preprocess, 58.0ms inference, 2.0ms postprocess per image at shape (1, 3, 480, 640)\n",
      "\n",
      "0: 480x640 1 car, 1 bench, 43.0ms\n",
      "Speed: 5.0ms preprocess, 43.0ms inference, 2.0ms postprocess per image at shape (1, 3, 480, 640)\n",
      "\n"
     ]
    },
    {
     "name": "stdout",
     "output_type": "stream",
     "text": [
      "in while loop\n",
      "[array([ 964,  555, 1023,  588,   45])]\n",
      "deepsort output [[ 964  555 1023  588   45]]\n",
      "car 45\n",
      "in while loop\n",
      "[array([ 964,  555, 1023,  588,   45])]\n",
      "deepsort output [[ 964  555 1023  588   45]]\n",
      "car 45\n",
      "in while loop\n"
     ]
    },
    {
     "name": "stderr",
     "output_type": "stream",
     "text": [
      "0: 480x640 1 car, 1 bench, 46.0ms\n",
      "Speed: 6.0ms preprocess, 46.0ms inference, 2.0ms postprocess per image at shape (1, 3, 480, 640)\n",
      "\n",
      "0: 480x640 1 car, 1 bench, 40.0ms\n",
      "Speed: 6.0ms preprocess, 40.0ms inference, 2.0ms postprocess per image at shape (1, 3, 480, 640)\n",
      "\n",
      "0: 480x640 1 car, 1 bench, 45.0ms\n",
      "Speed: 7.0ms preprocess, 45.0ms inference, 2.0ms postprocess per image at shape (1, 3, 480, 640)\n",
      "\n"
     ]
    },
    {
     "name": "stdout",
     "output_type": "stream",
     "text": [
      "[array([ 965,  555, 1023,  588,   45])]\n",
      "deepsort output [[ 965  555 1023  588   45]]\n",
      "car 45\n",
      "in while loop\n",
      "[array([ 966,  555, 1023,  588,   45])]\n",
      "deepsort output [[ 966  555 1023  588   45]]\n",
      "car 45\n",
      "in while loop\n",
      "[array([ 966,  555, 1023,  588,   45])]\n",
      "deepsort output [[ 966  555 1023  588   45]]\n",
      "car 45\n",
      "in while loop\n"
     ]
    },
    {
     "name": "stderr",
     "output_type": "stream",
     "text": [
      "0: 480x640 1 bench, 45.0ms\n",
      "Speed: 5.0ms preprocess, 45.0ms inference, 2.0ms postprocess per image at shape (1, 3, 480, 640)\n",
      "\n",
      "0: 480x640 1 bench, 71.0ms\n",
      "Speed: 14.0ms preprocess, 71.0ms inference, 2.0ms postprocess per image at shape (1, 3, 480, 640)\n",
      "\n"
     ]
    },
    {
     "name": "stdout",
     "output_type": "stream",
     "text": [
      "[array([ 967,  554, 1023,  588,   45])]\n",
      "deepsort output [[ 967  554 1023  588   45]]\n",
      "in while loop\n",
      "deepsort output []\n",
      "in while loop\n"
     ]
    },
    {
     "name": "stderr",
     "output_type": "stream",
     "text": [
      "0: 480x640 1 car, 57.0ms\n",
      "Speed: 5.0ms preprocess, 57.0ms inference, 2.0ms postprocess per image at shape (1, 3, 480, 640)\n",
      "\n",
      "0: 480x640 1 car, 60.0ms\n",
      "Speed: 4.9ms preprocess, 60.0ms inference, 2.0ms postprocess per image at shape (1, 3, 480, 640)\n",
      "\n"
     ]
    },
    {
     "name": "stdout",
     "output_type": "stream",
     "text": [
      "deepsort output []\n",
      "in while loop\n",
      "deepsort output []\n",
      "in while loop\n"
     ]
    },
    {
     "name": "stderr",
     "output_type": "stream",
     "text": [
      "0: 480x640 1 car, 1 bench, 43.0ms\n",
      "Speed: 5.0ms preprocess, 43.0ms inference, 2.0ms postprocess per image at shape (1, 3, 480, 640)\n",
      "\n",
      "0: 480x640 1 car, 1 bench, 59.0ms\n",
      "Speed: 5.0ms preprocess, 59.0ms inference, 2.0ms postprocess per image at shape (1, 3, 480, 640)\n",
      "\n",
      "0: 480x640 1 car, 1 bench, 41.0ms\n",
      "Speed: 5.0ms preprocess, 41.0ms inference, 2.0ms postprocess per image at shape (1, 3, 480, 640)\n",
      "\n"
     ]
    },
    {
     "name": "stdout",
     "output_type": "stream",
     "text": [
      "[array([ 964,  560, 1008,  595,   46])]\n",
      "deepsort output [[ 964  560 1008  595   46]]\n",
      "car 46\n",
      "in while loop\n",
      "[array([ 962,  562, 1004,  594,   46])]\n",
      "deepsort output [[ 962  562 1004  594   46]]\n",
      "car 46\n",
      "in while loop\n",
      "[array([953, 562, 999, 596,  46])]\n",
      "deepsort output [[953 562 999 596  46]]\n",
      "car 46\n",
      "in while loop\n"
     ]
    },
    {
     "name": "stderr",
     "output_type": "stream",
     "text": [
      "0: 480x640 1 car, 1 bench, 59.0ms\n",
      "Speed: 5.0ms preprocess, 59.0ms inference, 2.0ms postprocess per image at shape (1, 3, 480, 640)\n",
      "\n",
      "0: 480x640 1 car, 1 bench, 41.0ms\n",
      "Speed: 5.0ms preprocess, 41.0ms inference, 2.0ms postprocess per image at shape (1, 3, 480, 640)\n",
      "\n",
      "0: 480x640 1 car, 1 bench, 59.0ms\n",
      "Speed: 5.0ms preprocess, 59.0ms inference, 3.0ms postprocess per image at shape (1, 3, 480, 640)\n"
     ]
    },
    {
     "name": "stdout",
     "output_type": "stream",
     "text": [
      "[array([950, 562, 998, 596,  46])]\n",
      "deepsort output [[950 562 998 596  46]]\n",
      "car 46\n",
      "in while loop\n",
      "[array([ 948,  561, 1001,  597,   46])]\n",
      "deepsort output [[ 948  561 1001  597   46]]\n",
      "car 46\n",
      "in while loop\n",
      "[array([ 947,  561, 1003,  597,   46])]\n",
      "deepsort output [[ 947  561 1003  597   46]]\n",
      "car 46\n",
      "in while loop\n"
     ]
    },
    {
     "name": "stderr",
     "output_type": "stream",
     "text": [
      "\n",
      "0: 480x640 1 car, 1 bench, 42.0ms\n",
      "Speed: 5.0ms preprocess, 42.0ms inference, 2.0ms postprocess per image at shape (1, 3, 480, 640)\n",
      "\n",
      "0: 480x640 1 car, 1 bench, 60.0ms\n",
      "Speed: 5.0ms preprocess, 60.0ms inference, 2.0ms postprocess per image at shape (1, 3, 480, 640)\n",
      "\n",
      "0: 480x640 1 car, 1 bench, 40.0ms\n",
      "Speed: 5.0ms preprocess, 40.0ms inference, 2.0ms postprocess per image at shape (1, 3, 480, 640)\n"
     ]
    },
    {
     "name": "stdout",
     "output_type": "stream",
     "text": [
      "[array([ 945,  561, 1006,  598,   46])]\n",
      "deepsort output [[ 945  561 1006  598   46]]\n",
      "car 46\n",
      "in while loop\n",
      "[array([ 944,  561, 1007,  599,   46])]\n",
      "deepsort output [[ 944  561 1007  599   46]]\n",
      "car 46\n",
      "in while loop\n",
      "[array([ 945,  561, 1009,  599,   46])]\n",
      "deepsort output [[ 945  561 1009  599   46]]\n",
      "car 46\n",
      "in while loop\n"
     ]
    },
    {
     "name": "stderr",
     "output_type": "stream",
     "text": [
      "\n",
      "0: 480x640 1 car, 1 bench, 53.0ms\n",
      "Speed: 7.0ms preprocess, 53.0ms inference, 2.0ms postprocess per image at shape (1, 3, 480, 640)\n",
      "\n",
      "0: 480x640 1 car, 1 bench, 41.0ms\n",
      "Speed: 7.0ms preprocess, 41.0ms inference, 2.0ms postprocess per image at shape (1, 3, 480, 640)\n",
      "\n",
      "0: 480x640 1 car, 1 bench, 45.0ms\n",
      "Speed: 6.0ms preprocess, 45.0ms inference, 2.0ms postprocess per image at shape (1, 3, 480, 640)\n",
      "\n"
     ]
    },
    {
     "name": "stdout",
     "output_type": "stream",
     "text": [
      "[array([ 945,  562, 1010,  599,   46])]\n",
      "deepsort output [[ 945  562 1010  599   46]]\n",
      "car 46\n",
      "in while loop\n",
      "[array([ 945,  562, 1011,  598,   46])]\n",
      "deepsort output [[ 945  562 1011  598   46]]\n",
      "car 46\n",
      "in while loop\n",
      "[array([ 944,  562, 1012,  598,   46])]\n",
      "deepsort output [[ 944  562 1012  598   46]]\n",
      "car 46\n",
      "in while loop\n"
     ]
    },
    {
     "name": "stderr",
     "output_type": "stream",
     "text": [
      "0: 480x640 2 cars, 1 bench, 40.0ms\n",
      "Speed: 6.0ms preprocess, 40.0ms inference, 2.0ms postprocess per image at shape (1, 3, 480, 640)\n",
      "\n",
      "0: 480x640 2 cars, 1 bench, 45.0ms\n",
      "Speed: 7.0ms preprocess, 45.0ms inference, 2.0ms postprocess per image at shape (1, 3, 480, 640)\n",
      "\n",
      "0: 480x640 2 cars, 2 benchs, 46.0ms\n",
      "Speed: 5.0ms preprocess, 46.0ms inference, 2.0ms postprocess per image at shape (1, 3, 480, 640)\n"
     ]
    },
    {
     "name": "stdout",
     "output_type": "stream",
     "text": [
      "[array([ 944,  561, 1014,  598,   46])]\n",
      "deepsort output [[ 944  561 1014  598   46]]\n",
      "car 46\n",
      "in while loop\n",
      "[array([ 943,  561, 1015,  598,   46])]\n",
      "deepsort output [[ 943  561 1015  598   46]]\n",
      "car 46\n",
      "in while loop\n",
      "[array([ 944,  561, 1016,  598,   46])]\n",
      "[array([ 944,  561, 1016,  598,   46]), array([154, 558, 205, 582,  47])]\n",
      "deepsort output [[ 944  561 1016  598   46]\n",
      " [ 154  558  205  582   47]]\n",
      "car 46\n",
      "car 47\n"
     ]
    },
    {
     "name": "stderr",
     "output_type": "stream",
     "text": [
      "\n",
      "0: 480x640 2 cars, 2 benchs, 41.0ms\n",
      "Speed: 6.0ms preprocess, 41.0ms inference, 2.0ms postprocess per image at shape (1, 3, 480, 640)\n",
      "\n",
      "0: 480x640 2 cars, 2 benchs, 41.0ms\n",
      "Speed: 6.0ms preprocess, 41.0ms inference, 2.0ms postprocess per image at shape (1, 3, 480, 640)\n"
     ]
    },
    {
     "name": "stdout",
     "output_type": "stream",
     "text": [
      "in while loop\n",
      "[array([ 943,  560, 1019,  598,   46])]\n",
      "[array([ 943,  560, 1019,  598,   46]), array([145, 561, 185, 581,  47])]\n",
      "deepsort output [[ 943  560 1019  598   46]\n",
      " [ 145  561  185  581   47]]\n",
      "car 46\n",
      "car 47\n",
      "in while loop\n",
      "[array([ 942,  560, 1020,  598,   46])]\n",
      "[array([ 942,  560, 1020,  598,   46]), array([143, 563, 179, 580,  47])]\n",
      "deepsort output [[ 942  560 1020  598   46]\n",
      " [ 143  563  179  580   47]]\n",
      "car 46\n",
      "car 47\n"
     ]
    },
    {
     "name": "stderr",
     "output_type": "stream",
     "text": [
      "\n",
      "0: 480x640 2 cars, 1 bench, 40.0ms\n",
      "Speed: 6.0ms preprocess, 40.0ms inference, 2.0ms postprocess per image at shape (1, 3, 480, 640)\n",
      "\n",
      "0: 480x640 2 cars, 1 bench, 63.0ms\n",
      "Speed: 5.5ms preprocess, 63.0ms inference, 2.0ms postprocess per image at shape (1, 3, 480, 640)\n",
      "\n"
     ]
    },
    {
     "name": "stdout",
     "output_type": "stream",
     "text": [
      "in while loop\n",
      "[array([ 942,  560, 1020,  599,   46])]\n",
      "[array([ 942,  560, 1020,  599,   46]), array([140, 563, 177, 581,  47])]\n",
      "deepsort output [[ 942  560 1020  599   46]\n",
      " [ 140  563  177  581   47]]\n",
      "car 46\n",
      "car 47\n",
      "in while loop\n",
      "[array([ 941,  560, 1021,  599,   46])]\n",
      "[array([ 941,  560, 1021,  599,   46]), array([139, 563, 176, 581,  47])]\n",
      "deepsort output [[ 941  560 1021  599   46]\n",
      " [ 139  563  176  581   47]]\n",
      "car 46\n",
      "car 47\n",
      "in while loop\n"
     ]
    },
    {
     "name": "stderr",
     "output_type": "stream",
     "text": [
      "0: 480x640 2 cars, 1 bench, 44.0ms\n",
      "Speed: 5.0ms preprocess, 44.0ms inference, 1.0ms postprocess per image at shape (1, 3, 480, 640)\n",
      "\n",
      "0: 480x640 2 cars, 1 bench, 59.0ms\n",
      "Speed: 6.0ms preprocess, 59.0ms inference, 2.0ms postprocess per image at shape (1, 3, 480, 640)\n",
      "\n",
      "0: 480x640 2 cars, 1 bench, 49.0ms\n",
      "Speed: 6.0ms preprocess, 49.0ms inference, 2.0ms postprocess per image at shape (1, 3, 480, 640)\n",
      "\n"
     ]
    },
    {
     "name": "stdout",
     "output_type": "stream",
     "text": [
      "[array([ 942,  560, 1020,  599,   46])]\n",
      "[array([ 942,  560, 1020,  599,   46]), array([137, 562, 176, 581,  47])]\n",
      "deepsort output [[ 942  560 1020  599   46]\n",
      " [ 137  562  176  581   47]]\n",
      "car 46\n",
      "car 47\n",
      "in while loop\n",
      "[array([ 942,  560, 1021,  599,   46])]\n",
      "[array([ 942,  560, 1021,  599,   46]), array([137, 562, 177, 581,  47])]\n",
      "deepsort output [[ 942  560 1021  599   46]\n",
      " [ 137  562  177  581   47]]\n",
      "car 46\n",
      "car 47\n",
      "in while loop\n",
      "[array([ 943,  561, 1021,  599,   46])]\n",
      "[array([ 943,  561, 1021,  599,   46]), array([137, 562, 177, 581,  47])]\n",
      "deepsort output [[ 943  561 1021  599   46]\n",
      " [ 137  562  177  581   47]]\n",
      "car 46\n",
      "car 47\n",
      "in while loop\n"
     ]
    },
    {
     "name": "stderr",
     "output_type": "stream",
     "text": [
      "0: 480x640 2 cars, 1 bench, 41.0ms\n",
      "Speed: 6.0ms preprocess, 41.0ms inference, 2.0ms postprocess per image at shape (1, 3, 480, 640)\n",
      "\n",
      "0: 480x640 2 cars, 1 bench, 40.0ms\n",
      "Speed: 5.0ms preprocess, 40.0ms inference, 2.0ms postprocess per image at shape (1, 3, 480, 640)\n",
      "\n",
      "0: 480x640 2 cars, 1 bench, 43.8ms\n",
      "Speed: 6.0ms preprocess, 43.8ms inference, 3.0ms postprocess per image at shape (1, 3, 480, 640)\n",
      "\n"
     ]
    },
    {
     "name": "stdout",
     "output_type": "stream",
     "text": [
      "[array([ 944,  561, 1021,  599,   46])]\n",
      "[array([ 944,  561, 1021,  599,   46]), array([133, 560, 178, 581,  47])]\n",
      "deepsort output [[ 944  561 1021  599   46]\n",
      " [ 133  560  178  581   47]]\n",
      "car 46\n",
      "car 47\n",
      "in while loop\n",
      "[array([ 944,  562, 1021,  599,   46])]\n",
      "[array([ 944,  562, 1021,  599,   46]), array([132, 560, 178, 581,  47])]\n",
      "deepsort output [[ 944  562 1021  599   46]\n",
      " [ 132  560  178  581   47]]\n",
      "car 46\n",
      "car 47\n",
      "in while loop\n",
      "[array([ 944,  562, 1021,  599,   46])]\n",
      "[array([ 944,  562, 1021,  599,   46]), array([131, 560, 179, 581,  47])]\n",
      "deepsort output [[ 944  562 1021  599   46]\n",
      " [ 131  560  179  581   47]]\n",
      "car 46\n",
      "car 47\n",
      "in while loop\n"
     ]
    },
    {
     "name": "stderr",
     "output_type": "stream",
     "text": [
      "0: 480x640 2 cars, 1 bench, 42.0ms\n",
      "Speed: 5.0ms preprocess, 42.0ms inference, 2.0ms postprocess per image at shape (1, 3, 480, 640)\n",
      "\n",
      "0: 480x640 2 cars, 1 bench, 46.0ms\n",
      "Speed: 8.0ms preprocess, 46.0ms inference, 2.0ms postprocess per image at shape (1, 3, 480, 640)\n",
      "\n",
      "0: 480x640 2 cars, 1 bench, 40.0ms\n",
      "Speed: 5.0ms preprocess, 40.0ms inference, 2.0ms postprocess per image at shape (1, 3, 480, 640)\n",
      "\n"
     ]
    },
    {
     "name": "stdout",
     "output_type": "stream",
     "text": [
      "[array([ 945,  561, 1023,  599,   46])]\n",
      "[array([ 945,  561, 1023,  599,   46]), array([129, 561, 175, 581,  47])]\n",
      "deepsort output [[ 945  561 1023  599   46]\n",
      " [ 129  561  175  581   47]]\n",
      "car 46\n",
      "car 47\n",
      "in while loop\n",
      "[array([ 945,  561, 1023,  599,   46])]\n",
      "[array([ 945,  561, 1023,  599,   46]), array([128, 561, 174, 581,  47])]\n",
      "deepsort output [[ 945  561 1023  599   46]\n",
      " [ 128  561  174  581   47]]\n",
      "car 46\n",
      "car 47\n",
      "in while loop\n",
      "[array([ 945,  561, 1023,  600,   46])]\n",
      "[array([ 945,  561, 1023,  600,   46]), array([126, 562, 172, 581,  47])]\n",
      "deepsort output [[ 945  561 1023  600   46]\n",
      " [ 126  562  172  581   47]]\n",
      "car 46\n",
      "car 47\n",
      "in while loop\n"
     ]
    },
    {
     "name": "stderr",
     "output_type": "stream",
     "text": [
      "0: 480x640 2 cars, 1 bench, 45.0ms\n",
      "Speed: 7.0ms preprocess, 45.0ms inference, 2.0ms postprocess per image at shape (1, 3, 480, 640)\n",
      "\n",
      "0: 480x640 2 cars, 1 bench, 43.0ms\n",
      "Speed: 6.0ms preprocess, 43.0ms inference, 1.0ms postprocess per image at shape (1, 3, 480, 640)\n",
      "\n",
      "0: 480x640 2 cars, 1 bench, 46.0ms\n",
      "Speed: 7.0ms preprocess, 46.0ms inference, 2.0ms postprocess per image at shape (1, 3, 480, 640)\n"
     ]
    },
    {
     "name": "stdout",
     "output_type": "stream",
     "text": [
      "[array([ 946,  561, 1023,  600,   46])]\n",
      "[array([ 946,  561, 1023,  600,   46]), array([124, 562, 172, 581,  47])]\n",
      "deepsort output [[ 946  561 1023  600   46]\n",
      " [ 124  562  172  581   47]]\n",
      "car 46\n",
      "car 47\n",
      "in while loop\n",
      "[array([ 946,  561, 1023,  600,   46])]\n",
      "[array([ 946,  561, 1023,  600,   46]), array([115, 560, 172, 582,  47])]\n",
      "deepsort output [[ 946  561 1023  600   46]\n",
      " [ 115  560  172  582   47]]\n",
      "car 46\n",
      "car 47\n",
      "in while loop\n",
      "[array([ 946,  561, 1023,  600,   46])]\n",
      "[array([ 946,  561, 1023,  600,   46]), array([112, 559, 172, 582,  47])]\n",
      "deepsort output [[ 946  561 1023  600   46]\n",
      " [ 112  559  172  582   47]]\n",
      "car 46\n",
      "car 47\n"
     ]
    },
    {
     "name": "stderr",
     "output_type": "stream",
     "text": [
      "\n",
      "0: 480x640 1 car, 1 bench, 41.0ms\n",
      "Speed: 5.0ms preprocess, 41.0ms inference, 2.0ms postprocess per image at shape (1, 3, 480, 640)\n",
      "\n",
      "0: 480x640 1 car, 1 bench, 43.0ms\n",
      "Speed: 7.0ms preprocess, 43.0ms inference, 2.0ms postprocess per image at shape (1, 3, 480, 640)\n",
      "\n"
     ]
    },
    {
     "name": "stdout",
     "output_type": "stream",
     "text": [
      "in while loop\n",
      "[array([ 946,  561, 1023,  600,   46])]\n",
      "[array([ 946,  561, 1023,  600,   46]), array([107, 559, 168, 582,  47])]\n",
      "deepsort output [[ 946  561 1023  600   46]\n",
      " [ 107  559  168  582   47]]\n",
      "car 46\n",
      "in while loop\n",
      "[array([104, 558, 167, 583,  47])]\n",
      "deepsort output [[104 558 167 583  47]]\n",
      "car 47\n",
      "in while loop\n"
     ]
    },
    {
     "name": "stderr",
     "output_type": "stream",
     "text": [
      "0: 480x640 2 cars, 1 bench, 41.0ms\n",
      "Speed: 5.0ms preprocess, 41.0ms inference, 2.0ms postprocess per image at shape (1, 3, 480, 640)\n",
      "\n",
      "0: 480x640 2 cars, 1 bench, 47.0ms\n",
      "Speed: 6.6ms preprocess, 47.0ms inference, 2.0ms postprocess per image at shape (1, 3, 480, 640)\n",
      "\n",
      "0: 480x640 2 cars, 1 bench, 42.0ms\n",
      "Speed: 5.0ms preprocess, 42.0ms inference, 2.0ms postprocess per image at shape (1, 3, 480, 640)\n",
      "\n"
     ]
    },
    {
     "name": "stdout",
     "output_type": "stream",
     "text": [
      "[array([ 99, 559, 163, 583,  47])]\n",
      "deepsort output [[ 99 559 163 583  47]]\n",
      "car 47\n",
      "in while loop\n",
      "[array([ 96, 559, 161, 583,  47])]\n",
      "deepsort output [[ 96 559 161 583  47]]\n",
      "car 47\n",
      "in while loop\n",
      "[array([ 949,  561, 1023,  599,   46])]\n",
      "[array([ 949,  561, 1023,  599,   46]), array([ 92, 559, 157, 584,  47])]\n",
      "deepsort output [[ 949  561 1023  599   46]\n",
      " [  92  559  157  584   47]]\n",
      "car 46\n",
      "car 47\n",
      "in while loop\n"
     ]
    },
    {
     "name": "stderr",
     "output_type": "stream",
     "text": [
      "0: 480x640 2 cars, 1 bench, 45.0ms\n",
      "Speed: 6.0ms preprocess, 45.0ms inference, 3.0ms postprocess per image at shape (1, 3, 480, 640)\n",
      "\n",
      "0: 480x640 2 cars, 1 bench, 44.9ms\n",
      "Speed: 5.0ms preprocess, 44.9ms inference, 4.0ms postprocess per image at shape (1, 3, 480, 640)\n",
      "\n",
      "0: 480x640 2 cars, 1 truck, 41.0ms\n"
     ]
    },
    {
     "name": "stdout",
     "output_type": "stream",
     "text": [
      "[array([ 950,  560, 1023,  599,   46])]\n",
      "[array([ 950,  560, 1023,  599,   46]), array([ 90, 559, 155, 584,  47])]\n",
      "deepsort output [[ 950  560 1023  599   46]\n",
      " [  90  559  155  584   47]]\n",
      "car 46\n",
      "car 47\n",
      "in while loop\n",
      "[array([ 951,  560, 1023,  598,   46])]\n",
      "[array([ 951,  560, 1023,  598,   46]), array([ 83, 559, 150, 584,  47])]\n",
      "deepsort output [[ 951  560 1023  598   46]\n",
      " [  83  559  150  584   47]]\n",
      "car 46\n",
      "car 47\n",
      "in while loop\n"
     ]
    },
    {
     "name": "stderr",
     "output_type": "stream",
     "text": [
      "Speed: 5.0ms preprocess, 41.0ms inference, 1.0ms postprocess per image at shape (1, 3, 480, 640)\n",
      "\n",
      "0: 480x640 2 cars, 1 truck, 59.5ms\n",
      "Speed: 5.0ms preprocess, 59.5ms inference, 2.0ms postprocess per image at shape (1, 3, 480, 640)\n",
      "\n",
      "0: 480x640 2 cars, 1 truck, 40.0ms\n"
     ]
    },
    {
     "name": "stdout",
     "output_type": "stream",
     "text": [
      "[array([ 951,  560, 1023,  599,   46])]\n",
      "[array([ 951,  560, 1023,  599,   46]), array([ 75, 559, 145, 584,  47])]\n",
      "deepsort output [[ 951  560 1023  599   46]\n",
      " [  75  559  145  584   47]]\n",
      "car 46\n",
      "car 47\n",
      "in while loop\n",
      "[array([ 951,  560, 1023,  599,   46])]\n",
      "[array([ 951,  560, 1023,  599,   46]), array([ 72, 558, 143, 584,  47])]\n",
      "deepsort output [[ 951  560 1023  599   46]\n",
      " [  72  558  143  584   47]]\n",
      "car 46\n",
      "car 47\n",
      "in while loop\n"
     ]
    },
    {
     "name": "stderr",
     "output_type": "stream",
     "text": [
      "Speed: 5.0ms preprocess, 40.0ms inference, 2.0ms postprocess per image at shape (1, 3, 480, 640)\n",
      "\n",
      "0: 480x640 2 cars, 1 truck, 59.0ms\n",
      "Speed: 6.0ms preprocess, 59.0ms inference, 2.0ms postprocess per image at shape (1, 3, 480, 640)\n",
      "\n",
      "0: 480x640 1 car, 40.0ms\n",
      "Speed: 6.0ms preprocess, 40.0ms inference, 3.0ms postprocess per image at shape (1, 3, 480, 640)\n",
      "\n"
     ]
    },
    {
     "name": "stdout",
     "output_type": "stream",
     "text": [
      "[array([ 953,  560, 1023,  598,   46])]\n",
      "[array([ 953,  560, 1023,  598,   46]), array([ 63, 557, 139, 585,  47])]\n",
      "[array([ 953,  560, 1023,  598,   46]), array([ 63, 557, 139, 585,  47]), array([ 63, 557, 139, 585,  48])]\n",
      "deepsort output [[ 953  560 1023  598   46]\n",
      " [  63  557  139  585   47]\n",
      " [  63  557  139  585   48]]\n",
      "car 46\n",
      "car 47\n",
      "truck 48\n",
      "in while loop\n",
      "[array([ 954,  560, 1023,  597,   46])]\n",
      "[array([ 954,  560, 1023,  597,   46]), array([ 60, 557, 138, 585,  47])]\n",
      "[array([ 954,  560, 1023,  597,   46]), array([ 60, 557, 138, 585,  47]), array([ 61, 556, 138, 586,  48])]\n",
      "deepsort output [[ 954  560 1023  597   46]\n",
      " [  60  557  138  585   47]\n",
      " [  61  556  138  586   48]]\n",
      "car 46\n",
      "car 47\n",
      "truck 48\n",
      "in while loop\n",
      "[array([ 954,  560, 1023,  597,   46])]\n",
      "[array([ 954,  560, 1023,  597,   46]), array([ 57, 557, 133, 586,  47])]\n",
      "[array([ 954,  560, 1023,  597,   46]), array([ 57, 557, 133, 586,  47]), array([ 58, 556, 136, 586,  48])]\n",
      "deepsort output [[ 954  560 1023  597   46]\n",
      " [  57  557  133  586   47]\n",
      " [  58  556  136  586   48]]\n",
      "car 46\n",
      "in while loop\n"
     ]
    },
    {
     "name": "stderr",
     "output_type": "stream",
     "text": [
      "0: 480x640 1 car, 55.0ms\n",
      "Speed: 6.0ms preprocess, 55.0ms inference, 2.0ms postprocess per image at shape (1, 3, 480, 640)\n",
      "\n",
      "0: 480x640 2 cars, 41.0ms\n",
      "Speed: 5.0ms preprocess, 41.0ms inference, 2.0ms postprocess per image at shape (1, 3, 480, 640)\n",
      "\n",
      "0: 480x640 2 cars, 44.0ms\n",
      "Speed: 7.0ms preprocess, 44.0ms inference, 2.0ms postprocess per image at shape (1, 3, 480, 640)\n",
      "\n"
     ]
    },
    {
     "name": "stdout",
     "output_type": "stream",
     "text": [
      "[array([ 55, 557, 131, 586,  47])]\n",
      "deepsort output [[ 55 557 131 586  47]]\n",
      "car 47\n",
      "in while loop\n",
      "[array([ 953,  560, 1023,  599,   46])]\n",
      "[array([ 953,  560, 1023,  599,   46]), array([ 50, 557, 127, 587,  47])]\n",
      "deepsort output [[ 953  560 1023  599   46]\n",
      " [  50  557  127  587   47]]\n",
      "car 46\n",
      "car 47\n",
      "in while loop\n",
      "[array([ 953,  560, 1023,  599,   46])]\n",
      "[array([ 953,  560, 1023,  599,   46]), array([ 48, 557, 126, 587,  47])]\n",
      "deepsort output [[ 953  560 1023  599   46]\n",
      " [  48  557  126  587   47]]\n",
      "car 46\n",
      "car 47\n",
      "in while loop\n"
     ]
    },
    {
     "name": "stderr",
     "output_type": "stream",
     "text": [
      "0: 480x640 2 cars, 1 truck, 42.9ms\n",
      "Speed: 5.0ms preprocess, 42.9ms inference, 2.0ms postprocess per image at shape (1, 3, 480, 640)\n",
      "\n",
      "0: 480x640 2 cars, 1 truck, 1 bench, 44.0ms\n",
      "Speed: 5.0ms preprocess, 44.0ms inference, 3.0ms postprocess per image at shape (1, 3, 480, 640)\n",
      "\n"
     ]
    },
    {
     "name": "stdout",
     "output_type": "stream",
     "text": [
      "[array([ 954,  560, 1023,  599,   46])]\n",
      "[array([ 954,  560, 1023,  599,   46]), array([ 43, 556, 124, 588,  47])]\n",
      "deepsort output [[ 954  560 1023  599   46]\n",
      " [  43  556  124  588   47]]\n",
      "car 46\n",
      "car 47\n",
      "in while loop\n",
      "[array([ 955,  561, 1023,  599,   46])]\n",
      "[array([ 955,  561, 1023,  599,   46]), array([ 40, 556, 120, 588,  47])]\n",
      "deepsort output [[ 955  561 1023  599   46]\n",
      " [  40  556  120  588   47]]\n",
      "truck 46\n",
      "car 47\n",
      "in while loop\n"
     ]
    },
    {
     "name": "stderr",
     "output_type": "stream",
     "text": [
      "0: 480x640 2 cars, 1 truck, 1 bench, 59.5ms\n",
      "Speed: 5.0ms preprocess, 59.5ms inference, 2.0ms postprocess per image at shape (1, 3, 480, 640)\n",
      "\n",
      "0: 480x640 1 car, 1 bench, 40.0ms\n",
      "Speed: 5.0ms preprocess, 40.0ms inference, 2.0ms postprocess per image at shape (1, 3, 480, 640)\n",
      "\n",
      "0: 480x640 1 car, 1 bench, 60.0ms\n"
     ]
    },
    {
     "name": "stdout",
     "output_type": "stream",
     "text": [
      "[array([ 956,  561, 1023,  599,   46])]\n",
      "[array([ 956,  561, 1023,  599,   46]), array([ 39, 556, 119, 589,  47])]\n",
      "[array([ 956,  561, 1023,  599,   46]), array([ 39, 556, 119, 589,  47]), array([ 45, 557, 114, 589,  49])]\n",
      "deepsort output [[ 956  561 1023  599   46]\n",
      " [  39  556  119  589   47]\n",
      " [  45  557  114  589   49]]\n",
      "truck 46\n",
      "car 47\n",
      "car 49\n",
      "in while loop\n",
      "[array([ 956,  561, 1023,  599,   46])]\n",
      "[array([ 956,  561, 1023,  599,   46]), array([ 35, 556, 116, 589,  47])]\n",
      "[array([ 956,  561, 1023,  599,   46]), array([ 35, 556, 116, 589,  47]), array([ 41, 555, 114, 589,  49])]\n",
      "deepsort output [[ 956  561 1023  599   46]\n",
      " [  35  556  116  589   47]\n",
      " [  41  555  114  589   49]]\n",
      "car 46\n",
      "in while loop\n"
     ]
    },
    {
     "name": "stderr",
     "output_type": "stream",
     "text": [
      "Speed: 5.0ms preprocess, 60.0ms inference, 1.0ms postprocess per image at shape (1, 3, 480, 640)\n",
      "\n",
      "0: 480x640 1 person, 1 car, 1 bench, 42.2ms\n",
      "Speed: 5.0ms preprocess, 42.2ms inference, 2.0ms postprocess per image at shape (1, 3, 480, 640)\n",
      "\n",
      "0: 480x640 1 person, 1 car, 1 bench, 42.0ms\n",
      "Speed: 6.0ms preprocess, 42.0ms inference, 2.0ms postprocess per image at shape (1, 3, 480, 640)\n",
      "\n"
     ]
    },
    {
     "name": "stdout",
     "output_type": "stream",
     "text": [
      "[array([ 40, 555, 114, 589,  49])]\n",
      "deepsort output [[ 40 555 114 589  49]]\n",
      "car 49\n",
      "in while loop\n",
      "[array([ 40, 556, 111, 589,  49])]\n",
      "deepsort output [[ 40 556 111 589  49]]\n",
      "car 49\n",
      "in while loop\n",
      "[array([ 40, 556, 110, 589,  49])]\n",
      "deepsort output [[ 40 556 110 589  49]]\n",
      "car 49\n",
      "in while loop\n"
     ]
    },
    {
     "name": "stderr",
     "output_type": "stream",
     "text": [
      "0: 480x640 1 car, 1 bench, 47.0ms\n",
      "Speed: 6.0ms preprocess, 47.0ms inference, 2.0ms postprocess per image at shape (1, 3, 480, 640)\n",
      "\n",
      "0: 480x640 1 car, 1 bench, 42.2ms\n",
      "Speed: 7.0ms preprocess, 42.2ms inference, 1.0ms postprocess per image at shape (1, 3, 480, 640)\n",
      "\n",
      "0: 480x640 1 car, 1 bench, 42.0ms\n",
      "Speed: 5.0ms preprocess, 42.0ms inference, 1.0ms postprocess per image at shape (1, 3, 480, 640)\n"
     ]
    },
    {
     "name": "stdout",
     "output_type": "stream",
     "text": [
      "[array([ 39, 557, 108, 589,  49])]\n",
      "deepsort output [[ 39 557 108 589  49]]\n",
      "car 49\n",
      "in while loop\n",
      "[array([ 38, 558, 106, 589,  49])]\n",
      "deepsort output [[ 38 558 106 589  49]]\n",
      "car 49\n",
      "in while loop\n",
      "[array([ 38, 558, 105, 590,  49])]\n",
      "deepsort output [[ 38 558 105 590  49]]\n",
      "car 49\n",
      "in while loop\n"
     ]
    },
    {
     "name": "stderr",
     "output_type": "stream",
     "text": [
      "\n",
      "0: 480x640 1 car, 1 bench, 43.0ms\n",
      "Speed: 6.0ms preprocess, 43.0ms inference, 2.0ms postprocess per image at shape (1, 3, 480, 640)\n",
      "\n",
      "0: 480x640 2 cars, 1 bench, 43.0ms\n",
      "Speed: 5.0ms preprocess, 43.0ms inference, 2.0ms postprocess per image at shape (1, 3, 480, 640)\n",
      "\n",
      "0: 480x640 2 cars, 1 bench, 50.0ms\n",
      "Speed: 7.0ms preprocess, 50.0ms inference, 2.0ms postprocess per image at shape (1, 3, 480, 640)\n",
      "\n"
     ]
    },
    {
     "name": "stdout",
     "output_type": "stream",
     "text": [
      "[array([ 38, 559, 105, 590,  49])]\n",
      "deepsort output [[ 38 559 105 590  49]]\n",
      "car 49\n",
      "in while loop\n",
      "[array([ 37, 558, 106, 590,  49])]\n",
      "deepsort output [[ 37 558 106 590  49]]\n",
      "car 49\n",
      "in while loop\n",
      "[array([ 37, 558, 106, 590,  49])]\n",
      "deepsort output [[ 37 558 106 590  49]]\n",
      "car 49\n",
      "in while loop\n"
     ]
    },
    {
     "name": "stderr",
     "output_type": "stream",
     "text": [
      "0: 480x640 2 cars, 1 bench, 42.0ms\n",
      "Speed: 6.0ms preprocess, 42.0ms inference, 2.0ms postprocess per image at shape (1, 3, 480, 640)\n",
      "\n",
      "0: 480x640 2 cars, 1 bench, 55.0ms\n",
      "Speed: 6.0ms preprocess, 55.0ms inference, 1.0ms postprocess per image at shape (1, 3, 480, 640)\n",
      "\n",
      "0: 480x640 1 car, 1 bench, 42.0ms\n"
     ]
    },
    {
     "name": "stdout",
     "output_type": "stream",
     "text": [
      "[array([ 963,  560, 1023,  598,   45])]\n",
      "[array([ 963,  560, 1023,  598,   45]), array([ 37, 558, 106, 590,  49])]\n",
      "deepsort output [[ 963  560 1023  598   45]\n",
      " [  37  558  106  590   49]]\n",
      "car 45\n",
      "car 49\n",
      "in while loop\n",
      "[array([ 964,  561, 1023,  599,   45])]\n",
      "[array([ 964,  561, 1023,  599,   45]), array([ 36, 558, 106, 590,  49])]\n",
      "deepsort output [[ 964  561 1023  599   45]\n",
      " [  36  558  106  590   49]]\n",
      "car 45\n",
      "car 49\n",
      "in while loop\n"
     ]
    },
    {
     "name": "stderr",
     "output_type": "stream",
     "text": [
      "Speed: 5.0ms preprocess, 42.0ms inference, 3.0ms postprocess per image at shape (1, 3, 480, 640)\n",
      "\n",
      "0: 480x640 1 car, 1 bench, 41.0ms\n",
      "Speed: 5.0ms preprocess, 41.0ms inference, 2.0ms postprocess per image at shape (1, 3, 480, 640)\n",
      "\n",
      "0: 480x640 1 car, 1 bench, 42.0ms\n",
      "Speed: 5.0ms preprocess, 42.0ms inference, 2.0ms postprocess per image at shape (1, 3, 480, 640)\n",
      "\n"
     ]
    },
    {
     "name": "stdout",
     "output_type": "stream",
     "text": [
      "[array([ 964,  561, 1023,  599,   45])]\n",
      "[array([ 964,  561, 1023,  599,   45]), array([ 36, 558, 106, 590,  49])]\n",
      "deepsort output [[ 964  561 1023  599   45]\n",
      " [  36  558  106  590   49]]\n",
      "car 45\n",
      "in while loop\n",
      "[array([ 35, 558, 105, 590,  49])]\n",
      "deepsort output [[ 35 558 105 590  49]]\n",
      "car 49\n",
      "in while loop\n",
      "[array([ 35, 558, 105, 590,  49])]\n",
      "deepsort output [[ 35 558 105 590  49]]\n",
      "car 49\n",
      "in while loop\n"
     ]
    },
    {
     "name": "stderr",
     "output_type": "stream",
     "text": [
      "0: 480x640 1 car, 1 bench, 42.0ms\n",
      "Speed: 6.0ms preprocess, 42.0ms inference, 2.0ms postprocess per image at shape (1, 3, 480, 640)\n",
      "\n",
      "0: 480x640 1 car, 1 bench, 41.0ms\n",
      "Speed: 5.0ms preprocess, 41.0ms inference, 2.0ms postprocess per image at shape (1, 3, 480, 640)\n",
      "\n",
      "0: 480x640 1 car, 1 bench, 40.0ms\n",
      "Speed: 6.0ms preprocess, 40.0ms inference, 2.0ms postprocess per image at shape (1, 3, 480, 640)\n",
      "\n"
     ]
    },
    {
     "name": "stdout",
     "output_type": "stream",
     "text": [
      "[array([ 33, 557, 105, 590,  49])]\n",
      "deepsort output [[ 33 557 105 590  49]]\n",
      "car 49\n",
      "in while loop\n",
      "[array([ 32, 557, 105, 590,  49])]\n",
      "deepsort output [[ 32 557 105 590  49]]\n",
      "car 49\n",
      "in while loop\n",
      "[array([ 32, 557, 104, 590,  49])]\n",
      "deepsort output [[ 32 557 104 590  49]]\n",
      "car 49\n",
      "in while loop\n"
     ]
    },
    {
     "name": "stderr",
     "output_type": "stream",
     "text": [
      "0: 480x640 1 car, 1 bench, 65.0ms\n",
      "Speed: 5.0ms preprocess, 65.0ms inference, 2.0ms postprocess per image at shape (1, 3, 480, 640)\n",
      "\n",
      "0: 480x640 1 car, 1 bench, 42.0ms\n",
      "Speed: 5.0ms preprocess, 42.0ms inference, 2.0ms postprocess per image at shape (1, 3, 480, 640)\n",
      "\n",
      "0: 480x640 1 car, 1 bench, 60.6ms\n",
      "Speed: 6.0ms preprocess, 60.6ms inference, 2.0ms postprocess per image at shape (1, 3, 480, 640)\n"
     ]
    },
    {
     "name": "stdout",
     "output_type": "stream",
     "text": [
      "[array([ 32, 557, 104, 590,  49])]\n",
      "deepsort output [[ 32 557 104 590  49]]\n",
      "car 49\n",
      "in while loop\n",
      "[array([ 24, 558, 107, 589,  48])]\n",
      "[array([ 24, 558, 107, 589,  48]), array([ 31, 557, 103, 590,  49])]\n",
      "deepsort output [[ 24 558 107 589  48]\n",
      " [ 31 557 103 590  49]]\n",
      "car 48\n",
      "in while loop\n",
      "[array([ 24, 559, 106, 590,  48])]\n",
      "deepsort output [[ 24 559 106 590  48]]\n",
      "car 48\n",
      "in while loop\n"
     ]
    },
    {
     "name": "stderr",
     "output_type": "stream",
     "text": [
      "\n",
      "0: 480x640 1 car, 1 bench, 47.0ms\n",
      "Speed: 5.0ms preprocess, 47.0ms inference, 2.0ms postprocess per image at shape (1, 3, 480, 640)\n",
      "\n",
      "0: 480x640 1 car, 1 bench, 43.0ms\n",
      "Speed: 6.0ms preprocess, 43.0ms inference, 2.0ms postprocess per image at shape (1, 3, 480, 640)\n",
      "\n",
      "0: 480x640 1 car, 1 bench, 44.0ms\n",
      "Speed: 5.0ms preprocess, 44.0ms inference, 2.0ms postprocess per image at shape (1, 3, 480, 640)\n",
      "\n"
     ]
    },
    {
     "name": "stdout",
     "output_type": "stream",
     "text": [
      "[array([ 20, 558, 106, 590,  48])]\n",
      "deepsort output [[ 20 558 106 590  48]]\n",
      "car 48\n",
      "in while loop\n",
      "[array([ 19, 558, 106, 590,  48])]\n",
      "deepsort output [[ 19 558 106 590  48]]\n",
      "car 48\n",
      "in while loop\n",
      "[array([ 14, 558, 103, 591,  48])]\n",
      "deepsort output [[ 14 558 103 591  48]]\n",
      "car 48\n",
      "in while loop\n"
     ]
    },
    {
     "name": "stderr",
     "output_type": "stream",
     "text": [
      "0: 480x640 1 car, 1 bench, 44.0ms\n",
      "Speed: 5.0ms preprocess, 44.0ms inference, 1.0ms postprocess per image at shape (1, 3, 480, 640)\n",
      "\n",
      "0: 480x640 1 car, 1 bench, 40.0ms\n",
      "Speed: 5.0ms preprocess, 40.0ms inference, 2.0ms postprocess per image at shape (1, 3, 480, 640)\n",
      "\n",
      "0: 480x640 1 car, 1 bench, 45.0ms\n",
      "Speed: 7.0ms preprocess, 45.0ms inference, 2.0ms postprocess per image at shape (1, 3, 480, 640)\n",
      "\n"
     ]
    },
    {
     "name": "stdout",
     "output_type": "stream",
     "text": [
      "[array([  9, 557,  99, 592,  48])]\n",
      "deepsort output [[  9 557  99 592  48]]\n",
      "car 48\n",
      "in while loop\n",
      "[array([  8, 557,  98, 592,  48])]\n",
      "deepsort output [[  8 557  98 592  48]]\n",
      "car 48\n",
      "in while loop\n",
      "[array([  7, 557,  98, 592,  48])]\n",
      "deepsort output [[  7 557  98 592  48]]\n",
      "car 48\n",
      "in while loop\n"
     ]
    },
    {
     "name": "stderr",
     "output_type": "stream",
     "text": [
      "0: 480x640 1 car, 1 bench, 42.0ms\n",
      "Speed: 6.0ms preprocess, 42.0ms inference, 2.0ms postprocess per image at shape (1, 3, 480, 640)\n",
      "\n",
      "0: 480x640 1 car, 1 bench, 55.5ms\n",
      "Speed: 6.0ms preprocess, 55.5ms inference, 2.0ms postprocess per image at shape (1, 3, 480, 640)\n",
      "\n",
      "0: 480x640 1 car, 1 bench, 44.0ms\n",
      "Speed: 5.0ms preprocess, 44.0ms inference, 2.0ms postprocess per image at shape (1, 3, 480, 640)\n"
     ]
    },
    {
     "name": "stdout",
     "output_type": "stream",
     "text": [
      "[array([  4, 557,  95, 592,  48])]\n",
      "deepsort output [[  4 557  95 592  48]]\n",
      "car 48\n",
      "in while loop\n",
      "[array([  3, 557,  95, 592,  48])]\n",
      "deepsort output [[  3 557  95 592  48]]\n",
      "car 48\n",
      "in while loop\n",
      "[array([  0, 557,  93, 592,  48])]\n",
      "deepsort output [[  0 557  93 592  48]]\n",
      "car 48\n"
     ]
    },
    {
     "name": "stderr",
     "output_type": "stream",
     "text": [
      "\n",
      "0: 480x640 1 car, 1 bench, 41.0ms\n",
      "Speed: 5.0ms preprocess, 41.0ms inference, 2.0ms postprocess per image at shape (1, 3, 480, 640)\n",
      "\n",
      "0: 480x640 1 car, 1 bench, 41.0ms\n",
      "Speed: 5.0ms preprocess, 41.0ms inference, 2.0ms postprocess per image at shape (1, 3, 480, 640)\n",
      "\n"
     ]
    },
    {
     "name": "stdout",
     "output_type": "stream",
     "text": [
      "in while loop\n",
      "[array([  0, 557,  91, 593,  48])]\n",
      "deepsort output [[  0 557  91 593  48]]\n",
      "car 48\n",
      "in while loop\n",
      "[array([  0, 557,  89, 593,  48])]\n",
      "deepsort output [[  0 557  89 593  48]]\n",
      "car 48\n",
      "in while loop\n"
     ]
    },
    {
     "name": "stderr",
     "output_type": "stream",
     "text": [
      "0: 480x640 1 car, 1 bench, 41.0ms\n",
      "Speed: 5.0ms preprocess, 41.0ms inference, 2.0ms postprocess per image at shape (1, 3, 480, 640)\n",
      "\n",
      "0: 480x640 1 car, 1 bench, 40.0ms\n",
      "Speed: 5.0ms preprocess, 40.0ms inference, 2.0ms postprocess per image at shape (1, 3, 480, 640)\n",
      "\n",
      "0: 480x640 1 car, 45.0ms\n",
      "Speed: 5.0ms preprocess, 45.0ms inference, 2.0ms postprocess per image at shape (1, 3, 480, 640)\n"
     ]
    },
    {
     "name": "stdout",
     "output_type": "stream",
     "text": [
      "[array([  0, 556,  88, 593,  48])]\n",
      "[array([  0, 556,  88, 593,  48]), array([  0, 557,  79, 592,  49])]\n",
      "deepsort output [[  0 556  88 593  48]\n",
      " [  0 557  79 592  49]]\n",
      "car 48\n",
      "in while loop\n",
      "[array([  0, 556,  79, 593,  49])]\n",
      "deepsort output [[  0 556  79 593  49]]\n",
      "car 49\n",
      "in while loop\n",
      "[array([  0, 556,  74, 591,  49])]\n",
      "deepsort output [[  0 556  74 591  49]]\n",
      "car 49\n",
      "in while loop\n"
     ]
    },
    {
     "name": "stderr",
     "output_type": "stream",
     "text": [
      "\n",
      "0: 480x640 1 car, 66.0ms\n",
      "Speed: 5.0ms preprocess, 66.0ms inference, 3.0ms postprocess per image at shape (1, 3, 480, 640)\n",
      "\n",
      "0: 480x640 1 car, 1 bench, 41.0ms\n",
      "Speed: 5.0ms preprocess, 41.0ms inference, 2.0ms postprocess per image at shape (1, 3, 480, 640)\n",
      "\n",
      "0: 480x640 1 car, 1 bench, 59.0ms\n",
      "Speed: 5.0ms preprocess, 59.0ms inference, 2.0ms postprocess per image at shape (1, 3, 480, 640)\n"
     ]
    },
    {
     "name": "stdout",
     "output_type": "stream",
     "text": [
      "[array([  0, 556,  72, 591,  49])]\n",
      "deepsort output [[  0 556  72 591  49]]\n",
      "car 49\n",
      "in while loop\n",
      "[array([  0, 556,  69, 591,  49])]\n",
      "deepsort output [[  0 556  69 591  49]]\n",
      "car 49\n",
      "in while loop\n",
      "[array([  0, 556,  67, 591,  49])]\n",
      "deepsort output [[  0 556  67 591  49]]\n",
      "car 49\n",
      "in while loop\n"
     ]
    },
    {
     "name": "stderr",
     "output_type": "stream",
     "text": [
      "\n",
      "0: 480x640 1 car, 2 benchs, 41.0ms\n",
      "Speed: 6.0ms preprocess, 41.0ms inference, 2.0ms postprocess per image at shape (1, 3, 480, 640)\n",
      "\n",
      "0: 480x640 1 car, 2 benchs, 59.0ms\n",
      "Speed: 5.0ms preprocess, 59.0ms inference, 2.0ms postprocess per image at shape (1, 3, 480, 640)\n",
      "\n",
      "0: 480x640 1 car, 1 bench, 41.0ms\n",
      "Speed: 5.0ms preprocess, 41.0ms inference, 2.0ms postprocess per image at shape (1, 3, 480, 640)\n",
      "\n"
     ]
    },
    {
     "name": "stdout",
     "output_type": "stream",
     "text": [
      "[array([  0, 556,  63, 591,  49])]\n",
      "deepsort output [[  0 556  63 591  49]]\n",
      "car 49\n",
      "in while loop\n",
      "[array([  0, 556,  61, 592,  49])]\n",
      "deepsort output [[  0 556  61 592  49]]\n",
      "car 49\n",
      "in while loop\n",
      "[array([  0, 556,  56, 592,  49])]\n",
      "deepsort output [[  0 556  56 592  49]]\n",
      "car 49\n",
      "in while loop\n"
     ]
    },
    {
     "name": "stderr",
     "output_type": "stream",
     "text": [
      "0: 480x640 1 car, 1 bench, 61.0ms\n",
      "Speed: 7.0ms preprocess, 61.0ms inference, 2.0ms postprocess per image at shape (1, 3, 480, 640)\n",
      "\n",
      "0: 480x640 1 car, 1 bench, 41.0ms\n",
      "Speed: 5.0ms preprocess, 41.0ms inference, 2.0ms postprocess per image at shape (1, 3, 480, 640)\n",
      "\n",
      "0: 480x640 1 car, 1 bench, 60.0ms\n"
     ]
    },
    {
     "name": "stdout",
     "output_type": "stream",
     "text": [
      "[array([  0, 556,  54, 592,  49])]\n",
      "deepsort output [[  0 556  54 592  49]]\n",
      "car 49\n",
      "in while loop\n",
      "[array([  0, 556,  49, 592,  49])]\n",
      "deepsort output [[  0 556  49 592  49]]\n",
      "car 49\n",
      "in while loop\n"
     ]
    },
    {
     "name": "stderr",
     "output_type": "stream",
     "text": [
      "Speed: 5.0ms preprocess, 60.0ms inference, 2.0ms postprocess per image at shape (1, 3, 480, 640)\n",
      "\n",
      "0: 480x640 1 car, 1 bench, 41.5ms\n",
      "Speed: 6.0ms preprocess, 41.5ms inference, 1.0ms postprocess per image at shape (1, 3, 480, 640)\n",
      "\n",
      "0: 480x640 1 car, 1 bench, 63.0ms\n",
      "Speed: 5.0ms preprocess, 63.0ms inference, 3.0ms postprocess per image at shape (1, 3, 480, 640)\n"
     ]
    },
    {
     "name": "stdout",
     "output_type": "stream",
     "text": [
      "[array([  0, 556,  47, 592,  49])]\n",
      "deepsort output [[  0 556  47 592  49]]\n",
      "car 49\n",
      "in while loop\n",
      "[array([  0, 556,  44, 592,  49])]\n",
      "deepsort output [[  0 556  44 592  49]]\n",
      "car 49\n",
      "in while loop\n",
      "[array([  0, 556,  42, 592,  49])]\n",
      "deepsort output [[  0 556  42 592  49]]\n",
      "car 49\n",
      "in while loop\n"
     ]
    },
    {
     "name": "stderr",
     "output_type": "stream",
     "text": [
      "\n",
      "0: 480x640 1 car, 1 bench, 44.0ms\n",
      "Speed: 5.0ms preprocess, 44.0ms inference, 2.0ms postprocess per image at shape (1, 3, 480, 640)\n",
      "\n",
      "0: 480x640 1 car, 1 bench, 64.0ms\n",
      "Speed: 5.0ms preprocess, 64.0ms inference, 2.0ms postprocess per image at shape (1, 3, 480, 640)\n",
      "\n",
      "0: 480x640 1 car, 2 benchs, 46.0ms\n",
      "Speed: 7.0ms preprocess, 46.0ms inference, 2.0ms postprocess per image at shape (1, 3, 480, 640)\n"
     ]
    },
    {
     "name": "stdout",
     "output_type": "stream",
     "text": [
      "[array([  0, 557,  38, 593,  49])]\n",
      "deepsort output [[  0 557  38 593  49]]\n",
      "car 49\n",
      "in while loop\n",
      "[array([  0, 557,  35, 593,  49])]\n",
      "deepsort output [[  0 557  35 593  49]]\n",
      "car 49\n",
      "in while loop\n",
      "[array([  0, 558,  31, 592,  49])]\n",
      "deepsort output [[  0 558  31 592  49]]\n",
      "car 49\n",
      "in while loop\n"
     ]
    },
    {
     "name": "stderr",
     "output_type": "stream",
     "text": [
      "\n",
      "0: 480x640 1 car, 2 benchs, 60.0ms\n",
      "Speed: 5.0ms preprocess, 60.0ms inference, 2.0ms postprocess per image at shape (1, 3, 480, 640)\n",
      "\n",
      "0: 480x640 1 car, 2 benchs, 47.0ms\n",
      "Speed: 6.0ms preprocess, 47.0ms inference, 2.0ms postprocess per image at shape (1, 3, 480, 640)\n",
      "\n",
      "0: 480x640 1 car, 2 benchs, 53.0ms\n"
     ]
    },
    {
     "name": "stdout",
     "output_type": "stream",
     "text": [
      "[array([  0, 558,  29, 591,  49])]\n",
      "deepsort output [[  0 558  29 591  49]]\n",
      "car 49\n",
      "in while loop\n",
      "[array([  0, 559,  25, 589,  49])]\n",
      "deepsort output [[  0 559  25 589  49]]\n",
      "car 49\n",
      "in while loop\n"
     ]
    },
    {
     "name": "stderr",
     "output_type": "stream",
     "text": [
      "Speed: 8.0ms preprocess, 53.0ms inference, 15.0ms postprocess per image at shape (1, 3, 480, 640)\n",
      "\n",
      "0: 480x640 1 car, 1 bench, 50.0ms\n",
      "Speed: 6.0ms preprocess, 50.0ms inference, 3.0ms postprocess per image at shape (1, 3, 480, 640)\n",
      "\n",
      "0: 480x640 1 car, 1 bench, 42.0ms\n",
      "Speed: 5.0ms preprocess, 42.0ms inference, 2.0ms postprocess per image at shape (1, 3, 480, 640)\n"
     ]
    },
    {
     "name": "stdout",
     "output_type": "stream",
     "text": [
      "[array([  0, 559,  23, 589,  49])]\n",
      "deepsort output [[  0 559  23 589  49]]\n",
      "car 49\n",
      "in while loop\n",
      "[array([  0, 558,  23, 588,  49])]\n",
      "deepsort output [[  0 558  23 588  49]]\n",
      "car 49\n",
      "in while loop\n",
      "[array([  0, 558,  22, 588,  49])]\n",
      "deepsort output [[  0 558  22 588  49]]\n",
      "car 49\n",
      "in while loop\n"
     ]
    },
    {
     "name": "stderr",
     "output_type": "stream",
     "text": [
      "\n",
      "0: 480x640 1 car, 1 bench, 43.0ms\n",
      "Speed: 6.0ms preprocess, 43.0ms inference, 5.0ms postprocess per image at shape (1, 3, 480, 640)\n",
      "\n",
      "0: 480x640 1 car, 1 bench, 42.0ms\n",
      "Speed: 6.0ms preprocess, 42.0ms inference, 2.0ms postprocess per image at shape (1, 3, 480, 640)\n",
      "\n",
      "0: 480x640 1 car, 1 bench, 47.0ms\n",
      "Speed: 7.0ms preprocess, 47.0ms inference, 2.0ms postprocess per image at shape (1, 3, 480, 640)\n"
     ]
    },
    {
     "name": "stdout",
     "output_type": "stream",
     "text": [
      "[array([  0, 558,  22, 588,  49])]\n",
      "deepsort output [[  0 558  22 588  49]]\n",
      "car 49\n",
      "in while loop\n",
      "[array([  0, 558,  21, 588,  49])]\n",
      "deepsort output [[  0 558  21 588  49]]\n",
      "car 49\n",
      "in while loop\n",
      "[array([  0, 559,  21, 588,  49])]\n",
      "deepsort output [[  0 559  21 588  49]]\n",
      "car 49\n",
      "in while loop\n"
     ]
    },
    {
     "name": "stderr",
     "output_type": "stream",
     "text": [
      "\n",
      "0: 480x640 1 car, 1 bench, 48.0ms\n",
      "Speed: 5.0ms preprocess, 48.0ms inference, 2.0ms postprocess per image at shape (1, 3, 480, 640)\n",
      "\n",
      "0: 480x640 1 car, 1 bench, 62.0ms\n",
      "Speed: 5.0ms preprocess, 62.0ms inference, 3.0ms postprocess per image at shape (1, 3, 480, 640)\n",
      "\n",
      "0: 480x640 1 car, 1 bench, 48.0ms\n"
     ]
    },
    {
     "name": "stdout",
     "output_type": "stream",
     "text": [
      "[array([  0, 559,  20, 588,  49])]\n",
      "deepsort output [[  0 559  20 588  49]]\n",
      "car 49\n",
      "in while loop\n",
      "[array([  0, 559,  20, 588,  49])]\n",
      "deepsort output [[  0 559  20 588  49]]\n",
      "car 49\n",
      "in while loop\n"
     ]
    },
    {
     "name": "stderr",
     "output_type": "stream",
     "text": [
      "Speed: 8.0ms preprocess, 48.0ms inference, 2.0ms postprocess per image at shape (1, 3, 480, 640)\n",
      "\n",
      "0: 480x640 1 car, 1 bench, 63.0ms\n",
      "Speed: 7.0ms preprocess, 63.0ms inference, 2.0ms postprocess per image at shape (1, 3, 480, 640)\n",
      "\n",
      "0: 480x640 1 car, 46.0ms\n"
     ]
    },
    {
     "name": "stdout",
     "output_type": "stream",
     "text": [
      "[array([  0, 559,  20, 589,  49])]\n",
      "deepsort output [[  0 559  20 589  49]]\n",
      "car 49\n",
      "in while loop\n",
      "[array([  0, 559,  20, 589,  49])]\n",
      "deepsort output [[  0 559  20 589  49]]\n",
      "car 49\n",
      "in while loop\n"
     ]
    },
    {
     "name": "stderr",
     "output_type": "stream",
     "text": [
      "Speed: 6.0ms preprocess, 46.0ms inference, 2.0ms postprocess per image at shape (1, 3, 480, 640)\n",
      "\n",
      "0: 480x640 1 car, 63.0ms\n",
      "Speed: 5.0ms preprocess, 63.0ms inference, 2.0ms postprocess per image at shape (1, 3, 480, 640)\n",
      "\n",
      "0: 480x640 1 car, 1 bench, 41.0ms\n"
     ]
    },
    {
     "name": "stdout",
     "output_type": "stream",
     "text": [
      "[array([  0, 559,  20, 591,  49])]\n",
      "deepsort output [[  0 559  20 591  49]]\n",
      "car 49\n",
      "in while loop\n",
      "[array([  0, 559,  20, 591,  49])]\n",
      "deepsort output [[  0 559  20 591  49]]\n",
      "car 49\n",
      "in while loop\n"
     ]
    },
    {
     "name": "stderr",
     "output_type": "stream",
     "text": [
      "Speed: 5.0ms preprocess, 41.0ms inference, 1.0ms postprocess per image at shape (1, 3, 480, 640)\n",
      "\n",
      "0: 480x640 1 car, 1 bench, 61.0ms\n",
      "Speed: 5.0ms preprocess, 61.0ms inference, 2.0ms postprocess per image at shape (1, 3, 480, 640)\n",
      "\n",
      "0: 480x640 1 car, 1 bench, 43.0ms\n",
      "Speed: 5.1ms preprocess, 43.0ms inference, 2.0ms postprocess per image at shape (1, 3, 480, 640)\n"
     ]
    },
    {
     "name": "stdout",
     "output_type": "stream",
     "text": [
      "[array([  0, 559,  19, 590,  49])]\n",
      "deepsort output [[  0 559  19 590  49]]\n",
      "car 49\n",
      "in while loop\n",
      "[array([  0, 559,  18, 589,  49])]\n",
      "deepsort output [[  0 559  18 589  49]]\n",
      "car 49\n",
      "in while loop\n",
      "[array([  0, 559,  16, 587,  49])]\n",
      "deepsort output [[  0 559  16 587  49]]\n",
      "car 49\n",
      "in while loop\n"
     ]
    },
    {
     "name": "stderr",
     "output_type": "stream",
     "text": [
      "\n",
      "0: 480x640 1 car, 1 bench, 59.0ms\n",
      "Speed: 6.0ms preprocess, 59.0ms inference, 2.0ms postprocess per image at shape (1, 3, 480, 640)\n",
      "\n",
      "0: 480x640 1 bench, 45.0ms\n",
      "Speed: 6.0ms preprocess, 45.0ms inference, 2.0ms postprocess per image at shape (1, 3, 480, 640)\n",
      "\n",
      "0: 480x640 1 bench, 65.4ms\n",
      "Speed: 7.0ms preprocess, 65.4ms inference, 2.0ms postprocess per image at shape (1, 3, 480, 640)\n",
      "\n"
     ]
    },
    {
     "name": "stdout",
     "output_type": "stream",
     "text": [
      "[array([  0, 559,  16, 587,  49])]\n",
      "deepsort output [[  0 559  16 587  49]]\n",
      "car 49\n",
      "in while loop\n",
      "[array([  0, 559,  15, 586,  49])]\n",
      "deepsort output [[  0 559  15 586  49]]\n",
      "in while loop\n",
      "deepsort output []\n",
      "in while loop\n"
     ]
    },
    {
     "name": "stderr",
     "output_type": "stream",
     "text": [
      "0: 480x640 1 bench, 42.0ms\n",
      "Speed: 6.0ms preprocess, 42.0ms inference, 2.0ms postprocess per image at shape (1, 3, 480, 640)\n",
      "\n",
      "0: 480x640 1 bench, 60.0ms\n",
      "Speed: 5.0ms preprocess, 60.0ms inference, 2.0ms postprocess per image at shape (1, 3, 480, 640)\n",
      "\n",
      "0: 480x640 1 bench, 47.0ms\n",
      "Speed: 5.0ms preprocess, 47.0ms inference, 2.0ms postprocess per image at shape (1, 3, 480, 640)\n",
      "\n"
     ]
    },
    {
     "name": "stdout",
     "output_type": "stream",
     "text": [
      "deepsort output []\n",
      "in while loop\n",
      "deepsort output []\n",
      "in while loop\n",
      "deepsort output []\n",
      "in while loop\n"
     ]
    },
    {
     "name": "stderr",
     "output_type": "stream",
     "text": [
      "0: 480x640 1 bench, 60.0ms\n",
      "Speed: 5.0ms preprocess, 60.0ms inference, 2.0ms postprocess per image at shape (1, 3, 480, 640)\n",
      "\n",
      "0: 480x640 1 bench, 40.0ms\n",
      "Speed: 6.0ms preprocess, 40.0ms inference, 2.0ms postprocess per image at shape (1, 3, 480, 640)\n",
      "\n",
      "0: 480x640 1 bench, 60.0ms\n",
      "Speed: 5.0ms preprocess, 60.0ms inference, 2.0ms postprocess per image at shape (1, 3, 480, 640)\n"
     ]
    },
    {
     "name": "stdout",
     "output_type": "stream",
     "text": [
      "deepsort output []\n",
      "in while loop\n",
      "deepsort output []\n",
      "in while loop\n"
     ]
    },
    {
     "name": "stderr",
     "output_type": "stream",
     "text": [
      "\n",
      "0: 480x640 1 bench, 40.0ms\n",
      "Speed: 5.0ms preprocess, 40.0ms inference, 2.0ms postprocess per image at shape (1, 3, 480, 640)\n",
      "\n",
      "0: 480x640 1 bench, 60.0ms\n",
      "Speed: 5.0ms preprocess, 60.0ms inference, 2.0ms postprocess per image at shape (1, 3, 480, 640)\n"
     ]
    },
    {
     "name": "stdout",
     "output_type": "stream",
     "text": [
      "deepsort output []\n",
      "in while loop\n",
      "deepsort output []\n",
      "in while loop\n",
      "deepsort output []\n",
      "in while loop\n"
     ]
    },
    {
     "name": "stderr",
     "output_type": "stream",
     "text": [
      "\n",
      "0: 480x640 1 bench, 42.0ms\n",
      "Speed: 5.0ms preprocess, 42.0ms inference, 3.0ms postprocess per image at shape (1, 3, 480, 640)\n",
      "\n",
      "0: 480x640 1 bench, 62.0ms\n",
      "Speed: 5.0ms preprocess, 62.0ms inference, 2.0ms postprocess per image at shape (1, 3, 480, 640)\n",
      "\n",
      "0: 480x640 1 bench, 43.0ms\n",
      "Speed: 5.0ms preprocess, 43.0ms inference, 2.0ms postprocess per image at shape (1, 3, 480, 640)\n"
     ]
    },
    {
     "name": "stdout",
     "output_type": "stream",
     "text": [
      "deepsort output []\n",
      "in while loop\n",
      "deepsort output []\n",
      "in while loop\n",
      "deepsort output []\n",
      "in while loop\n"
     ]
    },
    {
     "name": "stderr",
     "output_type": "stream",
     "text": [
      "\n",
      "0: 480x640 1 bench, 55.0ms\n",
      "Speed: 7.0ms preprocess, 55.0ms inference, 2.0ms postprocess per image at shape (1, 3, 480, 640)\n",
      "\n",
      "0: 480x640 1 bench, 41.0ms\n",
      "Speed: 5.0ms preprocess, 41.0ms inference, 3.0ms postprocess per image at shape (1, 3, 480, 640)\n",
      "\n",
      "0: 480x640 1 bench, 42.0ms\n",
      "Speed: 6.0ms preprocess, 42.0ms inference, 2.0ms postprocess per image at shape (1, 3, 480, 640)\n",
      "\n"
     ]
    },
    {
     "name": "stdout",
     "output_type": "stream",
     "text": [
      "deepsort output []\n",
      "in while loop\n",
      "deepsort output []\n",
      "in while loop\n",
      "deepsort output []\n",
      "in while loop\n"
     ]
    },
    {
     "name": "stderr",
     "output_type": "stream",
     "text": [
      "0: 480x640 1 bench, 42.0ms\n",
      "Speed: 5.0ms preprocess, 42.0ms inference, 2.0ms postprocess per image at shape (1, 3, 480, 640)\n",
      "\n",
      "0: 480x640 1 bench, 60.0ms\n",
      "Speed: 5.0ms preprocess, 60.0ms inference, 2.0ms postprocess per image at shape (1, 3, 480, 640)\n",
      "\n",
      "0: 480x640 1 bench, 42.0ms\n",
      "Speed: 5.0ms preprocess, 42.0ms inference, 2.0ms postprocess per image at shape (1, 3, 480, 640)\n"
     ]
    },
    {
     "name": "stdout",
     "output_type": "stream",
     "text": [
      "deepsort output []\n",
      "in while loop\n",
      "deepsort output []\n",
      "in while loop\n",
      "deepsort output []\n",
      "in while loop\n"
     ]
    },
    {
     "name": "stderr",
     "output_type": "stream",
     "text": [
      "\n",
      "0: 480x640 1 bench, 48.0ms\n",
      "Speed: 7.0ms preprocess, 48.0ms inference, 3.0ms postprocess per image at shape (1, 3, 480, 640)\n",
      "\n",
      "0: 480x640 1 bench, 41.0ms\n",
      "Speed: 6.0ms preprocess, 41.0ms inference, 2.0ms postprocess per image at shape (1, 3, 480, 640)\n",
      "\n",
      "0: 480x640 1 bench, 61.0ms\n",
      "Speed: 5.0ms preprocess, 61.0ms inference, 2.0ms postprocess per image at shape (1, 3, 480, 640)\n",
      "\n"
     ]
    },
    {
     "name": "stdout",
     "output_type": "stream",
     "text": [
      "deepsort output []\n",
      "in while loop\n",
      "deepsort output []\n",
      "in while loop\n",
      "deepsort output []\n",
      "in while loop\n"
     ]
    },
    {
     "name": "stderr",
     "output_type": "stream",
     "text": [
      "0: 480x640 1 bench, 41.0ms\n",
      "Speed: 5.0ms preprocess, 41.0ms inference, 2.0ms postprocess per image at shape (1, 3, 480, 640)\n",
      "\n",
      "0: 480x640 1 bench, 50.0ms\n",
      "Speed: 7.0ms preprocess, 50.0ms inference, 2.0ms postprocess per image at shape (1, 3, 480, 640)\n",
      "\n",
      "0: 480x640 1 bench, 49.0ms\n",
      "Speed: 5.0ms preprocess, 49.0ms inference, 2.0ms postprocess per image at shape (1, 3, 480, 640)\n",
      "\n"
     ]
    },
    {
     "name": "stdout",
     "output_type": "stream",
     "text": [
      "deepsort output []\n",
      "in while loop\n",
      "deepsort output []\n",
      "in while loop\n",
      "deepsort output []\n",
      "in while loop\n"
     ]
    },
    {
     "name": "stderr",
     "output_type": "stream",
     "text": [
      "0: 480x640 1 bench, 60.0ms\n",
      "Speed: 5.0ms preprocess, 60.0ms inference, 2.0ms postprocess per image at shape (1, 3, 480, 640)\n",
      "\n",
      "0: 480x640 1 bench, 41.0ms\n",
      "Speed: 7.0ms preprocess, 41.0ms inference, 2.0ms postprocess per image at shape (1, 3, 480, 640)\n",
      "\n",
      "0: 480x640 1 bench, 54.0ms\n",
      "Speed: 7.0ms preprocess, 54.0ms inference, 2.0ms postprocess per image at shape (1, 3, 480, 640)\n",
      "\n"
     ]
    },
    {
     "name": "stdout",
     "output_type": "stream",
     "text": [
      "deepsort output []\n",
      "in while loop\n",
      "deepsort output []\n",
      "in while loop\n",
      "deepsort output []\n",
      "in while loop\n"
     ]
    },
    {
     "name": "stderr",
     "output_type": "stream",
     "text": [
      "0: 480x640 1 bench, 41.0ms\n",
      "Speed: 5.0ms preprocess, 41.0ms inference, 2.0ms postprocess per image at shape (1, 3, 480, 640)\n",
      "\n",
      "0: 480x640 1 bench, 48.0ms\n",
      "Speed: 8.0ms preprocess, 48.0ms inference, 2.0ms postprocess per image at shape (1, 3, 480, 640)\n",
      "\n",
      "0: 480x640 1 bench, 43.0ms\n",
      "Speed: 6.0ms preprocess, 43.0ms inference, 2.0ms postprocess per image at shape (1, 3, 480, 640)\n",
      "\n"
     ]
    },
    {
     "name": "stdout",
     "output_type": "stream",
     "text": [
      "deepsort output []\n",
      "in while loop\n",
      "deepsort output []\n",
      "in while loop\n",
      "deepsort output []\n",
      "in while loop\n"
     ]
    },
    {
     "name": "stderr",
     "output_type": "stream",
     "text": [
      "0: 480x640 1 bench, 63.0ms\n",
      "Speed: 5.0ms preprocess, 63.0ms inference, 2.0ms postprocess per image at shape (1, 3, 480, 640)\n",
      "\n",
      "0: 480x640 1 bench, 41.0ms\n",
      "Speed: 5.0ms preprocess, 41.0ms inference, 2.0ms postprocess per image at shape (1, 3, 480, 640)\n",
      "\n"
     ]
    },
    {
     "name": "stdout",
     "output_type": "stream",
     "text": [
      "deepsort output []\n",
      "in while loop\n",
      "deepsort output []\n",
      "in while loop\n"
     ]
    },
    {
     "name": "stderr",
     "output_type": "stream",
     "text": [
      "0: 480x640 1 bench, 58.0ms\n",
      "Speed: 6.0ms preprocess, 58.0ms inference, 2.0ms postprocess per image at shape (1, 3, 480, 640)\n",
      "\n"
     ]
    },
    {
     "name": "stdout",
     "output_type": "stream",
     "text": [
      "deepsort output []\n",
      "in while loop\n"
     ]
    },
    {
     "name": "stderr",
     "output_type": "stream",
     "text": [
      "0: 480x640 1 bench, 45.0ms\n",
      "Speed: 6.0ms preprocess, 45.0ms inference, 2.0ms postprocess per image at shape (1, 3, 480, 640)\n",
      "\n",
      "0: 480x640 1 bench, 60.0ms\n"
     ]
    },
    {
     "name": "stdout",
     "output_type": "stream",
     "text": [
      "deepsort output []\n",
      "in while loop\n"
     ]
    },
    {
     "name": "stderr",
     "output_type": "stream",
     "text": [
      "Speed: 5.0ms preprocess, 60.0ms inference, 2.0ms postprocess per image at shape (1, 3, 480, 640)\n",
      "\n"
     ]
    },
    {
     "name": "stdout",
     "output_type": "stream",
     "text": [
      "deepsort output []\n",
      "in while loop\n"
     ]
    },
    {
     "name": "stderr",
     "output_type": "stream",
     "text": [
      "0: 480x640 1 bench, 40.0ms\n",
      "Speed: 6.0ms preprocess, 40.0ms inference, 2.0ms postprocess per image at shape (1, 3, 480, 640)\n",
      "\n",
      "0: 480x640 1 bench, 60.0ms\n",
      "Speed: 6.0ms preprocess, 60.0ms inference, 2.0ms postprocess per image at shape (1, 3, 480, 640)\n",
      "\n"
     ]
    },
    {
     "name": "stdout",
     "output_type": "stream",
     "text": [
      "deepsort output []\n",
      "in while loop\n",
      "deepsort output []\n",
      "in while loop\n"
     ]
    },
    {
     "name": "stderr",
     "output_type": "stream",
     "text": [
      "0: 480x640 1 bench, 42.0ms\n",
      "Speed: 5.0ms preprocess, 42.0ms inference, 2.0ms postprocess per image at shape (1, 3, 480, 640)\n",
      "\n"
     ]
    },
    {
     "name": "stdout",
     "output_type": "stream",
     "text": [
      "deepsort output []\n",
      "in while loop\n"
     ]
    },
    {
     "name": "stderr",
     "output_type": "stream",
     "text": [
      "0: 480x640 1 bench, 53.0ms\n",
      "Speed: 7.0ms preprocess, 53.0ms inference, 2.0ms postprocess per image at shape (1, 3, 480, 640)\n",
      "\n",
      "0: 480x640 1 bench, 41.0ms\n",
      "Speed: 5.0ms preprocess, 41.0ms inference, 2.0ms postprocess per image at shape (1, 3, 480, 640)\n",
      "\n"
     ]
    },
    {
     "name": "stdout",
     "output_type": "stream",
     "text": [
      "deepsort output []\n",
      "in while loop\n",
      "deepsort output []\n",
      "in while loop\n"
     ]
    },
    {
     "name": "stderr",
     "output_type": "stream",
     "text": [
      "0: 480x640 1 bench, 41.0ms\n",
      "Speed: 6.0ms preprocess, 41.0ms inference, 2.0ms postprocess per image at shape (1, 3, 480, 640)\n",
      "\n"
     ]
    },
    {
     "name": "stdout",
     "output_type": "stream",
     "text": [
      "deepsort output []\n",
      "in while loop\n"
     ]
    },
    {
     "name": "stderr",
     "output_type": "stream",
     "text": [
      "0: 480x640 1 bench, 44.0ms\n",
      "Speed: 5.0ms preprocess, 44.0ms inference, 2.0ms postprocess per image at shape (1, 3, 480, 640)\n",
      "\n",
      "0: 480x640 1 bench, 52.8ms\n",
      "Speed: 7.0ms preprocess, 52.8ms inference, 3.0ms postprocess per image at shape (1, 3, 480, 640)\n"
     ]
    },
    {
     "name": "stdout",
     "output_type": "stream",
     "text": [
      "deepsort output []\n",
      "in while loop\n"
     ]
    },
    {
     "name": "stderr",
     "output_type": "stream",
     "text": [
      "\n",
      "0: 480x640 1 bench, 44.5ms\n",
      "Speed: 6.0ms preprocess, 44.5ms inference, 2.0ms postprocess per image at shape (1, 3, 480, 640)\n"
     ]
    },
    {
     "name": "stdout",
     "output_type": "stream",
     "text": [
      "deepsort output []\n",
      "in while loop\n",
      "deepsort output []\n",
      "in while loop\n"
     ]
    },
    {
     "name": "stderr",
     "output_type": "stream",
     "text": [
      "\n",
      "0: 480x640 1 bench, 57.0ms\n",
      "Speed: 9.0ms preprocess, 57.0ms inference, 2.0ms postprocess per image at shape (1, 3, 480, 640)\n"
     ]
    },
    {
     "name": "stdout",
     "output_type": "stream",
     "text": [
      "deepsort output []\n",
      "in while loop\n"
     ]
    },
    {
     "name": "stderr",
     "output_type": "stream",
     "text": [
      "\n",
      "0: 480x640 1 bench, 45.0ms\n",
      "Speed: 5.0ms preprocess, 45.0ms inference, 2.0ms postprocess per image at shape (1, 3, 480, 640)\n",
      "\n",
      "0: 480x640 1 bench, 64.3ms\n",
      "Speed: 6.0ms preprocess, 64.3ms inference, 2.0ms postprocess per image at shape (1, 3, 480, 640)\n",
      "\n"
     ]
    },
    {
     "name": "stdout",
     "output_type": "stream",
     "text": [
      "deepsort output []\n",
      "in while loop\n",
      "deepsort output []\n",
      "in while loop\n"
     ]
    },
    {
     "name": "stderr",
     "output_type": "stream",
     "text": [
      "0: 480x640 1 bench, 40.0ms\n",
      "Speed: 6.0ms preprocess, 40.0ms inference, 2.0ms postprocess per image at shape (1, 3, 480, 640)\n",
      "\n"
     ]
    },
    {
     "name": "stdout",
     "output_type": "stream",
     "text": [
      "deepsort output []\n",
      "in while loop\n"
     ]
    },
    {
     "name": "stderr",
     "output_type": "stream",
     "text": [
      "0: 480x640 1 bench, 60.0ms\n",
      "Speed: 5.0ms preprocess, 60.0ms inference, 2.0ms postprocess per image at shape (1, 3, 480, 640)\n",
      "\n",
      "0: 480x640 (no detections), 40.0ms\n",
      "Speed: 6.0ms preprocess, 40.0ms inference, 1.0ms postprocess per image at shape (1, 3, 480, 640)\n",
      "\n"
     ]
    },
    {
     "name": "stdout",
     "output_type": "stream",
     "text": [
      "deepsort output []\n",
      "in while loop\n",
      "deepsort output []\n",
      "in while loop\n"
     ]
    },
    {
     "name": "stderr",
     "output_type": "stream",
     "text": [
      "0: 480x640 (no detections), 59.0ms\n",
      "Speed: 5.0ms preprocess, 59.0ms inference, 2.0ms postprocess per image at shape (1, 3, 480, 640)\n",
      "\n"
     ]
    },
    {
     "name": "stdout",
     "output_type": "stream",
     "text": [
      "deepsort output []\n",
      "in while loop\n"
     ]
    },
    {
     "name": "stderr",
     "output_type": "stream",
     "text": [
      "0: 480x640 1 bench, 43.0ms\n",
      "Speed: 8.0ms preprocess, 43.0ms inference, 1.0ms postprocess per image at shape (1, 3, 480, 640)\n",
      "\n",
      "0: 480x640 1 bench, 44.0ms\n",
      "Speed: 5.0ms preprocess, 44.0ms inference, 2.0ms postprocess per image at shape (1, 3, 480, 640)\n",
      "\n"
     ]
    },
    {
     "name": "stdout",
     "output_type": "stream",
     "text": [
      "deepsort output []\n",
      "in while loop\n",
      "deepsort output []\n",
      "in while loop\n"
     ]
    },
    {
     "name": "stderr",
     "output_type": "stream",
     "text": [
      "0: 480x640 1 bench, 43.0ms\n",
      "Speed: 6.0ms preprocess, 43.0ms inference, 2.0ms postprocess per image at shape (1, 3, 480, 640)\n",
      "\n"
     ]
    },
    {
     "name": "stdout",
     "output_type": "stream",
     "text": [
      "deepsort output []\n",
      "in while loop\n"
     ]
    },
    {
     "name": "stderr",
     "output_type": "stream",
     "text": [
      "0: 480x640 1 bench, 41.0ms\n",
      "Speed: 6.0ms preprocess, 41.0ms inference, 2.0ms postprocess per image at shape (1, 3, 480, 640)\n",
      "\n",
      "0: 480x640 1 bench, 44.0ms\n",
      "Speed: 7.0ms preprocess, 44.0ms inference, 2.0ms postprocess per image at shape (1, 3, 480, 640)\n",
      "\n"
     ]
    },
    {
     "name": "stdout",
     "output_type": "stream",
     "text": [
      "deepsort output []\n",
      "in while loop\n",
      "deepsort output []\n",
      "in while loop\n"
     ]
    },
    {
     "name": "stderr",
     "output_type": "stream",
     "text": [
      "0: 480x640 1 bench, 43.0ms\n",
      "Speed: 6.0ms preprocess, 43.0ms inference, 2.0ms postprocess per image at shape (1, 3, 480, 640)\n",
      "\n"
     ]
    },
    {
     "name": "stdout",
     "output_type": "stream",
     "text": [
      "deepsort output []\n",
      "in while loop\n"
     ]
    },
    {
     "name": "stderr",
     "output_type": "stream",
     "text": [
      "0: 480x640 1 bench, 63.0ms\n",
      "Speed: 6.0ms preprocess, 63.0ms inference, 2.0ms postprocess per image at shape (1, 3, 480, 640)\n",
      "\n",
      "0: 480x640 1 bench, 41.0ms\n",
      "Speed: 5.0ms preprocess, 41.0ms inference, 1.0ms postprocess per image at shape (1, 3, 480, 640)\n",
      "\n"
     ]
    },
    {
     "name": "stdout",
     "output_type": "stream",
     "text": [
      "deepsort output []\n",
      "in while loop\n",
      "deepsort output []\n",
      "in while loop\n"
     ]
    },
    {
     "name": "stderr",
     "output_type": "stream",
     "text": [
      "0: 480x640 1 bench, 59.6ms\n",
      "Speed: 6.0ms preprocess, 59.6ms inference, 2.0ms postprocess per image at shape (1, 3, 480, 640)\n",
      "\n"
     ]
    },
    {
     "name": "stdout",
     "output_type": "stream",
     "text": [
      "deepsort output []\n",
      "in while loop\n"
     ]
    },
    {
     "name": "stderr",
     "output_type": "stream",
     "text": [
      "0: 480x640 1 bench, 43.0ms\n",
      "Speed: 6.0ms preprocess, 43.0ms inference, 1.0ms postprocess per image at shape (1, 3, 480, 640)\n",
      "\n",
      "0: 480x640 1 bench, 58.9ms\n"
     ]
    },
    {
     "name": "stdout",
     "output_type": "stream",
     "text": [
      "deepsort output []\n",
      "in while loop\n"
     ]
    },
    {
     "name": "stderr",
     "output_type": "stream",
     "text": [
      "Speed: 5.0ms preprocess, 58.9ms inference, 2.0ms postprocess per image at shape (1, 3, 480, 640)\n",
      "\n",
      "0: 480x640 1 bench, 44.0ms\n"
     ]
    },
    {
     "name": "stdout",
     "output_type": "stream",
     "text": [
      "deepsort output []\n",
      "in while loop\n"
     ]
    },
    {
     "name": "stderr",
     "output_type": "stream",
     "text": [
      "Speed: 5.0ms preprocess, 44.0ms inference, 2.0ms postprocess per image at shape (1, 3, 480, 640)\n",
      "\n",
      "0: 480x640 1 bench, 60.0ms\n",
      "Speed: 7.0ms preprocess, 60.0ms inference, 2.0ms postprocess per image at shape (1, 3, 480, 640)\n",
      "\n"
     ]
    },
    {
     "name": "stdout",
     "output_type": "stream",
     "text": [
      "deepsort output []\n",
      "in while loop\n",
      "deepsort output []\n",
      "in while loop\n"
     ]
    },
    {
     "name": "stderr",
     "output_type": "stream",
     "text": [
      "0: 480x640 1 bench, 46.0ms\n",
      "Speed: 6.0ms preprocess, 46.0ms inference, 1.0ms postprocess per image at shape (1, 3, 480, 640)\n",
      "\n"
     ]
    },
    {
     "name": "stdout",
     "output_type": "stream",
     "text": [
      "deepsort output []\n",
      "in while loop\n"
     ]
    },
    {
     "name": "stderr",
     "output_type": "stream",
     "text": [
      "0: 480x640 1 bench, 64.5ms\n",
      "Speed: 5.0ms preprocess, 64.5ms inference, 2.0ms postprocess per image at shape (1, 3, 480, 640)\n",
      "\n",
      "0: 480x640 1 bench, 42.0ms\n",
      "Speed: 6.0ms preprocess, 42.0ms inference, 1.0ms postprocess per image at shape (1, 3, 480, 640)\n"
     ]
    },
    {
     "name": "stdout",
     "output_type": "stream",
     "text": [
      "deepsort output []\n",
      "in while loop\n",
      "deepsort output []\n",
      "in while loop\n"
     ]
    },
    {
     "name": "stderr",
     "output_type": "stream",
     "text": [
      "\n",
      "0: 480x640 1 bench, 60.0ms\n",
      "Speed: 6.0ms preprocess, 60.0ms inference, 3.0ms postprocess per image at shape (1, 3, 480, 640)\n",
      "\n"
     ]
    },
    {
     "name": "stdout",
     "output_type": "stream",
     "text": [
      "deepsort output []\n",
      "in while loop\n"
     ]
    },
    {
     "name": "stderr",
     "output_type": "stream",
     "text": [
      "0: 480x640 1 bench, 41.0ms\n",
      "Speed: 6.0ms preprocess, 41.0ms inference, 2.0ms postprocess per image at shape (1, 3, 480, 640)\n",
      "\n",
      "0: 480x640 1 bench, 52.0ms\n",
      "Speed: 7.0ms preprocess, 52.0ms inference, 2.0ms postprocess per image at shape (1, 3, 480, 640)\n"
     ]
    },
    {
     "name": "stdout",
     "output_type": "stream",
     "text": [
      "deepsort output []\n",
      "in while loop\n",
      "deepsort output []\n",
      "in while loop\n"
     ]
    },
    {
     "name": "stderr",
     "output_type": "stream",
     "text": [
      "\n",
      "0: 480x640 (no detections), 41.0ms\n",
      "Speed: 5.0ms preprocess, 41.0ms inference, 2.0ms postprocess per image at shape (1, 3, 480, 640)\n",
      "\n"
     ]
    },
    {
     "name": "stdout",
     "output_type": "stream",
     "text": [
      "deepsort output []\n",
      "in while loop\n"
     ]
    },
    {
     "name": "stderr",
     "output_type": "stream",
     "text": [
      "0: 480x640 (no detections), 42.0ms\n",
      "Speed: 7.0ms preprocess, 42.0ms inference, 1.0ms postprocess per image at shape (1, 3, 480, 640)\n",
      "\n",
      "0: 480x640 1 bench, 44.0ms\n",
      "Speed: 6.0ms preprocess, 44.0ms inference, 2.0ms postprocess per image at shape (1, 3, 480, 640)\n",
      "\n"
     ]
    },
    {
     "name": "stdout",
     "output_type": "stream",
     "text": [
      "deepsort output []\n",
      "in while loop\n",
      "deepsort output []\n",
      "in while loop\n"
     ]
    },
    {
     "name": "stderr",
     "output_type": "stream",
     "text": [
      "0: 480x640 1 bench, 48.0ms\n",
      "Speed: 8.0ms preprocess, 48.0ms inference, 2.0ms postprocess per image at shape (1, 3, 480, 640)\n",
      "\n"
     ]
    },
    {
     "name": "stdout",
     "output_type": "stream",
     "text": [
      "deepsort output []\n",
      "in while loop\n"
     ]
    },
    {
     "name": "stderr",
     "output_type": "stream",
     "text": [
      "0: 480x640 1 bench, 42.0ms\n",
      "Speed: 5.0ms preprocess, 42.0ms inference, 2.0ms postprocess per image at shape (1, 3, 480, 640)\n",
      "\n",
      "0: 480x640 1 bench, 60.0ms\n",
      "Speed: 5.0ms preprocess, 60.0ms inference, 2.0ms postprocess per image at shape (1, 3, 480, 640)\n",
      "\n"
     ]
    },
    {
     "name": "stdout",
     "output_type": "stream",
     "text": [
      "deepsort output []\n",
      "in while loop\n",
      "deepsort output []\n",
      "in while loop\n"
     ]
    },
    {
     "name": "stderr",
     "output_type": "stream",
     "text": [
      "0: 480x640 1 bench, 43.0ms\n",
      "Speed: 5.0ms preprocess, 43.0ms inference, 2.0ms postprocess per image at shape (1, 3, 480, 640)\n",
      "\n"
     ]
    },
    {
     "name": "stdout",
     "output_type": "stream",
     "text": [
      "deepsort output []\n",
      "in while loop\n"
     ]
    },
    {
     "name": "stderr",
     "output_type": "stream",
     "text": [
      "0: 480x640 1 bench, 61.3ms\n",
      "Speed: 6.0ms preprocess, 61.3ms inference, 2.0ms postprocess per image at shape (1, 3, 480, 640)\n",
      "\n",
      "0: 480x640 1 bench, 41.0ms\n",
      "Speed: 5.0ms preprocess, 41.0ms inference, 2.0ms postprocess per image at shape (1, 3, 480, 640)\n",
      "\n"
     ]
    },
    {
     "name": "stdout",
     "output_type": "stream",
     "text": [
      "deepsort output []\n",
      "in while loop\n",
      "deepsort output []\n",
      "in while loop\n"
     ]
    },
    {
     "name": "stderr",
     "output_type": "stream",
     "text": [
      "0: 480x640 1 bench, 50.0ms\n",
      "Speed: 7.0ms preprocess, 50.0ms inference, 2.0ms postprocess per image at shape (1, 3, 480, 640)\n",
      "\n"
     ]
    },
    {
     "name": "stdout",
     "output_type": "stream",
     "text": [
      "deepsort output []\n",
      "in while loop\n"
     ]
    },
    {
     "name": "stderr",
     "output_type": "stream",
     "text": [
      "0: 480x640 2 benchs, 44.0ms\n",
      "Speed: 5.0ms preprocess, 44.0ms inference, 2.0ms postprocess per image at shape (1, 3, 480, 640)\n",
      "\n",
      "0: 480x640 2 benchs, 61.0ms\n",
      "Speed: 5.0ms preprocess, 61.0ms inference, 2.0ms postprocess per image at shape (1, 3, 480, 640)\n",
      "\n"
     ]
    },
    {
     "name": "stdout",
     "output_type": "stream",
     "text": [
      "deepsort output []\n",
      "in while loop\n",
      "deepsort output []\n",
      "in while loop\n"
     ]
    },
    {
     "name": "stderr",
     "output_type": "stream",
     "text": [
      "0: 480x640 1 bench, 45.0ms\n",
      "Speed: 5.0ms preprocess, 45.0ms inference, 2.0ms postprocess per image at shape (1, 3, 480, 640)\n",
      "\n"
     ]
    },
    {
     "name": "stdout",
     "output_type": "stream",
     "text": [
      "deepsort output []\n",
      "in while loop\n"
     ]
    },
    {
     "name": "stderr",
     "output_type": "stream",
     "text": [
      "0: 480x640 1 bench, 61.0ms\n",
      "Speed: 5.0ms preprocess, 61.0ms inference, 2.0ms postprocess per image at shape (1, 3, 480, 640)\n",
      "\n",
      "0: 480x640 2 benchs, 40.0ms\n",
      "Speed: 5.0ms preprocess, 40.0ms inference, 1.0ms postprocess per image at shape (1, 3, 480, 640)\n",
      "\n"
     ]
    },
    {
     "name": "stdout",
     "output_type": "stream",
     "text": [
      "deepsort output []\n",
      "in while loop\n",
      "deepsort output []\n",
      "in while loop\n"
     ]
    },
    {
     "name": "stderr",
     "output_type": "stream",
     "text": [
      "0: 480x640 2 benchs, 59.5ms\n",
      "Speed: 5.0ms preprocess, 59.5ms inference, 2.0ms postprocess per image at shape (1, 3, 480, 640)\n",
      "\n"
     ]
    },
    {
     "name": "stdout",
     "output_type": "stream",
     "text": [
      "deepsort output []\n",
      "in while loop\n"
     ]
    },
    {
     "name": "stderr",
     "output_type": "stream",
     "text": [
      "0: 480x640 1 bench, 41.0ms\n",
      "Speed: 5.0ms preprocess, 41.0ms inference, 2.0ms postprocess per image at shape (1, 3, 480, 640)\n",
      "\n",
      "0: 480x640 1 bench, 60.1ms\n",
      "Speed: 5.0ms preprocess, 60.1ms inference, 2.0ms postprocess per image at shape (1, 3, 480, 640)\n"
     ]
    },
    {
     "name": "stdout",
     "output_type": "stream",
     "text": [
      "deepsort output []\n",
      "in while loop\n",
      "deepsort output []\n",
      "in while loop\n"
     ]
    },
    {
     "name": "stderr",
     "output_type": "stream",
     "text": [
      "\n",
      "0: 480x640 1 bench, 41.0ms\n",
      "Speed: 5.0ms preprocess, 41.0ms inference, 2.0ms postprocess per image at shape (1, 3, 480, 640)\n",
      "\n"
     ]
    },
    {
     "name": "stdout",
     "output_type": "stream",
     "text": [
      "deepsort output []\n",
      "in while loop\n"
     ]
    },
    {
     "name": "stderr",
     "output_type": "stream",
     "text": [
      "0: 480x640 1 bench, 62.0ms\n",
      "Speed: 5.0ms preprocess, 62.0ms inference, 2.0ms postprocess per image at shape (1, 3, 480, 640)\n",
      "\n",
      "0: 480x640 1 bench, 41.0ms\n"
     ]
    },
    {
     "name": "stdout",
     "output_type": "stream",
     "text": [
      "deepsort output []\n",
      "in while loop\n"
     ]
    },
    {
     "name": "stderr",
     "output_type": "stream",
     "text": [
      "Speed: 5.0ms preprocess, 41.0ms inference, 2.0ms postprocess per image at shape (1, 3, 480, 640)\n",
      "\n",
      "0: 480x640 1 bench, 60.0ms\n",
      "Speed: 7.0ms preprocess, 60.0ms inference, 2.0ms postprocess per image at shape (1, 3, 480, 640)\n",
      "\n"
     ]
    },
    {
     "name": "stdout",
     "output_type": "stream",
     "text": [
      "deepsort output []\n",
      "in while loop\n",
      "deepsort output []\n",
      "in while loop\n"
     ]
    },
    {
     "name": "stderr",
     "output_type": "stream",
     "text": [
      "0: 480x640 1 bench, 43.0ms\n",
      "Speed: 5.0ms preprocess, 43.0ms inference, 2.0ms postprocess per image at shape (1, 3, 480, 640)\n",
      "\n"
     ]
    },
    {
     "name": "stdout",
     "output_type": "stream",
     "text": [
      "deepsort output []\n",
      "in while loop\n"
     ]
    },
    {
     "name": "stderr",
     "output_type": "stream",
     "text": [
      "0: 480x640 1 bench, 42.0ms\n",
      "Speed: 6.9ms preprocess, 42.0ms inference, 2.0ms postprocess per image at shape (1, 3, 480, 640)\n",
      "\n",
      "0: 480x640 1 bench, 41.0ms\n",
      "Speed: 5.0ms preprocess, 41.0ms inference, 2.0ms postprocess per image at shape (1, 3, 480, 640)\n",
      "\n"
     ]
    },
    {
     "name": "stdout",
     "output_type": "stream",
     "text": [
      "deepsort output []\n",
      "in while loop\n",
      "deepsort output []\n",
      "in while loop\n"
     ]
    },
    {
     "name": "stderr",
     "output_type": "stream",
     "text": [
      "0: 480x640 1 bench, 60.0ms\n",
      "Speed: 5.0ms preprocess, 60.0ms inference, 2.0ms postprocess per image at shape (1, 3, 480, 640)\n",
      "\n"
     ]
    },
    {
     "name": "stdout",
     "output_type": "stream",
     "text": [
      "deepsort output []\n",
      "in while loop\n"
     ]
    },
    {
     "name": "stderr",
     "output_type": "stream",
     "text": [
      "0: 480x640 1 bench, 44.0ms\n",
      "Speed: 5.0ms preprocess, 44.0ms inference, 1.0ms postprocess per image at shape (1, 3, 480, 640)\n",
      "\n",
      "0: 480x640 1 bench, 63.0ms\n",
      "Speed: 5.0ms preprocess, 63.0ms inference, 2.0ms postprocess per image at shape (1, 3, 480, 640)\n",
      "\n"
     ]
    },
    {
     "name": "stdout",
     "output_type": "stream",
     "text": [
      "deepsort output []\n",
      "in while loop\n",
      "deepsort output []\n",
      "in while loop\n"
     ]
    },
    {
     "name": "stderr",
     "output_type": "stream",
     "text": [
      "0: 480x640 1 bench, 43.0ms\n",
      "Speed: 5.0ms preprocess, 43.0ms inference, 2.0ms postprocess per image at shape (1, 3, 480, 640)\n"
     ]
    },
    {
     "name": "stdout",
     "output_type": "stream",
     "text": [
      "deepsort output []\n",
      "in while loop\n"
     ]
    },
    {
     "name": "stderr",
     "output_type": "stream",
     "text": [
      "\n",
      "0: 480x640 1 bench, 53.0ms\n",
      "Speed: 7.0ms preprocess, 53.0ms inference, 2.0ms postprocess per image at shape (1, 3, 480, 640)\n",
      "\n",
      "0: 480x640 1 bench, 42.0ms\n",
      "Speed: 5.0ms preprocess, 42.0ms inference, 2.0ms postprocess per image at shape (1, 3, 480, 640)\n",
      "\n"
     ]
    },
    {
     "name": "stdout",
     "output_type": "stream",
     "text": [
      "deepsort output []\n",
      "in while loop\n",
      "deepsort output []\n",
      "in while loop\n"
     ]
    },
    {
     "name": "stderr",
     "output_type": "stream",
     "text": [
      "0: 480x640 1 bench, 42.0ms\n",
      "Speed: 6.0ms preprocess, 42.0ms inference, 2.0ms postprocess per image at shape (1, 3, 480, 640)\n",
      "\n"
     ]
    },
    {
     "name": "stdout",
     "output_type": "stream",
     "text": [
      "deepsort output []\n",
      "in while loop\n"
     ]
    },
    {
     "name": "stderr",
     "output_type": "stream",
     "text": [
      "0: 480x640 1 bench, 41.0ms\n",
      "Speed: 5.0ms preprocess, 41.0ms inference, 2.0ms postprocess per image at shape (1, 3, 480, 640)\n",
      "\n",
      "0: 480x640 1 bench, 54.0ms\n",
      "Speed: 7.0ms preprocess, 54.0ms inference, 3.0ms postprocess per image at shape (1, 3, 480, 640)\n"
     ]
    },
    {
     "name": "stdout",
     "output_type": "stream",
     "text": [
      "deepsort output []\n",
      "in while loop\n",
      "deepsort output []\n",
      "in while loop\n"
     ]
    },
    {
     "name": "stderr",
     "output_type": "stream",
     "text": [
      "\n",
      "0: 480x640 1 bench, 41.0ms\n",
      "Speed: 5.0ms preprocess, 41.0ms inference, 2.0ms postprocess per image at shape (1, 3, 480, 640)\n"
     ]
    },
    {
     "name": "stdout",
     "output_type": "stream",
     "text": [
      "deepsort output []\n",
      "in while loop\n"
     ]
    },
    {
     "name": "stderr",
     "output_type": "stream",
     "text": [
      "\n",
      "0: 480x640 1 bench, 45.0ms\n",
      "Speed: 5.0ms preprocess, 45.0ms inference, 2.0ms postprocess per image at shape (1, 3, 480, 640)\n",
      "\n",
      "0: 480x640 1 bench, 43.0ms\n",
      "Speed: 5.0ms preprocess, 43.0ms inference, 1.0ms postprocess per image at shape (1, 3, 480, 640)\n",
      "\n"
     ]
    },
    {
     "name": "stdout",
     "output_type": "stream",
     "text": [
      "deepsort output []\n",
      "in while loop\n",
      "deepsort output []\n",
      "in while loop\n"
     ]
    },
    {
     "name": "stderr",
     "output_type": "stream",
     "text": [
      "0: 480x640 1 bench, 50.1ms\n",
      "Speed: 7.0ms preprocess, 50.1ms inference, 2.0ms postprocess per image at shape (1, 3, 480, 640)\n",
      "\n"
     ]
    },
    {
     "name": "stdout",
     "output_type": "stream",
     "text": [
      "deepsort output []\n",
      "in while loop\n"
     ]
    },
    {
     "name": "stderr",
     "output_type": "stream",
     "text": [
      "0: 480x640 1 bench, 41.0ms\n",
      "Speed: 5.0ms preprocess, 41.0ms inference, 2.0ms postprocess per image at shape (1, 3, 480, 640)\n",
      "\n",
      "0: 480x640 1 bench, 60.0ms\n",
      "Speed: 5.0ms preprocess, 60.0ms inference, 2.0ms postprocess per image at shape (1, 3, 480, 640)\n",
      "\n"
     ]
    },
    {
     "name": "stdout",
     "output_type": "stream",
     "text": [
      "deepsort output []\n",
      "in while loop\n",
      "deepsort output []\n",
      "in while loop\n"
     ]
    },
    {
     "name": "stderr",
     "output_type": "stream",
     "text": [
      "0: 480x640 1 bench, 41.0ms\n",
      "Speed: 5.0ms preprocess, 41.0ms inference, 2.0ms postprocess per image at shape (1, 3, 480, 640)\n",
      "\n",
      "0: 480x640 1 bench, 53.0ms\n",
      "Speed: 7.0ms preprocess, 53.0ms inference, 2.0ms postprocess per image at shape (1, 3, 480, 640)\n",
      "\n",
      "0: 480x640 1 bench, 42.0ms\n",
      "Speed: 5.0ms preprocess, 42.0ms inference, 2.0ms postprocess per image at shape (1, 3, 480, 640)\n"
     ]
    },
    {
     "name": "stdout",
     "output_type": "stream",
     "text": [
      "deepsort output []\n",
      "in while loop\n",
      "deepsort output []\n",
      "in while loop\n",
      "deepsort output []\n",
      "in while loop\n"
     ]
    },
    {
     "name": "stderr",
     "output_type": "stream",
     "text": [
      "\n",
      "0: 480x640 1 bench, 45.0ms\n",
      "Speed: 6.0ms preprocess, 45.0ms inference, 3.0ms postprocess per image at shape (1, 3, 480, 640)\n",
      "\n",
      "0: 480x640 1 bench, 42.0ms\n",
      "Speed: 5.0ms preprocess, 42.0ms inference, 1.0ms postprocess per image at shape (1, 3, 480, 640)\n",
      "\n",
      "0: 480x640 1 bench, 56.0ms\n",
      "Speed: 6.0ms preprocess, 56.0ms inference, 2.0ms postprocess per image at shape (1, 3, 480, 640)\n",
      "\n"
     ]
    },
    {
     "name": "stdout",
     "output_type": "stream",
     "text": [
      "deepsort output []\n",
      "in while loop\n",
      "deepsort output []\n",
      "in while loop\n",
      "deepsort output []\n",
      "in while loop\n"
     ]
    },
    {
     "name": "stderr",
     "output_type": "stream",
     "text": [
      "0: 480x640 1 bench, 41.0ms\n",
      "Speed: 5.0ms preprocess, 41.0ms inference, 3.0ms postprocess per image at shape (1, 3, 480, 640)\n",
      "\n",
      "0: 480x640 1 bench, 42.0ms\n",
      "Speed: 6.0ms preprocess, 42.0ms inference, 2.0ms postprocess per image at shape (1, 3, 480, 640)\n",
      "\n",
      "0: 480x640 1 bench, 41.3ms\n",
      "Speed: 5.0ms preprocess, 41.3ms inference, 2.0ms postprocess per image at shape (1, 3, 480, 640)\n",
      "\n"
     ]
    },
    {
     "name": "stdout",
     "output_type": "stream",
     "text": [
      "deepsort output []\n",
      "in while loop\n",
      "deepsort output []\n",
      "in while loop\n",
      "deepsort output []\n",
      "in while loop\n"
     ]
    },
    {
     "name": "stderr",
     "output_type": "stream",
     "text": [
      "0: 480x640 1 bench, 61.0ms\n",
      "Speed: 5.0ms preprocess, 61.0ms inference, 2.0ms postprocess per image at shape (1, 3, 480, 640)\n",
      "\n",
      "0: 480x640 1 bench, 41.0ms\n",
      "Speed: 5.0ms preprocess, 41.0ms inference, 2.0ms postprocess per image at shape (1, 3, 480, 640)\n",
      "\n",
      "0: 480x640 1 bench, 60.0ms\n",
      "Speed: 5.0ms preprocess, 60.0ms inference, 2.0ms postprocess per image at shape (1, 3, 480, 640)\n",
      "\n"
     ]
    },
    {
     "name": "stdout",
     "output_type": "stream",
     "text": [
      "deepsort output []\n",
      "in while loop\n",
      "deepsort output []\n",
      "in while loop\n",
      "deepsort output []\n",
      "in while loop\n"
     ]
    },
    {
     "name": "stderr",
     "output_type": "stream",
     "text": [
      "0: 480x640 1 bench, 43.0ms\n",
      "Speed: 5.0ms preprocess, 43.0ms inference, 1.0ms postprocess per image at shape (1, 3, 480, 640)\n",
      "\n",
      "0: 480x640 1 bench, 61.0ms\n",
      "Speed: 5.0ms preprocess, 61.0ms inference, 1.0ms postprocess per image at shape (1, 3, 480, 640)\n",
      "\n",
      "0: 480x640 1 bench, 41.0ms\n",
      "Speed: 5.0ms preprocess, 41.0ms inference, 2.0ms postprocess per image at shape (1, 3, 480, 640)\n",
      "\n"
     ]
    },
    {
     "name": "stdout",
     "output_type": "stream",
     "text": [
      "deepsort output []\n",
      "in while loop\n",
      "deepsort output []\n",
      "in while loop\n",
      "deepsort output []\n",
      "in while loop\n"
     ]
    },
    {
     "name": "stderr",
     "output_type": "stream",
     "text": [
      "0: 480x640 1 bench, 64.0ms\n",
      "Speed: 5.0ms preprocess, 64.0ms inference, 2.0ms postprocess per image at shape (1, 3, 480, 640)\n",
      "\n",
      "0: 480x640 1 bench, 43.0ms\n",
      "Speed: 5.0ms preprocess, 43.0ms inference, 2.0ms postprocess per image at shape (1, 3, 480, 640)\n",
      "\n",
      "0: 480x640 1 bench, 52.0ms\n",
      "Speed: 7.0ms preprocess, 52.0ms inference, 2.0ms postprocess per image at shape (1, 3, 480, 640)\n",
      "\n"
     ]
    },
    {
     "name": "stdout",
     "output_type": "stream",
     "text": [
      "deepsort output []\n",
      "in while loop\n",
      "deepsort output []\n",
      "in while loop\n",
      "deepsort output []\n",
      "in while loop\n"
     ]
    },
    {
     "name": "stderr",
     "output_type": "stream",
     "text": [
      "0: 480x640 1 bench, 46.0ms\n",
      "Speed: 5.0ms preprocess, 46.0ms inference, 1.0ms postprocess per image at shape (1, 3, 480, 640)\n",
      "\n",
      "0: 480x640 1 bench, 57.0ms\n",
      "Speed: 9.0ms preprocess, 57.0ms inference, 1.0ms postprocess per image at shape (1, 3, 480, 640)\n",
      "\n",
      "0: 480x640 1 bench, 40.0ms\n",
      "Speed: 5.0ms preprocess, 40.0ms inference, 2.0ms postprocess per image at shape (1, 3, 480, 640)\n",
      "\n"
     ]
    },
    {
     "name": "stdout",
     "output_type": "stream",
     "text": [
      "deepsort output []\n",
      "in while loop\n",
      "deepsort output []\n",
      "in while loop\n",
      "deepsort output []\n",
      "in while loop\n"
     ]
    },
    {
     "name": "stderr",
     "output_type": "stream",
     "text": [
      "0: 480x640 1 bench, 45.1ms\n",
      "Speed: 6.0ms preprocess, 45.1ms inference, 3.0ms postprocess per image at shape (1, 3, 480, 640)\n",
      "\n",
      "0: 480x640 1 bench, 41.0ms\n",
      "Speed: 5.0ms preprocess, 41.0ms inference, 2.0ms postprocess per image at shape (1, 3, 480, 640)\n",
      "\n",
      "0: 480x640 1 bench, 56.6ms\n",
      "Speed: 6.0ms preprocess, 56.6ms inference, 2.0ms postprocess per image at shape (1, 3, 480, 640)\n",
      "\n"
     ]
    },
    {
     "name": "stdout",
     "output_type": "stream",
     "text": [
      "deepsort output []\n",
      "in while loop\n",
      "deepsort output []\n",
      "in while loop\n",
      "deepsort output []\n",
      "in while loop\n"
     ]
    },
    {
     "name": "stderr",
     "output_type": "stream",
     "text": [
      "0: 480x640 1 bench, 42.0ms\n",
      "Speed: 5.0ms preprocess, 42.0ms inference, 2.0ms postprocess per image at shape (1, 3, 480, 640)\n",
      "\n",
      "0: 480x640 1 bench, 44.0ms\n",
      "Speed: 7.0ms preprocess, 44.0ms inference, 2.0ms postprocess per image at shape (1, 3, 480, 640)\n",
      "\n",
      "0: 480x640 1 bench, 43.0ms\n",
      "Speed: 5.0ms preprocess, 43.0ms inference, 4.0ms postprocess per image at shape (1, 3, 480, 640)\n",
      "\n"
     ]
    },
    {
     "name": "stdout",
     "output_type": "stream",
     "text": [
      "deepsort output []\n",
      "in while loop\n",
      "deepsort output []\n",
      "in while loop\n",
      "deepsort output []\n",
      "in while loop\n"
     ]
    },
    {
     "name": "stderr",
     "output_type": "stream",
     "text": [
      "0: 480x640 1 bench, 59.0ms\n",
      "Speed: 6.0ms preprocess, 59.0ms inference, 2.0ms postprocess per image at shape (1, 3, 480, 640)\n",
      "\n",
      "0: 480x640 1 bench, 42.0ms\n",
      "Speed: 5.0ms preprocess, 42.0ms inference, 2.0ms postprocess per image at shape (1, 3, 480, 640)\n",
      "\n",
      "0: 480x640 1 bench, 44.0ms\n",
      "Speed: 7.0ms preprocess, 44.0ms inference, 2.0ms postprocess per image at shape (1, 3, 480, 640)\n",
      "\n"
     ]
    },
    {
     "name": "stdout",
     "output_type": "stream",
     "text": [
      "deepsort output []\n",
      "in while loop\n",
      "deepsort output []\n",
      "in while loop\n",
      "deepsort output []\n",
      "in while loop\n"
     ]
    },
    {
     "name": "stderr",
     "output_type": "stream",
     "text": [
      "0: 480x640 1 bench, 41.0ms\n",
      "Speed: 7.0ms preprocess, 41.0ms inference, 2.0ms postprocess per image at shape (1, 3, 480, 640)\n",
      "\n",
      "0: 480x640 1 bench, 61.0ms\n",
      "Speed: 5.0ms preprocess, 61.0ms inference, 2.0ms postprocess per image at shape (1, 3, 480, 640)\n",
      "\n",
      "0: 480x640 1 bench, 41.1ms\n",
      "Speed: 5.0ms preprocess, 41.1ms inference, 2.0ms postprocess per image at shape (1, 3, 480, 640)\n",
      "\n"
     ]
    },
    {
     "name": "stdout",
     "output_type": "stream",
     "text": [
      "deepsort output []\n",
      "in while loop\n",
      "deepsort output []\n",
      "in while loop\n",
      "deepsort output []\n",
      "in while loop\n"
     ]
    },
    {
     "name": "stderr",
     "output_type": "stream",
     "text": [
      "0: 480x640 1 bench, 62.0ms\n",
      "Speed: 6.0ms preprocess, 62.0ms inference, 2.0ms postprocess per image at shape (1, 3, 480, 640)\n",
      "\n",
      "0: 480x640 1 bench, 47.0ms\n",
      "Speed: 5.0ms preprocess, 47.0ms inference, 2.0ms postprocess per image at shape (1, 3, 480, 640)\n",
      "\n",
      "0: 480x640 1 bench, 44.5ms\n"
     ]
    },
    {
     "name": "stdout",
     "output_type": "stream",
     "text": [
      "deepsort output []\n",
      "in while loop\n",
      "deepsort output []\n",
      "in while loop\n"
     ]
    },
    {
     "name": "stderr",
     "output_type": "stream",
     "text": [
      "Speed: 5.0ms preprocess, 44.5ms inference, 3.0ms postprocess per image at shape (1, 3, 480, 640)\n",
      "\n",
      "0: 480x640 1 bench, 41.0ms\n",
      "Speed: 6.0ms preprocess, 41.0ms inference, 2.0ms postprocess per image at shape (1, 3, 480, 640)\n",
      "\n",
      "0: 480x640 1 bench, 65.0ms\n",
      "Speed: 5.0ms preprocess, 65.0ms inference, 2.0ms postprocess per image at shape (1, 3, 480, 640)\n"
     ]
    },
    {
     "name": "stdout",
     "output_type": "stream",
     "text": [
      "deepsort output []\n",
      "in while loop\n",
      "deepsort output []\n",
      "in while loop\n",
      "deepsort output []\n",
      "in while loop\n"
     ]
    },
    {
     "name": "stderr",
     "output_type": "stream",
     "text": [
      "\n",
      "0: 480x640 1 bench, 42.0ms\n",
      "Speed: 5.0ms preprocess, 42.0ms inference, 2.0ms postprocess per image at shape (1, 3, 480, 640)\n",
      "\n",
      "0: 480x640 1 bench, 60.0ms\n",
      "Speed: 5.0ms preprocess, 60.0ms inference, 3.0ms postprocess per image at shape (1, 3, 480, 640)\n",
      "\n",
      "0: 480x640 1 bench, 41.0ms\n",
      "Speed: 5.0ms preprocess, 41.0ms inference, 2.0ms postprocess per image at shape (1, 3, 480, 640)\n",
      "\n"
     ]
    },
    {
     "name": "stdout",
     "output_type": "stream",
     "text": [
      "deepsort output []\n",
      "in while loop\n",
      "deepsort output []\n",
      "in while loop\n",
      "deepsort output []\n",
      "in while loop\n"
     ]
    },
    {
     "name": "stderr",
     "output_type": "stream",
     "text": [
      "0: 480x640 1 bench, 61.0ms\n",
      "Speed: 5.0ms preprocess, 61.0ms inference, 1.0ms postprocess per image at shape (1, 3, 480, 640)\n",
      "\n",
      "0: 480x640 1 bench, 42.9ms\n",
      "Speed: 5.0ms preprocess, 42.9ms inference, 3.0ms postprocess per image at shape (1, 3, 480, 640)\n",
      "\n",
      "0: 480x640 1 bench, 45.0ms\n",
      "Speed: 7.0ms preprocess, 45.0ms inference, 2.0ms postprocess per image at shape (1, 3, 480, 640)\n",
      "\n"
     ]
    },
    {
     "name": "stdout",
     "output_type": "stream",
     "text": [
      "deepsort output []\n",
      "in while loop\n",
      "deepsort output []\n",
      "in while loop\n",
      "deepsort output []\n",
      "in while loop\n"
     ]
    },
    {
     "name": "stderr",
     "output_type": "stream",
     "text": [
      "0: 480x640 1 bench, 43.0ms\n",
      "Speed: 5.0ms preprocess, 43.0ms inference, 2.0ms postprocess per image at shape (1, 3, 480, 640)\n",
      "\n",
      "0: 480x640 1 bench, 60.0ms\n",
      "Speed: 5.0ms preprocess, 60.0ms inference, 4.0ms postprocess per image at shape (1, 3, 480, 640)\n",
      "\n",
      "0: 480x640 1 bench, 41.0ms\n",
      "Speed: 5.0ms preprocess, 41.0ms inference, 2.0ms postprocess per image at shape (1, 3, 480, 640)\n",
      "\n"
     ]
    },
    {
     "name": "stdout",
     "output_type": "stream",
     "text": [
      "deepsort output []\n",
      "in while loop\n",
      "deepsort output []\n",
      "in while loop\n",
      "deepsort output []\n",
      "in while loop\n"
     ]
    },
    {
     "name": "stderr",
     "output_type": "stream",
     "text": [
      "0: 480x640 1 bench, 43.0ms\n",
      "Speed: 6.0ms preprocess, 43.0ms inference, 2.0ms postprocess per image at shape (1, 3, 480, 640)\n",
      "\n",
      "0: 480x640 1 bench, 41.0ms\n",
      "Speed: 5.0ms preprocess, 41.0ms inference, 2.0ms postprocess per image at shape (1, 3, 480, 640)\n",
      "\n",
      "0: 480x640 1 bench, 56.0ms\n",
      "Speed: 6.0ms preprocess, 56.0ms inference, 2.0ms postprocess per image at shape (1, 3, 480, 640)\n",
      "\n"
     ]
    },
    {
     "name": "stdout",
     "output_type": "stream",
     "text": [
      "deepsort output []\n",
      "in while loop\n",
      "deepsort output []\n",
      "in while loop\n",
      "deepsort output []\n",
      "in while loop\n"
     ]
    },
    {
     "name": "stderr",
     "output_type": "stream",
     "text": [
      "0: 480x640 1 bench, 45.0ms\n",
      "Speed: 5.0ms preprocess, 45.0ms inference, 2.0ms postprocess per image at shape (1, 3, 480, 640)\n",
      "\n",
      "0: 480x640 1 bench, 44.8ms\n",
      "Speed: 7.0ms preprocess, 44.8ms inference, 2.0ms postprocess per image at shape (1, 3, 480, 640)\n",
      "\n",
      "0: 480x640 1 bench, 42.2ms\n",
      "Speed: 5.0ms preprocess, 42.2ms inference, 1.0ms postprocess per image at shape (1, 3, 480, 640)\n",
      "\n"
     ]
    },
    {
     "name": "stdout",
     "output_type": "stream",
     "text": [
      "deepsort output []\n",
      "in while loop\n",
      "deepsort output []\n",
      "in while loop\n",
      "deepsort output []\n",
      "in while loop\n"
     ]
    },
    {
     "name": "stderr",
     "output_type": "stream",
     "text": [
      "0: 480x640 1 bench, 59.0ms\n",
      "Speed: 6.0ms preprocess, 59.0ms inference, 3.0ms postprocess per image at shape (1, 3, 480, 640)\n",
      "\n",
      "0: 480x640 1 bench, 45.0ms\n",
      "Speed: 5.0ms preprocess, 45.0ms inference, 2.0ms postprocess per image at shape (1, 3, 480, 640)\n",
      "\n",
      "0: 480x640 1 bench, 49.0ms\n",
      "Speed: 8.0ms preprocess, 49.0ms inference, 2.0ms postprocess per image at shape (1, 3, 480, 640)\n",
      "\n"
     ]
    },
    {
     "name": "stdout",
     "output_type": "stream",
     "text": [
      "deepsort output []\n",
      "in while loop\n",
      "deepsort output []\n",
      "in while loop\n",
      "deepsort output []\n",
      "in while loop\n"
     ]
    },
    {
     "name": "stderr",
     "output_type": "stream",
     "text": [
      "0: 480x640 1 bench, 40.0ms\n",
      "Speed: 6.0ms preprocess, 40.0ms inference, 2.0ms postprocess per image at shape (1, 3, 480, 640)\n",
      "\n",
      "0: 480x640 1 bench, 59.0ms\n",
      "Speed: 6.0ms preprocess, 59.0ms inference, 2.0ms postprocess per image at shape (1, 3, 480, 640)\n",
      "\n",
      "0: 480x640 1 bench, 40.0ms\n",
      "Speed: 5.0ms preprocess, 40.0ms inference, 2.0ms postprocess per image at shape (1, 3, 480, 640)\n"
     ]
    },
    {
     "name": "stdout",
     "output_type": "stream",
     "text": [
      "deepsort output []\n",
      "in while loop\n",
      "deepsort output []\n",
      "in while loop\n"
     ]
    },
    {
     "name": "stderr",
     "output_type": "stream",
     "text": [
      "\n",
      "0: 480x640 1 bench, 44.0ms\n",
      "Speed: 7.0ms preprocess, 44.0ms inference, 2.0ms postprocess per image at shape (1, 3, 480, 640)\n",
      "\n",
      "0: 480x640 1 bench, 44.0ms\n",
      "Speed: 5.0ms preprocess, 44.0ms inference, 2.0ms postprocess per image at shape (1, 3, 480, 640)\n",
      "\n"
     ]
    },
    {
     "name": "stdout",
     "output_type": "stream",
     "text": [
      "deepsort output []\n",
      "in while loop\n",
      "deepsort output []\n",
      "in while loop\n",
      "deepsort output []\n",
      "in while loop\n"
     ]
    },
    {
     "name": "stderr",
     "output_type": "stream",
     "text": [
      "0: 480x640 1 bench, 60.0ms\n",
      "Speed: 5.0ms preprocess, 60.0ms inference, 1.0ms postprocess per image at shape (1, 3, 480, 640)\n",
      "\n",
      "0: 480x640 1 bench, 41.0ms\n",
      "Speed: 5.0ms preprocess, 41.0ms inference, 2.0ms postprocess per image at shape (1, 3, 480, 640)\n",
      "\n",
      "0: 480x640 1 bench, 50.0ms\n",
      "Speed: 7.0ms preprocess, 50.0ms inference, 1.0ms postprocess per image at shape (1, 3, 480, 640)\n"
     ]
    },
    {
     "name": "stdout",
     "output_type": "stream",
     "text": [
      "deepsort output []\n",
      "in while loop\n",
      "deepsort output []\n",
      "in while loop\n",
      "deepsort output []\n",
      "in while loop\n"
     ]
    },
    {
     "name": "stderr",
     "output_type": "stream",
     "text": [
      "\n",
      "0: 480x640 1 bench, 47.0ms\n",
      "Speed: 6.0ms preprocess, 47.0ms inference, 1.0ms postprocess per image at shape (1, 3, 480, 640)\n",
      "\n",
      "0: 480x640 1 bench, 64.0ms\n",
      "Speed: 5.0ms preprocess, 64.0ms inference, 1.0ms postprocess per image at shape (1, 3, 480, 640)\n",
      "\n",
      "0: 480x640 1 person, 1 bench, 40.0ms\n",
      "Speed: 5.0ms preprocess, 40.0ms inference, 2.0ms postprocess per image at shape (1, 3, 480, 640)\n",
      "\n"
     ]
    },
    {
     "name": "stdout",
     "output_type": "stream",
     "text": [
      "deepsort output []\n",
      "in while loop\n",
      "deepsort output []\n",
      "in while loop\n",
      "deepsort output []\n",
      "in while loop\n"
     ]
    },
    {
     "name": "stderr",
     "output_type": "stream",
     "text": [
      "0: 480x640 1 person, 1 bench, 44.0ms\n",
      "Speed: 9.0ms preprocess, 44.0ms inference, 2.0ms postprocess per image at shape (1, 3, 480, 640)\n",
      "\n",
      "0: 480x640 1 person, 1 bench, 40.0ms\n",
      "Speed: 5.0ms preprocess, 40.0ms inference, 2.0ms postprocess per image at shape (1, 3, 480, 640)\n",
      "\n",
      "0: 480x640 1 person, 1 bench, 58.0ms\n",
      "Speed: 6.0ms preprocess, 58.0ms inference, 1.0ms postprocess per image at shape (1, 3, 480, 640)\n",
      "\n"
     ]
    },
    {
     "name": "stdout",
     "output_type": "stream",
     "text": [
      "deepsort output []\n",
      "in while loop\n",
      "deepsort output []\n",
      "in while loop\n",
      "deepsort output []\n",
      "in while loop\n"
     ]
    },
    {
     "name": "stderr",
     "output_type": "stream",
     "text": [
      "0: 480x640 1 bench, 40.0ms\n",
      "Speed: 5.0ms preprocess, 40.0ms inference, 2.0ms postprocess per image at shape (1, 3, 480, 640)\n",
      "\n",
      "0: 480x640 1 bench, 44.0ms\n",
      "Speed: 7.0ms preprocess, 44.0ms inference, 2.0ms postprocess per image at shape (1, 3, 480, 640)\n",
      "\n",
      "0: 480x640 1 bench, 40.0ms\n",
      "Speed: 5.0ms preprocess, 40.0ms inference, 2.0ms postprocess per image at shape (1, 3, 480, 640)\n",
      "\n"
     ]
    },
    {
     "name": "stdout",
     "output_type": "stream",
     "text": [
      "deepsort output []\n",
      "in while loop\n",
      "deepsort output []\n",
      "in while loop\n",
      "deepsort output []\n",
      "in while loop\n"
     ]
    },
    {
     "name": "stderr",
     "output_type": "stream",
     "text": [
      "0: 480x640 1 bench, 58.0ms\n",
      "Speed: 7.0ms preprocess, 58.0ms inference, 2.0ms postprocess per image at shape (1, 3, 480, 640)\n",
      "\n",
      "0: 480x640 1 bench, 40.0ms\n",
      "Speed: 6.0ms preprocess, 40.0ms inference, 2.0ms postprocess per image at shape (1, 3, 480, 640)\n",
      "\n",
      "0: 480x640 1 bench, 48.0ms\n",
      "Speed: 6.0ms preprocess, 48.0ms inference, 2.0ms postprocess per image at shape (1, 3, 480, 640)\n",
      "\n"
     ]
    },
    {
     "name": "stdout",
     "output_type": "stream",
     "text": [
      "deepsort output []\n",
      "in while loop\n",
      "deepsort output []\n",
      "in while loop\n",
      "deepsort output []\n",
      "in while loop\n"
     ]
    },
    {
     "name": "stderr",
     "output_type": "stream",
     "text": [
      "0: 480x640 2 benchs, 40.0ms\n",
      "Speed: 6.0ms preprocess, 40.0ms inference, 4.0ms postprocess per image at shape (1, 3, 480, 640)\n",
      "\n",
      "0: 480x640 2 benchs, 57.0ms\n",
      "Speed: 6.0ms preprocess, 57.0ms inference, 2.0ms postprocess per image at shape (1, 3, 480, 640)\n",
      "\n",
      "0: 480x640 1 bench, 41.0ms\n",
      "Speed: 5.0ms preprocess, 41.0ms inference, 1.0ms postprocess per image at shape (1, 3, 480, 640)\n",
      "\n"
     ]
    },
    {
     "name": "stdout",
     "output_type": "stream",
     "text": [
      "deepsort output []\n",
      "in while loop\n",
      "deepsort output []\n",
      "in while loop\n",
      "deepsort output []\n",
      "in while loop\n"
     ]
    },
    {
     "name": "stderr",
     "output_type": "stream",
     "text": [
      "0: 480x640 1 bench, 44.7ms\n",
      "Speed: 6.0ms preprocess, 44.7ms inference, 1.0ms postprocess per image at shape (1, 3, 480, 640)\n",
      "\n",
      "0: 480x640 1 bench, 42.6ms\n",
      "Speed: 5.0ms preprocess, 42.6ms inference, 3.0ms postprocess per image at shape (1, 3, 480, 640)\n",
      "\n",
      "0: 480x640 1 bench, 61.0ms\n",
      "Speed: 6.0ms preprocess, 61.0ms inference, 2.0ms postprocess per image at shape (1, 3, 480, 640)\n",
      "\n"
     ]
    },
    {
     "name": "stdout",
     "output_type": "stream",
     "text": [
      "deepsort output []\n",
      "in while loop\n",
      "deepsort output []\n",
      "in while loop\n",
      "deepsort output []\n",
      "in while loop\n"
     ]
    },
    {
     "name": "stderr",
     "output_type": "stream",
     "text": [
      "0: 480x640 2 benchs, 41.0ms\n",
      "Speed: 5.0ms preprocess, 41.0ms inference, 1.0ms postprocess per image at shape (1, 3, 480, 640)\n",
      "\n",
      "0: 480x640 2 benchs, 47.5ms\n",
      "Speed: 6.0ms preprocess, 47.5ms inference, 2.0ms postprocess per image at shape (1, 3, 480, 640)\n",
      "\n",
      "0: 480x640 (no detections), 40.0ms\n",
      "Speed: 5.0ms preprocess, 40.0ms inference, 1.0ms postprocess per image at shape (1, 3, 480, 640)\n",
      "\n"
     ]
    },
    {
     "name": "stdout",
     "output_type": "stream",
     "text": [
      "deepsort output []\n",
      "in while loop\n",
      "deepsort output []\n",
      "in while loop\n",
      "deepsort output []\n",
      "in while loop\n"
     ]
    },
    {
     "name": "stderr",
     "output_type": "stream",
     "text": [
      "0: 480x640 (no detections), 56.0ms\n",
      "Speed: 6.0ms preprocess, 56.0ms inference, 1.0ms postprocess per image at shape (1, 3, 480, 640)\n",
      "\n",
      "0: 480x640 1 bench, 41.0ms\n",
      "Speed: 5.0ms preprocess, 41.0ms inference, 1.0ms postprocess per image at shape (1, 3, 480, 640)\n",
      "\n",
      "0: 480x640 1 bench, 43.0ms\n",
      "Speed: 5.0ms preprocess, 43.0ms inference, 1.0ms postprocess per image at shape (1, 3, 480, 640)\n",
      "\n"
     ]
    },
    {
     "name": "stdout",
     "output_type": "stream",
     "text": [
      "deepsort output []\n",
      "in while loop\n",
      "deepsort output []\n",
      "in while loop\n",
      "deepsort output []\n",
      "in while loop\n"
     ]
    },
    {
     "name": "stderr",
     "output_type": "stream",
     "text": [
      "0: 480x640 1 bench, 43.0ms\n",
      "Speed: 5.0ms preprocess, 43.0ms inference, 2.0ms postprocess per image at shape (1, 3, 480, 640)\n",
      "\n",
      "0: 480x640 1 bench, 46.0ms\n",
      "Speed: 8.0ms preprocess, 46.0ms inference, 2.0ms postprocess per image at shape (1, 3, 480, 640)\n",
      "\n",
      "0: 480x640 1 bench, 42.0ms\n",
      "Speed: 5.0ms preprocess, 42.0ms inference, 2.0ms postprocess per image at shape (1, 3, 480, 640)\n",
      "\n"
     ]
    },
    {
     "name": "stdout",
     "output_type": "stream",
     "text": [
      "deepsort output []\n",
      "in while loop\n",
      "deepsort output []\n",
      "in while loop\n",
      "deepsort output []\n",
      "in while loop\n"
     ]
    },
    {
     "name": "stderr",
     "output_type": "stream",
     "text": [
      "0: 480x640 1 bench, 62.0ms\n",
      "Speed: 5.0ms preprocess, 62.0ms inference, 2.0ms postprocess per image at shape (1, 3, 480, 640)\n",
      "\n",
      "0: 480x640 1 bench, 40.0ms\n",
      "Speed: 6.0ms preprocess, 40.0ms inference, 2.0ms postprocess per image at shape (1, 3, 480, 640)\n",
      "\n",
      "0: 480x640 1 bench, 45.0ms\n",
      "Speed: 7.0ms preprocess, 45.0ms inference, 2.0ms postprocess per image at shape (1, 3, 480, 640)\n"
     ]
    },
    {
     "name": "stdout",
     "output_type": "stream",
     "text": [
      "deepsort output []\n",
      "in while loop\n",
      "deepsort output []\n",
      "in while loop\n",
      "deepsort output []\n",
      "in while loop\n"
     ]
    },
    {
     "name": "stderr",
     "output_type": "stream",
     "text": [
      "\n",
      "0: 480x640 1 bench, 44.0ms\n",
      "Speed: 5.0ms preprocess, 44.0ms inference, 1.0ms postprocess per image at shape (1, 3, 480, 640)\n",
      "\n",
      "0: 480x640 1 bench, 60.1ms\n",
      "Speed: 5.0ms preprocess, 60.1ms inference, 3.0ms postprocess per image at shape (1, 3, 480, 640)\n",
      "\n",
      "0: 480x640 1 bench, 42.0ms\n"
     ]
    },
    {
     "name": "stdout",
     "output_type": "stream",
     "text": [
      "deepsort output []\n",
      "in while loop\n",
      "deepsort output []\n",
      "in while loop\n"
     ]
    },
    {
     "name": "stderr",
     "output_type": "stream",
     "text": [
      "Speed: 5.0ms preprocess, 42.0ms inference, 3.0ms postprocess per image at shape (1, 3, 480, 640)\n",
      "\n",
      "0: 480x640 1 bench, 51.0ms\n",
      "Speed: 8.0ms preprocess, 51.0ms inference, 2.0ms postprocess per image at shape (1, 3, 480, 640)\n",
      "\n",
      "0: 480x640 2 benchs, 41.0ms\n",
      "Speed: 5.0ms preprocess, 41.0ms inference, 4.0ms postprocess per image at shape (1, 3, 480, 640)\n",
      "\n"
     ]
    },
    {
     "name": "stdout",
     "output_type": "stream",
     "text": [
      "deepsort output []\n",
      "in while loop\n",
      "deepsort output []\n",
      "in while loop\n",
      "deepsort output []\n",
      "in while loop\n"
     ]
    },
    {
     "name": "stderr",
     "output_type": "stream",
     "text": [
      "0: 480x640 2 benchs, 46.0ms\n",
      "Speed: 7.0ms preprocess, 46.0ms inference, 2.0ms postprocess per image at shape (1, 3, 480, 640)\n",
      "\n",
      "0: 480x640 1 bench, 40.0ms\n",
      "Speed: 6.0ms preprocess, 40.0ms inference, 1.0ms postprocess per image at shape (1, 3, 480, 640)\n",
      "\n",
      "0: 480x640 1 bench, 49.5ms\n",
      "Speed: 7.0ms preprocess, 49.5ms inference, 1.0ms postprocess per image at shape (1, 3, 480, 640)\n",
      "\n"
     ]
    },
    {
     "name": "stdout",
     "output_type": "stream",
     "text": [
      "deepsort output []\n",
      "in while loop\n",
      "deepsort output []\n",
      "in while loop\n",
      "deepsort output []\n",
      "in while loop\n"
     ]
    },
    {
     "name": "stderr",
     "output_type": "stream",
     "text": [
      "0: 480x640 2 benchs, 44.0ms\n",
      "Speed: 5.0ms preprocess, 44.0ms inference, 2.0ms postprocess per image at shape (1, 3, 480, 640)\n",
      "\n",
      "0: 480x640 2 benchs, 62.0ms\n",
      "Speed: 5.0ms preprocess, 62.0ms inference, 2.0ms postprocess per image at shape (1, 3, 480, 640)\n",
      "\n",
      "0: 480x640 1 bench, 42.0ms\n",
      "Speed: 5.0ms preprocess, 42.0ms inference, 2.0ms postprocess per image at shape (1, 3, 480, 640)\n",
      "\n"
     ]
    },
    {
     "name": "stdout",
     "output_type": "stream",
     "text": [
      "deepsort output []\n",
      "in while loop\n",
      "deepsort output []\n",
      "in while loop\n",
      "deepsort output []\n",
      "in while loop\n"
     ]
    },
    {
     "name": "stderr",
     "output_type": "stream",
     "text": [
      "0: 480x640 1 bench, 61.0ms\n",
      "Speed: 5.0ms preprocess, 61.0ms inference, 2.0ms postprocess per image at shape (1, 3, 480, 640)\n",
      "\n",
      "0: 480x640 2 benchs, 43.0ms\n",
      "Speed: 5.0ms preprocess, 43.0ms inference, 1.0ms postprocess per image at shape (1, 3, 480, 640)\n",
      "\n",
      "0: 480x640 2 benchs, 48.0ms\n",
      "Speed: 7.0ms preprocess, 48.0ms inference, 2.0ms postprocess per image at shape (1, 3, 480, 640)\n"
     ]
    },
    {
     "name": "stdout",
     "output_type": "stream",
     "text": [
      "deepsort output []\n",
      "in while loop\n",
      "deepsort output []\n",
      "in while loop\n",
      "deepsort output []\n",
      "in while loop\n"
     ]
    },
    {
     "name": "stderr",
     "output_type": "stream",
     "text": [
      "\n",
      "0: 480x640 1 bench, 41.0ms\n",
      "Speed: 5.0ms preprocess, 41.0ms inference, 2.0ms postprocess per image at shape (1, 3, 480, 640)\n",
      "\n",
      "0: 480x640 1 bench, 44.0ms\n",
      "Speed: 5.0ms preprocess, 44.0ms inference, 2.0ms postprocess per image at shape (1, 3, 480, 640)\n",
      "\n",
      "0: 480x640 1 bench, 47.0ms\n",
      "Speed: 5.0ms preprocess, 47.0ms inference, 1.4ms postprocess per image at shape (1, 3, 480, 640)\n",
      "\n"
     ]
    },
    {
     "name": "stdout",
     "output_type": "stream",
     "text": [
      "deepsort output []\n",
      "in while loop\n",
      "deepsort output []\n",
      "in while loop\n",
      "deepsort output []\n",
      "in while loop\n"
     ]
    },
    {
     "name": "stderr",
     "output_type": "stream",
     "text": [
      "0: 480x640 1 bench, 59.0ms\n",
      "Speed: 6.0ms preprocess, 59.0ms inference, 2.0ms postprocess per image at shape (1, 3, 480, 640)\n",
      "\n",
      "0: 480x640 1 bench, 41.0ms\n",
      "Speed: 5.0ms preprocess, 41.0ms inference, 3.0ms postprocess per image at shape (1, 3, 480, 640)\n",
      "\n",
      "0: 480x640 1 bench, 45.0ms\n",
      "Speed: 9.0ms preprocess, 45.0ms inference, 2.0ms postprocess per image at shape (1, 3, 480, 640)\n",
      "\n"
     ]
    },
    {
     "name": "stdout",
     "output_type": "stream",
     "text": [
      "deepsort output []\n",
      "in while loop\n",
      "deepsort output []\n",
      "in while loop\n",
      "deepsort output []\n",
      "in while loop\n"
     ]
    },
    {
     "name": "stderr",
     "output_type": "stream",
     "text": [
      "0: 480x640 1 bench, 44.0ms\n",
      "Speed: 5.0ms preprocess, 44.0ms inference, 3.0ms postprocess per image at shape (1, 3, 480, 640)\n",
      "\n",
      "0: 480x640 1 bench, 56.0ms\n",
      "Speed: 7.0ms preprocess, 56.0ms inference, 2.0ms postprocess per image at shape (1, 3, 480, 640)\n",
      "\n",
      "0: 480x640 1 bench, 39.5ms\n",
      "Speed: 6.0ms preprocess, 39.5ms inference, 2.0ms postprocess per image at shape (1, 3, 480, 640)\n",
      "\n"
     ]
    },
    {
     "name": "stdout",
     "output_type": "stream",
     "text": [
      "deepsort output []\n",
      "in while loop\n",
      "deepsort output []\n",
      "in while loop\n",
      "deepsort output []\n",
      "in while loop\n"
     ]
    },
    {
     "name": "stderr",
     "output_type": "stream",
     "text": [
      "0: 480x640 1 bench, 42.0ms\n",
      "Speed: 6.0ms preprocess, 42.0ms inference, 2.0ms postprocess per image at shape (1, 3, 480, 640)\n",
      "\n",
      "0: 480x640 1 bench, 41.0ms\n",
      "Speed: 5.0ms preprocess, 41.0ms inference, 2.0ms postprocess per image at shape (1, 3, 480, 640)\n",
      "\n",
      "0: 480x640 1 bench, 63.0ms\n",
      "Speed: 5.0ms preprocess, 63.0ms inference, 2.0ms postprocess per image at shape (1, 3, 480, 640)\n",
      "\n"
     ]
    },
    {
     "name": "stdout",
     "output_type": "stream",
     "text": [
      "deepsort output []\n",
      "in while loop\n",
      "deepsort output []\n",
      "in while loop\n",
      "deepsort output []\n",
      "in while loop\n"
     ]
    },
    {
     "name": "stderr",
     "output_type": "stream",
     "text": [
      "0: 480x640 2 benchs, 41.0ms\n",
      "Speed: 5.0ms preprocess, 41.0ms inference, 2.0ms postprocess per image at shape (1, 3, 480, 640)\n",
      "\n",
      "0: 480x640 2 benchs, 52.0ms\n",
      "Speed: 7.0ms preprocess, 52.0ms inference, 2.0ms postprocess per image at shape (1, 3, 480, 640)\n",
      "\n",
      "0: 480x640 1 bench, 41.0ms\n",
      "Speed: 5.0ms preprocess, 41.0ms inference, 1.0ms postprocess per image at shape (1, 3, 480, 640)\n",
      "\n"
     ]
    },
    {
     "name": "stdout",
     "output_type": "stream",
     "text": [
      "deepsort output []\n",
      "in while loop\n",
      "deepsort output []\n",
      "in while loop\n",
      "deepsort output []\n",
      "in while loop\n"
     ]
    },
    {
     "name": "stderr",
     "output_type": "stream",
     "text": [
      "0: 480x640 1 bench, 46.0ms\n",
      "Speed: 6.0ms preprocess, 46.0ms inference, 1.9ms postprocess per image at shape (1, 3, 480, 640)\n",
      "\n",
      "0: 480x640 1 bench, 44.0ms\n",
      "Speed: 5.0ms preprocess, 44.0ms inference, 2.0ms postprocess per image at shape (1, 3, 480, 640)\n",
      "\n",
      "0: 480x640 1 bench, 52.0ms\n",
      "Speed: 7.0ms preprocess, 52.0ms inference, 4.0ms postprocess per image at shape (1, 3, 480, 640)\n",
      "\n"
     ]
    },
    {
     "name": "stdout",
     "output_type": "stream",
     "text": [
      "deepsort output []\n",
      "in while loop\n",
      "deepsort output []\n",
      "in while loop\n",
      "deepsort output []\n",
      "in while loop\n"
     ]
    },
    {
     "name": "stderr",
     "output_type": "stream",
     "text": [
      "0: 480x640 1 bench, 48.0ms\n",
      "Speed: 5.0ms preprocess, 48.0ms inference, 2.0ms postprocess per image at shape (1, 3, 480, 640)\n",
      "\n",
      "0: 480x640 1 bench, 42.0ms\n",
      "Speed: 7.0ms preprocess, 42.0ms inference, 2.0ms postprocess per image at shape (1, 3, 480, 640)\n",
      "\n",
      "0: 480x640 1 bench, 40.0ms\n",
      "Speed: 6.0ms preprocess, 40.0ms inference, 2.0ms postprocess per image at shape (1, 3, 480, 640)\n",
      "\n"
     ]
    },
    {
     "name": "stdout",
     "output_type": "stream",
     "text": [
      "deepsort output []\n",
      "in while loop\n",
      "deepsort output []\n",
      "in while loop\n",
      "deepsort output []\n",
      "in while loop\n"
     ]
    },
    {
     "name": "stderr",
     "output_type": "stream",
     "text": [
      "0: 480x640 1 bench, 58.0ms\n",
      "Speed: 6.0ms preprocess, 58.0ms inference, 2.0ms postprocess per image at shape (1, 3, 480, 640)\n",
      "\n",
      "0: 480x640 1 bench, 40.0ms\n",
      "Speed: 5.0ms preprocess, 40.0ms inference, 2.0ms postprocess per image at shape (1, 3, 480, 640)\n",
      "\n",
      "0: 480x640 1 bench, 43.0ms\n",
      "Speed: 6.0ms preprocess, 43.0ms inference, 2.0ms postprocess per image at shape (1, 3, 480, 640)\n",
      "\n"
     ]
    },
    {
     "name": "stdout",
     "output_type": "stream",
     "text": [
      "deepsort output []\n",
      "in while loop\n",
      "deepsort output []\n",
      "in while loop\n",
      "deepsort output []\n",
      "in while loop\n"
     ]
    },
    {
     "name": "stderr",
     "output_type": "stream",
     "text": [
      "0: 480x640 1 bench, 43.0ms\n",
      "Speed: 5.0ms preprocess, 43.0ms inference, 1.0ms postprocess per image at shape (1, 3, 480, 640)\n",
      "\n",
      "0: 480x640 1 bench, 48.0ms\n",
      "Speed: 7.0ms preprocess, 48.0ms inference, 1.0ms postprocess per image at shape (1, 3, 480, 640)\n",
      "\n",
      "0: 480x640 1 bench, 40.0ms\n",
      "Speed: 5.0ms preprocess, 40.0ms inference, 2.0ms postprocess per image at shape (1, 3, 480, 640)\n",
      "\n"
     ]
    },
    {
     "name": "stdout",
     "output_type": "stream",
     "text": [
      "deepsort output []\n",
      "in while loop\n",
      "deepsort output []\n",
      "in while loop\n",
      "deepsort output []\n",
      "in while loop\n"
     ]
    },
    {
     "name": "stderr",
     "output_type": "stream",
     "text": [
      "0: 480x640 1 bench, 55.0ms\n",
      "Speed: 7.0ms preprocess, 55.0ms inference, 2.0ms postprocess per image at shape (1, 3, 480, 640)\n",
      "\n",
      "0: 480x640 1 bench, 41.0ms\n",
      "Speed: 5.0ms preprocess, 41.0ms inference, 2.0ms postprocess per image at shape (1, 3, 480, 640)\n",
      "\n",
      "0: 480x640 1 bench, 45.0ms\n",
      "Speed: 6.0ms preprocess, 45.0ms inference, 2.0ms postprocess per image at shape (1, 3, 480, 640)\n",
      "\n"
     ]
    },
    {
     "name": "stdout",
     "output_type": "stream",
     "text": [
      "deepsort output []\n",
      "in while loop\n",
      "deepsort output []\n",
      "in while loop\n",
      "deepsort output []\n",
      "in while loop\n"
     ]
    },
    {
     "name": "stderr",
     "output_type": "stream",
     "text": [
      "0: 480x640 1 bench, 42.0ms\n",
      "Speed: 6.0ms preprocess, 42.0ms inference, 2.0ms postprocess per image at shape (1, 3, 480, 640)\n",
      "\n",
      "0: 480x640 1 bench, 46.0ms\n",
      "Speed: 7.0ms preprocess, 46.0ms inference, 1.0ms postprocess per image at shape (1, 3, 480, 640)\n",
      "\n",
      "0: 480x640 1 bench, 43.0ms\n",
      "Speed: 5.0ms preprocess, 43.0ms inference, 1.0ms postprocess per image at shape (1, 3, 480, 640)\n",
      "\n"
     ]
    },
    {
     "name": "stdout",
     "output_type": "stream",
     "text": [
      "deepsort output []\n",
      "in while loop\n",
      "deepsort output []\n",
      "in while loop\n",
      "deepsort output []\n",
      "in while loop\n"
     ]
    },
    {
     "name": "stderr",
     "output_type": "stream",
     "text": [
      "0: 480x640 1 bench, 60.0ms\n",
      "Speed: 5.0ms preprocess, 60.0ms inference, 2.0ms postprocess per image at shape (1, 3, 480, 640)\n",
      "\n",
      "0: 480x640 1 bench, 41.0ms\n",
      "Speed: 5.0ms preprocess, 41.0ms inference, 1.0ms postprocess per image at shape (1, 3, 480, 640)\n",
      "\n",
      "0: 480x640 1 bench, 42.0ms\n",
      "Speed: 6.0ms preprocess, 42.0ms inference, 2.0ms postprocess per image at shape (1, 3, 480, 640)\n",
      "\n"
     ]
    },
    {
     "name": "stdout",
     "output_type": "stream",
     "text": [
      "deepsort output []\n",
      "in while loop\n",
      "deepsort output []\n",
      "in while loop\n",
      "deepsort output []\n",
      "in while loop\n"
     ]
    },
    {
     "name": "stderr",
     "output_type": "stream",
     "text": [
      "0: 480x640 1 bench, 41.0ms\n",
      "Speed: 5.0ms preprocess, 41.0ms inference, 2.0ms postprocess per image at shape (1, 3, 480, 640)\n",
      "\n",
      "0: 480x640 1 bench, 53.0ms\n",
      "Speed: 7.0ms preprocess, 53.0ms inference, 2.0ms postprocess per image at shape (1, 3, 480, 640)\n",
      "\n",
      "0: 480x640 1 bench, 41.0ms\n",
      "Speed: 5.0ms preprocess, 41.0ms inference, 3.0ms postprocess per image at shape (1, 3, 480, 640)\n",
      "\n"
     ]
    },
    {
     "name": "stdout",
     "output_type": "stream",
     "text": [
      "deepsort output []\n",
      "in while loop\n",
      "deepsort output []\n",
      "in while loop\n",
      "deepsort output []\n",
      "in while loop\n"
     ]
    },
    {
     "name": "stderr",
     "output_type": "stream",
     "text": [
      "0: 480x640 1 bench, 47.0ms\n",
      "Speed: 5.0ms preprocess, 47.0ms inference, 2.0ms postprocess per image at shape (1, 3, 480, 640)\n",
      "\n",
      "0: 480x640 1 bench, 42.0ms\n",
      "Speed: 6.0ms preprocess, 42.0ms inference, 1.0ms postprocess per image at shape (1, 3, 480, 640)\n",
      "\n",
      "0: 480x640 1 bench, 49.0ms\n",
      "Speed: 5.0ms preprocess, 49.0ms inference, 4.0ms postprocess per image at shape (1, 3, 480, 640)\n",
      "\n"
     ]
    },
    {
     "name": "stdout",
     "output_type": "stream",
     "text": [
      "deepsort output []\n",
      "in while loop\n",
      "deepsort output []\n",
      "in while loop\n",
      "deepsort output []\n",
      "in while loop\n"
     ]
    },
    {
     "name": "stderr",
     "output_type": "stream",
     "text": [
      "0: 480x640 1 bench, 44.0ms\n",
      "Speed: 5.0ms preprocess, 44.0ms inference, 2.0ms postprocess per image at shape (1, 3, 480, 640)\n",
      "\n",
      "0: 480x640 1 bench, 49.0ms\n",
      "Speed: 7.0ms preprocess, 49.0ms inference, 2.0ms postprocess per image at shape (1, 3, 480, 640)\n",
      "\n",
      "0: 480x640 1 bench, 1 book, 41.0ms\n",
      "Speed: 6.0ms preprocess, 41.0ms inference, 2.0ms postprocess per image at shape (1, 3, 480, 640)\n",
      "\n"
     ]
    },
    {
     "name": "stdout",
     "output_type": "stream",
     "text": [
      "deepsort output []\n",
      "in while loop\n",
      "deepsort output []\n",
      "in while loop\n",
      "deepsort output []\n",
      "in while loop\n"
     ]
    },
    {
     "name": "stderr",
     "output_type": "stream",
     "text": [
      "0: 480x640 1 bench, 1 book, 62.0ms\n",
      "Speed: 5.0ms preprocess, 62.0ms inference, 4.0ms postprocess per image at shape (1, 3, 480, 640)\n",
      "\n",
      "0: 480x640 1 bench, 41.0ms\n",
      "Speed: 5.0ms preprocess, 41.0ms inference, 2.0ms postprocess per image at shape (1, 3, 480, 640)\n",
      "\n",
      "0: 480x640 1 bench, 44.0ms\n",
      "Speed: 7.7ms preprocess, 44.0ms inference, 2.0ms postprocess per image at shape (1, 3, 480, 640)\n",
      "\n"
     ]
    },
    {
     "name": "stdout",
     "output_type": "stream",
     "text": [
      "deepsort output []\n",
      "in while loop\n",
      "deepsort output []\n",
      "in while loop\n",
      "deepsort output []\n",
      "in while loop\n"
     ]
    },
    {
     "name": "stderr",
     "output_type": "stream",
     "text": [
      "0: 480x640 1 bench, 40.0ms\n",
      "Speed: 5.0ms preprocess, 40.0ms inference, 2.0ms postprocess per image at shape (1, 3, 480, 640)\n",
      "\n",
      "0: 480x640 1 bench, 57.0ms\n",
      "Speed: 7.0ms preprocess, 57.0ms inference, 2.0ms postprocess per image at shape (1, 3, 480, 640)\n",
      "\n",
      "0: 480x640 1 bench, 43.0ms\n",
      "Speed: 5.0ms preprocess, 43.0ms inference, 2.0ms postprocess per image at shape (1, 3, 480, 640)\n",
      "\n"
     ]
    },
    {
     "name": "stdout",
     "output_type": "stream",
     "text": [
      "deepsort output []\n",
      "in while loop\n",
      "deepsort output []\n",
      "in while loop\n",
      "deepsort output []\n",
      "in while loop\n"
     ]
    },
    {
     "name": "stderr",
     "output_type": "stream",
     "text": [
      "0: 480x640 1 bench, 44.0ms\n",
      "Speed: 7.0ms preprocess, 44.0ms inference, 2.0ms postprocess per image at shape (1, 3, 480, 640)\n",
      "\n",
      "0: 480x640 1 bench, 40.0ms\n",
      "Speed: 5.0ms preprocess, 40.0ms inference, 2.0ms postprocess per image at shape (1, 3, 480, 640)\n",
      "\n",
      "0: 480x640 1 bench, 61.0ms\n",
      "Speed: 5.0ms preprocess, 61.0ms inference, 2.0ms postprocess per image at shape (1, 3, 480, 640)\n",
      "\n"
     ]
    },
    {
     "name": "stdout",
     "output_type": "stream",
     "text": [
      "deepsort output []\n",
      "in while loop\n",
      "deepsort output []\n",
      "in while loop\n",
      "deepsort output []\n",
      "in while loop\n"
     ]
    },
    {
     "name": "stderr",
     "output_type": "stream",
     "text": [
      "0: 480x640 1 bench, 42.0ms\n",
      "Speed: 6.0ms preprocess, 42.0ms inference, 4.0ms postprocess per image at shape (1, 3, 480, 640)\n",
      "\n",
      "0: 480x640 1 bench, 55.0ms\n",
      "Speed: 6.0ms preprocess, 55.0ms inference, 2.0ms postprocess per image at shape (1, 3, 480, 640)\n",
      "\n",
      "0: 480x640 1 bench, 40.0ms\n",
      "Speed: 6.0ms preprocess, 40.0ms inference, 2.0ms postprocess per image at shape (1, 3, 480, 640)\n"
     ]
    },
    {
     "name": "stdout",
     "output_type": "stream",
     "text": [
      "deepsort output []\n",
      "in while loop\n",
      "deepsort output []\n",
      "in while loop\n",
      "deepsort output []\n",
      "in while loop\n"
     ]
    },
    {
     "name": "stderr",
     "output_type": "stream",
     "text": [
      "\n",
      "0: 480x640 1 bench, 60.0ms\n",
      "Speed: 5.0ms preprocess, 60.0ms inference, 2.0ms postprocess per image at shape (1, 3, 480, 640)\n",
      "\n",
      "0: 480x640 1 bench, 41.0ms\n",
      "Speed: 5.0ms preprocess, 41.0ms inference, 2.0ms postprocess per image at shape (1, 3, 480, 640)\n",
      "\n",
      "0: 480x640 1 bench, 57.0ms\n",
      "Speed: 7.0ms preprocess, 57.0ms inference, 2.0ms postprocess per image at shape (1, 3, 480, 640)\n"
     ]
    },
    {
     "name": "stdout",
     "output_type": "stream",
     "text": [
      "deepsort output []\n",
      "in while loop\n",
      "deepsort output []\n",
      "in while loop\n",
      "deepsort output []\n",
      "in while loop\n"
     ]
    },
    {
     "name": "stderr",
     "output_type": "stream",
     "text": [
      "\n",
      "0: 480x640 1 bench, 41.0ms\n",
      "Speed: 6.0ms preprocess, 41.0ms inference, 2.0ms postprocess per image at shape (1, 3, 480, 640)\n",
      "\n",
      "0: 480x640 1 bench, 43.0ms\n",
      "Speed: 7.0ms preprocess, 43.0ms inference, 2.0ms postprocess per image at shape (1, 3, 480, 640)\n",
      "\n",
      "0: 480x640 1 bench, 43.0ms\n",
      "Speed: 5.0ms preprocess, 43.0ms inference, 3.0ms postprocess per image at shape (1, 3, 480, 640)\n",
      "\n"
     ]
    },
    {
     "name": "stdout",
     "output_type": "stream",
     "text": [
      "deepsort output []\n",
      "in while loop\n",
      "deepsort output []\n",
      "in while loop\n",
      "deepsort output []\n",
      "in while loop\n"
     ]
    },
    {
     "name": "stderr",
     "output_type": "stream",
     "text": [
      "0: 480x640 1 bench, 53.0ms\n",
      "Speed: 7.0ms preprocess, 53.0ms inference, 3.0ms postprocess per image at shape (1, 3, 480, 640)\n",
      "\n",
      "0: 480x640 (no detections), 40.0ms\n",
      "Speed: 5.0ms preprocess, 40.0ms inference, 1.0ms postprocess per image at shape (1, 3, 480, 640)\n",
      "\n",
      "0: 480x640 (no detections), 42.0ms\n",
      "Speed: 6.0ms preprocess, 42.0ms inference, 1.0ms postprocess per image at shape (1, 3, 480, 640)\n",
      "\n"
     ]
    },
    {
     "name": "stdout",
     "output_type": "stream",
     "text": [
      "deepsort output []\n",
      "in while loop\n",
      "deepsort output []\n",
      "in while loop\n",
      "deepsort output []\n",
      "in while loop\n"
     ]
    },
    {
     "name": "stderr",
     "output_type": "stream",
     "text": [
      "0: 480x640 3 benchs, 46.0ms\n",
      "Speed: 5.0ms preprocess, 46.0ms inference, 2.0ms postprocess per image at shape (1, 3, 480, 640)\n",
      "\n",
      "0: 480x640 3 benchs, 53.0ms\n",
      "Speed: 7.0ms preprocess, 53.0ms inference, 2.0ms postprocess per image at shape (1, 3, 480, 640)\n",
      "\n",
      "0: 480x640 1 bench, 40.0ms\n",
      "Speed: 5.0ms preprocess, 40.0ms inference, 2.0ms postprocess per image at shape (1, 3, 480, 640)\n",
      "\n"
     ]
    },
    {
     "name": "stdout",
     "output_type": "stream",
     "text": [
      "deepsort output []\n",
      "in while loop\n",
      "deepsort output []\n",
      "in while loop\n",
      "deepsort output []\n",
      "in while loop\n"
     ]
    },
    {
     "name": "stderr",
     "output_type": "stream",
     "text": [
      "0: 480x640 1 bench, 60.0ms\n",
      "Speed: 6.0ms preprocess, 60.0ms inference, 2.0ms postprocess per image at shape (1, 3, 480, 640)\n",
      "\n",
      "0: 480x640 1 bench, 41.0ms\n",
      "Speed: 5.0ms preprocess, 41.0ms inference, 1.0ms postprocess per image at shape (1, 3, 480, 640)\n",
      "\n",
      "0: 480x640 1 bench, 42.0ms\n",
      "Speed: 5.0ms preprocess, 42.0ms inference, 2.0ms postprocess per image at shape (1, 3, 480, 640)\n",
      "\n"
     ]
    },
    {
     "name": "stdout",
     "output_type": "stream",
     "text": [
      "deepsort output []\n",
      "in while loop\n",
      "deepsort output []\n",
      "in while loop\n",
      "deepsort output []\n",
      "in while loop\n"
     ]
    },
    {
     "name": "stderr",
     "output_type": "stream",
     "text": [
      "0: 480x640 1 bench, 40.6ms\n",
      "Speed: 5.0ms preprocess, 40.6ms inference, 2.0ms postprocess per image at shape (1, 3, 480, 640)\n",
      "\n",
      "0: 480x640 1 bench, 54.0ms\n",
      "Speed: 7.0ms preprocess, 54.0ms inference, 2.0ms postprocess per image at shape (1, 3, 480, 640)\n",
      "\n",
      "0: 480x640 1 bench, 45.0ms\n",
      "Speed: 6.0ms preprocess, 45.0ms inference, 4.0ms postprocess per image at shape (1, 3, 480, 640)\n",
      "\n"
     ]
    },
    {
     "name": "stdout",
     "output_type": "stream",
     "text": [
      "deepsort output []\n",
      "in while loop\n",
      "deepsort output []\n",
      "in while loop\n",
      "deepsort output []\n",
      "in while loop\n"
     ]
    },
    {
     "name": "stderr",
     "output_type": "stream",
     "text": [
      "0: 480x640 1 bench, 44.0ms\n",
      "Speed: 7.0ms preprocess, 44.0ms inference, 2.0ms postprocess per image at shape (1, 3, 480, 640)\n",
      "\n",
      "0: 480x640 1 bench, 47.3ms\n",
      "Speed: 5.0ms preprocess, 47.3ms inference, 1.0ms postprocess per image at shape (1, 3, 480, 640)\n",
      "\n",
      "0: 480x640 1 bench, 63.0ms\n",
      "Speed: 5.0ms preprocess, 63.0ms inference, 2.0ms postprocess per image at shape (1, 3, 480, 640)\n",
      "\n"
     ]
    },
    {
     "name": "stdout",
     "output_type": "stream",
     "text": [
      "deepsort output []\n",
      "in while loop\n",
      "deepsort output []\n",
      "in while loop\n",
      "deepsort output []\n",
      "in while loop\n"
     ]
    },
    {
     "name": "stderr",
     "output_type": "stream",
     "text": [
      "0: 480x640 2 benchs, 44.0ms\n",
      "Speed: 5.0ms preprocess, 44.0ms inference, 2.0ms postprocess per image at shape (1, 3, 480, 640)\n",
      "\n",
      "0: 480x640 2 benchs, 58.0ms\n",
      "Speed: 6.0ms preprocess, 58.0ms inference, 2.0ms postprocess per image at shape (1, 3, 480, 640)\n",
      "\n",
      "0: 480x640 1 bench, 45.0ms\n"
     ]
    },
    {
     "name": "stdout",
     "output_type": "stream",
     "text": [
      "deepsort output []\n",
      "in while loop\n",
      "deepsort output []\n",
      "in while loop\n"
     ]
    },
    {
     "name": "stderr",
     "output_type": "stream",
     "text": [
      "Speed: 5.0ms preprocess, 45.0ms inference, 2.0ms postprocess per image at shape (1, 3, 480, 640)\n",
      "\n",
      "0: 480x640 1 bench, 43.0ms\n",
      "Speed: 6.0ms preprocess, 43.0ms inference, 2.0ms postprocess per image at shape (1, 3, 480, 640)\n",
      "\n",
      "0: 480x640 1 bench, 41.0ms\n",
      "Speed: 5.0ms preprocess, 41.0ms inference, 2.0ms postprocess per image at shape (1, 3, 480, 640)\n",
      "\n"
     ]
    },
    {
     "name": "stdout",
     "output_type": "stream",
     "text": [
      "deepsort output []\n",
      "in while loop\n",
      "deepsort output []\n",
      "in while loop\n",
      "deepsort output []\n",
      "in while loop\n"
     ]
    },
    {
     "name": "stderr",
     "output_type": "stream",
     "text": [
      "0: 480x640 1 bench, 51.0ms\n",
      "Speed: 7.0ms preprocess, 51.0ms inference, 3.0ms postprocess per image at shape (1, 3, 480, 640)\n",
      "\n",
      "0: 480x640 1 bench, 42.0ms\n",
      "Speed: 6.0ms preprocess, 42.0ms inference, 2.0ms postprocess per image at shape (1, 3, 480, 640)\n",
      "\n",
      "0: 480x640 1 bench, 65.9ms\n",
      "Speed: 5.0ms preprocess, 65.9ms inference, 2.0ms postprocess per image at shape (1, 3, 480, 640)\n"
     ]
    },
    {
     "name": "stdout",
     "output_type": "stream",
     "text": [
      "deepsort output []\n",
      "in while loop\n",
      "deepsort output []\n",
      "in while loop\n",
      "deepsort output []\n",
      "in while loop\n"
     ]
    },
    {
     "name": "stderr",
     "output_type": "stream",
     "text": [
      "\n",
      "0: 480x640 1 bench, 47.0ms\n",
      "Speed: 5.0ms preprocess, 47.0ms inference, 2.0ms postprocess per image at shape (1, 3, 480, 640)\n",
      "\n",
      "0: 480x640 1 bench, 54.0ms\n",
      "Speed: 7.0ms preprocess, 54.0ms inference, 2.0ms postprocess per image at shape (1, 3, 480, 640)\n",
      "\n",
      "0: 480x640 1 bench, 41.0ms\n",
      "Speed: 5.0ms preprocess, 41.0ms inference, 2.0ms postprocess per image at shape (1, 3, 480, 640)\n",
      "\n"
     ]
    },
    {
     "name": "stdout",
     "output_type": "stream",
     "text": [
      "deepsort output []\n",
      "in while loop\n",
      "deepsort output []\n",
      "in while loop\n",
      "deepsort output []\n",
      "in while loop\n"
     ]
    },
    {
     "name": "stderr",
     "output_type": "stream",
     "text": [
      "0: 480x640 1 bench, 43.0ms\n",
      "Speed: 7.0ms preprocess, 43.0ms inference, 2.0ms postprocess per image at shape (1, 3, 480, 640)\n",
      "\n",
      "0: 480x640 1 bench, 41.0ms\n",
      "Speed: 5.0ms preprocess, 41.0ms inference, 2.0ms postprocess per image at shape (1, 3, 480, 640)\n",
      "\n",
      "0: 480x640 1 bench, 50.0ms\n",
      "Speed: 7.0ms preprocess, 50.0ms inference, 2.0ms postprocess per image at shape (1, 3, 480, 640)\n",
      "\n"
     ]
    },
    {
     "name": "stdout",
     "output_type": "stream",
     "text": [
      "deepsort output []\n",
      "in while loop\n",
      "deepsort output []\n",
      "in while loop\n",
      "deepsort output []\n",
      "in while loop\n"
     ]
    },
    {
     "name": "stderr",
     "output_type": "stream",
     "text": [
      "0: 480x640 1 bench, 41.0ms\n",
      "Speed: 5.0ms preprocess, 41.0ms inference, 2.0ms postprocess per image at shape (1, 3, 480, 640)\n",
      "\n",
      "0: 480x640 1 bench, 60.0ms\n",
      "Speed: 5.0ms preprocess, 60.0ms inference, 2.0ms postprocess per image at shape (1, 3, 480, 640)\n",
      "\n",
      "0: 480x640 1 bench, 1 book, 41.0ms\n",
      "Speed: 5.0ms preprocess, 41.0ms inference, 2.0ms postprocess per image at shape (1, 3, 480, 640)\n",
      "\n"
     ]
    },
    {
     "name": "stdout",
     "output_type": "stream",
     "text": [
      "deepsort output []\n",
      "in while loop\n",
      "deepsort output []\n",
      "in while loop\n",
      "deepsort output []\n",
      "in while loop\n"
     ]
    },
    {
     "name": "stderr",
     "output_type": "stream",
     "text": [
      "0: 480x640 1 bench, 1 book, 62.0ms\n",
      "Speed: 5.0ms preprocess, 62.0ms inference, 2.0ms postprocess per image at shape (1, 3, 480, 640)\n",
      "\n",
      "0: 480x640 1 bench, 1 book, 42.0ms\n",
      "Speed: 5.0ms preprocess, 42.0ms inference, 4.0ms postprocess per image at shape (1, 3, 480, 640)\n",
      "\n",
      "0: 480x640 1 bench, 1 book, 62.8ms\n",
      "Speed: 5.0ms preprocess, 62.8ms inference, 2.0ms postprocess per image at shape (1, 3, 480, 640)\n",
      "\n"
     ]
    },
    {
     "name": "stdout",
     "output_type": "stream",
     "text": [
      "deepsort output []\n",
      "in while loop\n",
      "deepsort output []\n",
      "in while loop\n",
      "deepsort output []\n",
      "in while loop\n"
     ]
    },
    {
     "name": "stderr",
     "output_type": "stream",
     "text": [
      "0: 480x640 1 bench, 1 book, 40.0ms\n",
      "Speed: 5.0ms preprocess, 40.0ms inference, 2.0ms postprocess per image at shape (1, 3, 480, 640)\n",
      "\n",
      "0: 480x640 1 bench, 1 book, 47.0ms\n",
      "Speed: 6.0ms preprocess, 47.0ms inference, 2.0ms postprocess per image at shape (1, 3, 480, 640)\n",
      "\n",
      "0: 480x640 1 bench, 1 book, 42.0ms\n",
      "Speed: 5.0ms preprocess, 42.0ms inference, 3.0ms postprocess per image at shape (1, 3, 480, 640)\n",
      "\n"
     ]
    },
    {
     "name": "stdout",
     "output_type": "stream",
     "text": [
      "deepsort output []\n",
      "in while loop\n",
      "deepsort output []\n",
      "in while loop\n",
      "deepsort output []\n",
      "in while loop\n"
     ]
    },
    {
     "name": "stderr",
     "output_type": "stream",
     "text": [
      "0: 480x640 1 bench, 1 book, 56.0ms\n",
      "Speed: 6.0ms preprocess, 56.0ms inference, 2.0ms postprocess per image at shape (1, 3, 480, 640)\n",
      "\n",
      "0: 480x640 2 benchs, 53.0ms\n",
      "Speed: 5.0ms preprocess, 53.0ms inference, 2.0ms postprocess per image at shape (1, 3, 480, 640)\n",
      "\n",
      "0: 480x640 2 benchs, 52.0ms\n",
      "Speed: 7.0ms preprocess, 52.0ms inference, 2.0ms postprocess per image at shape (1, 3, 480, 640)\n"
     ]
    },
    {
     "name": "stdout",
     "output_type": "stream",
     "text": [
      "deepsort output []\n",
      "in while loop\n",
      "deepsort output []\n",
      "in while loop\n",
      "deepsort output []\n",
      "in while loop\n"
     ]
    },
    {
     "name": "stderr",
     "output_type": "stream",
     "text": [
      "\n",
      "0: 480x640 1 bench, 42.0ms\n",
      "Speed: 6.0ms preprocess, 42.0ms inference, 2.0ms postprocess per image at shape (1, 3, 480, 640)\n",
      "\n",
      "0: 480x640 1 bench, 45.0ms\n",
      "Speed: 5.0ms preprocess, 45.0ms inference, 2.0ms postprocess per image at shape (1, 3, 480, 640)\n",
      "\n",
      "0: 480x640 1 bench, 45.0ms\n",
      "Speed: 5.0ms preprocess, 45.0ms inference, 2.0ms postprocess per image at shape (1, 3, 480, 640)\n",
      "\n"
     ]
    },
    {
     "name": "stdout",
     "output_type": "stream",
     "text": [
      "deepsort output []\n",
      "in while loop\n",
      "deepsort output []\n",
      "in while loop\n",
      "deepsort output []\n",
      "in while loop\n"
     ]
    },
    {
     "name": "stderr",
     "output_type": "stream",
     "text": [
      "0: 480x640 1 bench, 47.0ms\n",
      "Speed: 9.0ms preprocess, 47.0ms inference, 2.0ms postprocess per image at shape (1, 3, 480, 640)\n",
      "\n",
      "0: 480x640 1 bench, 41.0ms\n",
      "Speed: 5.0ms preprocess, 41.0ms inference, 2.0ms postprocess per image at shape (1, 3, 480, 640)\n",
      "\n",
      "0: 480x640 1 bench, 62.0ms\n",
      "Speed: 5.0ms preprocess, 62.0ms inference, 2.0ms postprocess per image at shape (1, 3, 480, 640)\n",
      "\n"
     ]
    },
    {
     "name": "stdout",
     "output_type": "stream",
     "text": [
      "deepsort output []\n",
      "in while loop\n",
      "deepsort output []\n",
      "in while loop\n",
      "deepsort output []\n",
      "in while loop\n"
     ]
    },
    {
     "name": "stderr",
     "output_type": "stream",
     "text": [
      "0: 480x640 1 bench, 42.0ms\n",
      "Speed: 5.0ms preprocess, 42.0ms inference, 2.0ms postprocess per image at shape (1, 3, 480, 640)\n",
      "\n",
      "0: 480x640 1 bench, 53.0ms\n",
      "Speed: 6.0ms preprocess, 53.0ms inference, 2.0ms postprocess per image at shape (1, 3, 480, 640)\n",
      "\n",
      "0: 480x640 1 bench, 45.0ms\n",
      "Speed: 6.0ms preprocess, 45.0ms inference, 2.0ms postprocess per image at shape (1, 3, 480, 640)\n",
      "\n"
     ]
    },
    {
     "name": "stdout",
     "output_type": "stream",
     "text": [
      "deepsort output []\n",
      "in while loop\n",
      "deepsort output []\n",
      "in while loop\n",
      "deepsort output []\n",
      "in while loop\n"
     ]
    },
    {
     "name": "stderr",
     "output_type": "stream",
     "text": [
      "0: 480x640 1 bench, 60.0ms\n",
      "Speed: 5.0ms preprocess, 60.0ms inference, 3.0ms postprocess per image at shape (1, 3, 480, 640)\n",
      "\n",
      "0: 480x640 1 bench, 41.0ms\n",
      "Speed: 5.0ms preprocess, 41.0ms inference, 3.0ms postprocess per image at shape (1, 3, 480, 640)\n",
      "\n",
      "0: 480x640 1 bench, 49.0ms\n",
      "Speed: 7.0ms preprocess, 49.0ms inference, 2.0ms postprocess per image at shape (1, 3, 480, 640)\n",
      "\n"
     ]
    },
    {
     "name": "stdout",
     "output_type": "stream",
     "text": [
      "deepsort output []\n",
      "in while loop\n",
      "deepsort output []\n",
      "in while loop\n",
      "deepsort output []\n",
      "in while loop\n"
     ]
    },
    {
     "name": "stderr",
     "output_type": "stream",
     "text": [
      "0: 480x640 1 bench, 44.0ms\n",
      "Speed: 5.0ms preprocess, 44.0ms inference, 2.0ms postprocess per image at shape (1, 3, 480, 640)\n",
      "\n",
      "0: 480x640 1 bench, 57.0ms\n",
      "Speed: 7.0ms preprocess, 57.0ms inference, 2.0ms postprocess per image at shape (1, 3, 480, 640)\n",
      "\n",
      "0: 480x640 1 bench, 44.0ms\n",
      "Speed: 5.0ms preprocess, 44.0ms inference, 2.0ms postprocess per image at shape (1, 3, 480, 640)\n",
      "\n"
     ]
    },
    {
     "name": "stdout",
     "output_type": "stream",
     "text": [
      "deepsort output []\n",
      "in while loop\n",
      "deepsort output []\n",
      "in while loop\n",
      "deepsort output []\n",
      "in while loop\n"
     ]
    },
    {
     "name": "stderr",
     "output_type": "stream",
     "text": [
      "0: 480x640 1 bench, 48.0ms\n",
      "Speed: 5.0ms preprocess, 48.0ms inference, 2.0ms postprocess per image at shape (1, 3, 480, 640)\n",
      "\n",
      "0: 480x640 2 benchs, 45.0ms\n",
      "Speed: 5.0ms preprocess, 45.0ms inference, 4.0ms postprocess per image at shape (1, 3, 480, 640)\n",
      "\n",
      "0: 480x640 2 benchs, 51.0ms\n",
      "Speed: 7.0ms preprocess, 51.0ms inference, 3.0ms postprocess per image at shape (1, 3, 480, 640)\n",
      "\n"
     ]
    },
    {
     "name": "stdout",
     "output_type": "stream",
     "text": [
      "deepsort output []\n",
      "in while loop\n",
      "deepsort output []\n",
      "in while loop\n",
      "deepsort output []\n",
      "in while loop\n"
     ]
    },
    {
     "name": "stderr",
     "output_type": "stream",
     "text": [
      "0: 480x640 1 bench, 40.0ms\n",
      "Speed: 5.0ms preprocess, 40.0ms inference, 2.0ms postprocess per image at shape (1, 3, 480, 640)\n",
      "\n",
      "0: 480x640 1 bench, 42.6ms\n",
      "Speed: 7.0ms preprocess, 42.6ms inference, 2.0ms postprocess per image at shape (1, 3, 480, 640)\n",
      "\n",
      "0: 480x640 2 benchs, 1 book, 42.0ms\n",
      "Speed: 5.0ms preprocess, 42.0ms inference, 1.0ms postprocess per image at shape (1, 3, 480, 640)\n",
      "\n"
     ]
    },
    {
     "name": "stdout",
     "output_type": "stream",
     "text": [
      "deepsort output []\n",
      "in while loop\n",
      "deepsort output []\n",
      "in while loop\n",
      "deepsort output []\n",
      "in while loop\n"
     ]
    },
    {
     "name": "stderr",
     "output_type": "stream",
     "text": [
      "0: 480x640 2 benchs, 1 book, 55.0ms\n",
      "Speed: 8.0ms preprocess, 55.0ms inference, 2.0ms postprocess per image at shape (1, 3, 480, 640)\n",
      "\n",
      "0: 480x640 2 benchs, 1 book, 46.0ms\n",
      "Speed: 5.0ms preprocess, 46.0ms inference, 2.0ms postprocess per image at shape (1, 3, 480, 640)\n",
      "\n",
      "0: 480x640 2 benchs, 1 book, 43.0ms\n",
      "Speed: 7.0ms preprocess, 43.0ms inference, 3.0ms postprocess per image at shape (1, 3, 480, 640)\n",
      "\n"
     ]
    },
    {
     "name": "stdout",
     "output_type": "stream",
     "text": [
      "deepsort output []\n",
      "in while loop\n",
      "deepsort output []\n",
      "in while loop\n",
      "deepsort output []\n",
      "in while loop\n"
     ]
    },
    {
     "name": "stderr",
     "output_type": "stream",
     "text": [
      "0: 480x640 2 benchs, 1 book, 41.0ms\n",
      "Speed: 5.0ms preprocess, 41.0ms inference, 2.0ms postprocess per image at shape (1, 3, 480, 640)\n",
      "\n",
      "0: 480x640 2 benchs, 1 book, 63.0ms\n",
      "Speed: 8.0ms preprocess, 63.0ms inference, 2.0ms postprocess per image at shape (1, 3, 480, 640)\n",
      "\n",
      "0: 480x640 2 benchs, 1 book, 43.0ms\n",
      "Speed: 6.0ms preprocess, 43.0ms inference, 2.0ms postprocess per image at shape (1, 3, 480, 640)\n",
      "\n"
     ]
    },
    {
     "name": "stdout",
     "output_type": "stream",
     "text": [
      "deepsort output []\n",
      "in while loop\n",
      "deepsort output []\n",
      "in while loop\n",
      "deepsort output []\n",
      "in while loop\n"
     ]
    },
    {
     "name": "stderr",
     "output_type": "stream",
     "text": [
      "0: 480x640 2 benchs, 1 book, 52.0ms\n",
      "Speed: 7.0ms preprocess, 52.0ms inference, 2.0ms postprocess per image at shape (1, 3, 480, 640)\n",
      "\n",
      "0: 480x640 2 benchs, 42.0ms\n",
      "Speed: 7.0ms preprocess, 42.0ms inference, 4.0ms postprocess per image at shape (1, 3, 480, 640)\n",
      "\n",
      "0: 480x640 2 benchs, 60.0ms\n",
      "Speed: 5.0ms preprocess, 60.0ms inference, 2.0ms postprocess per image at shape (1, 3, 480, 640)\n",
      "\n"
     ]
    },
    {
     "name": "stdout",
     "output_type": "stream",
     "text": [
      "deepsort output []\n",
      "in while loop\n",
      "deepsort output []\n",
      "in while loop\n",
      "deepsort output []\n",
      "in while loop\n"
     ]
    },
    {
     "name": "stderr",
     "output_type": "stream",
     "text": [
      "0: 480x640 1 bench, 1 book, 40.0ms\n",
      "Speed: 5.0ms preprocess, 40.0ms inference, 2.0ms postprocess per image at shape (1, 3, 480, 640)\n",
      "\n",
      "0: 480x640 1 bench, 1 book, 54.1ms\n",
      "Speed: 7.0ms preprocess, 54.1ms inference, 2.0ms postprocess per image at shape (1, 3, 480, 640)\n",
      "\n",
      "0: 480x640 1 bench, 40.0ms\n",
      "Speed: 5.0ms preprocess, 40.0ms inference, 2.0ms postprocess per image at shape (1, 3, 480, 640)\n",
      "\n"
     ]
    },
    {
     "name": "stdout",
     "output_type": "stream",
     "text": [
      "deepsort output []\n",
      "in while loop\n",
      "deepsort output []\n",
      "in while loop\n",
      "deepsort output []\n",
      "in while loop\n"
     ]
    },
    {
     "name": "stderr",
     "output_type": "stream",
     "text": [
      "0: 480x640 1 bench, 44.0ms\n",
      "Speed: 7.0ms preprocess, 44.0ms inference, 2.0ms postprocess per image at shape (1, 3, 480, 640)\n",
      "\n",
      "0: 480x640 1 bench, 42.0ms\n",
      "Speed: 5.0ms preprocess, 42.0ms inference, 2.0ms postprocess per image at shape (1, 3, 480, 640)\n",
      "\n",
      "0: 480x640 1 bench, 64.0ms\n",
      "Speed: 5.0ms preprocess, 64.0ms inference, 3.0ms postprocess per image at shape (1, 3, 480, 640)\n",
      "\n"
     ]
    },
    {
     "name": "stdout",
     "output_type": "stream",
     "text": [
      "deepsort output []\n",
      "in while loop\n",
      "deepsort output []\n",
      "in while loop\n",
      "deepsort output []\n",
      "in while loop\n"
     ]
    },
    {
     "name": "stderr",
     "output_type": "stream",
     "text": [
      "0: 480x640 1 bench, 41.0ms\n",
      "Speed: 6.0ms preprocess, 41.0ms inference, 2.0ms postprocess per image at shape (1, 3, 480, 640)\n",
      "\n",
      "0: 480x640 1 bench, 50.0ms\n",
      "Speed: 7.0ms preprocess, 50.0ms inference, 2.0ms postprocess per image at shape (1, 3, 480, 640)\n",
      "\n",
      "0: 480x640 1 bench, 41.0ms\n",
      "Speed: 5.0ms preprocess, 41.0ms inference, 2.0ms postprocess per image at shape (1, 3, 480, 640)\n",
      "\n"
     ]
    },
    {
     "name": "stdout",
     "output_type": "stream",
     "text": [
      "deepsort output []\n",
      "in while loop\n",
      "deepsort output []\n",
      "in while loop\n",
      "deepsort output []\n",
      "in while loop\n"
     ]
    },
    {
     "name": "stderr",
     "output_type": "stream",
     "text": [
      "0: 480x640 1 bench, 63.0ms\n",
      "Speed: 5.0ms preprocess, 63.0ms inference, 2.0ms postprocess per image at shape (1, 3, 480, 640)\n",
      "\n",
      "0: 480x640 1 bench, 41.0ms\n",
      "Speed: 5.0ms preprocess, 41.0ms inference, 3.0ms postprocess per image at shape (1, 3, 480, 640)\n",
      "\n",
      "0: 480x640 1 bench, 56.0ms\n",
      "Speed: 6.0ms preprocess, 56.0ms inference, 2.0ms postprocess per image at shape (1, 3, 480, 640)\n",
      "\n"
     ]
    },
    {
     "name": "stdout",
     "output_type": "stream",
     "text": [
      "deepsort output []\n",
      "in while loop\n",
      "deepsort output []\n",
      "in while loop\n",
      "deepsort output []\n",
      "in while loop\n"
     ]
    },
    {
     "name": "stderr",
     "output_type": "stream",
     "text": [
      "0: 480x640 2 benchs, 43.0ms\n",
      "Speed: 5.0ms preprocess, 43.0ms inference, 2.0ms postprocess per image at shape (1, 3, 480, 640)\n",
      "\n",
      "0: 480x640 2 benchs, 41.0ms\n",
      "Speed: 7.0ms preprocess, 41.0ms inference, 2.0ms postprocess per image at shape (1, 3, 480, 640)\n",
      "\n",
      "0: 480x640 2 benchs, 42.0ms\n",
      "Speed: 5.0ms preprocess, 42.0ms inference, 2.0ms postprocess per image at shape (1, 3, 480, 640)\n"
     ]
    },
    {
     "name": "stdout",
     "output_type": "stream",
     "text": [
      "deepsort output []\n",
      "in while loop\n",
      "deepsort output []\n",
      "in while loop\n",
      "deepsort output []\n",
      "in while loop\n"
     ]
    },
    {
     "name": "stderr",
     "output_type": "stream",
     "text": [
      "\n",
      "0: 480x640 2 benchs, 50.0ms\n",
      "Speed: 7.0ms preprocess, 50.0ms inference, 2.0ms postprocess per image at shape (1, 3, 480, 640)\n",
      "\n",
      "0: 480x640 1 bench, 50.0ms\n",
      "Speed: 6.0ms preprocess, 50.0ms inference, 2.0ms postprocess per image at shape (1, 3, 480, 640)\n",
      "\n",
      "0: 480x640 1 bench, 60.2ms\n",
      "Speed: 5.0ms preprocess, 60.2ms inference, 3.0ms postprocess per image at shape (1, 3, 480, 640)\n",
      "\n"
     ]
    },
    {
     "name": "stdout",
     "output_type": "stream",
     "text": [
      "deepsort output []\n",
      "in while loop\n",
      "deepsort output []\n",
      "in while loop\n",
      "deepsort output []\n",
      "in while loop\n"
     ]
    },
    {
     "name": "stderr",
     "output_type": "stream",
     "text": [
      "0: 480x640 1 bench, 44.0ms\n",
      "Speed: 5.0ms preprocess, 44.0ms inference, 3.0ms postprocess per image at shape (1, 3, 480, 640)\n",
      "\n",
      "0: 480x640 1 bench, 45.0ms\n",
      "Speed: 9.0ms preprocess, 45.0ms inference, 2.0ms postprocess per image at shape (1, 3, 480, 640)\n",
      "\n",
      "0: 480x640 1 bench, 45.0ms\n",
      "Speed: 5.0ms preprocess, 45.0ms inference, 3.0ms postprocess per image at shape (1, 3, 480, 640)\n",
      "\n"
     ]
    },
    {
     "name": "stdout",
     "output_type": "stream",
     "text": [
      "deepsort output []\n",
      "in while loop\n",
      "deepsort output []\n",
      "in while loop\n",
      "deepsort output []\n",
      "in while loop\n"
     ]
    },
    {
     "name": "stderr",
     "output_type": "stream",
     "text": [
      "0: 480x640 1 bench, 60.0ms\n",
      "Speed: 6.0ms preprocess, 60.0ms inference, 2.0ms postprocess per image at shape (1, 3, 480, 640)\n",
      "\n",
      "0: 480x640 1 bench, 41.0ms\n",
      "Speed: 5.0ms preprocess, 41.0ms inference, 2.0ms postprocess per image at shape (1, 3, 480, 640)\n",
      "\n",
      "0: 480x640 1 bench, 48.0ms\n",
      "Speed: 7.0ms preprocess, 48.0ms inference, 2.0ms postprocess per image at shape (1, 3, 480, 640)\n",
      "\n"
     ]
    },
    {
     "name": "stdout",
     "output_type": "stream",
     "text": [
      "deepsort output []\n",
      "in while loop\n",
      "deepsort output []\n",
      "in while loop\n",
      "deepsort output []\n",
      "in while loop\n"
     ]
    },
    {
     "name": "stderr",
     "output_type": "stream",
     "text": [
      "0: 480x640 2 benchs, 41.0ms\n",
      "Speed: 6.0ms preprocess, 41.0ms inference, 2.0ms postprocess per image at shape (1, 3, 480, 640)\n",
      "\n",
      "0: 480x640 2 benchs, 58.0ms\n",
      "Speed: 7.0ms preprocess, 58.0ms inference, 2.0ms postprocess per image at shape (1, 3, 480, 640)\n",
      "\n",
      "0: 480x640 1 bench, 41.0ms\n",
      "Speed: 5.0ms preprocess, 41.0ms inference, 1.0ms postprocess per image at shape (1, 3, 480, 640)\n",
      "\n"
     ]
    },
    {
     "name": "stdout",
     "output_type": "stream",
     "text": [
      "deepsort output []\n",
      "in while loop\n",
      "deepsort output []\n",
      "in while loop\n",
      "deepsort output []\n",
      "in while loop\n"
     ]
    },
    {
     "name": "stderr",
     "output_type": "stream",
     "text": [
      "0: 480x640 1 bench, 50.0ms\n",
      "Speed: 7.0ms preprocess, 50.0ms inference, 3.0ms postprocess per image at shape (1, 3, 480, 640)\n",
      "\n",
      "0: 480x640 1 bench, 48.0ms\n",
      "Speed: 5.0ms preprocess, 48.0ms inference, 3.0ms postprocess per image at shape (1, 3, 480, 640)\n",
      "\n",
      "0: 480x640 1 bench, 63.0ms\n",
      "Speed: 5.0ms preprocess, 63.0ms inference, 2.0ms postprocess per image at shape (1, 3, 480, 640)\n",
      "\n"
     ]
    },
    {
     "name": "stdout",
     "output_type": "stream",
     "text": [
      "deepsort output []\n",
      "in while loop\n",
      "deepsort output []\n",
      "in while loop\n",
      "deepsort output []\n",
      "in while loop\n"
     ]
    },
    {
     "name": "stderr",
     "output_type": "stream",
     "text": [
      "0: 480x640 1 bench, 42.0ms\n",
      "Speed: 5.0ms preprocess, 42.0ms inference, 3.0ms postprocess per image at shape (1, 3, 480, 640)\n",
      "\n",
      "0: 480x640 1 bench, 45.0ms\n",
      "Speed: 7.0ms preprocess, 45.0ms inference, 2.0ms postprocess per image at shape (1, 3, 480, 640)\n",
      "\n",
      "0: 480x640 1 bench, 40.0ms\n",
      "Speed: 5.0ms preprocess, 40.0ms inference, 2.0ms postprocess per image at shape (1, 3, 480, 640)\n",
      "\n"
     ]
    },
    {
     "name": "stdout",
     "output_type": "stream",
     "text": [
      "deepsort output []\n",
      "in while loop\n",
      "deepsort output []\n",
      "in while loop\n",
      "deepsort output []\n",
      "in while loop\n"
     ]
    },
    {
     "name": "stderr",
     "output_type": "stream",
     "text": [
      "0: 480x640 1 bench, 55.0ms\n",
      "Speed: 9.0ms preprocess, 55.0ms inference, 2.0ms postprocess per image at shape (1, 3, 480, 640)\n",
      "\n",
      "0: 480x640 1 bench, 43.0ms\n",
      "Speed: 6.3ms preprocess, 43.0ms inference, 2.0ms postprocess per image at shape (1, 3, 480, 640)\n",
      "\n",
      "0: 480x640 1 bench, 48.0ms\n",
      "Speed: 8.0ms preprocess, 48.0ms inference, 2.0ms postprocess per image at shape (1, 3, 480, 640)\n",
      "\n"
     ]
    },
    {
     "name": "stdout",
     "output_type": "stream",
     "text": [
      "deepsort output []\n",
      "in while loop\n",
      "deepsort output []\n",
      "in while loop\n",
      "deepsort output []\n",
      "in while loop\n"
     ]
    },
    {
     "name": "stderr",
     "output_type": "stream",
     "text": [
      "0: 480x640 1 bench, 42.0ms\n",
      "Speed: 6.0ms preprocess, 42.0ms inference, 2.0ms postprocess per image at shape (1, 3, 480, 640)\n",
      "\n",
      "0: 480x640 1 bench, 60.0ms\n",
      "Speed: 5.0ms preprocess, 60.0ms inference, 2.0ms postprocess per image at shape (1, 3, 480, 640)\n",
      "\n",
      "0: 480x640 1 bench, 41.0ms\n",
      "Speed: 5.0ms preprocess, 41.0ms inference, 3.0ms postprocess per image at shape (1, 3, 480, 640)\n",
      "\n"
     ]
    },
    {
     "name": "stdout",
     "output_type": "stream",
     "text": [
      "deepsort output []\n",
      "in while loop\n",
      "deepsort output []\n",
      "in while loop\n",
      "deepsort output []\n",
      "in while loop\n"
     ]
    },
    {
     "name": "stderr",
     "output_type": "stream",
     "text": [
      "0: 480x640 1 bench, 43.0ms\n",
      "Speed: 7.0ms preprocess, 43.0ms inference, 2.0ms postprocess per image at shape (1, 3, 480, 640)\n",
      "\n",
      "0: 480x640 1 bench, 40.0ms\n",
      "Speed: 5.0ms preprocess, 40.0ms inference, 2.0ms postprocess per image at shape (1, 3, 480, 640)\n",
      "\n",
      "0: 480x640 1 bench, 58.0ms\n",
      "Speed: 6.0ms preprocess, 58.0ms inference, 1.0ms postprocess per image at shape (1, 3, 480, 640)\n",
      "\n"
     ]
    },
    {
     "name": "stdout",
     "output_type": "stream",
     "text": [
      "deepsort output []\n",
      "in while loop\n",
      "deepsort output []\n",
      "in while loop\n",
      "deepsort output []\n",
      "in while loop\n"
     ]
    },
    {
     "name": "stderr",
     "output_type": "stream",
     "text": [
      "0: 480x640 1 bench, 41.0ms\n",
      "Speed: 5.0ms preprocess, 41.0ms inference, 2.0ms postprocess per image at shape (1, 3, 480, 640)\n",
      "\n",
      "0: 480x640 1 bench, 44.0ms\n",
      "Speed: 7.0ms preprocess, 44.0ms inference, 2.0ms postprocess per image at shape (1, 3, 480, 640)\n",
      "\n",
      "0: 480x640 1 bench, 41.0ms\n",
      "Speed: 5.0ms preprocess, 41.0ms inference, 3.0ms postprocess per image at shape (1, 3, 480, 640)\n",
      "\n"
     ]
    },
    {
     "name": "stdout",
     "output_type": "stream",
     "text": [
      "deepsort output []\n",
      "in while loop\n",
      "deepsort output []\n",
      "in while loop\n",
      "deepsort output []\n",
      "in while loop\n"
     ]
    },
    {
     "name": "stderr",
     "output_type": "stream",
     "text": [
      "0: 480x640 1 bench, 61.0ms\n",
      "Speed: 5.0ms preprocess, 61.0ms inference, 2.0ms postprocess per image at shape (1, 3, 480, 640)\n",
      "\n",
      "0: 480x640 1 bench, 41.0ms\n",
      "Speed: 5.0ms preprocess, 41.0ms inference, 2.0ms postprocess per image at shape (1, 3, 480, 640)\n",
      "\n",
      "0: 480x640 1 bench, 59.0ms\n",
      "Speed: 6.0ms preprocess, 59.0ms inference, 2.0ms postprocess per image at shape (1, 3, 480, 640)\n"
     ]
    },
    {
     "name": "stdout",
     "output_type": "stream",
     "text": [
      "deepsort output []\n",
      "in while loop\n",
      "deepsort output []\n",
      "in while loop\n",
      "deepsort output []\n",
      "in while loop\n"
     ]
    },
    {
     "name": "stderr",
     "output_type": "stream",
     "text": [
      "\n",
      "0: 480x640 1 bench, 43.0ms\n",
      "Speed: 5.0ms preprocess, 43.0ms inference, 2.0ms postprocess per image at shape (1, 3, 480, 640)\n",
      "\n",
      "0: 480x640 1 bench, 54.2ms\n",
      "Speed: 7.0ms preprocess, 54.2ms inference, 2.0ms postprocess per image at shape (1, 3, 480, 640)\n",
      "\n",
      "0: 480x640 1 bench, 41.0ms\n",
      "Speed: 5.0ms preprocess, 41.0ms inference, 1.0ms postprocess per image at shape (1, 3, 480, 640)\n",
      "\n"
     ]
    },
    {
     "name": "stdout",
     "output_type": "stream",
     "text": [
      "deepsort output []\n",
      "in while loop\n",
      "deepsort output []\n",
      "in while loop\n",
      "deepsort output []\n",
      "in while loop\n"
     ]
    },
    {
     "name": "stderr",
     "output_type": "stream",
     "text": [
      "0: 480x640 1 bench, 44.0ms\n",
      "Speed: 8.0ms preprocess, 44.0ms inference, 3.7ms postprocess per image at shape (1, 3, 480, 640)\n",
      "\n",
      "0: 480x640 1 bench, 41.0ms\n",
      "Speed: 5.0ms preprocess, 41.0ms inference, 2.0ms postprocess per image at shape (1, 3, 480, 640)\n",
      "\n",
      "0: 480x640 1 bench, 55.0ms\n",
      "Speed: 7.0ms preprocess, 55.0ms inference, 2.0ms postprocess per image at shape (1, 3, 480, 640)\n",
      "\n"
     ]
    },
    {
     "name": "stdout",
     "output_type": "stream",
     "text": [
      "deepsort output []\n",
      "in while loop\n",
      "deepsort output []\n",
      "in while loop\n",
      "deepsort output []\n",
      "in while loop\n"
     ]
    },
    {
     "name": "stderr",
     "output_type": "stream",
     "text": [
      "0: 480x640 1 bench, 42.0ms\n",
      "Speed: 5.0ms preprocess, 42.0ms inference, 2.0ms postprocess per image at shape (1, 3, 480, 640)\n",
      "\n",
      "0: 480x640 1 bench, 52.0ms\n",
      "Speed: 7.0ms preprocess, 52.0ms inference, 3.0ms postprocess per image at shape (1, 3, 480, 640)\n",
      "\n",
      "0: 480x640 1 bench, 40.0ms\n",
      "Speed: 5.0ms preprocess, 40.0ms inference, 2.0ms postprocess per image at shape (1, 3, 480, 640)\n",
      "\n"
     ]
    },
    {
     "name": "stdout",
     "output_type": "stream",
     "text": [
      "deepsort output []\n",
      "in while loop\n",
      "deepsort output []\n",
      "in while loop\n",
      "deepsort output []\n",
      "in while loop\n"
     ]
    },
    {
     "name": "stderr",
     "output_type": "stream",
     "text": [
      "0: 480x640 1 bench, 43.0ms\n",
      "Speed: 7.0ms preprocess, 43.0ms inference, 1.0ms postprocess per image at shape (1, 3, 480, 640)\n",
      "\n",
      "0: 480x640 1 bench, 40.0ms\n",
      "Speed: 5.0ms preprocess, 40.0ms inference, 2.0ms postprocess per image at shape (1, 3, 480, 640)\n",
      "\n",
      "0: 480x640 1 bench, 43.0ms\n",
      "Speed: 8.0ms preprocess, 43.0ms inference, 2.0ms postprocess per image at shape (1, 3, 480, 640)\n",
      "\n"
     ]
    },
    {
     "name": "stdout",
     "output_type": "stream",
     "text": [
      "deepsort output []\n",
      "in while loop\n",
      "deepsort output []\n",
      "in while loop\n",
      "deepsort output []\n",
      "in while loop\n"
     ]
    },
    {
     "name": "stderr",
     "output_type": "stream",
     "text": [
      "0: 480x640 1 bench, 43.0ms\n",
      "Speed: 5.0ms preprocess, 43.0ms inference, 4.0ms postprocess per image at shape (1, 3, 480, 640)\n",
      "\n",
      "0: 480x640 1 bench, 58.5ms\n",
      "Speed: 7.0ms preprocess, 58.5ms inference, 2.0ms postprocess per image at shape (1, 3, 480, 640)\n",
      "\n",
      "0: 480x640 1 bench, 40.0ms\n",
      "Speed: 6.0ms preprocess, 40.0ms inference, 2.0ms postprocess per image at shape (1, 3, 480, 640)\n",
      "\n"
     ]
    },
    {
     "name": "stdout",
     "output_type": "stream",
     "text": [
      "deepsort output []\n",
      "in while loop\n",
      "deepsort output []\n",
      "in while loop\n",
      "deepsort output []\n",
      "in while loop\n"
     ]
    },
    {
     "name": "stderr",
     "output_type": "stream",
     "text": [
      "0: 480x640 1 bench, 48.5ms\n",
      "Speed: 7.0ms preprocess, 48.5ms inference, 1.0ms postprocess per image at shape (1, 3, 480, 640)\n",
      "\n",
      "0: 480x640 1 bench, 46.0ms\n",
      "Speed: 5.0ms preprocess, 46.0ms inference, 2.0ms postprocess per image at shape (1, 3, 480, 640)\n",
      "\n",
      "0: 480x640 1 bench, 61.0ms\n",
      "Speed: 5.0ms preprocess, 61.0ms inference, 2.0ms postprocess per image at shape (1, 3, 480, 640)\n",
      "\n"
     ]
    },
    {
     "name": "stdout",
     "output_type": "stream",
     "text": [
      "deepsort output []\n",
      "in while loop\n",
      "deepsort output []\n",
      "in while loop\n",
      "deepsort output []\n",
      "in while loop\n"
     ]
    },
    {
     "name": "stderr",
     "output_type": "stream",
     "text": [
      "0: 480x640 1 bench, 41.0ms\n",
      "Speed: 6.0ms preprocess, 41.0ms inference, 2.0ms postprocess per image at shape (1, 3, 480, 640)\n",
      "\n",
      "0: 480x640 1 bench, 48.0ms\n",
      "Speed: 8.0ms preprocess, 48.0ms inference, 2.0ms postprocess per image at shape (1, 3, 480, 640)\n",
      "\n",
      "0: 480x640 1 bench, 50.0ms\n",
      "Speed: 5.0ms preprocess, 50.0ms inference, 2.0ms postprocess per image at shape (1, 3, 480, 640)\n",
      "\n"
     ]
    },
    {
     "name": "stdout",
     "output_type": "stream",
     "text": [
      "deepsort output []\n",
      "in while loop\n",
      "deepsort output []\n",
      "in while loop\n",
      "deepsort output []\n",
      "in while loop\n"
     ]
    },
    {
     "name": "stderr",
     "output_type": "stream",
     "text": [
      "0: 480x640 1 bench, 63.0ms\n",
      "Speed: 5.0ms preprocess, 63.0ms inference, 2.0ms postprocess per image at shape (1, 3, 480, 640)\n",
      "\n",
      "0: 480x640 1 bench, 41.0ms\n",
      "Speed: 5.0ms preprocess, 41.0ms inference, 1.0ms postprocess per image at shape (1, 3, 480, 640)\n",
      "\n",
      "0: 480x640 1 bench, 59.0ms\n",
      "Speed: 5.0ms preprocess, 59.0ms inference, 3.0ms postprocess per image at shape (1, 3, 480, 640)\n",
      "\n"
     ]
    },
    {
     "name": "stdout",
     "output_type": "stream",
     "text": [
      "deepsort output []\n",
      "in while loop\n",
      "deepsort output []\n",
      "in while loop\n",
      "deepsort output []\n",
      "in while loop\n"
     ]
    },
    {
     "name": "stderr",
     "output_type": "stream",
     "text": [
      "0: 480x640 1 bench, 41.0ms\n",
      "Speed: 6.0ms preprocess, 41.0ms inference, 2.0ms postprocess per image at shape (1, 3, 480, 640)\n",
      "\n",
      "0: 480x640 1 bench, 60.0ms\n",
      "Speed: 6.0ms preprocess, 60.0ms inference, 2.0ms postprocess per image at shape (1, 3, 480, 640)\n",
      "\n",
      "0: 480x640 1 bench, 41.0ms\n",
      "Speed: 5.0ms preprocess, 41.0ms inference, 2.0ms postprocess per image at shape (1, 3, 480, 640)\n",
      "\n"
     ]
    },
    {
     "name": "stdout",
     "output_type": "stream",
     "text": [
      "deepsort output []\n",
      "in while loop\n",
      "deepsort output []\n",
      "in while loop\n",
      "deepsort output []\n",
      "in while loop\n"
     ]
    },
    {
     "name": "stderr",
     "output_type": "stream",
     "text": [
      "0: 480x640 1 bench, 60.0ms\n",
      "Speed: 5.0ms preprocess, 60.0ms inference, 2.0ms postprocess per image at shape (1, 3, 480, 640)\n",
      "\n",
      "0: 480x640 1 bench, 44.0ms\n",
      "Speed: 5.0ms preprocess, 44.0ms inference, 2.0ms postprocess per image at shape (1, 3, 480, 640)\n",
      "\n",
      "0: 480x640 1 bench, 55.0ms\n",
      "Speed: 6.0ms preprocess, 55.0ms inference, 2.0ms postprocess per image at shape (1, 3, 480, 640)\n",
      "\n"
     ]
    },
    {
     "name": "stdout",
     "output_type": "stream",
     "text": [
      "deepsort output []\n",
      "in while loop\n",
      "deepsort output []\n",
      "in while loop\n",
      "deepsort output []\n",
      "in while loop\n"
     ]
    },
    {
     "name": "stderr",
     "output_type": "stream",
     "text": [
      "0: 480x640 1 bench, 42.2ms\n",
      "Speed: 5.0ms preprocess, 42.2ms inference, 4.0ms postprocess per image at shape (1, 3, 480, 640)\n",
      "\n",
      "0: 480x640 1 bench, 64.0ms\n",
      "Speed: 5.0ms preprocess, 64.0ms inference, 2.0ms postprocess per image at shape (1, 3, 480, 640)\n",
      "\n",
      "0: 480x640 1 bench, 42.0ms\n",
      "Speed: 5.0ms preprocess, 42.0ms inference, 1.0ms postprocess per image at shape (1, 3, 480, 640)\n",
      "\n"
     ]
    },
    {
     "name": "stdout",
     "output_type": "stream",
     "text": [
      "deepsort output []\n",
      "in while loop\n",
      "deepsort output []\n",
      "in while loop\n",
      "deepsort output []\n",
      "in while loop\n"
     ]
    },
    {
     "name": "stderr",
     "output_type": "stream",
     "text": [
      "0: 480x640 1 bench, 60.0ms\n",
      "Speed: 6.0ms preprocess, 60.0ms inference, 4.0ms postprocess per image at shape (1, 3, 480, 640)\n",
      "\n",
      "0: 480x640 1 bench, 41.0ms\n",
      "Speed: 5.0ms preprocess, 41.0ms inference, 2.0ms postprocess per image at shape (1, 3, 480, 640)\n",
      "\n",
      "0: 480x640 1 bench, 46.0ms\n",
      "Speed: 7.0ms preprocess, 46.0ms inference, 2.0ms postprocess per image at shape (1, 3, 480, 640)\n",
      "\n"
     ]
    },
    {
     "name": "stdout",
     "output_type": "stream",
     "text": [
      "deepsort output []\n",
      "in while loop\n",
      "deepsort output []\n",
      "in while loop\n",
      "deepsort output []\n",
      "in while loop\n"
     ]
    },
    {
     "name": "stderr",
     "output_type": "stream",
     "text": [
      "0: 480x640 1 bench, 41.0ms\n",
      "Speed: 5.0ms preprocess, 41.0ms inference, 2.0ms postprocess per image at shape (1, 3, 480, 640)\n",
      "\n",
      "0: 480x640 1 bench, 60.1ms\n",
      "Speed: 5.0ms preprocess, 60.1ms inference, 2.0ms postprocess per image at shape (1, 3, 480, 640)\n",
      "\n",
      "0: 480x640 2 benchs, 44.0ms\n"
     ]
    },
    {
     "name": "stdout",
     "output_type": "stream",
     "text": [
      "deepsort output []\n",
      "in while loop\n",
      "deepsort output []\n",
      "in while loop\n"
     ]
    },
    {
     "name": "stderr",
     "output_type": "stream",
     "text": [
      "Speed: 6.0ms preprocess, 44.0ms inference, 4.0ms postprocess per image at shape (1, 3, 480, 640)\n",
      "\n",
      "0: 480x640 2 benchs, 50.0ms\n",
      "Speed: 7.0ms preprocess, 50.0ms inference, 2.0ms postprocess per image at shape (1, 3, 480, 640)\n",
      "\n",
      "0: 480x640 1 bench, 42.5ms\n",
      "Speed: 6.0ms preprocess, 42.5ms inference, 3.0ms postprocess per image at shape (1, 3, 480, 640)\n",
      "\n"
     ]
    },
    {
     "name": "stdout",
     "output_type": "stream",
     "text": [
      "deepsort output []\n",
      "in while loop\n",
      "deepsort output []\n",
      "in while loop\n",
      "deepsort output []\n",
      "in while loop\n"
     ]
    },
    {
     "name": "stderr",
     "output_type": "stream",
     "text": [
      "0: 480x640 1 bench, 60.0ms\n",
      "Speed: 5.0ms preprocess, 60.0ms inference, 2.0ms postprocess per image at shape (1, 3, 480, 640)\n",
      "\n",
      "0: 480x640 1 bench, 44.0ms\n",
      "Speed: 5.0ms preprocess, 44.0ms inference, 2.0ms postprocess per image at shape (1, 3, 480, 640)\n",
      "\n",
      "0: 480x640 1 bench, 54.0ms\n",
      "Speed: 7.0ms preprocess, 54.0ms inference, 2.0ms postprocess per image at shape (1, 3, 480, 640)\n",
      "\n"
     ]
    },
    {
     "name": "stdout",
     "output_type": "stream",
     "text": [
      "deepsort output []\n",
      "in while loop\n",
      "deepsort output []\n",
      "in while loop\n",
      "deepsort output []\n",
      "in while loop\n"
     ]
    },
    {
     "name": "stderr",
     "output_type": "stream",
     "text": [
      "0: 480x640 1 bench, 44.3ms\n",
      "Speed: 6.0ms preprocess, 44.3ms inference, 3.0ms postprocess per image at shape (1, 3, 480, 640)\n",
      "\n",
      "0: 480x640 1 bench, 48.0ms\n",
      "Speed: 8.0ms preprocess, 48.0ms inference, 2.0ms postprocess per image at shape (1, 3, 480, 640)\n",
      "\n",
      "0: 480x640 1 bench, 42.0ms\n",
      "Speed: 5.0ms preprocess, 42.0ms inference, 2.0ms postprocess per image at shape (1, 3, 480, 640)\n",
      "\n"
     ]
    },
    {
     "name": "stdout",
     "output_type": "stream",
     "text": [
      "deepsort output []\n",
      "in while loop\n",
      "deepsort output []\n",
      "in while loop\n",
      "deepsort output []\n",
      "in while loop\n"
     ]
    },
    {
     "name": "stderr",
     "output_type": "stream",
     "text": [
      "0: 480x640 1 bench, 58.0ms\n",
      "Speed: 7.0ms preprocess, 58.0ms inference, 2.0ms postprocess per image at shape (1, 3, 480, 640)\n",
      "\n",
      "0: 480x640 1 bench, 51.0ms\n",
      "Speed: 5.0ms preprocess, 51.0ms inference, 3.0ms postprocess per image at shape (1, 3, 480, 640)\n",
      "\n",
      "0: 480x640 1 bench, 42.0ms\n",
      "Speed: 7.0ms preprocess, 42.0ms inference, 2.0ms postprocess per image at shape (1, 3, 480, 640)\n"
     ]
    },
    {
     "name": "stdout",
     "output_type": "stream",
     "text": [
      "deepsort output []\n",
      "in while loop\n",
      "deepsort output []\n",
      "in while loop\n"
     ]
    },
    {
     "name": "stderr",
     "output_type": "stream",
     "text": [
      "\n",
      "0: 480x640 1 bench, 44.0ms\n",
      "Speed: 5.0ms preprocess, 44.0ms inference, 3.0ms postprocess per image at shape (1, 3, 480, 640)\n",
      "\n",
      "0: 480x640 1 bench, 47.0ms\n",
      "Speed: 9.0ms preprocess, 47.0ms inference, 2.0ms postprocess per image at shape (1, 3, 480, 640)\n",
      "\n"
     ]
    },
    {
     "name": "stdout",
     "output_type": "stream",
     "text": [
      "deepsort output []\n",
      "in while loop\n",
      "deepsort output []\n",
      "in while loop\n",
      "deepsort output []\n",
      "in while loop\n"
     ]
    },
    {
     "name": "stderr",
     "output_type": "stream",
     "text": [
      "0: 480x640 1 bench, 41.0ms\n",
      "Speed: 5.0ms preprocess, 41.0ms inference, 2.0ms postprocess per image at shape (1, 3, 480, 640)\n",
      "\n",
      "0: 480x640 1 bench, 59.0ms\n",
      "Speed: 6.0ms preprocess, 59.0ms inference, 2.0ms postprocess per image at shape (1, 3, 480, 640)\n",
      "\n",
      "0: 480x640 1 bench, 41.0ms\n",
      "Speed: 5.0ms preprocess, 41.0ms inference, 2.0ms postprocess per image at shape (1, 3, 480, 640)\n",
      "\n"
     ]
    },
    {
     "name": "stdout",
     "output_type": "stream",
     "text": [
      "deepsort output []\n",
      "in while loop\n",
      "deepsort output []\n",
      "in while loop\n",
      "deepsort output []\n",
      "in while loop\n"
     ]
    },
    {
     "name": "stderr",
     "output_type": "stream",
     "text": [
      "0: 480x640 1 bench, 60.0ms\n",
      "Speed: 5.0ms preprocess, 60.0ms inference, 2.0ms postprocess per image at shape (1, 3, 480, 640)\n",
      "\n",
      "0: 480x640 1 bench, 41.0ms\n",
      "Speed: 5.0ms preprocess, 41.0ms inference, 1.0ms postprocess per image at shape (1, 3, 480, 640)\n",
      "\n",
      "0: 480x640 1 bench, 62.0ms\n",
      "Speed: 5.0ms preprocess, 62.0ms inference, 2.0ms postprocess per image at shape (1, 3, 480, 640)\n"
     ]
    },
    {
     "name": "stdout",
     "output_type": "stream",
     "text": [
      "deepsort output []\n",
      "in while loop\n",
      "deepsort output []\n",
      "in while loop\n"
     ]
    },
    {
     "name": "stderr",
     "output_type": "stream",
     "text": [
      "\n",
      "0: 480x640 1 bench, 41.0ms\n",
      "Speed: 5.0ms preprocess, 41.0ms inference, 2.0ms postprocess per image at shape (1, 3, 480, 640)\n",
      "\n",
      "0: 480x640 1 bench, 59.0ms\n",
      "Speed: 6.0ms preprocess, 59.0ms inference, 2.0ms postprocess per image at shape (1, 3, 480, 640)\n"
     ]
    },
    {
     "name": "stdout",
     "output_type": "stream",
     "text": [
      "deepsort output []\n",
      "in while loop\n",
      "deepsort output []\n",
      "in while loop\n",
      "deepsort output []\n",
      "in while loop\n"
     ]
    },
    {
     "name": "stderr",
     "output_type": "stream",
     "text": [
      "\n",
      "0: 480x640 1 bench, 45.0ms\n",
      "Speed: 5.0ms preprocess, 45.0ms inference, 2.0ms postprocess per image at shape (1, 3, 480, 640)\n",
      "\n",
      "0: 480x640 1 bench, 44.0ms\n",
      "Speed: 9.0ms preprocess, 44.0ms inference, 2.0ms postprocess per image at shape (1, 3, 480, 640)\n",
      "\n",
      "0: 480x640 1 bench, 41.0ms\n",
      "Speed: 5.0ms preprocess, 41.0ms inference, 2.0ms postprocess per image at shape (1, 3, 480, 640)\n",
      "\n"
     ]
    },
    {
     "name": "stdout",
     "output_type": "stream",
     "text": [
      "deepsort output []\n",
      "in while loop\n",
      "deepsort output []\n",
      "in while loop\n",
      "deepsort output []\n",
      "in while loop\n"
     ]
    },
    {
     "name": "stderr",
     "output_type": "stream",
     "text": [
      "0: 480x640 1 bench, 61.0ms\n",
      "Speed: 5.0ms preprocess, 61.0ms inference, 2.0ms postprocess per image at shape (1, 3, 480, 640)\n",
      "\n",
      "0: 480x640 2 benchs, 41.0ms\n",
      "Speed: 5.0ms preprocess, 41.0ms inference, 2.0ms postprocess per image at shape (1, 3, 480, 640)\n",
      "\n",
      "0: 480x640 2 benchs, 45.0ms\n",
      "Speed: 7.0ms preprocess, 45.0ms inference, 2.0ms postprocess per image at shape (1, 3, 480, 640)\n",
      "\n"
     ]
    },
    {
     "name": "stdout",
     "output_type": "stream",
     "text": [
      "deepsort output []\n",
      "in while loop\n",
      "deepsort output []\n",
      "in while loop\n",
      "deepsort output []\n",
      "in while loop\n"
     ]
    },
    {
     "name": "stderr",
     "output_type": "stream",
     "text": [
      "0: 480x640 2 benchs, 40.0ms\n",
      "Speed: 5.0ms preprocess, 40.0ms inference, 1.3ms postprocess per image at shape (1, 3, 480, 640)\n",
      "\n",
      "0: 480x640 2 benchs, 56.0ms\n",
      "Speed: 7.0ms preprocess, 56.0ms inference, 2.0ms postprocess per image at shape (1, 3, 480, 640)\n",
      "\n",
      "0: 480x640 2 benchs, 41.0ms\n"
     ]
    },
    {
     "name": "stdout",
     "output_type": "stream",
     "text": [
      "deepsort output []\n",
      "in while loop\n",
      "deepsort output []\n",
      "in while loop\n"
     ]
    },
    {
     "name": "stderr",
     "output_type": "stream",
     "text": [
      "Speed: 5.0ms preprocess, 41.0ms inference, 2.0ms postprocess per image at shape (1, 3, 480, 640)\n",
      "\n",
      "0: 480x640 2 benchs, 50.0ms\n",
      "Speed: 6.0ms preprocess, 50.0ms inference, 2.0ms postprocess per image at shape (1, 3, 480, 640)\n",
      "\n",
      "0: 480x640 2 benchs, 43.0ms\n",
      "Speed: 6.0ms preprocess, 43.0ms inference, 2.0ms postprocess per image at shape (1, 3, 480, 640)\n",
      "\n"
     ]
    },
    {
     "name": "stdout",
     "output_type": "stream",
     "text": [
      "deepsort output []\n",
      "in while loop\n",
      "deepsort output []\n",
      "in while loop\n",
      "deepsort output []\n",
      "in while loop\n"
     ]
    },
    {
     "name": "stderr",
     "output_type": "stream",
     "text": [
      "0: 480x640 2 benchs, 60.0ms\n",
      "Speed: 5.0ms preprocess, 60.0ms inference, 2.0ms postprocess per image at shape (1, 3, 480, 640)\n",
      "\n",
      "0: 480x640 2 benchs, 41.0ms\n",
      "Speed: 5.0ms preprocess, 41.0ms inference, 2.0ms postprocess per image at shape (1, 3, 480, 640)\n",
      "\n",
      "0: 480x640 2 benchs, 48.0ms\n",
      "Speed: 8.0ms preprocess, 48.0ms inference, 2.0ms postprocess per image at shape (1, 3, 480, 640)\n",
      "\n"
     ]
    },
    {
     "name": "stdout",
     "output_type": "stream",
     "text": [
      "deepsort output []\n",
      "in while loop\n",
      "deepsort output []\n",
      "in while loop\n",
      "deepsort output []\n",
      "in while loop\n"
     ]
    },
    {
     "name": "stderr",
     "output_type": "stream",
     "text": [
      "0: 480x640 1 bench, 40.0ms\n",
      "Speed: 5.0ms preprocess, 40.0ms inference, 2.0ms postprocess per image at shape (1, 3, 480, 640)\n",
      "\n",
      "0: 480x640 1 bench, 57.0ms\n",
      "Speed: 6.0ms preprocess, 57.0ms inference, 2.0ms postprocess per image at shape (1, 3, 480, 640)\n",
      "\n",
      "0: 480x640 1 bench, 41.0ms\n",
      "Speed: 5.0ms preprocess, 41.0ms inference, 2.0ms postprocess per image at shape (1, 3, 480, 640)\n"
     ]
    },
    {
     "name": "stdout",
     "output_type": "stream",
     "text": [
      "deepsort output []\n",
      "in while loop\n",
      "deepsort output []\n",
      "in while loop\n",
      "deepsort output []\n"
     ]
    },
    {
     "name": "stderr",
     "output_type": "stream",
     "text": [
      "\n",
      "0: 480x640 1 bench, 54.0ms\n",
      "Speed: 7.0ms preprocess, 54.0ms inference, 2.0ms postprocess per image at shape (1, 3, 480, 640)\n",
      "\n",
      "0: 480x640 2 benchs, 41.0ms\n",
      "Speed: 5.0ms preprocess, 41.0ms inference, 2.0ms postprocess per image at shape (1, 3, 480, 640)\n",
      "\n"
     ]
    },
    {
     "name": "stdout",
     "output_type": "stream",
     "text": [
      "in while loop\n",
      "deepsort output []\n",
      "in while loop\n",
      "deepsort output []\n",
      "in while loop\n"
     ]
    },
    {
     "name": "stderr",
     "output_type": "stream",
     "text": [
      "0: 480x640 2 benchs, 43.0ms\n",
      "Speed: 7.0ms preprocess, 43.0ms inference, 2.0ms postprocess per image at shape (1, 3, 480, 640)\n",
      "\n",
      "0: 480x640 1 bench, 41.0ms\n",
      "Speed: 5.0ms preprocess, 41.0ms inference, 2.0ms postprocess per image at shape (1, 3, 480, 640)\n",
      "\n",
      "0: 480x640 1 bench, 46.0ms\n",
      "Speed: 8.0ms preprocess, 46.0ms inference, 2.0ms postprocess per image at shape (1, 3, 480, 640)\n",
      "\n"
     ]
    },
    {
     "name": "stdout",
     "output_type": "stream",
     "text": [
      "deepsort output []\n",
      "in while loop\n",
      "deepsort output []\n",
      "in while loop\n",
      "deepsort output []\n",
      "in while loop\n"
     ]
    },
    {
     "name": "stderr",
     "output_type": "stream",
     "text": [
      "0: 480x640 1 bench, 40.0ms\n",
      "Speed: 5.0ms preprocess, 40.0ms inference, 2.0ms postprocess per image at shape (1, 3, 480, 640)\n",
      "\n",
      "0: 480x640 1 bench, 59.0ms\n",
      "Speed: 7.0ms preprocess, 59.0ms inference, 2.0ms postprocess per image at shape (1, 3, 480, 640)\n",
      "\n",
      "0: 480x640 1 bench, 42.0ms\n"
     ]
    },
    {
     "name": "stdout",
     "output_type": "stream",
     "text": [
      "deepsort output []\n",
      "in while loop\n",
      "deepsort output []\n",
      "in while loop\n"
     ]
    },
    {
     "name": "stderr",
     "output_type": "stream",
     "text": [
      "Speed: 5.0ms preprocess, 42.0ms inference, 2.0ms postprocess per image at shape (1, 3, 480, 640)\n",
      "\n",
      "0: 480x640 1 bench, 48.0ms\n",
      "Speed: 7.0ms preprocess, 48.0ms inference, 2.0ms postprocess per image at shape (1, 3, 480, 640)\n",
      "\n",
      "0: 480x640 2 benchs, 41.0ms\n",
      "Speed: 6.0ms preprocess, 41.0ms inference, 2.0ms postprocess per image at shape (1, 3, 480, 640)\n",
      "\n"
     ]
    },
    {
     "name": "stdout",
     "output_type": "stream",
     "text": [
      "deepsort output []\n",
      "in while loop\n",
      "deepsort output []\n",
      "in while loop\n",
      "deepsort output []\n",
      "in while loop\n"
     ]
    },
    {
     "name": "stderr",
     "output_type": "stream",
     "text": [
      "0: 480x640 2 benchs, 58.0ms\n",
      "Speed: 6.0ms preprocess, 58.0ms inference, 2.5ms postprocess per image at shape (1, 3, 480, 640)\n",
      "\n",
      "0: 480x640 1 bench, 40.0ms\n",
      "Speed: 5.0ms preprocess, 40.0ms inference, 2.0ms postprocess per image at shape (1, 3, 480, 640)\n",
      "\n",
      "0: 480x640 1 bench, 45.0ms\n",
      "Speed: 8.0ms preprocess, 45.0ms inference, 2.0ms postprocess per image at shape (1, 3, 480, 640)\n",
      "\n"
     ]
    },
    {
     "name": "stdout",
     "output_type": "stream",
     "text": [
      "deepsort output []\n",
      "in while loop\n",
      "deepsort output []\n",
      "in while loop\n",
      "deepsort output []\n",
      "in while loop\n"
     ]
    },
    {
     "name": "stderr",
     "output_type": "stream",
     "text": [
      "0: 480x640 1 bench, 42.2ms\n",
      "Speed: 5.0ms preprocess, 42.2ms inference, 2.0ms postprocess per image at shape (1, 3, 480, 640)\n",
      "\n",
      "0: 480x640 1 bench, 59.0ms\n",
      "Speed: 5.0ms preprocess, 59.0ms inference, 1.0ms postprocess per image at shape (1, 3, 480, 640)\n",
      "\n",
      "0: 480x640 1 bench, 43.0ms\n",
      "Speed: 5.0ms preprocess, 43.0ms inference, 2.0ms postprocess per image at shape (1, 3, 480, 640)\n",
      "\n"
     ]
    },
    {
     "name": "stdout",
     "output_type": "stream",
     "text": [
      "deepsort output []\n",
      "in while loop\n",
      "deepsort output []\n",
      "in while loop\n",
      "deepsort output []\n",
      "in while loop\n"
     ]
    },
    {
     "name": "stderr",
     "output_type": "stream",
     "text": [
      "0: 480x640 1 bench, 58.0ms\n",
      "Speed: 7.0ms preprocess, 58.0ms inference, 2.0ms postprocess per image at shape (1, 3, 480, 640)\n",
      "\n",
      "0: 480x640 1 bench, 41.0ms\n",
      "Speed: 5.0ms preprocess, 41.0ms inference, 1.0ms postprocess per image at shape (1, 3, 480, 640)\n",
      "\n",
      "0: 480x640 1 bench, 45.0ms\n",
      "Speed: 7.0ms preprocess, 45.0ms inference, 2.0ms postprocess per image at shape (1, 3, 480, 640)\n",
      "\n"
     ]
    },
    {
     "name": "stdout",
     "output_type": "stream",
     "text": [
      "deepsort output []\n",
      "in while loop\n",
      "deepsort output []\n",
      "in while loop\n",
      "deepsort output []\n",
      "in while loop\n"
     ]
    },
    {
     "name": "stderr",
     "output_type": "stream",
     "text": [
      "0: 480x640 1 bench, 41.0ms\n",
      "Speed: 6.0ms preprocess, 41.0ms inference, 2.0ms postprocess per image at shape (1, 3, 480, 640)\n",
      "\n",
      "0: 480x640 1 bench, 62.0ms\n",
      "Speed: 5.0ms preprocess, 62.0ms inference, 1.3ms postprocess per image at shape (1, 3, 480, 640)\n"
     ]
    },
    {
     "name": "stdout",
     "output_type": "stream",
     "text": [
      "deepsort output []\n",
      "in while loop\n",
      "deepsort output []\n"
     ]
    },
    {
     "name": "stderr",
     "output_type": "stream",
     "text": [
      "\n"
     ]
    },
    {
     "name": "stdout",
     "output_type": "stream",
     "text": [
      "in while loop\n"
     ]
    },
    {
     "name": "stderr",
     "output_type": "stream",
     "text": [
      "0: 480x640 2 benchs, 49.0ms\n",
      "Speed: 7.0ms preprocess, 49.0ms inference, 2.0ms postprocess per image at shape (1, 3, 480, 640)\n",
      "\n",
      "0: 480x640 2 benchs, 59.0ms\n",
      "Speed: 7.0ms preprocess, 59.0ms inference, 2.0ms postprocess per image at shape (1, 3, 480, 640)\n",
      "\n"
     ]
    },
    {
     "name": "stdout",
     "output_type": "stream",
     "text": [
      "deepsort output []\n",
      "in while loop\n",
      "deepsort output []\n",
      "in while loop\n"
     ]
    },
    {
     "name": "stderr",
     "output_type": "stream",
     "text": [
      "0: 480x640 1 bench, 41.0ms\n",
      "Speed: 6.0ms preprocess, 41.0ms inference, 2.0ms postprocess per image at shape (1, 3, 480, 640)\n",
      "\n"
     ]
    },
    {
     "name": "stdout",
     "output_type": "stream",
     "text": [
      "deepsort output []\n",
      "in while loop\n"
     ]
    },
    {
     "name": "stderr",
     "output_type": "stream",
     "text": [
      "0: 480x640 1 bench, 61.0ms\n",
      "Speed: 5.0ms preprocess, 61.0ms inference, 1.0ms postprocess per image at shape (1, 3, 480, 640)\n",
      "\n",
      "0: 480x640 1 bench, 41.0ms\n",
      "Speed: 5.0ms preprocess, 41.0ms inference, 2.0ms postprocess per image at shape (1, 3, 480, 640)\n"
     ]
    },
    {
     "name": "stdout",
     "output_type": "stream",
     "text": [
      "deepsort output []\n",
      "in while loop\n",
      "deepsort output []\n",
      "in while loop\n"
     ]
    },
    {
     "name": "stderr",
     "output_type": "stream",
     "text": [
      "\n",
      "0: 480x640 1 bench, 51.0ms\n",
      "Speed: 8.0ms preprocess, 51.0ms inference, 2.0ms postprocess per image at shape (1, 3, 480, 640)\n",
      "\n"
     ]
    },
    {
     "name": "stdout",
     "output_type": "stream",
     "text": [
      "deepsort output []\n",
      "in while loop\n"
     ]
    },
    {
     "name": "stderr",
     "output_type": "stream",
     "text": [
      "0: 480x640 2 benchs, 42.0ms\n",
      "Speed: 5.0ms preprocess, 42.0ms inference, 2.0ms postprocess per image at shape (1, 3, 480, 640)\n",
      "\n",
      "0: 480x640 2 benchs, 61.0ms\n",
      "Speed: 5.0ms preprocess, 61.0ms inference, 2.0ms postprocess per image at shape (1, 3, 480, 640)\n",
      "\n"
     ]
    },
    {
     "name": "stdout",
     "output_type": "stream",
     "text": [
      "deepsort output []\n",
      "in while loop\n",
      "deepsort output []\n",
      "in while loop\n"
     ]
    },
    {
     "name": "stderr",
     "output_type": "stream",
     "text": [
      "0: 480x640 1 bench, 44.0ms\n",
      "Speed: 6.0ms preprocess, 44.0ms inference, 2.0ms postprocess per image at shape (1, 3, 480, 640)\n",
      "\n"
     ]
    },
    {
     "name": "stdout",
     "output_type": "stream",
     "text": [
      "deepsort output []\n",
      "in while loop\n"
     ]
    },
    {
     "name": "stderr",
     "output_type": "stream",
     "text": [
      "0: 480x640 1 bench, 60.0ms\n",
      "Speed: 5.0ms preprocess, 60.0ms inference, 2.0ms postprocess per image at shape (1, 3, 480, 640)\n",
      "\n",
      "0: 480x640 1 bench, 44.0ms\n",
      "Speed: 6.0ms preprocess, 44.0ms inference, 2.0ms postprocess per image at shape (1, 3, 480, 640)\n",
      "\n"
     ]
    },
    {
     "name": "stdout",
     "output_type": "stream",
     "text": [
      "deepsort output []\n",
      "in while loop\n",
      "deepsort output []\n",
      "in while loop\n"
     ]
    },
    {
     "name": "stderr",
     "output_type": "stream",
     "text": [
      "0: 480x640 1 bench, 60.0ms\n",
      "Speed: 5.0ms preprocess, 60.0ms inference, 2.0ms postprocess per image at shape (1, 3, 480, 640)\n",
      "\n"
     ]
    },
    {
     "name": "stdout",
     "output_type": "stream",
     "text": [
      "deepsort output []\n",
      "in while loop\n"
     ]
    },
    {
     "name": "stderr",
     "output_type": "stream",
     "text": [
      "0: 480x640 1 bench, 41.0ms\n",
      "Speed: 5.0ms preprocess, 41.0ms inference, 2.0ms postprocess per image at shape (1, 3, 480, 640)\n",
      "\n",
      "0: 480x640 1 bench, 52.0ms\n",
      "Speed: 6.0ms preprocess, 52.0ms inference, 2.0ms postprocess per image at shape (1, 3, 480, 640)\n",
      "\n"
     ]
    },
    {
     "name": "stdout",
     "output_type": "stream",
     "text": [
      "deepsort output []\n",
      "in while loop\n",
      "deepsort output []\n",
      "in while loop\n"
     ]
    },
    {
     "name": "stderr",
     "output_type": "stream",
     "text": [
      "0: 480x640 1 bench, 46.5ms\n",
      "Speed: 5.0ms preprocess, 46.5ms inference, 2.0ms postprocess per image at shape (1, 3, 480, 640)\n",
      "\n"
     ]
    },
    {
     "name": "stdout",
     "output_type": "stream",
     "text": [
      "deepsort output []\n",
      "in while loop\n"
     ]
    },
    {
     "name": "stderr",
     "output_type": "stream",
     "text": [
      "0: 480x640 1 bench, 60.0ms\n",
      "Speed: 5.0ms preprocess, 60.0ms inference, 2.0ms postprocess per image at shape (1, 3, 480, 640)\n",
      "\n",
      "0: 480x640 2 benchs, 41.0ms\n",
      "Speed: 5.0ms preprocess, 41.0ms inference, 1.0ms postprocess per image at shape (1, 3, 480, 640)\n"
     ]
    },
    {
     "name": "stdout",
     "output_type": "stream",
     "text": [
      "deepsort output []\n",
      "in while loop\n",
      "deepsort output []\n",
      "in while loop\n"
     ]
    },
    {
     "name": "stderr",
     "output_type": "stream",
     "text": [
      "\n",
      "0: 480x640 2 benchs, 52.5ms\n",
      "Speed: 7.2ms preprocess, 52.5ms inference, 2.0ms postprocess per image at shape (1, 3, 480, 640)\n",
      "\n"
     ]
    },
    {
     "name": "stdout",
     "output_type": "stream",
     "text": [
      "deepsort output []\n",
      "in while loop\n"
     ]
    },
    {
     "name": "stderr",
     "output_type": "stream",
     "text": [
      "0: 480x640 2 benchs, 45.0ms\n",
      "Speed: 5.0ms preprocess, 45.0ms inference, 2.0ms postprocess per image at shape (1, 3, 480, 640)\n",
      "\n",
      "0: 480x640 2 benchs, 44.0ms\n",
      "Speed: 7.0ms preprocess, 44.0ms inference, 2.0ms postprocess per image at shape (1, 3, 480, 640)\n",
      "\n"
     ]
    },
    {
     "name": "stdout",
     "output_type": "stream",
     "text": [
      "deepsort output []\n",
      "in while loop\n",
      "deepsort output []\n",
      "in while loop\n"
     ]
    },
    {
     "name": "stderr",
     "output_type": "stream",
     "text": [
      "0: 480x640 1 bench, 40.0ms\n",
      "Speed: 6.0ms preprocess, 40.0ms inference, 2.0ms postprocess per image at shape (1, 3, 480, 640)\n",
      "\n"
     ]
    },
    {
     "name": "stdout",
     "output_type": "stream",
     "text": [
      "deepsort output []\n",
      "in while loop\n"
     ]
    },
    {
     "name": "stderr",
     "output_type": "stream",
     "text": [
      "0: 480x640 1 bench, 61.0ms\n",
      "Speed: 5.0ms preprocess, 61.0ms inference, 2.0ms postprocess per image at shape (1, 3, 480, 640)\n",
      "\n",
      "0: 480x640 1 bench, 42.0ms\n",
      "Speed: 5.0ms preprocess, 42.0ms inference, 3.0ms postprocess per image at shape (1, 3, 480, 640)\n",
      "\n"
     ]
    },
    {
     "name": "stdout",
     "output_type": "stream",
     "text": [
      "deepsort output []\n",
      "in while loop\n",
      "deepsort output []\n",
      "in while loop\n"
     ]
    },
    {
     "name": "stderr",
     "output_type": "stream",
     "text": [
      "0: 480x640 1 bench, 59.0ms\n",
      "Speed: 6.0ms preprocess, 59.0ms inference, 2.0ms postprocess per image at shape (1, 3, 480, 640)\n",
      "\n",
      "0: 480x640 1 bench, 41.0ms\n",
      "Speed: 6.0ms preprocess, 41.0ms inference, 2.0ms postprocess per image at shape (1, 3, 480, 640)\n",
      "\n",
      "0: 480x640 1 bench, 56.0ms\n",
      "Speed: 7.0ms preprocess, 56.0ms inference, 2.0ms postprocess per image at shape (1, 3, 480, 640)\n"
     ]
    },
    {
     "name": "stdout",
     "output_type": "stream",
     "text": [
      "deepsort output []\n",
      "in while loop\n",
      "deepsort output []\n",
      "in while loop\n",
      "deepsort output []\n",
      "in while loop\n"
     ]
    },
    {
     "name": "stderr",
     "output_type": "stream",
     "text": [
      "\n",
      "0: 480x640 1 bench, 41.0ms\n",
      "Speed: 7.0ms preprocess, 41.0ms inference, 2.0ms postprocess per image at shape (1, 3, 480, 640)\n",
      "\n",
      "0: 480x640 1 bench, 50.0ms\n",
      "Speed: 7.0ms preprocess, 50.0ms inference, 2.0ms postprocess per image at shape (1, 3, 480, 640)\n",
      "\n",
      "0: 480x640 1 bench, 41.0ms\n",
      "Speed: 5.0ms preprocess, 41.0ms inference, 2.0ms postprocess per image at shape (1, 3, 480, 640)\n"
     ]
    },
    {
     "name": "stdout",
     "output_type": "stream",
     "text": [
      "deepsort output []\n",
      "in while loop\n",
      "deepsort output []\n",
      "in while loop\n",
      "deepsort output []\n",
      "in while loop\n"
     ]
    },
    {
     "name": "stderr",
     "output_type": "stream",
     "text": [
      "\n",
      "0: 480x640 1 bench, 59.0ms\n",
      "Speed: 6.0ms preprocess, 59.0ms inference, 1.0ms postprocess per image at shape (1, 3, 480, 640)\n",
      "\n",
      "0: 480x640 1 bench, 40.0ms\n",
      "Speed: 5.0ms preprocess, 40.0ms inference, 1.0ms postprocess per image at shape (1, 3, 480, 640)\n",
      "\n",
      "0: 480x640 1 bench, 47.0ms\n",
      "Speed: 7.0ms preprocess, 47.0ms inference, 2.0ms postprocess per image at shape (1, 3, 480, 640)\n",
      "\n"
     ]
    },
    {
     "name": "stdout",
     "output_type": "stream",
     "text": [
      "deepsort output []\n",
      "in while loop\n",
      "deepsort output []\n",
      "in while loop\n",
      "deepsort output []\n",
      "in while loop\n"
     ]
    },
    {
     "name": "stderr",
     "output_type": "stream",
     "text": [
      "0: 480x640 1 bench, 40.6ms\n",
      "Speed: 5.0ms preprocess, 40.6ms inference, 2.0ms postprocess per image at shape (1, 3, 480, 640)\n",
      "\n",
      "0: 480x640 1 bench, 59.0ms\n",
      "Speed: 6.0ms preprocess, 59.0ms inference, 2.0ms postprocess per image at shape (1, 3, 480, 640)\n",
      "\n",
      "0: 480x640 1 bench, 42.0ms\n"
     ]
    },
    {
     "name": "stdout",
     "output_type": "stream",
     "text": [
      "deepsort output []\n",
      "in while loop\n",
      "deepsort output []\n",
      "in while loop\n"
     ]
    },
    {
     "name": "stderr",
     "output_type": "stream",
     "text": [
      "Speed: 6.0ms preprocess, 42.0ms inference, 2.0ms postprocess per image at shape (1, 3, 480, 640)\n",
      "\n",
      "0: 480x640 1 bench, 43.0ms\n",
      "Speed: 7.0ms preprocess, 43.0ms inference, 2.0ms postprocess per image at shape (1, 3, 480, 640)\n",
      "\n",
      "0: 480x640 1 bench, 41.0ms\n",
      "Speed: 6.0ms preprocess, 41.0ms inference, 2.0ms postprocess per image at shape (1, 3, 480, 640)\n",
      "\n"
     ]
    },
    {
     "name": "stdout",
     "output_type": "stream",
     "text": [
      "deepsort output []\n",
      "in while loop\n",
      "deepsort output []\n",
      "in while loop\n",
      "deepsort output []\n",
      "in while loop\n"
     ]
    },
    {
     "name": "stderr",
     "output_type": "stream",
     "text": [
      "0: 480x640 1 bench, 56.0ms\n",
      "Speed: 6.0ms preprocess, 56.0ms inference, 2.0ms postprocess per image at shape (1, 3, 480, 640)\n",
      "\n",
      "0: 480x640 1 bench, 45.0ms\n",
      "Speed: 5.0ms preprocess, 45.0ms inference, 1.0ms postprocess per image at shape (1, 3, 480, 640)\n",
      "\n",
      "0: 480x640 1 bench, 44.0ms\n",
      "Speed: 7.0ms preprocess, 44.0ms inference, 2.0ms postprocess per image at shape (1, 3, 480, 640)\n",
      "\n"
     ]
    },
    {
     "name": "stdout",
     "output_type": "stream",
     "text": [
      "deepsort output []\n",
      "in while loop\n",
      "deepsort output []\n",
      "in while loop\n",
      "deepsort output []\n",
      "in while loop\n"
     ]
    },
    {
     "name": "stderr",
     "output_type": "stream",
     "text": [
      "0: 480x640 1 bench, 40.0ms\n",
      "Speed: 5.0ms preprocess, 40.0ms inference, 2.0ms postprocess per image at shape (1, 3, 480, 640)\n",
      "\n",
      "0: 480x640 1 bench, 60.0ms\n",
      "Speed: 5.0ms preprocess, 60.0ms inference, 2.0ms postprocess per image at shape (1, 3, 480, 640)\n",
      "\n",
      "0: 480x640 1 bench, 43.0ms\n",
      "Speed: 5.0ms preprocess, 43.0ms inference, 1.0ms postprocess per image at shape (1, 3, 480, 640)\n",
      "\n"
     ]
    },
    {
     "name": "stdout",
     "output_type": "stream",
     "text": [
      "deepsort output []\n",
      "in while loop\n",
      "deepsort output []\n",
      "in while loop\n",
      "deepsort output []\n",
      "in while loop\n"
     ]
    },
    {
     "name": "stderr",
     "output_type": "stream",
     "text": [
      "0: 480x640 1 bench, 61.0ms\n",
      "Speed: 5.0ms preprocess, 61.0ms inference, 2.0ms postprocess per image at shape (1, 3, 480, 640)\n",
      "\n",
      "0: 480x640 1 bench, 44.0ms\n",
      "Speed: 5.0ms preprocess, 44.0ms inference, 2.7ms postprocess per image at shape (1, 3, 480, 640)\n",
      "\n",
      "0: 480x640 1 bench, 63.4ms\n",
      "Speed: 5.0ms preprocess, 63.4ms inference, 2.0ms postprocess per image at shape (1, 3, 480, 640)\n",
      "\n"
     ]
    },
    {
     "name": "stdout",
     "output_type": "stream",
     "text": [
      "deepsort output []\n",
      "in while loop\n",
      "deepsort output []\n",
      "in while loop\n",
      "deepsort output []\n",
      "in while loop\n"
     ]
    },
    {
     "name": "stderr",
     "output_type": "stream",
     "text": [
      "0: 480x640 1 bench, 42.0ms\n",
      "Speed: 7.0ms preprocess, 42.0ms inference, 2.0ms postprocess per image at shape (1, 3, 480, 640)\n",
      "\n",
      "0: 480x640 1 bench, 63.4ms\n",
      "Speed: 8.0ms preprocess, 63.4ms inference, 2.0ms postprocess per image at shape (1, 3, 480, 640)\n",
      "\n",
      "0: 480x640 1 bench, 41.0ms\n",
      "Speed: 5.0ms preprocess, 41.0ms inference, 2.0ms postprocess per image at shape (1, 3, 480, 640)\n",
      "\n"
     ]
    },
    {
     "name": "stdout",
     "output_type": "stream",
     "text": [
      "deepsort output []\n",
      "in while loop\n",
      "deepsort output []\n",
      "in while loop\n",
      "deepsort output []\n",
      "in while loop\n"
     ]
    },
    {
     "name": "stderr",
     "output_type": "stream",
     "text": [
      "0: 480x640 1 bench, 63.0ms\n",
      "Speed: 5.0ms preprocess, 63.0ms inference, 2.0ms postprocess per image at shape (1, 3, 480, 640)\n",
      "\n",
      "0: 480x640 1 bench, 43.0ms\n",
      "Speed: 5.0ms preprocess, 43.0ms inference, 2.0ms postprocess per image at shape (1, 3, 480, 640)\n",
      "\n",
      "0: 480x640 1 bench, 65.0ms\n"
     ]
    },
    {
     "name": "stdout",
     "output_type": "stream",
     "text": [
      "deepsort output []\n",
      "in while loop\n",
      "deepsort output []\n",
      "in while loop\n"
     ]
    },
    {
     "name": "stderr",
     "output_type": "stream",
     "text": [
      "Speed: 5.0ms preprocess, 65.0ms inference, 3.0ms postprocess per image at shape (1, 3, 480, 640)\n",
      "\n",
      "0: 480x640 1 bench, 41.0ms\n",
      "Speed: 5.0ms preprocess, 41.0ms inference, 3.0ms postprocess per image at shape (1, 3, 480, 640)\n",
      "\n",
      "0: 480x640 1 bench, 51.5ms\n",
      "Speed: 8.0ms preprocess, 51.5ms inference, 2.0ms postprocess per image at shape (1, 3, 480, 640)\n"
     ]
    },
    {
     "name": "stdout",
     "output_type": "stream",
     "text": [
      "deepsort output []\n",
      "in while loop\n",
      "deepsort output []\n",
      "in while loop\n",
      "deepsort output []\n",
      "in while loop\n"
     ]
    },
    {
     "name": "stderr",
     "output_type": "stream",
     "text": [
      "\n",
      "0: 480x640 1 bench, 40.0ms\n",
      "Speed: 5.0ms preprocess, 40.0ms inference, 1.0ms postprocess per image at shape (1, 3, 480, 640)\n",
      "\n",
      "0: 480x640 1 bench, 42.0ms\n",
      "Speed: 7.0ms preprocess, 42.0ms inference, 2.0ms postprocess per image at shape (1, 3, 480, 640)\n",
      "\n",
      "0: 480x640 1 bench, 41.0ms\n",
      "Speed: 5.0ms preprocess, 41.0ms inference, 2.0ms postprocess per image at shape (1, 3, 480, 640)\n",
      "\n"
     ]
    },
    {
     "name": "stdout",
     "output_type": "stream",
     "text": [
      "deepsort output []\n",
      "in while loop\n",
      "deepsort output []\n",
      "in while loop\n",
      "deepsort output []\n",
      "in while loop\n"
     ]
    },
    {
     "name": "stderr",
     "output_type": "stream",
     "text": [
      "0: 480x640 1 bench, 58.0ms\n",
      "Speed: 7.0ms preprocess, 58.0ms inference, 2.0ms postprocess per image at shape (1, 3, 480, 640)\n",
      "\n",
      "0: 480x640 1 bench, 44.0ms\n",
      "Speed: 5.0ms preprocess, 44.0ms inference, 2.0ms postprocess per image at shape (1, 3, 480, 640)\n",
      "\n",
      "0: 480x640 1 bench, 45.0ms\n",
      "Speed: 6.0ms preprocess, 45.0ms inference, 4.0ms postprocess per image at shape (1, 3, 480, 640)\n",
      "\n"
     ]
    },
    {
     "name": "stdout",
     "output_type": "stream",
     "text": [
      "deepsort output []\n",
      "in while loop\n",
      "deepsort output []\n",
      "in while loop\n",
      "deepsort output []\n",
      "in while loop\n"
     ]
    },
    {
     "name": "stderr",
     "output_type": "stream",
     "text": [
      "0: 480x640 1 bench, 44.0ms\n",
      "Speed: 5.0ms preprocess, 44.0ms inference, 1.0ms postprocess per image at shape (1, 3, 480, 640)\n",
      "\n",
      "0: 480x640 1 bench, 57.0ms\n",
      "Speed: 6.0ms preprocess, 57.0ms inference, 2.0ms postprocess per image at shape (1, 3, 480, 640)\n",
      "\n",
      "0: 480x640 1 bench, 41.0ms\n",
      "Speed: 5.0ms preprocess, 41.0ms inference, 2.0ms postprocess per image at shape (1, 3, 480, 640)\n",
      "\n"
     ]
    },
    {
     "name": "stdout",
     "output_type": "stream",
     "text": [
      "deepsort output []\n",
      "in while loop\n",
      "deepsort output []\n",
      "in while loop\n",
      "deepsort output []\n",
      "in while loop\n"
     ]
    },
    {
     "name": "stderr",
     "output_type": "stream",
     "text": [
      "0: 480x640 1 bench, 46.0ms\n",
      "Speed: 9.0ms preprocess, 46.0ms inference, 2.0ms postprocess per image at shape (1, 3, 480, 640)\n",
      "\n",
      "0: 480x640 1 bench, 41.0ms\n",
      "Speed: 5.0ms preprocess, 41.0ms inference, 1.0ms postprocess per image at shape (1, 3, 480, 640)\n",
      "\n",
      "0: 480x640 1 bench, 61.0ms\n",
      "Speed: 5.0ms preprocess, 61.0ms inference, 2.0ms postprocess per image at shape (1, 3, 480, 640)\n",
      "\n"
     ]
    },
    {
     "name": "stdout",
     "output_type": "stream",
     "text": [
      "deepsort output []\n",
      "in while loop\n",
      "deepsort output []\n",
      "in while loop\n",
      "deepsort output []\n",
      "in while loop\n"
     ]
    },
    {
     "name": "stderr",
     "output_type": "stream",
     "text": [
      "0: 480x640 1 bench, 40.3ms\n",
      "Speed: 5.0ms preprocess, 40.3ms inference, 3.0ms postprocess per image at shape (1, 3, 480, 640)\n",
      "\n",
      "0: 480x640 1 bench, 53.0ms\n",
      "Speed: 7.0ms preprocess, 53.0ms inference, 2.0ms postprocess per image at shape (1, 3, 480, 640)\n",
      "\n",
      "0: 480x640 1 bench, 41.0ms\n",
      "Speed: 5.0ms preprocess, 41.0ms inference, 2.0ms postprocess per image at shape (1, 3, 480, 640)\n",
      "\n"
     ]
    },
    {
     "name": "stdout",
     "output_type": "stream",
     "text": [
      "deepsort output []\n",
      "in while loop\n",
      "deepsort output []\n",
      "in while loop\n",
      "deepsort output []\n",
      "in while loop\n"
     ]
    },
    {
     "name": "stderr",
     "output_type": "stream",
     "text": [
      "0: 480x640 1 bench, 59.0ms\n",
      "Speed: 6.0ms preprocess, 59.0ms inference, 2.0ms postprocess per image at shape (1, 3, 480, 640)\n",
      "\n",
      "0: 480x640 1 bench, 41.0ms\n",
      "Speed: 5.0ms preprocess, 41.0ms inference, 2.0ms postprocess per image at shape (1, 3, 480, 640)\n",
      "\n",
      "0: 480x640 1 bench, 47.0ms\n",
      "Speed: 8.0ms preprocess, 47.0ms inference, 2.0ms postprocess per image at shape (1, 3, 480, 640)\n",
      "\n"
     ]
    },
    {
     "name": "stdout",
     "output_type": "stream",
     "text": [
      "deepsort output []\n",
      "in while loop\n",
      "deepsort output []\n",
      "in while loop\n",
      "deepsort output []\n",
      "in while loop\n"
     ]
    },
    {
     "name": "stderr",
     "output_type": "stream",
     "text": [
      "0: 480x640 1 bench, 41.0ms\n",
      "Speed: 5.0ms preprocess, 41.0ms inference, 2.0ms postprocess per image at shape (1, 3, 480, 640)\n",
      "\n",
      "0: 480x640 1 bench, 60.0ms\n",
      "Speed: 6.0ms preprocess, 60.0ms inference, 2.0ms postprocess per image at shape (1, 3, 480, 640)\n",
      "\n",
      "0: 480x640 1 bench, 41.0ms\n"
     ]
    },
    {
     "name": "stdout",
     "output_type": "stream",
     "text": [
      "deepsort output []\n",
      "in while loop\n",
      "deepsort output []\n",
      "in while loop\n"
     ]
    },
    {
     "name": "stderr",
     "output_type": "stream",
     "text": [
      "Speed: 5.0ms preprocess, 41.0ms inference, 2.0ms postprocess per image at shape (1, 3, 480, 640)\n",
      "\n",
      "0: 480x640 1 bench, 46.0ms\n",
      "Speed: 7.0ms preprocess, 46.0ms inference, 2.0ms postprocess per image at shape (1, 3, 480, 640)\n",
      "\n",
      "0: 480x640 1 bench, 41.0ms\n",
      "Speed: 5.0ms preprocess, 41.0ms inference, 2.0ms postprocess per image at shape (1, 3, 480, 640)\n"
     ]
    },
    {
     "name": "stdout",
     "output_type": "stream",
     "text": [
      "deepsort output []\n",
      "in while loop\n",
      "deepsort output []\n",
      "in while loop\n",
      "deepsort output []\n",
      "in while loop\n"
     ]
    },
    {
     "name": "stderr",
     "output_type": "stream",
     "text": [
      "\n",
      "0: 480x640 1 bench, 57.0ms\n",
      "Speed: 7.0ms preprocess, 57.0ms inference, 2.0ms postprocess per image at shape (1, 3, 480, 640)\n",
      "\n",
      "0: 480x640 1 bench, 42.0ms\n",
      "Speed: 5.0ms preprocess, 42.0ms inference, 2.0ms postprocess per image at shape (1, 3, 480, 640)\n",
      "\n",
      "0: 480x640 1 bench, 43.0ms\n",
      "Speed: 7.0ms preprocess, 43.0ms inference, 2.0ms postprocess per image at shape (1, 3, 480, 640)\n",
      "\n"
     ]
    },
    {
     "name": "stdout",
     "output_type": "stream",
     "text": [
      "deepsort output []\n",
      "in while loop\n",
      "deepsort output []\n",
      "in while loop\n",
      "deepsort output []\n",
      "in while loop\n"
     ]
    },
    {
     "name": "stderr",
     "output_type": "stream",
     "text": [
      "0: 480x640 1 bench, 41.0ms\n",
      "Speed: 7.0ms preprocess, 41.0ms inference, 2.0ms postprocess per image at shape (1, 3, 480, 640)\n",
      "\n",
      "0: 480x640 1 bench, 51.5ms\n",
      "Speed: 6.0ms preprocess, 51.5ms inference, 2.0ms postprocess per image at shape (1, 3, 480, 640)\n",
      "\n",
      "0: 480x640 1 bench, 42.0ms\n",
      "Speed: 5.0ms preprocess, 42.0ms inference, 2.0ms postprocess per image at shape (1, 3, 480, 640)\n"
     ]
    },
    {
     "name": "stdout",
     "output_type": "stream",
     "text": [
      "deepsort output []\n",
      "in while loop\n",
      "deepsort output []\n",
      "in while loop\n",
      "deepsort output []\n",
      "in while loop\n"
     ]
    },
    {
     "name": "stderr",
     "output_type": "stream",
     "text": [
      "\n",
      "0: 480x640 1 bench, 45.0ms\n",
      "Speed: 8.0ms preprocess, 45.0ms inference, 2.0ms postprocess per image at shape (1, 3, 480, 640)\n",
      "\n",
      "0: 480x640 1 bench, 40.5ms\n",
      "Speed: 5.0ms preprocess, 40.5ms inference, 2.0ms postprocess per image at shape (1, 3, 480, 640)\n",
      "\n",
      "0: 480x640 1 bench, 62.0ms\n",
      "Speed: 5.0ms preprocess, 62.0ms inference, 2.0ms postprocess per image at shape (1, 3, 480, 640)\n",
      "\n"
     ]
    },
    {
     "name": "stdout",
     "output_type": "stream",
     "text": [
      "deepsort output []\n",
      "in while loop\n",
      "deepsort output []\n",
      "in while loop\n",
      "deepsort output []\n",
      "in while loop\n"
     ]
    },
    {
     "name": "stderr",
     "output_type": "stream",
     "text": [
      "0: 480x640 1 bench, 41.0ms\n",
      "Speed: 5.0ms preprocess, 41.0ms inference, 2.0ms postprocess per image at shape (1, 3, 480, 640)\n",
      "\n",
      "0: 480x640 1 bench, 42.0ms\n",
      "Speed: 6.0ms preprocess, 42.0ms inference, 2.0ms postprocess per image at shape (1, 3, 480, 640)\n",
      "\n",
      "0: 480x640 1 bench, 41.0ms\n",
      "Speed: 5.0ms preprocess, 41.0ms inference, 2.0ms postprocess per image at shape (1, 3, 480, 640)\n",
      "\n"
     ]
    },
    {
     "name": "stdout",
     "output_type": "stream",
     "text": [
      "deepsort output []\n",
      "in while loop\n",
      "deepsort output []\n",
      "in while loop\n",
      "deepsort output []\n",
      "in while loop\n"
     ]
    },
    {
     "name": "stderr",
     "output_type": "stream",
     "text": [
      "0: 480x640 1 bench, 59.1ms\n",
      "Speed: 6.0ms preprocess, 59.1ms inference, 2.0ms postprocess per image at shape (1, 3, 480, 640)\n",
      "\n",
      "0: 480x640 1 bench, 42.0ms\n",
      "Speed: 5.0ms preprocess, 42.0ms inference, 2.0ms postprocess per image at shape (1, 3, 480, 640)\n",
      "\n",
      "0: 480x640 1 bench, 47.0ms\n",
      "Speed: 7.0ms preprocess, 47.0ms inference, 2.0ms postprocess per image at shape (1, 3, 480, 640)\n",
      "\n"
     ]
    },
    {
     "name": "stdout",
     "output_type": "stream",
     "text": [
      "deepsort output []\n",
      "in while loop\n",
      "deepsort output []\n",
      "in while loop\n",
      "deepsort output []\n",
      "in while loop\n"
     ]
    },
    {
     "name": "stderr",
     "output_type": "stream",
     "text": [
      "0: 480x640 1 bench, 42.0ms\n",
      "Speed: 5.0ms preprocess, 42.0ms inference, 2.0ms postprocess per image at shape (1, 3, 480, 640)\n",
      "\n",
      "0: 480x640 1 bench, 60.8ms\n",
      "Speed: 5.0ms preprocess, 60.8ms inference, 2.0ms postprocess per image at shape (1, 3, 480, 640)\n",
      "\n",
      "0: 480x640 1 bench, 41.0ms\n",
      "Speed: 5.0ms preprocess, 41.0ms inference, 2.0ms postprocess per image at shape (1, 3, 480, 640)\n",
      "\n"
     ]
    },
    {
     "name": "stdout",
     "output_type": "stream",
     "text": [
      "deepsort output []\n",
      "in while loop\n",
      "deepsort output []\n",
      "in while loop\n",
      "deepsort output []\n",
      "in while loop\n"
     ]
    },
    {
     "name": "stderr",
     "output_type": "stream",
     "text": [
      "0: 480x640 1 bench, 48.0ms\n",
      "Speed: 8.0ms preprocess, 48.0ms inference, 2.0ms postprocess per image at shape (1, 3, 480, 640)\n",
      "\n",
      "0: 480x640 1 bench, 40.0ms\n",
      "Speed: 5.0ms preprocess, 40.0ms inference, 2.0ms postprocess per image at shape (1, 3, 480, 640)\n",
      "\n",
      "0: 480x640 1 bench, 62.0ms\n",
      "Speed: 5.0ms preprocess, 62.0ms inference, 2.0ms postprocess per image at shape (1, 3, 480, 640)\n",
      "\n"
     ]
    },
    {
     "name": "stdout",
     "output_type": "stream",
     "text": [
      "deepsort output []\n",
      "in while loop\n",
      "deepsort output []\n",
      "in while loop\n",
      "deepsort output []\n",
      "in while loop\n"
     ]
    },
    {
     "name": "stderr",
     "output_type": "stream",
     "text": [
      "0: 480x640 1 bench, 41.0ms\n",
      "Speed: 5.0ms preprocess, 41.0ms inference, 1.0ms postprocess per image at shape (1, 3, 480, 640)\n",
      "\n",
      "0: 480x640 1 bench, 52.0ms\n",
      "Speed: 7.0ms preprocess, 52.0ms inference, 2.0ms postprocess per image at shape (1, 3, 480, 640)\n",
      "\n",
      "0: 480x640 1 bench, 44.0ms\n",
      "Speed: 5.0ms preprocess, 44.0ms inference, 2.0ms postprocess per image at shape (1, 3, 480, 640)\n",
      "\n"
     ]
    },
    {
     "name": "stdout",
     "output_type": "stream",
     "text": [
      "deepsort output []\n",
      "in while loop\n",
      "deepsort output []\n",
      "in while loop\n",
      "deepsort output []\n",
      "in while loop\n"
     ]
    },
    {
     "name": "stderr",
     "output_type": "stream",
     "text": [
      "0: 480x640 1 bench, 63.0ms\n",
      "Speed: 5.0ms preprocess, 63.0ms inference, 2.0ms postprocess per image at shape (1, 3, 480, 640)\n",
      "\n",
      "0: 480x640 1 bench, 44.0ms\n",
      "Speed: 5.0ms preprocess, 44.0ms inference, 3.0ms postprocess per image at shape (1, 3, 480, 640)\n",
      "\n",
      "0: 480x640 1 bench, 52.0ms\n",
      "Speed: 7.0ms preprocess, 52.0ms inference, 1.0ms postprocess per image at shape (1, 3, 480, 640)\n",
      "\n"
     ]
    },
    {
     "name": "stdout",
     "output_type": "stream",
     "text": [
      "deepsort output []\n",
      "in while loop\n",
      "deepsort output []\n",
      "in while loop\n",
      "deepsort output []\n",
      "in while loop\n"
     ]
    },
    {
     "name": "stderr",
     "output_type": "stream",
     "text": [
      "0: 480x640 1 bench, 47.0ms\n",
      "Speed: 5.0ms preprocess, 47.0ms inference, 2.0ms postprocess per image at shape (1, 3, 480, 640)\n",
      "\n",
      "0: 480x640 1 bench, 62.0ms\n",
      "Speed: 5.0ms preprocess, 62.0ms inference, 2.0ms postprocess per image at shape (1, 3, 480, 640)\n",
      "\n",
      "0: 480x640 1 bench, 45.0ms\n",
      "Speed: 5.0ms preprocess, 45.0ms inference, 3.0ms postprocess per image at shape (1, 3, 480, 640)\n"
     ]
    },
    {
     "name": "stdout",
     "output_type": "stream",
     "text": [
      "deepsort output []\n",
      "in while loop\n",
      "deepsort output []\n",
      "in while loop\n",
      "deepsort output []\n"
     ]
    },
    {
     "name": "stderr",
     "output_type": "stream",
     "text": [
      "\n",
      "0: 480x640 1 bench, 49.0ms\n",
      "Speed: 7.0ms preprocess, 49.0ms inference, 1.0ms postprocess per image at shape (1, 3, 480, 640)\n",
      "\n",
      "0: 480x640 1 bench, 43.0ms\n",
      "Speed: 5.0ms preprocess, 43.0ms inference, 2.0ms postprocess per image at shape (1, 3, 480, 640)\n",
      "\n"
     ]
    },
    {
     "name": "stdout",
     "output_type": "stream",
     "text": [
      "in while loop\n",
      "deepsort output []\n",
      "in while loop\n",
      "deepsort output []\n",
      "in while loop\n"
     ]
    },
    {
     "name": "stderr",
     "output_type": "stream",
     "text": [
      "0: 480x640 1 bench, 58.0ms\n",
      "Speed: 6.0ms preprocess, 58.0ms inference, 2.0ms postprocess per image at shape (1, 3, 480, 640)\n",
      "\n",
      "0: 480x640 1 bench, 41.0ms\n",
      "Speed: 5.0ms preprocess, 41.0ms inference, 2.0ms postprocess per image at shape (1, 3, 480, 640)\n",
      "\n",
      "0: 480x640 1 bench, 46.0ms\n",
      "Speed: 8.0ms preprocess, 46.0ms inference, 2.0ms postprocess per image at shape (1, 3, 480, 640)\n",
      "\n"
     ]
    },
    {
     "name": "stdout",
     "output_type": "stream",
     "text": [
      "deepsort output []\n",
      "in while loop\n",
      "deepsort output []\n",
      "in while loop\n",
      "deepsort output []\n",
      "in while loop\n"
     ]
    },
    {
     "name": "stderr",
     "output_type": "stream",
     "text": [
      "0: 480x640 1 bench, 43.0ms\n",
      "Speed: 8.0ms preprocess, 43.0ms inference, 2.0ms postprocess per image at shape (1, 3, 480, 640)\n",
      "\n",
      "0: 480x640 1 bench, 60.0ms\n",
      "Speed: 5.0ms preprocess, 60.0ms inference, 2.0ms postprocess per image at shape (1, 3, 480, 640)\n",
      "\n",
      "0: 480x640 1 bench, 49.0ms\n"
     ]
    },
    {
     "name": "stdout",
     "output_type": "stream",
     "text": [
      "deepsort output []\n",
      "in while loop\n",
      "deepsort output []\n",
      "in while loop\n"
     ]
    },
    {
     "name": "stderr",
     "output_type": "stream",
     "text": [
      "Speed: 5.0ms preprocess, 49.0ms inference, 4.0ms postprocess per image at shape (1, 3, 480, 640)\n",
      "\n",
      "0: 480x640 1 bench, 51.0ms\n",
      "Speed: 7.0ms preprocess, 51.0ms inference, 2.0ms postprocess per image at shape (1, 3, 480, 640)\n",
      "\n",
      "0: 480x640 1 bench, 41.0ms\n",
      "Speed: 5.0ms preprocess, 41.0ms inference, 2.0ms postprocess per image at shape (1, 3, 480, 640)\n",
      "\n"
     ]
    },
    {
     "name": "stdout",
     "output_type": "stream",
     "text": [
      "deepsort output []\n",
      "in while loop\n",
      "deepsort output []\n",
      "in while loop\n",
      "deepsort output []\n",
      "in while loop\n"
     ]
    },
    {
     "name": "stderr",
     "output_type": "stream",
     "text": [
      "0: 480x640 1 bench, 59.0ms\n",
      "Speed: 9.0ms preprocess, 59.0ms inference, 2.0ms postprocess per image at shape (1, 3, 480, 640)\n",
      "\n",
      "0: 480x640 1 bench, 42.0ms\n",
      "Speed: 5.0ms preprocess, 42.0ms inference, 2.0ms postprocess per image at shape (1, 3, 480, 640)\n",
      "\n",
      "0: 480x640 1 bench, 52.0ms\n",
      "Speed: 6.5ms preprocess, 52.0ms inference, 3.0ms postprocess per image at shape (1, 3, 480, 640)\n",
      "\n"
     ]
    },
    {
     "name": "stdout",
     "output_type": "stream",
     "text": [
      "deepsort output []\n",
      "in while loop\n",
      "deepsort output []\n",
      "in while loop\n",
      "deepsort output []\n",
      "in while loop\n"
     ]
    },
    {
     "name": "stderr",
     "output_type": "stream",
     "text": [
      "0: 480x640 1 bench, 44.0ms\n",
      "Speed: 6.0ms preprocess, 44.0ms inference, 2.0ms postprocess per image at shape (1, 3, 480, 640)\n",
      "\n",
      "0: 480x640 1 bench, 60.0ms\n",
      "Speed: 5.0ms preprocess, 60.0ms inference, 3.0ms postprocess per image at shape (1, 3, 480, 640)\n",
      "\n",
      "0: 480x640 1 bench, 40.0ms\n",
      "Speed: 5.0ms preprocess, 40.0ms inference, 2.0ms postprocess per image at shape (1, 3, 480, 640)\n",
      "\n"
     ]
    },
    {
     "name": "stdout",
     "output_type": "stream",
     "text": [
      "deepsort output []\n",
      "in while loop\n",
      "deepsort output []\n",
      "in while loop\n",
      "deepsort output []\n",
      "in while loop\n"
     ]
    },
    {
     "name": "stderr",
     "output_type": "stream",
     "text": [
      "0: 480x640 1 bench, 55.0ms\n",
      "Speed: 7.0ms preprocess, 55.0ms inference, 2.0ms postprocess per image at shape (1, 3, 480, 640)\n",
      "\n",
      "0: 480x640 1 bench, 44.0ms\n",
      "Speed: 6.0ms preprocess, 44.0ms inference, 2.0ms postprocess per image at shape (1, 3, 480, 640)\n",
      "\n",
      "0: 480x640 1 bench, 44.1ms\n",
      "Speed: 5.0ms preprocess, 44.1ms inference, 1.9ms postprocess per image at shape (1, 3, 480, 640)\n",
      "\n"
     ]
    },
    {
     "name": "stdout",
     "output_type": "stream",
     "text": [
      "deepsort output []\n",
      "in while loop\n",
      "deepsort output []\n",
      "in while loop\n",
      "deepsort output []\n",
      "in while loop\n"
     ]
    },
    {
     "name": "stderr",
     "output_type": "stream",
     "text": [
      "0: 480x640 1 bench, 40.0ms\n",
      "Speed: 6.0ms preprocess, 40.0ms inference, 2.0ms postprocess per image at shape (1, 3, 480, 640)\n",
      "\n",
      "0: 480x640 1 bench, 60.4ms\n",
      "Speed: 5.0ms preprocess, 60.4ms inference, 2.0ms postprocess per image at shape (1, 3, 480, 640)\n",
      "\n",
      "0: 480x640 1 bench, 40.5ms\n",
      "Speed: 5.0ms preprocess, 40.5ms inference, 2.5ms postprocess per image at shape (1, 3, 480, 640)\n",
      "\n"
     ]
    },
    {
     "name": "stdout",
     "output_type": "stream",
     "text": [
      "deepsort output []\n",
      "in while loop\n",
      "deepsort output []\n",
      "in while loop\n",
      "deepsort output []\n",
      "in while loop\n"
     ]
    },
    {
     "name": "stderr",
     "output_type": "stream",
     "text": [
      "0: 480x640 1 bench, 60.6ms\n",
      "Speed: 5.0ms preprocess, 60.6ms inference, 2.0ms postprocess per image at shape (1, 3, 480, 640)\n",
      "\n",
      "0: 480x640 1 bench, 41.9ms\n",
      "Speed: 5.6ms preprocess, 41.9ms inference, 2.0ms postprocess per image at shape (1, 3, 480, 640)\n",
      "\n",
      "0: 480x640 1 bench, 62.3ms\n",
      "Speed: 5.0ms preprocess, 62.3ms inference, 2.0ms postprocess per image at shape (1, 3, 480, 640)\n",
      "\n"
     ]
    },
    {
     "name": "stdout",
     "output_type": "stream",
     "text": [
      "deepsort output []\n",
      "in while loop\n",
      "deepsort output []\n",
      "in while loop\n",
      "deepsort output []\n",
      "in while loop\n"
     ]
    },
    {
     "name": "stderr",
     "output_type": "stream",
     "text": [
      "0: 480x640 1 bench, 43.2ms\n",
      "Speed: 6.0ms preprocess, 43.2ms inference, 1.0ms postprocess per image at shape (1, 3, 480, 640)\n",
      "\n",
      "0: 480x640 1 bench, 59.8ms\n",
      "Speed: 5.0ms preprocess, 59.8ms inference, 2.0ms postprocess per image at shape (1, 3, 480, 640)\n",
      "\n",
      "0: 480x640 1 bench, 41.0ms\n",
      "Speed: 5.0ms preprocess, 41.0ms inference, 2.0ms postprocess per image at shape (1, 3, 480, 640)\n",
      "\n"
     ]
    },
    {
     "name": "stdout",
     "output_type": "stream",
     "text": [
      "deepsort output []\n",
      "in while loop\n",
      "deepsort output []\n",
      "in while loop\n",
      "deepsort output []\n",
      "in while loop\n"
     ]
    },
    {
     "name": "stderr",
     "output_type": "stream",
     "text": [
      "0: 480x640 1 bench, 60.5ms\n",
      "Speed: 5.0ms preprocess, 60.5ms inference, 2.0ms postprocess per image at shape (1, 3, 480, 640)\n",
      "\n",
      "0: 480x640 1 bench, 44.0ms\n",
      "Speed: 5.0ms preprocess, 44.0ms inference, 2.0ms postprocess per image at shape (1, 3, 480, 640)\n",
      "\n",
      "0: 480x640 1 bench, 59.0ms\n",
      "Speed: 5.3ms preprocess, 59.0ms inference, 2.0ms postprocess per image at shape (1, 3, 480, 640)\n"
     ]
    },
    {
     "name": "stdout",
     "output_type": "stream",
     "text": [
      "deepsort output []\n",
      "in while loop\n",
      "deepsort output []\n",
      "in while loop\n",
      "deepsort output []\n",
      "in while loop\n"
     ]
    },
    {
     "name": "stderr",
     "output_type": "stream",
     "text": [
      "\n",
      "0: 480x640 1 bench, 43.0ms\n",
      "Speed: 5.0ms preprocess, 43.0ms inference, 2.0ms postprocess per image at shape (1, 3, 480, 640)\n",
      "\n",
      "0: 480x640 1 bench, 60.0ms\n",
      "Speed: 5.0ms preprocess, 60.0ms inference, 2.0ms postprocess per image at shape (1, 3, 480, 640)\n",
      "\n",
      "0: 480x640 1 bench, 44.5ms\n",
      "Speed: 5.0ms preprocess, 44.5ms inference, 2.5ms postprocess per image at shape (1, 3, 480, 640)\n",
      "\n"
     ]
    },
    {
     "name": "stdout",
     "output_type": "stream",
     "text": [
      "deepsort output []\n",
      "in while loop\n",
      "deepsort output []\n",
      "in while loop\n",
      "deepsort output []\n",
      "in while loop\n"
     ]
    },
    {
     "name": "stderr",
     "output_type": "stream",
     "text": [
      "0: 480x640 1 bench, 63.4ms\n",
      "Speed: 5.0ms preprocess, 63.4ms inference, 2.0ms postprocess per image at shape (1, 3, 480, 640)\n",
      "\n",
      "0: 480x640 1 bench, 40.4ms\n",
      "Speed: 5.0ms preprocess, 40.4ms inference, 2.0ms postprocess per image at shape (1, 3, 480, 640)\n",
      "\n",
      "0: 480x640 1 bench, 60.6ms\n",
      "Speed: 5.0ms preprocess, 60.6ms inference, 2.0ms postprocess per image at shape (1, 3, 480, 640)\n",
      "\n"
     ]
    },
    {
     "name": "stdout",
     "output_type": "stream",
     "text": [
      "deepsort output []\n",
      "in while loop\n",
      "deepsort output []\n",
      "in while loop\n",
      "deepsort output []\n",
      "in while loop\n"
     ]
    },
    {
     "name": "stderr",
     "output_type": "stream",
     "text": [
      "0: 480x640 1 bench, 43.0ms\n",
      "Speed: 5.0ms preprocess, 43.0ms inference, 2.0ms postprocess per image at shape (1, 3, 480, 640)\n",
      "\n",
      "0: 480x640 1 bench, 56.0ms\n",
      "Speed: 6.0ms preprocess, 56.0ms inference, 2.0ms postprocess per image at shape (1, 3, 480, 640)\n",
      "\n",
      "0: 480x640 1 bench, 41.6ms\n",
      "Speed: 5.0ms preprocess, 41.6ms inference, 1.0ms postprocess per image at shape (1, 3, 480, 640)\n"
     ]
    },
    {
     "name": "stdout",
     "output_type": "stream",
     "text": [
      "deepsort output []\n",
      "in while loop\n",
      "deepsort output []\n",
      "in while loop\n",
      "deepsort output []\n",
      "in while loop\n"
     ]
    },
    {
     "name": "stderr",
     "output_type": "stream",
     "text": [
      "\n",
      "0: 480x640 1 bench, 45.2ms\n",
      "Speed: 7.0ms preprocess, 45.2ms inference, 2.0ms postprocess per image at shape (1, 3, 480, 640)\n",
      "\n",
      "0: 480x640 1 bench, 41.0ms\n",
      "Speed: 5.0ms preprocess, 41.0ms inference, 4.0ms postprocess per image at shape (1, 3, 480, 640)\n",
      "\n",
      "0: 480x640 1 bench, 61.0ms\n",
      "Speed: 5.0ms preprocess, 61.0ms inference, 2.0ms postprocess per image at shape (1, 3, 480, 640)\n",
      "\n"
     ]
    },
    {
     "name": "stdout",
     "output_type": "stream",
     "text": [
      "deepsort output []\n",
      "in while loop\n",
      "deepsort output []\n",
      "in while loop\n",
      "deepsort output []\n",
      "in while loop\n"
     ]
    },
    {
     "name": "stderr",
     "output_type": "stream",
     "text": [
      "0: 480x640 1 bench, 41.8ms\n",
      "Speed: 6.0ms preprocess, 41.8ms inference, 2.0ms postprocess per image at shape (1, 3, 480, 640)\n",
      "\n",
      "0: 480x640 1 bench, 58.2ms\n",
      "Speed: 6.5ms preprocess, 58.2ms inference, 2.0ms postprocess per image at shape (1, 3, 480, 640)\n",
      "\n",
      "0: 480x640 1 bench, 41.0ms\n",
      "Speed: 5.0ms preprocess, 41.0ms inference, 3.0ms postprocess per image at shape (1, 3, 480, 640)\n",
      "\n"
     ]
    },
    {
     "name": "stdout",
     "output_type": "stream",
     "text": [
      "deepsort output []\n",
      "in while loop\n",
      "deepsort output []\n",
      "in while loop\n",
      "deepsort output []\n",
      "in while loop\n"
     ]
    },
    {
     "name": "stderr",
     "output_type": "stream",
     "text": [
      "0: 480x640 1 bench, 45.0ms\n",
      "Speed: 6.0ms preprocess, 45.0ms inference, 2.0ms postprocess per image at shape (1, 3, 480, 640)\n",
      "\n",
      "0: 480x640 1 bench, 43.0ms\n",
      "Speed: 5.0ms preprocess, 43.0ms inference, 2.0ms postprocess per image at shape (1, 3, 480, 640)\n",
      "\n",
      "0: 480x640 1 bench, 59.8ms\n",
      "Speed: 5.0ms preprocess, 59.8ms inference, 2.0ms postprocess per image at shape (1, 3, 480, 640)\n",
      "\n"
     ]
    },
    {
     "name": "stdout",
     "output_type": "stream",
     "text": [
      "deepsort output []\n",
      "in while loop\n",
      "deepsort output []\n",
      "in while loop\n",
      "deepsort output []\n",
      "in while loop\n"
     ]
    },
    {
     "name": "stderr",
     "output_type": "stream",
     "text": [
      "0: 480x640 1 bench, 43.0ms\n",
      "Speed: 6.0ms preprocess, 43.0ms inference, 4.0ms postprocess per image at shape (1, 3, 480, 640)\n",
      "\n",
      "0: 480x640 1 bench, 60.0ms\n",
      "Speed: 5.0ms preprocess, 60.0ms inference, 2.0ms postprocess per image at shape (1, 3, 480, 640)\n",
      "\n",
      "0: 480x640 1 bench, 41.0ms\n",
      "Speed: 5.0ms preprocess, 41.0ms inference, 2.0ms postprocess per image at shape (1, 3, 480, 640)\n"
     ]
    },
    {
     "name": "stdout",
     "output_type": "stream",
     "text": [
      "deepsort output []\n",
      "in while loop\n",
      "deepsort output []\n",
      "in while loop\n",
      "deepsort output []\n",
      "in while loop\n"
     ]
    },
    {
     "name": "stderr",
     "output_type": "stream",
     "text": [
      "\n",
      "0: 480x640 1 bench, 46.0ms\n",
      "Speed: 7.0ms preprocess, 46.0ms inference, 2.0ms postprocess per image at shape (1, 3, 480, 640)\n",
      "\n",
      "0: 480x640 1 bench, 42.5ms\n",
      "Speed: 5.0ms preprocess, 42.5ms inference, 2.0ms postprocess per image at shape (1, 3, 480, 640)\n",
      "\n",
      "0: 480x640 1 bench, 56.0ms\n",
      "Speed: 6.0ms preprocess, 56.0ms inference, 2.0ms postprocess per image at shape (1, 3, 480, 640)\n",
      "\n"
     ]
    },
    {
     "name": "stdout",
     "output_type": "stream",
     "text": [
      "deepsort output []\n",
      "in while loop\n",
      "deepsort output []\n",
      "in while loop\n",
      "deepsort output []\n",
      "in while loop\n"
     ]
    },
    {
     "name": "stderr",
     "output_type": "stream",
     "text": [
      "0: 480x640 1 bench, 41.0ms\n",
      "Speed: 5.0ms preprocess, 41.0ms inference, 2.0ms postprocess per image at shape (1, 3, 480, 640)\n",
      "\n",
      "0: 480x640 1 bench, 45.0ms\n",
      "Speed: 6.0ms preprocess, 45.0ms inference, 2.0ms postprocess per image at shape (1, 3, 480, 640)\n",
      "\n",
      "0: 480x640 1 bench, 42.0ms\n",
      "Speed: 5.0ms preprocess, 42.0ms inference, 3.0ms postprocess per image at shape (1, 3, 480, 640)\n",
      "\n"
     ]
    },
    {
     "name": "stdout",
     "output_type": "stream",
     "text": [
      "deepsort output []\n",
      "in while loop\n",
      "deepsort output []\n",
      "in while loop\n",
      "deepsort output []\n",
      "in while loop\n"
     ]
    },
    {
     "name": "stderr",
     "output_type": "stream",
     "text": [
      "0: 480x640 1 bench, 53.0ms\n",
      "Speed: 7.0ms preprocess, 53.0ms inference, 2.0ms postprocess per image at shape (1, 3, 480, 640)\n",
      "\n",
      "0: 480x640 1 bench, 42.0ms\n",
      "Speed: 6.0ms preprocess, 42.0ms inference, 1.0ms postprocess per image at shape (1, 3, 480, 640)\n",
      "\n",
      "0: 480x640 1 bench, 43.6ms\n",
      "Speed: 5.0ms preprocess, 43.6ms inference, 2.0ms postprocess per image at shape (1, 3, 480, 640)\n",
      "\n"
     ]
    },
    {
     "name": "stdout",
     "output_type": "stream",
     "text": [
      "deepsort output []\n",
      "in while loop\n",
      "deepsort output []\n",
      "in while loop\n",
      "deepsort output []\n",
      "in while loop\n"
     ]
    },
    {
     "name": "stderr",
     "output_type": "stream",
     "text": [
      "0: 480x640 1 bench, 40.0ms\n",
      "Speed: 6.0ms preprocess, 40.0ms inference, 3.0ms postprocess per image at shape (1, 3, 480, 640)\n",
      "\n",
      "0: 480x640 1 bench, 59.0ms\n",
      "Speed: 6.0ms preprocess, 59.0ms inference, 2.0ms postprocess per image at shape (1, 3, 480, 640)\n",
      "\n",
      "0: 480x640 1 bench, 43.0ms\n"
     ]
    },
    {
     "name": "stdout",
     "output_type": "stream",
     "text": [
      "deepsort output []\n",
      "in while loop\n",
      "deepsort output []\n",
      "in while loop\n"
     ]
    },
    {
     "name": "stderr",
     "output_type": "stream",
     "text": [
      "Speed: 5.0ms preprocess, 43.0ms inference, 2.0ms postprocess per image at shape (1, 3, 480, 640)\n",
      "\n",
      "0: 480x640 1 bench, 43.0ms\n",
      "Speed: 7.0ms preprocess, 43.0ms inference, 2.0ms postprocess per image at shape (1, 3, 480, 640)\n",
      "\n",
      "0: 480x640 1 bench, 42.0ms\n",
      "Speed: 5.0ms preprocess, 42.0ms inference, 2.0ms postprocess per image at shape (1, 3, 480, 640)\n",
      "\n"
     ]
    },
    {
     "name": "stdout",
     "output_type": "stream",
     "text": [
      "deepsort output []\n",
      "in while loop\n",
      "deepsort output []\n",
      "in while loop\n",
      "deepsort output []\n",
      "in while loop\n"
     ]
    },
    {
     "name": "stderr",
     "output_type": "stream",
     "text": [
      "0: 480x640 1 bench, 57.0ms\n",
      "Speed: 6.0ms preprocess, 57.0ms inference, 2.0ms postprocess per image at shape (1, 3, 480, 640)\n",
      "\n",
      "0: 480x640 1 bench, 40.0ms\n",
      "Speed: 5.0ms preprocess, 40.0ms inference, 2.0ms postprocess per image at shape (1, 3, 480, 640)\n",
      "\n",
      "0: 480x640 1 bench, 48.0ms\n",
      "Speed: 6.0ms preprocess, 48.0ms inference, 4.0ms postprocess per image at shape (1, 3, 480, 640)\n",
      "\n"
     ]
    },
    {
     "name": "stdout",
     "output_type": "stream",
     "text": [
      "deepsort output []\n",
      "in while loop\n",
      "deepsort output []\n",
      "in while loop\n",
      "deepsort output []\n",
      "in while loop\n"
     ]
    },
    {
     "name": "stderr",
     "output_type": "stream",
     "text": [
      "0: 480x640 1 bench, 47.0ms\n",
      "Speed: 5.0ms preprocess, 47.0ms inference, 2.0ms postprocess per image at shape (1, 3, 480, 640)\n",
      "\n",
      "0: 480x640 1 bench, 60.0ms\n",
      "Speed: 6.0ms preprocess, 60.0ms inference, 2.0ms postprocess per image at shape (1, 3, 480, 640)\n",
      "\n",
      "0: 480x640 1 bench, 42.0ms\n",
      "Speed: 6.0ms preprocess, 42.0ms inference, 2.0ms postprocess per image at shape (1, 3, 480, 640)\n"
     ]
    },
    {
     "name": "stdout",
     "output_type": "stream",
     "text": [
      "deepsort output []\n",
      "in while loop\n",
      "deepsort output []\n",
      "in while loop\n",
      "deepsort output []\n",
      "in while loop\n"
     ]
    },
    {
     "name": "stderr",
     "output_type": "stream",
     "text": [
      "\n",
      "0: 480x640 1 bench, 52.0ms\n",
      "Speed: 7.0ms preprocess, 52.0ms inference, 2.0ms postprocess per image at shape (1, 3, 480, 640)\n",
      "\n",
      "0: 480x640 1 bench, 42.0ms\n",
      "Speed: 5.0ms preprocess, 42.0ms inference, 3.0ms postprocess per image at shape (1, 3, 480, 640)\n",
      "\n",
      "0: 480x640 1 bench, 64.0ms\n",
      "Speed: 5.0ms preprocess, 64.0ms inference, 2.0ms postprocess per image at shape (1, 3, 480, 640)\n",
      "\n"
     ]
    },
    {
     "name": "stdout",
     "output_type": "stream",
     "text": [
      "deepsort output []\n",
      "in while loop\n",
      "deepsort output []\n",
      "in while loop\n",
      "deepsort output []\n",
      "in while loop\n"
     ]
    },
    {
     "name": "stderr",
     "output_type": "stream",
     "text": [
      "0: 480x640 1 bench, 44.0ms\n",
      "Speed: 5.0ms preprocess, 44.0ms inference, 3.0ms postprocess per image at shape (1, 3, 480, 640)\n",
      "\n",
      "0: 480x640 1 bench, 56.0ms\n",
      "Speed: 7.0ms preprocess, 56.0ms inference, 1.0ms postprocess per image at shape (1, 3, 480, 640)\n",
      "\n",
      "0: 480x640 1 bench, 40.6ms\n",
      "Speed: 5.0ms preprocess, 40.6ms inference, 2.0ms postprocess per image at shape (1, 3, 480, 640)\n",
      "\n"
     ]
    },
    {
     "name": "stdout",
     "output_type": "stream",
     "text": [
      "deepsort output []\n",
      "in while loop\n",
      "deepsort output []\n",
      "in while loop\n",
      "deepsort output []\n",
      "in while loop\n"
     ]
    },
    {
     "name": "stderr",
     "output_type": "stream",
     "text": [
      "0: 480x640 1 bench, 43.0ms\n",
      "Speed: 6.0ms preprocess, 43.0ms inference, 3.0ms postprocess per image at shape (1, 3, 480, 640)\n",
      "\n",
      "0: 480x640 1 bench, 41.0ms\n",
      "Speed: 5.0ms preprocess, 41.0ms inference, 2.0ms postprocess per image at shape (1, 3, 480, 640)\n",
      "\n",
      "0: 480x640 1 bench, 57.0ms\n"
     ]
    },
    {
     "name": "stdout",
     "output_type": "stream",
     "text": [
      "deepsort output []\n",
      "in while loop\n",
      "deepsort output []\n",
      "in while loop\n"
     ]
    },
    {
     "name": "stderr",
     "output_type": "stream",
     "text": [
      "Speed: 7.0ms preprocess, 57.0ms inference, 2.0ms postprocess per image at shape (1, 3, 480, 640)\n",
      "\n",
      "0: 480x640 1 bench, 41.0ms\n",
      "Speed: 5.0ms preprocess, 41.0ms inference, 2.0ms postprocess per image at shape (1, 3, 480, 640)\n",
      "\n",
      "0: 480x640 1 bench, 45.0ms\n",
      "Speed: 7.0ms preprocess, 45.0ms inference, 2.0ms postprocess per image at shape (1, 3, 480, 640)\n",
      "\n"
     ]
    },
    {
     "name": "stdout",
     "output_type": "stream",
     "text": [
      "deepsort output []\n",
      "in while loop\n",
      "deepsort output []\n",
      "in while loop\n",
      "deepsort output []\n",
      "in while loop\n"
     ]
    },
    {
     "name": "stderr",
     "output_type": "stream",
     "text": [
      "0: 480x640 1 bench, 41.0ms\n",
      "Speed: 7.0ms preprocess, 41.0ms inference, 2.0ms postprocess per image at shape (1, 3, 480, 640)\n",
      "\n",
      "0: 480x640 1 bench, 57.4ms\n",
      "Speed: 6.0ms preprocess, 57.4ms inference, 1.5ms postprocess per image at shape (1, 3, 480, 640)\n",
      "\n",
      "0: 480x640 1 bench, 47.0ms\n",
      "Speed: 5.0ms preprocess, 47.0ms inference, 2.0ms postprocess per image at shape (1, 3, 480, 640)\n",
      "\n"
     ]
    },
    {
     "name": "stdout",
     "output_type": "stream",
     "text": [
      "deepsort output []\n",
      "in while loop\n",
      "deepsort output []\n",
      "in while loop\n",
      "deepsort output []\n",
      "in while loop\n"
     ]
    },
    {
     "name": "stderr",
     "output_type": "stream",
     "text": [
      "0: 480x640 1 bench, 44.0ms\n",
      "Speed: 7.0ms preprocess, 44.0ms inference, 2.0ms postprocess per image at shape (1, 3, 480, 640)\n",
      "\n",
      "0: 480x640 1 bench, 40.0ms\n",
      "Speed: 5.0ms preprocess, 40.0ms inference, 2.0ms postprocess per image at shape (1, 3, 480, 640)\n",
      "\n",
      "0: 480x640 1 bench, 57.0ms\n",
      "Speed: 6.0ms preprocess, 57.0ms inference, 2.0ms postprocess per image at shape (1, 3, 480, 640)\n",
      "\n"
     ]
    },
    {
     "name": "stdout",
     "output_type": "stream",
     "text": [
      "deepsort output []\n",
      "in while loop\n",
      "deepsort output []\n",
      "in while loop\n",
      "deepsort output []\n",
      "in while loop\n"
     ]
    },
    {
     "name": "stderr",
     "output_type": "stream",
     "text": [
      "0: 480x640 1 bench, 42.6ms\n",
      "Speed: 5.0ms preprocess, 42.6ms inference, 2.0ms postprocess per image at shape (1, 3, 480, 640)\n",
      "\n",
      "0: 480x640 1 bench, 50.0ms\n",
      "Speed: 8.0ms preprocess, 50.0ms inference, 2.0ms postprocess per image at shape (1, 3, 480, 640)\n",
      "\n",
      "0: 480x640 1 bench, 41.0ms\n",
      "Speed: 5.0ms preprocess, 41.0ms inference, 2.0ms postprocess per image at shape (1, 3, 480, 640)\n",
      "\n"
     ]
    },
    {
     "name": "stdout",
     "output_type": "stream",
     "text": [
      "deepsort output []\n",
      "in while loop\n",
      "deepsort output []\n",
      "in while loop\n",
      "deepsort output []\n",
      "in while loop\n"
     ]
    },
    {
     "name": "stderr",
     "output_type": "stream",
     "text": [
      "0: 480x640 1 bench, 66.0ms\n",
      "Speed: 5.0ms preprocess, 66.0ms inference, 3.0ms postprocess per image at shape (1, 3, 480, 640)\n",
      "\n",
      "0: 480x640 1 bench, 41.2ms\n",
      "Speed: 5.8ms preprocess, 41.2ms inference, 1.8ms postprocess per image at shape (1, 3, 480, 640)\n",
      "\n",
      "0: 480x640 1 bench, 52.0ms\n",
      "Speed: 7.0ms preprocess, 52.0ms inference, 2.0ms postprocess per image at shape (1, 3, 480, 640)\n",
      "\n"
     ]
    },
    {
     "name": "stdout",
     "output_type": "stream",
     "text": [
      "deepsort output []\n",
      "in while loop\n",
      "deepsort output []\n",
      "in while loop\n",
      "deepsort output []\n",
      "in while loop\n"
     ]
    },
    {
     "name": "stderr",
     "output_type": "stream",
     "text": [
      "0: 480x640 1 bench, 42.5ms\n",
      "Speed: 5.0ms preprocess, 42.5ms inference, 3.0ms postprocess per image at shape (1, 3, 480, 640)\n",
      "\n",
      "0: 480x640 1 bench, 42.0ms\n",
      "Speed: 6.0ms preprocess, 42.0ms inference, 2.0ms postprocess per image at shape (1, 3, 480, 640)\n",
      "\n",
      "0: 480x640 1 bench, 40.0ms\n",
      "Speed: 5.0ms preprocess, 40.0ms inference, 2.0ms postprocess per image at shape (1, 3, 480, 640)\n",
      "\n"
     ]
    },
    {
     "name": "stdout",
     "output_type": "stream",
     "text": [
      "deepsort output []\n",
      "in while loop\n",
      "deepsort output []\n",
      "in while loop\n",
      "deepsort output []\n",
      "in while loop\n"
     ]
    },
    {
     "name": "stderr",
     "output_type": "stream",
     "text": [
      "0: 480x640 1 bench, 46.0ms\n",
      "Speed: 7.0ms preprocess, 46.0ms inference, 2.0ms postprocess per image at shape (1, 3, 480, 640)\n",
      "\n",
      "0: 480x640 1 bench, 40.0ms\n",
      "Speed: 5.0ms preprocess, 40.0ms inference, 2.0ms postprocess per image at shape (1, 3, 480, 640)\n",
      "\n",
      "0: 480x640 1 bench, 60.0ms\n",
      "Speed: 7.0ms preprocess, 60.0ms inference, 2.0ms postprocess per image at shape (1, 3, 480, 640)\n",
      "\n"
     ]
    },
    {
     "name": "stdout",
     "output_type": "stream",
     "text": [
      "deepsort output []\n",
      "in while loop\n",
      "deepsort output []\n",
      "in while loop\n",
      "deepsort output []\n",
      "in while loop\n"
     ]
    },
    {
     "name": "stderr",
     "output_type": "stream",
     "text": [
      "0: 480x640 1 bench, 45.5ms\n",
      "Speed: 6.0ms preprocess, 45.5ms inference, 2.0ms postprocess per image at shape (1, 3, 480, 640)\n",
      "\n",
      "0: 480x640 1 bench, 42.0ms\n",
      "Speed: 5.0ms preprocess, 42.0ms inference, 2.0ms postprocess per image at shape (1, 3, 480, 640)\n",
      "\n",
      "0: 480x640 1 bench, 41.0ms\n",
      "Speed: 5.0ms preprocess, 41.0ms inference, 3.0ms postprocess per image at shape (1, 3, 480, 640)\n",
      "\n"
     ]
    },
    {
     "name": "stdout",
     "output_type": "stream",
     "text": [
      "deepsort output []\n",
      "in while loop\n",
      "deepsort output []\n",
      "in while loop\n",
      "deepsort output []\n",
      "in while loop\n"
     ]
    },
    {
     "name": "stderr",
     "output_type": "stream",
     "text": [
      "0: 480x640 1 bench, 49.0ms\n",
      "Speed: 7.0ms preprocess, 49.0ms inference, 2.0ms postprocess per image at shape (1, 3, 480, 640)\n",
      "\n",
      "0: 480x640 1 bench, 40.0ms\n",
      "Speed: 5.0ms preprocess, 40.0ms inference, 2.0ms postprocess per image at shape (1, 3, 480, 640)\n",
      "\n",
      "0: 480x640 1 bench, 61.0ms\n",
      "Speed: 5.0ms preprocess, 61.0ms inference, 1.0ms postprocess per image at shape (1, 3, 480, 640)\n",
      "\n"
     ]
    },
    {
     "name": "stdout",
     "output_type": "stream",
     "text": [
      "deepsort output []\n",
      "in while loop\n",
      "deepsort output []\n",
      "in while loop\n",
      "deepsort output []\n",
      "in while loop\n"
     ]
    },
    {
     "name": "stderr",
     "output_type": "stream",
     "text": [
      "0: 480x640 1 bench, 40.5ms\n",
      "Speed: 6.0ms preprocess, 40.5ms inference, 2.0ms postprocess per image at shape (1, 3, 480, 640)\n",
      "\n",
      "0: 480x640 1 bench, 52.0ms\n",
      "Speed: 6.0ms preprocess, 52.0ms inference, 2.0ms postprocess per image at shape (1, 3, 480, 640)\n",
      "\n",
      "0: 480x640 1 bench, 44.2ms\n",
      "Speed: 6.0ms preprocess, 44.2ms inference, 2.0ms postprocess per image at shape (1, 3, 480, 640)\n",
      "\n"
     ]
    },
    {
     "name": "stdout",
     "output_type": "stream",
     "text": [
      "deepsort output []\n",
      "in while loop\n",
      "deepsort output []\n",
      "in while loop\n",
      "deepsort output []\n",
      "in while loop\n"
     ]
    },
    {
     "name": "stderr",
     "output_type": "stream",
     "text": [
      "0: 480x640 1 bench, 65.0ms\n",
      "Speed: 5.0ms preprocess, 65.0ms inference, 2.0ms postprocess per image at shape (1, 3, 480, 640)\n",
      "\n",
      "0: 480x640 1 bench, 42.0ms\n",
      "Speed: 5.0ms preprocess, 42.0ms inference, 1.0ms postprocess per image at shape (1, 3, 480, 640)\n",
      "\n",
      "0: 480x640 1 bench, 46.0ms\n",
      "Speed: 7.0ms preprocess, 46.0ms inference, 1.0ms postprocess per image at shape (1, 3, 480, 640)\n",
      "\n"
     ]
    },
    {
     "name": "stdout",
     "output_type": "stream",
     "text": [
      "deepsort output []\n",
      "in while loop\n",
      "deepsort output []\n",
      "in while loop\n",
      "deepsort output []\n",
      "in while loop\n"
     ]
    },
    {
     "name": "stderr",
     "output_type": "stream",
     "text": [
      "0: 480x640 1 bench, 43.0ms\n",
      "Speed: 5.0ms preprocess, 43.0ms inference, 2.0ms postprocess per image at shape (1, 3, 480, 640)\n",
      "\n",
      "0: 480x640 1 bench, 53.0ms\n",
      "Speed: 7.0ms preprocess, 53.0ms inference, 2.0ms postprocess per image at shape (1, 3, 480, 640)\n",
      "\n",
      "0: 480x640 1 bench, 41.0ms\n",
      "Speed: 5.0ms preprocess, 41.0ms inference, 2.0ms postprocess per image at shape (1, 3, 480, 640)\n",
      "\n"
     ]
    },
    {
     "name": "stdout",
     "output_type": "stream",
     "text": [
      "deepsort output []\n",
      "in while loop\n",
      "deepsort output []\n",
      "in while loop\n",
      "deepsort output []\n",
      "in while loop\n"
     ]
    },
    {
     "name": "stderr",
     "output_type": "stream",
     "text": [
      "0: 480x640 1 bench, 61.0ms\n",
      "Speed: 5.0ms preprocess, 61.0ms inference, 1.0ms postprocess per image at shape (1, 3, 480, 640)\n",
      "\n",
      "0: 480x640 1 bench, 41.0ms\n",
      "Speed: 5.0ms preprocess, 41.0ms inference, 2.0ms postprocess per image at shape (1, 3, 480, 640)\n",
      "\n",
      "0: 480x640 1 bench, 44.0ms\n",
      "Speed: 7.0ms preprocess, 44.0ms inference, 2.0ms postprocess per image at shape (1, 3, 480, 640)\n"
     ]
    },
    {
     "name": "stdout",
     "output_type": "stream",
     "text": [
      "deepsort output []\n",
      "in while loop\n",
      "deepsort output []\n",
      "in while loop\n",
      "deepsort output []\n",
      "in while loop\n"
     ]
    },
    {
     "name": "stderr",
     "output_type": "stream",
     "text": [
      "\n",
      "0: 480x640 1 bench, 46.0ms\n",
      "Speed: 6.0ms preprocess, 46.0ms inference, 2.0ms postprocess per image at shape (1, 3, 480, 640)\n",
      "\n",
      "0: 480x640 1 bench, 52.0ms\n",
      "Speed: 7.0ms preprocess, 52.0ms inference, 1.0ms postprocess per image at shape (1, 3, 480, 640)\n",
      "\n",
      "0: 480x640 1 bench, 43.7ms\n",
      "Speed: 5.0ms preprocess, 43.7ms inference, 1.0ms postprocess per image at shape (1, 3, 480, 640)\n",
      "\n"
     ]
    },
    {
     "name": "stdout",
     "output_type": "stream",
     "text": [
      "deepsort output []\n",
      "in while loop\n",
      "deepsort output []\n",
      "in while loop\n",
      "deepsort output []\n",
      "in while loop\n"
     ]
    },
    {
     "name": "stderr",
     "output_type": "stream",
     "text": [
      "0: 480x640 1 bench, 61.0ms\n",
      "Speed: 5.0ms preprocess, 61.0ms inference, 2.0ms postprocess per image at shape (1, 3, 480, 640)\n",
      "\n",
      "0: 480x640 1 bench, 43.5ms\n",
      "Speed: 5.0ms preprocess, 43.5ms inference, 2.0ms postprocess per image at shape (1, 3, 480, 640)\n",
      "\n",
      "0: 480x640 1 bench, 47.0ms\n",
      "Speed: 7.0ms preprocess, 47.0ms inference, 2.0ms postprocess per image at shape (1, 3, 480, 640)\n",
      "\n"
     ]
    },
    {
     "name": "stdout",
     "output_type": "stream",
     "text": [
      "deepsort output []\n",
      "in while loop\n",
      "deepsort output []\n",
      "in while loop\n",
      "deepsort output []\n",
      "in while loop\n"
     ]
    },
    {
     "name": "stderr",
     "output_type": "stream",
     "text": [
      "0: 480x640 1 bench, 41.0ms\n",
      "Speed: 5.0ms preprocess, 41.0ms inference, 2.0ms postprocess per image at shape (1, 3, 480, 640)\n",
      "\n",
      "0: 480x640 1 bench, 59.0ms\n",
      "Speed: 5.0ms preprocess, 59.0ms inference, 2.0ms postprocess per image at shape (1, 3, 480, 640)\n",
      "\n",
      "0: 480x640 1 bench, 48.0ms\n",
      "Speed: 5.0ms preprocess, 48.0ms inference, 1.0ms postprocess per image at shape (1, 3, 480, 640)\n",
      "\n"
     ]
    },
    {
     "name": "stdout",
     "output_type": "stream",
     "text": [
      "deepsort output []\n",
      "in while loop\n",
      "deepsort output []\n",
      "in while loop\n",
      "deepsort output []\n",
      "in while loop\n"
     ]
    },
    {
     "name": "stderr",
     "output_type": "stream",
     "text": [
      "0: 480x640 1 bench, 53.0ms\n",
      "Speed: 6.0ms preprocess, 53.0ms inference, 3.0ms postprocess per image at shape (1, 3, 480, 640)\n",
      "\n",
      "0: 480x640 1 bench, 40.0ms\n",
      "Speed: 5.0ms preprocess, 40.0ms inference, 2.0ms postprocess per image at shape (1, 3, 480, 640)\n",
      "\n",
      "0: 480x640 1 bench, 59.0ms\n",
      "Speed: 6.0ms preprocess, 59.0ms inference, 1.0ms postprocess per image at shape (1, 3, 480, 640)\n",
      "\n"
     ]
    },
    {
     "name": "stdout",
     "output_type": "stream",
     "text": [
      "deepsort output []\n",
      "in while loop\n",
      "deepsort output []\n",
      "in while loop\n",
      "deepsort output []\n",
      "in while loop\n"
     ]
    },
    {
     "name": "stderr",
     "output_type": "stream",
     "text": [
      "0: 480x640 1 bench, 41.0ms\n",
      "Speed: 6.0ms preprocess, 41.0ms inference, 1.0ms postprocess per image at shape (1, 3, 480, 640)\n",
      "\n",
      "0: 480x640 1 bench, 50.0ms\n",
      "Speed: 7.0ms preprocess, 50.0ms inference, 2.0ms postprocess per image at shape (1, 3, 480, 640)\n",
      "\n",
      "0: 480x640 1 bench, 43.0ms\n",
      "Speed: 5.0ms preprocess, 43.0ms inference, 2.0ms postprocess per image at shape (1, 3, 480, 640)\n",
      "\n"
     ]
    },
    {
     "name": "stdout",
     "output_type": "stream",
     "text": [
      "deepsort output []\n",
      "in while loop\n",
      "deepsort output []\n",
      "in while loop\n",
      "deepsort output []\n",
      "in while loop\n"
     ]
    },
    {
     "name": "stderr",
     "output_type": "stream",
     "text": [
      "0: 480x640 1 bench, 62.0ms\n",
      "Speed: 5.0ms preprocess, 62.0ms inference, 4.0ms postprocess per image at shape (1, 3, 480, 640)\n",
      "\n",
      "0: 480x640 1 bench, 41.0ms\n",
      "Speed: 5.0ms preprocess, 41.0ms inference, 2.0ms postprocess per image at shape (1, 3, 480, 640)\n",
      "\n",
      "0: 480x640 1 bench, 46.0ms\n",
      "Speed: 7.0ms preprocess, 46.0ms inference, 2.0ms postprocess per image at shape (1, 3, 480, 640)\n",
      "\n"
     ]
    },
    {
     "name": "stdout",
     "output_type": "stream",
     "text": [
      "deepsort output []\n",
      "in while loop\n",
      "deepsort output []\n",
      "in while loop\n",
      "deepsort output []\n",
      "in while loop\n"
     ]
    },
    {
     "name": "stderr",
     "output_type": "stream",
     "text": [
      "0: 480x640 1 bench, 41.0ms\n",
      "Speed: 6.0ms preprocess, 41.0ms inference, 1.0ms postprocess per image at shape (1, 3, 480, 640)\n",
      "\n",
      "0: 480x640 1 bench, 58.0ms\n",
      "Speed: 6.0ms preprocess, 58.0ms inference, 2.0ms postprocess per image at shape (1, 3, 480, 640)\n",
      "\n",
      "0: 480x640 1 bench, 43.0ms\n",
      "Speed: 6.0ms preprocess, 43.0ms inference, 2.0ms postprocess per image at shape (1, 3, 480, 640)\n",
      "\n"
     ]
    },
    {
     "name": "stdout",
     "output_type": "stream",
     "text": [
      "deepsort output []\n",
      "in while loop\n",
      "deepsort output []\n",
      "in while loop\n",
      "deepsort output []\n",
      "in while loop\n"
     ]
    },
    {
     "name": "stderr",
     "output_type": "stream",
     "text": [
      "0: 480x640 1 bench, 45.0ms\n",
      "Speed: 7.0ms preprocess, 45.0ms inference, 2.0ms postprocess per image at shape (1, 3, 480, 640)\n",
      "\n",
      "0: 480x640 1 bench, 41.0ms\n",
      "Speed: 5.0ms preprocess, 41.0ms inference, 3.0ms postprocess per image at shape (1, 3, 480, 640)\n",
      "\n",
      "0: 480x640 1 bench, 51.0ms\n",
      "Speed: 7.0ms preprocess, 51.0ms inference, 1.0ms postprocess per image at shape (1, 3, 480, 640)\n",
      "\n"
     ]
    },
    {
     "name": "stdout",
     "output_type": "stream",
     "text": [
      "deepsort output []\n",
      "in while loop\n",
      "deepsort output []\n",
      "in while loop\n",
      "deepsort output []\n",
      "in while loop\n"
     ]
    },
    {
     "name": "stderr",
     "output_type": "stream",
     "text": [
      "0: 480x640 1 bench, 41.0ms\n",
      "Speed: 5.0ms preprocess, 41.0ms inference, 2.0ms postprocess per image at shape (1, 3, 480, 640)\n",
      "\n",
      "0: 480x640 1 bench, 70.0ms\n",
      "Speed: 5.0ms preprocess, 70.0ms inference, 3.0ms postprocess per image at shape (1, 3, 480, 640)\n",
      "\n",
      "0: 480x640 1 bench, 45.0ms\n",
      "Speed: 6.0ms preprocess, 45.0ms inference, 2.0ms postprocess per image at shape (1, 3, 480, 640)\n",
      "\n"
     ]
    },
    {
     "name": "stdout",
     "output_type": "stream",
     "text": [
      "deepsort output []\n",
      "in while loop\n",
      "deepsort output []\n",
      "in while loop\n",
      "deepsort output []\n",
      "in while loop\n"
     ]
    },
    {
     "name": "stderr",
     "output_type": "stream",
     "text": [
      "0: 480x640 1 bench, 49.5ms\n",
      "Speed: 7.0ms preprocess, 49.5ms inference, 2.0ms postprocess per image at shape (1, 3, 480, 640)\n",
      "\n",
      "0: 480x640 1 bench, 43.0ms\n",
      "Speed: 6.0ms preprocess, 43.0ms inference, 2.0ms postprocess per image at shape (1, 3, 480, 640)\n",
      "\n",
      "0: 480x640 1 bench, 46.0ms\n",
      "Speed: 8.0ms preprocess, 46.0ms inference, 2.0ms postprocess per image at shape (1, 3, 480, 640)\n"
     ]
    },
    {
     "name": "stdout",
     "output_type": "stream",
     "text": [
      "deepsort output []\n",
      "in while loop\n",
      "deepsort output []\n",
      "in while loop\n",
      "deepsort output []\n",
      "in while loop\n"
     ]
    },
    {
     "name": "stderr",
     "output_type": "stream",
     "text": [
      "\n",
      "0: 480x640 1 bench, 43.8ms\n",
      "Speed: 6.1ms preprocess, 43.8ms inference, 2.0ms postprocess per image at shape (1, 3, 480, 640)\n",
      "\n",
      "0: 480x640 1 bench, 62.0ms\n",
      "Speed: 5.0ms preprocess, 62.0ms inference, 2.0ms postprocess per image at shape (1, 3, 480, 640)\n",
      "\n",
      "0: 480x640 1 bench, 45.4ms\n",
      "Speed: 5.0ms preprocess, 45.4ms inference, 2.4ms postprocess per image at shape (1, 3, 480, 640)\n",
      "\n"
     ]
    },
    {
     "name": "stdout",
     "output_type": "stream",
     "text": [
      "deepsort output []\n",
      "in while loop\n",
      "deepsort output []\n",
      "in while loop\n",
      "deepsort output []\n",
      "in while loop\n"
     ]
    },
    {
     "name": "stderr",
     "output_type": "stream",
     "text": [
      "0: 480x640 1 bench, 63.6ms\n",
      "Speed: 5.1ms preprocess, 63.6ms inference, 2.0ms postprocess per image at shape (1, 3, 480, 640)\n",
      "\n",
      "0: 480x640 1 bench, 42.0ms\n",
      "Speed: 6.0ms preprocess, 42.0ms inference, 2.0ms postprocess per image at shape (1, 3, 480, 640)\n",
      "\n",
      "0: 480x640 1 bench, 63.0ms\n",
      "Speed: 5.0ms preprocess, 63.0ms inference, 2.0ms postprocess per image at shape (1, 3, 480, 640)\n",
      "\n"
     ]
    },
    {
     "name": "stdout",
     "output_type": "stream",
     "text": [
      "deepsort output []\n",
      "in while loop\n",
      "deepsort output []\n",
      "in while loop\n",
      "deepsort output []\n",
      "in while loop\n"
     ]
    },
    {
     "name": "stderr",
     "output_type": "stream",
     "text": [
      "0: 480x640 1 bench, 44.0ms\n",
      "Speed: 7.0ms preprocess, 44.0ms inference, 2.0ms postprocess per image at shape (1, 3, 480, 640)\n",
      "\n",
      "0: 480x640 1 bench, 60.0ms\n",
      "Speed: 6.0ms preprocess, 60.0ms inference, 2.0ms postprocess per image at shape (1, 3, 480, 640)\n",
      "\n",
      "0: 480x640 1 bench, 42.0ms\n"
     ]
    },
    {
     "name": "stdout",
     "output_type": "stream",
     "text": [
      "deepsort output []\n",
      "in while loop\n",
      "deepsort output []\n",
      "in while loop\n"
     ]
    },
    {
     "name": "stderr",
     "output_type": "stream",
     "text": [
      "Speed: 5.0ms preprocess, 42.0ms inference, 2.0ms postprocess per image at shape (1, 3, 480, 640)\n",
      "\n",
      "0: 480x640 1 bench, 60.0ms\n",
      "Speed: 5.0ms preprocess, 60.0ms inference, 2.0ms postprocess per image at shape (1, 3, 480, 640)\n",
      "\n",
      "0: 480x640 1 bench, 43.0ms\n",
      "Speed: 5.0ms preprocess, 43.0ms inference, 4.0ms postprocess per image at shape (1, 3, 480, 640)\n"
     ]
    },
    {
     "name": "stdout",
     "output_type": "stream",
     "text": [
      "deepsort output []\n",
      "in while loop\n",
      "deepsort output []\n",
      "in while loop\n",
      "deepsort output []\n",
      "in while loop\n"
     ]
    },
    {
     "name": "stderr",
     "output_type": "stream",
     "text": [
      "\n",
      "0: 480x640 1 bench, 64.0ms\n",
      "Speed: 5.0ms preprocess, 64.0ms inference, 2.0ms postprocess per image at shape (1, 3, 480, 640)\n",
      "\n",
      "0: 480x640 1 bench, 41.0ms\n",
      "Speed: 6.0ms preprocess, 41.0ms inference, 2.0ms postprocess per image at shape (1, 3, 480, 640)\n",
      "\n",
      "0: 480x640 1 bench, 50.0ms\n",
      "Speed: 7.0ms preprocess, 50.0ms inference, 2.0ms postprocess per image at shape (1, 3, 480, 640)\n",
      "\n"
     ]
    },
    {
     "name": "stdout",
     "output_type": "stream",
     "text": [
      "deepsort output []\n",
      "in while loop\n",
      "deepsort output []\n",
      "in while loop\n",
      "deepsort output []\n",
      "in while loop\n"
     ]
    },
    {
     "name": "stderr",
     "output_type": "stream",
     "text": [
      "0: 480x640 1 bench, 44.0ms\n",
      "Speed: 5.0ms preprocess, 44.0ms inference, 2.0ms postprocess per image at shape (1, 3, 480, 640)\n",
      "\n",
      "0: 480x640 1 bench, 61.0ms\n",
      "Speed: 6.0ms preprocess, 61.0ms inference, 2.0ms postprocess per image at shape (1, 3, 480, 640)\n",
      "\n",
      "0: 480x640 1 bench, 43.1ms\n",
      "Speed: 5.0ms preprocess, 43.1ms inference, 1.5ms postprocess per image at shape (1, 3, 480, 640)\n",
      "\n"
     ]
    },
    {
     "name": "stdout",
     "output_type": "stream",
     "text": [
      "deepsort output []\n",
      "in while loop\n",
      "deepsort output []\n",
      "in while loop\n",
      "deepsort output []\n",
      "in while loop\n"
     ]
    },
    {
     "name": "stderr",
     "output_type": "stream",
     "text": [
      "0: 480x640 1 bench, 47.9ms\n",
      "Speed: 7.0ms preprocess, 47.9ms inference, 2.0ms postprocess per image at shape (1, 3, 480, 640)\n",
      "\n",
      "0: 480x640 1 bench, 40.0ms\n",
      "Speed: 5.0ms preprocess, 40.0ms inference, 3.0ms postprocess per image at shape (1, 3, 480, 640)\n",
      "\n",
      "0: 480x640 1 bench, 60.5ms\n",
      "Speed: 5.0ms preprocess, 60.5ms inference, 2.0ms postprocess per image at shape (1, 3, 480, 640)\n",
      "\n"
     ]
    },
    {
     "name": "stdout",
     "output_type": "stream",
     "text": [
      "deepsort output []\n",
      "in while loop\n",
      "deepsort output []\n",
      "in while loop\n",
      "deepsort output []\n",
      "in while loop\n"
     ]
    },
    {
     "name": "stderr",
     "output_type": "stream",
     "text": [
      "0: 480x640 1 bench, 47.6ms\n",
      "Speed: 6.0ms preprocess, 47.6ms inference, 2.0ms postprocess per image at shape (1, 3, 480, 640)\n",
      "\n",
      "0: 480x640 1 bench, 61.5ms\n",
      "Speed: 5.0ms preprocess, 61.5ms inference, 3.0ms postprocess per image at shape (1, 3, 480, 640)\n",
      "\n",
      "0: 480x640 1 bench, 42.0ms\n",
      "Speed: 5.0ms preprocess, 42.0ms inference, 2.0ms postprocess per image at shape (1, 3, 480, 640)\n",
      "\n"
     ]
    },
    {
     "name": "stdout",
     "output_type": "stream",
     "text": [
      "deepsort output []\n",
      "in while loop\n",
      "deepsort output []\n",
      "in while loop\n",
      "deepsort output []\n",
      "in while loop\n"
     ]
    },
    {
     "name": "stderr",
     "output_type": "stream",
     "text": [
      "0: 480x640 1 bench, 63.5ms\n",
      "Speed: 5.0ms preprocess, 63.5ms inference, 2.0ms postprocess per image at shape (1, 3, 480, 640)\n",
      "\n",
      "0: 480x640 1 bench, 41.0ms\n",
      "Speed: 5.0ms preprocess, 41.0ms inference, 3.0ms postprocess per image at shape (1, 3, 480, 640)\n",
      "\n",
      "0: 480x640 1 bench, 62.7ms\n"
     ]
    },
    {
     "name": "stdout",
     "output_type": "stream",
     "text": [
      "deepsort output []\n",
      "in while loop\n",
      "deepsort output []\n",
      "in while loop\n"
     ]
    },
    {
     "name": "stderr",
     "output_type": "stream",
     "text": [
      "Speed: 6.0ms preprocess, 62.7ms inference, 2.0ms postprocess per image at shape (1, 3, 480, 640)\n",
      "\n",
      "0: 480x640 1 bench, 41.2ms\n",
      "Speed: 5.0ms preprocess, 41.2ms inference, 1.6ms postprocess per image at shape (1, 3, 480, 640)\n",
      "\n",
      "0: 480x640 1 bench, 65.4ms\n",
      "Speed: 5.6ms preprocess, 65.4ms inference, 2.0ms postprocess per image at shape (1, 3, 480, 640)\n",
      "\n"
     ]
    },
    {
     "name": "stdout",
     "output_type": "stream",
     "text": [
      "deepsort output []\n",
      "in while loop\n",
      "deepsort output []\n",
      "in while loop\n",
      "deepsort output []\n",
      "in while loop\n"
     ]
    },
    {
     "name": "stderr",
     "output_type": "stream",
     "text": [
      "0: 480x640 1 bench, 44.0ms\n",
      "Speed: 5.0ms preprocess, 44.0ms inference, 2.0ms postprocess per image at shape (1, 3, 480, 640)\n",
      "\n",
      "0: 480x640 1 bench, 57.0ms\n",
      "Speed: 6.0ms preprocess, 57.0ms inference, 2.0ms postprocess per image at shape (1, 3, 480, 640)\n",
      "\n",
      "0: 480x640 1 bench, 40.5ms\n",
      "Speed: 5.0ms preprocess, 40.5ms inference, 1.0ms postprocess per image at shape (1, 3, 480, 640)\n",
      "\n"
     ]
    },
    {
     "name": "stdout",
     "output_type": "stream",
     "text": [
      "deepsort output []\n",
      "in while loop\n",
      "deepsort output []\n",
      "in while loop\n",
      "deepsort output []\n",
      "in while loop\n"
     ]
    },
    {
     "name": "stderr",
     "output_type": "stream",
     "text": [
      "0: 480x640 1 bench, 48.0ms\n",
      "Speed: 7.0ms preprocess, 48.0ms inference, 2.0ms postprocess per image at shape (1, 3, 480, 640)\n",
      "\n",
      "0: 480x640 1 bench, 40.6ms\n",
      "Speed: 5.0ms preprocess, 40.6ms inference, 2.0ms postprocess per image at shape (1, 3, 480, 640)\n",
      "\n",
      "0: 480x640 1 bench, 59.6ms\n",
      "Speed: 5.0ms preprocess, 59.6ms inference, 2.0ms postprocess per image at shape (1, 3, 480, 640)\n",
      "\n"
     ]
    },
    {
     "name": "stdout",
     "output_type": "stream",
     "text": [
      "deepsort output []\n",
      "in while loop\n",
      "deepsort output []\n",
      "in while loop\n",
      "deepsort output []\n",
      "in while loop\n"
     ]
    },
    {
     "name": "stderr",
     "output_type": "stream",
     "text": [
      "0: 480x640 1 bench, 47.0ms\n",
      "Speed: 5.0ms preprocess, 47.0ms inference, 2.0ms postprocess per image at shape (1, 3, 480, 640)\n",
      "\n",
      "0: 480x640 1 bench, 50.0ms\n",
      "Speed: 7.0ms preprocess, 50.0ms inference, 2.0ms postprocess per image at shape (1, 3, 480, 640)\n",
      "\n",
      "0: 480x640 1 bench, 43.0ms\n",
      "Speed: 7.0ms preprocess, 43.0ms inference, 2.0ms postprocess per image at shape (1, 3, 480, 640)\n",
      "\n"
     ]
    },
    {
     "name": "stdout",
     "output_type": "stream",
     "text": [
      "deepsort output []\n",
      "in while loop\n",
      "deepsort output []\n",
      "in while loop\n",
      "deepsort output []\n",
      "in while loop\n"
     ]
    },
    {
     "name": "stderr",
     "output_type": "stream",
     "text": [
      "0: 480x640 1 bench, 62.0ms\n",
      "Speed: 5.0ms preprocess, 62.0ms inference, 2.0ms postprocess per image at shape (1, 3, 480, 640)\n",
      "\n",
      "0: 480x640 1 bench, 42.0ms\n",
      "Speed: 5.0ms preprocess, 42.0ms inference, 2.0ms postprocess per image at shape (1, 3, 480, 640)\n",
      "\n",
      "0: 480x640 1 bench, 62.4ms\n",
      "Speed: 5.0ms preprocess, 62.4ms inference, 1.0ms postprocess per image at shape (1, 3, 480, 640)\n",
      "\n"
     ]
    },
    {
     "name": "stdout",
     "output_type": "stream",
     "text": [
      "deepsort output []\n",
      "in while loop\n",
      "deepsort output []\n",
      "in while loop\n",
      "deepsort output []\n",
      "in while loop\n"
     ]
    },
    {
     "name": "stderr",
     "output_type": "stream",
     "text": [
      "0: 480x640 1 bench, 42.2ms\n",
      "Speed: 5.0ms preprocess, 42.2ms inference, 2.0ms postprocess per image at shape (1, 3, 480, 640)\n",
      "\n",
      "0: 480x640 1 bench, 63.0ms\n",
      "Speed: 6.0ms preprocess, 63.0ms inference, 2.0ms postprocess per image at shape (1, 3, 480, 640)\n",
      "\n",
      "0: 480x640 1 bench, 40.0ms\n",
      "Speed: 6.0ms preprocess, 40.0ms inference, 3.0ms postprocess per image at shape (1, 3, 480, 640)\n"
     ]
    },
    {
     "name": "stdout",
     "output_type": "stream",
     "text": [
      "deepsort output []\n",
      "in while loop\n",
      "deepsort output []\n",
      "in while loop\n",
      "deepsort output []\n",
      "in while loop\n"
     ]
    },
    {
     "name": "stderr",
     "output_type": "stream",
     "text": [
      "\n",
      "0: 480x640 1 bench, 61.5ms\n",
      "Speed: 6.0ms preprocess, 61.5ms inference, 3.0ms postprocess per image at shape (1, 3, 480, 640)\n",
      "\n",
      "0: 480x640 1 bench, 46.0ms\n",
      "Speed: 5.6ms preprocess, 46.0ms inference, 2.0ms postprocess per image at shape (1, 3, 480, 640)\n",
      "\n",
      "0: 480x640 1 bench, 64.0ms\n",
      "Speed: 5.0ms preprocess, 64.0ms inference, 2.0ms postprocess per image at shape (1, 3, 480, 640)\n",
      "\n"
     ]
    },
    {
     "name": "stdout",
     "output_type": "stream",
     "text": [
      "deepsort output []\n",
      "in while loop\n",
      "deepsort output []\n",
      "in while loop\n",
      "deepsort output []\n",
      "in while loop\n"
     ]
    },
    {
     "name": "stderr",
     "output_type": "stream",
     "text": [
      "0: 480x640 1 bench, 41.0ms\n",
      "Speed: 6.0ms preprocess, 41.0ms inference, 3.0ms postprocess per image at shape (1, 3, 480, 640)\n",
      "\n",
      "0: 480x640 1 bench, 63.0ms\n",
      "Speed: 5.0ms preprocess, 63.0ms inference, 4.0ms postprocess per image at shape (1, 3, 480, 640)\n",
      "\n",
      "0: 480x640 1 bench, 41.0ms\n",
      "Speed: 5.0ms preprocess, 41.0ms inference, 2.0ms postprocess per image at shape (1, 3, 480, 640)\n",
      "\n"
     ]
    },
    {
     "name": "stdout",
     "output_type": "stream",
     "text": [
      "deepsort output []\n",
      "in while loop\n",
      "deepsort output []\n",
      "in while loop\n",
      "deepsort output []\n",
      "in while loop\n"
     ]
    },
    {
     "name": "stderr",
     "output_type": "stream",
     "text": [
      "0: 480x640 1 bench, 65.0ms\n",
      "Speed: 6.0ms preprocess, 65.0ms inference, 4.0ms postprocess per image at shape (1, 3, 480, 640)\n",
      "\n",
      "0: 480x640 1 bench, 45.0ms\n",
      "Speed: 5.0ms preprocess, 45.0ms inference, 2.0ms postprocess per image at shape (1, 3, 480, 640)\n",
      "\n",
      "0: 480x640 1 bench, 42.0ms\n",
      "Speed: 6.0ms preprocess, 42.0ms inference, 2.0ms postprocess per image at shape (1, 3, 480, 640)\n",
      "\n"
     ]
    },
    {
     "name": "stdout",
     "output_type": "stream",
     "text": [
      "deepsort output []\n",
      "in while loop\n",
      "deepsort output []\n",
      "in while loop\n",
      "deepsort output []\n",
      "in while loop\n"
     ]
    },
    {
     "name": "stderr",
     "output_type": "stream",
     "text": [
      "0: 480x640 1 bench, 42.2ms\n",
      "Speed: 5.0ms preprocess, 42.2ms inference, 1.8ms postprocess per image at shape (1, 3, 480, 640)\n",
      "\n",
      "0: 480x640 1 bench, 59.0ms\n",
      "Speed: 6.0ms preprocess, 59.0ms inference, 1.0ms postprocess per image at shape (1, 3, 480, 640)\n",
      "\n"
     ]
    },
    {
     "name": "stdout",
     "output_type": "stream",
     "text": [
      "deepsort output []\n",
      "in while loop\n",
      "deepsort output []\n",
      "in while loop\n"
     ]
    },
    {
     "name": "stderr",
     "output_type": "stream",
     "text": [
      "0: 480x640 1 bench, 41.0ms\n",
      "Speed: 6.0ms preprocess, 41.0ms inference, 2.0ms postprocess per image at shape (1, 3, 480, 640)\n",
      "\n",
      "0: 480x640 1 bench, 64.0ms\n",
      "Speed: 5.0ms preprocess, 64.0ms inference, 4.0ms postprocess per image at shape (1, 3, 480, 640)\n",
      "\n",
      "0: 480x640 1 bench, 41.0ms\n",
      "Speed: 5.0ms preprocess, 41.0ms inference, 3.0ms postprocess per image at shape (1, 3, 480, 640)\n"
     ]
    },
    {
     "name": "stdout",
     "output_type": "stream",
     "text": [
      "deepsort output []\n",
      "in while loop\n",
      "deepsort output []\n",
      "in while loop\n",
      "deepsort output []\n",
      "in while loop\n"
     ]
    },
    {
     "name": "stderr",
     "output_type": "stream",
     "text": [
      "\n",
      "0: 480x640 1 bench, 46.0ms\n",
      "Speed: 7.0ms preprocess, 46.0ms inference, 2.0ms postprocess per image at shape (1, 3, 480, 640)\n",
      "\n",
      "0: 480x640 1 bench, 41.0ms\n",
      "Speed: 6.0ms preprocess, 41.0ms inference, 2.0ms postprocess per image at shape (1, 3, 480, 640)\n",
      "\n",
      "0: 480x640 1 bench, 60.0ms\n",
      "Speed: 5.0ms preprocess, 60.0ms inference, 2.0ms postprocess per image at shape (1, 3, 480, 640)\n",
      "\n"
     ]
    },
    {
     "name": "stdout",
     "output_type": "stream",
     "text": [
      "deepsort output []\n",
      "in while loop\n",
      "deepsort output []\n",
      "in while loop\n",
      "deepsort output []\n",
      "in while loop\n"
     ]
    },
    {
     "name": "stderr",
     "output_type": "stream",
     "text": [
      "0: 480x640 1 bench, 41.0ms\n",
      "Speed: 6.0ms preprocess, 41.0ms inference, 2.0ms postprocess per image at shape (1, 3, 480, 640)\n",
      "\n",
      "0: 480x640 1 bench, 60.0ms\n",
      "Speed: 5.0ms preprocess, 60.0ms inference, 2.0ms postprocess per image at shape (1, 3, 480, 640)\n",
      "\n",
      "0: 480x640 1 bench, 40.0ms\n",
      "Speed: 5.0ms preprocess, 40.0ms inference, 2.0ms postprocess per image at shape (1, 3, 480, 640)\n"
     ]
    },
    {
     "name": "stdout",
     "output_type": "stream",
     "text": [
      "deepsort output []\n",
      "in while loop\n",
      "deepsort output []\n",
      "in while loop\n",
      "deepsort output []\n",
      "in while loop\n"
     ]
    },
    {
     "name": "stderr",
     "output_type": "stream",
     "text": [
      "\n",
      "0: 480x640 1 bench, 61.0ms\n",
      "Speed: 6.0ms preprocess, 61.0ms inference, 3.0ms postprocess per image at shape (1, 3, 480, 640)\n",
      "\n",
      "0: 480x640 1 bench, 41.0ms\n",
      "Speed: 5.0ms preprocess, 41.0ms inference, 2.0ms postprocess per image at shape (1, 3, 480, 640)\n",
      "\n",
      "0: 480x640 1 bench, 61.0ms\n",
      "Speed: 5.0ms preprocess, 61.0ms inference, 2.0ms postprocess per image at shape (1, 3, 480, 640)\n",
      "\n"
     ]
    },
    {
     "name": "stdout",
     "output_type": "stream",
     "text": [
      "deepsort output []\n",
      "in while loop\n",
      "deepsort output []\n",
      "in while loop\n",
      "deepsort output []\n",
      "in while loop\n"
     ]
    },
    {
     "name": "stderr",
     "output_type": "stream",
     "text": [
      "0: 480x640 1 bench, 40.0ms\n",
      "Speed: 5.0ms preprocess, 40.0ms inference, 2.0ms postprocess per image at shape (1, 3, 480, 640)\n",
      "\n",
      "0: 480x640 1 bench, 48.0ms\n",
      "Speed: 7.0ms preprocess, 48.0ms inference, 2.0ms postprocess per image at shape (1, 3, 480, 640)\n",
      "\n",
      "0: 480x640 1 bench, 40.0ms\n",
      "Speed: 5.0ms preprocess, 40.0ms inference, 2.0ms postprocess per image at shape (1, 3, 480, 640)\n"
     ]
    },
    {
     "name": "stdout",
     "output_type": "stream",
     "text": [
      "deepsort output []\n",
      "in while loop\n",
      "deepsort output []\n",
      "in while loop\n",
      "deepsort output []\n",
      "in while loop\n"
     ]
    },
    {
     "name": "stderr",
     "output_type": "stream",
     "text": [
      "\n",
      "0: 480x640 1 bench, 61.0ms\n",
      "Speed: 5.0ms preprocess, 61.0ms inference, 2.0ms postprocess per image at shape (1, 3, 480, 640)\n",
      "\n",
      "0: 480x640 1 bench, 43.0ms\n",
      "Speed: 5.0ms preprocess, 43.0ms inference, 2.0ms postprocess per image at shape (1, 3, 480, 640)\n",
      "\n",
      "0: 480x640 1 bench, 53.0ms\n",
      "Speed: 6.0ms preprocess, 53.0ms inference, 2.0ms postprocess per image at shape (1, 3, 480, 640)\n",
      "\n"
     ]
    },
    {
     "name": "stdout",
     "output_type": "stream",
     "text": [
      "deepsort output []\n",
      "in while loop\n",
      "deepsort output []\n",
      "in while loop\n",
      "deepsort output []\n",
      "in while loop\n"
     ]
    },
    {
     "name": "stderr",
     "output_type": "stream",
     "text": [
      "0: 480x640 1 bench, 41.0ms\n",
      "Speed: 5.0ms preprocess, 41.0ms inference, 2.0ms postprocess per image at shape (1, 3, 480, 640)\n",
      "\n",
      "0: 480x640 1 bench, 46.0ms\n",
      "Speed: 7.0ms preprocess, 46.0ms inference, 2.0ms postprocess per image at shape (1, 3, 480, 640)\n",
      "\n",
      "0: 480x640 1 bench, 40.0ms\n",
      "Speed: 5.0ms preprocess, 40.0ms inference, 2.0ms postprocess per image at shape (1, 3, 480, 640)\n",
      "\n"
     ]
    },
    {
     "name": "stdout",
     "output_type": "stream",
     "text": [
      "deepsort output []\n",
      "in while loop\n",
      "deepsort output []\n",
      "in while loop\n",
      "deepsort output []\n",
      "in while loop\n"
     ]
    },
    {
     "name": "stderr",
     "output_type": "stream",
     "text": [
      "0: 480x640 1 bench, 64.0ms\n",
      "Speed: 5.0ms preprocess, 64.0ms inference, 2.0ms postprocess per image at shape (1, 3, 480, 640)\n",
      "\n",
      "0: 480x640 1 bench, 46.0ms\n",
      "Speed: 5.0ms preprocess, 46.0ms inference, 2.0ms postprocess per image at shape (1, 3, 480, 640)\n",
      "\n",
      "0: 480x640 1 bench, 52.0ms\n",
      "Speed: 6.0ms preprocess, 52.0ms inference, 2.0ms postprocess per image at shape (1, 3, 480, 640)\n",
      "\n"
     ]
    },
    {
     "name": "stdout",
     "output_type": "stream",
     "text": [
      "deepsort output []\n",
      "in while loop\n",
      "deepsort output []\n",
      "in while loop\n",
      "deepsort output []\n",
      "in while loop\n"
     ]
    },
    {
     "name": "stderr",
     "output_type": "stream",
     "text": [
      "0: 480x640 1 bench, 44.0ms\n",
      "Speed: 5.0ms preprocess, 44.0ms inference, 2.0ms postprocess per image at shape (1, 3, 480, 640)\n",
      "\n",
      "0: 480x640 1 bench, 61.0ms\n",
      "Speed: 5.0ms preprocess, 61.0ms inference, 1.0ms postprocess per image at shape (1, 3, 480, 640)\n",
      "\n",
      "0: 480x640 1 bench, 41.0ms\n",
      "Speed: 5.0ms preprocess, 41.0ms inference, 2.0ms postprocess per image at shape (1, 3, 480, 640)\n",
      "\n"
     ]
    },
    {
     "name": "stdout",
     "output_type": "stream",
     "text": [
      "deepsort output []\n",
      "in while loop\n",
      "deepsort output []\n",
      "in while loop\n",
      "deepsort output []\n",
      "in while loop\n"
     ]
    },
    {
     "name": "stderr",
     "output_type": "stream",
     "text": [
      "0: 480x640 1 bench, 44.0ms\n",
      "Speed: 6.0ms preprocess, 44.0ms inference, 2.0ms postprocess per image at shape (1, 3, 480, 640)\n",
      "\n",
      "0: 480x640 1 bench, 42.0ms\n",
      "Speed: 5.0ms preprocess, 42.0ms inference, 3.0ms postprocess per image at shape (1, 3, 480, 640)\n",
      "\n",
      "0: 480x640 1 bench, 59.0ms\n",
      "Speed: 6.0ms preprocess, 59.0ms inference, 2.0ms postprocess per image at shape (1, 3, 480, 640)\n",
      "\n"
     ]
    },
    {
     "name": "stdout",
     "output_type": "stream",
     "text": [
      "deepsort output []\n",
      "in while loop\n",
      "deepsort output []\n",
      "in while loop\n",
      "deepsort output []\n",
      "in while loop\n"
     ]
    },
    {
     "name": "stderr",
     "output_type": "stream",
     "text": [
      "0: 480x640 1 bench, 41.0ms\n",
      "Speed: 5.0ms preprocess, 41.0ms inference, 2.0ms postprocess per image at shape (1, 3, 480, 640)\n",
      "\n",
      "0: 480x640 1 bench, 44.0ms\n",
      "Speed: 7.0ms preprocess, 44.0ms inference, 2.0ms postprocess per image at shape (1, 3, 480, 640)\n",
      "\n",
      "0: 480x640 1 bench, 41.0ms\n",
      "Speed: 5.0ms preprocess, 41.0ms inference, 2.0ms postprocess per image at shape (1, 3, 480, 640)\n",
      "\n"
     ]
    },
    {
     "name": "stdout",
     "output_type": "stream",
     "text": [
      "deepsort output []\n",
      "in while loop\n",
      "deepsort output []\n",
      "in while loop\n",
      "deepsort output []\n",
      "in while loop\n"
     ]
    },
    {
     "name": "stderr",
     "output_type": "stream",
     "text": [
      "0: 480x640 1 bench, 60.0ms\n",
      "Speed: 6.0ms preprocess, 60.0ms inference, 2.0ms postprocess per image at shape (1, 3, 480, 640)\n",
      "\n",
      "0: 480x640 1 bench, 49.0ms\n",
      "Speed: 5.0ms preprocess, 49.0ms inference, 1.0ms postprocess per image at shape (1, 3, 480, 640)\n",
      "\n",
      "0: 480x640 1 bench, 53.0ms\n",
      "Speed: 6.0ms preprocess, 53.0ms inference, 2.0ms postprocess per image at shape (1, 3, 480, 640)\n",
      "\n"
     ]
    },
    {
     "name": "stdout",
     "output_type": "stream",
     "text": [
      "deepsort output []\n",
      "in while loop\n",
      "deepsort output []\n",
      "in while loop\n",
      "deepsort output []\n",
      "in while loop\n"
     ]
    },
    {
     "name": "stderr",
     "output_type": "stream",
     "text": [
      "0: 480x640 1 bench, 44.0ms\n",
      "Speed: 5.0ms preprocess, 44.0ms inference, 2.0ms postprocess per image at shape (1, 3, 480, 640)\n",
      "\n"
     ]
    },
    {
     "name": "stdout",
     "output_type": "stream",
     "text": [
      "deepsort output []\n",
      "in while loop\n"
     ]
    },
    {
     "name": "stderr",
     "output_type": "stream",
     "text": [
      "0: 480x640 1 bench, 53.0ms\n",
      "Speed: 6.0ms preprocess, 53.0ms inference, 2.0ms postprocess per image at shape (1, 3, 480, 640)\n",
      "\n",
      "0: 480x640 1 bench, 42.0ms\n",
      "Speed: 5.0ms preprocess, 42.0ms inference, 2.0ms postprocess per image at shape (1, 3, 480, 640)\n"
     ]
    },
    {
     "name": "stdout",
     "output_type": "stream",
     "text": [
      "deepsort output []\n",
      "in while loop\n",
      "deepsort output []\n",
      "in while loop\n"
     ]
    },
    {
     "name": "stderr",
     "output_type": "stream",
     "text": [
      "\n",
      "0: 480x640 1 bench, 65.0ms\n",
      "Speed: 6.0ms preprocess, 65.0ms inference, 2.0ms postprocess per image at shape (1, 3, 480, 640)\n",
      "\n"
     ]
    },
    {
     "name": "stdout",
     "output_type": "stream",
     "text": [
      "deepsort output []\n",
      "in while loop\n"
     ]
    },
    {
     "name": "stderr",
     "output_type": "stream",
     "text": [
      "0: 480x640 1 bench, 40.0ms\n",
      "Speed: 6.0ms preprocess, 40.0ms inference, 2.0ms postprocess per image at shape (1, 3, 480, 640)\n",
      "\n",
      "0: 480x640 1 bench, 60.0ms\n",
      "Speed: 5.0ms preprocess, 60.0ms inference, 2.0ms postprocess per image at shape (1, 3, 480, 640)\n",
      "\n"
     ]
    },
    {
     "name": "stdout",
     "output_type": "stream",
     "text": [
      "deepsort output []\n",
      "in while loop\n",
      "deepsort output []\n",
      "in while loop\n"
     ]
    },
    {
     "name": "stderr",
     "output_type": "stream",
     "text": [
      "0: 480x640 1 bench, 41.0ms\n",
      "Speed: 5.0ms preprocess, 41.0ms inference, 2.0ms postprocess per image at shape (1, 3, 480, 640)\n",
      "\n"
     ]
    },
    {
     "name": "stdout",
     "output_type": "stream",
     "text": [
      "deepsort output []\n",
      "in while loop\n"
     ]
    },
    {
     "name": "stderr",
     "output_type": "stream",
     "text": [
      "0: 480x640 1 bench, 50.0ms\n",
      "Speed: 8.0ms preprocess, 50.0ms inference, 4.0ms postprocess per image at shape (1, 3, 480, 640)\n",
      "\n",
      "0: 480x640 1 bench, 47.0ms\n"
     ]
    },
    {
     "name": "stdout",
     "output_type": "stream",
     "text": [
      "deepsort output []\n",
      "in while loop\n"
     ]
    },
    {
     "name": "stderr",
     "output_type": "stream",
     "text": [
      "Speed: 5.0ms preprocess, 47.0ms inference, 2.0ms postprocess per image at shape (1, 3, 480, 640)\n",
      "\n",
      "0: 480x640 1 bench, 43.0ms\n",
      "Speed: 7.0ms preprocess, 43.0ms inference, 3.0ms postprocess per image at shape (1, 3, 480, 640)\n",
      "\n"
     ]
    },
    {
     "name": "stdout",
     "output_type": "stream",
     "text": [
      "deepsort output []\n",
      "in while loop\n",
      "deepsort output []\n",
      "in while loop\n"
     ]
    },
    {
     "name": "stderr",
     "output_type": "stream",
     "text": [
      "0: 480x640 1 bench, 42.0ms\n",
      "Speed: 5.0ms preprocess, 42.0ms inference, 2.0ms postprocess per image at shape (1, 3, 480, 640)\n",
      "\n"
     ]
    },
    {
     "name": "stdout",
     "output_type": "stream",
     "text": [
      "deepsort output []\n",
      "in while loop\n"
     ]
    },
    {
     "name": "stderr",
     "output_type": "stream",
     "text": [
      "0: 480x640 1 bench, 61.0ms\n",
      "Speed: 5.0ms preprocess, 61.0ms inference, 2.0ms postprocess per image at shape (1, 3, 480, 640)\n",
      "\n",
      "0: 480x640 1 bench, 41.0ms\n",
      "Speed: 5.0ms preprocess, 41.0ms inference, 2.0ms postprocess per image at shape (1, 3, 480, 640)\n",
      "\n"
     ]
    },
    {
     "name": "stdout",
     "output_type": "stream",
     "text": [
      "deepsort output []\n",
      "in while loop\n",
      "deepsort output []\n",
      "in while loop\n"
     ]
    },
    {
     "name": "stderr",
     "output_type": "stream",
     "text": [
      "0: 480x640 1 bench, 55.0ms\n",
      "Speed: 8.0ms preprocess, 55.0ms inference, 2.0ms postprocess per image at shape (1, 3, 480, 640)\n",
      "\n"
     ]
    },
    {
     "name": "stdout",
     "output_type": "stream",
     "text": [
      "deepsort output []\n",
      "in while loop\n"
     ]
    },
    {
     "name": "stderr",
     "output_type": "stream",
     "text": [
      "0: 480x640 1 bench, 41.0ms\n",
      "Speed: 6.0ms preprocess, 41.0ms inference, 2.0ms postprocess per image at shape (1, 3, 480, 640)\n",
      "\n",
      "0: 480x640 1 bench, 46.4ms\n",
      "Speed: 7.0ms preprocess, 46.4ms inference, 2.0ms postprocess per image at shape (1, 3, 480, 640)\n",
      "\n"
     ]
    },
    {
     "name": "stdout",
     "output_type": "stream",
     "text": [
      "deepsort output []\n",
      "in while loop\n",
      "deepsort output []\n",
      "in while loop\n"
     ]
    },
    {
     "name": "stderr",
     "output_type": "stream",
     "text": [
      "0: 480x640 1 bench, 40.0ms\n",
      "Speed: 5.0ms preprocess, 40.0ms inference, 2.0ms postprocess per image at shape (1, 3, 480, 640)\n",
      "\n"
     ]
    },
    {
     "name": "stdout",
     "output_type": "stream",
     "text": [
      "deepsort output []\n",
      "in while loop\n"
     ]
    },
    {
     "name": "stderr",
     "output_type": "stream",
     "text": [
      "0: 480x640 1 bench, 60.0ms\n",
      "Speed: 5.0ms preprocess, 60.0ms inference, 2.0ms postprocess per image at shape (1, 3, 480, 640)\n",
      "\n",
      "0: 480x640 1 bench, 41.0ms\n",
      "Speed: 5.0ms preprocess, 41.0ms inference, 2.0ms postprocess per image at shape (1, 3, 480, 640)\n"
     ]
    },
    {
     "name": "stdout",
     "output_type": "stream",
     "text": [
      "deepsort output []\n",
      "in while loop\n",
      "deepsort output []\n",
      "in while loop\n"
     ]
    },
    {
     "name": "stderr",
     "output_type": "stream",
     "text": [
      "\n",
      "0: 480x640 1 bench, 49.0ms\n",
      "Speed: 6.0ms preprocess, 49.0ms inference, 4.0ms postprocess per image at shape (1, 3, 480, 640)\n",
      "\n"
     ]
    },
    {
     "name": "stdout",
     "output_type": "stream",
     "text": [
      "deepsort output []\n",
      "in while loop\n"
     ]
    },
    {
     "name": "stderr",
     "output_type": "stream",
     "text": [
      "0: 480x640 1 bench, 40.0ms\n",
      "Speed: 6.0ms preprocess, 40.0ms inference, 2.0ms postprocess per image at shape (1, 3, 480, 640)\n",
      "\n",
      "0: 480x640 1 bench, 62.5ms\n",
      "Speed: 5.0ms preprocess, 62.5ms inference, 2.0ms postprocess per image at shape (1, 3, 480, 640)\n"
     ]
    },
    {
     "name": "stdout",
     "output_type": "stream",
     "text": [
      "deepsort output []\n",
      "in while loop\n",
      "deepsort output []\n",
      "in while loop\n"
     ]
    },
    {
     "name": "stderr",
     "output_type": "stream",
     "text": [
      "\n",
      "0: 480x640 1 bench, 41.0ms\n",
      "Speed: 6.0ms preprocess, 41.0ms inference, 2.0ms postprocess per image at shape (1, 3, 480, 640)\n"
     ]
    },
    {
     "name": "stdout",
     "output_type": "stream",
     "text": [
      "deepsort output []\n",
      "in while loop\n"
     ]
    },
    {
     "name": "stderr",
     "output_type": "stream",
     "text": [
      "\n",
      "0: 480x640 1 bench, 61.0ms\n",
      "Speed: 6.0ms preprocess, 61.0ms inference, 2.0ms postprocess per image at shape (1, 3, 480, 640)\n",
      "\n",
      "0: 480x640 1 bench, 40.0ms\n",
      "Speed: 7.0ms preprocess, 40.0ms inference, 2.0ms postprocess per image at shape (1, 3, 480, 640)\n",
      "\n"
     ]
    },
    {
     "name": "stdout",
     "output_type": "stream",
     "text": [
      "deepsort output []\n",
      "in while loop\n",
      "deepsort output []\n",
      "in while loop\n"
     ]
    },
    {
     "name": "stderr",
     "output_type": "stream",
     "text": [
      "0: 480x640 1 bench, 63.0ms\n",
      "Speed: 6.0ms preprocess, 63.0ms inference, 2.0ms postprocess per image at shape (1, 3, 480, 640)\n"
     ]
    },
    {
     "name": "stdout",
     "output_type": "stream",
     "text": [
      "deepsort output []\n",
      "in while loop\n"
     ]
    },
    {
     "name": "stderr",
     "output_type": "stream",
     "text": [
      "\n",
      "0: 480x640 1 bench, 40.0ms\n",
      "Speed: 6.0ms preprocess, 40.0ms inference, 2.0ms postprocess per image at shape (1, 3, 480, 640)\n",
      "\n",
      "0: 480x640 1 bench, 60.0ms\n"
     ]
    },
    {
     "name": "stdout",
     "output_type": "stream",
     "text": [
      "deepsort output []\n",
      "in while loop\n"
     ]
    },
    {
     "name": "stderr",
     "output_type": "stream",
     "text": [
      "Speed: 5.0ms preprocess, 60.0ms inference, 3.0ms postprocess per image at shape (1, 3, 480, 640)\n",
      "\n",
      "0: 480x640 1 bench, 41.0ms\n",
      "Speed: 5.0ms preprocess, 41.0ms inference, 2.0ms postprocess per image at shape (1, 3, 480, 640)\n",
      "\n"
     ]
    },
    {
     "name": "stdout",
     "output_type": "stream",
     "text": [
      "deepsort output []\n",
      "in while loop\n",
      "deepsort output []\n",
      "in while loop\n"
     ]
    },
    {
     "name": "stderr",
     "output_type": "stream",
     "text": [
      "0: 480x640 1 bench, 49.0ms\n",
      "Speed: 7.0ms preprocess, 49.0ms inference, 2.0ms postprocess per image at shape (1, 3, 480, 640)\n",
      "\n"
     ]
    },
    {
     "name": "stdout",
     "output_type": "stream",
     "text": [
      "deepsort output []\n",
      "in while loop\n"
     ]
    },
    {
     "name": "stderr",
     "output_type": "stream",
     "text": [
      "0: 480x640 1 bench, 41.0ms\n",
      "Speed: 5.0ms preprocess, 41.0ms inference, 2.0ms postprocess per image at shape (1, 3, 480, 640)\n",
      "\n",
      "0: 480x640 1 bench, 60.0ms\n",
      "Speed: 5.0ms preprocess, 60.0ms inference, 2.0ms postprocess per image at shape (1, 3, 480, 640)\n",
      "\n"
     ]
    },
    {
     "name": "stdout",
     "output_type": "stream",
     "text": [
      "deepsort output []\n",
      "in while loop\n",
      "deepsort output []\n",
      "in while loop\n"
     ]
    },
    {
     "name": "stderr",
     "output_type": "stream",
     "text": [
      "0: 480x640 1 bench, 46.0ms\n",
      "Speed: 8.0ms preprocess, 46.0ms inference, 2.0ms postprocess per image at shape (1, 3, 480, 640)\n"
     ]
    },
    {
     "name": "stdout",
     "output_type": "stream",
     "text": [
      "deepsort output []\n",
      "in while loop\n"
     ]
    },
    {
     "name": "stderr",
     "output_type": "stream",
     "text": [
      "\n",
      "0: 480x640 1 bench, 63.0ms\n",
      "Speed: 7.0ms preprocess, 63.0ms inference, 2.0ms postprocess per image at shape (1, 3, 480, 640)\n",
      "\n",
      "0: 480x640 1 bench, 41.0ms\n",
      "Speed: 5.0ms preprocess, 41.0ms inference, 2.0ms postprocess per image at shape (1, 3, 480, 640)\n",
      "\n"
     ]
    },
    {
     "name": "stdout",
     "output_type": "stream",
     "text": [
      "deepsort output []\n",
      "in while loop\n",
      "deepsort output []\n",
      "in while loop\n"
     ]
    },
    {
     "name": "stderr",
     "output_type": "stream",
     "text": [
      "0: 480x640 1 bench, 61.0ms\n",
      "Speed: 8.0ms preprocess, 61.0ms inference, 2.0ms postprocess per image at shape (1, 3, 480, 640)\n",
      "\n"
     ]
    },
    {
     "name": "stdout",
     "output_type": "stream",
     "text": [
      "deepsort output []\n",
      "in while loop\n"
     ]
    },
    {
     "name": "stderr",
     "output_type": "stream",
     "text": [
      "0: 480x640 1 bench, 42.0ms\n",
      "Speed: 6.0ms preprocess, 42.0ms inference, 2.0ms postprocess per image at shape (1, 3, 480, 640)\n",
      "\n",
      "0: 480x640 1 bench, 60.0ms\n",
      "Speed: 5.0ms preprocess, 60.0ms inference, 2.0ms postprocess per image at shape (1, 3, 480, 640)\n",
      "\n"
     ]
    },
    {
     "name": "stdout",
     "output_type": "stream",
     "text": [
      "deepsort output []\n",
      "in while loop\n",
      "deepsort output []\n",
      "in while loop\n"
     ]
    },
    {
     "name": "stderr",
     "output_type": "stream",
     "text": [
      "0: 480x640 1 bench, 45.0ms\n",
      "Speed: 5.0ms preprocess, 45.0ms inference, 4.0ms postprocess per image at shape (1, 3, 480, 640)\n"
     ]
    },
    {
     "name": "stdout",
     "output_type": "stream",
     "text": [
      "deepsort output []\n",
      "in while loop\n"
     ]
    },
    {
     "name": "stderr",
     "output_type": "stream",
     "text": [
      "\n",
      "0: 480x640 1 bench, 59.3ms\n",
      "Speed: 6.0ms preprocess, 59.3ms inference, 2.0ms postprocess per image at shape (1, 3, 480, 640)\n",
      "\n",
      "0: 480x640 1 bench, 44.0ms\n",
      "Speed: 5.0ms preprocess, 44.0ms inference, 2.0ms postprocess per image at shape (1, 3, 480, 640)\n",
      "\n"
     ]
    },
    {
     "name": "stdout",
     "output_type": "stream",
     "text": [
      "deepsort output []\n",
      "in while loop\n",
      "deepsort output []\n",
      "in while loop\n"
     ]
    },
    {
     "name": "stderr",
     "output_type": "stream",
     "text": [
      "0: 480x640 1 bench, 54.0ms\n",
      "Speed: 6.0ms preprocess, 54.0ms inference, 2.0ms postprocess per image at shape (1, 3, 480, 640)\n"
     ]
    },
    {
     "name": "stdout",
     "output_type": "stream",
     "text": [
      "deepsort output []\n",
      "in while loop\n"
     ]
    },
    {
     "name": "stderr",
     "output_type": "stream",
     "text": [
      "\n",
      "0: 480x640 1 bench, 42.0ms\n",
      "Speed: 6.0ms preprocess, 42.0ms inference, 4.0ms postprocess per image at shape (1, 3, 480, 640)\n",
      "\n",
      "0: 480x640 1 bench, 61.0ms\n",
      "Speed: 5.0ms preprocess, 61.0ms inference, 1.0ms postprocess per image at shape (1, 3, 480, 640)\n",
      "\n"
     ]
    },
    {
     "name": "stdout",
     "output_type": "stream",
     "text": [
      "deepsort output []\n",
      "in while loop\n",
      "deepsort output []\n",
      "in while loop\n"
     ]
    },
    {
     "name": "stderr",
     "output_type": "stream",
     "text": [
      "0: 480x640 2 benchs, 45.1ms\n",
      "Speed: 5.0ms preprocess, 45.1ms inference, 2.0ms postprocess per image at shape (1, 3, 480, 640)\n",
      "\n",
      "0: 480x640 2 benchs, 52.5ms\n",
      "Speed: 7.0ms preprocess, 52.5ms inference, 2.0ms postprocess per image at shape (1, 3, 480, 640)\n",
      "\n",
      "0: 480x640 1 bench, 41.0ms\n",
      "Speed: 5.0ms preprocess, 41.0ms inference, 2.0ms postprocess per image at shape (1, 3, 480, 640)\n",
      "\n"
     ]
    },
    {
     "name": "stdout",
     "output_type": "stream",
     "text": [
      "deepsort output []\n",
      "in while loop\n",
      "deepsort output []\n",
      "in while loop\n",
      "deepsort output []\n",
      "in while loop\n"
     ]
    },
    {
     "name": "stderr",
     "output_type": "stream",
     "text": [
      "0: 480x640 1 bench, 48.0ms\n",
      "Speed: 6.0ms preprocess, 48.0ms inference, 2.0ms postprocess per image at shape (1, 3, 480, 640)\n",
      "\n",
      "0: 480x640 1 bench, 41.0ms\n",
      "Speed: 5.0ms preprocess, 41.0ms inference, 2.0ms postprocess per image at shape (1, 3, 480, 640)\n",
      "\n",
      "0: 480x640 1 bench, 58.0ms\n",
      "Speed: 7.0ms preprocess, 58.0ms inference, 3.0ms postprocess per image at shape (1, 3, 480, 640)\n",
      "\n"
     ]
    },
    {
     "name": "stdout",
     "output_type": "stream",
     "text": [
      "deepsort output []\n",
      "in while loop\n",
      "deepsort output []\n",
      "in while loop\n",
      "deepsort output []\n",
      "in while loop\n"
     ]
    },
    {
     "name": "stderr",
     "output_type": "stream",
     "text": [
      "0: 480x640 1 bench, 42.0ms\n",
      "Speed: 6.0ms preprocess, 42.0ms inference, 1.0ms postprocess per image at shape (1, 3, 480, 640)\n",
      "\n",
      "0: 480x640 1 bench, 58.0ms\n",
      "Speed: 7.0ms preprocess, 58.0ms inference, 3.0ms postprocess per image at shape (1, 3, 480, 640)\n",
      "\n",
      "0: 480x640 1 bench, 46.0ms\n",
      "Speed: 7.0ms preprocess, 46.0ms inference, 2.0ms postprocess per image at shape (1, 3, 480, 640)\n",
      "\n"
     ]
    },
    {
     "name": "stdout",
     "output_type": "stream",
     "text": [
      "deepsort output []\n",
      "in while loop\n",
      "deepsort output []\n",
      "in while loop\n",
      "deepsort output []\n",
      "in while loop\n"
     ]
    },
    {
     "name": "stderr",
     "output_type": "stream",
     "text": [
      "0: 480x640 1 bench, 64.0ms\n",
      "Speed: 5.0ms preprocess, 64.0ms inference, 2.0ms postprocess per image at shape (1, 3, 480, 640)\n",
      "\n",
      "0: 480x640 1 bench, 41.0ms\n",
      "Speed: 5.0ms preprocess, 41.0ms inference, 1.0ms postprocess per image at shape (1, 3, 480, 640)\n",
      "\n",
      "0: 480x640 1 bench, 62.0ms\n",
      "Speed: 5.0ms preprocess, 62.0ms inference, 2.0ms postprocess per image at shape (1, 3, 480, 640)\n",
      "\n"
     ]
    },
    {
     "name": "stdout",
     "output_type": "stream",
     "text": [
      "deepsort output []\n",
      "in while loop\n",
      "deepsort output []\n",
      "in while loop\n",
      "deepsort output []\n",
      "in while loop\n"
     ]
    },
    {
     "name": "stderr",
     "output_type": "stream",
     "text": [
      "0: 480x640 1 bench, 44.0ms\n",
      "Speed: 8.0ms preprocess, 44.0ms inference, 3.0ms postprocess per image at shape (1, 3, 480, 640)\n",
      "\n",
      "0: 480x640 1 bench, 46.0ms\n",
      "Speed: 5.0ms preprocess, 46.0ms inference, 2.0ms postprocess per image at shape (1, 3, 480, 640)\n",
      "\n",
      "0: 480x640 1 bench, 45.5ms\n",
      "Speed: 6.5ms preprocess, 45.5ms inference, 2.0ms postprocess per image at shape (1, 3, 480, 640)\n",
      "\n"
     ]
    },
    {
     "name": "stdout",
     "output_type": "stream",
     "text": [
      "deepsort output []\n",
      "in while loop\n",
      "deepsort output []\n",
      "in while loop\n",
      "deepsort output []\n",
      "in while loop\n"
     ]
    },
    {
     "name": "stderr",
     "output_type": "stream",
     "text": [
      "0: 480x640 1 bench, 42.0ms\n",
      "Speed: 5.0ms preprocess, 42.0ms inference, 2.0ms postprocess per image at shape (1, 3, 480, 640)\n",
      "\n",
      "0: 480x640 1 bench, 53.0ms\n",
      "Speed: 7.0ms preprocess, 53.0ms inference, 2.0ms postprocess per image at shape (1, 3, 480, 640)\n",
      "\n",
      "0: 480x640 1 bench, 44.0ms\n",
      "Speed: 5.0ms preprocess, 44.0ms inference, 2.0ms postprocess per image at shape (1, 3, 480, 640)\n",
      "\n"
     ]
    },
    {
     "name": "stdout",
     "output_type": "stream",
     "text": [
      "deepsort output []\n",
      "in while loop\n",
      "deepsort output []\n",
      "in while loop\n",
      "deepsort output []\n",
      "in while loop\n"
     ]
    },
    {
     "name": "stderr",
     "output_type": "stream",
     "text": [
      "0: 480x640 1 bench, 44.0ms\n",
      "Speed: 8.0ms preprocess, 44.0ms inference, 2.0ms postprocess per image at shape (1, 3, 480, 640)\n",
      "\n",
      "0: 480x640 1 bench, 41.0ms\n",
      "Speed: 6.0ms preprocess, 41.0ms inference, 2.0ms postprocess per image at shape (1, 3, 480, 640)\n",
      "\n",
      "0: 480x640 1 bench, 64.0ms\n"
     ]
    },
    {
     "name": "stdout",
     "output_type": "stream",
     "text": [
      "deepsort output []\n",
      "in while loop\n",
      "deepsort output []\n",
      "in while loop\n"
     ]
    },
    {
     "name": "stderr",
     "output_type": "stream",
     "text": [
      "Speed: 5.0ms preprocess, 64.0ms inference, 2.0ms postprocess per image at shape (1, 3, 480, 640)\n",
      "\n",
      "0: 480x640 1 bench, 47.0ms\n",
      "Speed: 5.0ms preprocess, 47.0ms inference, 2.0ms postprocess per image at shape (1, 3, 480, 640)\n",
      "\n",
      "0: 480x640 1 bench, 53.0ms\n",
      "Speed: 7.0ms preprocess, 53.0ms inference, 3.0ms postprocess per image at shape (1, 3, 480, 640)\n",
      "\n"
     ]
    },
    {
     "name": "stdout",
     "output_type": "stream",
     "text": [
      "deepsort output []\n",
      "in while loop\n",
      "deepsort output []\n",
      "in while loop\n",
      "deepsort output []\n",
      "in while loop\n"
     ]
    },
    {
     "name": "stderr",
     "output_type": "stream",
     "text": [
      "0: 480x640 1 bench, 40.0ms\n",
      "Speed: 5.0ms preprocess, 40.0ms inference, 2.0ms postprocess per image at shape (1, 3, 480, 640)\n",
      "\n",
      "0: 480x640 1 bench, 48.0ms\n",
      "Speed: 6.0ms preprocess, 48.0ms inference, 3.0ms postprocess per image at shape (1, 3, 480, 640)\n",
      "\n",
      "0: 480x640 1 bench, 41.0ms\n",
      "Speed: 6.0ms preprocess, 41.0ms inference, 2.0ms postprocess per image at shape (1, 3, 480, 640)\n",
      "\n"
     ]
    },
    {
     "name": "stdout",
     "output_type": "stream",
     "text": [
      "deepsort output []\n",
      "in while loop\n",
      "deepsort output []\n",
      "in while loop\n",
      "deepsort output []\n",
      "in while loop\n"
     ]
    },
    {
     "name": "stderr",
     "output_type": "stream",
     "text": [
      "0: 480x640 1 bench, 52.0ms\n",
      "Speed: 7.0ms preprocess, 52.0ms inference, 2.0ms postprocess per image at shape (1, 3, 480, 640)\n",
      "\n",
      "0: 480x640 1 bench, 41.0ms\n",
      "Speed: 5.0ms preprocess, 41.0ms inference, 2.0ms postprocess per image at shape (1, 3, 480, 640)\n",
      "\n",
      "0: 480x640 1 bench, 45.0ms\n",
      "Speed: 8.0ms preprocess, 45.0ms inference, 2.0ms postprocess per image at shape (1, 3, 480, 640)\n",
      "\n"
     ]
    },
    {
     "name": "stdout",
     "output_type": "stream",
     "text": [
      "deepsort output []\n",
      "in while loop\n",
      "deepsort output []\n",
      "in while loop\n",
      "deepsort output []\n",
      "in while loop\n"
     ]
    },
    {
     "name": "stderr",
     "output_type": "stream",
     "text": [
      "0: 480x640 2 benchs, 42.0ms\n",
      "Speed: 5.0ms preprocess, 42.0ms inference, 3.0ms postprocess per image at shape (1, 3, 480, 640)\n",
      "\n",
      "0: 480x640 2 benchs, 57.2ms\n",
      "Speed: 6.0ms preprocess, 57.2ms inference, 1.8ms postprocess per image at shape (1, 3, 480, 640)\n",
      "\n",
      "0: 480x640 1 bench, 41.0ms\n",
      "Speed: 5.0ms preprocess, 41.0ms inference, 2.0ms postprocess per image at shape (1, 3, 480, 640)\n",
      "\n"
     ]
    },
    {
     "name": "stdout",
     "output_type": "stream",
     "text": [
      "deepsort output []\n",
      "in while loop\n",
      "deepsort output []\n",
      "in while loop\n",
      "deepsort output []\n",
      "in while loop\n"
     ]
    },
    {
     "name": "stderr",
     "output_type": "stream",
     "text": [
      "0: 480x640 1 bench, 43.0ms\n",
      "Speed: 7.0ms preprocess, 43.0ms inference, 2.0ms postprocess per image at shape (1, 3, 480, 640)\n",
      "\n",
      "0: 480x640 1 bench, 43.0ms\n",
      "Speed: 5.0ms preprocess, 43.0ms inference, 2.0ms postprocess per image at shape (1, 3, 480, 640)\n",
      "\n",
      "0: 480x640 1 bench, 63.0ms\n",
      "Speed: 5.0ms preprocess, 63.0ms inference, 3.0ms postprocess per image at shape (1, 3, 480, 640)\n",
      "\n"
     ]
    },
    {
     "name": "stdout",
     "output_type": "stream",
     "text": [
      "deepsort output []\n",
      "in while loop\n",
      "deepsort output []\n",
      "in while loop\n",
      "deepsort output []\n",
      "in while loop\n"
     ]
    },
    {
     "name": "stderr",
     "output_type": "stream",
     "text": [
      "0: 480x640 1 bench, 48.0ms\n",
      "Speed: 8.0ms preprocess, 48.0ms inference, 2.0ms postprocess per image at shape (1, 3, 480, 640)\n",
      "\n",
      "0: 480x640 1 bench, 64.0ms\n",
      "Speed: 6.0ms preprocess, 64.0ms inference, 2.0ms postprocess per image at shape (1, 3, 480, 640)\n",
      "\n",
      "0: 480x640 1 bench, 41.0ms\n",
      "Speed: 5.0ms preprocess, 41.0ms inference, 2.0ms postprocess per image at shape (1, 3, 480, 640)\n",
      "\n"
     ]
    },
    {
     "name": "stdout",
     "output_type": "stream",
     "text": [
      "deepsort output []\n",
      "in while loop\n",
      "deepsort output []\n",
      "in while loop\n",
      "deepsort output []\n",
      "in while loop\n"
     ]
    },
    {
     "name": "stderr",
     "output_type": "stream",
     "text": [
      "0: 480x640 1 bench, 61.0ms\n",
      "Speed: 5.0ms preprocess, 61.0ms inference, 2.0ms postprocess per image at shape (1, 3, 480, 640)\n",
      "\n",
      "0: 480x640 1 bench, 41.0ms\n",
      "Speed: 5.0ms preprocess, 41.0ms inference, 2.0ms postprocess per image at shape (1, 3, 480, 640)\n",
      "\n",
      "0: 480x640 1 bench, 56.0ms\n",
      "Speed: 6.0ms preprocess, 56.0ms inference, 2.0ms postprocess per image at shape (1, 3, 480, 640)\n",
      "\n"
     ]
    },
    {
     "name": "stdout",
     "output_type": "stream",
     "text": [
      "deepsort output []\n",
      "in while loop\n",
      "deepsort output []\n",
      "in while loop\n",
      "deepsort output []\n",
      "in while loop\n"
     ]
    },
    {
     "name": "stderr",
     "output_type": "stream",
     "text": [
      "0: 480x640 1 bench, 42.0ms\n",
      "Speed: 5.0ms preprocess, 42.0ms inference, 2.0ms postprocess per image at shape (1, 3, 480, 640)\n",
      "\n",
      "0: 480x640 1 bench, 42.0ms\n",
      "Speed: 7.0ms preprocess, 42.0ms inference, 2.0ms postprocess per image at shape (1, 3, 480, 640)\n",
      "\n",
      "0: 480x640 1 bench, 41.0ms\n",
      "Speed: 5.0ms preprocess, 41.0ms inference, 2.0ms postprocess per image at shape (1, 3, 480, 640)\n",
      "\n"
     ]
    },
    {
     "name": "stdout",
     "output_type": "stream",
     "text": [
      "deepsort output []\n",
      "in while loop\n",
      "deepsort output []\n",
      "in while loop\n",
      "deepsort output []\n",
      "in while loop\n"
     ]
    },
    {
     "name": "stderr",
     "output_type": "stream",
     "text": [
      "0: 480x640 1 bench, 52.0ms\n",
      "Speed: 7.0ms preprocess, 52.0ms inference, 2.0ms postprocess per image at shape (1, 3, 480, 640)\n",
      "\n",
      "0: 480x640 1 bench, 45.0ms\n",
      "Speed: 5.0ms preprocess, 45.0ms inference, 2.0ms postprocess per image at shape (1, 3, 480, 640)\n",
      "\n",
      "0: 480x640 1 bench, 64.0ms\n",
      "Speed: 5.0ms preprocess, 64.0ms inference, 4.0ms postprocess per image at shape (1, 3, 480, 640)\n",
      "\n"
     ]
    },
    {
     "name": "stdout",
     "output_type": "stream",
     "text": [
      "deepsort output []\n",
      "in while loop\n",
      "deepsort output []\n",
      "in while loop\n",
      "deepsort output []\n",
      "in while loop\n"
     ]
    },
    {
     "name": "stderr",
     "output_type": "stream",
     "text": [
      "0: 480x640 1 bench, 44.0ms\n",
      "Speed: 6.0ms preprocess, 44.0ms inference, 2.0ms postprocess per image at shape (1, 3, 480, 640)\n",
      "\n",
      "0: 480x640 1 bench, 57.0ms\n",
      "Speed: 6.0ms preprocess, 57.0ms inference, 2.0ms postprocess per image at shape (1, 3, 480, 640)\n",
      "\n",
      "0: 480x640 2 benchs, 44.0ms\n",
      "Speed: 5.0ms preprocess, 44.0ms inference, 2.0ms postprocess per image at shape (1, 3, 480, 640)\n",
      "\n"
     ]
    },
    {
     "name": "stdout",
     "output_type": "stream",
     "text": [
      "deepsort output []\n",
      "in while loop\n",
      "deepsort output []\n",
      "in while loop\n",
      "deepsort output []\n",
      "in while loop\n"
     ]
    },
    {
     "name": "stderr",
     "output_type": "stream",
     "text": [
      "0: 480x640 2 benchs, 46.0ms\n",
      "Speed: 7.0ms preprocess, 46.0ms inference, 2.0ms postprocess per image at shape (1, 3, 480, 640)\n",
      "\n",
      "0: 480x640 1 bench, 42.0ms\n",
      "Speed: 5.0ms preprocess, 42.0ms inference, 2.0ms postprocess per image at shape (1, 3, 480, 640)\n",
      "\n",
      "0: 480x640 1 bench, 55.0ms\n",
      "Speed: 7.0ms preprocess, 55.0ms inference, 2.0ms postprocess per image at shape (1, 3, 480, 640)\n",
      "\n"
     ]
    },
    {
     "name": "stdout",
     "output_type": "stream",
     "text": [
      "deepsort output []\n",
      "in while loop\n",
      "deepsort output []\n",
      "in while loop\n",
      "deepsort output []\n",
      "in while loop\n"
     ]
    },
    {
     "name": "stderr",
     "output_type": "stream",
     "text": [
      "0: 480x640 1 bench, 41.0ms\n",
      "Speed: 6.0ms preprocess, 41.0ms inference, 2.0ms postprocess per image at shape (1, 3, 480, 640)\n",
      "\n",
      "0: 480x640 1 bench, 50.0ms\n",
      "Speed: 7.0ms preprocess, 50.0ms inference, 2.0ms postprocess per image at shape (1, 3, 480, 640)\n",
      "\n",
      "0: 480x640 1 bench, 42.0ms\n",
      "Speed: 5.0ms preprocess, 42.0ms inference, 2.0ms postprocess per image at shape (1, 3, 480, 640)\n",
      "\n"
     ]
    },
    {
     "name": "stdout",
     "output_type": "stream",
     "text": [
      "deepsort output []\n",
      "in while loop\n",
      "deepsort output []\n",
      "in while loop\n",
      "deepsort output []\n",
      "in while loop\n"
     ]
    },
    {
     "name": "stderr",
     "output_type": "stream",
     "text": [
      "0: 480x640 1 bench, 60.0ms\n",
      "Speed: 5.0ms preprocess, 60.0ms inference, 2.0ms postprocess per image at shape (1, 3, 480, 640)\n",
      "\n",
      "0: 480x640 1 bench, 41.0ms\n",
      "Speed: 5.0ms preprocess, 41.0ms inference, 2.0ms postprocess per image at shape (1, 3, 480, 640)\n",
      "\n",
      "0: 480x640 1 bench, 59.4ms\n",
      "Speed: 5.0ms preprocess, 59.4ms inference, 2.0ms postprocess per image at shape (1, 3, 480, 640)\n",
      "\n"
     ]
    },
    {
     "name": "stdout",
     "output_type": "stream",
     "text": [
      "deepsort output []\n",
      "in while loop\n",
      "deepsort output []\n",
      "in while loop\n",
      "deepsort output []\n",
      "in while loop\n"
     ]
    },
    {
     "name": "stderr",
     "output_type": "stream",
     "text": [
      "0: 480x640 1 bench, 42.0ms\n",
      "Speed: 5.0ms preprocess, 42.0ms inference, 3.0ms postprocess per image at shape (1, 3, 480, 640)\n",
      "\n",
      "0: 480x640 1 bench, 60.0ms\n",
      "Speed: 5.0ms preprocess, 60.0ms inference, 2.0ms postprocess per image at shape (1, 3, 480, 640)\n",
      "\n",
      "0: 480x640 1 bench, 41.0ms\n",
      "Speed: 5.0ms preprocess, 41.0ms inference, 2.0ms postprocess per image at shape (1, 3, 480, 640)\n"
     ]
    },
    {
     "name": "stdout",
     "output_type": "stream",
     "text": [
      "deepsort output []\n",
      "in while loop\n",
      "deepsort output []\n",
      "in while loop\n",
      "deepsort output []\n",
      "in while loop\n"
     ]
    },
    {
     "name": "stderr",
     "output_type": "stream",
     "text": [
      "\n",
      "0: 480x640 1 bench, 56.0ms\n",
      "Speed: 7.0ms preprocess, 56.0ms inference, 1.0ms postprocess per image at shape (1, 3, 480, 640)\n",
      "\n",
      "0: 480x640 1 bench, 40.0ms\n",
      "Speed: 6.0ms preprocess, 40.0ms inference, 2.0ms postprocess per image at shape (1, 3, 480, 640)\n",
      "\n",
      "0: 480x640 1 bench, 44.0ms\n",
      "Speed: 5.0ms preprocess, 44.0ms inference, 2.0ms postprocess per image at shape (1, 3, 480, 640)\n",
      "\n"
     ]
    },
    {
     "name": "stdout",
     "output_type": "stream",
     "text": [
      "deepsort output []\n",
      "in while loop\n",
      "deepsort output []\n",
      "in while loop\n",
      "deepsort output []\n",
      "in while loop\n"
     ]
    },
    {
     "name": "stderr",
     "output_type": "stream",
     "text": [
      "0: 480x640 1 bench, 41.0ms\n",
      "Speed: 6.0ms preprocess, 41.0ms inference, 4.0ms postprocess per image at shape (1, 3, 480, 640)\n",
      "\n",
      "0: 480x640 1 bench, 53.0ms\n",
      "Speed: 7.0ms preprocess, 53.0ms inference, 2.0ms postprocess per image at shape (1, 3, 480, 640)\n",
      "\n",
      "0: 480x640 2 benchs, 44.0ms\n"
     ]
    },
    {
     "name": "stdout",
     "output_type": "stream",
     "text": [
      "deepsort output []\n",
      "in while loop\n",
      "deepsort output []\n",
      "in while loop\n"
     ]
    },
    {
     "name": "stderr",
     "output_type": "stream",
     "text": [
      "Speed: 5.0ms preprocess, 44.0ms inference, 2.0ms postprocess per image at shape (1, 3, 480, 640)\n",
      "\n",
      "0: 480x640 2 benchs, 43.0ms\n",
      "Speed: 5.0ms preprocess, 43.0ms inference, 3.0ms postprocess per image at shape (1, 3, 480, 640)\n",
      "\n",
      "0: 480x640 1 bench, 42.0ms\n",
      "Speed: 5.0ms preprocess, 42.0ms inference, 2.0ms postprocess per image at shape (1, 3, 480, 640)\n",
      "\n"
     ]
    },
    {
     "name": "stdout",
     "output_type": "stream",
     "text": [
      "deepsort output []\n",
      "in while loop\n",
      "deepsort output []\n",
      "in while loop\n",
      "deepsort output []\n",
      "in while loop\n"
     ]
    },
    {
     "name": "stderr",
     "output_type": "stream",
     "text": [
      "0: 480x640 1 bench, 53.0ms\n",
      "Speed: 7.0ms preprocess, 53.0ms inference, 2.0ms postprocess per image at shape (1, 3, 480, 640)\n",
      "\n",
      "0: 480x640 1 bench, 40.0ms\n",
      "Speed: 6.0ms preprocess, 40.0ms inference, 2.0ms postprocess per image at shape (1, 3, 480, 640)\n",
      "\n",
      "0: 480x640 1 bench, 44.0ms\n",
      "Speed: 6.0ms preprocess, 44.0ms inference, 2.0ms postprocess per image at shape (1, 3, 480, 640)\n",
      "\n"
     ]
    },
    {
     "name": "stdout",
     "output_type": "stream",
     "text": [
      "deepsort output []\n",
      "in while loop\n",
      "deepsort output []\n",
      "in while loop\n",
      "deepsort output []\n",
      "in while loop\n"
     ]
    },
    {
     "name": "stderr",
     "output_type": "stream",
     "text": [
      "0: 480x640 1 bench, 41.0ms\n",
      "Speed: 6.0ms preprocess, 41.0ms inference, 2.0ms postprocess per image at shape (1, 3, 480, 640)\n",
      "\n",
      "0: 480x640 1 bench, 55.0ms\n",
      "Speed: 7.0ms preprocess, 55.0ms inference, 2.0ms postprocess per image at shape (1, 3, 480, 640)\n",
      "\n",
      "0: 480x640 1 bench, 42.0ms\n",
      "Speed: 5.0ms preprocess, 42.0ms inference, 2.0ms postprocess per image at shape (1, 3, 480, 640)\n"
     ]
    },
    {
     "name": "stdout",
     "output_type": "stream",
     "text": [
      "deepsort output []\n",
      "in while loop\n",
      "deepsort output []\n",
      "in while loop\n"
     ]
    },
    {
     "name": "stderr",
     "output_type": "stream",
     "text": [
      "\n",
      "0: 480x640 1 bench, 43.0ms\n",
      "Speed: 7.0ms preprocess, 43.0ms inference, 2.0ms postprocess per image at shape (1, 3, 480, 640)\n",
      "\n",
      "0: 480x640 1 bench, 47.0ms\n",
      "Speed: 6.0ms preprocess, 47.0ms inference, 2.0ms postprocess per image at shape (1, 3, 480, 640)\n",
      "\n"
     ]
    },
    {
     "name": "stdout",
     "output_type": "stream",
     "text": [
      "deepsort output []\n",
      "in while loop\n",
      "deepsort output []\n",
      "in while loop\n",
      "deepsort output []\n",
      "in while loop\n"
     ]
    },
    {
     "name": "stderr",
     "output_type": "stream",
     "text": [
      "0: 480x640 1 bench, 54.0ms\n",
      "Speed: 6.0ms preprocess, 54.0ms inference, 2.0ms postprocess per image at shape (1, 3, 480, 640)\n",
      "\n",
      "0: 480x640 1 bench, 41.0ms\n",
      "Speed: 6.0ms preprocess, 41.0ms inference, 3.0ms postprocess per image at shape (1, 3, 480, 640)\n",
      "\n",
      "0: 480x640 1 bench, 48.0ms\n",
      "Speed: 7.0ms preprocess, 48.0ms inference, 2.0ms postprocess per image at shape (1, 3, 480, 640)\n",
      "\n"
     ]
    },
    {
     "name": "stdout",
     "output_type": "stream",
     "text": [
      "deepsort output []\n",
      "in while loop\n",
      "deepsort output []\n",
      "in while loop\n",
      "deepsort output []\n",
      "in while loop\n"
     ]
    },
    {
     "name": "stderr",
     "output_type": "stream",
     "text": [
      "0: 480x640 2 benchs, 42.0ms\n",
      "Speed: 5.0ms preprocess, 42.0ms inference, 2.0ms postprocess per image at shape (1, 3, 480, 640)\n",
      "\n",
      "0: 480x640 2 benchs, 59.0ms\n",
      "Speed: 6.0ms preprocess, 59.0ms inference, 2.0ms postprocess per image at shape (1, 3, 480, 640)\n",
      "\n",
      "0: 480x640 1 bench, 40.0ms\n",
      "Speed: 5.0ms preprocess, 40.0ms inference, 2.0ms postprocess per image at shape (1, 3, 480, 640)\n",
      "\n"
     ]
    },
    {
     "name": "stdout",
     "output_type": "stream",
     "text": [
      "deepsort output []\n",
      "in while loop\n",
      "deepsort output []\n",
      "in while loop\n",
      "deepsort output []\n",
      "in while loop\n"
     ]
    },
    {
     "name": "stderr",
     "output_type": "stream",
     "text": [
      "0: 480x640 1 bench, 66.0ms\n",
      "Speed: 6.0ms preprocess, 66.0ms inference, 2.0ms postprocess per image at shape (1, 3, 480, 640)\n",
      "\n",
      "0: 480x640 1 bench, 42.0ms\n",
      "Speed: 6.0ms preprocess, 42.0ms inference, 2.0ms postprocess per image at shape (1, 3, 480, 640)\n",
      "\n",
      "0: 480x640 1 bench, 59.0ms\n",
      "Speed: 5.0ms preprocess, 59.0ms inference, 2.0ms postprocess per image at shape (1, 3, 480, 640)\n"
     ]
    },
    {
     "name": "stdout",
     "output_type": "stream",
     "text": [
      "deepsort output []\n",
      "in while loop\n",
      "deepsort output []\n",
      "in while loop\n",
      "deepsort output []\n",
      "in while loop\n"
     ]
    },
    {
     "name": "stderr",
     "output_type": "stream",
     "text": [
      "\n",
      "0: 480x640 1 bench, 42.0ms\n",
      "Speed: 5.0ms preprocess, 42.0ms inference, 2.0ms postprocess per image at shape (1, 3, 480, 640)\n",
      "\n",
      "0: 480x640 1 bench, 60.0ms\n",
      "Speed: 5.0ms preprocess, 60.0ms inference, 2.0ms postprocess per image at shape (1, 3, 480, 640)\n",
      "\n",
      "0: 480x640 1 bench, 42.0ms\n",
      "Speed: 5.0ms preprocess, 42.0ms inference, 2.0ms postprocess per image at shape (1, 3, 480, 640)\n",
      "\n"
     ]
    },
    {
     "name": "stdout",
     "output_type": "stream",
     "text": [
      "deepsort output []\n",
      "in while loop\n",
      "deepsort output []\n",
      "in while loop\n",
      "deepsort output []\n",
      "in while loop\n"
     ]
    },
    {
     "name": "stderr",
     "output_type": "stream",
     "text": [
      "0: 480x640 1 bench, 59.0ms\n",
      "Speed: 5.0ms preprocess, 59.0ms inference, 2.0ms postprocess per image at shape (1, 3, 480, 640)\n",
      "\n",
      "0: 480x640 1 bench, 44.0ms\n",
      "Speed: 5.0ms preprocess, 44.0ms inference, 1.0ms postprocess per image at shape (1, 3, 480, 640)\n",
      "\n",
      "0: 480x640 1 bench, 64.0ms\n",
      "Speed: 5.0ms preprocess, 64.0ms inference, 2.0ms postprocess per image at shape (1, 3, 480, 640)\n",
      "\n"
     ]
    },
    {
     "name": "stdout",
     "output_type": "stream",
     "text": [
      "deepsort output []\n",
      "in while loop\n",
      "deepsort output []\n",
      "in while loop\n",
      "deepsort output []\n",
      "in while loop\n"
     ]
    },
    {
     "name": "stderr",
     "output_type": "stream",
     "text": [
      "0: 480x640 1 bench, 46.0ms\n",
      "Speed: 5.0ms preprocess, 46.0ms inference, 2.0ms postprocess per image at shape (1, 3, 480, 640)\n",
      "\n",
      "0: 480x640 1 bench, 59.0ms\n",
      "Speed: 6.0ms preprocess, 59.0ms inference, 2.0ms postprocess per image at shape (1, 3, 480, 640)\n",
      "\n",
      "0: 480x640 1 bench, 47.0ms\n"
     ]
    },
    {
     "name": "stdout",
     "output_type": "stream",
     "text": [
      "deepsort output []\n",
      "in while loop\n",
      "deepsort output []\n",
      "in while loop\n"
     ]
    },
    {
     "name": "stderr",
     "output_type": "stream",
     "text": [
      "Speed: 5.0ms preprocess, 47.0ms inference, 4.0ms postprocess per image at shape (1, 3, 480, 640)\n",
      "\n",
      "0: 480x640 1 bench, 51.0ms\n",
      "Speed: 7.0ms preprocess, 51.0ms inference, 2.0ms postprocess per image at shape (1, 3, 480, 640)\n",
      "\n",
      "0: 480x640 1 bench, 40.0ms\n",
      "Speed: 6.0ms preprocess, 40.0ms inference, 2.0ms postprocess per image at shape (1, 3, 480, 640)\n",
      "\n"
     ]
    },
    {
     "name": "stdout",
     "output_type": "stream",
     "text": [
      "deepsort output []\n",
      "in while loop\n",
      "deepsort output []\n",
      "in while loop\n",
      "deepsort output []\n",
      "in while loop\n"
     ]
    },
    {
     "name": "stderr",
     "output_type": "stream",
     "text": [
      "0: 480x640 1 bench, 60.2ms\n",
      "Speed: 5.0ms preprocess, 60.2ms inference, 2.0ms postprocess per image at shape (1, 3, 480, 640)\n",
      "\n",
      "0: 480x640 1 bench, 41.0ms\n",
      "Speed: 5.0ms preprocess, 41.0ms inference, 2.0ms postprocess per image at shape (1, 3, 480, 640)\n",
      "\n",
      "0: 480x640 1 bench, 59.0ms\n",
      "Speed: 6.0ms preprocess, 59.0ms inference, 2.0ms postprocess per image at shape (1, 3, 480, 640)\n",
      "\n"
     ]
    },
    {
     "name": "stdout",
     "output_type": "stream",
     "text": [
      "deepsort output []\n",
      "in while loop\n",
      "deepsort output []\n",
      "in while loop\n",
      "deepsort output []\n",
      "in while loop\n"
     ]
    },
    {
     "name": "stderr",
     "output_type": "stream",
     "text": [
      "0: 480x640 1 bench, 1 chair, 43.0ms\n",
      "Speed: 6.0ms preprocess, 43.0ms inference, 2.0ms postprocess per image at shape (1, 3, 480, 640)\n",
      "\n",
      "0: 480x640 1 bench, 1 chair, 47.0ms\n",
      "Speed: 7.0ms preprocess, 47.0ms inference, 2.0ms postprocess per image at shape (1, 3, 480, 640)\n",
      "\n",
      "0: 480x640 1 bench, 41.0ms\n",
      "Speed: 5.0ms preprocess, 41.0ms inference, 2.0ms postprocess per image at shape (1, 3, 480, 640)\n",
      "\n"
     ]
    },
    {
     "name": "stdout",
     "output_type": "stream",
     "text": [
      "deepsort output []\n",
      "in while loop\n",
      "deepsort output []\n",
      "in while loop\n",
      "deepsort output []\n",
      "in while loop\n"
     ]
    },
    {
     "name": "stderr",
     "output_type": "stream",
     "text": [
      "0: 480x640 1 bench, 60.0ms\n",
      "Speed: 5.0ms preprocess, 60.0ms inference, 2.0ms postprocess per image at shape (1, 3, 480, 640)\n",
      "\n",
      "0: 480x640 1 bench, 43.0ms\n",
      "Speed: 5.0ms preprocess, 43.0ms inference, 3.0ms postprocess per image at shape (1, 3, 480, 640)\n",
      "\n",
      "0: 480x640 1 bench, 53.0ms\n",
      "Speed: 7.0ms preprocess, 53.0ms inference, 2.0ms postprocess per image at shape (1, 3, 480, 640)\n",
      "\n"
     ]
    },
    {
     "name": "stdout",
     "output_type": "stream",
     "text": [
      "deepsort output []\n",
      "in while loop\n",
      "deepsort output []\n",
      "in while loop\n",
      "deepsort output []\n",
      "in while loop\n"
     ]
    },
    {
     "name": "stderr",
     "output_type": "stream",
     "text": [
      "0: 480x640 1 bench, 43.0ms\n",
      "Speed: 5.0ms preprocess, 43.0ms inference, 2.0ms postprocess per image at shape (1, 3, 480, 640)\n",
      "\n",
      "0: 480x640 1 bench, 59.4ms\n",
      "Speed: 5.0ms preprocess, 59.4ms inference, 2.0ms postprocess per image at shape (1, 3, 480, 640)\n",
      "\n",
      "0: 480x640 1 bench, 41.0ms\n",
      "Speed: 6.0ms preprocess, 41.0ms inference, 1.0ms postprocess per image at shape (1, 3, 480, 640)\n",
      "\n"
     ]
    },
    {
     "name": "stdout",
     "output_type": "stream",
     "text": [
      "deepsort output []\n",
      "in while loop\n",
      "deepsort output []\n",
      "in while loop\n",
      "deepsort output []\n",
      "in while loop\n"
     ]
    },
    {
     "name": "stderr",
     "output_type": "stream",
     "text": [
      "0: 480x640 1 bench, 62.0ms\n",
      "Speed: 5.0ms preprocess, 62.0ms inference, 2.0ms postprocess per image at shape (1, 3, 480, 640)\n",
      "\n",
      "0: 480x640 1 bench, 42.0ms\n",
      "Speed: 5.0ms preprocess, 42.0ms inference, 2.0ms postprocess per image at shape (1, 3, 480, 640)\n"
     ]
    },
    {
     "name": "stdout",
     "output_type": "stream",
     "text": [
      "deepsort output []\n",
      "in while loop\n",
      "deepsort output []\n"
     ]
    }
   ],
   "source": [
    "from yolo_deepsort import main\n",
    "detect = main()\n",
    "detect()"
   ]
  },
  {
   "cell_type": "code",
   "execution_count": null,
   "id": "0e585fdb-ac1f-4903-b9d6-0b04c1f7d231",
   "metadata": {},
   "outputs": [],
   "source": []
  },
  {
   "cell_type": "code",
   "execution_count": null,
   "id": "838fcfbc-3c23-4199-b118-b3ad4aae06db",
   "metadata": {},
   "outputs": [],
   "source": []
  },
  {
   "cell_type": "code",
   "execution_count": null,
   "id": "d984462a-7106-4658-907f-534e62aa8a32",
   "metadata": {},
   "outputs": [],
   "source": []
  },
  {
   "cell_type": "code",
   "execution_count": null,
   "id": "ccb1273a-b828-4ad9-bd01-d91827607402",
   "metadata": {},
   "outputs": [],
   "source": []
  }
 ],
 "metadata": {
  "kernelspec": {
   "display_name": "Python 3 (ipykernel)",
   "language": "python",
   "name": "python3"
  },
  "language_info": {
   "codemirror_mode": {
    "name": "ipython",
    "version": 3
   },
   "file_extension": ".py",
   "mimetype": "text/x-python",
   "name": "python",
   "nbconvert_exporter": "python",
   "pygments_lexer": "ipython3",
   "version": "3.8.17"
  }
 },
 "nbformat": 4,
 "nbformat_minor": 5
}
