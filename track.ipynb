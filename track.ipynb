{
 "cells": [
  {
   "cell_type": "code",
   "execution_count": 1,
   "id": "29ad89f8-379f-45fe-b997-915db4e6a34f",
   "metadata": {},
   "outputs": [
    {
     "name": "stdout",
     "output_type": "stream",
     "text": [
      "after load model\n"
     ]
    },
    {
     "name": "stderr",
     "output_type": "stream",
     "text": [
      "\n",
      "0: 480x640 1 car, 415.1ms\n",
      "Speed: 11.1ms preprocess, 415.1ms inference, 45.0ms postprocess per image at shape (1, 3, 480, 640)\n",
      "\n",
      "0: 480x640 2 cars, 1 truck, 229.1ms\n",
      "Speed: 16.0ms preprocess, 229.1ms inference, 39.0ms postprocess per image at shape (1, 3, 480, 640)\n",
      "\n",
      "0: 480x640 2 cars, 1 truck, 1 kite, 216.6ms\n",
      "Speed: 10.0ms preprocess, 216.6ms inference, 40.0ms postprocess per image at shape (1, 3, 480, 640)\n",
      "\n",
      "0: 480x640 1 car, 1 truck, 217.0ms\n",
      "Speed: 23.0ms preprocess, 217.0ms inference, 39.0ms postprocess per image at shape (1, 3, 480, 640)\n",
      "\n",
      "0: 480x640 1 car, 217.0ms\n",
      "Speed: 13.0ms preprocess, 217.0ms inference, 39.0ms postprocess per image at shape (1, 3, 480, 640)\n",
      "\n",
      "0: 480x640 2 cars, 217.9ms\n",
      "Speed: 13.0ms preprocess, 217.9ms inference, 39.5ms postprocess per image at shape (1, 3, 480, 640)\n",
      "\n",
      "0: 480x640 2 cars, 217.5ms\n",
      "Speed: 13.0ms preprocess, 217.5ms inference, 40.0ms postprocess per image at shape (1, 3, 480, 640)\n",
      "\n",
      "0: 480x640 2 cars, 217.0ms\n",
      "Speed: 13.0ms preprocess, 217.0ms inference, 39.7ms postprocess per image at shape (1, 3, 480, 640)\n",
      "\n",
      "0: 480x640 2 cars, 216.6ms\n",
      "Speed: 11.0ms preprocess, 216.6ms inference, 39.0ms postprocess per image at shape (1, 3, 480, 640)\n",
      "\n",
      "0: 480x640 2 cars, 213.2ms\n",
      "Speed: 13.0ms preprocess, 213.2ms inference, 37.0ms postprocess per image at shape (1, 3, 480, 640)\n",
      "\n",
      "0: 480x640 2 cars, 213.0ms\n",
      "Speed: 11.0ms preprocess, 213.0ms inference, 38.0ms postprocess per image at shape (1, 3, 480, 640)\n",
      "\n",
      "0: 480x640 2 cars, 214.4ms\n",
      "Speed: 8.0ms preprocess, 214.4ms inference, 39.5ms postprocess per image at shape (1, 3, 480, 640)\n",
      "\n",
      "0: 480x640 1 car, 214.1ms\n",
      "Speed: 10.0ms preprocess, 214.1ms inference, 39.9ms postprocess per image at shape (1, 3, 480, 640)\n",
      "\n",
      "0: 480x640 2 cars, 213.6ms\n",
      "Speed: 8.0ms preprocess, 213.6ms inference, 39.0ms postprocess per image at shape (1, 3, 480, 640)\n",
      "\n",
      "0: 480x640 1 car, 1 train, 211.0ms\n",
      "Speed: 13.0ms preprocess, 211.0ms inference, 38.5ms postprocess per image at shape (1, 3, 480, 640)\n",
      "\n",
      "0: 480x640 2 cars, 1 train, 1 parking meter, 214.4ms\n",
      "Speed: 12.0ms preprocess, 214.4ms inference, 39.0ms postprocess per image at shape (1, 3, 480, 640)\n",
      "\n",
      "0: 480x640 2 cars, 1 train, 1 parking meter, 210.0ms\n",
      "Speed: 13.0ms preprocess, 210.0ms inference, 39.0ms postprocess per image at shape (1, 3, 480, 640)\n",
      "\n",
      "0: 480x640 2 cars, 1 train, 1 parking meter, 213.0ms\n",
      "Speed: 12.0ms preprocess, 213.0ms inference, 38.0ms postprocess per image at shape (1, 3, 480, 640)\n",
      "\n",
      "0: 480x640 2 cars, 1 train, 1 parking meter, 210.7ms\n",
      "Speed: 13.3ms preprocess, 210.7ms inference, 39.0ms postprocess per image at shape (1, 3, 480, 640)\n",
      "\n",
      "0: 480x640 2 cars, 1 train, 1 parking meter, 214.0ms\n",
      "Speed: 11.0ms preprocess, 214.0ms inference, 38.0ms postprocess per image at shape (1, 3, 480, 640)\n",
      "\n",
      "0: 480x640 2 cars, 1 train, 1 parking meter, 212.0ms\n",
      "Speed: 12.6ms preprocess, 212.0ms inference, 39.0ms postprocess per image at shape (1, 3, 480, 640)\n",
      "\n",
      "0: 480x640 2 cars, 1 train, 1 parking meter, 211.0ms\n",
      "Speed: 17.0ms preprocess, 211.0ms inference, 38.8ms postprocess per image at shape (1, 3, 480, 640)\n",
      "\n",
      "0: 480x640 3 cars, 1 train, 1 parking meter, 211.6ms\n",
      "Speed: 14.0ms preprocess, 211.6ms inference, 39.0ms postprocess per image at shape (1, 3, 480, 640)\n",
      "\n",
      "0: 480x640 3 cars, 1 train, 1 parking meter, 211.0ms\n",
      "Speed: 12.0ms preprocess, 211.0ms inference, 39.0ms postprocess per image at shape (1, 3, 480, 640)\n",
      "\n",
      "0: 480x640 2 cars, 1 train, 1 parking meter, 212.0ms\n",
      "Speed: 9.0ms preprocess, 212.0ms inference, 37.6ms postprocess per image at shape (1, 3, 480, 640)\n",
      "\n",
      "0: 480x640 3 cars, 1 train, 1 parking meter, 214.0ms\n",
      "Speed: 11.0ms preprocess, 214.0ms inference, 39.0ms postprocess per image at shape (1, 3, 480, 640)\n",
      "\n",
      "0: 480x640 3 cars, 1 train, 1 parking meter, 211.4ms\n",
      "Speed: 12.0ms preprocess, 211.4ms inference, 37.1ms postprocess per image at shape (1, 3, 480, 640)\n",
      "\n",
      "0: 480x640 2 cars, 1 train, 1 parking meter, 213.0ms\n",
      "Speed: 11.0ms preprocess, 213.0ms inference, 39.0ms postprocess per image at shape (1, 3, 480, 640)\n"
     ]
    },
    {
     "name": "stdout",
     "output_type": "stream",
     "text": [
      "all actors destroyed\n"
     ]
    }
   ],
   "source": [
    "from yolo_deepsort import main\n",
    "track = main()\n",
    "track()"
   ]
  },
  {
   "cell_type": "code",
   "execution_count": null,
   "id": "0e585fdb-ac1f-4903-b9d6-0b04c1f7d231",
   "metadata": {},
   "outputs": [],
   "source": []
  },
  {
   "cell_type": "code",
   "execution_count": null,
   "id": "838fcfbc-3c23-4199-b118-b3ad4aae06db",
   "metadata": {},
   "outputs": [],
   "source": []
  },
  {
   "cell_type": "code",
   "execution_count": null,
   "id": "d984462a-7106-4658-907f-534e62aa8a32",
   "metadata": {},
   "outputs": [],
   "source": []
  },
  {
   "cell_type": "code",
   "execution_count": null,
   "id": "ccb1273a-b828-4ad9-bd01-d91827607402",
   "metadata": {},
   "outputs": [],
   "source": []
  }
 ],
 "metadata": {
  "kernelspec": {
   "display_name": "Python 3 (ipykernel)",
   "language": "python",
   "name": "python3"
  },
  "language_info": {
   "codemirror_mode": {
    "name": "ipython",
    "version": 3
   },
   "file_extension": ".py",
   "mimetype": "text/x-python",
   "name": "python",
   "nbconvert_exporter": "python",
   "pygments_lexer": "ipython3",
   "version": "3.8.17"
  }
 },
 "nbformat": 4,
 "nbformat_minor": 5
}
