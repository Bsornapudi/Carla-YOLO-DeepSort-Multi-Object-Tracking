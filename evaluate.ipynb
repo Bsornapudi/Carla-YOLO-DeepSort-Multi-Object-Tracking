{
 "cells": [
  {
   "cell_type": "code",
   "execution_count": 1,
   "id": "728eff9d-73f5-4090-9859-e21560f71201",
   "metadata": {},
   "outputs": [
    {
     "name": "stderr",
     "output_type": "stream",
     "text": [
      "found 2 > 1 ground truth tracks for id vehicle\n",
      "found 2 > 1 ground truth tracks for id vehicle\n",
      "found 2 > 1 ground truth tracks for id vehicle\n"
     ]
    },
    {
     "name": "stdout",
     "output_type": "stream",
     "text": [
      "reading GT file\n",
      "in evaluate\n",
      "length of groundtruth in evaluate frame 2\n",
      "hypotheses_frames 1\n",
      "get hypo {'timestamp': 259.86787336692214, 'num': 1648, 'class': 'frame', 'hypotheses': [{'height': 48, 'width': 51, 'id': 'vehicle', 'y': 362, 'x': 423, 'type': 'hypothesis', 'class': 'unevaluated'}]}\n",
      "  munkres_matrix [[9223372036854775807], [9223372036854775807]]\n",
      "GT in for loop - corres {'dco': True, 'height': 43, 'width': 52, 'id': 'vehicle', 'y': 360, 'x': 422, 'type': 'groundtruth', 'class': 'unevaluated'}\n",
      "hypo hungariam mat {'height': 48, 'width': 51, 'id': 'vehicle', 'y': 362, 'x': 423, 'type': 'hypothesis', 'class': 'unevaluated'}\n",
      "------------\n",
      "rect_groundtruth (id, x,y,w,h) = (vehicle, 422.0, 360.0, 52.0, 43.0, DCO)\n",
      "rect_hypothesis (id, x,y,w,h) = (vehicle, 423.0, 362.0, 51.0, 48.0, non-DCO)\n",
      "overlap 0.8064018511376784\n",
      "------------\n",
      "mat  1.2400765184122429\n",
      "GT in for loop - corres {'dco': True, 'height': 12, 'width': 14, 'id': 'vehicle', 'y': 384, 'x': 506, 'type': 'groundtruth', 'class': 'unevaluated'}\n",
      "hypo hungariam mat {'height': 48, 'width': 51, 'id': 'vehicle', 'y': 362, 'x': 423, 'type': 'hypothesis', 'class': 'unevaluated'}\n",
      "------------\n",
      "rect_groundtruth (id, x,y,w,h) = (vehicle, 506.0, 384.0, 14.0, 12.0, DCO)\n",
      "rect_hypothesis (id, x,y,w,h) = (vehicle, 423.0, 362.0, 51.0, 48.0, non-DCO)\n",
      "overlap 0.0\n",
      "------------\n",
      "gt_index 0\n",
      "hypo_index 0\n",
      "total_overlap_ 0.0\n",
      "length of groundtruth in evaluate frame 2\n",
      "hypotheses_frames 1\n",
      "get hypo {'timestamp': 259.9178733676672, 'num': 1649, 'class': 'frame', 'hypotheses': [{'height': 41, 'width': 48, 'id': 'vehicle', 'y': 362, 'x': 423, 'type': 'hypothesis', 'class': 'unevaluated'}]}\n",
      "inside for loop\n",
      "---mapping gt_id [{'dco': True, 'height': 43, 'width': 52, 'id': 'vehicle', 'y': 360, 'x': 422, 'type': 'groundtruth', 'class': 'unevaluated'}, {'dco': True, 'height': 12, 'width': 14, 'id': 'vehicle', 'y': 384, 'x': 506, 'type': 'groundtruth', 'class': 'unevaluated'}]\n",
      "---hypothesis---- [{'height': 41, 'width': 48, 'id': 'vehicle', 'y': 362, 'x': 423, 'type': 'hypothesis', 'class': 'unevaluated'}]\n",
      "length of hypothesis 1\n",
      "overlap 0.8801431127012522\n",
      "total overlap  0.8801431127012522\n",
      "  munkres_matrix [[9223372036854775807], [9223372036854775807]]\n",
      "GT in for loop - corres {'dco': True, 'height': 43, 'width': 52, 'id': 'vehicle', 'y': 360, 'x': 422, 'type': 'groundtruth', 'class': 'unevaluated'}\n",
      "GT in for loop - corres {'dco': True, 'height': 12, 'width': 14, 'id': 'vehicle', 'y': 384, 'x': 506, 'type': 'groundtruth', 'class': 'unevaluated'}\n",
      "gt_index 1\n",
      "hypo_index 0\n",
      "length of groundtruth in evaluate frame 2\n",
      "hypotheses_frames 1\n",
      "get hypo {'timestamp': 259.96787336841226, 'num': 1650, 'class': 'frame', 'hypotheses': [{'height': 42, 'width': 48, 'id': 'vehicle', 'y': 362, 'x': 423, 'type': 'hypothesis', 'class': 'unevaluated'}]}\n",
      "inside for loop\n",
      "---mapping gt_id [{'dco': True, 'height': 43, 'width': 52, 'id': 'vehicle', 'y': 360, 'x': 422, 'type': 'groundtruth', 'class': 'unevaluated'}, {'dco': True, 'height': 12, 'width': 14, 'id': 'vehicle', 'y': 384, 'x': 506, 'type': 'groundtruth', 'class': 'unevaluated'}]\n",
      "---hypothesis---- [{'height': 42, 'width': 48, 'id': 'vehicle', 'y': 362, 'x': 423, 'type': 'hypothesis', 'class': 'unevaluated'}]\n",
      "length of hypothesis 1\n",
      "overlap 0.861646234676007\n",
      "total overlap  1.7417893473772592\n",
      "  munkres_matrix [[9223372036854775807], [9223372036854775807]]\n",
      "GT in for loop - corres {'dco': True, 'height': 43, 'width': 52, 'id': 'vehicle', 'y': 360, 'x': 422, 'type': 'groundtruth', 'class': 'unevaluated'}\n",
      "GT in for loop - corres {'dco': True, 'height': 12, 'width': 14, 'id': 'vehicle', 'y': 384, 'x': 506, 'type': 'groundtruth', 'class': 'unevaluated'}\n",
      "gt_index 1\n",
      "hypo_index 0\n",
      "length of groundtruth in evaluate frame 2\n",
      "hypotheses_frames 1\n",
      "get hypo {'timestamp': 260.0178733691573, 'num': 1651, 'class': 'frame', 'hypotheses': [{'height': 42, 'width': 49, 'id': 'vehicle', 'y': 362, 'x': 423, 'type': 'hypothesis', 'class': 'unevaluated'}, {'height': 44, 'width': 49, 'id': 'vehicle', 'y': 361, 'x': 423, 'type': 'hypothesis', 'class': 'unevaluated'}]}\n",
      "inside for loop\n",
      "---mapping gt_id [{'dco': True, 'height': 43, 'width': 52, 'id': 'vehicle', 'y': 360, 'x': 422, 'type': 'groundtruth', 'class': 'unevaluated'}, {'dco': True, 'height': 12, 'width': 14, 'id': 'vehicle', 'y': 384, 'x': 506, 'type': 'groundtruth', 'class': 'unevaluated'}]\n",
      "---hypothesis---- [{'height': 42, 'width': 49, 'id': 'vehicle', 'y': 362, 'x': 423, 'type': 'hypothesis', 'class': 'unevaluated'}, {'height': 44, 'width': 49, 'id': 'vehicle', 'y': 361, 'x': 423, 'type': 'hypothesis', 'class': 'unevaluated'}]\n",
      "length of hypothesis 2\n"
     ]
    },
    {
     "ename": "AssertionError",
     "evalue": "",
     "output_type": "error",
     "traceback": [
      "\u001b[1;31m---------------------------------------------------------------------------\u001b[0m",
      "\u001b[1;31mAssertionError\u001b[0m                            Traceback (most recent call last)",
      "Cell \u001b[1;32mIn[1], line 30\u001b[0m\n\u001b[0;32m     27\u001b[0m \u001b[38;5;66;03m# print(groundtruth)\u001b[39;00m\n\u001b[0;32m     28\u001b[0m \u001b[38;5;66;03m# Create an instance of the MOTEvaluation class with the loaded data\u001b[39;00m\n\u001b[0;32m     29\u001b[0m evaluator \u001b[38;5;241m=\u001b[39m MOTEvaluation(groundtruth, hypotheses,overlap_threshold)\n\u001b[1;32m---> 30\u001b[0m \u001b[43mevaluator\u001b[49m\u001b[38;5;241;43m.\u001b[39;49m\u001b[43mevaluate\u001b[49m\u001b[43m(\u001b[49m\u001b[43m)\u001b[49m\n\u001b[0;32m     31\u001b[0m \u001b[38;5;66;03m# Calculate metrics\u001b[39;00m\n\u001b[0;32m     34\u001b[0m mota \u001b[38;5;241m=\u001b[39m evaluator\u001b[38;5;241m.\u001b[39mgetMOTA()\n",
      "File \u001b[1;32mD:\\project_self_driving_vehicle\\gitcarla\\Carla-YOLO-DeepSort-Multi-Object-Tracking\\pymot\\pymot.py:95\u001b[0m, in \u001b[0;36mMOTEvaluation.evaluate\u001b[1;34m(self)\u001b[0m\n\u001b[0;32m     93\u001b[0m frames \u001b[38;5;241m=\u001b[39m \u001b[38;5;28mself\u001b[39m\u001b[38;5;241m.\u001b[39mgroundtruth_[\u001b[38;5;124m\"\u001b[39m\u001b[38;5;124mframes\u001b[39m\u001b[38;5;124m\"\u001b[39m]\n\u001b[0;32m     94\u001b[0m \u001b[38;5;28;01mfor\u001b[39;00m frame \u001b[38;5;129;01min\u001b[39;00m frames:\n\u001b[1;32m---> 95\u001b[0m     \u001b[38;5;28;43mself\u001b[39;49m\u001b[38;5;241;43m.\u001b[39;49m\u001b[43mevaluateFrame\u001b[49m\u001b[43m(\u001b[49m\u001b[43mframe\u001b[49m\u001b[43m)\u001b[49m\n",
      "File \u001b[1;32mD:\\project_self_driving_vehicle\\gitcarla\\Carla-YOLO-DeepSort-Multi-Object-Tracking\\pymot\\pymot.py:165\u001b[0m, in \u001b[0;36mMOTEvaluation.evaluateFrame\u001b[1;34m(self, frame)\u001b[0m\n\u001b[0;32m    163\u001b[0m \u001b[38;5;28mprint\u001b[39m(\u001b[38;5;124m\"\u001b[39m\u001b[38;5;124m---hypothesis----\u001b[39m\u001b[38;5;124m\"\u001b[39m , hypothesis)\n\u001b[0;32m    164\u001b[0m \u001b[38;5;28mprint\u001b[39m(\u001b[38;5;124m\"\u001b[39m\u001b[38;5;124mlength of hypothesis\u001b[39m\u001b[38;5;124m\"\u001b[39m , \u001b[38;5;28mlen\u001b[39m(hypothesis))\n\u001b[1;32m--> 165\u001b[0m \u001b[38;5;28;01massert\u001b[39;00m \u001b[38;5;28mlen\u001b[39m(hypothesis) \u001b[38;5;241m<\u001b[39m\u001b[38;5;241m=\u001b[39m \u001b[38;5;241m1\u001b[39m\n\u001b[0;32m    166\u001b[0m \u001b[38;5;28;01mif\u001b[39;00m \u001b[38;5;28mlen\u001b[39m(hypothesis) \u001b[38;5;241m!=\u001b[39m \u001b[38;5;241m1\u001b[39m:\n\u001b[0;32m    167\u001b[0m     \u001b[38;5;28;01mcontinue\u001b[39;00m\n",
      "\u001b[1;31mAssertionError\u001b[0m: "
     ]
    }
   ],
   "source": [
    "import json\n",
    "from pymot.pymot import MOTEvaluation\n",
    "\n",
    "total = 0 \n",
    "\n",
    "# Load ground truth data from a JSON file\n",
    "with open('gt.json', 'r') as f:\n",
    "    print('reading GT file')\n",
    "    groundtruth = json.load(f)\n",
    "    groundtruth=groundtruth[0]\n",
    "    '''\n",
    "    for frame in groundtruth['frames']:\n",
    "        new_groundtruths = frame[\"annotations\"]\n",
    "        total += len(new_groundtruths)\n",
    "        #print(\"Annotations for frame:\", new_groundtruths)\n",
    "    print(\"Total annotations:\", total)\n",
    "    '''\n",
    "\n",
    "\n",
    "# Load hypotheses data from a JSON file\n",
    "with open('yolo.json', 'r') as f:\n",
    "    hypotheses = json.load(f)\n",
    "    hypotheses=hypotheses[0]\n",
    "    # print(\"hypotheses\", hypotheses)\n",
    "    \n",
    "overlap_threshold = 0.2\n",
    "# print(groundtruth)\n",
    "# Create an instance of the MOTEvaluation class with the loaded data\n",
    "evaluator = MOTEvaluation(groundtruth, hypotheses,overlap_threshold)\n",
    "evaluator.evaluate()\n",
    "# Calculate metrics\n",
    "\n",
    "\n",
    "mota = evaluator.getMOTA()\n",
    "motp = evaluator.getMOTP()\n",
    "absolute_statistics = evaluator.getAbsoluteStatistics()\n",
    "relative_statistics = evaluator.getRelativeStatistics()"
   ]
  },
  {
   "cell_type": "code",
   "execution_count": null,
   "id": "4d4e11ac-5e83-47e9-a63a-9c9986a65315",
   "metadata": {},
   "outputs": [],
   "source": []
  }
 ],
 "metadata": {
  "kernelspec": {
   "display_name": "Python 3 (ipykernel)",
   "language": "python",
   "name": "python3"
  },
  "language_info": {
   "codemirror_mode": {
    "name": "ipython",
    "version": 3
   },
   "file_extension": ".py",
   "mimetype": "text/x-python",
   "name": "python",
   "nbconvert_exporter": "python",
   "pygments_lexer": "ipython3",
   "version": "3.8.17"
  }
 },
 "nbformat": 4,
 "nbformat_minor": 5
}
