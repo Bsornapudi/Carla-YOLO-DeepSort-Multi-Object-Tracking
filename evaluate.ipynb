{
 "cells": [
  {
   "cell_type": "code",
   "execution_count": 1,
   "id": "728eff9d-73f5-4090-9859-e21560f71201",
   "metadata": {},
   "outputs": [
    {
     "ename": "KeyError",
     "evalue": "'hypotheses'",
     "output_type": "error",
     "traceback": [
      "\u001b[1;31m---------------------------------------------------------------------------\u001b[0m",
      "\u001b[1;31mKeyError\u001b[0m                                  Traceback (most recent call last)",
      "Cell \u001b[1;32mIn[1], line 14\u001b[0m\n\u001b[0;32m     12\u001b[0m overlap_threshold \u001b[38;5;241m=\u001b[39m \u001b[38;5;241m0.5\u001b[39m\n\u001b[0;32m     13\u001b[0m \u001b[38;5;66;03m# Create an instance of the MOTEvaluation class with the loaded data\u001b[39;00m\n\u001b[1;32m---> 14\u001b[0m evaluator \u001b[38;5;241m=\u001b[39m \u001b[43mMOTEvaluation\u001b[49m\u001b[43m(\u001b[49m\u001b[43mgroundtruth\u001b[49m\u001b[43m,\u001b[49m\u001b[43m \u001b[49m\u001b[43mhypotheses\u001b[49m\u001b[43m,\u001b[49m\u001b[43moverlap_threshold\u001b[49m\u001b[43m)\u001b[49m\n\u001b[0;32m     16\u001b[0m \u001b[38;5;66;03m# Calculate metrics\u001b[39;00m\n\u001b[0;32m     17\u001b[0m mota \u001b[38;5;241m=\u001b[39m evaluator\u001b[38;5;241m.\u001b[39mgetMOTA()\n",
      "File \u001b[1;32mD:\\project_self_driving_vehicle\\gitcarla\\Carla-YOLO-DeepSort-Multi-Object-Tracking\\pymot\\pymot.py:44\u001b[0m, in \u001b[0;36mMOTEvaluation.__init__\u001b[1;34m(self, groundtruth, hypotheses, overlap_threshold)\u001b[0m\n\u001b[0;32m     40\u001b[0m \u001b[38;5;28;01mif\u001b[39;00m \u001b[38;5;28mself\u001b[39m\u001b[38;5;241m.\u001b[39mhypotheses_[\u001b[38;5;124m\"\u001b[39m\u001b[38;5;124mclass\u001b[39m\u001b[38;5;124m\"\u001b[39m] \u001b[38;5;241m!=\u001b[39m \u001b[38;5;124m\"\u001b[39m\u001b[38;5;124mvideo\u001b[39m\u001b[38;5;124m\"\u001b[39m:\n\u001b[0;32m     41\u001b[0m     \u001b[38;5;66;03m#raise Exception, \"Hypotheses is not of class \\\"video\\\"\"\u001b[39;00m\n\u001b[0;32m     42\u001b[0m     \u001b[38;5;28;01mraise\u001b[39;00m \u001b[38;5;167;01mException\u001b[39;00m(\u001b[38;5;124m\"\u001b[39m\u001b[38;5;124mHypotheses is not of class \u001b[39m\u001b[38;5;130;01m\\\"\u001b[39;00m\u001b[38;5;124mvideo\u001b[39m\u001b[38;5;130;01m\\\"\u001b[39;00m\u001b[38;5;124m\"\u001b[39m)\n\u001b[1;32m---> 44\u001b[0m \u001b[38;5;28;43mself\u001b[39;49m\u001b[38;5;241;43m.\u001b[39;49m\u001b[43mconvertIDsToString\u001b[49m\u001b[43m(\u001b[49m\u001b[43m)\u001b[49m\n\u001b[0;32m     46\u001b[0m \u001b[38;5;28mself\u001b[39m\u001b[38;5;241m.\u001b[39mresetStatistics()\n\u001b[0;32m     48\u001b[0m \u001b[38;5;66;03m# Set class and type for hypos and ground truths\u001b[39;00m\n",
      "File \u001b[1;32mD:\\project_self_driving_vehicle\\gitcarla\\Carla-YOLO-DeepSort-Multi-Object-Tracking\\pymot\\pymot.py:516\u001b[0m, in \u001b[0;36mMOTEvaluation.convertIDsToString\u001b[1;34m(self)\u001b[0m\n\u001b[0;32m    513\u001b[0m         g[\u001b[38;5;124m\"\u001b[39m\u001b[38;5;124mid\u001b[39m\u001b[38;5;124m\"\u001b[39m] \u001b[38;5;241m=\u001b[39m \u001b[38;5;28mstr\u001b[39m(g\u001b[38;5;241m.\u001b[39mget(\u001b[38;5;124m\"\u001b[39m\u001b[38;5;124mid\u001b[39m\u001b[38;5;124m\"\u001b[39m, \u001b[38;5;124m'\u001b[39m\u001b[38;5;124m__missing_id__\u001b[39m\u001b[38;5;124m'\u001b[39m))\n\u001b[0;32m    515\u001b[0m \u001b[38;5;28;01mfor\u001b[39;00m f \u001b[38;5;129;01min\u001b[39;00m \u001b[38;5;28mself\u001b[39m\u001b[38;5;241m.\u001b[39mhypotheses_[\u001b[38;5;124m\"\u001b[39m\u001b[38;5;124mframes\u001b[39m\u001b[38;5;124m\"\u001b[39m]:\n\u001b[1;32m--> 516\u001b[0m     \u001b[38;5;28;01mfor\u001b[39;00m h \u001b[38;5;129;01min\u001b[39;00m \u001b[43mf\u001b[49m\u001b[43m[\u001b[49m\u001b[38;5;124;43m\"\u001b[39;49m\u001b[38;5;124;43mhypotheses\u001b[39;49m\u001b[38;5;124;43m\"\u001b[39;49m\u001b[43m]\u001b[49m:\n\u001b[0;32m    517\u001b[0m         h[\u001b[38;5;124m\"\u001b[39m\u001b[38;5;124mid\u001b[39m\u001b[38;5;124m\"\u001b[39m] \u001b[38;5;241m=\u001b[39m \u001b[38;5;28mstr\u001b[39m(h[\u001b[38;5;124m\"\u001b[39m\u001b[38;5;124mid\u001b[39m\u001b[38;5;124m\"\u001b[39m])\n",
      "\u001b[1;31mKeyError\u001b[0m: 'hypotheses'"
     ]
    }
   ],
   "source": [
    "import json\n",
    "from pymot.pymot import MOTEvaluation\n",
    "\n",
    "# Load ground truth data from a JSON file\n",
    "with open('gt_output.json', 'r') as f:\n",
    "    groundtruth = json.load(f)\n",
    "\n",
    "# Load hypotheses data from a JSON file\n",
    "with open('yolo_output.json', 'r') as f:\n",
    "    hypotheses = json.load(f)\n",
    "    \n",
    "overlap_threshold = 0.5\n",
    "# Create an instance of the MOTEvaluation class with the loaded data\n",
    "evaluator = MOTEvaluation(groundtruth, hypotheses,overlap_threshold)\n",
    "\n",
    "# Calculate metrics\n",
    "mota = evaluator.getMOTA()\n",
    "motp = evaluator.getMOTP()\n",
    "relative_statistics = evaluator.getRelativeStatistics()\n",
    "absolute_statistics = evaluator.getAbsoluteStatistics()"
   ]
  },
  {
   "cell_type": "code",
   "execution_count": null,
   "id": "2984ffb7-2511-4259-a8c0-a5998ceb5e39",
   "metadata": {},
   "outputs": [],
   "source": []
  }
 ],
 "metadata": {
  "kernelspec": {
   "display_name": "Python 3 (ipykernel)",
   "language": "python",
   "name": "python3"
  },
  "language_info": {
   "codemirror_mode": {
    "name": "ipython",
    "version": 3
   },
   "file_extension": ".py",
   "mimetype": "text/x-python",
   "name": "python",
   "nbconvert_exporter": "python",
   "pygments_lexer": "ipython3",
   "version": "3.8.17"
  }
 },
 "nbformat": 4,
 "nbformat_minor": 5
}
